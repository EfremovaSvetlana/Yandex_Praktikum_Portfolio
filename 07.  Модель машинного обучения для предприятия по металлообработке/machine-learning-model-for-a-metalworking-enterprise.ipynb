{
 "cells": [
  {
   "cell_type": "markdown",
   "metadata": {
    "toc": true
   },
   "source": [
    "<h1>Содержание<span class=\"tocSkip\"></span></h1>\n",
    "<div class=\"toc\"><ul class=\"toc-item\"><li><span><a href=\"#Подготовка-данных\" data-toc-modified-id=\"Подготовка-данных-1\"><span class=\"toc-item-num\">1&nbsp;&nbsp;</span>Подготовка данных</a></span></li><li><span><a href=\"#Анализ-данных\" data-toc-modified-id=\"Анализ-данных-2\"><span class=\"toc-item-num\">2&nbsp;&nbsp;</span>Анализ данных</a></span></li><li><span><a href=\"#Модель\" data-toc-modified-id=\"Модель-3\"><span class=\"toc-item-num\">3&nbsp;&nbsp;</span>Модель</a></span></li></ul></div>"
   ]
  },
  {
   "cell_type": "markdown",
   "metadata": {},
   "source": [
    "# Восстановление золота из руды"
   ]
  },
  {
   "cell_type": "markdown",
   "metadata": {},
   "source": [
    "Подготовьте прототип модели машинного обучения для «Цифры». Компания разрабатывает решения для эффективной работы промышленных предприятий.\n",
    "\n",
    "Модель должна предсказать коэффициент восстановления золота из золотосодержащей руды. Используйте данные с параметрами добычи и очистки. \n",
    "\n",
    "Модель поможет оптимизировать производство, чтобы не запускать предприятие с убыточными характеристиками.\n",
    "\n",
    "Вам нужно:\n",
    "\n",
    "1. Подготовить данные;\n",
    "2. Провести исследовательский анализ данных;\n",
    "3. Построить и обучить модель.\n",
    "\n",
    "Чтобы выполнить проект, обращайтесь к библиотекам *pandas*, *matplotlib* и *sklearn.* Вам поможет их документация."
   ]
  },
  {
   "cell_type": "markdown",
   "metadata": {},
   "source": [
    "## Подготовка данных"
   ]
  },
  {
   "cell_type": "markdown",
   "metadata": {},
   "source": [
    "**1.1 Загрузка библиотек и глобальных переменных.**"
   ]
  },
  {
   "cell_type": "code",
   "execution_count": 1,
   "metadata": {},
   "outputs": [],
   "source": [
    "import pandas as pd\n",
    "import numpy as np\n",
    "import seaborn as sns\n",
    "import matplotlib.pyplot as plt\n",
    "from plotly import graph_objects as go\n",
    "\n",
    "from sklearn.model_selection import train_test_split, cross_val_score, RandomizedSearchCV\n",
    "from sklearn.pipeline import make_pipeline, Pipeline\n",
    "from sklearn.preprocessing import StandardScaler\n",
    "from sklearn.metrics import mean_absolute_error, make_scorer\n",
    "\n",
    "from sklearn.dummy import DummyRegressor\n",
    "from sklearn.tree import DecisionTreeRegressor\n",
    "from sklearn.ensemble import RandomForestRegressor\n",
    "from sklearn.linear_model import LinearRegression\n",
    "\n",
    "\n",
    "\n",
    "import warnings\n",
    "warnings.filterwarnings(\"ignore\")\n",
    "\n",
    "RANDOM_STATE = 12345"
   ]
  },
  {
   "cell_type": "markdown",
   "metadata": {},
   "source": [
    "**1.2 Пользовательские функции.**"
   ]
  },
  {
   "cell_type": "code",
   "execution_count": 2,
   "metadata": {},
   "outputs": [],
   "source": [
    "# Напишем функцию для первичной проверки данных\n",
    "\n",
    "def check_data(data_df):\n",
    "    print ('\\033[1m' + 'Изучим исходные данные'+ '\\033[0m')\n",
    "    print(data_df.info())\n",
    "    print(data_df.shape)\n",
    "        \n",
    "    missed_cells = data_df.isnull().sum().sum()/(data_df.shape[0]*(data_df.shape[1]-1))\n",
    "    missed_rows = sum(data_df.isnull().sum(axis = 1)>0)/data_df.shape[0]\n",
    "    print ('\\033[1m' + '\\nПроверка пропусков'+ '\\033[0m')\n",
    "    print ('Количество пропусков: {:.0f}'.format(data_df.isnull().sum().sum()))\n",
    "    print ('Доля пропусков: {:.1%}'.format(missed_cells)+ '\\033[0m')\n",
    "    print ('Доля строк содержащих пропуски: {:.1%}'.format(missed_rows))\n",
    "\n",
    "    ## Проверим дубликаты\n",
    "    \n",
    "    print ('\\033[1m' + '\\nПроверка на дубликаты'+ '\\033[0m')\n",
    "    print('Количество полных дубликатов: ', data_df.duplicated().sum())\n",
    "        \n",
    "    ## Посмотрим на сами данные\n",
    "    \n",
    "    print ('\\033[1m' + '\\nПервые пять строк датасета'+ '\\033[0m')\n",
    "    display(data_df.head())\n",
    "    \n",
    "    print('\\033[1m' + '\\nОписание количественных данных:'+ '\\033[0m')\n",
    "    display(data_df.describe().T)\n",
    "     \n",
    "    print('\\033[1m' + '\\nОписание категориальных данных:'+ '\\033[0m')\n",
    "    display(data_df.describe(include='object').T) \n",
    "    \n",
    "    \n",
    "    print('\\033[1m' + '\\nВывод уникальных значений по каждому категориаьному признаку:'+ '\\033[0m')    \n",
    "    df_object = data_df.select_dtypes(include='object').columns\n",
    "    \n",
    "    for i in df_object:\n",
    "        print('\\033[1m' + '_'+ str(i) + '\\033[0m')\n",
    "        display(data_df[i].value_counts())"
   ]
  },
  {
   "cell_type": "markdown",
   "metadata": {},
   "source": [
    "**1.3 Загрузим данные.**"
   ]
  },
  {
   "cell_type": "code",
   "execution_count": 3,
   "metadata": {},
   "outputs": [],
   "source": [
    "# Обучающая выборка\n",
    "\n",
    "df_train = pd.read_csv('/datasets/gold_recovery_train_new.csv')    "
   ]
  },
  {
   "cell_type": "code",
   "execution_count": 4,
   "metadata": {},
   "outputs": [
    {
     "data": {
      "text/html": [
       "<div>\n",
       "<style scoped>\n",
       "    .dataframe tbody tr th:only-of-type {\n",
       "        vertical-align: middle;\n",
       "    }\n",
       "\n",
       "    .dataframe tbody tr th {\n",
       "        vertical-align: top;\n",
       "    }\n",
       "\n",
       "    .dataframe thead th {\n",
       "        text-align: right;\n",
       "    }\n",
       "</style>\n",
       "<table border=\"1\" class=\"dataframe\">\n",
       "  <thead>\n",
       "    <tr style=\"text-align: right;\">\n",
       "      <th></th>\n",
       "      <th>date</th>\n",
       "      <th>final.output.concentrate_ag</th>\n",
       "      <th>final.output.concentrate_pb</th>\n",
       "      <th>final.output.concentrate_sol</th>\n",
       "      <th>final.output.concentrate_au</th>\n",
       "      <th>final.output.recovery</th>\n",
       "      <th>final.output.tail_ag</th>\n",
       "      <th>final.output.tail_pb</th>\n",
       "      <th>final.output.tail_sol</th>\n",
       "      <th>final.output.tail_au</th>\n",
       "      <th>...</th>\n",
       "      <th>secondary_cleaner.state.floatbank4_a_air</th>\n",
       "      <th>secondary_cleaner.state.floatbank4_a_level</th>\n",
       "      <th>secondary_cleaner.state.floatbank4_b_air</th>\n",
       "      <th>secondary_cleaner.state.floatbank4_b_level</th>\n",
       "      <th>secondary_cleaner.state.floatbank5_a_air</th>\n",
       "      <th>secondary_cleaner.state.floatbank5_a_level</th>\n",
       "      <th>secondary_cleaner.state.floatbank5_b_air</th>\n",
       "      <th>secondary_cleaner.state.floatbank5_b_level</th>\n",
       "      <th>secondary_cleaner.state.floatbank6_a_air</th>\n",
       "      <th>secondary_cleaner.state.floatbank6_a_level</th>\n",
       "    </tr>\n",
       "  </thead>\n",
       "  <tbody>\n",
       "    <tr>\n",
       "      <th>0</th>\n",
       "      <td>2016-01-15 00:00:00</td>\n",
       "      <td>6.055403</td>\n",
       "      <td>9.889648</td>\n",
       "      <td>5.507324</td>\n",
       "      <td>42.192020</td>\n",
       "      <td>70.541216</td>\n",
       "      <td>10.411962</td>\n",
       "      <td>0.895447</td>\n",
       "      <td>16.904297</td>\n",
       "      <td>2.143149</td>\n",
       "      <td>...</td>\n",
       "      <td>14.016835</td>\n",
       "      <td>-502.488007</td>\n",
       "      <td>12.099931</td>\n",
       "      <td>-504.715942</td>\n",
       "      <td>9.925633</td>\n",
       "      <td>-498.310211</td>\n",
       "      <td>8.079666</td>\n",
       "      <td>-500.470978</td>\n",
       "      <td>14.151341</td>\n",
       "      <td>-605.841980</td>\n",
       "    </tr>\n",
       "    <tr>\n",
       "      <th>1</th>\n",
       "      <td>2016-01-15 01:00:00</td>\n",
       "      <td>6.029369</td>\n",
       "      <td>9.968944</td>\n",
       "      <td>5.257781</td>\n",
       "      <td>42.701629</td>\n",
       "      <td>69.266198</td>\n",
       "      <td>10.462676</td>\n",
       "      <td>0.927452</td>\n",
       "      <td>16.634514</td>\n",
       "      <td>2.224930</td>\n",
       "      <td>...</td>\n",
       "      <td>13.992281</td>\n",
       "      <td>-505.503262</td>\n",
       "      <td>11.950531</td>\n",
       "      <td>-501.331529</td>\n",
       "      <td>10.039245</td>\n",
       "      <td>-500.169983</td>\n",
       "      <td>7.984757</td>\n",
       "      <td>-500.582168</td>\n",
       "      <td>13.998353</td>\n",
       "      <td>-599.787184</td>\n",
       "    </tr>\n",
       "    <tr>\n",
       "      <th>2</th>\n",
       "      <td>2016-01-15 02:00:00</td>\n",
       "      <td>6.055926</td>\n",
       "      <td>10.213995</td>\n",
       "      <td>5.383759</td>\n",
       "      <td>42.657501</td>\n",
       "      <td>68.116445</td>\n",
       "      <td>10.507046</td>\n",
       "      <td>0.953716</td>\n",
       "      <td>16.208849</td>\n",
       "      <td>2.257889</td>\n",
       "      <td>...</td>\n",
       "      <td>14.015015</td>\n",
       "      <td>-502.520901</td>\n",
       "      <td>11.912783</td>\n",
       "      <td>-501.133383</td>\n",
       "      <td>10.070913</td>\n",
       "      <td>-500.129135</td>\n",
       "      <td>8.013877</td>\n",
       "      <td>-500.517572</td>\n",
       "      <td>14.028663</td>\n",
       "      <td>-601.427363</td>\n",
       "    </tr>\n",
       "    <tr>\n",
       "      <th>3</th>\n",
       "      <td>2016-01-15 03:00:00</td>\n",
       "      <td>6.047977</td>\n",
       "      <td>9.977019</td>\n",
       "      <td>4.858634</td>\n",
       "      <td>42.689819</td>\n",
       "      <td>68.347543</td>\n",
       "      <td>10.422762</td>\n",
       "      <td>0.883763</td>\n",
       "      <td>16.532835</td>\n",
       "      <td>2.146849</td>\n",
       "      <td>...</td>\n",
       "      <td>14.036510</td>\n",
       "      <td>-500.857308</td>\n",
       "      <td>11.999550</td>\n",
       "      <td>-501.193686</td>\n",
       "      <td>9.970366</td>\n",
       "      <td>-499.201640</td>\n",
       "      <td>7.977324</td>\n",
       "      <td>-500.255908</td>\n",
       "      <td>14.005551</td>\n",
       "      <td>-599.996129</td>\n",
       "    </tr>\n",
       "    <tr>\n",
       "      <th>4</th>\n",
       "      <td>2016-01-15 04:00:00</td>\n",
       "      <td>6.148599</td>\n",
       "      <td>10.142511</td>\n",
       "      <td>4.939416</td>\n",
       "      <td>42.774141</td>\n",
       "      <td>66.927016</td>\n",
       "      <td>10.360302</td>\n",
       "      <td>0.792826</td>\n",
       "      <td>16.525686</td>\n",
       "      <td>2.055292</td>\n",
       "      <td>...</td>\n",
       "      <td>14.027298</td>\n",
       "      <td>-499.838632</td>\n",
       "      <td>11.953070</td>\n",
       "      <td>-501.053894</td>\n",
       "      <td>9.925709</td>\n",
       "      <td>-501.686727</td>\n",
       "      <td>7.894242</td>\n",
       "      <td>-500.356035</td>\n",
       "      <td>13.996647</td>\n",
       "      <td>-601.496691</td>\n",
       "    </tr>\n",
       "    <tr>\n",
       "      <th>...</th>\n",
       "      <td>...</td>\n",
       "      <td>...</td>\n",
       "      <td>...</td>\n",
       "      <td>...</td>\n",
       "      <td>...</td>\n",
       "      <td>...</td>\n",
       "      <td>...</td>\n",
       "      <td>...</td>\n",
       "      <td>...</td>\n",
       "      <td>...</td>\n",
       "      <td>...</td>\n",
       "      <td>...</td>\n",
       "      <td>...</td>\n",
       "      <td>...</td>\n",
       "      <td>...</td>\n",
       "      <td>...</td>\n",
       "      <td>...</td>\n",
       "      <td>...</td>\n",
       "      <td>...</td>\n",
       "      <td>...</td>\n",
       "      <td>...</td>\n",
       "    </tr>\n",
       "    <tr>\n",
       "      <th>14144</th>\n",
       "      <td>2018-08-18 06:59:59</td>\n",
       "      <td>3.224920</td>\n",
       "      <td>11.356233</td>\n",
       "      <td>6.803482</td>\n",
       "      <td>46.713954</td>\n",
       "      <td>73.755150</td>\n",
       "      <td>8.769645</td>\n",
       "      <td>3.141541</td>\n",
       "      <td>10.403181</td>\n",
       "      <td>1.529220</td>\n",
       "      <td>...</td>\n",
       "      <td>23.031497</td>\n",
       "      <td>-501.167942</td>\n",
       "      <td>20.007571</td>\n",
       "      <td>-499.740028</td>\n",
       "      <td>18.006038</td>\n",
       "      <td>-499.834374</td>\n",
       "      <td>13.001114</td>\n",
       "      <td>-500.155694</td>\n",
       "      <td>20.007840</td>\n",
       "      <td>-501.296428</td>\n",
       "    </tr>\n",
       "    <tr>\n",
       "      <th>14145</th>\n",
       "      <td>2018-08-18 07:59:59</td>\n",
       "      <td>3.195978</td>\n",
       "      <td>11.349355</td>\n",
       "      <td>6.862249</td>\n",
       "      <td>46.866780</td>\n",
       "      <td>69.049291</td>\n",
       "      <td>8.897321</td>\n",
       "      <td>3.130493</td>\n",
       "      <td>10.549470</td>\n",
       "      <td>1.612542</td>\n",
       "      <td>...</td>\n",
       "      <td>22.960095</td>\n",
       "      <td>-501.612783</td>\n",
       "      <td>20.035660</td>\n",
       "      <td>-500.251357</td>\n",
       "      <td>17.998535</td>\n",
       "      <td>-500.395178</td>\n",
       "      <td>12.954048</td>\n",
       "      <td>-499.895163</td>\n",
       "      <td>19.968498</td>\n",
       "      <td>-501.041608</td>\n",
       "    </tr>\n",
       "    <tr>\n",
       "      <th>14146</th>\n",
       "      <td>2018-08-18 08:59:59</td>\n",
       "      <td>3.109998</td>\n",
       "      <td>11.434366</td>\n",
       "      <td>6.886013</td>\n",
       "      <td>46.795691</td>\n",
       "      <td>67.002189</td>\n",
       "      <td>8.529606</td>\n",
       "      <td>2.911418</td>\n",
       "      <td>11.115147</td>\n",
       "      <td>1.596616</td>\n",
       "      <td>...</td>\n",
       "      <td>23.015718</td>\n",
       "      <td>-501.711599</td>\n",
       "      <td>19.951231</td>\n",
       "      <td>-499.857027</td>\n",
       "      <td>18.019543</td>\n",
       "      <td>-500.451156</td>\n",
       "      <td>13.023431</td>\n",
       "      <td>-499.914391</td>\n",
       "      <td>19.990885</td>\n",
       "      <td>-501.518452</td>\n",
       "    </tr>\n",
       "    <tr>\n",
       "      <th>14147</th>\n",
       "      <td>2018-08-18 09:59:59</td>\n",
       "      <td>3.367241</td>\n",
       "      <td>11.625587</td>\n",
       "      <td>6.799433</td>\n",
       "      <td>46.408188</td>\n",
       "      <td>65.523246</td>\n",
       "      <td>8.777171</td>\n",
       "      <td>2.819214</td>\n",
       "      <td>10.463847</td>\n",
       "      <td>1.602879</td>\n",
       "      <td>...</td>\n",
       "      <td>23.024963</td>\n",
       "      <td>-501.153409</td>\n",
       "      <td>20.054122</td>\n",
       "      <td>-500.314711</td>\n",
       "      <td>17.979515</td>\n",
       "      <td>-499.272871</td>\n",
       "      <td>12.992404</td>\n",
       "      <td>-499.976268</td>\n",
       "      <td>20.013986</td>\n",
       "      <td>-500.625471</td>\n",
       "    </tr>\n",
       "    <tr>\n",
       "      <th>14148</th>\n",
       "      <td>2018-08-18 10:59:59</td>\n",
       "      <td>3.598375</td>\n",
       "      <td>11.737832</td>\n",
       "      <td>6.717509</td>\n",
       "      <td>46.299438</td>\n",
       "      <td>70.281454</td>\n",
       "      <td>8.406690</td>\n",
       "      <td>2.517518</td>\n",
       "      <td>10.652193</td>\n",
       "      <td>1.389434</td>\n",
       "      <td>...</td>\n",
       "      <td>23.018622</td>\n",
       "      <td>-500.492702</td>\n",
       "      <td>20.020205</td>\n",
       "      <td>-500.220296</td>\n",
       "      <td>17.963512</td>\n",
       "      <td>-499.939490</td>\n",
       "      <td>12.990306</td>\n",
       "      <td>-500.080993</td>\n",
       "      <td>19.990336</td>\n",
       "      <td>-499.191575</td>\n",
       "    </tr>\n",
       "  </tbody>\n",
       "</table>\n",
       "<p>14149 rows × 87 columns</p>\n",
       "</div>"
      ],
      "text/plain": [
       "                      date  final.output.concentrate_ag  \\\n",
       "0      2016-01-15 00:00:00                     6.055403   \n",
       "1      2016-01-15 01:00:00                     6.029369   \n",
       "2      2016-01-15 02:00:00                     6.055926   \n",
       "3      2016-01-15 03:00:00                     6.047977   \n",
       "4      2016-01-15 04:00:00                     6.148599   \n",
       "...                    ...                          ...   \n",
       "14144  2018-08-18 06:59:59                     3.224920   \n",
       "14145  2018-08-18 07:59:59                     3.195978   \n",
       "14146  2018-08-18 08:59:59                     3.109998   \n",
       "14147  2018-08-18 09:59:59                     3.367241   \n",
       "14148  2018-08-18 10:59:59                     3.598375   \n",
       "\n",
       "       final.output.concentrate_pb  final.output.concentrate_sol  \\\n",
       "0                         9.889648                      5.507324   \n",
       "1                         9.968944                      5.257781   \n",
       "2                        10.213995                      5.383759   \n",
       "3                         9.977019                      4.858634   \n",
       "4                        10.142511                      4.939416   \n",
       "...                            ...                           ...   \n",
       "14144                    11.356233                      6.803482   \n",
       "14145                    11.349355                      6.862249   \n",
       "14146                    11.434366                      6.886013   \n",
       "14147                    11.625587                      6.799433   \n",
       "14148                    11.737832                      6.717509   \n",
       "\n",
       "       final.output.concentrate_au  final.output.recovery  \\\n",
       "0                        42.192020              70.541216   \n",
       "1                        42.701629              69.266198   \n",
       "2                        42.657501              68.116445   \n",
       "3                        42.689819              68.347543   \n",
       "4                        42.774141              66.927016   \n",
       "...                            ...                    ...   \n",
       "14144                    46.713954              73.755150   \n",
       "14145                    46.866780              69.049291   \n",
       "14146                    46.795691              67.002189   \n",
       "14147                    46.408188              65.523246   \n",
       "14148                    46.299438              70.281454   \n",
       "\n",
       "       final.output.tail_ag  final.output.tail_pb  final.output.tail_sol  \\\n",
       "0                 10.411962              0.895447              16.904297   \n",
       "1                 10.462676              0.927452              16.634514   \n",
       "2                 10.507046              0.953716              16.208849   \n",
       "3                 10.422762              0.883763              16.532835   \n",
       "4                 10.360302              0.792826              16.525686   \n",
       "...                     ...                   ...                    ...   \n",
       "14144              8.769645              3.141541              10.403181   \n",
       "14145              8.897321              3.130493              10.549470   \n",
       "14146              8.529606              2.911418              11.115147   \n",
       "14147              8.777171              2.819214              10.463847   \n",
       "14148              8.406690              2.517518              10.652193   \n",
       "\n",
       "       final.output.tail_au  ...  secondary_cleaner.state.floatbank4_a_air  \\\n",
       "0                  2.143149  ...                                 14.016835   \n",
       "1                  2.224930  ...                                 13.992281   \n",
       "2                  2.257889  ...                                 14.015015   \n",
       "3                  2.146849  ...                                 14.036510   \n",
       "4                  2.055292  ...                                 14.027298   \n",
       "...                     ...  ...                                       ...   \n",
       "14144              1.529220  ...                                 23.031497   \n",
       "14145              1.612542  ...                                 22.960095   \n",
       "14146              1.596616  ...                                 23.015718   \n",
       "14147              1.602879  ...                                 23.024963   \n",
       "14148              1.389434  ...                                 23.018622   \n",
       "\n",
       "       secondary_cleaner.state.floatbank4_a_level  \\\n",
       "0                                     -502.488007   \n",
       "1                                     -505.503262   \n",
       "2                                     -502.520901   \n",
       "3                                     -500.857308   \n",
       "4                                     -499.838632   \n",
       "...                                           ...   \n",
       "14144                                 -501.167942   \n",
       "14145                                 -501.612783   \n",
       "14146                                 -501.711599   \n",
       "14147                                 -501.153409   \n",
       "14148                                 -500.492702   \n",
       "\n",
       "       secondary_cleaner.state.floatbank4_b_air  \\\n",
       "0                                     12.099931   \n",
       "1                                     11.950531   \n",
       "2                                     11.912783   \n",
       "3                                     11.999550   \n",
       "4                                     11.953070   \n",
       "...                                         ...   \n",
       "14144                                 20.007571   \n",
       "14145                                 20.035660   \n",
       "14146                                 19.951231   \n",
       "14147                                 20.054122   \n",
       "14148                                 20.020205   \n",
       "\n",
       "       secondary_cleaner.state.floatbank4_b_level  \\\n",
       "0                                     -504.715942   \n",
       "1                                     -501.331529   \n",
       "2                                     -501.133383   \n",
       "3                                     -501.193686   \n",
       "4                                     -501.053894   \n",
       "...                                           ...   \n",
       "14144                                 -499.740028   \n",
       "14145                                 -500.251357   \n",
       "14146                                 -499.857027   \n",
       "14147                                 -500.314711   \n",
       "14148                                 -500.220296   \n",
       "\n",
       "       secondary_cleaner.state.floatbank5_a_air  \\\n",
       "0                                      9.925633   \n",
       "1                                     10.039245   \n",
       "2                                     10.070913   \n",
       "3                                      9.970366   \n",
       "4                                      9.925709   \n",
       "...                                         ...   \n",
       "14144                                 18.006038   \n",
       "14145                                 17.998535   \n",
       "14146                                 18.019543   \n",
       "14147                                 17.979515   \n",
       "14148                                 17.963512   \n",
       "\n",
       "       secondary_cleaner.state.floatbank5_a_level  \\\n",
       "0                                     -498.310211   \n",
       "1                                     -500.169983   \n",
       "2                                     -500.129135   \n",
       "3                                     -499.201640   \n",
       "4                                     -501.686727   \n",
       "...                                           ...   \n",
       "14144                                 -499.834374   \n",
       "14145                                 -500.395178   \n",
       "14146                                 -500.451156   \n",
       "14147                                 -499.272871   \n",
       "14148                                 -499.939490   \n",
       "\n",
       "       secondary_cleaner.state.floatbank5_b_air  \\\n",
       "0                                      8.079666   \n",
       "1                                      7.984757   \n",
       "2                                      8.013877   \n",
       "3                                      7.977324   \n",
       "4                                      7.894242   \n",
       "...                                         ...   \n",
       "14144                                 13.001114   \n",
       "14145                                 12.954048   \n",
       "14146                                 13.023431   \n",
       "14147                                 12.992404   \n",
       "14148                                 12.990306   \n",
       "\n",
       "       secondary_cleaner.state.floatbank5_b_level  \\\n",
       "0                                     -500.470978   \n",
       "1                                     -500.582168   \n",
       "2                                     -500.517572   \n",
       "3                                     -500.255908   \n",
       "4                                     -500.356035   \n",
       "...                                           ...   \n",
       "14144                                 -500.155694   \n",
       "14145                                 -499.895163   \n",
       "14146                                 -499.914391   \n",
       "14147                                 -499.976268   \n",
       "14148                                 -500.080993   \n",
       "\n",
       "       secondary_cleaner.state.floatbank6_a_air  \\\n",
       "0                                     14.151341   \n",
       "1                                     13.998353   \n",
       "2                                     14.028663   \n",
       "3                                     14.005551   \n",
       "4                                     13.996647   \n",
       "...                                         ...   \n",
       "14144                                 20.007840   \n",
       "14145                                 19.968498   \n",
       "14146                                 19.990885   \n",
       "14147                                 20.013986   \n",
       "14148                                 19.990336   \n",
       "\n",
       "       secondary_cleaner.state.floatbank6_a_level  \n",
       "0                                     -605.841980  \n",
       "1                                     -599.787184  \n",
       "2                                     -601.427363  \n",
       "3                                     -599.996129  \n",
       "4                                     -601.496691  \n",
       "...                                           ...  \n",
       "14144                                 -501.296428  \n",
       "14145                                 -501.041608  \n",
       "14146                                 -501.518452  \n",
       "14147                                 -500.625471  \n",
       "14148                                 -499.191575  \n",
       "\n",
       "[14149 rows x 87 columns]"
      ]
     },
     "execution_count": 4,
     "metadata": {},
     "output_type": "execute_result"
    }
   ],
   "source": [
    "df_train"
   ]
  },
  {
   "cell_type": "code",
   "execution_count": 5,
   "metadata": {},
   "outputs": [],
   "source": [
    "# Тестовая выборка\n",
    "\n",
    "df_test = pd.read_csv('/datasets/gold_recovery_test_new.csv')"
   ]
  },
  {
   "cell_type": "code",
   "execution_count": 6,
   "metadata": {},
   "outputs": [
    {
     "data": {
      "text/html": [
       "<div>\n",
       "<style scoped>\n",
       "    .dataframe tbody tr th:only-of-type {\n",
       "        vertical-align: middle;\n",
       "    }\n",
       "\n",
       "    .dataframe tbody tr th {\n",
       "        vertical-align: top;\n",
       "    }\n",
       "\n",
       "    .dataframe thead th {\n",
       "        text-align: right;\n",
       "    }\n",
       "</style>\n",
       "<table border=\"1\" class=\"dataframe\">\n",
       "  <thead>\n",
       "    <tr style=\"text-align: right;\">\n",
       "      <th></th>\n",
       "      <th>date</th>\n",
       "      <th>primary_cleaner.input.sulfate</th>\n",
       "      <th>primary_cleaner.input.depressant</th>\n",
       "      <th>primary_cleaner.input.feed_size</th>\n",
       "      <th>primary_cleaner.input.xanthate</th>\n",
       "      <th>primary_cleaner.state.floatbank8_a_air</th>\n",
       "      <th>primary_cleaner.state.floatbank8_a_level</th>\n",
       "      <th>primary_cleaner.state.floatbank8_b_air</th>\n",
       "      <th>primary_cleaner.state.floatbank8_b_level</th>\n",
       "      <th>primary_cleaner.state.floatbank8_c_air</th>\n",
       "      <th>...</th>\n",
       "      <th>secondary_cleaner.state.floatbank4_a_air</th>\n",
       "      <th>secondary_cleaner.state.floatbank4_a_level</th>\n",
       "      <th>secondary_cleaner.state.floatbank4_b_air</th>\n",
       "      <th>secondary_cleaner.state.floatbank4_b_level</th>\n",
       "      <th>secondary_cleaner.state.floatbank5_a_air</th>\n",
       "      <th>secondary_cleaner.state.floatbank5_a_level</th>\n",
       "      <th>secondary_cleaner.state.floatbank5_b_air</th>\n",
       "      <th>secondary_cleaner.state.floatbank5_b_level</th>\n",
       "      <th>secondary_cleaner.state.floatbank6_a_air</th>\n",
       "      <th>secondary_cleaner.state.floatbank6_a_level</th>\n",
       "    </tr>\n",
       "  </thead>\n",
       "  <tbody>\n",
       "    <tr>\n",
       "      <th>0</th>\n",
       "      <td>2016-09-01 00:59:59</td>\n",
       "      <td>210.800909</td>\n",
       "      <td>14.993118</td>\n",
       "      <td>8.080000</td>\n",
       "      <td>1.005021</td>\n",
       "      <td>1398.981301</td>\n",
       "      <td>-500.225577</td>\n",
       "      <td>1399.144926</td>\n",
       "      <td>-499.919735</td>\n",
       "      <td>1400.102998</td>\n",
       "      <td>...</td>\n",
       "      <td>12.023554</td>\n",
       "      <td>-497.795834</td>\n",
       "      <td>8.016656</td>\n",
       "      <td>-501.289139</td>\n",
       "      <td>7.946562</td>\n",
       "      <td>-432.317850</td>\n",
       "      <td>4.872511</td>\n",
       "      <td>-500.037437</td>\n",
       "      <td>26.705889</td>\n",
       "      <td>-499.709414</td>\n",
       "    </tr>\n",
       "    <tr>\n",
       "      <th>1</th>\n",
       "      <td>2016-09-01 01:59:59</td>\n",
       "      <td>215.392455</td>\n",
       "      <td>14.987471</td>\n",
       "      <td>8.080000</td>\n",
       "      <td>0.990469</td>\n",
       "      <td>1398.777912</td>\n",
       "      <td>-500.057435</td>\n",
       "      <td>1398.055362</td>\n",
       "      <td>-499.778182</td>\n",
       "      <td>1396.151033</td>\n",
       "      <td>...</td>\n",
       "      <td>12.058140</td>\n",
       "      <td>-498.695773</td>\n",
       "      <td>8.130979</td>\n",
       "      <td>-499.634209</td>\n",
       "      <td>7.958270</td>\n",
       "      <td>-525.839648</td>\n",
       "      <td>4.878850</td>\n",
       "      <td>-500.162375</td>\n",
       "      <td>25.019940</td>\n",
       "      <td>-499.819438</td>\n",
       "    </tr>\n",
       "    <tr>\n",
       "      <th>2</th>\n",
       "      <td>2016-09-01 02:59:59</td>\n",
       "      <td>215.259946</td>\n",
       "      <td>12.884934</td>\n",
       "      <td>7.786667</td>\n",
       "      <td>0.996043</td>\n",
       "      <td>1398.493666</td>\n",
       "      <td>-500.868360</td>\n",
       "      <td>1398.860436</td>\n",
       "      <td>-499.764529</td>\n",
       "      <td>1398.075709</td>\n",
       "      <td>...</td>\n",
       "      <td>11.962366</td>\n",
       "      <td>-498.767484</td>\n",
       "      <td>8.096893</td>\n",
       "      <td>-500.827423</td>\n",
       "      <td>8.071056</td>\n",
       "      <td>-500.801673</td>\n",
       "      <td>4.905125</td>\n",
       "      <td>-499.828510</td>\n",
       "      <td>24.994862</td>\n",
       "      <td>-500.622559</td>\n",
       "    </tr>\n",
       "    <tr>\n",
       "      <th>3</th>\n",
       "      <td>2016-09-01 03:59:59</td>\n",
       "      <td>215.336236</td>\n",
       "      <td>12.006805</td>\n",
       "      <td>7.640000</td>\n",
       "      <td>0.863514</td>\n",
       "      <td>1399.618111</td>\n",
       "      <td>-498.863574</td>\n",
       "      <td>1397.440120</td>\n",
       "      <td>-499.211024</td>\n",
       "      <td>1400.129303</td>\n",
       "      <td>...</td>\n",
       "      <td>12.033091</td>\n",
       "      <td>-498.350935</td>\n",
       "      <td>8.074946</td>\n",
       "      <td>-499.474407</td>\n",
       "      <td>7.897085</td>\n",
       "      <td>-500.868509</td>\n",
       "      <td>4.931400</td>\n",
       "      <td>-499.963623</td>\n",
       "      <td>24.948919</td>\n",
       "      <td>-498.709987</td>\n",
       "    </tr>\n",
       "    <tr>\n",
       "      <th>4</th>\n",
       "      <td>2016-09-01 04:59:59</td>\n",
       "      <td>199.099327</td>\n",
       "      <td>10.682530</td>\n",
       "      <td>7.530000</td>\n",
       "      <td>0.805575</td>\n",
       "      <td>1401.268123</td>\n",
       "      <td>-500.808305</td>\n",
       "      <td>1398.128818</td>\n",
       "      <td>-499.504543</td>\n",
       "      <td>1402.172226</td>\n",
       "      <td>...</td>\n",
       "      <td>12.025367</td>\n",
       "      <td>-500.786497</td>\n",
       "      <td>8.054678</td>\n",
       "      <td>-500.397500</td>\n",
       "      <td>8.107890</td>\n",
       "      <td>-509.526725</td>\n",
       "      <td>4.957674</td>\n",
       "      <td>-500.360026</td>\n",
       "      <td>25.003331</td>\n",
       "      <td>-500.856333</td>\n",
       "    </tr>\n",
       "    <tr>\n",
       "      <th>...</th>\n",
       "      <td>...</td>\n",
       "      <td>...</td>\n",
       "      <td>...</td>\n",
       "      <td>...</td>\n",
       "      <td>...</td>\n",
       "      <td>...</td>\n",
       "      <td>...</td>\n",
       "      <td>...</td>\n",
       "      <td>...</td>\n",
       "      <td>...</td>\n",
       "      <td>...</td>\n",
       "      <td>...</td>\n",
       "      <td>...</td>\n",
       "      <td>...</td>\n",
       "      <td>...</td>\n",
       "      <td>...</td>\n",
       "      <td>...</td>\n",
       "      <td>...</td>\n",
       "      <td>...</td>\n",
       "      <td>...</td>\n",
       "      <td>...</td>\n",
       "    </tr>\n",
       "    <tr>\n",
       "      <th>5285</th>\n",
       "      <td>2017-12-31 19:59:59</td>\n",
       "      <td>173.957757</td>\n",
       "      <td>15.963399</td>\n",
       "      <td>8.070000</td>\n",
       "      <td>0.896701</td>\n",
       "      <td>1401.930554</td>\n",
       "      <td>-499.728848</td>\n",
       "      <td>1401.441445</td>\n",
       "      <td>-499.193423</td>\n",
       "      <td>1399.810313</td>\n",
       "      <td>...</td>\n",
       "      <td>13.995957</td>\n",
       "      <td>-500.157454</td>\n",
       "      <td>12.069155</td>\n",
       "      <td>-499.673279</td>\n",
       "      <td>7.977259</td>\n",
       "      <td>-499.516126</td>\n",
       "      <td>5.933319</td>\n",
       "      <td>-499.965973</td>\n",
       "      <td>8.987171</td>\n",
       "      <td>-499.755909</td>\n",
       "    </tr>\n",
       "    <tr>\n",
       "      <th>5286</th>\n",
       "      <td>2017-12-31 20:59:59</td>\n",
       "      <td>172.910270</td>\n",
       "      <td>16.002605</td>\n",
       "      <td>8.070000</td>\n",
       "      <td>0.896519</td>\n",
       "      <td>1447.075722</td>\n",
       "      <td>-494.716823</td>\n",
       "      <td>1448.851892</td>\n",
       "      <td>-465.963026</td>\n",
       "      <td>1443.890424</td>\n",
       "      <td>...</td>\n",
       "      <td>16.749781</td>\n",
       "      <td>-496.031539</td>\n",
       "      <td>13.365371</td>\n",
       "      <td>-499.122723</td>\n",
       "      <td>9.288553</td>\n",
       "      <td>-496.892967</td>\n",
       "      <td>7.372897</td>\n",
       "      <td>-499.942956</td>\n",
       "      <td>8.986832</td>\n",
       "      <td>-499.903761</td>\n",
       "    </tr>\n",
       "    <tr>\n",
       "      <th>5287</th>\n",
       "      <td>2017-12-31 21:59:59</td>\n",
       "      <td>171.135718</td>\n",
       "      <td>15.993669</td>\n",
       "      <td>8.070000</td>\n",
       "      <td>1.165996</td>\n",
       "      <td>1498.836182</td>\n",
       "      <td>-501.770403</td>\n",
       "      <td>1499.572353</td>\n",
       "      <td>-495.516347</td>\n",
       "      <td>1502.749213</td>\n",
       "      <td>...</td>\n",
       "      <td>19.994130</td>\n",
       "      <td>-499.791312</td>\n",
       "      <td>15.101425</td>\n",
       "      <td>-499.936252</td>\n",
       "      <td>10.989181</td>\n",
       "      <td>-498.347898</td>\n",
       "      <td>9.020944</td>\n",
       "      <td>-500.040448</td>\n",
       "      <td>8.982038</td>\n",
       "      <td>-497.789882</td>\n",
       "    </tr>\n",
       "    <tr>\n",
       "      <th>5288</th>\n",
       "      <td>2017-12-31 22:59:59</td>\n",
       "      <td>179.697158</td>\n",
       "      <td>15.438979</td>\n",
       "      <td>8.070000</td>\n",
       "      <td>1.501068</td>\n",
       "      <td>1498.466243</td>\n",
       "      <td>-500.483984</td>\n",
       "      <td>1497.986986</td>\n",
       "      <td>-519.200340</td>\n",
       "      <td>1496.569047</td>\n",
       "      <td>...</td>\n",
       "      <td>19.958760</td>\n",
       "      <td>-499.958750</td>\n",
       "      <td>15.026853</td>\n",
       "      <td>-499.723143</td>\n",
       "      <td>11.011607</td>\n",
       "      <td>-499.985046</td>\n",
       "      <td>9.009783</td>\n",
       "      <td>-499.937902</td>\n",
       "      <td>9.012660</td>\n",
       "      <td>-500.154284</td>\n",
       "    </tr>\n",
       "    <tr>\n",
       "      <th>5289</th>\n",
       "      <td>2017-12-31 23:59:59</td>\n",
       "      <td>181.556856</td>\n",
       "      <td>14.995850</td>\n",
       "      <td>8.070000</td>\n",
       "      <td>1.623454</td>\n",
       "      <td>1498.096303</td>\n",
       "      <td>-499.796922</td>\n",
       "      <td>1501.743791</td>\n",
       "      <td>-505.146931</td>\n",
       "      <td>1499.535978</td>\n",
       "      <td>...</td>\n",
       "      <td>20.034715</td>\n",
       "      <td>-500.728588</td>\n",
       "      <td>14.914199</td>\n",
       "      <td>-499.948518</td>\n",
       "      <td>10.986607</td>\n",
       "      <td>-500.658027</td>\n",
       "      <td>8.989497</td>\n",
       "      <td>-500.337588</td>\n",
       "      <td>8.988632</td>\n",
       "      <td>-500.764937</td>\n",
       "    </tr>\n",
       "  </tbody>\n",
       "</table>\n",
       "<p>5290 rows × 53 columns</p>\n",
       "</div>"
      ],
      "text/plain": [
       "                     date  primary_cleaner.input.sulfate  \\\n",
       "0     2016-09-01 00:59:59                     210.800909   \n",
       "1     2016-09-01 01:59:59                     215.392455   \n",
       "2     2016-09-01 02:59:59                     215.259946   \n",
       "3     2016-09-01 03:59:59                     215.336236   \n",
       "4     2016-09-01 04:59:59                     199.099327   \n",
       "...                   ...                            ...   \n",
       "5285  2017-12-31 19:59:59                     173.957757   \n",
       "5286  2017-12-31 20:59:59                     172.910270   \n",
       "5287  2017-12-31 21:59:59                     171.135718   \n",
       "5288  2017-12-31 22:59:59                     179.697158   \n",
       "5289  2017-12-31 23:59:59                     181.556856   \n",
       "\n",
       "      primary_cleaner.input.depressant  primary_cleaner.input.feed_size  \\\n",
       "0                            14.993118                         8.080000   \n",
       "1                            14.987471                         8.080000   \n",
       "2                            12.884934                         7.786667   \n",
       "3                            12.006805                         7.640000   \n",
       "4                            10.682530                         7.530000   \n",
       "...                                ...                              ...   \n",
       "5285                         15.963399                         8.070000   \n",
       "5286                         16.002605                         8.070000   \n",
       "5287                         15.993669                         8.070000   \n",
       "5288                         15.438979                         8.070000   \n",
       "5289                         14.995850                         8.070000   \n",
       "\n",
       "      primary_cleaner.input.xanthate  primary_cleaner.state.floatbank8_a_air  \\\n",
       "0                           1.005021                             1398.981301   \n",
       "1                           0.990469                             1398.777912   \n",
       "2                           0.996043                             1398.493666   \n",
       "3                           0.863514                             1399.618111   \n",
       "4                           0.805575                             1401.268123   \n",
       "...                              ...                                     ...   \n",
       "5285                        0.896701                             1401.930554   \n",
       "5286                        0.896519                             1447.075722   \n",
       "5287                        1.165996                             1498.836182   \n",
       "5288                        1.501068                             1498.466243   \n",
       "5289                        1.623454                             1498.096303   \n",
       "\n",
       "      primary_cleaner.state.floatbank8_a_level  \\\n",
       "0                                  -500.225577   \n",
       "1                                  -500.057435   \n",
       "2                                  -500.868360   \n",
       "3                                  -498.863574   \n",
       "4                                  -500.808305   \n",
       "...                                        ...   \n",
       "5285                               -499.728848   \n",
       "5286                               -494.716823   \n",
       "5287                               -501.770403   \n",
       "5288                               -500.483984   \n",
       "5289                               -499.796922   \n",
       "\n",
       "      primary_cleaner.state.floatbank8_b_air  \\\n",
       "0                                1399.144926   \n",
       "1                                1398.055362   \n",
       "2                                1398.860436   \n",
       "3                                1397.440120   \n",
       "4                                1398.128818   \n",
       "...                                      ...   \n",
       "5285                             1401.441445   \n",
       "5286                             1448.851892   \n",
       "5287                             1499.572353   \n",
       "5288                             1497.986986   \n",
       "5289                             1501.743791   \n",
       "\n",
       "      primary_cleaner.state.floatbank8_b_level  \\\n",
       "0                                  -499.919735   \n",
       "1                                  -499.778182   \n",
       "2                                  -499.764529   \n",
       "3                                  -499.211024   \n",
       "4                                  -499.504543   \n",
       "...                                        ...   \n",
       "5285                               -499.193423   \n",
       "5286                               -465.963026   \n",
       "5287                               -495.516347   \n",
       "5288                               -519.200340   \n",
       "5289                               -505.146931   \n",
       "\n",
       "      primary_cleaner.state.floatbank8_c_air  ...  \\\n",
       "0                                1400.102998  ...   \n",
       "1                                1396.151033  ...   \n",
       "2                                1398.075709  ...   \n",
       "3                                1400.129303  ...   \n",
       "4                                1402.172226  ...   \n",
       "...                                      ...  ...   \n",
       "5285                             1399.810313  ...   \n",
       "5286                             1443.890424  ...   \n",
       "5287                             1502.749213  ...   \n",
       "5288                             1496.569047  ...   \n",
       "5289                             1499.535978  ...   \n",
       "\n",
       "      secondary_cleaner.state.floatbank4_a_air  \\\n",
       "0                                    12.023554   \n",
       "1                                    12.058140   \n",
       "2                                    11.962366   \n",
       "3                                    12.033091   \n",
       "4                                    12.025367   \n",
       "...                                        ...   \n",
       "5285                                 13.995957   \n",
       "5286                                 16.749781   \n",
       "5287                                 19.994130   \n",
       "5288                                 19.958760   \n",
       "5289                                 20.034715   \n",
       "\n",
       "      secondary_cleaner.state.floatbank4_a_level  \\\n",
       "0                                    -497.795834   \n",
       "1                                    -498.695773   \n",
       "2                                    -498.767484   \n",
       "3                                    -498.350935   \n",
       "4                                    -500.786497   \n",
       "...                                          ...   \n",
       "5285                                 -500.157454   \n",
       "5286                                 -496.031539   \n",
       "5287                                 -499.791312   \n",
       "5288                                 -499.958750   \n",
       "5289                                 -500.728588   \n",
       "\n",
       "      secondary_cleaner.state.floatbank4_b_air  \\\n",
       "0                                     8.016656   \n",
       "1                                     8.130979   \n",
       "2                                     8.096893   \n",
       "3                                     8.074946   \n",
       "4                                     8.054678   \n",
       "...                                        ...   \n",
       "5285                                 12.069155   \n",
       "5286                                 13.365371   \n",
       "5287                                 15.101425   \n",
       "5288                                 15.026853   \n",
       "5289                                 14.914199   \n",
       "\n",
       "      secondary_cleaner.state.floatbank4_b_level  \\\n",
       "0                                    -501.289139   \n",
       "1                                    -499.634209   \n",
       "2                                    -500.827423   \n",
       "3                                    -499.474407   \n",
       "4                                    -500.397500   \n",
       "...                                          ...   \n",
       "5285                                 -499.673279   \n",
       "5286                                 -499.122723   \n",
       "5287                                 -499.936252   \n",
       "5288                                 -499.723143   \n",
       "5289                                 -499.948518   \n",
       "\n",
       "      secondary_cleaner.state.floatbank5_a_air  \\\n",
       "0                                     7.946562   \n",
       "1                                     7.958270   \n",
       "2                                     8.071056   \n",
       "3                                     7.897085   \n",
       "4                                     8.107890   \n",
       "...                                        ...   \n",
       "5285                                  7.977259   \n",
       "5286                                  9.288553   \n",
       "5287                                 10.989181   \n",
       "5288                                 11.011607   \n",
       "5289                                 10.986607   \n",
       "\n",
       "      secondary_cleaner.state.floatbank5_a_level  \\\n",
       "0                                    -432.317850   \n",
       "1                                    -525.839648   \n",
       "2                                    -500.801673   \n",
       "3                                    -500.868509   \n",
       "4                                    -509.526725   \n",
       "...                                          ...   \n",
       "5285                                 -499.516126   \n",
       "5286                                 -496.892967   \n",
       "5287                                 -498.347898   \n",
       "5288                                 -499.985046   \n",
       "5289                                 -500.658027   \n",
       "\n",
       "      secondary_cleaner.state.floatbank5_b_air  \\\n",
       "0                                     4.872511   \n",
       "1                                     4.878850   \n",
       "2                                     4.905125   \n",
       "3                                     4.931400   \n",
       "4                                     4.957674   \n",
       "...                                        ...   \n",
       "5285                                  5.933319   \n",
       "5286                                  7.372897   \n",
       "5287                                  9.020944   \n",
       "5288                                  9.009783   \n",
       "5289                                  8.989497   \n",
       "\n",
       "      secondary_cleaner.state.floatbank5_b_level  \\\n",
       "0                                    -500.037437   \n",
       "1                                    -500.162375   \n",
       "2                                    -499.828510   \n",
       "3                                    -499.963623   \n",
       "4                                    -500.360026   \n",
       "...                                          ...   \n",
       "5285                                 -499.965973   \n",
       "5286                                 -499.942956   \n",
       "5287                                 -500.040448   \n",
       "5288                                 -499.937902   \n",
       "5289                                 -500.337588   \n",
       "\n",
       "      secondary_cleaner.state.floatbank6_a_air  \\\n",
       "0                                    26.705889   \n",
       "1                                    25.019940   \n",
       "2                                    24.994862   \n",
       "3                                    24.948919   \n",
       "4                                    25.003331   \n",
       "...                                        ...   \n",
       "5285                                  8.987171   \n",
       "5286                                  8.986832   \n",
       "5287                                  8.982038   \n",
       "5288                                  9.012660   \n",
       "5289                                  8.988632   \n",
       "\n",
       "      secondary_cleaner.state.floatbank6_a_level  \n",
       "0                                    -499.709414  \n",
       "1                                    -499.819438  \n",
       "2                                    -500.622559  \n",
       "3                                    -498.709987  \n",
       "4                                    -500.856333  \n",
       "...                                          ...  \n",
       "5285                                 -499.755909  \n",
       "5286                                 -499.903761  \n",
       "5287                                 -497.789882  \n",
       "5288                                 -500.154284  \n",
       "5289                                 -500.764937  \n",
       "\n",
       "[5290 rows x 53 columns]"
      ]
     },
     "execution_count": 6,
     "metadata": {},
     "output_type": "execute_result"
    }
   ],
   "source": [
    "df_test"
   ]
  },
  {
   "cell_type": "code",
   "execution_count": 7,
   "metadata": {},
   "outputs": [],
   "source": [
    "# Исходные данные\n",
    "\n",
    "df_full = pd.read_csv('/datasets/gold_recovery_full_new.csv')"
   ]
  },
  {
   "cell_type": "code",
   "execution_count": 8,
   "metadata": {},
   "outputs": [
    {
     "data": {
      "text/html": [
       "<div>\n",
       "<style scoped>\n",
       "    .dataframe tbody tr th:only-of-type {\n",
       "        vertical-align: middle;\n",
       "    }\n",
       "\n",
       "    .dataframe tbody tr th {\n",
       "        vertical-align: top;\n",
       "    }\n",
       "\n",
       "    .dataframe thead th {\n",
       "        text-align: right;\n",
       "    }\n",
       "</style>\n",
       "<table border=\"1\" class=\"dataframe\">\n",
       "  <thead>\n",
       "    <tr style=\"text-align: right;\">\n",
       "      <th></th>\n",
       "      <th>date</th>\n",
       "      <th>final.output.concentrate_ag</th>\n",
       "      <th>final.output.concentrate_pb</th>\n",
       "      <th>final.output.concentrate_sol</th>\n",
       "      <th>final.output.concentrate_au</th>\n",
       "      <th>final.output.recovery</th>\n",
       "      <th>final.output.tail_ag</th>\n",
       "      <th>final.output.tail_pb</th>\n",
       "      <th>final.output.tail_sol</th>\n",
       "      <th>final.output.tail_au</th>\n",
       "      <th>...</th>\n",
       "      <th>secondary_cleaner.state.floatbank4_a_air</th>\n",
       "      <th>secondary_cleaner.state.floatbank4_a_level</th>\n",
       "      <th>secondary_cleaner.state.floatbank4_b_air</th>\n",
       "      <th>secondary_cleaner.state.floatbank4_b_level</th>\n",
       "      <th>secondary_cleaner.state.floatbank5_a_air</th>\n",
       "      <th>secondary_cleaner.state.floatbank5_a_level</th>\n",
       "      <th>secondary_cleaner.state.floatbank5_b_air</th>\n",
       "      <th>secondary_cleaner.state.floatbank5_b_level</th>\n",
       "      <th>secondary_cleaner.state.floatbank6_a_air</th>\n",
       "      <th>secondary_cleaner.state.floatbank6_a_level</th>\n",
       "    </tr>\n",
       "  </thead>\n",
       "  <tbody>\n",
       "    <tr>\n",
       "      <th>0</th>\n",
       "      <td>2016-01-15 00:00:00</td>\n",
       "      <td>6.055403</td>\n",
       "      <td>9.889648</td>\n",
       "      <td>5.507324</td>\n",
       "      <td>42.192020</td>\n",
       "      <td>70.541216</td>\n",
       "      <td>10.411962</td>\n",
       "      <td>0.895447</td>\n",
       "      <td>16.904297</td>\n",
       "      <td>2.143149</td>\n",
       "      <td>...</td>\n",
       "      <td>14.016835</td>\n",
       "      <td>-502.488007</td>\n",
       "      <td>12.099931</td>\n",
       "      <td>-504.715942</td>\n",
       "      <td>9.925633</td>\n",
       "      <td>-498.310211</td>\n",
       "      <td>8.079666</td>\n",
       "      <td>-500.470978</td>\n",
       "      <td>14.151341</td>\n",
       "      <td>-605.841980</td>\n",
       "    </tr>\n",
       "    <tr>\n",
       "      <th>1</th>\n",
       "      <td>2016-01-15 01:00:00</td>\n",
       "      <td>6.029369</td>\n",
       "      <td>9.968944</td>\n",
       "      <td>5.257781</td>\n",
       "      <td>42.701629</td>\n",
       "      <td>69.266198</td>\n",
       "      <td>10.462676</td>\n",
       "      <td>0.927452</td>\n",
       "      <td>16.634514</td>\n",
       "      <td>2.224930</td>\n",
       "      <td>...</td>\n",
       "      <td>13.992281</td>\n",
       "      <td>-505.503262</td>\n",
       "      <td>11.950531</td>\n",
       "      <td>-501.331529</td>\n",
       "      <td>10.039245</td>\n",
       "      <td>-500.169983</td>\n",
       "      <td>7.984757</td>\n",
       "      <td>-500.582168</td>\n",
       "      <td>13.998353</td>\n",
       "      <td>-599.787184</td>\n",
       "    </tr>\n",
       "    <tr>\n",
       "      <th>2</th>\n",
       "      <td>2016-01-15 02:00:00</td>\n",
       "      <td>6.055926</td>\n",
       "      <td>10.213995</td>\n",
       "      <td>5.383759</td>\n",
       "      <td>42.657501</td>\n",
       "      <td>68.116445</td>\n",
       "      <td>10.507046</td>\n",
       "      <td>0.953716</td>\n",
       "      <td>16.208849</td>\n",
       "      <td>2.257889</td>\n",
       "      <td>...</td>\n",
       "      <td>14.015015</td>\n",
       "      <td>-502.520901</td>\n",
       "      <td>11.912783</td>\n",
       "      <td>-501.133383</td>\n",
       "      <td>10.070913</td>\n",
       "      <td>-500.129135</td>\n",
       "      <td>8.013877</td>\n",
       "      <td>-500.517572</td>\n",
       "      <td>14.028663</td>\n",
       "      <td>-601.427363</td>\n",
       "    </tr>\n",
       "    <tr>\n",
       "      <th>3</th>\n",
       "      <td>2016-01-15 03:00:00</td>\n",
       "      <td>6.047977</td>\n",
       "      <td>9.977019</td>\n",
       "      <td>4.858634</td>\n",
       "      <td>42.689819</td>\n",
       "      <td>68.347543</td>\n",
       "      <td>10.422762</td>\n",
       "      <td>0.883763</td>\n",
       "      <td>16.532835</td>\n",
       "      <td>2.146849</td>\n",
       "      <td>...</td>\n",
       "      <td>14.036510</td>\n",
       "      <td>-500.857308</td>\n",
       "      <td>11.999550</td>\n",
       "      <td>-501.193686</td>\n",
       "      <td>9.970366</td>\n",
       "      <td>-499.201640</td>\n",
       "      <td>7.977324</td>\n",
       "      <td>-500.255908</td>\n",
       "      <td>14.005551</td>\n",
       "      <td>-599.996129</td>\n",
       "    </tr>\n",
       "    <tr>\n",
       "      <th>4</th>\n",
       "      <td>2016-01-15 04:00:00</td>\n",
       "      <td>6.148599</td>\n",
       "      <td>10.142511</td>\n",
       "      <td>4.939416</td>\n",
       "      <td>42.774141</td>\n",
       "      <td>66.927016</td>\n",
       "      <td>10.360302</td>\n",
       "      <td>0.792826</td>\n",
       "      <td>16.525686</td>\n",
       "      <td>2.055292</td>\n",
       "      <td>...</td>\n",
       "      <td>14.027298</td>\n",
       "      <td>-499.838632</td>\n",
       "      <td>11.953070</td>\n",
       "      <td>-501.053894</td>\n",
       "      <td>9.925709</td>\n",
       "      <td>-501.686727</td>\n",
       "      <td>7.894242</td>\n",
       "      <td>-500.356035</td>\n",
       "      <td>13.996647</td>\n",
       "      <td>-601.496691</td>\n",
       "    </tr>\n",
       "    <tr>\n",
       "      <th>...</th>\n",
       "      <td>...</td>\n",
       "      <td>...</td>\n",
       "      <td>...</td>\n",
       "      <td>...</td>\n",
       "      <td>...</td>\n",
       "      <td>...</td>\n",
       "      <td>...</td>\n",
       "      <td>...</td>\n",
       "      <td>...</td>\n",
       "      <td>...</td>\n",
       "      <td>...</td>\n",
       "      <td>...</td>\n",
       "      <td>...</td>\n",
       "      <td>...</td>\n",
       "      <td>...</td>\n",
       "      <td>...</td>\n",
       "      <td>...</td>\n",
       "      <td>...</td>\n",
       "      <td>...</td>\n",
       "      <td>...</td>\n",
       "      <td>...</td>\n",
       "    </tr>\n",
       "    <tr>\n",
       "      <th>19434</th>\n",
       "      <td>2018-08-18 06:59:59</td>\n",
       "      <td>3.224920</td>\n",
       "      <td>11.356233</td>\n",
       "      <td>6.803482</td>\n",
       "      <td>46.713954</td>\n",
       "      <td>73.755150</td>\n",
       "      <td>8.769645</td>\n",
       "      <td>3.141541</td>\n",
       "      <td>10.403181</td>\n",
       "      <td>1.529220</td>\n",
       "      <td>...</td>\n",
       "      <td>23.031497</td>\n",
       "      <td>-501.167942</td>\n",
       "      <td>20.007571</td>\n",
       "      <td>-499.740028</td>\n",
       "      <td>18.006038</td>\n",
       "      <td>-499.834374</td>\n",
       "      <td>13.001114</td>\n",
       "      <td>-500.155694</td>\n",
       "      <td>20.007840</td>\n",
       "      <td>-501.296428</td>\n",
       "    </tr>\n",
       "    <tr>\n",
       "      <th>19435</th>\n",
       "      <td>2018-08-18 07:59:59</td>\n",
       "      <td>3.195978</td>\n",
       "      <td>11.349355</td>\n",
       "      <td>6.862249</td>\n",
       "      <td>46.866780</td>\n",
       "      <td>69.049291</td>\n",
       "      <td>8.897321</td>\n",
       "      <td>3.130493</td>\n",
       "      <td>10.549470</td>\n",
       "      <td>1.612542</td>\n",
       "      <td>...</td>\n",
       "      <td>22.960095</td>\n",
       "      <td>-501.612783</td>\n",
       "      <td>20.035660</td>\n",
       "      <td>-500.251357</td>\n",
       "      <td>17.998535</td>\n",
       "      <td>-500.395178</td>\n",
       "      <td>12.954048</td>\n",
       "      <td>-499.895163</td>\n",
       "      <td>19.968498</td>\n",
       "      <td>-501.041608</td>\n",
       "    </tr>\n",
       "    <tr>\n",
       "      <th>19436</th>\n",
       "      <td>2018-08-18 08:59:59</td>\n",
       "      <td>3.109998</td>\n",
       "      <td>11.434366</td>\n",
       "      <td>6.886013</td>\n",
       "      <td>46.795691</td>\n",
       "      <td>67.002189</td>\n",
       "      <td>8.529606</td>\n",
       "      <td>2.911418</td>\n",
       "      <td>11.115147</td>\n",
       "      <td>1.596616</td>\n",
       "      <td>...</td>\n",
       "      <td>23.015718</td>\n",
       "      <td>-501.711599</td>\n",
       "      <td>19.951231</td>\n",
       "      <td>-499.857027</td>\n",
       "      <td>18.019543</td>\n",
       "      <td>-500.451156</td>\n",
       "      <td>13.023431</td>\n",
       "      <td>-499.914391</td>\n",
       "      <td>19.990885</td>\n",
       "      <td>-501.518452</td>\n",
       "    </tr>\n",
       "    <tr>\n",
       "      <th>19437</th>\n",
       "      <td>2018-08-18 09:59:59</td>\n",
       "      <td>3.367241</td>\n",
       "      <td>11.625587</td>\n",
       "      <td>6.799433</td>\n",
       "      <td>46.408188</td>\n",
       "      <td>65.523246</td>\n",
       "      <td>8.777171</td>\n",
       "      <td>2.819214</td>\n",
       "      <td>10.463847</td>\n",
       "      <td>1.602879</td>\n",
       "      <td>...</td>\n",
       "      <td>23.024963</td>\n",
       "      <td>-501.153409</td>\n",
       "      <td>20.054122</td>\n",
       "      <td>-500.314711</td>\n",
       "      <td>17.979515</td>\n",
       "      <td>-499.272871</td>\n",
       "      <td>12.992404</td>\n",
       "      <td>-499.976268</td>\n",
       "      <td>20.013986</td>\n",
       "      <td>-500.625471</td>\n",
       "    </tr>\n",
       "    <tr>\n",
       "      <th>19438</th>\n",
       "      <td>2018-08-18 10:59:59</td>\n",
       "      <td>3.598375</td>\n",
       "      <td>11.737832</td>\n",
       "      <td>6.717509</td>\n",
       "      <td>46.299438</td>\n",
       "      <td>70.281454</td>\n",
       "      <td>8.406690</td>\n",
       "      <td>2.517518</td>\n",
       "      <td>10.652193</td>\n",
       "      <td>1.389434</td>\n",
       "      <td>...</td>\n",
       "      <td>23.018622</td>\n",
       "      <td>-500.492702</td>\n",
       "      <td>20.020205</td>\n",
       "      <td>-500.220296</td>\n",
       "      <td>17.963512</td>\n",
       "      <td>-499.939490</td>\n",
       "      <td>12.990306</td>\n",
       "      <td>-500.080993</td>\n",
       "      <td>19.990336</td>\n",
       "      <td>-499.191575</td>\n",
       "    </tr>\n",
       "  </tbody>\n",
       "</table>\n",
       "<p>19439 rows × 87 columns</p>\n",
       "</div>"
      ],
      "text/plain": [
       "                      date  final.output.concentrate_ag  \\\n",
       "0      2016-01-15 00:00:00                     6.055403   \n",
       "1      2016-01-15 01:00:00                     6.029369   \n",
       "2      2016-01-15 02:00:00                     6.055926   \n",
       "3      2016-01-15 03:00:00                     6.047977   \n",
       "4      2016-01-15 04:00:00                     6.148599   \n",
       "...                    ...                          ...   \n",
       "19434  2018-08-18 06:59:59                     3.224920   \n",
       "19435  2018-08-18 07:59:59                     3.195978   \n",
       "19436  2018-08-18 08:59:59                     3.109998   \n",
       "19437  2018-08-18 09:59:59                     3.367241   \n",
       "19438  2018-08-18 10:59:59                     3.598375   \n",
       "\n",
       "       final.output.concentrate_pb  final.output.concentrate_sol  \\\n",
       "0                         9.889648                      5.507324   \n",
       "1                         9.968944                      5.257781   \n",
       "2                        10.213995                      5.383759   \n",
       "3                         9.977019                      4.858634   \n",
       "4                        10.142511                      4.939416   \n",
       "...                            ...                           ...   \n",
       "19434                    11.356233                      6.803482   \n",
       "19435                    11.349355                      6.862249   \n",
       "19436                    11.434366                      6.886013   \n",
       "19437                    11.625587                      6.799433   \n",
       "19438                    11.737832                      6.717509   \n",
       "\n",
       "       final.output.concentrate_au  final.output.recovery  \\\n",
       "0                        42.192020              70.541216   \n",
       "1                        42.701629              69.266198   \n",
       "2                        42.657501              68.116445   \n",
       "3                        42.689819              68.347543   \n",
       "4                        42.774141              66.927016   \n",
       "...                            ...                    ...   \n",
       "19434                    46.713954              73.755150   \n",
       "19435                    46.866780              69.049291   \n",
       "19436                    46.795691              67.002189   \n",
       "19437                    46.408188              65.523246   \n",
       "19438                    46.299438              70.281454   \n",
       "\n",
       "       final.output.tail_ag  final.output.tail_pb  final.output.tail_sol  \\\n",
       "0                 10.411962              0.895447              16.904297   \n",
       "1                 10.462676              0.927452              16.634514   \n",
       "2                 10.507046              0.953716              16.208849   \n",
       "3                 10.422762              0.883763              16.532835   \n",
       "4                 10.360302              0.792826              16.525686   \n",
       "...                     ...                   ...                    ...   \n",
       "19434              8.769645              3.141541              10.403181   \n",
       "19435              8.897321              3.130493              10.549470   \n",
       "19436              8.529606              2.911418              11.115147   \n",
       "19437              8.777171              2.819214              10.463847   \n",
       "19438              8.406690              2.517518              10.652193   \n",
       "\n",
       "       final.output.tail_au  ...  secondary_cleaner.state.floatbank4_a_air  \\\n",
       "0                  2.143149  ...                                 14.016835   \n",
       "1                  2.224930  ...                                 13.992281   \n",
       "2                  2.257889  ...                                 14.015015   \n",
       "3                  2.146849  ...                                 14.036510   \n",
       "4                  2.055292  ...                                 14.027298   \n",
       "...                     ...  ...                                       ...   \n",
       "19434              1.529220  ...                                 23.031497   \n",
       "19435              1.612542  ...                                 22.960095   \n",
       "19436              1.596616  ...                                 23.015718   \n",
       "19437              1.602879  ...                                 23.024963   \n",
       "19438              1.389434  ...                                 23.018622   \n",
       "\n",
       "       secondary_cleaner.state.floatbank4_a_level  \\\n",
       "0                                     -502.488007   \n",
       "1                                     -505.503262   \n",
       "2                                     -502.520901   \n",
       "3                                     -500.857308   \n",
       "4                                     -499.838632   \n",
       "...                                           ...   \n",
       "19434                                 -501.167942   \n",
       "19435                                 -501.612783   \n",
       "19436                                 -501.711599   \n",
       "19437                                 -501.153409   \n",
       "19438                                 -500.492702   \n",
       "\n",
       "       secondary_cleaner.state.floatbank4_b_air  \\\n",
       "0                                     12.099931   \n",
       "1                                     11.950531   \n",
       "2                                     11.912783   \n",
       "3                                     11.999550   \n",
       "4                                     11.953070   \n",
       "...                                         ...   \n",
       "19434                                 20.007571   \n",
       "19435                                 20.035660   \n",
       "19436                                 19.951231   \n",
       "19437                                 20.054122   \n",
       "19438                                 20.020205   \n",
       "\n",
       "       secondary_cleaner.state.floatbank4_b_level  \\\n",
       "0                                     -504.715942   \n",
       "1                                     -501.331529   \n",
       "2                                     -501.133383   \n",
       "3                                     -501.193686   \n",
       "4                                     -501.053894   \n",
       "...                                           ...   \n",
       "19434                                 -499.740028   \n",
       "19435                                 -500.251357   \n",
       "19436                                 -499.857027   \n",
       "19437                                 -500.314711   \n",
       "19438                                 -500.220296   \n",
       "\n",
       "       secondary_cleaner.state.floatbank5_a_air  \\\n",
       "0                                      9.925633   \n",
       "1                                     10.039245   \n",
       "2                                     10.070913   \n",
       "3                                      9.970366   \n",
       "4                                      9.925709   \n",
       "...                                         ...   \n",
       "19434                                 18.006038   \n",
       "19435                                 17.998535   \n",
       "19436                                 18.019543   \n",
       "19437                                 17.979515   \n",
       "19438                                 17.963512   \n",
       "\n",
       "       secondary_cleaner.state.floatbank5_a_level  \\\n",
       "0                                     -498.310211   \n",
       "1                                     -500.169983   \n",
       "2                                     -500.129135   \n",
       "3                                     -499.201640   \n",
       "4                                     -501.686727   \n",
       "...                                           ...   \n",
       "19434                                 -499.834374   \n",
       "19435                                 -500.395178   \n",
       "19436                                 -500.451156   \n",
       "19437                                 -499.272871   \n",
       "19438                                 -499.939490   \n",
       "\n",
       "       secondary_cleaner.state.floatbank5_b_air  \\\n",
       "0                                      8.079666   \n",
       "1                                      7.984757   \n",
       "2                                      8.013877   \n",
       "3                                      7.977324   \n",
       "4                                      7.894242   \n",
       "...                                         ...   \n",
       "19434                                 13.001114   \n",
       "19435                                 12.954048   \n",
       "19436                                 13.023431   \n",
       "19437                                 12.992404   \n",
       "19438                                 12.990306   \n",
       "\n",
       "       secondary_cleaner.state.floatbank5_b_level  \\\n",
       "0                                     -500.470978   \n",
       "1                                     -500.582168   \n",
       "2                                     -500.517572   \n",
       "3                                     -500.255908   \n",
       "4                                     -500.356035   \n",
       "...                                           ...   \n",
       "19434                                 -500.155694   \n",
       "19435                                 -499.895163   \n",
       "19436                                 -499.914391   \n",
       "19437                                 -499.976268   \n",
       "19438                                 -500.080993   \n",
       "\n",
       "       secondary_cleaner.state.floatbank6_a_air  \\\n",
       "0                                     14.151341   \n",
       "1                                     13.998353   \n",
       "2                                     14.028663   \n",
       "3                                     14.005551   \n",
       "4                                     13.996647   \n",
       "...                                         ...   \n",
       "19434                                 20.007840   \n",
       "19435                                 19.968498   \n",
       "19436                                 19.990885   \n",
       "19437                                 20.013986   \n",
       "19438                                 19.990336   \n",
       "\n",
       "       secondary_cleaner.state.floatbank6_a_level  \n",
       "0                                     -605.841980  \n",
       "1                                     -599.787184  \n",
       "2                                     -601.427363  \n",
       "3                                     -599.996129  \n",
       "4                                     -601.496691  \n",
       "...                                           ...  \n",
       "19434                                 -501.296428  \n",
       "19435                                 -501.041608  \n",
       "19436                                 -501.518452  \n",
       "19437                                 -500.625471  \n",
       "19438                                 -499.191575  \n",
       "\n",
       "[19439 rows x 87 columns]"
      ]
     },
     "execution_count": 8,
     "metadata": {},
     "output_type": "execute_result"
    }
   ],
   "source": [
    "df_full"
   ]
  },
  {
   "cell_type": "markdown",
   "metadata": {},
   "source": [
    "**1.4 Первичный осмотр данных.**"
   ]
  },
  {
   "cell_type": "code",
   "execution_count": 9,
   "metadata": {},
   "outputs": [
    {
     "name": "stdout",
     "output_type": "stream",
     "text": [
      "\u001b[1mИзучим исходные данные\u001b[0m\n",
      "<class 'pandas.core.frame.DataFrame'>\n",
      "RangeIndex: 14149 entries, 0 to 14148\n",
      "Data columns (total 87 columns):\n",
      " #   Column                                              Non-Null Count  Dtype  \n",
      "---  ------                                              --------------  -----  \n",
      " 0   date                                                14149 non-null  object \n",
      " 1   final.output.concentrate_ag                         14148 non-null  float64\n",
      " 2   final.output.concentrate_pb                         14148 non-null  float64\n",
      " 3   final.output.concentrate_sol                        13938 non-null  float64\n",
      " 4   final.output.concentrate_au                         14149 non-null  float64\n",
      " 5   final.output.recovery                               14149 non-null  float64\n",
      " 6   final.output.tail_ag                                14149 non-null  float64\n",
      " 7   final.output.tail_pb                                14049 non-null  float64\n",
      " 8   final.output.tail_sol                               14144 non-null  float64\n",
      " 9   final.output.tail_au                                14149 non-null  float64\n",
      " 10  primary_cleaner.input.sulfate                       14129 non-null  float64\n",
      " 11  primary_cleaner.input.depressant                    14117 non-null  float64\n",
      " 12  primary_cleaner.input.feed_size                     14149 non-null  float64\n",
      " 13  primary_cleaner.input.xanthate                      14049 non-null  float64\n",
      " 14  primary_cleaner.output.concentrate_ag               14149 non-null  float64\n",
      " 15  primary_cleaner.output.concentrate_pb               14063 non-null  float64\n",
      " 16  primary_cleaner.output.concentrate_sol              13863 non-null  float64\n",
      " 17  primary_cleaner.output.concentrate_au               14149 non-null  float64\n",
      " 18  primary_cleaner.output.tail_ag                      14148 non-null  float64\n",
      " 19  primary_cleaner.output.tail_pb                      14134 non-null  float64\n",
      " 20  primary_cleaner.output.tail_sol                     14103 non-null  float64\n",
      " 21  primary_cleaner.output.tail_au                      14149 non-null  float64\n",
      " 22  primary_cleaner.state.floatbank8_a_air              14145 non-null  float64\n",
      " 23  primary_cleaner.state.floatbank8_a_level            14148 non-null  float64\n",
      " 24  primary_cleaner.state.floatbank8_b_air              14145 non-null  float64\n",
      " 25  primary_cleaner.state.floatbank8_b_level            14148 non-null  float64\n",
      " 26  primary_cleaner.state.floatbank8_c_air              14147 non-null  float64\n",
      " 27  primary_cleaner.state.floatbank8_c_level            14148 non-null  float64\n",
      " 28  primary_cleaner.state.floatbank8_d_air              14146 non-null  float64\n",
      " 29  primary_cleaner.state.floatbank8_d_level            14148 non-null  float64\n",
      " 30  rougher.calculation.sulfate_to_au_concentrate       14148 non-null  float64\n",
      " 31  rougher.calculation.floatbank10_sulfate_to_au_feed  14148 non-null  float64\n",
      " 32  rougher.calculation.floatbank11_sulfate_to_au_feed  14148 non-null  float64\n",
      " 33  rougher.calculation.au_pb_ratio                     14149 non-null  float64\n",
      " 34  rougher.input.feed_ag                               14149 non-null  float64\n",
      " 35  rougher.input.feed_pb                               14049 non-null  float64\n",
      " 36  rougher.input.feed_rate                             14141 non-null  float64\n",
      " 37  rougher.input.feed_size                             14005 non-null  float64\n",
      " 38  rougher.input.feed_sol                              14071 non-null  float64\n",
      " 39  rougher.input.feed_au                               14149 non-null  float64\n",
      " 40  rougher.input.floatbank10_sulfate                   14120 non-null  float64\n",
      " 41  rougher.input.floatbank10_xanthate                  14141 non-null  float64\n",
      " 42  rougher.input.floatbank11_sulfate                   14113 non-null  float64\n",
      " 43  rougher.input.floatbank11_xanthate                  13721 non-null  float64\n",
      " 44  rougher.output.concentrate_ag                       14149 non-null  float64\n",
      " 45  rougher.output.concentrate_pb                       14149 non-null  float64\n",
      " 46  rougher.output.concentrate_sol                      14127 non-null  float64\n",
      " 47  rougher.output.concentrate_au                       14149 non-null  float64\n",
      " 48  rougher.output.recovery                             14149 non-null  float64\n",
      " 49  rougher.output.tail_ag                              14148 non-null  float64\n",
      " 50  rougher.output.tail_pb                              14149 non-null  float64\n",
      " 51  rougher.output.tail_sol                             14149 non-null  float64\n",
      " 52  rougher.output.tail_au                              14149 non-null  float64\n",
      " 53  rougher.state.floatbank10_a_air                     14148 non-null  float64\n",
      " 54  rougher.state.floatbank10_a_level                   14148 non-null  float64\n",
      " 55  rougher.state.floatbank10_b_air                     14148 non-null  float64\n",
      " 56  rougher.state.floatbank10_b_level                   14148 non-null  float64\n",
      " 57  rougher.state.floatbank10_c_air                     14148 non-null  float64\n",
      " 58  rougher.state.floatbank10_c_level                   14148 non-null  float64\n",
      " 59  rougher.state.floatbank10_d_air                     14149 non-null  float64\n",
      " 60  rougher.state.floatbank10_d_level                   14149 non-null  float64\n",
      " 61  rougher.state.floatbank10_e_air                     13713 non-null  float64\n",
      " 62  rougher.state.floatbank10_e_level                   14149 non-null  float64\n",
      " 63  rougher.state.floatbank10_f_air                     14149 non-null  float64\n",
      " 64  rougher.state.floatbank10_f_level                   14149 non-null  float64\n",
      " 65  secondary_cleaner.output.tail_ag                    14147 non-null  float64\n",
      " 66  secondary_cleaner.output.tail_pb                    14139 non-null  float64\n",
      " 67  secondary_cleaner.output.tail_sol                   12544 non-null  float64\n",
      " 68  secondary_cleaner.output.tail_au                    14149 non-null  float64\n",
      " 69  secondary_cleaner.state.floatbank2_a_air            13932 non-null  float64\n",
      " 70  secondary_cleaner.state.floatbank2_a_level          14148 non-null  float64\n",
      " 71  secondary_cleaner.state.floatbank2_b_air            14128 non-null  float64\n",
      " 72  secondary_cleaner.state.floatbank2_b_level          14148 non-null  float64\n",
      " 73  secondary_cleaner.state.floatbank3_a_air            14145 non-null  float64\n",
      " 74  secondary_cleaner.state.floatbank3_a_level          14148 non-null  float64\n",
      " 75  secondary_cleaner.state.floatbank3_b_air            14148 non-null  float64\n",
      " 76  secondary_cleaner.state.floatbank3_b_level          14148 non-null  float64\n",
      " 77  secondary_cleaner.state.floatbank4_a_air            14143 non-null  float64\n",
      " 78  secondary_cleaner.state.floatbank4_a_level          14148 non-null  float64\n",
      " 79  secondary_cleaner.state.floatbank4_b_air            14148 non-null  float64\n",
      " 80  secondary_cleaner.state.floatbank4_b_level          14148 non-null  float64\n",
      " 81  secondary_cleaner.state.floatbank5_a_air            14148 non-null  float64\n",
      " 82  secondary_cleaner.state.floatbank5_a_level          14148 non-null  float64\n",
      " 83  secondary_cleaner.state.floatbank5_b_air            14148 non-null  float64\n",
      " 84  secondary_cleaner.state.floatbank5_b_level          14148 non-null  float64\n",
      " 85  secondary_cleaner.state.floatbank6_a_air            14147 non-null  float64\n",
      " 86  secondary_cleaner.state.floatbank6_a_level          14148 non-null  float64\n",
      "dtypes: float64(86), object(1)\n",
      "memory usage: 9.4+ MB\n",
      "None\n",
      "(14149, 87)\n",
      "\u001b[1m\n",
      "Проверка пропусков\u001b[0m\n",
      "Количество пропусков: 4100\n",
      "Доля пропусков: 0.3%\u001b[0m\n",
      "Доля строк содержащих пропуски: 22.1%\n",
      "\u001b[1m\n",
      "Проверка на дубликаты\u001b[0m\n",
      "Количество полных дубликатов:  0\n",
      "\u001b[1m\n",
      "Первые пять строк датасета\u001b[0m\n"
     ]
    },
    {
     "data": {
      "text/html": [
       "<div>\n",
       "<style scoped>\n",
       "    .dataframe tbody tr th:only-of-type {\n",
       "        vertical-align: middle;\n",
       "    }\n",
       "\n",
       "    .dataframe tbody tr th {\n",
       "        vertical-align: top;\n",
       "    }\n",
       "\n",
       "    .dataframe thead th {\n",
       "        text-align: right;\n",
       "    }\n",
       "</style>\n",
       "<table border=\"1\" class=\"dataframe\">\n",
       "  <thead>\n",
       "    <tr style=\"text-align: right;\">\n",
       "      <th></th>\n",
       "      <th>date</th>\n",
       "      <th>final.output.concentrate_ag</th>\n",
       "      <th>final.output.concentrate_pb</th>\n",
       "      <th>final.output.concentrate_sol</th>\n",
       "      <th>final.output.concentrate_au</th>\n",
       "      <th>final.output.recovery</th>\n",
       "      <th>final.output.tail_ag</th>\n",
       "      <th>final.output.tail_pb</th>\n",
       "      <th>final.output.tail_sol</th>\n",
       "      <th>final.output.tail_au</th>\n",
       "      <th>...</th>\n",
       "      <th>secondary_cleaner.state.floatbank4_a_air</th>\n",
       "      <th>secondary_cleaner.state.floatbank4_a_level</th>\n",
       "      <th>secondary_cleaner.state.floatbank4_b_air</th>\n",
       "      <th>secondary_cleaner.state.floatbank4_b_level</th>\n",
       "      <th>secondary_cleaner.state.floatbank5_a_air</th>\n",
       "      <th>secondary_cleaner.state.floatbank5_a_level</th>\n",
       "      <th>secondary_cleaner.state.floatbank5_b_air</th>\n",
       "      <th>secondary_cleaner.state.floatbank5_b_level</th>\n",
       "      <th>secondary_cleaner.state.floatbank6_a_air</th>\n",
       "      <th>secondary_cleaner.state.floatbank6_a_level</th>\n",
       "    </tr>\n",
       "  </thead>\n",
       "  <tbody>\n",
       "    <tr>\n",
       "      <th>0</th>\n",
       "      <td>2016-01-15 00:00:00</td>\n",
       "      <td>6.055403</td>\n",
       "      <td>9.889648</td>\n",
       "      <td>5.507324</td>\n",
       "      <td>42.192020</td>\n",
       "      <td>70.541216</td>\n",
       "      <td>10.411962</td>\n",
       "      <td>0.895447</td>\n",
       "      <td>16.904297</td>\n",
       "      <td>2.143149</td>\n",
       "      <td>...</td>\n",
       "      <td>14.016835</td>\n",
       "      <td>-502.488007</td>\n",
       "      <td>12.099931</td>\n",
       "      <td>-504.715942</td>\n",
       "      <td>9.925633</td>\n",
       "      <td>-498.310211</td>\n",
       "      <td>8.079666</td>\n",
       "      <td>-500.470978</td>\n",
       "      <td>14.151341</td>\n",
       "      <td>-605.841980</td>\n",
       "    </tr>\n",
       "    <tr>\n",
       "      <th>1</th>\n",
       "      <td>2016-01-15 01:00:00</td>\n",
       "      <td>6.029369</td>\n",
       "      <td>9.968944</td>\n",
       "      <td>5.257781</td>\n",
       "      <td>42.701629</td>\n",
       "      <td>69.266198</td>\n",
       "      <td>10.462676</td>\n",
       "      <td>0.927452</td>\n",
       "      <td>16.634514</td>\n",
       "      <td>2.224930</td>\n",
       "      <td>...</td>\n",
       "      <td>13.992281</td>\n",
       "      <td>-505.503262</td>\n",
       "      <td>11.950531</td>\n",
       "      <td>-501.331529</td>\n",
       "      <td>10.039245</td>\n",
       "      <td>-500.169983</td>\n",
       "      <td>7.984757</td>\n",
       "      <td>-500.582168</td>\n",
       "      <td>13.998353</td>\n",
       "      <td>-599.787184</td>\n",
       "    </tr>\n",
       "    <tr>\n",
       "      <th>2</th>\n",
       "      <td>2016-01-15 02:00:00</td>\n",
       "      <td>6.055926</td>\n",
       "      <td>10.213995</td>\n",
       "      <td>5.383759</td>\n",
       "      <td>42.657501</td>\n",
       "      <td>68.116445</td>\n",
       "      <td>10.507046</td>\n",
       "      <td>0.953716</td>\n",
       "      <td>16.208849</td>\n",
       "      <td>2.257889</td>\n",
       "      <td>...</td>\n",
       "      <td>14.015015</td>\n",
       "      <td>-502.520901</td>\n",
       "      <td>11.912783</td>\n",
       "      <td>-501.133383</td>\n",
       "      <td>10.070913</td>\n",
       "      <td>-500.129135</td>\n",
       "      <td>8.013877</td>\n",
       "      <td>-500.517572</td>\n",
       "      <td>14.028663</td>\n",
       "      <td>-601.427363</td>\n",
       "    </tr>\n",
       "    <tr>\n",
       "      <th>3</th>\n",
       "      <td>2016-01-15 03:00:00</td>\n",
       "      <td>6.047977</td>\n",
       "      <td>9.977019</td>\n",
       "      <td>4.858634</td>\n",
       "      <td>42.689819</td>\n",
       "      <td>68.347543</td>\n",
       "      <td>10.422762</td>\n",
       "      <td>0.883763</td>\n",
       "      <td>16.532835</td>\n",
       "      <td>2.146849</td>\n",
       "      <td>...</td>\n",
       "      <td>14.036510</td>\n",
       "      <td>-500.857308</td>\n",
       "      <td>11.999550</td>\n",
       "      <td>-501.193686</td>\n",
       "      <td>9.970366</td>\n",
       "      <td>-499.201640</td>\n",
       "      <td>7.977324</td>\n",
       "      <td>-500.255908</td>\n",
       "      <td>14.005551</td>\n",
       "      <td>-599.996129</td>\n",
       "    </tr>\n",
       "    <tr>\n",
       "      <th>4</th>\n",
       "      <td>2016-01-15 04:00:00</td>\n",
       "      <td>6.148599</td>\n",
       "      <td>10.142511</td>\n",
       "      <td>4.939416</td>\n",
       "      <td>42.774141</td>\n",
       "      <td>66.927016</td>\n",
       "      <td>10.360302</td>\n",
       "      <td>0.792826</td>\n",
       "      <td>16.525686</td>\n",
       "      <td>2.055292</td>\n",
       "      <td>...</td>\n",
       "      <td>14.027298</td>\n",
       "      <td>-499.838632</td>\n",
       "      <td>11.953070</td>\n",
       "      <td>-501.053894</td>\n",
       "      <td>9.925709</td>\n",
       "      <td>-501.686727</td>\n",
       "      <td>7.894242</td>\n",
       "      <td>-500.356035</td>\n",
       "      <td>13.996647</td>\n",
       "      <td>-601.496691</td>\n",
       "    </tr>\n",
       "  </tbody>\n",
       "</table>\n",
       "<p>5 rows × 87 columns</p>\n",
       "</div>"
      ],
      "text/plain": [
       "                  date  final.output.concentrate_ag  \\\n",
       "0  2016-01-15 00:00:00                     6.055403   \n",
       "1  2016-01-15 01:00:00                     6.029369   \n",
       "2  2016-01-15 02:00:00                     6.055926   \n",
       "3  2016-01-15 03:00:00                     6.047977   \n",
       "4  2016-01-15 04:00:00                     6.148599   \n",
       "\n",
       "   final.output.concentrate_pb  final.output.concentrate_sol  \\\n",
       "0                     9.889648                      5.507324   \n",
       "1                     9.968944                      5.257781   \n",
       "2                    10.213995                      5.383759   \n",
       "3                     9.977019                      4.858634   \n",
       "4                    10.142511                      4.939416   \n",
       "\n",
       "   final.output.concentrate_au  final.output.recovery  final.output.tail_ag  \\\n",
       "0                    42.192020              70.541216             10.411962   \n",
       "1                    42.701629              69.266198             10.462676   \n",
       "2                    42.657501              68.116445             10.507046   \n",
       "3                    42.689819              68.347543             10.422762   \n",
       "4                    42.774141              66.927016             10.360302   \n",
       "\n",
       "   final.output.tail_pb  final.output.tail_sol  final.output.tail_au  ...  \\\n",
       "0              0.895447              16.904297              2.143149  ...   \n",
       "1              0.927452              16.634514              2.224930  ...   \n",
       "2              0.953716              16.208849              2.257889  ...   \n",
       "3              0.883763              16.532835              2.146849  ...   \n",
       "4              0.792826              16.525686              2.055292  ...   \n",
       "\n",
       "   secondary_cleaner.state.floatbank4_a_air  \\\n",
       "0                                 14.016835   \n",
       "1                                 13.992281   \n",
       "2                                 14.015015   \n",
       "3                                 14.036510   \n",
       "4                                 14.027298   \n",
       "\n",
       "   secondary_cleaner.state.floatbank4_a_level  \\\n",
       "0                                 -502.488007   \n",
       "1                                 -505.503262   \n",
       "2                                 -502.520901   \n",
       "3                                 -500.857308   \n",
       "4                                 -499.838632   \n",
       "\n",
       "   secondary_cleaner.state.floatbank4_b_air  \\\n",
       "0                                 12.099931   \n",
       "1                                 11.950531   \n",
       "2                                 11.912783   \n",
       "3                                 11.999550   \n",
       "4                                 11.953070   \n",
       "\n",
       "   secondary_cleaner.state.floatbank4_b_level  \\\n",
       "0                                 -504.715942   \n",
       "1                                 -501.331529   \n",
       "2                                 -501.133383   \n",
       "3                                 -501.193686   \n",
       "4                                 -501.053894   \n",
       "\n",
       "   secondary_cleaner.state.floatbank5_a_air  \\\n",
       "0                                  9.925633   \n",
       "1                                 10.039245   \n",
       "2                                 10.070913   \n",
       "3                                  9.970366   \n",
       "4                                  9.925709   \n",
       "\n",
       "   secondary_cleaner.state.floatbank5_a_level  \\\n",
       "0                                 -498.310211   \n",
       "1                                 -500.169983   \n",
       "2                                 -500.129135   \n",
       "3                                 -499.201640   \n",
       "4                                 -501.686727   \n",
       "\n",
       "   secondary_cleaner.state.floatbank5_b_air  \\\n",
       "0                                  8.079666   \n",
       "1                                  7.984757   \n",
       "2                                  8.013877   \n",
       "3                                  7.977324   \n",
       "4                                  7.894242   \n",
       "\n",
       "   secondary_cleaner.state.floatbank5_b_level  \\\n",
       "0                                 -500.470978   \n",
       "1                                 -500.582168   \n",
       "2                                 -500.517572   \n",
       "3                                 -500.255908   \n",
       "4                                 -500.356035   \n",
       "\n",
       "   secondary_cleaner.state.floatbank6_a_air  \\\n",
       "0                                 14.151341   \n",
       "1                                 13.998353   \n",
       "2                                 14.028663   \n",
       "3                                 14.005551   \n",
       "4                                 13.996647   \n",
       "\n",
       "   secondary_cleaner.state.floatbank6_a_level  \n",
       "0                                 -605.841980  \n",
       "1                                 -599.787184  \n",
       "2                                 -601.427363  \n",
       "3                                 -599.996129  \n",
       "4                                 -601.496691  \n",
       "\n",
       "[5 rows x 87 columns]"
      ]
     },
     "metadata": {},
     "output_type": "display_data"
    },
    {
     "name": "stdout",
     "output_type": "stream",
     "text": [
      "\u001b[1m\n",
      "Описание количественных данных:\u001b[0m\n"
     ]
    },
    {
     "data": {
      "text/html": [
       "<div>\n",
       "<style scoped>\n",
       "    .dataframe tbody tr th:only-of-type {\n",
       "        vertical-align: middle;\n",
       "    }\n",
       "\n",
       "    .dataframe tbody tr th {\n",
       "        vertical-align: top;\n",
       "    }\n",
       "\n",
       "    .dataframe thead th {\n",
       "        text-align: right;\n",
       "    }\n",
       "</style>\n",
       "<table border=\"1\" class=\"dataframe\">\n",
       "  <thead>\n",
       "    <tr style=\"text-align: right;\">\n",
       "      <th></th>\n",
       "      <th>count</th>\n",
       "      <th>mean</th>\n",
       "      <th>std</th>\n",
       "      <th>min</th>\n",
       "      <th>25%</th>\n",
       "      <th>50%</th>\n",
       "      <th>75%</th>\n",
       "      <th>max</th>\n",
       "    </tr>\n",
       "  </thead>\n",
       "  <tbody>\n",
       "    <tr>\n",
       "      <th>final.output.concentrate_ag</th>\n",
       "      <td>14148.0</td>\n",
       "      <td>5.142034</td>\n",
       "      <td>1.369586</td>\n",
       "      <td>0.000000</td>\n",
       "      <td>4.211620</td>\n",
       "      <td>4.994652</td>\n",
       "      <td>5.859540</td>\n",
       "      <td>16.001945</td>\n",
       "    </tr>\n",
       "    <tr>\n",
       "      <th>final.output.concentrate_pb</th>\n",
       "      <td>14148.0</td>\n",
       "      <td>10.132960</td>\n",
       "      <td>1.654930</td>\n",
       "      <td>0.000000</td>\n",
       "      <td>9.297355</td>\n",
       "      <td>10.297144</td>\n",
       "      <td>11.170603</td>\n",
       "      <td>17.031899</td>\n",
       "    </tr>\n",
       "    <tr>\n",
       "      <th>final.output.concentrate_sol</th>\n",
       "      <td>13938.0</td>\n",
       "      <td>9.202849</td>\n",
       "      <td>2.790516</td>\n",
       "      <td>0.000000</td>\n",
       "      <td>7.484645</td>\n",
       "      <td>8.845462</td>\n",
       "      <td>10.487508</td>\n",
       "      <td>18.124851</td>\n",
       "    </tr>\n",
       "    <tr>\n",
       "      <th>final.output.concentrate_au</th>\n",
       "      <td>14149.0</td>\n",
       "      <td>44.003792</td>\n",
       "      <td>4.905261</td>\n",
       "      <td>0.000000</td>\n",
       "      <td>43.276111</td>\n",
       "      <td>44.872436</td>\n",
       "      <td>46.166425</td>\n",
       "      <td>52.756638</td>\n",
       "    </tr>\n",
       "    <tr>\n",
       "      <th>final.output.recovery</th>\n",
       "      <td>14149.0</td>\n",
       "      <td>66.518832</td>\n",
       "      <td>10.295402</td>\n",
       "      <td>0.000000</td>\n",
       "      <td>62.545817</td>\n",
       "      <td>67.432775</td>\n",
       "      <td>72.346428</td>\n",
       "      <td>100.000000</td>\n",
       "    </tr>\n",
       "    <tr>\n",
       "      <th>...</th>\n",
       "      <td>...</td>\n",
       "      <td>...</td>\n",
       "      <td>...</td>\n",
       "      <td>...</td>\n",
       "      <td>...</td>\n",
       "      <td>...</td>\n",
       "      <td>...</td>\n",
       "      <td>...</td>\n",
       "    </tr>\n",
       "    <tr>\n",
       "      <th>secondary_cleaner.state.floatbank5_a_level</th>\n",
       "      <td>14148.0</td>\n",
       "      <td>-483.956022</td>\n",
       "      <td>37.892788</td>\n",
       "      <td>-797.142475</td>\n",
       "      <td>-500.363177</td>\n",
       "      <td>-499.702452</td>\n",
       "      <td>-487.712108</td>\n",
       "      <td>-275.073125</td>\n",
       "    </tr>\n",
       "    <tr>\n",
       "      <th>secondary_cleaner.state.floatbank5_b_air</th>\n",
       "      <td>14148.0</td>\n",
       "      <td>13.064590</td>\n",
       "      <td>5.765617</td>\n",
       "      <td>0.646208</td>\n",
       "      <td>8.994405</td>\n",
       "      <td>11.997547</td>\n",
       "      <td>17.982903</td>\n",
       "      <td>27.926001</td>\n",
       "    </tr>\n",
       "    <tr>\n",
       "      <th>secondary_cleaner.state.floatbank5_b_level</th>\n",
       "      <td>14148.0</td>\n",
       "      <td>-483.966564</td>\n",
       "      <td>39.207913</td>\n",
       "      <td>-800.006180</td>\n",
       "      <td>-500.105994</td>\n",
       "      <td>-499.914556</td>\n",
       "      <td>-453.186936</td>\n",
       "      <td>-157.396071</td>\n",
       "    </tr>\n",
       "    <tr>\n",
       "      <th>secondary_cleaner.state.floatbank6_a_air</th>\n",
       "      <td>14147.0</td>\n",
       "      <td>19.577539</td>\n",
       "      <td>5.764417</td>\n",
       "      <td>0.195324</td>\n",
       "      <td>14.989304</td>\n",
       "      <td>19.984175</td>\n",
       "      <td>24.991623</td>\n",
       "      <td>32.188906</td>\n",
       "    </tr>\n",
       "    <tr>\n",
       "      <th>secondary_cleaner.state.floatbank6_a_level</th>\n",
       "      <td>14148.0</td>\n",
       "      <td>-506.798480</td>\n",
       "      <td>37.079249</td>\n",
       "      <td>-809.398668</td>\n",
       "      <td>-500.745104</td>\n",
       "      <td>-500.061431</td>\n",
       "      <td>-499.536466</td>\n",
       "      <td>-104.427459</td>\n",
       "    </tr>\n",
       "  </tbody>\n",
       "</table>\n",
       "<p>86 rows × 8 columns</p>\n",
       "</div>"
      ],
      "text/plain": [
       "                                              count        mean        std  \\\n",
       "final.output.concentrate_ag                 14148.0    5.142034   1.369586   \n",
       "final.output.concentrate_pb                 14148.0   10.132960   1.654930   \n",
       "final.output.concentrate_sol                13938.0    9.202849   2.790516   \n",
       "final.output.concentrate_au                 14149.0   44.003792   4.905261   \n",
       "final.output.recovery                       14149.0   66.518832  10.295402   \n",
       "...                                             ...         ...        ...   \n",
       "secondary_cleaner.state.floatbank5_a_level  14148.0 -483.956022  37.892788   \n",
       "secondary_cleaner.state.floatbank5_b_air    14148.0   13.064590   5.765617   \n",
       "secondary_cleaner.state.floatbank5_b_level  14148.0 -483.966564  39.207913   \n",
       "secondary_cleaner.state.floatbank6_a_air    14147.0   19.577539   5.764417   \n",
       "secondary_cleaner.state.floatbank6_a_level  14148.0 -506.798480  37.079249   \n",
       "\n",
       "                                                   min         25%  \\\n",
       "final.output.concentrate_ag                   0.000000    4.211620   \n",
       "final.output.concentrate_pb                   0.000000    9.297355   \n",
       "final.output.concentrate_sol                  0.000000    7.484645   \n",
       "final.output.concentrate_au                   0.000000   43.276111   \n",
       "final.output.recovery                         0.000000   62.545817   \n",
       "...                                                ...         ...   \n",
       "secondary_cleaner.state.floatbank5_a_level -797.142475 -500.363177   \n",
       "secondary_cleaner.state.floatbank5_b_air      0.646208    8.994405   \n",
       "secondary_cleaner.state.floatbank5_b_level -800.006180 -500.105994   \n",
       "secondary_cleaner.state.floatbank6_a_air      0.195324   14.989304   \n",
       "secondary_cleaner.state.floatbank6_a_level -809.398668 -500.745104   \n",
       "\n",
       "                                                   50%         75%         max  \n",
       "final.output.concentrate_ag                   4.994652    5.859540   16.001945  \n",
       "final.output.concentrate_pb                  10.297144   11.170603   17.031899  \n",
       "final.output.concentrate_sol                  8.845462   10.487508   18.124851  \n",
       "final.output.concentrate_au                  44.872436   46.166425   52.756638  \n",
       "final.output.recovery                        67.432775   72.346428  100.000000  \n",
       "...                                                ...         ...         ...  \n",
       "secondary_cleaner.state.floatbank5_a_level -499.702452 -487.712108 -275.073125  \n",
       "secondary_cleaner.state.floatbank5_b_air     11.997547   17.982903   27.926001  \n",
       "secondary_cleaner.state.floatbank5_b_level -499.914556 -453.186936 -157.396071  \n",
       "secondary_cleaner.state.floatbank6_a_air     19.984175   24.991623   32.188906  \n",
       "secondary_cleaner.state.floatbank6_a_level -500.061431 -499.536466 -104.427459  \n",
       "\n",
       "[86 rows x 8 columns]"
      ]
     },
     "metadata": {},
     "output_type": "display_data"
    },
    {
     "name": "stdout",
     "output_type": "stream",
     "text": [
      "\u001b[1m\n",
      "Описание категориальных данных:\u001b[0m\n"
     ]
    },
    {
     "data": {
      "text/html": [
       "<div>\n",
       "<style scoped>\n",
       "    .dataframe tbody tr th:only-of-type {\n",
       "        vertical-align: middle;\n",
       "    }\n",
       "\n",
       "    .dataframe tbody tr th {\n",
       "        vertical-align: top;\n",
       "    }\n",
       "\n",
       "    .dataframe thead th {\n",
       "        text-align: right;\n",
       "    }\n",
       "</style>\n",
       "<table border=\"1\" class=\"dataframe\">\n",
       "  <thead>\n",
       "    <tr style=\"text-align: right;\">\n",
       "      <th></th>\n",
       "      <th>count</th>\n",
       "      <th>unique</th>\n",
       "      <th>top</th>\n",
       "      <th>freq</th>\n",
       "    </tr>\n",
       "  </thead>\n",
       "  <tbody>\n",
       "    <tr>\n",
       "      <th>date</th>\n",
       "      <td>14149</td>\n",
       "      <td>14149</td>\n",
       "      <td>2017-05-10 19:59:59</td>\n",
       "      <td>1</td>\n",
       "    </tr>\n",
       "  </tbody>\n",
       "</table>\n",
       "</div>"
      ],
      "text/plain": [
       "      count unique                  top freq\n",
       "date  14149  14149  2017-05-10 19:59:59    1"
      ]
     },
     "metadata": {},
     "output_type": "display_data"
    },
    {
     "name": "stdout",
     "output_type": "stream",
     "text": [
      "\u001b[1m\n",
      "Вывод уникальных значений по каждому категориаьному признаку:\u001b[0m\n",
      "\u001b[1m_date\u001b[0m\n"
     ]
    },
    {
     "data": {
      "text/plain": [
       "2017-05-10 19:59:59    1\n",
       "2016-02-12 05:00:00    1\n",
       "2018-02-22 00:59:59    1\n",
       "2018-04-22 00:59:59    1\n",
       "2016-05-19 20:59:59    1\n",
       "                      ..\n",
       "2016-02-09 04:00:00    1\n",
       "2017-04-10 01:59:59    1\n",
       "2017-07-28 19:59:59    1\n",
       "2018-06-01 09:59:59    1\n",
       "2017-07-13 19:59:59    1\n",
       "Name: date, Length: 14149, dtype: int64"
      ]
     },
     "metadata": {},
     "output_type": "display_data"
    }
   ],
   "source": [
    "# ОПИСАТЕЛЬНЫЙ АНАЛИЗ \n",
    "# Обучающая выборка\n",
    "\n",
    "check_data(df_train)"
   ]
  },
  {
   "cell_type": "code",
   "execution_count": 10,
   "metadata": {},
   "outputs": [
    {
     "name": "stdout",
     "output_type": "stream",
     "text": [
      "\u001b[1mИзучим исходные данные\u001b[0m\n",
      "<class 'pandas.core.frame.DataFrame'>\n",
      "RangeIndex: 5290 entries, 0 to 5289\n",
      "Data columns (total 53 columns):\n",
      " #   Column                                      Non-Null Count  Dtype  \n",
      "---  ------                                      --------------  -----  \n",
      " 0   date                                        5290 non-null   object \n",
      " 1   primary_cleaner.input.sulfate               5286 non-null   float64\n",
      " 2   primary_cleaner.input.depressant            5285 non-null   float64\n",
      " 3   primary_cleaner.input.feed_size             5290 non-null   float64\n",
      " 4   primary_cleaner.input.xanthate              5286 non-null   float64\n",
      " 5   primary_cleaner.state.floatbank8_a_air      5290 non-null   float64\n",
      " 6   primary_cleaner.state.floatbank8_a_level    5290 non-null   float64\n",
      " 7   primary_cleaner.state.floatbank8_b_air      5290 non-null   float64\n",
      " 8   primary_cleaner.state.floatbank8_b_level    5290 non-null   float64\n",
      " 9   primary_cleaner.state.floatbank8_c_air      5290 non-null   float64\n",
      " 10  primary_cleaner.state.floatbank8_c_level    5290 non-null   float64\n",
      " 11  primary_cleaner.state.floatbank8_d_air      5290 non-null   float64\n",
      " 12  primary_cleaner.state.floatbank8_d_level    5290 non-null   float64\n",
      " 13  rougher.input.feed_ag                       5290 non-null   float64\n",
      " 14  rougher.input.feed_pb                       5290 non-null   float64\n",
      " 15  rougher.input.feed_rate                     5287 non-null   float64\n",
      " 16  rougher.input.feed_size                     5289 non-null   float64\n",
      " 17  rougher.input.feed_sol                      5269 non-null   float64\n",
      " 18  rougher.input.feed_au                       5290 non-null   float64\n",
      " 19  rougher.input.floatbank10_sulfate           5285 non-null   float64\n",
      " 20  rougher.input.floatbank10_xanthate          5290 non-null   float64\n",
      " 21  rougher.input.floatbank11_sulfate           5282 non-null   float64\n",
      " 22  rougher.input.floatbank11_xanthate          5265 non-null   float64\n",
      " 23  rougher.state.floatbank10_a_air             5290 non-null   float64\n",
      " 24  rougher.state.floatbank10_a_level           5290 non-null   float64\n",
      " 25  rougher.state.floatbank10_b_air             5290 non-null   float64\n",
      " 26  rougher.state.floatbank10_b_level           5290 non-null   float64\n",
      " 27  rougher.state.floatbank10_c_air             5290 non-null   float64\n",
      " 28  rougher.state.floatbank10_c_level           5290 non-null   float64\n",
      " 29  rougher.state.floatbank10_d_air             5290 non-null   float64\n",
      " 30  rougher.state.floatbank10_d_level           5290 non-null   float64\n",
      " 31  rougher.state.floatbank10_e_air             5290 non-null   float64\n",
      " 32  rougher.state.floatbank10_e_level           5290 non-null   float64\n",
      " 33  rougher.state.floatbank10_f_air             5290 non-null   float64\n",
      " 34  rougher.state.floatbank10_f_level           5290 non-null   float64\n",
      " 35  secondary_cleaner.state.floatbank2_a_air    5287 non-null   float64\n",
      " 36  secondary_cleaner.state.floatbank2_a_level  5290 non-null   float64\n",
      " 37  secondary_cleaner.state.floatbank2_b_air    5288 non-null   float64\n",
      " 38  secondary_cleaner.state.floatbank2_b_level  5290 non-null   float64\n",
      " 39  secondary_cleaner.state.floatbank3_a_air    5281 non-null   float64\n",
      " 40  secondary_cleaner.state.floatbank3_a_level  5290 non-null   float64\n",
      " 41  secondary_cleaner.state.floatbank3_b_air    5290 non-null   float64\n",
      " 42  secondary_cleaner.state.floatbank3_b_level  5290 non-null   float64\n",
      " 43  secondary_cleaner.state.floatbank4_a_air    5290 non-null   float64\n",
      " 44  secondary_cleaner.state.floatbank4_a_level  5290 non-null   float64\n",
      " 45  secondary_cleaner.state.floatbank4_b_air    5290 non-null   float64\n",
      " 46  secondary_cleaner.state.floatbank4_b_level  5290 non-null   float64\n",
      " 47  secondary_cleaner.state.floatbank5_a_air    5290 non-null   float64\n",
      " 48  secondary_cleaner.state.floatbank5_a_level  5290 non-null   float64\n",
      " 49  secondary_cleaner.state.floatbank5_b_air    5290 non-null   float64\n",
      " 50  secondary_cleaner.state.floatbank5_b_level  5290 non-null   float64\n",
      " 51  secondary_cleaner.state.floatbank6_a_air    5290 non-null   float64\n",
      " 52  secondary_cleaner.state.floatbank6_a_level  5290 non-null   float64\n",
      "dtypes: float64(52), object(1)\n",
      "memory usage: 2.1+ MB\n",
      "None\n",
      "(5290, 53)\n",
      "\u001b[1m\n",
      "Проверка пропусков\u001b[0m\n",
      "Количество пропусков: 90\n",
      "Доля пропусков: 0.0%\u001b[0m\n",
      "Доля строк содержащих пропуски: 1.2%\n",
      "\u001b[1m\n",
      "Проверка на дубликаты\u001b[0m\n",
      "Количество полных дубликатов:  0\n",
      "\u001b[1m\n",
      "Первые пять строк датасета\u001b[0m\n"
     ]
    },
    {
     "data": {
      "text/html": [
       "<div>\n",
       "<style scoped>\n",
       "    .dataframe tbody tr th:only-of-type {\n",
       "        vertical-align: middle;\n",
       "    }\n",
       "\n",
       "    .dataframe tbody tr th {\n",
       "        vertical-align: top;\n",
       "    }\n",
       "\n",
       "    .dataframe thead th {\n",
       "        text-align: right;\n",
       "    }\n",
       "</style>\n",
       "<table border=\"1\" class=\"dataframe\">\n",
       "  <thead>\n",
       "    <tr style=\"text-align: right;\">\n",
       "      <th></th>\n",
       "      <th>date</th>\n",
       "      <th>primary_cleaner.input.sulfate</th>\n",
       "      <th>primary_cleaner.input.depressant</th>\n",
       "      <th>primary_cleaner.input.feed_size</th>\n",
       "      <th>primary_cleaner.input.xanthate</th>\n",
       "      <th>primary_cleaner.state.floatbank8_a_air</th>\n",
       "      <th>primary_cleaner.state.floatbank8_a_level</th>\n",
       "      <th>primary_cleaner.state.floatbank8_b_air</th>\n",
       "      <th>primary_cleaner.state.floatbank8_b_level</th>\n",
       "      <th>primary_cleaner.state.floatbank8_c_air</th>\n",
       "      <th>...</th>\n",
       "      <th>secondary_cleaner.state.floatbank4_a_air</th>\n",
       "      <th>secondary_cleaner.state.floatbank4_a_level</th>\n",
       "      <th>secondary_cleaner.state.floatbank4_b_air</th>\n",
       "      <th>secondary_cleaner.state.floatbank4_b_level</th>\n",
       "      <th>secondary_cleaner.state.floatbank5_a_air</th>\n",
       "      <th>secondary_cleaner.state.floatbank5_a_level</th>\n",
       "      <th>secondary_cleaner.state.floatbank5_b_air</th>\n",
       "      <th>secondary_cleaner.state.floatbank5_b_level</th>\n",
       "      <th>secondary_cleaner.state.floatbank6_a_air</th>\n",
       "      <th>secondary_cleaner.state.floatbank6_a_level</th>\n",
       "    </tr>\n",
       "  </thead>\n",
       "  <tbody>\n",
       "    <tr>\n",
       "      <th>0</th>\n",
       "      <td>2016-09-01 00:59:59</td>\n",
       "      <td>210.800909</td>\n",
       "      <td>14.993118</td>\n",
       "      <td>8.080000</td>\n",
       "      <td>1.005021</td>\n",
       "      <td>1398.981301</td>\n",
       "      <td>-500.225577</td>\n",
       "      <td>1399.144926</td>\n",
       "      <td>-499.919735</td>\n",
       "      <td>1400.102998</td>\n",
       "      <td>...</td>\n",
       "      <td>12.023554</td>\n",
       "      <td>-497.795834</td>\n",
       "      <td>8.016656</td>\n",
       "      <td>-501.289139</td>\n",
       "      <td>7.946562</td>\n",
       "      <td>-432.317850</td>\n",
       "      <td>4.872511</td>\n",
       "      <td>-500.037437</td>\n",
       "      <td>26.705889</td>\n",
       "      <td>-499.709414</td>\n",
       "    </tr>\n",
       "    <tr>\n",
       "      <th>1</th>\n",
       "      <td>2016-09-01 01:59:59</td>\n",
       "      <td>215.392455</td>\n",
       "      <td>14.987471</td>\n",
       "      <td>8.080000</td>\n",
       "      <td>0.990469</td>\n",
       "      <td>1398.777912</td>\n",
       "      <td>-500.057435</td>\n",
       "      <td>1398.055362</td>\n",
       "      <td>-499.778182</td>\n",
       "      <td>1396.151033</td>\n",
       "      <td>...</td>\n",
       "      <td>12.058140</td>\n",
       "      <td>-498.695773</td>\n",
       "      <td>8.130979</td>\n",
       "      <td>-499.634209</td>\n",
       "      <td>7.958270</td>\n",
       "      <td>-525.839648</td>\n",
       "      <td>4.878850</td>\n",
       "      <td>-500.162375</td>\n",
       "      <td>25.019940</td>\n",
       "      <td>-499.819438</td>\n",
       "    </tr>\n",
       "    <tr>\n",
       "      <th>2</th>\n",
       "      <td>2016-09-01 02:59:59</td>\n",
       "      <td>215.259946</td>\n",
       "      <td>12.884934</td>\n",
       "      <td>7.786667</td>\n",
       "      <td>0.996043</td>\n",
       "      <td>1398.493666</td>\n",
       "      <td>-500.868360</td>\n",
       "      <td>1398.860436</td>\n",
       "      <td>-499.764529</td>\n",
       "      <td>1398.075709</td>\n",
       "      <td>...</td>\n",
       "      <td>11.962366</td>\n",
       "      <td>-498.767484</td>\n",
       "      <td>8.096893</td>\n",
       "      <td>-500.827423</td>\n",
       "      <td>8.071056</td>\n",
       "      <td>-500.801673</td>\n",
       "      <td>4.905125</td>\n",
       "      <td>-499.828510</td>\n",
       "      <td>24.994862</td>\n",
       "      <td>-500.622559</td>\n",
       "    </tr>\n",
       "    <tr>\n",
       "      <th>3</th>\n",
       "      <td>2016-09-01 03:59:59</td>\n",
       "      <td>215.336236</td>\n",
       "      <td>12.006805</td>\n",
       "      <td>7.640000</td>\n",
       "      <td>0.863514</td>\n",
       "      <td>1399.618111</td>\n",
       "      <td>-498.863574</td>\n",
       "      <td>1397.440120</td>\n",
       "      <td>-499.211024</td>\n",
       "      <td>1400.129303</td>\n",
       "      <td>...</td>\n",
       "      <td>12.033091</td>\n",
       "      <td>-498.350935</td>\n",
       "      <td>8.074946</td>\n",
       "      <td>-499.474407</td>\n",
       "      <td>7.897085</td>\n",
       "      <td>-500.868509</td>\n",
       "      <td>4.931400</td>\n",
       "      <td>-499.963623</td>\n",
       "      <td>24.948919</td>\n",
       "      <td>-498.709987</td>\n",
       "    </tr>\n",
       "    <tr>\n",
       "      <th>4</th>\n",
       "      <td>2016-09-01 04:59:59</td>\n",
       "      <td>199.099327</td>\n",
       "      <td>10.682530</td>\n",
       "      <td>7.530000</td>\n",
       "      <td>0.805575</td>\n",
       "      <td>1401.268123</td>\n",
       "      <td>-500.808305</td>\n",
       "      <td>1398.128818</td>\n",
       "      <td>-499.504543</td>\n",
       "      <td>1402.172226</td>\n",
       "      <td>...</td>\n",
       "      <td>12.025367</td>\n",
       "      <td>-500.786497</td>\n",
       "      <td>8.054678</td>\n",
       "      <td>-500.397500</td>\n",
       "      <td>8.107890</td>\n",
       "      <td>-509.526725</td>\n",
       "      <td>4.957674</td>\n",
       "      <td>-500.360026</td>\n",
       "      <td>25.003331</td>\n",
       "      <td>-500.856333</td>\n",
       "    </tr>\n",
       "  </tbody>\n",
       "</table>\n",
       "<p>5 rows × 53 columns</p>\n",
       "</div>"
      ],
      "text/plain": [
       "                  date  primary_cleaner.input.sulfate  \\\n",
       "0  2016-09-01 00:59:59                     210.800909   \n",
       "1  2016-09-01 01:59:59                     215.392455   \n",
       "2  2016-09-01 02:59:59                     215.259946   \n",
       "3  2016-09-01 03:59:59                     215.336236   \n",
       "4  2016-09-01 04:59:59                     199.099327   \n",
       "\n",
       "   primary_cleaner.input.depressant  primary_cleaner.input.feed_size  \\\n",
       "0                         14.993118                         8.080000   \n",
       "1                         14.987471                         8.080000   \n",
       "2                         12.884934                         7.786667   \n",
       "3                         12.006805                         7.640000   \n",
       "4                         10.682530                         7.530000   \n",
       "\n",
       "   primary_cleaner.input.xanthate  primary_cleaner.state.floatbank8_a_air  \\\n",
       "0                        1.005021                             1398.981301   \n",
       "1                        0.990469                             1398.777912   \n",
       "2                        0.996043                             1398.493666   \n",
       "3                        0.863514                             1399.618111   \n",
       "4                        0.805575                             1401.268123   \n",
       "\n",
       "   primary_cleaner.state.floatbank8_a_level  \\\n",
       "0                               -500.225577   \n",
       "1                               -500.057435   \n",
       "2                               -500.868360   \n",
       "3                               -498.863574   \n",
       "4                               -500.808305   \n",
       "\n",
       "   primary_cleaner.state.floatbank8_b_air  \\\n",
       "0                             1399.144926   \n",
       "1                             1398.055362   \n",
       "2                             1398.860436   \n",
       "3                             1397.440120   \n",
       "4                             1398.128818   \n",
       "\n",
       "   primary_cleaner.state.floatbank8_b_level  \\\n",
       "0                               -499.919735   \n",
       "1                               -499.778182   \n",
       "2                               -499.764529   \n",
       "3                               -499.211024   \n",
       "4                               -499.504543   \n",
       "\n",
       "   primary_cleaner.state.floatbank8_c_air  ...  \\\n",
       "0                             1400.102998  ...   \n",
       "1                             1396.151033  ...   \n",
       "2                             1398.075709  ...   \n",
       "3                             1400.129303  ...   \n",
       "4                             1402.172226  ...   \n",
       "\n",
       "   secondary_cleaner.state.floatbank4_a_air  \\\n",
       "0                                 12.023554   \n",
       "1                                 12.058140   \n",
       "2                                 11.962366   \n",
       "3                                 12.033091   \n",
       "4                                 12.025367   \n",
       "\n",
       "   secondary_cleaner.state.floatbank4_a_level  \\\n",
       "0                                 -497.795834   \n",
       "1                                 -498.695773   \n",
       "2                                 -498.767484   \n",
       "3                                 -498.350935   \n",
       "4                                 -500.786497   \n",
       "\n",
       "   secondary_cleaner.state.floatbank4_b_air  \\\n",
       "0                                  8.016656   \n",
       "1                                  8.130979   \n",
       "2                                  8.096893   \n",
       "3                                  8.074946   \n",
       "4                                  8.054678   \n",
       "\n",
       "   secondary_cleaner.state.floatbank4_b_level  \\\n",
       "0                                 -501.289139   \n",
       "1                                 -499.634209   \n",
       "2                                 -500.827423   \n",
       "3                                 -499.474407   \n",
       "4                                 -500.397500   \n",
       "\n",
       "   secondary_cleaner.state.floatbank5_a_air  \\\n",
       "0                                  7.946562   \n",
       "1                                  7.958270   \n",
       "2                                  8.071056   \n",
       "3                                  7.897085   \n",
       "4                                  8.107890   \n",
       "\n",
       "   secondary_cleaner.state.floatbank5_a_level  \\\n",
       "0                                 -432.317850   \n",
       "1                                 -525.839648   \n",
       "2                                 -500.801673   \n",
       "3                                 -500.868509   \n",
       "4                                 -509.526725   \n",
       "\n",
       "   secondary_cleaner.state.floatbank5_b_air  \\\n",
       "0                                  4.872511   \n",
       "1                                  4.878850   \n",
       "2                                  4.905125   \n",
       "3                                  4.931400   \n",
       "4                                  4.957674   \n",
       "\n",
       "   secondary_cleaner.state.floatbank5_b_level  \\\n",
       "0                                 -500.037437   \n",
       "1                                 -500.162375   \n",
       "2                                 -499.828510   \n",
       "3                                 -499.963623   \n",
       "4                                 -500.360026   \n",
       "\n",
       "   secondary_cleaner.state.floatbank6_a_air  \\\n",
       "0                                 26.705889   \n",
       "1                                 25.019940   \n",
       "2                                 24.994862   \n",
       "3                                 24.948919   \n",
       "4                                 25.003331   \n",
       "\n",
       "   secondary_cleaner.state.floatbank6_a_level  \n",
       "0                                 -499.709414  \n",
       "1                                 -499.819438  \n",
       "2                                 -500.622559  \n",
       "3                                 -498.709987  \n",
       "4                                 -500.856333  \n",
       "\n",
       "[5 rows x 53 columns]"
      ]
     },
     "metadata": {},
     "output_type": "display_data"
    },
    {
     "name": "stdout",
     "output_type": "stream",
     "text": [
      "\u001b[1m\n",
      "Описание количественных данных:\u001b[0m\n"
     ]
    },
    {
     "data": {
      "text/html": [
       "<div>\n",
       "<style scoped>\n",
       "    .dataframe tbody tr th:only-of-type {\n",
       "        vertical-align: middle;\n",
       "    }\n",
       "\n",
       "    .dataframe tbody tr th {\n",
       "        vertical-align: top;\n",
       "    }\n",
       "\n",
       "    .dataframe thead th {\n",
       "        text-align: right;\n",
       "    }\n",
       "</style>\n",
       "<table border=\"1\" class=\"dataframe\">\n",
       "  <thead>\n",
       "    <tr style=\"text-align: right;\">\n",
       "      <th></th>\n",
       "      <th>count</th>\n",
       "      <th>mean</th>\n",
       "      <th>std</th>\n",
       "      <th>min</th>\n",
       "      <th>25%</th>\n",
       "      <th>50%</th>\n",
       "      <th>75%</th>\n",
       "      <th>max</th>\n",
       "    </tr>\n",
       "  </thead>\n",
       "  <tbody>\n",
       "    <tr>\n",
       "      <th>primary_cleaner.input.sulfate</th>\n",
       "      <td>5286.0</td>\n",
       "      <td>174.839652</td>\n",
       "      <td>43.027080</td>\n",
       "      <td>2.566156e+00</td>\n",
       "      <td>147.121401</td>\n",
       "      <td>177.828489</td>\n",
       "      <td>208.125438</td>\n",
       "      <td>265.983123</td>\n",
       "    </tr>\n",
       "    <tr>\n",
       "      <th>primary_cleaner.input.depressant</th>\n",
       "      <td>5285.0</td>\n",
       "      <td>8.683596</td>\n",
       "      <td>3.072050</td>\n",
       "      <td>3.839482e-03</td>\n",
       "      <td>6.489555</td>\n",
       "      <td>8.052207</td>\n",
       "      <td>10.027764</td>\n",
       "      <td>40.000000</td>\n",
       "    </tr>\n",
       "    <tr>\n",
       "      <th>primary_cleaner.input.feed_size</th>\n",
       "      <td>5290.0</td>\n",
       "      <td>7.266339</td>\n",
       "      <td>0.610219</td>\n",
       "      <td>5.650000e+00</td>\n",
       "      <td>6.890000</td>\n",
       "      <td>7.250000</td>\n",
       "      <td>7.600000</td>\n",
       "      <td>15.500000</td>\n",
       "    </tr>\n",
       "    <tr>\n",
       "      <th>primary_cleaner.input.xanthate</th>\n",
       "      <td>5286.0</td>\n",
       "      <td>1.383803</td>\n",
       "      <td>0.643474</td>\n",
       "      <td>4.983673e-03</td>\n",
       "      <td>0.907623</td>\n",
       "      <td>1.197610</td>\n",
       "      <td>1.797819</td>\n",
       "      <td>4.102454</td>\n",
       "    </tr>\n",
       "    <tr>\n",
       "      <th>primary_cleaner.state.floatbank8_a_air</th>\n",
       "      <td>5290.0</td>\n",
       "      <td>1539.494325</td>\n",
       "      <td>116.797884</td>\n",
       "      <td>5.445860e-32</td>\n",
       "      <td>1498.935802</td>\n",
       "      <td>1585.129123</td>\n",
       "      <td>1602.076529</td>\n",
       "      <td>2103.103580</td>\n",
       "    </tr>\n",
       "    <tr>\n",
       "      <th>primary_cleaner.state.floatbank8_a_level</th>\n",
       "      <td>5290.0</td>\n",
       "      <td>-497.665883</td>\n",
       "      <td>19.952431</td>\n",
       "      <td>-7.953163e+02</td>\n",
       "      <td>-500.357298</td>\n",
       "      <td>-499.969164</td>\n",
       "      <td>-499.568951</td>\n",
       "      <td>-57.195404</td>\n",
       "    </tr>\n",
       "    <tr>\n",
       "      <th>primary_cleaner.state.floatbank8_b_air</th>\n",
       "      <td>5290.0</td>\n",
       "      <td>1545.174232</td>\n",
       "      <td>122.224588</td>\n",
       "      <td>6.647490e-32</td>\n",
       "      <td>1498.970993</td>\n",
       "      <td>1595.621798</td>\n",
       "      <td>1602.323545</td>\n",
       "      <td>1813.083671</td>\n",
       "    </tr>\n",
       "    <tr>\n",
       "      <th>primary_cleaner.state.floatbank8_b_level</th>\n",
       "      <td>5290.0</td>\n",
       "      <td>-500.273098</td>\n",
       "      <td>32.968307</td>\n",
       "      <td>-7.999970e+02</td>\n",
       "      <td>-500.703002</td>\n",
       "      <td>-500.028514</td>\n",
       "      <td>-499.293257</td>\n",
       "      <td>-142.527229</td>\n",
       "    </tr>\n",
       "    <tr>\n",
       "      <th>primary_cleaner.state.floatbank8_c_air</th>\n",
       "      <td>5290.0</td>\n",
       "      <td>1527.272362</td>\n",
       "      <td>122.538034</td>\n",
       "      <td>4.033736e-32</td>\n",
       "      <td>1473.229862</td>\n",
       "      <td>1549.594682</td>\n",
       "      <td>1601.143775</td>\n",
       "      <td>1715.053773</td>\n",
       "    </tr>\n",
       "    <tr>\n",
       "      <th>primary_cleaner.state.floatbank8_c_level</th>\n",
       "      <td>5290.0</td>\n",
       "      <td>-498.330680</td>\n",
       "      <td>21.964876</td>\n",
       "      <td>-7.999606e+02</td>\n",
       "      <td>-501.018117</td>\n",
       "      <td>-500.017711</td>\n",
       "      <td>-498.994130</td>\n",
       "      <td>-150.937035</td>\n",
       "    </tr>\n",
       "    <tr>\n",
       "      <th>primary_cleaner.state.floatbank8_d_air</th>\n",
       "      <td>5290.0</td>\n",
       "      <td>1544.844335</td>\n",
       "      <td>124.773081</td>\n",
       "      <td>4.039220e-32</td>\n",
       "      <td>1499.481404</td>\n",
       "      <td>1594.579112</td>\n",
       "      <td>1600.964772</td>\n",
       "      <td>1913.256561</td>\n",
       "    </tr>\n",
       "    <tr>\n",
       "      <th>primary_cleaner.state.floatbank8_d_level</th>\n",
       "      <td>5290.0</td>\n",
       "      <td>-500.199527</td>\n",
       "      <td>31.045257</td>\n",
       "      <td>-7.997943e+02</td>\n",
       "      <td>-500.452469</td>\n",
       "      <td>-500.023307</td>\n",
       "      <td>-499.607040</td>\n",
       "      <td>-158.950573</td>\n",
       "    </tr>\n",
       "    <tr>\n",
       "      <th>rougher.input.feed_ag</th>\n",
       "      <td>5290.0</td>\n",
       "      <td>9.371940</td>\n",
       "      <td>1.926264</td>\n",
       "      <td>5.684412e-01</td>\n",
       "      <td>8.112434</td>\n",
       "      <td>9.762654</td>\n",
       "      <td>10.652297</td>\n",
       "      <td>14.406130</td>\n",
       "    </tr>\n",
       "    <tr>\n",
       "      <th>rougher.input.feed_pb</th>\n",
       "      <td>5290.0</td>\n",
       "      <td>3.798082</td>\n",
       "      <td>0.954859</td>\n",
       "      <td>2.736769e-01</td>\n",
       "      <td>3.240251</td>\n",
       "      <td>3.740716</td>\n",
       "      <td>4.282634</td>\n",
       "      <td>6.905684</td>\n",
       "    </tr>\n",
       "    <tr>\n",
       "      <th>rougher.input.feed_rate</th>\n",
       "      <td>5287.0</td>\n",
       "      <td>489.800620</td>\n",
       "      <td>108.036326</td>\n",
       "      <td>2.985849e-03</td>\n",
       "      <td>407.020883</td>\n",
       "      <td>499.051440</td>\n",
       "      <td>575.307213</td>\n",
       "      <td>707.364020</td>\n",
       "    </tr>\n",
       "    <tr>\n",
       "      <th>rougher.input.feed_size</th>\n",
       "      <td>5289.0</td>\n",
       "      <td>55.951097</td>\n",
       "      <td>19.081758</td>\n",
       "      <td>4.636880e-02</td>\n",
       "      <td>43.906347</td>\n",
       "      <td>50.841029</td>\n",
       "      <td>62.431047</td>\n",
       "      <td>392.494040</td>\n",
       "    </tr>\n",
       "    <tr>\n",
       "      <th>rougher.input.feed_sol</th>\n",
       "      <td>5269.0</td>\n",
       "      <td>37.716648</td>\n",
       "      <td>5.491415</td>\n",
       "      <td>1.393488e+00</td>\n",
       "      <td>34.505576</td>\n",
       "      <td>37.980276</td>\n",
       "      <td>41.635385</td>\n",
       "      <td>53.477742</td>\n",
       "    </tr>\n",
       "    <tr>\n",
       "      <th>rougher.input.feed_au</th>\n",
       "      <td>5290.0</td>\n",
       "      <td>9.334682</td>\n",
       "      <td>1.619521</td>\n",
       "      <td>5.686322e-01</td>\n",
       "      <td>8.207814</td>\n",
       "      <td>9.593766</td>\n",
       "      <td>10.463538</td>\n",
       "      <td>13.731330</td>\n",
       "    </tr>\n",
       "    <tr>\n",
       "      <th>rougher.input.floatbank10_sulfate</th>\n",
       "      <td>5285.0</td>\n",
       "      <td>13.855759</td>\n",
       "      <td>3.350852</td>\n",
       "      <td>1.147460e-03</td>\n",
       "      <td>11.995006</td>\n",
       "      <td>14.003126</td>\n",
       "      <td>16.974284</td>\n",
       "      <td>24.280636</td>\n",
       "    </tr>\n",
       "    <tr>\n",
       "      <th>rougher.input.floatbank10_xanthate</th>\n",
       "      <td>5290.0</td>\n",
       "      <td>6.467745</td>\n",
       "      <td>1.065114</td>\n",
       "      <td>5.682328e-04</td>\n",
       "      <td>5.998779</td>\n",
       "      <td>6.498181</td>\n",
       "      <td>7.085457</td>\n",
       "      <td>8.910468</td>\n",
       "    </tr>\n",
       "    <tr>\n",
       "      <th>rougher.input.floatbank11_sulfate</th>\n",
       "      <td>5282.0</td>\n",
       "      <td>13.922328</td>\n",
       "      <td>3.223769</td>\n",
       "      <td>7.673764e-05</td>\n",
       "      <td>11.997200</td>\n",
       "      <td>14.004371</td>\n",
       "      <td>16.959671</td>\n",
       "      <td>24.280966</td>\n",
       "    </tr>\n",
       "    <tr>\n",
       "      <th>rougher.input.floatbank11_xanthate</th>\n",
       "      <td>5265.0</td>\n",
       "      <td>6.512103</td>\n",
       "      <td>0.886989</td>\n",
       "      <td>6.985269e-03</td>\n",
       "      <td>5.999157</td>\n",
       "      <td>6.498744</td>\n",
       "      <td>7.091808</td>\n",
       "      <td>8.621338</td>\n",
       "    </tr>\n",
       "    <tr>\n",
       "      <th>rougher.state.floatbank10_a_air</th>\n",
       "      <td>5290.0</td>\n",
       "      <td>1053.400166</td>\n",
       "      <td>121.139309</td>\n",
       "      <td>-4.206929e-02</td>\n",
       "      <td>999.205344</td>\n",
       "      <td>1000.472055</td>\n",
       "      <td>1006.254299</td>\n",
       "      <td>1423.274687</td>\n",
       "    </tr>\n",
       "    <tr>\n",
       "      <th>rougher.state.floatbank10_a_level</th>\n",
       "      <td>5290.0</td>\n",
       "      <td>-395.732530</td>\n",
       "      <td>91.085505</td>\n",
       "      <td>-6.579498e+02</td>\n",
       "      <td>-499.920565</td>\n",
       "      <td>-399.693363</td>\n",
       "      <td>-300.060056</td>\n",
       "      <td>-273.776101</td>\n",
       "    </tr>\n",
       "    <tr>\n",
       "      <th>rougher.state.floatbank10_b_air</th>\n",
       "      <td>5290.0</td>\n",
       "      <td>1318.926879</td>\n",
       "      <td>156.450366</td>\n",
       "      <td>-7.218064e-01</td>\n",
       "      <td>1200.871883</td>\n",
       "      <td>1302.254995</td>\n",
       "      <td>1433.955649</td>\n",
       "      <td>1706.640419</td>\n",
       "    </tr>\n",
       "    <tr>\n",
       "      <th>rougher.state.floatbank10_b_level</th>\n",
       "      <td>5290.0</td>\n",
       "      <td>-475.241428</td>\n",
       "      <td>45.649466</td>\n",
       "      <td>-6.502453e+02</td>\n",
       "      <td>-500.256114</td>\n",
       "      <td>-499.837803</td>\n",
       "      <td>-450.749619</td>\n",
       "      <td>-298.200051</td>\n",
       "    </tr>\n",
       "    <tr>\n",
       "      <th>rougher.state.floatbank10_c_air</th>\n",
       "      <td>5290.0</td>\n",
       "      <td>1301.595477</td>\n",
       "      <td>171.269667</td>\n",
       "      <td>-5.663551e-02</td>\n",
       "      <td>1199.651371</td>\n",
       "      <td>1300.202274</td>\n",
       "      <td>1406.594956</td>\n",
       "      <td>1731.017788</td>\n",
       "    </tr>\n",
       "    <tr>\n",
       "      <th>rougher.state.floatbank10_c_level</th>\n",
       "      <td>5290.0</td>\n",
       "      <td>-474.836671</td>\n",
       "      <td>45.859866</td>\n",
       "      <td>-6.475444e+02</td>\n",
       "      <td>-500.233831</td>\n",
       "      <td>-499.777222</td>\n",
       "      <td>-451.153188</td>\n",
       "      <td>-298.036852</td>\n",
       "    </tr>\n",
       "    <tr>\n",
       "      <th>rougher.state.floatbank10_d_air</th>\n",
       "      <td>5290.0</td>\n",
       "      <td>1214.847960</td>\n",
       "      <td>185.763319</td>\n",
       "      <td>-9.922190e-01</td>\n",
       "      <td>1093.368068</td>\n",
       "      <td>1207.014092</td>\n",
       "      <td>1391.497269</td>\n",
       "      <td>1775.218584</td>\n",
       "    </tr>\n",
       "    <tr>\n",
       "      <th>rougher.state.floatbank10_d_level</th>\n",
       "      <td>5290.0</td>\n",
       "      <td>-475.682272</td>\n",
       "      <td>47.844967</td>\n",
       "      <td>-6.483907e+02</td>\n",
       "      <td>-500.440610</td>\n",
       "      <td>-499.691917</td>\n",
       "      <td>-452.483463</td>\n",
       "      <td>-76.397327</td>\n",
       "    </tr>\n",
       "    <tr>\n",
       "      <th>rougher.state.floatbank10_e_air</th>\n",
       "      <td>5290.0</td>\n",
       "      <td>1056.648995</td>\n",
       "      <td>131.542839</td>\n",
       "      <td>-1.982295e+00</td>\n",
       "      <td>999.361403</td>\n",
       "      <td>1047.495449</td>\n",
       "      <td>1101.365315</td>\n",
       "      <td>1467.184843</td>\n",
       "    </tr>\n",
       "    <tr>\n",
       "      <th>rougher.state.floatbank10_e_level</th>\n",
       "      <td>5290.0</td>\n",
       "      <td>-469.029688</td>\n",
       "      <td>59.325990</td>\n",
       "      <td>-6.492675e+02</td>\n",
       "      <td>-500.190639</td>\n",
       "      <td>-499.765796</td>\n",
       "      <td>-450.957513</td>\n",
       "      <td>-139.753025</td>\n",
       "    </tr>\n",
       "    <tr>\n",
       "      <th>rougher.state.floatbank10_f_air</th>\n",
       "      <td>5290.0</td>\n",
       "      <td>997.949719</td>\n",
       "      <td>128.218869</td>\n",
       "      <td>-2.593390e+00</td>\n",
       "      <td>901.024994</td>\n",
       "      <td>999.441879</td>\n",
       "      <td>1050.433005</td>\n",
       "      <td>1476.588107</td>\n",
       "    </tr>\n",
       "    <tr>\n",
       "      <th>rougher.state.floatbank10_f_level</th>\n",
       "      <td>5290.0</td>\n",
       "      <td>-470.482465</td>\n",
       "      <td>60.759318</td>\n",
       "      <td>-6.499493e+02</td>\n",
       "      <td>-500.624783</td>\n",
       "      <td>-499.680986</td>\n",
       "      <td>-451.986460</td>\n",
       "      <td>-249.801043</td>\n",
       "    </tr>\n",
       "    <tr>\n",
       "      <th>secondary_cleaner.state.floatbank2_a_air</th>\n",
       "      <td>5287.0</td>\n",
       "      <td>26.312630</td>\n",
       "      <td>3.429852</td>\n",
       "      <td>2.053286e-01</td>\n",
       "      <td>24.942328</td>\n",
       "      <td>26.910569</td>\n",
       "      <td>28.091885</td>\n",
       "      <td>32.138727</td>\n",
       "    </tr>\n",
       "    <tr>\n",
       "      <th>secondary_cleaner.state.floatbank2_a_level</th>\n",
       "      <td>5290.0</td>\n",
       "      <td>-502.750897</td>\n",
       "      <td>28.756505</td>\n",
       "      <td>-7.840911e+02</td>\n",
       "      <td>-500.206517</td>\n",
       "      <td>-500.003902</td>\n",
       "      <td>-499.791639</td>\n",
       "      <td>-300.343670</td>\n",
       "    </tr>\n",
       "    <tr>\n",
       "      <th>secondary_cleaner.state.floatbank2_b_air</th>\n",
       "      <td>5288.0</td>\n",
       "      <td>21.949119</td>\n",
       "      <td>4.354961</td>\n",
       "      <td>6.063908e-03</td>\n",
       "      <td>20.002315</td>\n",
       "      <td>22.942603</td>\n",
       "      <td>24.985013</td>\n",
       "      <td>28.165864</td>\n",
       "    </tr>\n",
       "    <tr>\n",
       "      <th>secondary_cleaner.state.floatbank2_b_level</th>\n",
       "      <td>5290.0</td>\n",
       "      <td>-501.987097</td>\n",
       "      <td>34.582722</td>\n",
       "      <td>-7.977840e+02</td>\n",
       "      <td>-500.218030</td>\n",
       "      <td>-500.019058</td>\n",
       "      <td>-499.831532</td>\n",
       "      <td>-211.999273</td>\n",
       "    </tr>\n",
       "    <tr>\n",
       "      <th>secondary_cleaner.state.floatbank3_a_air</th>\n",
       "      <td>5281.0</td>\n",
       "      <td>25.402926</td>\n",
       "      <td>6.526457</td>\n",
       "      <td>0.000000e+00</td>\n",
       "      <td>22.982288</td>\n",
       "      <td>25.010105</td>\n",
       "      <td>30.002063</td>\n",
       "      <td>40.041997</td>\n",
       "    </tr>\n",
       "    <tr>\n",
       "      <th>secondary_cleaner.state.floatbank3_a_level</th>\n",
       "      <td>5290.0</td>\n",
       "      <td>-507.490314</td>\n",
       "      <td>47.620908</td>\n",
       "      <td>-7.997558e+02</td>\n",
       "      <td>-500.297951</td>\n",
       "      <td>-500.034578</td>\n",
       "      <td>-499.780163</td>\n",
       "      <td>-313.866425</td>\n",
       "    </tr>\n",
       "    <tr>\n",
       "      <th>secondary_cleaner.state.floatbank3_b_air</th>\n",
       "      <td>5290.0</td>\n",
       "      <td>20.982108</td>\n",
       "      <td>6.736179</td>\n",
       "      <td>1.521587e-17</td>\n",
       "      <td>17.967855</td>\n",
       "      <td>21.003164</td>\n",
       "      <td>26.976977</td>\n",
       "      <td>32.039365</td>\n",
       "    </tr>\n",
       "    <tr>\n",
       "      <th>secondary_cleaner.state.floatbank3_b_level</th>\n",
       "      <td>5290.0</td>\n",
       "      <td>-506.627916</td>\n",
       "      <td>44.528673</td>\n",
       "      <td>-8.093330e+02</td>\n",
       "      <td>-500.145128</td>\n",
       "      <td>-500.013819</td>\n",
       "      <td>-499.890608</td>\n",
       "      <td>-202.277366</td>\n",
       "    </tr>\n",
       "    <tr>\n",
       "      <th>secondary_cleaner.state.floatbank4_a_air</th>\n",
       "      <td>5290.0</td>\n",
       "      <td>16.320074</td>\n",
       "      <td>3.493583</td>\n",
       "      <td>1.079872e-16</td>\n",
       "      <td>14.036177</td>\n",
       "      <td>17.008468</td>\n",
       "      <td>18.038619</td>\n",
       "      <td>30.051797</td>\n",
       "    </tr>\n",
       "    <tr>\n",
       "      <th>secondary_cleaner.state.floatbank4_a_level</th>\n",
       "      <td>5290.0</td>\n",
       "      <td>-505.144570</td>\n",
       "      <td>31.427337</td>\n",
       "      <td>-7.997985e+02</td>\n",
       "      <td>-500.868258</td>\n",
       "      <td>-500.115727</td>\n",
       "      <td>-499.404224</td>\n",
       "      <td>-401.565212</td>\n",
       "    </tr>\n",
       "    <tr>\n",
       "      <th>secondary_cleaner.state.floatbank4_b_air</th>\n",
       "      <td>5290.0</td>\n",
       "      <td>13.735444</td>\n",
       "      <td>3.430484</td>\n",
       "      <td>2.489718e-17</td>\n",
       "      <td>12.028625</td>\n",
       "      <td>14.964860</td>\n",
       "      <td>15.962125</td>\n",
       "      <td>31.269706</td>\n",
       "    </tr>\n",
       "    <tr>\n",
       "      <th>secondary_cleaner.state.floatbank4_b_level</th>\n",
       "      <td>5290.0</td>\n",
       "      <td>-463.349858</td>\n",
       "      <td>86.189107</td>\n",
       "      <td>-8.008369e+02</td>\n",
       "      <td>-500.323028</td>\n",
       "      <td>-499.576513</td>\n",
       "      <td>-400.933805</td>\n",
       "      <td>-6.506986</td>\n",
       "    </tr>\n",
       "    <tr>\n",
       "      <th>secondary_cleaner.state.floatbank5_a_air</th>\n",
       "      <td>5290.0</td>\n",
       "      <td>12.804186</td>\n",
       "      <td>3.026591</td>\n",
       "      <td>6.922662e-02</td>\n",
       "      <td>10.914838</td>\n",
       "      <td>12.954182</td>\n",
       "      <td>15.097528</td>\n",
       "      <td>25.258848</td>\n",
       "    </tr>\n",
       "    <tr>\n",
       "      <th>secondary_cleaner.state.floatbank5_a_level</th>\n",
       "      <td>5290.0</td>\n",
       "      <td>-501.329122</td>\n",
       "      <td>17.951495</td>\n",
       "      <td>-7.973240e+02</td>\n",
       "      <td>-500.726841</td>\n",
       "      <td>-499.990332</td>\n",
       "      <td>-499.283191</td>\n",
       "      <td>-244.483566</td>\n",
       "    </tr>\n",
       "    <tr>\n",
       "      <th>secondary_cleaner.state.floatbank5_b_air</th>\n",
       "      <td>5290.0</td>\n",
       "      <td>9.881145</td>\n",
       "      <td>2.868205</td>\n",
       "      <td>5.280828e-01</td>\n",
       "      <td>8.036719</td>\n",
       "      <td>10.004301</td>\n",
       "      <td>11.997467</td>\n",
       "      <td>14.086866</td>\n",
       "    </tr>\n",
       "    <tr>\n",
       "      <th>secondary_cleaner.state.floatbank5_b_level</th>\n",
       "      <td>5290.0</td>\n",
       "      <td>-495.663398</td>\n",
       "      <td>34.535007</td>\n",
       "      <td>-8.002203e+02</td>\n",
       "      <td>-500.194668</td>\n",
       "      <td>-499.990535</td>\n",
       "      <td>-499.719913</td>\n",
       "      <td>-137.740004</td>\n",
       "    </tr>\n",
       "    <tr>\n",
       "      <th>secondary_cleaner.state.floatbank6_a_air</th>\n",
       "      <td>5290.0</td>\n",
       "      <td>17.304935</td>\n",
       "      <td>4.536544</td>\n",
       "      <td>-7.942623e-02</td>\n",
       "      <td>13.997317</td>\n",
       "      <td>16.014935</td>\n",
       "      <td>21.020013</td>\n",
       "      <td>26.705889</td>\n",
       "    </tr>\n",
       "    <tr>\n",
       "      <th>secondary_cleaner.state.floatbank6_a_level</th>\n",
       "      <td>5290.0</td>\n",
       "      <td>-501.793193</td>\n",
       "      <td>39.044215</td>\n",
       "      <td>-8.097415e+02</td>\n",
       "      <td>-500.690984</td>\n",
       "      <td>-500.007126</td>\n",
       "      <td>-499.373018</td>\n",
       "      <td>-123.307487</td>\n",
       "    </tr>\n",
       "  </tbody>\n",
       "</table>\n",
       "</div>"
      ],
      "text/plain": [
       "                                             count         mean         std  \\\n",
       "primary_cleaner.input.sulfate               5286.0   174.839652   43.027080   \n",
       "primary_cleaner.input.depressant            5285.0     8.683596    3.072050   \n",
       "primary_cleaner.input.feed_size             5290.0     7.266339    0.610219   \n",
       "primary_cleaner.input.xanthate              5286.0     1.383803    0.643474   \n",
       "primary_cleaner.state.floatbank8_a_air      5290.0  1539.494325  116.797884   \n",
       "primary_cleaner.state.floatbank8_a_level    5290.0  -497.665883   19.952431   \n",
       "primary_cleaner.state.floatbank8_b_air      5290.0  1545.174232  122.224588   \n",
       "primary_cleaner.state.floatbank8_b_level    5290.0  -500.273098   32.968307   \n",
       "primary_cleaner.state.floatbank8_c_air      5290.0  1527.272362  122.538034   \n",
       "primary_cleaner.state.floatbank8_c_level    5290.0  -498.330680   21.964876   \n",
       "primary_cleaner.state.floatbank8_d_air      5290.0  1544.844335  124.773081   \n",
       "primary_cleaner.state.floatbank8_d_level    5290.0  -500.199527   31.045257   \n",
       "rougher.input.feed_ag                       5290.0     9.371940    1.926264   \n",
       "rougher.input.feed_pb                       5290.0     3.798082    0.954859   \n",
       "rougher.input.feed_rate                     5287.0   489.800620  108.036326   \n",
       "rougher.input.feed_size                     5289.0    55.951097   19.081758   \n",
       "rougher.input.feed_sol                      5269.0    37.716648    5.491415   \n",
       "rougher.input.feed_au                       5290.0     9.334682    1.619521   \n",
       "rougher.input.floatbank10_sulfate           5285.0    13.855759    3.350852   \n",
       "rougher.input.floatbank10_xanthate          5290.0     6.467745    1.065114   \n",
       "rougher.input.floatbank11_sulfate           5282.0    13.922328    3.223769   \n",
       "rougher.input.floatbank11_xanthate          5265.0     6.512103    0.886989   \n",
       "rougher.state.floatbank10_a_air             5290.0  1053.400166  121.139309   \n",
       "rougher.state.floatbank10_a_level           5290.0  -395.732530   91.085505   \n",
       "rougher.state.floatbank10_b_air             5290.0  1318.926879  156.450366   \n",
       "rougher.state.floatbank10_b_level           5290.0  -475.241428   45.649466   \n",
       "rougher.state.floatbank10_c_air             5290.0  1301.595477  171.269667   \n",
       "rougher.state.floatbank10_c_level           5290.0  -474.836671   45.859866   \n",
       "rougher.state.floatbank10_d_air             5290.0  1214.847960  185.763319   \n",
       "rougher.state.floatbank10_d_level           5290.0  -475.682272   47.844967   \n",
       "rougher.state.floatbank10_e_air             5290.0  1056.648995  131.542839   \n",
       "rougher.state.floatbank10_e_level           5290.0  -469.029688   59.325990   \n",
       "rougher.state.floatbank10_f_air             5290.0   997.949719  128.218869   \n",
       "rougher.state.floatbank10_f_level           5290.0  -470.482465   60.759318   \n",
       "secondary_cleaner.state.floatbank2_a_air    5287.0    26.312630    3.429852   \n",
       "secondary_cleaner.state.floatbank2_a_level  5290.0  -502.750897   28.756505   \n",
       "secondary_cleaner.state.floatbank2_b_air    5288.0    21.949119    4.354961   \n",
       "secondary_cleaner.state.floatbank2_b_level  5290.0  -501.987097   34.582722   \n",
       "secondary_cleaner.state.floatbank3_a_air    5281.0    25.402926    6.526457   \n",
       "secondary_cleaner.state.floatbank3_a_level  5290.0  -507.490314   47.620908   \n",
       "secondary_cleaner.state.floatbank3_b_air    5290.0    20.982108    6.736179   \n",
       "secondary_cleaner.state.floatbank3_b_level  5290.0  -506.627916   44.528673   \n",
       "secondary_cleaner.state.floatbank4_a_air    5290.0    16.320074    3.493583   \n",
       "secondary_cleaner.state.floatbank4_a_level  5290.0  -505.144570   31.427337   \n",
       "secondary_cleaner.state.floatbank4_b_air    5290.0    13.735444    3.430484   \n",
       "secondary_cleaner.state.floatbank4_b_level  5290.0  -463.349858   86.189107   \n",
       "secondary_cleaner.state.floatbank5_a_air    5290.0    12.804186    3.026591   \n",
       "secondary_cleaner.state.floatbank5_a_level  5290.0  -501.329122   17.951495   \n",
       "secondary_cleaner.state.floatbank5_b_air    5290.0     9.881145    2.868205   \n",
       "secondary_cleaner.state.floatbank5_b_level  5290.0  -495.663398   34.535007   \n",
       "secondary_cleaner.state.floatbank6_a_air    5290.0    17.304935    4.536544   \n",
       "secondary_cleaner.state.floatbank6_a_level  5290.0  -501.793193   39.044215   \n",
       "\n",
       "                                                     min          25%  \\\n",
       "primary_cleaner.input.sulfate               2.566156e+00   147.121401   \n",
       "primary_cleaner.input.depressant            3.839482e-03     6.489555   \n",
       "primary_cleaner.input.feed_size             5.650000e+00     6.890000   \n",
       "primary_cleaner.input.xanthate              4.983673e-03     0.907623   \n",
       "primary_cleaner.state.floatbank8_a_air      5.445860e-32  1498.935802   \n",
       "primary_cleaner.state.floatbank8_a_level   -7.953163e+02  -500.357298   \n",
       "primary_cleaner.state.floatbank8_b_air      6.647490e-32  1498.970993   \n",
       "primary_cleaner.state.floatbank8_b_level   -7.999970e+02  -500.703002   \n",
       "primary_cleaner.state.floatbank8_c_air      4.033736e-32  1473.229862   \n",
       "primary_cleaner.state.floatbank8_c_level   -7.999606e+02  -501.018117   \n",
       "primary_cleaner.state.floatbank8_d_air      4.039220e-32  1499.481404   \n",
       "primary_cleaner.state.floatbank8_d_level   -7.997943e+02  -500.452469   \n",
       "rougher.input.feed_ag                       5.684412e-01     8.112434   \n",
       "rougher.input.feed_pb                       2.736769e-01     3.240251   \n",
       "rougher.input.feed_rate                     2.985849e-03   407.020883   \n",
       "rougher.input.feed_size                     4.636880e-02    43.906347   \n",
       "rougher.input.feed_sol                      1.393488e+00    34.505576   \n",
       "rougher.input.feed_au                       5.686322e-01     8.207814   \n",
       "rougher.input.floatbank10_sulfate           1.147460e-03    11.995006   \n",
       "rougher.input.floatbank10_xanthate          5.682328e-04     5.998779   \n",
       "rougher.input.floatbank11_sulfate           7.673764e-05    11.997200   \n",
       "rougher.input.floatbank11_xanthate          6.985269e-03     5.999157   \n",
       "rougher.state.floatbank10_a_air            -4.206929e-02   999.205344   \n",
       "rougher.state.floatbank10_a_level          -6.579498e+02  -499.920565   \n",
       "rougher.state.floatbank10_b_air            -7.218064e-01  1200.871883   \n",
       "rougher.state.floatbank10_b_level          -6.502453e+02  -500.256114   \n",
       "rougher.state.floatbank10_c_air            -5.663551e-02  1199.651371   \n",
       "rougher.state.floatbank10_c_level          -6.475444e+02  -500.233831   \n",
       "rougher.state.floatbank10_d_air            -9.922190e-01  1093.368068   \n",
       "rougher.state.floatbank10_d_level          -6.483907e+02  -500.440610   \n",
       "rougher.state.floatbank10_e_air            -1.982295e+00   999.361403   \n",
       "rougher.state.floatbank10_e_level          -6.492675e+02  -500.190639   \n",
       "rougher.state.floatbank10_f_air            -2.593390e+00   901.024994   \n",
       "rougher.state.floatbank10_f_level          -6.499493e+02  -500.624783   \n",
       "secondary_cleaner.state.floatbank2_a_air    2.053286e-01    24.942328   \n",
       "secondary_cleaner.state.floatbank2_a_level -7.840911e+02  -500.206517   \n",
       "secondary_cleaner.state.floatbank2_b_air    6.063908e-03    20.002315   \n",
       "secondary_cleaner.state.floatbank2_b_level -7.977840e+02  -500.218030   \n",
       "secondary_cleaner.state.floatbank3_a_air    0.000000e+00    22.982288   \n",
       "secondary_cleaner.state.floatbank3_a_level -7.997558e+02  -500.297951   \n",
       "secondary_cleaner.state.floatbank3_b_air    1.521587e-17    17.967855   \n",
       "secondary_cleaner.state.floatbank3_b_level -8.093330e+02  -500.145128   \n",
       "secondary_cleaner.state.floatbank4_a_air    1.079872e-16    14.036177   \n",
       "secondary_cleaner.state.floatbank4_a_level -7.997985e+02  -500.868258   \n",
       "secondary_cleaner.state.floatbank4_b_air    2.489718e-17    12.028625   \n",
       "secondary_cleaner.state.floatbank4_b_level -8.008369e+02  -500.323028   \n",
       "secondary_cleaner.state.floatbank5_a_air    6.922662e-02    10.914838   \n",
       "secondary_cleaner.state.floatbank5_a_level -7.973240e+02  -500.726841   \n",
       "secondary_cleaner.state.floatbank5_b_air    5.280828e-01     8.036719   \n",
       "secondary_cleaner.state.floatbank5_b_level -8.002203e+02  -500.194668   \n",
       "secondary_cleaner.state.floatbank6_a_air   -7.942623e-02    13.997317   \n",
       "secondary_cleaner.state.floatbank6_a_level -8.097415e+02  -500.690984   \n",
       "\n",
       "                                                    50%          75%  \\\n",
       "primary_cleaner.input.sulfate                177.828489   208.125438   \n",
       "primary_cleaner.input.depressant               8.052207    10.027764   \n",
       "primary_cleaner.input.feed_size                7.250000     7.600000   \n",
       "primary_cleaner.input.xanthate                 1.197610     1.797819   \n",
       "primary_cleaner.state.floatbank8_a_air      1585.129123  1602.076529   \n",
       "primary_cleaner.state.floatbank8_a_level    -499.969164  -499.568951   \n",
       "primary_cleaner.state.floatbank8_b_air      1595.621798  1602.323545   \n",
       "primary_cleaner.state.floatbank8_b_level    -500.028514  -499.293257   \n",
       "primary_cleaner.state.floatbank8_c_air      1549.594682  1601.143775   \n",
       "primary_cleaner.state.floatbank8_c_level    -500.017711  -498.994130   \n",
       "primary_cleaner.state.floatbank8_d_air      1594.579112  1600.964772   \n",
       "primary_cleaner.state.floatbank8_d_level    -500.023307  -499.607040   \n",
       "rougher.input.feed_ag                          9.762654    10.652297   \n",
       "rougher.input.feed_pb                          3.740716     4.282634   \n",
       "rougher.input.feed_rate                      499.051440   575.307213   \n",
       "rougher.input.feed_size                       50.841029    62.431047   \n",
       "rougher.input.feed_sol                        37.980276    41.635385   \n",
       "rougher.input.feed_au                          9.593766    10.463538   \n",
       "rougher.input.floatbank10_sulfate             14.003126    16.974284   \n",
       "rougher.input.floatbank10_xanthate             6.498181     7.085457   \n",
       "rougher.input.floatbank11_sulfate             14.004371    16.959671   \n",
       "rougher.input.floatbank11_xanthate             6.498744     7.091808   \n",
       "rougher.state.floatbank10_a_air             1000.472055  1006.254299   \n",
       "rougher.state.floatbank10_a_level           -399.693363  -300.060056   \n",
       "rougher.state.floatbank10_b_air             1302.254995  1433.955649   \n",
       "rougher.state.floatbank10_b_level           -499.837803  -450.749619   \n",
       "rougher.state.floatbank10_c_air             1300.202274  1406.594956   \n",
       "rougher.state.floatbank10_c_level           -499.777222  -451.153188   \n",
       "rougher.state.floatbank10_d_air             1207.014092  1391.497269   \n",
       "rougher.state.floatbank10_d_level           -499.691917  -452.483463   \n",
       "rougher.state.floatbank10_e_air             1047.495449  1101.365315   \n",
       "rougher.state.floatbank10_e_level           -499.765796  -450.957513   \n",
       "rougher.state.floatbank10_f_air              999.441879  1050.433005   \n",
       "rougher.state.floatbank10_f_level           -499.680986  -451.986460   \n",
       "secondary_cleaner.state.floatbank2_a_air      26.910569    28.091885   \n",
       "secondary_cleaner.state.floatbank2_a_level  -500.003902  -499.791639   \n",
       "secondary_cleaner.state.floatbank2_b_air      22.942603    24.985013   \n",
       "secondary_cleaner.state.floatbank2_b_level  -500.019058  -499.831532   \n",
       "secondary_cleaner.state.floatbank3_a_air      25.010105    30.002063   \n",
       "secondary_cleaner.state.floatbank3_a_level  -500.034578  -499.780163   \n",
       "secondary_cleaner.state.floatbank3_b_air      21.003164    26.976977   \n",
       "secondary_cleaner.state.floatbank3_b_level  -500.013819  -499.890608   \n",
       "secondary_cleaner.state.floatbank4_a_air      17.008468    18.038619   \n",
       "secondary_cleaner.state.floatbank4_a_level  -500.115727  -499.404224   \n",
       "secondary_cleaner.state.floatbank4_b_air      14.964860    15.962125   \n",
       "secondary_cleaner.state.floatbank4_b_level  -499.576513  -400.933805   \n",
       "secondary_cleaner.state.floatbank5_a_air      12.954182    15.097528   \n",
       "secondary_cleaner.state.floatbank5_a_level  -499.990332  -499.283191   \n",
       "secondary_cleaner.state.floatbank5_b_air      10.004301    11.997467   \n",
       "secondary_cleaner.state.floatbank5_b_level  -499.990535  -499.719913   \n",
       "secondary_cleaner.state.floatbank6_a_air      16.014935    21.020013   \n",
       "secondary_cleaner.state.floatbank6_a_level  -500.007126  -499.373018   \n",
       "\n",
       "                                                    max  \n",
       "primary_cleaner.input.sulfate                265.983123  \n",
       "primary_cleaner.input.depressant              40.000000  \n",
       "primary_cleaner.input.feed_size               15.500000  \n",
       "primary_cleaner.input.xanthate                 4.102454  \n",
       "primary_cleaner.state.floatbank8_a_air      2103.103580  \n",
       "primary_cleaner.state.floatbank8_a_level     -57.195404  \n",
       "primary_cleaner.state.floatbank8_b_air      1813.083671  \n",
       "primary_cleaner.state.floatbank8_b_level    -142.527229  \n",
       "primary_cleaner.state.floatbank8_c_air      1715.053773  \n",
       "primary_cleaner.state.floatbank8_c_level    -150.937035  \n",
       "primary_cleaner.state.floatbank8_d_air      1913.256561  \n",
       "primary_cleaner.state.floatbank8_d_level    -158.950573  \n",
       "rougher.input.feed_ag                         14.406130  \n",
       "rougher.input.feed_pb                          6.905684  \n",
       "rougher.input.feed_rate                      707.364020  \n",
       "rougher.input.feed_size                      392.494040  \n",
       "rougher.input.feed_sol                        53.477742  \n",
       "rougher.input.feed_au                         13.731330  \n",
       "rougher.input.floatbank10_sulfate             24.280636  \n",
       "rougher.input.floatbank10_xanthate             8.910468  \n",
       "rougher.input.floatbank11_sulfate             24.280966  \n",
       "rougher.input.floatbank11_xanthate             8.621338  \n",
       "rougher.state.floatbank10_a_air             1423.274687  \n",
       "rougher.state.floatbank10_a_level           -273.776101  \n",
       "rougher.state.floatbank10_b_air             1706.640419  \n",
       "rougher.state.floatbank10_b_level           -298.200051  \n",
       "rougher.state.floatbank10_c_air             1731.017788  \n",
       "rougher.state.floatbank10_c_level           -298.036852  \n",
       "rougher.state.floatbank10_d_air             1775.218584  \n",
       "rougher.state.floatbank10_d_level            -76.397327  \n",
       "rougher.state.floatbank10_e_air             1467.184843  \n",
       "rougher.state.floatbank10_e_level           -139.753025  \n",
       "rougher.state.floatbank10_f_air             1476.588107  \n",
       "rougher.state.floatbank10_f_level           -249.801043  \n",
       "secondary_cleaner.state.floatbank2_a_air      32.138727  \n",
       "secondary_cleaner.state.floatbank2_a_level  -300.343670  \n",
       "secondary_cleaner.state.floatbank2_b_air      28.165864  \n",
       "secondary_cleaner.state.floatbank2_b_level  -211.999273  \n",
       "secondary_cleaner.state.floatbank3_a_air      40.041997  \n",
       "secondary_cleaner.state.floatbank3_a_level  -313.866425  \n",
       "secondary_cleaner.state.floatbank3_b_air      32.039365  \n",
       "secondary_cleaner.state.floatbank3_b_level  -202.277366  \n",
       "secondary_cleaner.state.floatbank4_a_air      30.051797  \n",
       "secondary_cleaner.state.floatbank4_a_level  -401.565212  \n",
       "secondary_cleaner.state.floatbank4_b_air      31.269706  \n",
       "secondary_cleaner.state.floatbank4_b_level    -6.506986  \n",
       "secondary_cleaner.state.floatbank5_a_air      25.258848  \n",
       "secondary_cleaner.state.floatbank5_a_level  -244.483566  \n",
       "secondary_cleaner.state.floatbank5_b_air      14.086866  \n",
       "secondary_cleaner.state.floatbank5_b_level  -137.740004  \n",
       "secondary_cleaner.state.floatbank6_a_air      26.705889  \n",
       "secondary_cleaner.state.floatbank6_a_level  -123.307487  "
      ]
     },
     "metadata": {},
     "output_type": "display_data"
    },
    {
     "name": "stdout",
     "output_type": "stream",
     "text": [
      "\u001b[1m\n",
      "Описание категориальных данных:\u001b[0m\n"
     ]
    },
    {
     "data": {
      "text/html": [
       "<div>\n",
       "<style scoped>\n",
       "    .dataframe tbody tr th:only-of-type {\n",
       "        vertical-align: middle;\n",
       "    }\n",
       "\n",
       "    .dataframe tbody tr th {\n",
       "        vertical-align: top;\n",
       "    }\n",
       "\n",
       "    .dataframe thead th {\n",
       "        text-align: right;\n",
       "    }\n",
       "</style>\n",
       "<table border=\"1\" class=\"dataframe\">\n",
       "  <thead>\n",
       "    <tr style=\"text-align: right;\">\n",
       "      <th></th>\n",
       "      <th>count</th>\n",
       "      <th>unique</th>\n",
       "      <th>top</th>\n",
       "      <th>freq</th>\n",
       "    </tr>\n",
       "  </thead>\n",
       "  <tbody>\n",
       "    <tr>\n",
       "      <th>date</th>\n",
       "      <td>5290</td>\n",
       "      <td>5290</td>\n",
       "      <td>2017-09-19 01:59:59</td>\n",
       "      <td>1</td>\n",
       "    </tr>\n",
       "  </tbody>\n",
       "</table>\n",
       "</div>"
      ],
      "text/plain": [
       "     count unique                  top freq\n",
       "date  5290   5290  2017-09-19 01:59:59    1"
      ]
     },
     "metadata": {},
     "output_type": "display_data"
    },
    {
     "name": "stdout",
     "output_type": "stream",
     "text": [
      "\u001b[1m\n",
      "Вывод уникальных значений по каждому категориаьному признаку:\u001b[0m\n",
      "\u001b[1m_date\u001b[0m\n"
     ]
    },
    {
     "data": {
      "text/plain": [
       "2017-09-19 01:59:59    1\n",
       "2016-12-03 02:59:59    1\n",
       "2017-12-24 06:59:59    1\n",
       "2016-12-03 03:59:59    1\n",
       "2016-10-15 10:59:59    1\n",
       "                      ..\n",
       "2017-10-24 06:59:59    1\n",
       "2016-12-25 04:59:59    1\n",
       "2017-11-08 17:59:59    1\n",
       "2016-12-24 03:59:59    1\n",
       "2017-10-09 22:59:59    1\n",
       "Name: date, Length: 5290, dtype: int64"
      ]
     },
     "metadata": {},
     "output_type": "display_data"
    }
   ],
   "source": [
    "# ОПИСАТЕЛЬНЫЙ АНАЛИЗ \n",
    "# Тестовая выборка\n",
    "\n",
    "check_data(df_test)"
   ]
  },
  {
   "cell_type": "code",
   "execution_count": 11,
   "metadata": {},
   "outputs": [
    {
     "name": "stdout",
     "output_type": "stream",
     "text": [
      "\u001b[1mИзучим исходные данные\u001b[0m\n",
      "<class 'pandas.core.frame.DataFrame'>\n",
      "RangeIndex: 19439 entries, 0 to 19438\n",
      "Data columns (total 87 columns):\n",
      " #   Column                                              Non-Null Count  Dtype  \n",
      "---  ------                                              --------------  -----  \n",
      " 0   date                                                19439 non-null  object \n",
      " 1   final.output.concentrate_ag                         19438 non-null  float64\n",
      " 2   final.output.concentrate_pb                         19438 non-null  float64\n",
      " 3   final.output.concentrate_sol                        19228 non-null  float64\n",
      " 4   final.output.concentrate_au                         19439 non-null  float64\n",
      " 5   final.output.recovery                               19439 non-null  float64\n",
      " 6   final.output.tail_ag                                19438 non-null  float64\n",
      " 7   final.output.tail_pb                                19338 non-null  float64\n",
      " 8   final.output.tail_sol                               19433 non-null  float64\n",
      " 9   final.output.tail_au                                19439 non-null  float64\n",
      " 10  primary_cleaner.input.sulfate                       19415 non-null  float64\n",
      " 11  primary_cleaner.input.depressant                    19402 non-null  float64\n",
      " 12  primary_cleaner.input.feed_size                     19439 non-null  float64\n",
      " 13  primary_cleaner.input.xanthate                      19335 non-null  float64\n",
      " 14  primary_cleaner.output.concentrate_ag               19439 non-null  float64\n",
      " 15  primary_cleaner.output.concentrate_pb               19323 non-null  float64\n",
      " 16  primary_cleaner.output.concentrate_sol              19069 non-null  float64\n",
      " 17  primary_cleaner.output.concentrate_au               19439 non-null  float64\n",
      " 18  primary_cleaner.output.tail_ag                      19435 non-null  float64\n",
      " 19  primary_cleaner.output.tail_pb                      19418 non-null  float64\n",
      " 20  primary_cleaner.output.tail_sol                     19377 non-null  float64\n",
      " 21  primary_cleaner.output.tail_au                      19439 non-null  float64\n",
      " 22  primary_cleaner.state.floatbank8_a_air              19435 non-null  float64\n",
      " 23  primary_cleaner.state.floatbank8_a_level            19438 non-null  float64\n",
      " 24  primary_cleaner.state.floatbank8_b_air              19435 non-null  float64\n",
      " 25  primary_cleaner.state.floatbank8_b_level            19438 non-null  float64\n",
      " 26  primary_cleaner.state.floatbank8_c_air              19437 non-null  float64\n",
      " 27  primary_cleaner.state.floatbank8_c_level            19438 non-null  float64\n",
      " 28  primary_cleaner.state.floatbank8_d_air              19436 non-null  float64\n",
      " 29  primary_cleaner.state.floatbank8_d_level            19438 non-null  float64\n",
      " 30  rougher.calculation.sulfate_to_au_concentrate       19437 non-null  float64\n",
      " 31  rougher.calculation.floatbank10_sulfate_to_au_feed  19437 non-null  float64\n",
      " 32  rougher.calculation.floatbank11_sulfate_to_au_feed  19437 non-null  float64\n",
      " 33  rougher.calculation.au_pb_ratio                     19439 non-null  float64\n",
      " 34  rougher.input.feed_ag                               19439 non-null  float64\n",
      " 35  rougher.input.feed_pb                               19339 non-null  float64\n",
      " 36  rougher.input.feed_rate                             19428 non-null  float64\n",
      " 37  rougher.input.feed_size                             19294 non-null  float64\n",
      " 38  rougher.input.feed_sol                              19340 non-null  float64\n",
      " 39  rougher.input.feed_au                               19439 non-null  float64\n",
      " 40  rougher.input.floatbank10_sulfate                   19405 non-null  float64\n",
      " 41  rougher.input.floatbank10_xanthate                  19431 non-null  float64\n",
      " 42  rougher.input.floatbank11_sulfate                   19395 non-null  float64\n",
      " 43  rougher.input.floatbank11_xanthate                  18986 non-null  float64\n",
      " 44  rougher.output.concentrate_ag                       19439 non-null  float64\n",
      " 45  rougher.output.concentrate_pb                       19439 non-null  float64\n",
      " 46  rougher.output.concentrate_sol                      19416 non-null  float64\n",
      " 47  rougher.output.concentrate_au                       19439 non-null  float64\n",
      " 48  rougher.output.recovery                             19439 non-null  float64\n",
      " 49  rougher.output.tail_ag                              19438 non-null  float64\n",
      " 50  rougher.output.tail_pb                              19439 non-null  float64\n",
      " 51  rougher.output.tail_sol                             19439 non-null  float64\n",
      " 52  rougher.output.tail_au                              19439 non-null  float64\n",
      " 53  rougher.state.floatbank10_a_air                     19438 non-null  float64\n",
      " 54  rougher.state.floatbank10_a_level                   19438 non-null  float64\n",
      " 55  rougher.state.floatbank10_b_air                     19438 non-null  float64\n",
      " 56  rougher.state.floatbank10_b_level                   19438 non-null  float64\n",
      " 57  rougher.state.floatbank10_c_air                     19438 non-null  float64\n",
      " 58  rougher.state.floatbank10_c_level                   19438 non-null  float64\n",
      " 59  rougher.state.floatbank10_d_air                     19439 non-null  float64\n",
      " 60  rougher.state.floatbank10_d_level                   19439 non-null  float64\n",
      " 61  rougher.state.floatbank10_e_air                     19003 non-null  float64\n",
      " 62  rougher.state.floatbank10_e_level                   19439 non-null  float64\n",
      " 63  rougher.state.floatbank10_f_air                     19439 non-null  float64\n",
      " 64  rougher.state.floatbank10_f_level                   19439 non-null  float64\n",
      " 65  secondary_cleaner.output.tail_ag                    19437 non-null  float64\n",
      " 66  secondary_cleaner.output.tail_pb                    19427 non-null  float64\n",
      " 67  secondary_cleaner.output.tail_sol                   17691 non-null  float64\n",
      " 68  secondary_cleaner.output.tail_au                    19439 non-null  float64\n",
      " 69  secondary_cleaner.state.floatbank2_a_air            19219 non-null  float64\n",
      " 70  secondary_cleaner.state.floatbank2_a_level          19438 non-null  float64\n",
      " 71  secondary_cleaner.state.floatbank2_b_air            19416 non-null  float64\n",
      " 72  secondary_cleaner.state.floatbank2_b_level          19438 non-null  float64\n",
      " 73  secondary_cleaner.state.floatbank3_a_air            19426 non-null  float64\n",
      " 74  secondary_cleaner.state.floatbank3_a_level          19438 non-null  float64\n",
      " 75  secondary_cleaner.state.floatbank3_b_air            19438 non-null  float64\n",
      " 76  secondary_cleaner.state.floatbank3_b_level          19438 non-null  float64\n",
      " 77  secondary_cleaner.state.floatbank4_a_air            19433 non-null  float64\n",
      " 78  secondary_cleaner.state.floatbank4_a_level          19438 non-null  float64\n",
      " 79  secondary_cleaner.state.floatbank4_b_air            19438 non-null  float64\n",
      " 80  secondary_cleaner.state.floatbank4_b_level          19438 non-null  float64\n",
      " 81  secondary_cleaner.state.floatbank5_a_air            19438 non-null  float64\n",
      " 82  secondary_cleaner.state.floatbank5_a_level          19438 non-null  float64\n",
      " 83  secondary_cleaner.state.floatbank5_b_air            19438 non-null  float64\n",
      " 84  secondary_cleaner.state.floatbank5_b_level          19438 non-null  float64\n",
      " 85  secondary_cleaner.state.floatbank6_a_air            19437 non-null  float64\n",
      " 86  secondary_cleaner.state.floatbank6_a_level          19438 non-null  float64\n",
      "dtypes: float64(86), object(1)\n",
      "memory usage: 12.9+ MB\n",
      "None\n",
      "(19439, 87)\n",
      "\u001b[1m\n",
      "Проверка пропусков\u001b[0m\n",
      "Количество пропусков: 4481\n",
      "Доля пропусков: 0.3%\u001b[0m\n",
      "Доля строк содержащих пропуски: 17.2%\n",
      "\u001b[1m\n",
      "Проверка на дубликаты\u001b[0m\n",
      "Количество полных дубликатов:  0\n",
      "\u001b[1m\n",
      "Первые пять строк датасета\u001b[0m\n"
     ]
    },
    {
     "data": {
      "text/html": [
       "<div>\n",
       "<style scoped>\n",
       "    .dataframe tbody tr th:only-of-type {\n",
       "        vertical-align: middle;\n",
       "    }\n",
       "\n",
       "    .dataframe tbody tr th {\n",
       "        vertical-align: top;\n",
       "    }\n",
       "\n",
       "    .dataframe thead th {\n",
       "        text-align: right;\n",
       "    }\n",
       "</style>\n",
       "<table border=\"1\" class=\"dataframe\">\n",
       "  <thead>\n",
       "    <tr style=\"text-align: right;\">\n",
       "      <th></th>\n",
       "      <th>date</th>\n",
       "      <th>final.output.concentrate_ag</th>\n",
       "      <th>final.output.concentrate_pb</th>\n",
       "      <th>final.output.concentrate_sol</th>\n",
       "      <th>final.output.concentrate_au</th>\n",
       "      <th>final.output.recovery</th>\n",
       "      <th>final.output.tail_ag</th>\n",
       "      <th>final.output.tail_pb</th>\n",
       "      <th>final.output.tail_sol</th>\n",
       "      <th>final.output.tail_au</th>\n",
       "      <th>...</th>\n",
       "      <th>secondary_cleaner.state.floatbank4_a_air</th>\n",
       "      <th>secondary_cleaner.state.floatbank4_a_level</th>\n",
       "      <th>secondary_cleaner.state.floatbank4_b_air</th>\n",
       "      <th>secondary_cleaner.state.floatbank4_b_level</th>\n",
       "      <th>secondary_cleaner.state.floatbank5_a_air</th>\n",
       "      <th>secondary_cleaner.state.floatbank5_a_level</th>\n",
       "      <th>secondary_cleaner.state.floatbank5_b_air</th>\n",
       "      <th>secondary_cleaner.state.floatbank5_b_level</th>\n",
       "      <th>secondary_cleaner.state.floatbank6_a_air</th>\n",
       "      <th>secondary_cleaner.state.floatbank6_a_level</th>\n",
       "    </tr>\n",
       "  </thead>\n",
       "  <tbody>\n",
       "    <tr>\n",
       "      <th>0</th>\n",
       "      <td>2016-01-15 00:00:00</td>\n",
       "      <td>6.055403</td>\n",
       "      <td>9.889648</td>\n",
       "      <td>5.507324</td>\n",
       "      <td>42.192020</td>\n",
       "      <td>70.541216</td>\n",
       "      <td>10.411962</td>\n",
       "      <td>0.895447</td>\n",
       "      <td>16.904297</td>\n",
       "      <td>2.143149</td>\n",
       "      <td>...</td>\n",
       "      <td>14.016835</td>\n",
       "      <td>-502.488007</td>\n",
       "      <td>12.099931</td>\n",
       "      <td>-504.715942</td>\n",
       "      <td>9.925633</td>\n",
       "      <td>-498.310211</td>\n",
       "      <td>8.079666</td>\n",
       "      <td>-500.470978</td>\n",
       "      <td>14.151341</td>\n",
       "      <td>-605.841980</td>\n",
       "    </tr>\n",
       "    <tr>\n",
       "      <th>1</th>\n",
       "      <td>2016-01-15 01:00:00</td>\n",
       "      <td>6.029369</td>\n",
       "      <td>9.968944</td>\n",
       "      <td>5.257781</td>\n",
       "      <td>42.701629</td>\n",
       "      <td>69.266198</td>\n",
       "      <td>10.462676</td>\n",
       "      <td>0.927452</td>\n",
       "      <td>16.634514</td>\n",
       "      <td>2.224930</td>\n",
       "      <td>...</td>\n",
       "      <td>13.992281</td>\n",
       "      <td>-505.503262</td>\n",
       "      <td>11.950531</td>\n",
       "      <td>-501.331529</td>\n",
       "      <td>10.039245</td>\n",
       "      <td>-500.169983</td>\n",
       "      <td>7.984757</td>\n",
       "      <td>-500.582168</td>\n",
       "      <td>13.998353</td>\n",
       "      <td>-599.787184</td>\n",
       "    </tr>\n",
       "    <tr>\n",
       "      <th>2</th>\n",
       "      <td>2016-01-15 02:00:00</td>\n",
       "      <td>6.055926</td>\n",
       "      <td>10.213995</td>\n",
       "      <td>5.383759</td>\n",
       "      <td>42.657501</td>\n",
       "      <td>68.116445</td>\n",
       "      <td>10.507046</td>\n",
       "      <td>0.953716</td>\n",
       "      <td>16.208849</td>\n",
       "      <td>2.257889</td>\n",
       "      <td>...</td>\n",
       "      <td>14.015015</td>\n",
       "      <td>-502.520901</td>\n",
       "      <td>11.912783</td>\n",
       "      <td>-501.133383</td>\n",
       "      <td>10.070913</td>\n",
       "      <td>-500.129135</td>\n",
       "      <td>8.013877</td>\n",
       "      <td>-500.517572</td>\n",
       "      <td>14.028663</td>\n",
       "      <td>-601.427363</td>\n",
       "    </tr>\n",
       "    <tr>\n",
       "      <th>3</th>\n",
       "      <td>2016-01-15 03:00:00</td>\n",
       "      <td>6.047977</td>\n",
       "      <td>9.977019</td>\n",
       "      <td>4.858634</td>\n",
       "      <td>42.689819</td>\n",
       "      <td>68.347543</td>\n",
       "      <td>10.422762</td>\n",
       "      <td>0.883763</td>\n",
       "      <td>16.532835</td>\n",
       "      <td>2.146849</td>\n",
       "      <td>...</td>\n",
       "      <td>14.036510</td>\n",
       "      <td>-500.857308</td>\n",
       "      <td>11.999550</td>\n",
       "      <td>-501.193686</td>\n",
       "      <td>9.970366</td>\n",
       "      <td>-499.201640</td>\n",
       "      <td>7.977324</td>\n",
       "      <td>-500.255908</td>\n",
       "      <td>14.005551</td>\n",
       "      <td>-599.996129</td>\n",
       "    </tr>\n",
       "    <tr>\n",
       "      <th>4</th>\n",
       "      <td>2016-01-15 04:00:00</td>\n",
       "      <td>6.148599</td>\n",
       "      <td>10.142511</td>\n",
       "      <td>4.939416</td>\n",
       "      <td>42.774141</td>\n",
       "      <td>66.927016</td>\n",
       "      <td>10.360302</td>\n",
       "      <td>0.792826</td>\n",
       "      <td>16.525686</td>\n",
       "      <td>2.055292</td>\n",
       "      <td>...</td>\n",
       "      <td>14.027298</td>\n",
       "      <td>-499.838632</td>\n",
       "      <td>11.953070</td>\n",
       "      <td>-501.053894</td>\n",
       "      <td>9.925709</td>\n",
       "      <td>-501.686727</td>\n",
       "      <td>7.894242</td>\n",
       "      <td>-500.356035</td>\n",
       "      <td>13.996647</td>\n",
       "      <td>-601.496691</td>\n",
       "    </tr>\n",
       "  </tbody>\n",
       "</table>\n",
       "<p>5 rows × 87 columns</p>\n",
       "</div>"
      ],
      "text/plain": [
       "                  date  final.output.concentrate_ag  \\\n",
       "0  2016-01-15 00:00:00                     6.055403   \n",
       "1  2016-01-15 01:00:00                     6.029369   \n",
       "2  2016-01-15 02:00:00                     6.055926   \n",
       "3  2016-01-15 03:00:00                     6.047977   \n",
       "4  2016-01-15 04:00:00                     6.148599   \n",
       "\n",
       "   final.output.concentrate_pb  final.output.concentrate_sol  \\\n",
       "0                     9.889648                      5.507324   \n",
       "1                     9.968944                      5.257781   \n",
       "2                    10.213995                      5.383759   \n",
       "3                     9.977019                      4.858634   \n",
       "4                    10.142511                      4.939416   \n",
       "\n",
       "   final.output.concentrate_au  final.output.recovery  final.output.tail_ag  \\\n",
       "0                    42.192020              70.541216             10.411962   \n",
       "1                    42.701629              69.266198             10.462676   \n",
       "2                    42.657501              68.116445             10.507046   \n",
       "3                    42.689819              68.347543             10.422762   \n",
       "4                    42.774141              66.927016             10.360302   \n",
       "\n",
       "   final.output.tail_pb  final.output.tail_sol  final.output.tail_au  ...  \\\n",
       "0              0.895447              16.904297              2.143149  ...   \n",
       "1              0.927452              16.634514              2.224930  ...   \n",
       "2              0.953716              16.208849              2.257889  ...   \n",
       "3              0.883763              16.532835              2.146849  ...   \n",
       "4              0.792826              16.525686              2.055292  ...   \n",
       "\n",
       "   secondary_cleaner.state.floatbank4_a_air  \\\n",
       "0                                 14.016835   \n",
       "1                                 13.992281   \n",
       "2                                 14.015015   \n",
       "3                                 14.036510   \n",
       "4                                 14.027298   \n",
       "\n",
       "   secondary_cleaner.state.floatbank4_a_level  \\\n",
       "0                                 -502.488007   \n",
       "1                                 -505.503262   \n",
       "2                                 -502.520901   \n",
       "3                                 -500.857308   \n",
       "4                                 -499.838632   \n",
       "\n",
       "   secondary_cleaner.state.floatbank4_b_air  \\\n",
       "0                                 12.099931   \n",
       "1                                 11.950531   \n",
       "2                                 11.912783   \n",
       "3                                 11.999550   \n",
       "4                                 11.953070   \n",
       "\n",
       "   secondary_cleaner.state.floatbank4_b_level  \\\n",
       "0                                 -504.715942   \n",
       "1                                 -501.331529   \n",
       "2                                 -501.133383   \n",
       "3                                 -501.193686   \n",
       "4                                 -501.053894   \n",
       "\n",
       "   secondary_cleaner.state.floatbank5_a_air  \\\n",
       "0                                  9.925633   \n",
       "1                                 10.039245   \n",
       "2                                 10.070913   \n",
       "3                                  9.970366   \n",
       "4                                  9.925709   \n",
       "\n",
       "   secondary_cleaner.state.floatbank5_a_level  \\\n",
       "0                                 -498.310211   \n",
       "1                                 -500.169983   \n",
       "2                                 -500.129135   \n",
       "3                                 -499.201640   \n",
       "4                                 -501.686727   \n",
       "\n",
       "   secondary_cleaner.state.floatbank5_b_air  \\\n",
       "0                                  8.079666   \n",
       "1                                  7.984757   \n",
       "2                                  8.013877   \n",
       "3                                  7.977324   \n",
       "4                                  7.894242   \n",
       "\n",
       "   secondary_cleaner.state.floatbank5_b_level  \\\n",
       "0                                 -500.470978   \n",
       "1                                 -500.582168   \n",
       "2                                 -500.517572   \n",
       "3                                 -500.255908   \n",
       "4                                 -500.356035   \n",
       "\n",
       "   secondary_cleaner.state.floatbank6_a_air  \\\n",
       "0                                 14.151341   \n",
       "1                                 13.998353   \n",
       "2                                 14.028663   \n",
       "3                                 14.005551   \n",
       "4                                 13.996647   \n",
       "\n",
       "   secondary_cleaner.state.floatbank6_a_level  \n",
       "0                                 -605.841980  \n",
       "1                                 -599.787184  \n",
       "2                                 -601.427363  \n",
       "3                                 -599.996129  \n",
       "4                                 -601.496691  \n",
       "\n",
       "[5 rows x 87 columns]"
      ]
     },
     "metadata": {},
     "output_type": "display_data"
    },
    {
     "name": "stdout",
     "output_type": "stream",
     "text": [
      "\u001b[1m\n",
      "Описание количественных данных:\u001b[0m\n"
     ]
    },
    {
     "data": {
      "text/html": [
       "<div>\n",
       "<style scoped>\n",
       "    .dataframe tbody tr th:only-of-type {\n",
       "        vertical-align: middle;\n",
       "    }\n",
       "\n",
       "    .dataframe tbody tr th {\n",
       "        vertical-align: top;\n",
       "    }\n",
       "\n",
       "    .dataframe thead th {\n",
       "        text-align: right;\n",
       "    }\n",
       "</style>\n",
       "<table border=\"1\" class=\"dataframe\">\n",
       "  <thead>\n",
       "    <tr style=\"text-align: right;\">\n",
       "      <th></th>\n",
       "      <th>count</th>\n",
       "      <th>mean</th>\n",
       "      <th>std</th>\n",
       "      <th>min</th>\n",
       "      <th>25%</th>\n",
       "      <th>50%</th>\n",
       "      <th>75%</th>\n",
       "      <th>max</th>\n",
       "    </tr>\n",
       "  </thead>\n",
       "  <tbody>\n",
       "    <tr>\n",
       "      <th>final.output.concentrate_ag</th>\n",
       "      <td>19438.0</td>\n",
       "      <td>5.168470</td>\n",
       "      <td>1.372348</td>\n",
       "      <td>0.000000</td>\n",
       "      <td>4.251240</td>\n",
       "      <td>5.066094</td>\n",
       "      <td>5.895527</td>\n",
       "      <td>16.001945</td>\n",
       "    </tr>\n",
       "    <tr>\n",
       "      <th>final.output.concentrate_pb</th>\n",
       "      <td>19438.0</td>\n",
       "      <td>9.978895</td>\n",
       "      <td>1.669240</td>\n",
       "      <td>0.000000</td>\n",
       "      <td>9.137262</td>\n",
       "      <td>10.102433</td>\n",
       "      <td>11.035769</td>\n",
       "      <td>17.031899</td>\n",
       "    </tr>\n",
       "    <tr>\n",
       "      <th>final.output.concentrate_sol</th>\n",
       "      <td>19228.0</td>\n",
       "      <td>9.501224</td>\n",
       "      <td>2.787537</td>\n",
       "      <td>0.000000</td>\n",
       "      <td>7.722820</td>\n",
       "      <td>9.218961</td>\n",
       "      <td>10.947813</td>\n",
       "      <td>19.615720</td>\n",
       "    </tr>\n",
       "    <tr>\n",
       "      <th>final.output.concentrate_au</th>\n",
       "      <td>19439.0</td>\n",
       "      <td>44.076513</td>\n",
       "      <td>5.129784</td>\n",
       "      <td>0.000000</td>\n",
       "      <td>43.402215</td>\n",
       "      <td>45.011244</td>\n",
       "      <td>46.275313</td>\n",
       "      <td>52.756638</td>\n",
       "    </tr>\n",
       "    <tr>\n",
       "      <th>final.output.recovery</th>\n",
       "      <td>19439.0</td>\n",
       "      <td>67.050208</td>\n",
       "      <td>10.125840</td>\n",
       "      <td>0.000000</td>\n",
       "      <td>63.299712</td>\n",
       "      <td>68.172738</td>\n",
       "      <td>72.686642</td>\n",
       "      <td>100.000000</td>\n",
       "    </tr>\n",
       "    <tr>\n",
       "      <th>...</th>\n",
       "      <td>...</td>\n",
       "      <td>...</td>\n",
       "      <td>...</td>\n",
       "      <td>...</td>\n",
       "      <td>...</td>\n",
       "      <td>...</td>\n",
       "      <td>...</td>\n",
       "      <td>...</td>\n",
       "    </tr>\n",
       "    <tr>\n",
       "      <th>secondary_cleaner.state.floatbank5_a_level</th>\n",
       "      <td>19438.0</td>\n",
       "      <td>-488.684065</td>\n",
       "      <td>34.533396</td>\n",
       "      <td>-797.323986</td>\n",
       "      <td>-500.458467</td>\n",
       "      <td>-499.802605</td>\n",
       "      <td>-498.384187</td>\n",
       "      <td>-244.483566</td>\n",
       "    </tr>\n",
       "    <tr>\n",
       "      <th>secondary_cleaner.state.floatbank5_b_air</th>\n",
       "      <td>19438.0</td>\n",
       "      <td>12.198224</td>\n",
       "      <td>5.333024</td>\n",
       "      <td>0.528083</td>\n",
       "      <td>8.971105</td>\n",
       "      <td>11.019433</td>\n",
       "      <td>14.019088</td>\n",
       "      <td>27.926001</td>\n",
       "    </tr>\n",
       "    <tr>\n",
       "      <th>secondary_cleaner.state.floatbank5_b_level</th>\n",
       "      <td>19438.0</td>\n",
       "      <td>-487.149827</td>\n",
       "      <td>38.347312</td>\n",
       "      <td>-800.220337</td>\n",
       "      <td>-500.129462</td>\n",
       "      <td>-499.935317</td>\n",
       "      <td>-499.436708</td>\n",
       "      <td>-137.740004</td>\n",
       "    </tr>\n",
       "    <tr>\n",
       "      <th>secondary_cleaner.state.floatbank6_a_air</th>\n",
       "      <td>19437.0</td>\n",
       "      <td>18.959024</td>\n",
       "      <td>5.550498</td>\n",
       "      <td>-0.079426</td>\n",
       "      <td>14.983037</td>\n",
       "      <td>19.960541</td>\n",
       "      <td>24.003170</td>\n",
       "      <td>32.188906</td>\n",
       "    </tr>\n",
       "    <tr>\n",
       "      <th>secondary_cleaner.state.floatbank6_a_level</th>\n",
       "      <td>19438.0</td>\n",
       "      <td>-505.436305</td>\n",
       "      <td>37.689057</td>\n",
       "      <td>-809.741464</td>\n",
       "      <td>-500.728067</td>\n",
       "      <td>-500.048400</td>\n",
       "      <td>-499.495378</td>\n",
       "      <td>-104.427459</td>\n",
       "    </tr>\n",
       "  </tbody>\n",
       "</table>\n",
       "<p>86 rows × 8 columns</p>\n",
       "</div>"
      ],
      "text/plain": [
       "                                              count        mean        std  \\\n",
       "final.output.concentrate_ag                 19438.0    5.168470   1.372348   \n",
       "final.output.concentrate_pb                 19438.0    9.978895   1.669240   \n",
       "final.output.concentrate_sol                19228.0    9.501224   2.787537   \n",
       "final.output.concentrate_au                 19439.0   44.076513   5.129784   \n",
       "final.output.recovery                       19439.0   67.050208  10.125840   \n",
       "...                                             ...         ...        ...   \n",
       "secondary_cleaner.state.floatbank5_a_level  19438.0 -488.684065  34.533396   \n",
       "secondary_cleaner.state.floatbank5_b_air    19438.0   12.198224   5.333024   \n",
       "secondary_cleaner.state.floatbank5_b_level  19438.0 -487.149827  38.347312   \n",
       "secondary_cleaner.state.floatbank6_a_air    19437.0   18.959024   5.550498   \n",
       "secondary_cleaner.state.floatbank6_a_level  19438.0 -505.436305  37.689057   \n",
       "\n",
       "                                                   min         25%  \\\n",
       "final.output.concentrate_ag                   0.000000    4.251240   \n",
       "final.output.concentrate_pb                   0.000000    9.137262   \n",
       "final.output.concentrate_sol                  0.000000    7.722820   \n",
       "final.output.concentrate_au                   0.000000   43.402215   \n",
       "final.output.recovery                         0.000000   63.299712   \n",
       "...                                                ...         ...   \n",
       "secondary_cleaner.state.floatbank5_a_level -797.323986 -500.458467   \n",
       "secondary_cleaner.state.floatbank5_b_air      0.528083    8.971105   \n",
       "secondary_cleaner.state.floatbank5_b_level -800.220337 -500.129462   \n",
       "secondary_cleaner.state.floatbank6_a_air     -0.079426   14.983037   \n",
       "secondary_cleaner.state.floatbank6_a_level -809.741464 -500.728067   \n",
       "\n",
       "                                                   50%         75%         max  \n",
       "final.output.concentrate_ag                   5.066094    5.895527   16.001945  \n",
       "final.output.concentrate_pb                  10.102433   11.035769   17.031899  \n",
       "final.output.concentrate_sol                  9.218961   10.947813   19.615720  \n",
       "final.output.concentrate_au                  45.011244   46.275313   52.756638  \n",
       "final.output.recovery                        68.172738   72.686642  100.000000  \n",
       "...                                                ...         ...         ...  \n",
       "secondary_cleaner.state.floatbank5_a_level -499.802605 -498.384187 -244.483566  \n",
       "secondary_cleaner.state.floatbank5_b_air     11.019433   14.019088   27.926001  \n",
       "secondary_cleaner.state.floatbank5_b_level -499.935317 -499.436708 -137.740004  \n",
       "secondary_cleaner.state.floatbank6_a_air     19.960541   24.003170   32.188906  \n",
       "secondary_cleaner.state.floatbank6_a_level -500.048400 -499.495378 -104.427459  \n",
       "\n",
       "[86 rows x 8 columns]"
      ]
     },
     "metadata": {},
     "output_type": "display_data"
    },
    {
     "name": "stdout",
     "output_type": "stream",
     "text": [
      "\u001b[1m\n",
      "Описание категориальных данных:\u001b[0m\n"
     ]
    },
    {
     "data": {
      "text/html": [
       "<div>\n",
       "<style scoped>\n",
       "    .dataframe tbody tr th:only-of-type {\n",
       "        vertical-align: middle;\n",
       "    }\n",
       "\n",
       "    .dataframe tbody tr th {\n",
       "        vertical-align: top;\n",
       "    }\n",
       "\n",
       "    .dataframe thead th {\n",
       "        text-align: right;\n",
       "    }\n",
       "</style>\n",
       "<table border=\"1\" class=\"dataframe\">\n",
       "  <thead>\n",
       "    <tr style=\"text-align: right;\">\n",
       "      <th></th>\n",
       "      <th>count</th>\n",
       "      <th>unique</th>\n",
       "      <th>top</th>\n",
       "      <th>freq</th>\n",
       "    </tr>\n",
       "  </thead>\n",
       "  <tbody>\n",
       "    <tr>\n",
       "      <th>date</th>\n",
       "      <td>19439</td>\n",
       "      <td>19439</td>\n",
       "      <td>2017-05-10 19:59:59</td>\n",
       "      <td>1</td>\n",
       "    </tr>\n",
       "  </tbody>\n",
       "</table>\n",
       "</div>"
      ],
      "text/plain": [
       "      count unique                  top freq\n",
       "date  19439  19439  2017-05-10 19:59:59    1"
      ]
     },
     "metadata": {},
     "output_type": "display_data"
    },
    {
     "name": "stdout",
     "output_type": "stream",
     "text": [
      "\u001b[1m\n",
      "Вывод уникальных значений по каждому категориаьному признаку:\u001b[0m\n",
      "\u001b[1m_date\u001b[0m\n"
     ]
    },
    {
     "data": {
      "text/plain": [
       "2017-05-10 19:59:59    1\n",
       "2017-06-05 00:59:59    1\n",
       "2016-08-18 00:59:59    1\n",
       "2016-10-28 07:59:59    1\n",
       "2018-03-16 18:59:59    1\n",
       "                      ..\n",
       "2018-04-27 12:59:59    1\n",
       "2016-06-24 23:59:59    1\n",
       "2017-09-01 03:59:59    1\n",
       "2017-07-16 04:59:59    1\n",
       "2018-08-12 07:59:59    1\n",
       "Name: date, Length: 19439, dtype: int64"
      ]
     },
     "metadata": {},
     "output_type": "display_data"
    }
   ],
   "source": [
    "# ОПИСАТЕЛЬНЫЙ АНАЛИЗ \n",
    "# Исходные данные\n",
    "\n",
    "check_data(df_full)"
   ]
  },
  {
   "cell_type": "markdown",
   "metadata": {},
   "source": [
    "**Вывод:**\n",
    "- мы имеем три таблицы: обучающая выборка, тестовая выборка и исходные данные;\n",
    "- во всех таблицах есть пропуски;\n",
    "- некоторые параметры недоступны, потому что замеряются и/или рассчитываются значительно позже;\n"
   ]
  },
  {
   "cell_type": "markdown",
   "metadata": {},
   "source": [
    "**1.5 Проверим, что эффективность обогащения рассчитана правильно.**"
   ]
  },
  {
   "cell_type": "markdown",
   "metadata": {},
   "source": [
    "recovery = (C*(F-T)) / (F*(C-T)) * 100, где:\n",
    "\n",
    "- C — доля золота в концентрате после флотации/очистки;\n",
    "- F — доля золота в сырье/концентрате до флотации/очистки;\n",
    "- T — доля золота в отвальных хвостах после флотации/очистки."
   ]
  },
  {
   "cell_type": "code",
   "execution_count": 12,
   "metadata": {},
   "outputs": [],
   "source": [
    "# создадим функцию для расчета эффективности обогащения\n",
    "\n",
    "def calc_recovery(C, F, T):\n",
    "    recovery = (C*(F-T)) / (F*(C-T)) * 100\n",
    "    return recovery\n",
    "                "
   ]
  },
  {
   "cell_type": "code",
   "execution_count": 13,
   "metadata": {},
   "outputs": [],
   "source": [
    "# Вычислим эффективность на обучающей выборке для признака rougher.output.recovery\n",
    "\n",
    "recovery = calc_recovery(df_train['rougher.output.concentrate_au'],\n",
    "                         df_train['rougher.input.feed_au'],\n",
    "                         df_train['rougher.output.tail_au'])\n"
   ]
  },
  {
   "cell_type": "code",
   "execution_count": 14,
   "metadata": {},
   "outputs": [
    {
     "data": {
      "text/plain": [
       "0        87.107763\n",
       "1        86.843261\n",
       "2        86.842308\n",
       "3        87.226430\n",
       "4        86.688794\n",
       "           ...    \n",
       "14144    89.574376\n",
       "14145    87.724007\n",
       "14146    88.890579\n",
       "14147    89.858126\n",
       "14148    89.514960\n",
       "Length: 14149, dtype: float64"
      ]
     },
     "execution_count": 14,
     "metadata": {},
     "output_type": "execute_result"
    }
   ],
   "source": [
    "recovery"
   ]
  },
  {
   "cell_type": "code",
   "execution_count": 15,
   "metadata": {},
   "outputs": [],
   "source": [
    "# Найдем MAE между вашими расчётами и значением признака\n",
    "\n",
    "mae = mean_absolute_error(recovery, df_train['rougher.output.recovery'])"
   ]
  },
  {
   "cell_type": "code",
   "execution_count": 16,
   "metadata": {},
   "outputs": [
    {
     "name": "stdout",
     "output_type": "stream",
     "text": [
      "Абсолютная средняя ошибка между расчётами и значением признака = 9.73512347450521e-15\n"
     ]
    }
   ],
   "source": [
    "print('Абсолютная средняя ошибка между расчётами и значением признака =', mae)"
   ]
  },
  {
   "cell_type": "markdown",
   "metadata": {},
   "source": [
    "**Вывод:** \\\n",
    "Абсолютная средняя ошибка между расчётами и значением признака = 9.73512347450521e-15 и очень мала, из чего следует, что наши расчёты верны.\n"
   ]
  },
  {
   "cell_type": "markdown",
   "metadata": {},
   "source": [
    "**1.6 Проанализируем признаки, недоступные в тестовой выборке.**"
   ]
  },
  {
   "cell_type": "code",
   "execution_count": 17,
   "metadata": {},
   "outputs": [],
   "source": [
    "# Посмотрим каких признаков нет в тестовой выборке\n",
    "\n",
    "signs_missed = set(df_train.columns) - set(df_test.columns)"
   ]
  },
  {
   "cell_type": "code",
   "execution_count": 18,
   "metadata": {},
   "outputs": [
    {
     "name": "stdout",
     "output_type": "stream",
     "text": [
      "<class 'pandas.core.frame.DataFrame'>\n",
      "RangeIndex: 14149 entries, 0 to 14148\n",
      "Data columns (total 34 columns):\n",
      " #   Column                                              Non-Null Count  Dtype  \n",
      "---  ------                                              --------------  -----  \n",
      " 0   secondary_cleaner.output.tail_sol                   12544 non-null  float64\n",
      " 1   primary_cleaner.output.tail_ag                      14148 non-null  float64\n",
      " 2   final.output.tail_pb                                14049 non-null  float64\n",
      " 3   rougher.output.tail_ag                              14148 non-null  float64\n",
      " 4   rougher.output.recovery                             14149 non-null  float64\n",
      " 5   secondary_cleaner.output.tail_ag                    14147 non-null  float64\n",
      " 6   final.output.tail_au                                14149 non-null  float64\n",
      " 7   final.output.concentrate_au                         14149 non-null  float64\n",
      " 8   final.output.concentrate_sol                        13938 non-null  float64\n",
      " 9   rougher.calculation.sulfate_to_au_concentrate       14148 non-null  float64\n",
      " 10  primary_cleaner.output.tail_sol                     14103 non-null  float64\n",
      " 11  secondary_cleaner.output.tail_au                    14149 non-null  float64\n",
      " 12  rougher.calculation.floatbank11_sulfate_to_au_feed  14148 non-null  float64\n",
      " 13  final.output.tail_sol                               14144 non-null  float64\n",
      " 14  rougher.output.tail_sol                             14149 non-null  float64\n",
      " 15  rougher.output.tail_pb                              14149 non-null  float64\n",
      " 16  rougher.calculation.au_pb_ratio                     14149 non-null  float64\n",
      " 17  rougher.output.concentrate_ag                       14149 non-null  float64\n",
      " 18  final.output.recovery                               14149 non-null  float64\n",
      " 19  primary_cleaner.output.concentrate_pb               14063 non-null  float64\n",
      " 20  final.output.concentrate_pb                         14148 non-null  float64\n",
      " 21  primary_cleaner.output.tail_pb                      14134 non-null  float64\n",
      " 22  final.output.tail_ag                                14149 non-null  float64\n",
      " 23  final.output.concentrate_ag                         14148 non-null  float64\n",
      " 24  secondary_cleaner.output.tail_pb                    14139 non-null  float64\n",
      " 25  primary_cleaner.output.concentrate_au               14149 non-null  float64\n",
      " 26  rougher.calculation.floatbank10_sulfate_to_au_feed  14148 non-null  float64\n",
      " 27  rougher.output.tail_au                              14149 non-null  float64\n",
      " 28  primary_cleaner.output.concentrate_ag               14149 non-null  float64\n",
      " 29  primary_cleaner.output.concentrate_sol              13863 non-null  float64\n",
      " 30  primary_cleaner.output.tail_au                      14149 non-null  float64\n",
      " 31  rougher.output.concentrate_sol                      14127 non-null  float64\n",
      " 32  rougher.output.concentrate_pb                       14149 non-null  float64\n",
      " 33  rougher.output.concentrate_au                       14149 non-null  float64\n",
      "dtypes: float64(34)\n",
      "memory usage: 3.7 MB\n"
     ]
    }
   ],
   "source": [
    "# Определим тип данных\n",
    "\n",
    "df_train[signs_missed].info()"
   ]
  },
  {
   "cell_type": "markdown",
   "metadata": {},
   "source": [
    "**Вывод:**\n",
    "- все столбцы имеют тип - float64;\n",
    "- в тестовой выборке недоступны 34 признака;\n",
    "- 30 признаков имеют тип - _параметры продукта_;\n",
    "- 4 признака имеют тип - _расчётные характеристики_.\n",
    "\n",
    "\n",
    "**Отсутствуют 12 признаков на стадии _флотации_:**\n",
    "- 'rougher.output.concentrate_ag',\n",
    "- 'rougher.output.concentrate_au',\n",
    "- 'rougher.output.concentrate_pb',\n",
    "- 'rougher.output.concentrate_sol',\n",
    "- 'rougher.output.tail_ag',\n",
    "- 'rougher.output.tail_au',\n",
    "- 'rougher.output.tail_pb',\n",
    "- 'rougher.output.tail_sol',\n",
    "- 'rougher.calculation.au_pb_ratio',\n",
    "- 'rougher.calculation.floatbank10_sulfate_to_au_feed',\n",
    "- 'rougher.calculation.floatbank11_sulfate_to_au_feed',\n",
    "- 'rougher.calculation.sulfate_to_au_concentrate',\n",
    "\n",
    "\n",
    "**Отсутствуют 8 признаков на стадии _первичной_очистки_:**\n",
    "- 'primary_cleaner.output.concentrate_ag',\n",
    "- 'primary_cleaner.output.concentrate_au',\n",
    "- 'primary_cleaner.output.concentrate_pb',\n",
    "- 'primary_cleaner.output.concentrate_sol',\n",
    "- 'primary_cleaner.output.tail_ag',\n",
    "- 'primary_cleaner.output.tail_au',\n",
    "- 'primary_cleaner.output.tail_pb',\n",
    "- 'primary_cleaner.output.tail_sol',\n",
    "\n",
    "**Отсутствуют 4 признака на стадии _вторичной_очистки_:**\n",
    "- 'secondary_cleaner.output.tail_ag',\n",
    "- 'secondary_cleaner.output.tail_au',\n",
    "- 'secondary_cleaner.output.tail_pb',\n",
    "- 'secondary_cleaner.output.tail_sol'}\n",
    "\n",
    "**Отсутствуют 8 признаков на стадии _финальные характеристики_:**\n",
    "- 'final.output.concentrate_ag',\n",
    "- 'final.output.concentrate_au',\n",
    "- 'final.output.concentrate_pb',\n",
    "- 'final.output.concentrate_sol',\n",
    "- 'final.output.tail_ag',\n",
    "- 'final.output.tail_au',\n",
    "- 'final.output.tail_pb',\n",
    "- 'final.output.tail_sol',\n",
    "\n",
    "**Отсутствуют 2 целевых признака:**\n",
    "- 'rougher.output.recovery',\n",
    "- 'final.output.recovery'.\n",
    "\n"
   ]
  },
  {
   "cell_type": "markdown",
   "metadata": {},
   "source": [
    "**1.7 Проведём предобработку данных.**"
   ]
  },
  {
   "cell_type": "markdown",
   "metadata": {},
   "source": [
    "Данные индексируются датой и временем получения информации (признак date). Соседние по времени параметры часто похожи. Поэтому заполним пропущенные значения функцией ffill() и заменим нулевые значения последним значением признака:"
   ]
  },
  {
   "cell_type": "code",
   "execution_count": 19,
   "metadata": {},
   "outputs": [
    {
     "name": "stdout",
     "output_type": "stream",
     "text": [
      "Количество пропусков в обучающей выборке: 0\n"
     ]
    }
   ],
   "source": [
    "# Обучающая выборка\n",
    "# Количество пропусков: 4100\n",
    "\n",
    "df_train = df_train.ffill(axis=0)\n",
    "\n",
    "print('Количество пропусков в обучающей выборке:', df_train.isna().sum().sum())"
   ]
  },
  {
   "cell_type": "code",
   "execution_count": 20,
   "metadata": {},
   "outputs": [
    {
     "name": "stdout",
     "output_type": "stream",
     "text": [
      "Количество пропусков в тестовой выборке: 0\n"
     ]
    }
   ],
   "source": [
    "# Тестовая выборка\n",
    "# Количество пропусков: 90\n",
    "\n",
    "df_test = df_test.ffill(axis=0)\n",
    "\n",
    "print('Количество пропусков в тестовой выборке:', df_test.isna().sum().sum())"
   ]
  },
  {
   "cell_type": "code",
   "execution_count": 21,
   "metadata": {
    "scrolled": true
   },
   "outputs": [
    {
     "name": "stdout",
     "output_type": "stream",
     "text": [
      "Количество пропусков в исходных данных: 0\n"
     ]
    }
   ],
   "source": [
    "# Исходные данные\n",
    "# Количество пропусков: 4481\n",
    "\n",
    "df_full = df_full.ffill(axis=0)\n",
    "\n",
    "print('Количество пропусков в исходных данных:', df_full.isna().sum().sum())"
   ]
  },
  {
   "cell_type": "markdown",
   "metadata": {},
   "source": [
    "В тестовом наборе нет целевых признаков, добавим с помощью метода merge():"
   ]
  },
  {
   "cell_type": "code",
   "execution_count": 22,
   "metadata": {},
   "outputs": [],
   "source": [
    "df_test = df_test.merge(df_full.loc[:, ['date','rougher.output.recovery','final.output.recovery']],\n",
    "                        on='date')\n"
   ]
  },
  {
   "cell_type": "code",
   "execution_count": 23,
   "metadata": {},
   "outputs": [
    {
     "data": {
      "text/plain": [
       "Index(['date', 'primary_cleaner.input.sulfate',\n",
       "       'primary_cleaner.input.depressant', 'primary_cleaner.input.feed_size',\n",
       "       'primary_cleaner.input.xanthate',\n",
       "       'primary_cleaner.state.floatbank8_a_air',\n",
       "       'primary_cleaner.state.floatbank8_a_level',\n",
       "       'primary_cleaner.state.floatbank8_b_air',\n",
       "       'primary_cleaner.state.floatbank8_b_level',\n",
       "       'primary_cleaner.state.floatbank8_c_air',\n",
       "       'primary_cleaner.state.floatbank8_c_level',\n",
       "       'primary_cleaner.state.floatbank8_d_air',\n",
       "       'primary_cleaner.state.floatbank8_d_level', 'rougher.input.feed_ag',\n",
       "       'rougher.input.feed_pb', 'rougher.input.feed_rate',\n",
       "       'rougher.input.feed_size', 'rougher.input.feed_sol',\n",
       "       'rougher.input.feed_au', 'rougher.input.floatbank10_sulfate',\n",
       "       'rougher.input.floatbank10_xanthate',\n",
       "       'rougher.input.floatbank11_sulfate',\n",
       "       'rougher.input.floatbank11_xanthate', 'rougher.state.floatbank10_a_air',\n",
       "       'rougher.state.floatbank10_a_level', 'rougher.state.floatbank10_b_air',\n",
       "       'rougher.state.floatbank10_b_level', 'rougher.state.floatbank10_c_air',\n",
       "       'rougher.state.floatbank10_c_level', 'rougher.state.floatbank10_d_air',\n",
       "       'rougher.state.floatbank10_d_level', 'rougher.state.floatbank10_e_air',\n",
       "       'rougher.state.floatbank10_e_level', 'rougher.state.floatbank10_f_air',\n",
       "       'rougher.state.floatbank10_f_level',\n",
       "       'secondary_cleaner.state.floatbank2_a_air',\n",
       "       'secondary_cleaner.state.floatbank2_a_level',\n",
       "       'secondary_cleaner.state.floatbank2_b_air',\n",
       "       'secondary_cleaner.state.floatbank2_b_level',\n",
       "       'secondary_cleaner.state.floatbank3_a_air',\n",
       "       'secondary_cleaner.state.floatbank3_a_level',\n",
       "       'secondary_cleaner.state.floatbank3_b_air',\n",
       "       'secondary_cleaner.state.floatbank3_b_level',\n",
       "       'secondary_cleaner.state.floatbank4_a_air',\n",
       "       'secondary_cleaner.state.floatbank4_a_level',\n",
       "       'secondary_cleaner.state.floatbank4_b_air',\n",
       "       'secondary_cleaner.state.floatbank4_b_level',\n",
       "       'secondary_cleaner.state.floatbank5_a_air',\n",
       "       'secondary_cleaner.state.floatbank5_a_level',\n",
       "       'secondary_cleaner.state.floatbank5_b_air',\n",
       "       'secondary_cleaner.state.floatbank5_b_level',\n",
       "       'secondary_cleaner.state.floatbank6_a_air',\n",
       "       'secondary_cleaner.state.floatbank6_a_level', 'rougher.output.recovery',\n",
       "       'final.output.recovery'],\n",
       "      dtype='object')"
      ]
     },
     "execution_count": 23,
     "metadata": {},
     "output_type": "execute_result"
    }
   ],
   "source": [
    "df_test.columns"
   ]
  },
  {
   "cell_type": "markdown",
   "metadata": {},
   "source": [
    "**Вывод:**\n",
    "- произведена предобработка данных;\n",
    "- заполнены пропущенные значения;\n",
    "- в тестовый набор добавлены целевые признаки."
   ]
  },
  {
   "cell_type": "markdown",
   "metadata": {},
   "source": [
    "## Анализ данных"
   ]
  },
  {
   "cell_type": "markdown",
   "metadata": {},
   "source": [
    "**2.1 Посмотрим, как меняется концентрация металлов (Au, Ag, Pb) на различных этапах очистки.**"
   ]
  },
  {
   "cell_type": "code",
   "execution_count": 24,
   "metadata": {},
   "outputs": [
    {
     "data": {
      "image/png": "[encoded data removed]",
      "text/plain": [
       "<Figure size 936x720 with 1 Axes>"
      ]
     },
     "metadata": {
      "needs_background": "light"
     },
     "output_type": "display_data"
    }
   ],
   "source": [
    "# концентрация золота\n",
    "\n",
    "plt.figure(figsize=[13, 10])\n",
    "\n",
    "sns.histplot(df_train['rougher.input.feed_au'], label='Сырье', color='wheat')\n",
    "\n",
    "sns.histplot(df_train['rougher.output.concentrate_au'], label='Концентрация после флотации',\n",
    "             color='orchid')\n",
    "\n",
    "sns.histplot(df_train['primary_cleaner.output.concentrate_au'], \n",
    "             label='Концентрация после первичной очистки', color='darkgrey')\n",
    "\n",
    "sns.histplot(df_train['final.output.concentrate_au'], \n",
    "             label='Финальная концентрация', color='cadetblue')\n",
    "\n",
    "plt.xlim([0, 60])\n",
    "plt.ylim([0, 900])\n",
    "\n",
    "plt.xlabel('Концентрация золота на выходе этапов')\n",
    "plt.ylabel('Количество наблюдений')\n",
    "\n",
    "plt.legend(loc='upper left')\n",
    "plt.title('Концентрация золота (Au) на разных этапах очистки')\n",
    "plt.show()"
   ]
  },
  {
   "cell_type": "code",
   "execution_count": 25,
   "metadata": {},
   "outputs": [
    {
     "name": "stdout",
     "output_type": "stream",
     "text": [
      "Средняя концентрация золота на этапе сырья: 7.87\n",
      "Средняя концентрация золота после флотации: 19.44\n",
      "Средняя концентрация золота после первичной очистки: 32.39\n",
      "Средняя концентрация золота на финальном этапе: 44.0\n"
     ]
    }
   ],
   "source": [
    "print('Средняя концентрация золота на этапе сырья:', \n",
    "      df_train['rougher.input.feed_au'].mean().round(2))\n",
    "\n",
    "print('Средняя концентрация золота после флотации:', \n",
    "      df_train['rougher.output.concentrate_au'].mean().round(2))\n",
    "\n",
    "print('Средняя концентрация золота после первичной очистки:', \n",
    "      df_train['primary_cleaner.output.concentrate_au']\n",
    "      .mean().round(2))\n",
    "\n",
    "print('Средняя концентрация золота на финальном этапе:', \n",
    "      df_train['final.output.concentrate_au'].mean().round(2))"
   ]
  },
  {
   "cell_type": "code",
   "execution_count": 26,
   "metadata": {},
   "outputs": [
    {
     "data": {
      "image/png": "[encoded data removed]",
      "text/plain": [
       "<Figure size 936x720 with 1 Axes>"
      ]
     },
     "metadata": {
      "needs_background": "light"
     },
     "output_type": "display_data"
    }
   ],
   "source": [
    "# концентрация серебра\n",
    "\n",
    "plt.figure(figsize=[13, 10])\n",
    "\n",
    "sns.histplot(df_train['rougher.input.feed_ag'], label='Сырье', color='wheat')\n",
    "\n",
    "sns.histplot(df_train['rougher.output.concentrate_ag'], label='Концентрация после флотации', \n",
    "             color='orchid')\n",
    "\n",
    "sns.histplot(df_train['primary_cleaner.output.concentrate_ag'], \n",
    "             label='Концентрация после первичной очистки',\n",
    "             color='darkgrey')\n",
    "\n",
    "sns.histplot(df_train['final.output.concentrate_ag'], label='Финальная концентрация', \n",
    "             color='cadetblue')\n",
    "\n",
    "plt.xlim([0, 30])\n",
    "plt.ylim([0, 1200])\n",
    "\n",
    "plt.xlabel('Концентрация серебра на выходе этапов')\n",
    "plt.ylabel('Количество наблюдений')\n",
    "\n",
    "plt.legend(loc='upper left')\n",
    "plt.title('Концентрация серебра (Ag) на разных этапах очистки')\n",
    "plt.show()"
   ]
  },
  {
   "cell_type": "code",
   "execution_count": 27,
   "metadata": {},
   "outputs": [
    {
     "name": "stdout",
     "output_type": "stream",
     "text": [
      "Средняя концентрация серебра на этапе сырья: 8.58\n",
      "Средняя концентрация серебра после флотации: 11.78\n",
      "Средняя концентрация серебра после первичной очистки: 8.2\n",
      "Средняя концентрация серебра на финальном этапе: 5.14\n"
     ]
    }
   ],
   "source": [
    "print('Средняя концентрация серебра на этапе сырья:', \n",
    "      df_train['rougher.input.feed_ag'].mean().round(2))\n",
    "\n",
    "print('Средняя концентрация серебра после флотации:', \n",
    "      df_train['rougher.output.concentrate_ag'].mean().round(2))\n",
    "\n",
    "print('Средняя концентрация серебра после первичной очистки:', \n",
    "      df_train['primary_cleaner.output.concentrate_ag']\n",
    "      .mean().round(2))\n",
    "\n",
    "print('Средняя концентрация серебра на финальном этапе:', \n",
    "      df_train['final.output.concentrate_ag'].mean().round(2))"
   ]
  },
  {
   "cell_type": "code",
   "execution_count": 28,
   "metadata": {},
   "outputs": [
    {
     "data": {
      "image/png": "[encoded data removed]",
      "text/plain": [
       "<Figure size 936x720 with 1 Axes>"
      ]
     },
     "metadata": {
      "needs_background": "light"
     },
     "output_type": "display_data"
    }
   ],
   "source": [
    "# концентрация свинца\n",
    "\n",
    "plt.figure(figsize=[13, 10])\n",
    "\n",
    "sns.histplot(df_train['rougher.input.feed_pb'], label='Сырье', color='wheat')\n",
    "\n",
    "sns.histplot(df_train['rougher.output.concentrate_pb'], label='Концентрация после флотации', \n",
    "             color='orchid')\n",
    "\n",
    "sns.histplot(df_train['primary_cleaner.output.concentrate_pb'], \n",
    "             label='Концентрация после первичной очистки',\n",
    "             color='darkgrey')\n",
    "\n",
    "sns.histplot(df_train['final.output.concentrate_pb'], label='Финальная концентрация', \n",
    "             color='cadetblue')\n",
    "\n",
    "plt.xlim([0, 20])\n",
    "plt.ylim([0, 900])\n",
    "\n",
    "plt.xlabel('Концентрация свинца на выходе этапов')\n",
    "plt.ylabel('Количество наблюдений')\n",
    "\n",
    "plt.legend(loc='upper left')\n",
    "plt.title('Концентрация свинца (Pb) на разных этапах очистки')\n",
    "plt.show()"
   ]
  },
  {
   "cell_type": "code",
   "execution_count": 29,
   "metadata": {},
   "outputs": [
    {
     "name": "stdout",
     "output_type": "stream",
     "text": [
      "Средняя концентрация свинца на этапе сырья: 3.51\n",
      "Средняя концентрация свинца после флотации: 7.66\n",
      "Средняя концентрация свинца после первичной очистки: 9.57\n",
      "Средняя концентрация свинца на финальном этапе: 10.13\n"
     ]
    }
   ],
   "source": [
    "print('Средняя концентрация свинца на этапе сырья:', \n",
    "      df_train['rougher.input.feed_pb'].mean().round(2))\n",
    "\n",
    "print('Средняя концентрация свинца после флотации:', \n",
    "      df_train['rougher.output.concentrate_pb'].mean().round(2))\n",
    "\n",
    "print('Средняя концентрация свинца после первичной очистки:', \n",
    "      df_train['primary_cleaner.output.concentrate_pb']\n",
    "      .mean().round(2))\n",
    "\n",
    "print('Средняя концентрация свинца на финальном этапе:', \n",
    "      df_train['final.output.concentrate_pb'].mean().round(2))"
   ]
  },
  {
   "cell_type": "markdown",
   "metadata": {},
   "source": [
    "**Вывод:** \n",
    "\n",
    "**Концентрация золота увеличивается после каждого этапа очистки:**\n",
    "- cредняя концентрация золота на этапе сырья: 7.87;\n",
    "- средняя концентрация золота после флотации: 19.91;\n",
    "- cредняя концентрация золота после первичной очистки: 32.84;\n",
    "- cредняя концентрация золота на финальном этапе: 44.23.\n",
    "\n",
    "**Концентрация серебра уменьшается после каждого этапа очистки:**\n",
    "- средняя концентрация серебра на этапе сырья: 8.58;\n",
    "- средняя концентрация серебра после флотации: 12.01;\n",
    "- средняя концентрация серебра после первичной очистки: 8.35;\n",
    "- средняя концентрация серебра на финальном этапе: 5.16.\n",
    "\n",
    "**Концентрация свинца увеличивается, но не сильно после каждого этапа очистки:**\n",
    "- средняя концентрация свинца на этапе сырья: 3.51;\n",
    "- средняя концентрация свинца после флотации: 7.87;\n",
    "- средняя концентрация свинца после первичной очистки: 9.77;\n",
    "- средняя концентрация свинца на финальном этапе: 10.22."
   ]
  },
  {
   "cell_type": "markdown",
   "metadata": {},
   "source": [
    "**2.2 Сравним распределения размеров гранул сырья на обучающей и тестовой выборках.**"
   ]
  },
  {
   "cell_type": "code",
   "execution_count": 30,
   "metadata": {},
   "outputs": [
    {
     "data": {
      "image/png": "[encoded data removed]",
      "text/plain": [
       "<Figure size 936x720 with 1 Axes>"
      ]
     },
     "metadata": {
      "needs_background": "light"
     },
     "output_type": "display_data"
    }
   ],
   "source": [
    "plt.figure(figsize=[13, 10])\n",
    "\n",
    "sns.kdeplot(df_train['rougher.input.feed_size'], label='Обучающая выборка', color='m')\n",
    "sns.kdeplot(df_test['rougher.input.feed_size'], label='Тестовая выборка', color='grey')\n",
    "\n",
    "\n",
    "\n",
    "plt.xlim([0, 300])\n",
    "plt.ylim([0, 0.05])\n",
    "\n",
    "plt.xlabel('Размер гранул')\n",
    "plt.ylabel('Плотность распределения')\n",
    "\n",
    "plt.legend(loc='upper right')\n",
    "plt.title('Распределение размеров гранул сырья для этапа - флотация.')\n",
    "plt.show()"
   ]
  },
  {
   "cell_type": "code",
   "execution_count": 31,
   "metadata": {},
   "outputs": [
    {
     "data": {
      "image/png": "[encoded data removed]",
      "text/plain": [
       "<Figure size 936x720 with 1 Axes>"
      ]
     },
     "metadata": {
      "needs_background": "light"
     },
     "output_type": "display_data"
    }
   ],
   "source": [
    "plt.figure(figsize=[13, 10])\n",
    "\n",
    "sns.kdeplot(df_train['primary_cleaner.input.feed_size'], label='Обучающая выборка', color='m')\n",
    "sns.kdeplot(df_test['primary_cleaner.input.feed_size'], label='Тестовая выборка', color='grey')\n",
    "\n",
    "plt.xlim([0, 15])\n",
    "plt.ylim([0, 0.9])\n",
    "\n",
    "plt.xlabel('Размер гранул')\n",
    "plt.ylabel('Плотность распределения')\n",
    "\n",
    "plt.legend(loc='upper right')\n",
    "plt.title('Распределение размеров гранул сырья для этапа первичной очистки.')\n",
    "plt.show()"
   ]
  },
  {
   "cell_type": "markdown",
   "metadata": {},
   "source": [
    "**Вывод:** \\\n",
    "Распределения практически не отличаются друг от друга и являются нормальными, следовательно оценка модели будет правильной."
   ]
  },
  {
   "cell_type": "markdown",
   "metadata": {},
   "source": [
    "**2.3 Исследуем суммарную концентрацию всех веществ на разных стадиях: в сырье, в черновом и финальном концентратах.** "
   ]
  },
  {
   "cell_type": "code",
   "execution_count": 32,
   "metadata": {},
   "outputs": [],
   "source": [
    "# сумма концентрации веществ на стадии сырья\n",
    "\n",
    "rougher_input_concentrate_sum = (df_train['rougher.input.feed_ag'] \n",
    "                                 + df_train['rougher.input.feed_pb']\n",
    "                                 + df_train['rougher.input.feed_sol'] \n",
    "                                 + df_train['rougher.input.feed_au'])"
   ]
  },
  {
   "cell_type": "code",
   "execution_count": 33,
   "metadata": {},
   "outputs": [],
   "source": [
    "# сумма концентрации веществ на черновой стадии, этап флотация\n",
    "\n",
    "rougher_output_concentrate_sum = (df_train['rougher.output.concentrate_ag'] \n",
    "                                 + df_train['rougher.output.concentrate_pb']\n",
    "                                 + df_train['rougher.output.concentrate_sol']\n",
    "                                 + df_train['rougher.output.concentrate_au'])"
   ]
  },
  {
   "cell_type": "code",
   "execution_count": 34,
   "metadata": {},
   "outputs": [],
   "source": [
    "# сумма концентрации веществ на черновой стадии, этап первичная обработка\n",
    "\n",
    "primary_cleaner_output_concentrate_sum = (df_train['primary_cleaner.output.concentrate_ag'] \n",
    "                                 + df_train['primary_cleaner.output.concentrate_pb']\n",
    "                                 + df_train['primary_cleaner.output.concentrate_sol']\n",
    "                                 + df_train['primary_cleaner.output.concentrate_au'])"
   ]
  },
  {
   "cell_type": "code",
   "execution_count": 35,
   "metadata": {},
   "outputs": [],
   "source": [
    "# сумма концентрации веществ на финальной стадии \n",
    "\n",
    "final_output_concentrate_sum = (df_train['final.output.concentrate_ag'] \n",
    "                                 + df_train['final.output.concentrate_pb']\n",
    "                                 + df_train['final.output.concentrate_sol']\n",
    "                                 + df_train['final.output.concentrate_au'])"
   ]
  },
  {
   "cell_type": "code",
   "execution_count": 36,
   "metadata": {},
   "outputs": [
    {
     "data": {
      "image/png": "[encoded data removed]",
      "text/plain": [
       "<Figure size 936x720 with 1 Axes>"
      ]
     },
     "metadata": {
      "needs_background": "light"
     },
     "output_type": "display_data"
    }
   ],
   "source": [
    "plt.figure(figsize=[13, 10])\n",
    "\n",
    "sns.histplot(rougher_input_concentrate_sum, label='Стадия сырья', color='wheat')\n",
    "\n",
    "sns.histplot(rougher_output_concentrate_sum, label='Черновая стадия, этап флотация', \n",
    "             color='orchid')\n",
    "\n",
    "sns.histplot(primary_cleaner_output_concentrate_sum, \n",
    "             label='Черновая стадия, этап первичная обработка',\n",
    "             color='darkgrey')\n",
    "\n",
    "sns.histplot(final_output_concentrate_sum, label='Финальная стадия', color='cadetblue')\n",
    "\n",
    "\n",
    "plt.xlabel('Cуммарная концентрация веществ')\n",
    "plt.ylabel('Количество наблюдений')\n",
    "\n",
    "plt.legend(loc='upper left')\n",
    "plt.title('Cуммарная концентрация всех веществ на разных стадиях')\n",
    "plt.show()"
   ]
  },
  {
   "cell_type": "code",
   "execution_count": 37,
   "metadata": {},
   "outputs": [
    {
     "name": "stdout",
     "output_type": "stream",
     "text": [
      "Средняя концентрация веществ на стадии сырья: 56.24\n",
      "Средняя концентрация веществ на черновой стадии, этап флотация: 67.17\n",
      "Средняя концентрация веществ на черновой стадии, этап первичная обработка: 60.17\n",
      "Средняя концентрация веществ на финальной стадии: 68.39\n"
     ]
    }
   ],
   "source": [
    "print('Средняя концентрация веществ на стадии сырья:', \n",
    "      rougher_input_concentrate_sum.mean().round(2))\n",
    "\n",
    "print('Средняя концентрация веществ на черновой стадии, этап флотация:', \n",
    "      rougher_output_concentrate_sum.mean().round(2))\n",
    "\n",
    "print('Средняя концентрация веществ на черновой стадии, этап первичная обработка:', \n",
    "      primary_cleaner_output_concentrate_sum.mean().round(2))\n",
    "\n",
    "print('Средняя концентрация веществ на финальной стадии:', \n",
    "      final_output_concentrate_sum.mean().round(2))"
   ]
  },
  {
   "cell_type": "markdown",
   "metadata": {},
   "source": [
    "**Вывод:**\n",
    "\n",
    "**Суммарная концентрация веществ увеличивается к финальному этапу:**\n",
    "- средняя концентрация веществ на стадии сырья: 56.24;\n",
    "- средняя концентрация веществ на черновой стадии, этап флотация: 67.17;\n",
    "- средняя концентрация веществ на черновой стадии, этап первичная обработка: 60.17;\n",
    "- средняя концентрация веществ на финальной стадии: 68.39."
   ]
  },
  {
   "cell_type": "markdown",
   "metadata": {},
   "source": [
    "**Видим много аномальных значений в районе нуля. Удалим их, чтобы они не повлияли на качество обучения:**"
   ]
  },
  {
   "cell_type": "code",
   "execution_count": 38,
   "metadata": {},
   "outputs": [],
   "source": [
    "# Для обучающей выборки\n",
    "\n",
    "df_train = df_train[(df_train['rougher.input.feed_ag'] >= 1) \n",
    "                    & (df_train['rougher.input.feed_pb'] >= 1)\n",
    "                    & (df_train['rougher.input.feed_sol'] >= 1) \n",
    "                    & (df_train['rougher.input.feed_au'] >= 1)\n",
    "                    & (df_train['rougher.output.concentrate_ag'] >= 1) \n",
    "                    & (df_train['rougher.output.concentrate_pb'] >= 1)\n",
    "                    & (df_train['rougher.output.concentrate_sol'] >= 1)\n",
    "                    & (df_train['rougher.output.concentrate_au'] >= 1)\n",
    "                    & (df_train['primary_cleaner.output.concentrate_ag'] >= 1)\n",
    "                    & (df_train['primary_cleaner.output.concentrate_pb'] >= 1)\n",
    "                    & (df_train['primary_cleaner.output.concentrate_sol'] >= 1)\n",
    "                    & (df_train['primary_cleaner.output.concentrate_au'] >= 1)\n",
    "                    & (df_train['final.output.concentrate_ag'] >= 1) \n",
    "                    & (df_train['final.output.concentrate_pb'] >= 1)\n",
    "                    & (df_train['final.output.concentrate_sol'] >= 1)\n",
    "                    & (df_train['final.output.concentrate_au'] >= 1)]"
   ]
  },
  {
   "cell_type": "code",
   "execution_count": 39,
   "metadata": {},
   "outputs": [],
   "source": [
    "# Для тестовой выборки\n",
    "\n",
    "df_test = df_test[(df_test['rougher.input.feed_ag'] >= 1) \n",
    "                    & (df_test['rougher.input.feed_pb'] >= 1)\n",
    "                    & (df_test['rougher.input.feed_sol'] >= 1) \n",
    "                    & (df_test['rougher.input.feed_au'] >= 1)]"
   ]
  },
  {
   "cell_type": "code",
   "execution_count": 40,
   "metadata": {},
   "outputs": [],
   "source": [
    "# Для исходных данных\n",
    "\n",
    "df_full = df_full[(df_full['rougher.input.feed_ag'] >= 1) \n",
    "                    & (df_full['rougher.input.feed_pb'] >= 1)\n",
    "                    & (df_full['rougher.input.feed_sol'] >= 1) \n",
    "                    & (df_full['rougher.input.feed_au'] >= 1)\n",
    "                    & (df_full['rougher.output.concentrate_ag'] >= 1) \n",
    "                    & (df_full['rougher.output.concentrate_pb'] >= 1)\n",
    "                    & (df_full['rougher.output.concentrate_sol'] >= 1)\n",
    "                    & (df_full['rougher.output.concentrate_au'] >= 1)\n",
    "                    & (df_full['primary_cleaner.output.concentrate_ag'] >= 1)\n",
    "                    & (df_full['primary_cleaner.output.concentrate_pb'] >= 1)\n",
    "                    & (df_full['primary_cleaner.output.concentrate_sol'] >= 1)\n",
    "                    & (df_full['primary_cleaner.output.concentrate_au'] >= 1)\n",
    "                    & (df_full['final.output.concentrate_ag'] >= 1) \n",
    "                    & (df_full['final.output.concentrate_pb'] >= 1)\n",
    "                    & (df_full['final.output.concentrate_sol'] >= 1)\n",
    "                    & (df_full['final.output.concentrate_au'] >= 1)]"
   ]
  },
  {
   "cell_type": "markdown",
   "metadata": {},
   "source": [
    "**Вывод:**\n",
    "- аномальные значения удалены."
   ]
  },
  {
   "cell_type": "markdown",
   "metadata": {},
   "source": [
    "**Промежуточный вывод:** \\\n",
    "Проведён анализ данных: \n",
    "\n",
    "Концентрация золота увеличивается после каждого этапа очистки:\n",
    "- cредняя концентрация золота на этапе сырья: 7.87;\n",
    "- средняя концентрация золота после флотации: 19.91;\n",
    "- cредняя концентрация золота после первичной очистки: 32.84;\n",
    "- cредняя концентрация золота на финальном этапе: 44.23.\n",
    "\n",
    "Концентрация серебра уменьшается после каждого этапа очистки:\n",
    "- средняя концентрация серебра на этапе сырья: 8.58;\n",
    "- средняя концентрация серебра после флотации: 12.01;\n",
    "- средняя концентрация серебра после первичной очистки: 8.35;\n",
    "- средняя концентрация серебра на финальном этапе: 5.16.\n",
    "\n",
    "Концентрация свинца увеличивается, но не сильно после каждого этапа очистки:\n",
    "- средняя концентрация свинца на этапе сырья: 3.51;\n",
    "- средняя концентрация свинца после флотации: 7.87;\n",
    "- средняя концентрация свинца после первичной очистки: 9.77;\n",
    "- средняя концентрация свинца на финальном этапе: 10.22.\n",
    "Распределения практически не отличаются друг от друга и являются нормальными, следовательно оценка модели будет правильной.;\n",
    "\n",
    "Суммарная концентрация веществ увеличивается к финальному этапу:\n",
    "\n",
    "- средняя концентрация веществ на стадии сырья: 56.24;\n",
    "- средняя концентрация веществ на черновой стадии, этап флотация: 67.17;\n",
    "- средняя концентрация веществ на черновой стадии, этап первичная обработка: 60.17;\n",
    "- средняя концентрация веществ на финальной стадии: 68.39.\n",
    "\n",
    "Аномальные значения удалены.\n"
   ]
  },
  {
   "cell_type": "markdown",
   "metadata": {},
   "source": [
    "## Модель"
   ]
  },
  {
   "cell_type": "markdown",
   "metadata": {},
   "source": [
    "**3.1 Напишем функцию для вычисления итоговой sMAPE.**"
   ]
  },
  {
   "cell_type": "code",
   "execution_count": 41,
   "metadata": {},
   "outputs": [],
   "source": [
    "# Вычисление sMAPE\n",
    "\n",
    "def smape(target, predict):\n",
    "    return (100/len(target) * np.sum(2 * np.abs(target - predict) / (np.abs(target) + np.abs(predict)))\n",
    "            *(-1))\n",
    "            "
   ]
  },
  {
   "cell_type": "code",
   "execution_count": 42,
   "metadata": {},
   "outputs": [],
   "source": [
    "# Вычисление итоговой sMAPE\n",
    "\n",
    "def final_smape(smape_rougher, smape_final):\n",
    "    return (0.25 * smape_rougher + 0.75 * smape_final)    "
   ]
  },
  {
   "cell_type": "code",
   "execution_count": 43,
   "metadata": {},
   "outputs": [],
   "source": [
    "smape_scorer = make_scorer(smape, greater_is_better = False)"
   ]
  },
  {
   "cell_type": "code",
   "execution_count": 44,
   "metadata": {},
   "outputs": [],
   "source": [
    "# Удалим из обучающей выборки признаки, которые отсутствуют в тестовой выборке\n",
    "\n",
    "df_train = df_train.drop(columns = signs_missed - set(['rougher.output.recovery','final.output.recovery']), axis=1)"
   ]
  },
  {
   "cell_type": "code",
   "execution_count": 45,
   "metadata": {},
   "outputs": [
    {
     "name": "stdout",
     "output_type": "stream",
     "text": [
      "Количество признаков в обучающей выборке: 55\n",
      "Количество признаков в тестовой выборке: 55\n"
     ]
    }
   ],
   "source": [
    "# Проверим\n",
    "\n",
    "print('Количество признаков в обучающей выборке:', len(df_train.columns))\n",
    "print('Количество признаков в тестовой выборке:', len(df_test.columns))"
   ]
  },
  {
   "cell_type": "code",
   "execution_count": 46,
   "metadata": {},
   "outputs": [],
   "source": [
    "# Формируем фичи и целевую\n",
    "\n",
    "features_train = df_train.drop(['date', 'rougher.output.recovery', 'final.output.recovery'], axis=1)\n",
    "target_rougher_train = df_train['rougher.output.recovery'] \n",
    "target_final_train = df_train['final.output.recovery'] \n"
   ]
  },
  {
   "cell_type": "markdown",
   "metadata": {},
   "source": [
    "**3.2 Обучим разные модели и оценим их качество кросс-валидацией.**"
   ]
  },
  {
   "cell_type": "markdown",
   "metadata": {},
   "source": [
    "**LinearRegression()**"
   ]
  },
  {
   "cell_type": "code",
   "execution_count": 47,
   "metadata": {},
   "outputs": [
    {
     "name": "stdout",
     "output_type": "stream",
     "text": [
      "Метрика sMAPE для LinearRegression_rougher: 7.281963445865566\n",
      "Метрика sMAPE для LinearRegression_final: 10.676502645068076\n",
      "CPU times: user 613 ms, sys: 1.44 s, total: 2.06 s\n",
      "Wall time: 1.94 s\n"
     ]
    }
   ],
   "source": [
    "%%time\n",
    "# РАСЧЁТ МОДЕЛИ LinearRegression() С ПОМОЩЬЮ КРОСС-ВАЛИДАЦИИ\n",
    "model_lr_rougher = LinearRegression()\n",
    "scores_rougher_lr = cross_val_score(model_lr_rougher, \n",
    "                                    features_train, \n",
    "                                    target_rougher_train, \n",
    "                                    cv=5, \n",
    "                                    scoring=smape_scorer)\n",
    "\n",
    "model_lr_final = LinearRegression()\n",
    "scores_final_lr = cross_val_score(model_lr_final, \n",
    "                                  features_train, \n",
    "                                  target_final_train, \n",
    "                                  cv=5, \n",
    "                                  scoring=smape_scorer)\n",
    "\n",
    "# МЕТРИКА\n",
    "print('Метрика sMAPE для LinearRegression_rougher:', np.mean(scores_rougher_lr))\n",
    "print('Метрика sMAPE для LinearRegression_final:', np.mean(scores_final_lr))"
   ]
  },
  {
   "cell_type": "markdown",
   "metadata": {},
   "source": [
    "**RandomForestRegressor()**"
   ]
  },
  {
   "cell_type": "code",
   "execution_count": 48,
   "metadata": {},
   "outputs": [],
   "source": [
    "# Сделаем заготовку к масштабированию\n",
    "\n",
    "preprocessing = make_pipeline(StandardScaler())\n",
    "\n",
    "# Обозначим модель\n",
    "\n",
    "model_rfr = RandomForestRegressor(random_state = RANDOM_STATE)\n",
    "\n",
    "# Сформируем шаги пайплайна\n",
    "full_pipe_rfr = Pipeline([('preprocessor', preprocessing), ('model', model_rfr)])\n",
    "\n",
    "# Зададим параметры\n",
    "param_grid_rfr = {\n",
    "    'model__n_estimators': range (1,300,20),\n",
    "    'model__max_depth': range (1, 11),\n",
    "    'model__min_samples_split': range (1,10),\n",
    "    'model__min_samples_leaf': range (2,8)\n",
    "}"
   ]
  },
  {
   "cell_type": "code",
   "execution_count": 49,
   "metadata": {},
   "outputs": [
    {
     "name": "stdout",
     "output_type": "stream",
     "text": [
      "CPU times: user 37min 3s, sys: 5.13 s, total: 37min 8s\n",
      "Wall time: 37min 9s\n"
     ]
    }
   ],
   "source": [
    "%%time\n",
    "\n",
    "# Подберем гиперпараметры\n",
    "grid_rougher_rfr = RandomizedSearchCV(\n",
    "    full_pipe_rfr, param_grid_rfr, scoring=smape_scorer, cv=5, \n",
    "    random_state=RANDOM_STATE)\n",
    "\n",
    "grid_final_rfr = RandomizedSearchCV(\n",
    "    full_pipe_rfr, param_grid_rfr, scoring=smape_scorer, cv=5, \n",
    "    random_state=RANDOM_STATE)\n",
    "\n",
    "# Обучим модель  \n",
    "model_rougher_rfr = grid_rougher_rfr.fit(features_train, target_rougher_train)\n",
    "model_final_rfr = grid_final_rfr.fit(features_train, target_final_train)"
   ]
  },
  {
   "cell_type": "code",
   "execution_count": 50,
   "metadata": {},
   "outputs": [
    {
     "name": "stdout",
     "output_type": "stream",
     "text": [
      "Лучшие параметры для случайного леса:  {'model__n_estimators': 41, 'model__min_samples_split': 2, 'model__min_samples_leaf': 6, 'model__max_depth': 3}\n",
      "Метрика sMAPE для лучших параметров: 6.8217\n",
      "Лучшие параметры для случайного леса:  {'model__n_estimators': 261, 'model__min_samples_split': 2, 'model__min_samples_leaf': 3, 'model__max_depth': 10}\n",
      "Метрика sMAPE для лучших параметров: 9.0126\n"
     ]
    }
   ],
   "source": [
    "print(f'Лучшие параметры для случайного леса: ', model_rougher_rfr.best_params_)\n",
    "print(f'Метрика sMAPE для лучших параметров: %.4f' % model_rougher_rfr.best_score_)\n",
    "\n",
    "print(f'Лучшие параметры для случайного леса: ', model_final_rfr.best_params_)\n",
    "print(f'Метрика sMAPE для лучших параметров: %.4f' % model_final_rfr.best_score_)\n"
   ]
  },
  {
   "cell_type": "markdown",
   "metadata": {},
   "source": [
    "**DecisionTreeRegressor()**"
   ]
  },
  {
   "cell_type": "code",
   "execution_count": 51,
   "metadata": {},
   "outputs": [],
   "source": [
    "# Обозначим модель\n",
    "\n",
    "model_dtr = DecisionTreeRegressor(random_state = RANDOM_STATE)\n",
    "\n",
    "# Сформируем шаги пайплайна\n",
    "\n",
    "full_pipe_dtr = Pipeline([('preprocessor', preprocessing), ('model', model_dtr)])\n",
    "\n",
    "# Зададим параметры\n",
    "\n",
    "param_grid_dtr = {\n",
    "    'model__max_depth': range (1, 11)\n",
    "}"
   ]
  },
  {
   "cell_type": "code",
   "execution_count": 52,
   "metadata": {},
   "outputs": [
    {
     "name": "stdout",
     "output_type": "stream",
     "text": [
      "CPU times: user 26.3 s, sys: 60 ms, total: 26.3 s\n",
      "Wall time: 26.3 s\n"
     ]
    }
   ],
   "source": [
    "%%time\n",
    "\n",
    "# Подберем гиперпараметры\n",
    "\n",
    "grid_rougher_dtr = RandomizedSearchCV(\n",
    "    full_pipe_dtr, param_grid_dtr, scoring=smape_scorer, cv=5, \n",
    "    random_state=RANDOM_STATE)\n",
    "\n",
    "grid_final_dtr = RandomizedSearchCV(\n",
    "    full_pipe_dtr, param_grid_dtr, scoring=smape_scorer, cv=5, \n",
    "    random_state=RANDOM_STATE)\n",
    "\n",
    "# Обучим модель  \n",
    "\n",
    "model_rougher_dtr = grid_rougher_dtr.fit(features_train, target_rougher_train)\n",
    "model_final_dtr = grid_final_dtr.fit(features_train, target_final_train)"
   ]
  },
  {
   "cell_type": "code",
   "execution_count": 53,
   "metadata": {},
   "outputs": [
    {
     "name": "stdout",
     "output_type": "stream",
     "text": [
      "Лучшие параметры для случайного леса:  {'model__max_depth': 10}\n",
      "Метрика sMAPE для лучших параметров: 8.4007\n",
      "Лучшие параметры для случайного леса:  {'model__max_depth': 10}\n",
      "Метрика sMAPE для лучших параметров: 12.4888\n"
     ]
    }
   ],
   "source": [
    "print(f'Лучшие параметры для случайного леса: ', model_rougher_dtr.best_params_)\n",
    "print(f'Метрика sMAPE для лучших параметров: %.4f' % model_rougher_dtr.best_score_)\n",
    "\n",
    "print(f'Лучшие параметры для случайного леса: ', model_final_dtr.best_params_)\n",
    "print(f'Метрика sMAPE для лучших параметров: %.4f' % model_final_dtr.best_score_)\n"
   ]
  },
  {
   "cell_type": "code",
   "execution_count": 54,
   "metadata": {},
   "outputs": [
    {
     "name": "stdout",
     "output_type": "stream",
     "text": [
      "Итоговая sMAPE для LinearRegression: 9.827867845267448\n",
      "Итоговая sMAPE для RandomForestRegressor: 8.464862146568697\n",
      "Итоговая sMAPE для DecisionTreeRegressor: 11.466760209328724\n"
     ]
    }
   ],
   "source": [
    "final_smape_lr = final_smape(np.mean(scores_rougher_lr), np.mean(scores_final_lr))\n",
    "print('Итоговая sMAPE для LinearRegression:', final_smape_lr)\n",
    "\n",
    "final_smape_rfr = final_smape(model_rougher_rfr.best_score_ , model_final_rfr.best_score_)\n",
    "print('Итоговая sMAPE для RandomForestRegressor:', final_smape_rfr)\n",
    "\n",
    "final_smape_dtc = final_smape(model_rougher_dtr.best_score_ , model_final_dtr.best_score_)\n",
    "print('Итоговая sMAPE для DecisionTreeRegressor:', final_smape_dtc)"
   ]
  },
  {
   "cell_type": "markdown",
   "metadata": {},
   "source": [
    "**Вывод:**\n",
    "- Итоговая sMAPE для LinearRegression: 9.827867845267448\n",
    "- Итоговая sMAPE для RandomForestRegressor: **8.464862146568697**\n",
    "- Итоговая sMAPE для DecisionTreeRegressor: 11.466760209328724\n",
    "\n",
    "Лучший результат у модели _Случайный Лес_ с параметрами: \n",
    "- 'n_estimators': 41, \n",
    "- 'min_samples_split': 2,\n",
    "- 'min_samples_leaf': 6, \n",
    "- 'max_depth': 3, \\\n",
    "её и будем проверять на тестовой выборке.\n"
   ]
  },
  {
   "cell_type": "markdown",
   "metadata": {},
   "source": [
    "**3.3 Проверим модель на тестовой выборке.**"
   ]
  },
  {
   "cell_type": "code",
   "execution_count": 55,
   "metadata": {},
   "outputs": [],
   "source": [
    "features_test = df_test.drop(['date', 'rougher.output.recovery', 'final.output.recovery'], axis=1)\n",
    "target_rougher_test = df_test['rougher.output.recovery'] \n",
    "target_final_test = df_test['final.output.recovery'] "
   ]
  },
  {
   "cell_type": "code",
   "execution_count": 56,
   "metadata": {},
   "outputs": [],
   "source": [
    "test_rougher = model_rougher_rfr.predict(features_test)\n",
    "test_final = model_final_rfr.predict(features_test)"
   ]
  },
  {
   "cell_type": "code",
   "execution_count": 57,
   "metadata": {
    "scrolled": true
   },
   "outputs": [
    {
     "name": "stdout",
     "output_type": "stream",
     "text": [
      "Итоговая sMAPE на тестовой выборке: 9.2096370092423\n"
     ]
    }
   ],
   "source": [
    "smape_rougher_test = smape(target_rougher_test, test_rougher)\n",
    "smape_final_test =  smape(target_final_test, test_final)\n",
    "final_smape_test = final_smape(smape_rougher_test , smape_final_test)\n",
    "\n",
    "print('Итоговая sMAPE на тестовой выборке:', -final_smape_test)"
   ]
  },
  {
   "cell_type": "markdown",
   "metadata": {},
   "source": [
    "**3.4 Проверим модель на адекватность.**"
   ]
  },
  {
   "cell_type": "code",
   "execution_count": 58,
   "metadata": {},
   "outputs": [
    {
     "name": "stdout",
     "output_type": "stream",
     "text": [
      "Итоговая sMAPE константной модели: 9.300311048816754\n"
     ]
    }
   ],
   "source": [
    "dummy_rougher = DummyRegressor(strategy='median')\n",
    "dummy_final = DummyRegressor(strategy='median')\n",
    "    \n",
    "dummy_rougher.fit(features_train, target_rougher_train)\n",
    "dummy_final.fit(features_train, target_final_train)\n",
    "    \n",
    "rougher = dummy_rougher.predict(features_test)\n",
    "final = dummy_final.predict(features_test)\n",
    "\n",
    "smape_rougher_dummy = smape(target_rougher_test, rougher)\n",
    "smape_final_dummy =  smape(target_final_test, final)\n",
    "final_smape_dummy = final_smape(smape_rougher_dummy, smape_final_dummy)\n",
    "\n",
    "print('Итоговая sMAPE константной модели:', -final_smape_dummy)"
   ]
  },
  {
   "cell_type": "markdown",
   "metadata": {},
   "source": [
    "**Вывод:**\n",
    "- Итоговая sMAPE на тестовой выборке: 9.2096370092423\n",
    "- Итоговая sMAPE константной модели: 9.300311048816754\n",
    "\n",
    "У констатной модели значение метрики sMAPE ниже, поэтому можем считать нашу модель адекватной."
   ]
  },
  {
   "cell_type": "markdown",
   "metadata": {},
   "source": [
    "**Общий вывод:**\n",
    "1. **_Были подготовлены данные:_**\n",
    "- мы имеем три таблицы: обучающая выборка, тестовая выборка и исходные данные;\n",
    "- во всех таблицах есть пропуски;\n",
    "- некоторые параметры недоступны, потому что замеряются и/или рассчитываются значительно позже.\n",
    "\n",
    "2. **_Проверено, что эффективность обогащения рассчитана правильно:_** \n",
    "- абсолютная средняя ошибка между расчётами и значением признака = 9.73512347450521e-15 и очень мала, из чего следует, что наши расчёты верны.\n",
    "\n",
    "3. **_Проанализированы признаки, недоступные в тестовой выборке:_**\n",
    "- все столбцы имеют тип - float64;\n",
    "- в тестовой выборке недоступны 34 признака;\n",
    "- 30 признаков имеют тип - _параметры продукта_;\n",
    "- 4 признака имеют тип - _расчётные характеристики_.\n",
    "\n",
    "\n",
    "**Отсутствуют 12 признаков на стадии _флотации_:**\n",
    "- 'rougher.output.concentrate_ag',\n",
    "- 'rougher.output.concentrate_au',\n",
    "- 'rougher.output.concentrate_pb',\n",
    "- 'rougher.output.concentrate_sol',\n",
    "- 'rougher.output.tail_ag',\n",
    "- 'rougher.output.tail_au',\n",
    "- 'rougher.output.tail_pb',\n",
    "- 'rougher.output.tail_sol',\n",
    "- 'rougher.calculation.au_pb_ratio',\n",
    "- 'rougher.calculation.floatbank10_sulfate_to_au_feed',\n",
    "- 'rougher.calculation.floatbank11_sulfate_to_au_feed',\n",
    "- 'rougher.calculation.sulfate_to_au_concentrate',\n",
    "\n",
    "\n",
    "**Отсутствуют 8 признаков на стадии _первичной_очистки_:**\n",
    "- 'primary_cleaner.output.concentrate_ag',\n",
    "- 'primary_cleaner.output.concentrate_au',\n",
    "- 'primary_cleaner.output.concentrate_pb',\n",
    "- 'primary_cleaner.output.concentrate_sol',\n",
    "- 'primary_cleaner.output.tail_ag',\n",
    "- 'primary_cleaner.output.tail_au',\n",
    "- 'primary_cleaner.output.tail_pb',\n",
    "- 'primary_cleaner.output.tail_sol',\n",
    "\n",
    "**Отсутствуют 4 признака на стадии _вторичной_очистки_:**\n",
    "- 'secondary_cleaner.output.tail_ag',\n",
    "- 'secondary_cleaner.output.tail_au',\n",
    "- 'secondary_cleaner.output.tail_pb',\n",
    "- 'secondary_cleaner.output.tail_sol'}\n",
    "\n",
    "**Отсутствуют 8 признаков на стадии _финальные характеристики_:**\n",
    "- 'final.output.concentrate_ag',\n",
    "- 'final.output.concentrate_au',\n",
    "- 'final.output.concentrate_pb',\n",
    "- 'final.output.concentrate_sol',\n",
    "- 'final.output.tail_ag',\n",
    "- 'final.output.tail_au',\n",
    "- 'final.output.tail_pb',\n",
    "- 'final.output.tail_sol',\n",
    "\n",
    "**Отсутствуют 2 целевых признака:**\n",
    "- 'rougher.output.recovery',\n",
    "- 'final.output.recovery'.\n",
    "\n",
    "\n",
    "4. **_Произведена предобработка данных:_**\n",
    "- заполнены пропущенные значения;\n",
    "- удалены аномальные значения;\n",
    "- в тестовый набор добавлены целевые признаки.\n",
    "\n",
    "5. **_Проведён анализ данных:_**\n",
    "\n",
    "**Концентрация золота увеличивается после каждого этапа очистки:**\n",
    "- cредняя концентрация золота на этапе сырья: 7.87;\n",
    "- средняя концентрация золота после флотации: 19.91;\n",
    "- cредняя концентрация золота после первичной очистки: 32.84;\n",
    "- cредняя концентрация золота на финальном этапе: 44.23.\n",
    "\n",
    "**Концентрация серебра уменьшается после каждого этапа очистки:**\n",
    "- средняя концентрация серебра на этапе сырья: 8.58;\n",
    "- средняя концентрация серебра после флотации: 12.01;\n",
    "- средняя концентрация серебра после первичной очистки: 8.35;\n",
    "- средняя концентрация серебра на финальном этапе: 5.16.\n",
    "\n",
    "**Концентрация свинца увеличивается, но не сильно после каждого этапа очистки:**\n",
    "- средняя концентрация свинца на этапе сырья: 3.51;\n",
    "- средняя концентрация свинца после флотации: 7.87;\n",
    "- средняя концентрация свинца после первичной очистки: 9.77;\n",
    "- средняя концентрация свинца на финальном этапе: 10.22.\n",
    "\n",
    "Распределения практически не отличаются друг от друга и являются нормальными, следовательно оценка модели будет правильной.;\n",
    "\n",
    "**Суммарная концентрация веществ увеличивается к финальному этапу:**\n",
    "- средняя концентрация веществ на стадии сырья: 56.24;\n",
    "- средняя концентрация веществ на черновой стадии, этап флотация: 67.17;\n",
    "- средняя концентрация веществ на черновой стадии, этап первичная обработка: 60.17;\n",
    "- средняя концентрация веществ на финальной стадии: 68.39.\n",
    "\n",
    "6. **_Построена модель:_**\n",
    "**Написали функцию для вычисления итоговой sMAPE. Обучили три модели и оценили их качество кросс-валидацией:**\n",
    "- Итоговая sMAPE для LinearRegression: 9.827867845267448\n",
    "- Итоговая sMAPE для RandomForestRegressor: **8.464862146568697**\n",
    "- Итоговая sMAPE для DecisionTreeRegressor: 11.466760209328724\n",
    "\n",
    "**Выбрали лучшую модель и проверили её на тестовой выборке:** \\\n",
    "Лучший результат у модели _Случайный Лес_ с параметрами: \n",
    "- 'n_estimators': 41, \n",
    "- 'min_samples_split': 2,\n",
    "- 'min_samples_leaf': 6, \n",
    "- 'max_depth': 3. \n",
    "\n",
    "- Итоговая sMAPE на тестовой выборке: 9.2096370092423\n",
    "- Итоговая sMAPE константной модели: 9.300311048816754\n",
    "\n",
    "У констатной модели значение метрики sMAPE ниже, поэтому можем считать нашу модель адекватной.\n",
    "\n"
   ]
  }
 ],
 "metadata": {
  "ExecuteTimeLog": [
   {
    "duration": 2192,
    "start_time": "2023-04-10T10:59:16.246Z"
   },
   {
    "duration": 6,
    "start_time": "2023-04-10T11:01:03.055Z"
   },
   {
    "duration": 128,
    "start_time": "2023-04-10T11:04:09.226Z"
   },
   {
    "duration": 863,
    "start_time": "2023-04-10T11:05:03.828Z"
   },
   {
    "duration": 289,
    "start_time": "2023-04-10T11:05:32.199Z"
   },
   {
    "duration": 42,
    "start_time": "2023-04-10T11:05:32.648Z"
   },
   {
    "duration": 416,
    "start_time": "2023-04-10T11:05:33.038Z"
   },
   {
    "duration": 27,
    "start_time": "2023-04-10T11:05:33.641Z"
   },
   {
    "duration": 1924,
    "start_time": "2023-04-10T11:05:34.034Z"
   },
   {
    "duration": 41,
    "start_time": "2023-04-10T11:05:35.960Z"
   },
   {
    "duration": 389,
    "start_time": "2023-04-10T11:07:22.410Z"
   },
   {
    "duration": 408,
    "start_time": "2023-04-10T11:08:00.064Z"
   },
   {
    "duration": 458,
    "start_time": "2023-04-10T11:08:29.274Z"
   },
   {
    "duration": 210,
    "start_time": "2023-04-10T11:08:30.874Z"
   },
   {
    "duration": 3,
    "start_time": "2023-04-10T11:38:34.145Z"
   },
   {
    "duration": 2,
    "start_time": "2023-04-10T11:38:54.124Z"
   },
   {
    "duration": 79,
    "start_time": "2023-04-10T11:44:52.578Z"
   },
   {
    "duration": 88,
    "start_time": "2023-04-10T11:45:13.921Z"
   },
   {
    "duration": 71,
    "start_time": "2023-04-10T11:45:59.461Z"
   },
   {
    "duration": 151,
    "start_time": "2023-04-10T11:46:06.408Z"
   },
   {
    "duration": 200,
    "start_time": "2023-04-10T11:46:25.143Z"
   },
   {
    "duration": 59,
    "start_time": "2023-04-10T11:49:29.868Z"
   },
   {
    "duration": 1393,
    "start_time": "2023-04-10T11:49:49.282Z"
   },
   {
    "duration": 7,
    "start_time": "2023-04-10T11:49:50.678Z"
   },
   {
    "duration": 326,
    "start_time": "2023-04-10T11:49:50.687Z"
   },
   {
    "duration": 35,
    "start_time": "2023-04-10T11:49:51.017Z"
   },
   {
    "duration": 90,
    "start_time": "2023-04-10T11:49:51.054Z"
   },
   {
    "duration": 29,
    "start_time": "2023-04-10T11:49:51.146Z"
   },
   {
    "duration": 377,
    "start_time": "2023-04-10T11:49:51.177Z"
   },
   {
    "duration": 31,
    "start_time": "2023-04-10T11:49:51.555Z"
   },
   {
    "duration": 479,
    "start_time": "2023-04-10T11:49:51.588Z"
   },
   {
    "duration": 250,
    "start_time": "2023-04-10T11:49:52.069Z"
   },
   {
    "duration": 505,
    "start_time": "2023-04-10T11:49:52.321Z"
   },
   {
    "duration": 47,
    "start_time": "2023-04-10T11:49:52.827Z"
   },
   {
    "duration": 0,
    "start_time": "2023-04-10T11:49:52.875Z"
   },
   {
    "duration": 0,
    "start_time": "2023-04-10T11:49:52.876Z"
   },
   {
    "duration": 102,
    "start_time": "2023-04-10T11:50:05.232Z"
   },
   {
    "duration": 3,
    "start_time": "2023-04-10T11:50:16.535Z"
   },
   {
    "duration": 179,
    "start_time": "2023-04-10T11:50:26.149Z"
   },
   {
    "duration": 3,
    "start_time": "2023-04-10T11:51:00.051Z"
   },
   {
    "duration": 68,
    "start_time": "2023-04-10T11:51:14.542Z"
   },
   {
    "duration": 3,
    "start_time": "2023-04-10T11:51:24.759Z"
   },
   {
    "duration": 3,
    "start_time": "2023-04-10T11:51:32.650Z"
   },
   {
    "duration": 115,
    "start_time": "2023-04-10T11:52:17.235Z"
   },
   {
    "duration": 9,
    "start_time": "2023-04-10T11:52:17.660Z"
   },
   {
    "duration": 5,
    "start_time": "2023-04-10T11:52:43.722Z"
   },
   {
    "duration": 5,
    "start_time": "2023-04-10T11:52:44.910Z"
   },
   {
    "duration": 4,
    "start_time": "2023-04-10T11:55:51.788Z"
   },
   {
    "duration": 4,
    "start_time": "2023-04-10T11:56:29.874Z"
   },
   {
    "duration": 4,
    "start_time": "2023-04-10T11:57:04.989Z"
   },
   {
    "duration": 47,
    "start_time": "2023-04-10T19:54:30.248Z"
   },
   {
    "duration": 1625,
    "start_time": "2023-04-10T19:54:35.148Z"
   },
   {
    "duration": 7,
    "start_time": "2023-04-10T19:54:36.775Z"
   },
   {
    "duration": 1576,
    "start_time": "2023-04-10T19:54:36.783Z"
   },
   {
    "duration": 33,
    "start_time": "2023-04-10T19:54:38.361Z"
   },
   {
    "duration": 146,
    "start_time": "2023-04-10T19:54:38.396Z"
   },
   {
    "duration": 28,
    "start_time": "2023-04-10T19:54:38.543Z"
   },
   {
    "duration": 609,
    "start_time": "2023-04-10T19:54:38.573Z"
   },
   {
    "duration": 30,
    "start_time": "2023-04-10T19:54:39.184Z"
   },
   {
    "duration": 448,
    "start_time": "2023-04-10T19:54:39.216Z"
   },
   {
    "duration": 221,
    "start_time": "2023-04-10T19:54:39.666Z"
   },
   {
    "duration": 440,
    "start_time": "2023-04-10T19:54:39.889Z"
   },
   {
    "duration": 4,
    "start_time": "2023-04-10T19:54:40.330Z"
   },
   {
    "duration": 7,
    "start_time": "2023-04-10T19:54:40.336Z"
   },
   {
    "duration": 21,
    "start_time": "2023-04-10T19:54:40.345Z"
   },
   {
    "duration": 11,
    "start_time": "2023-04-10T19:54:40.368Z"
   },
   {
    "duration": 5,
    "start_time": "2023-04-10T19:54:40.380Z"
   },
   {
    "duration": 86,
    "start_time": "2023-04-10T19:54:40.387Z"
   },
   {
    "duration": 12,
    "start_time": "2023-04-10T19:55:53.045Z"
   },
   {
    "duration": 9,
    "start_time": "2023-04-10T19:56:20.220Z"
   },
   {
    "duration": 15,
    "start_time": "2023-04-10T19:56:29.995Z"
   },
   {
    "duration": 10,
    "start_time": "2023-04-10T19:56:58.005Z"
   },
   {
    "duration": 14,
    "start_time": "2023-04-10T19:57:02.564Z"
   },
   {
    "duration": 15,
    "start_time": "2023-04-10T20:00:54.980Z"
   },
   {
    "duration": 3,
    "start_time": "2023-04-10T20:01:08.292Z"
   },
   {
    "duration": 13,
    "start_time": "2023-04-10T20:01:11.262Z"
   },
   {
    "duration": 4,
    "start_time": "2023-04-10T20:09:22.627Z"
   },
   {
    "duration": 19,
    "start_time": "2023-04-10T20:15:27.058Z"
   },
   {
    "duration": 20,
    "start_time": "2023-04-10T20:15:40.383Z"
   },
   {
    "duration": 14,
    "start_time": "2023-04-10T20:15:47.411Z"
   },
   {
    "duration": 6,
    "start_time": "2023-04-10T20:20:18.794Z"
   },
   {
    "duration": 18,
    "start_time": "2023-04-10T20:39:06.869Z"
   },
   {
    "duration": 17,
    "start_time": "2023-04-10T20:39:13.080Z"
   },
   {
    "duration": 1631,
    "start_time": "2023-04-11T05:54:48.517Z"
   },
   {
    "duration": 7,
    "start_time": "2023-04-11T05:54:50.150Z"
   },
   {
    "duration": 931,
    "start_time": "2023-04-11T05:54:50.159Z"
   },
   {
    "duration": 39,
    "start_time": "2023-04-11T05:54:51.093Z"
   },
   {
    "duration": 409,
    "start_time": "2023-04-11T05:54:51.134Z"
   },
   {
    "duration": 29,
    "start_time": "2023-04-11T05:54:51.545Z"
   },
   {
    "duration": 1840,
    "start_time": "2023-04-11T05:54:51.576Z"
   },
   {
    "duration": 30,
    "start_time": "2023-04-11T05:54:53.418Z"
   },
   {
    "duration": 462,
    "start_time": "2023-04-11T05:54:53.450Z"
   },
   {
    "duration": 228,
    "start_time": "2023-04-11T05:54:53.915Z"
   },
   {
    "duration": 465,
    "start_time": "2023-04-11T05:54:54.145Z"
   },
   {
    "duration": 4,
    "start_time": "2023-04-11T05:54:54.612Z"
   },
   {
    "duration": 27,
    "start_time": "2023-04-11T05:54:54.617Z"
   },
   {
    "duration": 29,
    "start_time": "2023-04-11T05:54:54.646Z"
   },
   {
    "duration": 11,
    "start_time": "2023-04-11T05:54:54.676Z"
   },
   {
    "duration": 23,
    "start_time": "2023-04-11T05:54:54.689Z"
   },
   {
    "duration": 31,
    "start_time": "2023-04-11T05:54:54.714Z"
   },
   {
    "duration": 38,
    "start_time": "2023-04-11T05:54:54.747Z"
   },
   {
    "duration": 9,
    "start_time": "2023-04-11T06:18:29.219Z"
   },
   {
    "duration": 7,
    "start_time": "2023-04-11T06:19:02.401Z"
   },
   {
    "duration": 15,
    "start_time": "2023-04-11T06:19:02.602Z"
   },
   {
    "duration": 23,
    "start_time": "2023-04-11T06:19:43.900Z"
   },
   {
    "duration": 18,
    "start_time": "2023-04-11T06:20:35.004Z"
   },
   {
    "duration": 20,
    "start_time": "2023-04-11T06:22:04.275Z"
   },
   {
    "duration": 15,
    "start_time": "2023-04-11T06:22:27.723Z"
   },
   {
    "duration": 8,
    "start_time": "2023-04-11T06:23:03.820Z"
   },
   {
    "duration": 19,
    "start_time": "2023-04-11T06:23:04.068Z"
   },
   {
    "duration": 500,
    "start_time": "2023-04-11T06:23:20.022Z"
   },
   {
    "duration": 143,
    "start_time": "2023-04-11T06:30:56.998Z"
   },
   {
    "duration": 98,
    "start_time": "2023-04-11T06:31:36.962Z"
   },
   {
    "duration": 15,
    "start_time": "2023-04-11T06:31:44.339Z"
   },
   {
    "duration": 39,
    "start_time": "2023-04-11T06:34:26.368Z"
   },
   {
    "duration": 15,
    "start_time": "2023-04-11T06:34:48.707Z"
   },
   {
    "duration": 15,
    "start_time": "2023-04-11T06:35:17.253Z"
   },
   {
    "duration": 1429,
    "start_time": "2023-04-11T06:35:47.435Z"
   },
   {
    "duration": 8,
    "start_time": "2023-04-11T06:35:48.866Z"
   },
   {
    "duration": 349,
    "start_time": "2023-04-11T06:35:48.875Z"
   },
   {
    "duration": 35,
    "start_time": "2023-04-11T06:35:49.227Z"
   },
   {
    "duration": 85,
    "start_time": "2023-04-11T06:35:49.264Z"
   },
   {
    "duration": 47,
    "start_time": "2023-04-11T06:35:49.351Z"
   },
   {
    "duration": 380,
    "start_time": "2023-04-11T06:35:49.399Z"
   },
   {
    "duration": 37,
    "start_time": "2023-04-11T06:35:49.780Z"
   },
   {
    "duration": 497,
    "start_time": "2023-04-11T06:35:49.819Z"
   },
   {
    "duration": 288,
    "start_time": "2023-04-11T06:35:50.319Z"
   },
   {
    "duration": 516,
    "start_time": "2023-04-11T06:35:50.609Z"
   },
   {
    "duration": 4,
    "start_time": "2023-04-11T06:35:51.127Z"
   },
   {
    "duration": 29,
    "start_time": "2023-04-11T06:35:51.132Z"
   },
   {
    "duration": 31,
    "start_time": "2023-04-11T06:35:51.162Z"
   },
   {
    "duration": 36,
    "start_time": "2023-04-11T06:35:51.195Z"
   },
   {
    "duration": 27,
    "start_time": "2023-04-11T06:35:51.232Z"
   },
   {
    "duration": 53,
    "start_time": "2023-04-11T06:35:51.261Z"
   },
   {
    "duration": 26,
    "start_time": "2023-04-11T06:35:51.315Z"
   },
   {
    "duration": 27,
    "start_time": "2023-04-11T06:35:51.343Z"
   },
   {
    "duration": 11,
    "start_time": "2023-04-11T06:35:51.372Z"
   },
   {
    "duration": 62,
    "start_time": "2023-04-11T06:35:51.385Z"
   },
   {
    "duration": 5,
    "start_time": "2023-04-11T06:35:51.450Z"
   },
   {
    "duration": 26,
    "start_time": "2023-04-11T06:35:51.457Z"
   },
   {
    "duration": 18,
    "start_time": "2023-04-11T06:40:04.827Z"
   },
   {
    "duration": 29,
    "start_time": "2023-04-11T06:42:38.175Z"
   },
   {
    "duration": 5,
    "start_time": "2023-04-11T06:43:04.907Z"
   },
   {
    "duration": 18,
    "start_time": "2023-04-11T06:43:30.363Z"
   },
   {
    "duration": 9,
    "start_time": "2023-04-11T06:44:36.383Z"
   },
   {
    "duration": 2315,
    "start_time": "2023-04-11T06:44:42.778Z"
   },
   {
    "duration": 11,
    "start_time": "2023-04-11T06:44:45.095Z"
   },
   {
    "duration": 334,
    "start_time": "2023-04-11T06:44:45.107Z"
   },
   {
    "duration": 35,
    "start_time": "2023-04-11T06:44:45.443Z"
   },
   {
    "duration": 93,
    "start_time": "2023-04-11T06:44:45.479Z"
   },
   {
    "duration": 33,
    "start_time": "2023-04-11T06:44:45.574Z"
   },
   {
    "duration": 12,
    "start_time": "2023-04-11T06:44:45.609Z"
   },
   {
    "duration": 392,
    "start_time": "2023-04-11T06:44:45.623Z"
   },
   {
    "duration": 31,
    "start_time": "2023-04-11T06:44:46.017Z"
   },
   {
    "duration": 498,
    "start_time": "2023-04-11T06:44:46.051Z"
   },
   {
    "duration": 246,
    "start_time": "2023-04-11T06:44:46.551Z"
   },
   {
    "duration": 493,
    "start_time": "2023-04-11T06:44:46.799Z"
   },
   {
    "duration": 6,
    "start_time": "2023-04-11T06:44:47.293Z"
   },
   {
    "duration": 11,
    "start_time": "2023-04-11T06:44:47.304Z"
   },
   {
    "duration": 18,
    "start_time": "2023-04-11T06:44:47.317Z"
   },
   {
    "duration": 7,
    "start_time": "2023-04-11T06:44:47.337Z"
   },
   {
    "duration": 7,
    "start_time": "2023-04-11T06:44:47.345Z"
   },
   {
    "duration": 9,
    "start_time": "2023-04-11T06:44:47.353Z"
   },
   {
    "duration": 19,
    "start_time": "2023-04-11T06:44:47.363Z"
   },
   {
    "duration": 21,
    "start_time": "2023-04-11T06:44:47.384Z"
   },
   {
    "duration": 9,
    "start_time": "2023-04-11T06:44:47.407Z"
   },
   {
    "duration": 30,
    "start_time": "2023-04-11T06:44:47.418Z"
   },
   {
    "duration": 42,
    "start_time": "2023-04-11T06:44:47.450Z"
   },
   {
    "duration": 21,
    "start_time": "2023-04-11T06:46:07.242Z"
   },
   {
    "duration": 20,
    "start_time": "2023-04-11T06:46:54.921Z"
   },
   {
    "duration": 1473,
    "start_time": "2023-04-11T06:47:03.012Z"
   },
   {
    "duration": 14,
    "start_time": "2023-04-11T06:47:04.487Z"
   },
   {
    "duration": 353,
    "start_time": "2023-04-11T06:47:04.505Z"
   },
   {
    "duration": 49,
    "start_time": "2023-04-11T06:47:04.860Z"
   },
   {
    "duration": 92,
    "start_time": "2023-04-11T06:47:04.911Z"
   },
   {
    "duration": 29,
    "start_time": "2023-04-11T06:47:05.005Z"
   },
   {
    "duration": 389,
    "start_time": "2023-04-11T06:47:05.036Z"
   },
   {
    "duration": 29,
    "start_time": "2023-04-11T06:47:05.427Z"
   },
   {
    "duration": 478,
    "start_time": "2023-04-11T06:47:05.458Z"
   },
   {
    "duration": 271,
    "start_time": "2023-04-11T06:47:05.938Z"
   },
   {
    "duration": 508,
    "start_time": "2023-04-11T06:47:06.210Z"
   },
   {
    "duration": 3,
    "start_time": "2023-04-11T06:47:06.720Z"
   },
   {
    "duration": 24,
    "start_time": "2023-04-11T06:47:06.725Z"
   },
   {
    "duration": 58,
    "start_time": "2023-04-11T06:47:06.751Z"
   },
   {
    "duration": 47,
    "start_time": "2023-04-11T06:47:06.812Z"
   },
   {
    "duration": 13,
    "start_time": "2023-04-11T06:47:06.862Z"
   },
   {
    "duration": 31,
    "start_time": "2023-04-11T06:47:06.877Z"
   },
   {
    "duration": 26,
    "start_time": "2023-04-11T06:47:06.910Z"
   },
   {
    "duration": 14,
    "start_time": "2023-04-11T06:47:06.937Z"
   },
   {
    "duration": 8,
    "start_time": "2023-04-11T06:47:06.952Z"
   },
   {
    "duration": 43,
    "start_time": "2023-04-11T06:47:06.962Z"
   },
   {
    "duration": 27,
    "start_time": "2023-04-11T06:47:07.007Z"
   },
   {
    "duration": 35,
    "start_time": "2023-04-11T06:47:12.670Z"
   },
   {
    "duration": 24,
    "start_time": "2023-04-11T06:47:26.681Z"
   },
   {
    "duration": 1363,
    "start_time": "2023-04-11T06:47:33.059Z"
   },
   {
    "duration": 7,
    "start_time": "2023-04-11T06:47:34.424Z"
   },
   {
    "duration": 320,
    "start_time": "2023-04-11T06:47:34.432Z"
   },
   {
    "duration": 51,
    "start_time": "2023-04-11T06:47:34.754Z"
   },
   {
    "duration": 84,
    "start_time": "2023-04-11T06:47:34.807Z"
   },
   {
    "duration": 30,
    "start_time": "2023-04-11T06:47:34.893Z"
   },
   {
    "duration": 405,
    "start_time": "2023-04-11T06:47:34.925Z"
   },
   {
    "duration": 32,
    "start_time": "2023-04-11T06:47:35.332Z"
   },
   {
    "duration": 471,
    "start_time": "2023-04-11T06:47:35.366Z"
   },
   {
    "duration": 261,
    "start_time": "2023-04-11T06:47:35.840Z"
   },
   {
    "duration": 503,
    "start_time": "2023-04-11T06:47:36.103Z"
   },
   {
    "duration": 4,
    "start_time": "2023-04-11T06:47:36.608Z"
   },
   {
    "duration": 8,
    "start_time": "2023-04-11T06:47:36.614Z"
   },
   {
    "duration": 9,
    "start_time": "2023-04-11T06:47:36.624Z"
   },
   {
    "duration": 6,
    "start_time": "2023-04-11T06:47:36.634Z"
   },
   {
    "duration": 6,
    "start_time": "2023-04-11T06:47:36.641Z"
   },
   {
    "duration": 6,
    "start_time": "2023-04-11T06:47:36.649Z"
   },
   {
    "duration": 47,
    "start_time": "2023-04-11T06:47:36.657Z"
   },
   {
    "duration": 15,
    "start_time": "2023-04-11T06:47:36.706Z"
   },
   {
    "duration": 8,
    "start_time": "2023-04-11T06:47:36.722Z"
   },
   {
    "duration": 22,
    "start_time": "2023-04-11T06:47:36.732Z"
   },
   {
    "duration": 64,
    "start_time": "2023-04-11T06:47:36.756Z"
   },
   {
    "duration": 1469,
    "start_time": "2023-04-11T06:48:23.980Z"
   },
   {
    "duration": 8,
    "start_time": "2023-04-11T06:48:25.451Z"
   },
   {
    "duration": 342,
    "start_time": "2023-04-11T06:48:25.460Z"
   },
   {
    "duration": 36,
    "start_time": "2023-04-11T06:48:25.804Z"
   },
   {
    "duration": 83,
    "start_time": "2023-04-11T06:48:25.842Z"
   },
   {
    "duration": 29,
    "start_time": "2023-04-11T06:48:25.926Z"
   },
   {
    "duration": 407,
    "start_time": "2023-04-11T06:48:25.957Z"
   },
   {
    "duration": 40,
    "start_time": "2023-04-11T06:48:26.366Z"
   },
   {
    "duration": 493,
    "start_time": "2023-04-11T06:48:26.407Z"
   },
   {
    "duration": 221,
    "start_time": "2023-04-11T06:48:26.907Z"
   },
   {
    "duration": 487,
    "start_time": "2023-04-11T06:48:27.130Z"
   },
   {
    "duration": 4,
    "start_time": "2023-04-11T06:48:27.619Z"
   },
   {
    "duration": 10,
    "start_time": "2023-04-11T06:48:27.624Z"
   },
   {
    "duration": 7,
    "start_time": "2023-04-11T06:48:27.636Z"
   },
   {
    "duration": 7,
    "start_time": "2023-04-11T06:48:27.645Z"
   },
   {
    "duration": 13,
    "start_time": "2023-04-11T06:48:27.654Z"
   },
   {
    "duration": 6,
    "start_time": "2023-04-11T06:48:27.669Z"
   },
   {
    "duration": 29,
    "start_time": "2023-04-11T06:48:27.677Z"
   },
   {
    "duration": 19,
    "start_time": "2023-04-11T06:48:27.708Z"
   },
   {
    "duration": 8,
    "start_time": "2023-04-11T06:48:27.729Z"
   },
   {
    "duration": 58,
    "start_time": "2023-04-11T06:48:27.739Z"
   },
   {
    "duration": 16,
    "start_time": "2023-04-11T06:48:27.799Z"
   },
   {
    "duration": 1517,
    "start_time": "2023-04-11T11:16:27.657Z"
   },
   {
    "duration": 9,
    "start_time": "2023-04-11T11:16:29.177Z"
   },
   {
    "duration": 1319,
    "start_time": "2023-04-11T11:16:29.187Z"
   },
   {
    "duration": 36,
    "start_time": "2023-04-11T11:16:30.509Z"
   },
   {
    "duration": 144,
    "start_time": "2023-04-11T11:16:30.547Z"
   },
   {
    "duration": 32,
    "start_time": "2023-04-11T11:16:30.693Z"
   },
   {
    "duration": 571,
    "start_time": "2023-04-11T11:16:30.728Z"
   },
   {
    "duration": 48,
    "start_time": "2023-04-11T11:16:31.301Z"
   },
   {
    "duration": 445,
    "start_time": "2023-04-11T11:16:31.351Z"
   },
   {
    "duration": 209,
    "start_time": "2023-04-11T11:16:31.799Z"
   },
   {
    "duration": 430,
    "start_time": "2023-04-11T11:16:32.009Z"
   },
   {
    "duration": 3,
    "start_time": "2023-04-11T11:16:32.440Z"
   },
   {
    "duration": 7,
    "start_time": "2023-04-11T11:16:32.445Z"
   },
   {
    "duration": 10,
    "start_time": "2023-04-11T11:16:32.453Z"
   },
   {
    "duration": 8,
    "start_time": "2023-04-11T11:16:32.464Z"
   },
   {
    "duration": 4,
    "start_time": "2023-04-11T11:16:32.493Z"
   },
   {
    "duration": 5,
    "start_time": "2023-04-11T11:16:32.498Z"
   },
   {
    "duration": 15,
    "start_time": "2023-04-11T11:16:32.504Z"
   },
   {
    "duration": 12,
    "start_time": "2023-04-11T11:16:32.520Z"
   },
   {
    "duration": 14,
    "start_time": "2023-04-11T11:16:32.533Z"
   },
   {
    "duration": 46,
    "start_time": "2023-04-11T11:16:32.549Z"
   },
   {
    "duration": 13,
    "start_time": "2023-04-11T11:16:32.596Z"
   },
   {
    "duration": 105,
    "start_time": "2023-04-11T11:54:03.437Z"
   },
   {
    "duration": 12,
    "start_time": "2023-04-11T11:54:20.749Z"
   },
   {
    "duration": 16,
    "start_time": "2023-04-11T11:56:44.317Z"
   },
   {
    "duration": 145,
    "start_time": "2023-04-11T11:57:09.866Z"
   },
   {
    "duration": 868,
    "start_time": "2023-04-11T11:57:13.651Z"
   },
   {
    "duration": 899,
    "start_time": "2023-04-11T11:59:58.690Z"
   },
   {
    "duration": 753,
    "start_time": "2023-04-11T12:00:17.572Z"
   },
   {
    "duration": 952,
    "start_time": "2023-04-11T12:00:33.398Z"
   },
   {
    "duration": 874,
    "start_time": "2023-04-11T12:00:44.141Z"
   },
   {
    "duration": 912,
    "start_time": "2023-04-11T12:00:52.761Z"
   },
   {
    "duration": 821,
    "start_time": "2023-04-11T12:01:28.654Z"
   },
   {
    "duration": 1988,
    "start_time": "2023-04-11T12:01:59.857Z"
   },
   {
    "duration": 812,
    "start_time": "2023-04-11T12:02:16.190Z"
   },
   {
    "duration": 1004,
    "start_time": "2023-04-11T12:03:22.090Z"
   },
   {
    "duration": 1098,
    "start_time": "2023-04-11T12:03:28.094Z"
   },
   {
    "duration": 787,
    "start_time": "2023-04-11T12:06:17.738Z"
   },
   {
    "duration": 865,
    "start_time": "2023-04-11T12:07:05.604Z"
   },
   {
    "duration": 718,
    "start_time": "2023-04-11T12:07:10.677Z"
   },
   {
    "duration": 907,
    "start_time": "2023-04-11T12:08:41.799Z"
   },
   {
    "duration": 809,
    "start_time": "2023-04-11T12:09:55.499Z"
   },
   {
    "duration": 167,
    "start_time": "2023-04-11T12:10:36.279Z"
   },
   {
    "duration": 176,
    "start_time": "2023-04-11T12:10:49.300Z"
   },
   {
    "duration": 289,
    "start_time": "2023-04-11T12:13:03.239Z"
   },
   {
    "duration": 842,
    "start_time": "2023-04-11T12:15:54.528Z"
   },
   {
    "duration": 932,
    "start_time": "2023-04-11T12:17:00.811Z"
   },
   {
    "duration": 854,
    "start_time": "2023-04-11T12:17:31.349Z"
   },
   {
    "duration": 938,
    "start_time": "2023-04-11T12:19:08.276Z"
   },
   {
    "duration": 766,
    "start_time": "2023-04-11T12:20:31.514Z"
   },
   {
    "duration": 376,
    "start_time": "2023-04-11T12:20:48.291Z"
   },
   {
    "duration": 959,
    "start_time": "2023-04-11T12:20:54.210Z"
   },
   {
    "duration": 844,
    "start_time": "2023-04-11T12:21:21.855Z"
   },
   {
    "duration": 777,
    "start_time": "2023-04-11T12:21:40.230Z"
   },
   {
    "duration": 944,
    "start_time": "2023-04-11T12:22:03.293Z"
   },
   {
    "duration": 756,
    "start_time": "2023-04-11T12:22:26.967Z"
   },
   {
    "duration": 1729,
    "start_time": "2023-04-12T05:49:29.963Z"
   },
   {
    "duration": 7,
    "start_time": "2023-04-12T05:49:31.694Z"
   },
   {
    "duration": 857,
    "start_time": "2023-04-12T05:49:31.703Z"
   },
   {
    "duration": 35,
    "start_time": "2023-04-12T05:49:32.562Z"
   },
   {
    "duration": 427,
    "start_time": "2023-04-12T05:49:32.598Z"
   },
   {
    "duration": 28,
    "start_time": "2023-04-12T05:49:33.027Z"
   },
   {
    "duration": 1846,
    "start_time": "2023-04-12T05:49:33.057Z"
   },
   {
    "duration": 39,
    "start_time": "2023-04-12T05:49:34.905Z"
   },
   {
    "duration": 522,
    "start_time": "2023-04-12T05:49:34.946Z"
   },
   {
    "duration": 235,
    "start_time": "2023-04-12T05:49:35.471Z"
   },
   {
    "duration": 487,
    "start_time": "2023-04-12T05:49:35.708Z"
   },
   {
    "duration": 4,
    "start_time": "2023-04-12T05:49:36.197Z"
   },
   {
    "duration": 9,
    "start_time": "2023-04-12T05:49:36.203Z"
   },
   {
    "duration": 22,
    "start_time": "2023-04-12T05:49:36.213Z"
   },
   {
    "duration": 13,
    "start_time": "2023-04-12T05:49:36.237Z"
   },
   {
    "duration": 20,
    "start_time": "2023-04-12T05:49:36.251Z"
   },
   {
    "duration": 10,
    "start_time": "2023-04-12T05:49:36.273Z"
   },
   {
    "duration": 24,
    "start_time": "2023-04-12T05:49:36.285Z"
   },
   {
    "duration": 26,
    "start_time": "2023-04-12T05:49:36.310Z"
   },
   {
    "duration": 11,
    "start_time": "2023-04-12T05:49:36.338Z"
   },
   {
    "duration": 26,
    "start_time": "2023-04-12T05:49:36.351Z"
   },
   {
    "duration": 19,
    "start_time": "2023-04-12T05:49:36.379Z"
   },
   {
    "duration": 1082,
    "start_time": "2023-04-12T05:49:36.399Z"
   },
   {
    "duration": 807,
    "start_time": "2023-04-12T06:01:39.031Z"
   },
   {
    "duration": 6,
    "start_time": "2023-04-12T06:03:26.643Z"
   },
   {
    "duration": 11,
    "start_time": "2023-04-12T06:03:26.651Z"
   },
   {
    "duration": 332,
    "start_time": "2023-04-12T06:03:26.664Z"
   },
   {
    "duration": 37,
    "start_time": "2023-04-12T06:03:26.997Z"
   },
   {
    "duration": 76,
    "start_time": "2023-04-12T06:03:27.036Z"
   },
   {
    "duration": 38,
    "start_time": "2023-04-12T06:03:27.114Z"
   },
   {
    "duration": 340,
    "start_time": "2023-04-12T06:03:27.153Z"
   },
   {
    "duration": 31,
    "start_time": "2023-04-12T06:03:27.494Z"
   },
   {
    "duration": 455,
    "start_time": "2023-04-12T06:03:27.534Z"
   },
   {
    "duration": 222,
    "start_time": "2023-04-12T06:03:27.992Z"
   },
   {
    "duration": 484,
    "start_time": "2023-04-12T06:03:28.216Z"
   },
   {
    "duration": 4,
    "start_time": "2023-04-12T06:03:28.702Z"
   },
   {
    "duration": 6,
    "start_time": "2023-04-12T06:03:28.733Z"
   },
   {
    "duration": 17,
    "start_time": "2023-04-12T06:03:28.741Z"
   },
   {
    "duration": 16,
    "start_time": "2023-04-12T06:03:28.759Z"
   },
   {
    "duration": 14,
    "start_time": "2023-04-12T06:03:28.777Z"
   },
   {
    "duration": 14,
    "start_time": "2023-04-12T06:03:28.793Z"
   },
   {
    "duration": 20,
    "start_time": "2023-04-12T06:03:28.808Z"
   },
   {
    "duration": 13,
    "start_time": "2023-04-12T06:03:28.830Z"
   },
   {
    "duration": 8,
    "start_time": "2023-04-12T06:03:28.844Z"
   },
   {
    "duration": 34,
    "start_time": "2023-04-12T06:03:28.853Z"
   },
   {
    "duration": 17,
    "start_time": "2023-04-12T06:03:28.890Z"
   },
   {
    "duration": 1062,
    "start_time": "2023-04-12T06:03:28.909Z"
   },
   {
    "duration": 1068,
    "start_time": "2023-04-12T06:03:36.130Z"
   },
   {
    "duration": 906,
    "start_time": "2023-04-12T06:04:23.634Z"
   },
   {
    "duration": 656,
    "start_time": "2023-04-12T06:06:58.886Z"
   },
   {
    "duration": 803,
    "start_time": "2023-04-12T06:07:14.270Z"
   },
   {
    "duration": 731,
    "start_time": "2023-04-12T06:07:33.250Z"
   },
   {
    "duration": 889,
    "start_time": "2023-04-12T06:08:49.409Z"
   },
   {
    "duration": 583,
    "start_time": "2023-04-12T06:09:02.372Z"
   },
   {
    "duration": 692,
    "start_time": "2023-04-12T06:09:11.619Z"
   },
   {
    "duration": 4,
    "start_time": "2023-04-12T06:19:40.868Z"
   },
   {
    "duration": 1068,
    "start_time": "2023-04-12T06:48:29.985Z"
   },
   {
    "duration": 910,
    "start_time": "2023-04-12T06:48:51.568Z"
   },
   {
    "duration": 229,
    "start_time": "2023-04-12T06:49:36.194Z"
   },
   {
    "duration": 346,
    "start_time": "2023-04-12T06:49:44.591Z"
   },
   {
    "duration": 215,
    "start_time": "2023-04-12T06:50:14.610Z"
   },
   {
    "duration": 240,
    "start_time": "2023-04-12T06:51:18.983Z"
   },
   {
    "duration": 240,
    "start_time": "2023-04-12T06:51:31.052Z"
   },
   {
    "duration": 314,
    "start_time": "2023-04-12T06:52:31.333Z"
   },
   {
    "duration": 339,
    "start_time": "2023-04-12T06:52:48.814Z"
   },
   {
    "duration": 328,
    "start_time": "2023-04-12T06:54:05.486Z"
   },
   {
    "duration": 307,
    "start_time": "2023-04-12T06:54:49.340Z"
   },
   {
    "duration": 201,
    "start_time": "2023-04-12T06:56:48.537Z"
   },
   {
    "duration": 265,
    "start_time": "2023-04-12T06:57:05.607Z"
   },
   {
    "duration": 194,
    "start_time": "2023-04-12T06:57:13.333Z"
   },
   {
    "duration": 306,
    "start_time": "2023-04-12T06:59:22.005Z"
   },
   {
    "duration": 225,
    "start_time": "2023-04-12T06:59:58.489Z"
   },
   {
    "duration": 222,
    "start_time": "2023-04-12T07:00:04.197Z"
   },
   {
    "duration": 192,
    "start_time": "2023-04-12T07:01:32.316Z"
   },
   {
    "duration": 938,
    "start_time": "2023-04-12T07:01:47.726Z"
   },
   {
    "duration": 1123,
    "start_time": "2023-04-12T07:02:07.649Z"
   },
   {
    "duration": 1140,
    "start_time": "2023-04-12T07:02:17.462Z"
   },
   {
    "duration": 1001,
    "start_time": "2023-04-12T07:03:43.493Z"
   },
   {
    "duration": 813,
    "start_time": "2023-04-12T07:04:14.767Z"
   },
   {
    "duration": 620,
    "start_time": "2023-04-12T07:04:25.243Z"
   },
   {
    "duration": 669,
    "start_time": "2023-04-12T07:04:32.984Z"
   },
   {
    "duration": 1177,
    "start_time": "2023-04-12T07:04:50.882Z"
   },
   {
    "duration": 13,
    "start_time": "2023-04-12T07:13:59.890Z"
   },
   {
    "duration": 5,
    "start_time": "2023-04-12T07:14:02.940Z"
   },
   {
    "duration": 5,
    "start_time": "2023-04-12T07:16:39.707Z"
   },
   {
    "duration": 2666,
    "start_time": "2023-04-12T07:18:11.107Z"
   },
   {
    "duration": 4438,
    "start_time": "2023-04-12T07:18:26.466Z"
   },
   {
    "duration": 4,
    "start_time": "2023-04-12T07:18:49.849Z"
   },
   {
    "duration": 5,
    "start_time": "2023-04-12T07:20:05.511Z"
   },
   {
    "duration": 5,
    "start_time": "2023-04-12T07:21:07.697Z"
   },
   {
    "duration": 1398,
    "start_time": "2023-04-12T07:22:57.557Z"
   },
   {
    "duration": 1348,
    "start_time": "2023-04-12T07:23:30.412Z"
   },
   {
    "duration": 1236,
    "start_time": "2023-04-12T07:25:02.205Z"
   },
   {
    "duration": 1121,
    "start_time": "2023-04-12T07:25:50.297Z"
   },
   {
    "duration": 1362,
    "start_time": "2023-04-12T07:25:57.327Z"
   },
   {
    "duration": 1319,
    "start_time": "2023-04-12T07:26:52.279Z"
   },
   {
    "duration": 1466,
    "start_time": "2023-04-12T07:27:15.380Z"
   },
   {
    "duration": 1242,
    "start_time": "2023-04-12T07:27:38.808Z"
   },
   {
    "duration": 1538,
    "start_time": "2023-04-12T07:28:11.746Z"
   },
   {
    "duration": 1484,
    "start_time": "2023-04-12T07:28:28.427Z"
   },
   {
    "duration": 1212,
    "start_time": "2023-04-12T07:29:01.165Z"
   },
   {
    "duration": 1361,
    "start_time": "2023-04-12T07:29:38.568Z"
   },
   {
    "duration": 13,
    "start_time": "2023-04-12T07:37:44.576Z"
   },
   {
    "duration": 130,
    "start_time": "2023-04-12T07:37:57.428Z"
   },
   {
    "duration": 5,
    "start_time": "2023-04-12T07:38:10.861Z"
   },
   {
    "duration": 11,
    "start_time": "2023-04-12T07:39:40.562Z"
   },
   {
    "duration": 74,
    "start_time": "2023-04-12T07:39:54.233Z"
   },
   {
    "duration": 39,
    "start_time": "2023-04-12T07:40:27.042Z"
   },
   {
    "duration": 53,
    "start_time": "2023-04-12T07:40:59.887Z"
   },
   {
    "duration": 53,
    "start_time": "2023-04-12T10:45:46.528Z"
   },
   {
    "duration": 1743,
    "start_time": "2023-04-12T10:45:53.684Z"
   },
   {
    "duration": 8,
    "start_time": "2023-04-12T10:45:55.430Z"
   },
   {
    "duration": 1342,
    "start_time": "2023-04-12T10:45:58.827Z"
   },
   {
    "duration": 36,
    "start_time": "2023-04-12T10:46:00.171Z"
   },
   {
    "duration": 272,
    "start_time": "2023-04-12T11:39:46.175Z"
   },
   {
    "duration": 34,
    "start_time": "2023-04-12T11:39:46.597Z"
   },
   {
    "duration": 149,
    "start_time": "2023-04-12T11:39:56.761Z"
   },
   {
    "duration": 28,
    "start_time": "2023-04-12T11:39:57.017Z"
   },
   {
    "duration": 534,
    "start_time": "2023-04-12T11:40:07.465Z"
   },
   {
    "duration": 31,
    "start_time": "2023-04-12T11:40:08.296Z"
   },
   {
    "duration": 4,
    "start_time": "2023-04-12T11:40:12.393Z"
   },
   {
    "duration": 7,
    "start_time": "2023-04-12T11:40:12.402Z"
   },
   {
    "duration": 290,
    "start_time": "2023-04-12T11:40:12.410Z"
   },
   {
    "duration": 34,
    "start_time": "2023-04-12T11:40:12.703Z"
   },
   {
    "duration": 82,
    "start_time": "2023-04-12T11:40:12.738Z"
   },
   {
    "duration": 32,
    "start_time": "2023-04-12T11:40:12.822Z"
   },
   {
    "duration": 380,
    "start_time": "2023-04-12T11:40:12.856Z"
   },
   {
    "duration": 34,
    "start_time": "2023-04-12T11:40:13.238Z"
   },
   {
    "duration": 509,
    "start_time": "2023-04-12T11:40:13.273Z"
   },
   {
    "duration": 0,
    "start_time": "2023-04-12T11:40:13.785Z"
   },
   {
    "duration": 0,
    "start_time": "2023-04-12T11:40:13.786Z"
   },
   {
    "duration": 0,
    "start_time": "2023-04-12T11:40:13.787Z"
   },
   {
    "duration": 0,
    "start_time": "2023-04-12T11:40:13.788Z"
   },
   {
    "duration": 0,
    "start_time": "2023-04-12T11:40:13.789Z"
   },
   {
    "duration": 0,
    "start_time": "2023-04-12T11:40:13.791Z"
   },
   {
    "duration": 0,
    "start_time": "2023-04-12T11:40:13.792Z"
   },
   {
    "duration": 0,
    "start_time": "2023-04-12T11:40:13.812Z"
   },
   {
    "duration": 0,
    "start_time": "2023-04-12T11:40:13.813Z"
   },
   {
    "duration": 0,
    "start_time": "2023-04-12T11:40:13.814Z"
   },
   {
    "duration": 0,
    "start_time": "2023-04-12T11:40:13.816Z"
   },
   {
    "duration": 0,
    "start_time": "2023-04-12T11:40:13.817Z"
   },
   {
    "duration": 0,
    "start_time": "2023-04-12T11:40:13.818Z"
   },
   {
    "duration": 0,
    "start_time": "2023-04-12T11:40:13.819Z"
   },
   {
    "duration": 0,
    "start_time": "2023-04-12T11:40:13.821Z"
   },
   {
    "duration": 0,
    "start_time": "2023-04-12T11:40:13.823Z"
   },
   {
    "duration": 0,
    "start_time": "2023-04-12T11:40:13.824Z"
   },
   {
    "duration": 0,
    "start_time": "2023-04-12T11:40:13.826Z"
   },
   {
    "duration": 0,
    "start_time": "2023-04-12T11:40:13.828Z"
   },
   {
    "duration": 0,
    "start_time": "2023-04-12T11:40:13.829Z"
   },
   {
    "duration": 0,
    "start_time": "2023-04-12T11:40:13.830Z"
   },
   {
    "duration": 0,
    "start_time": "2023-04-12T11:40:13.832Z"
   },
   {
    "duration": 0,
    "start_time": "2023-04-12T11:40:13.834Z"
   },
   {
    "duration": 0,
    "start_time": "2023-04-12T11:40:13.835Z"
   },
   {
    "duration": 1436,
    "start_time": "2023-04-12T11:40:46.142Z"
   },
   {
    "duration": 8,
    "start_time": "2023-04-12T11:40:47.581Z"
   },
   {
    "duration": 275,
    "start_time": "2023-04-12T11:40:47.591Z"
   },
   {
    "duration": 44,
    "start_time": "2023-04-12T11:40:47.869Z"
   },
   {
    "duration": 72,
    "start_time": "2023-04-12T11:40:47.915Z"
   },
   {
    "duration": 35,
    "start_time": "2023-04-12T11:40:47.989Z"
   },
   {
    "duration": 338,
    "start_time": "2023-04-12T11:40:48.025Z"
   },
   {
    "duration": 31,
    "start_time": "2023-04-12T11:40:48.365Z"
   },
   {
    "duration": 516,
    "start_time": "2023-04-12T11:40:48.411Z"
   },
   {
    "duration": 0,
    "start_time": "2023-04-12T11:40:48.929Z"
   },
   {
    "duration": 0,
    "start_time": "2023-04-12T11:40:48.930Z"
   },
   {
    "duration": 0,
    "start_time": "2023-04-12T11:40:48.931Z"
   },
   {
    "duration": 0,
    "start_time": "2023-04-12T11:40:48.932Z"
   },
   {
    "duration": 0,
    "start_time": "2023-04-12T11:40:48.933Z"
   },
   {
    "duration": 0,
    "start_time": "2023-04-12T11:40:48.935Z"
   },
   {
    "duration": 0,
    "start_time": "2023-04-12T11:40:48.936Z"
   },
   {
    "duration": 0,
    "start_time": "2023-04-12T11:40:48.937Z"
   },
   {
    "duration": 0,
    "start_time": "2023-04-12T11:40:48.938Z"
   },
   {
    "duration": 0,
    "start_time": "2023-04-12T11:40:48.939Z"
   },
   {
    "duration": 0,
    "start_time": "2023-04-12T11:40:48.940Z"
   },
   {
    "duration": 0,
    "start_time": "2023-04-12T11:40:48.942Z"
   },
   {
    "duration": 0,
    "start_time": "2023-04-12T11:40:48.943Z"
   },
   {
    "duration": 0,
    "start_time": "2023-04-12T11:40:48.944Z"
   },
   {
    "duration": 0,
    "start_time": "2023-04-12T11:40:48.945Z"
   },
   {
    "duration": 0,
    "start_time": "2023-04-12T11:40:48.946Z"
   },
   {
    "duration": 0,
    "start_time": "2023-04-12T11:40:48.947Z"
   },
   {
    "duration": 0,
    "start_time": "2023-04-12T11:40:48.948Z"
   },
   {
    "duration": 0,
    "start_time": "2023-04-12T11:40:48.949Z"
   },
   {
    "duration": 0,
    "start_time": "2023-04-12T11:40:48.950Z"
   },
   {
    "duration": 0,
    "start_time": "2023-04-12T11:40:48.951Z"
   },
   {
    "duration": 0,
    "start_time": "2023-04-12T11:40:48.952Z"
   },
   {
    "duration": 0,
    "start_time": "2023-04-12T11:40:48.953Z"
   },
   {
    "duration": 0,
    "start_time": "2023-04-12T11:40:48.954Z"
   },
   {
    "duration": 188,
    "start_time": "2023-04-12T11:41:22.132Z"
   },
   {
    "duration": 404,
    "start_time": "2023-04-12T11:41:24.324Z"
   },
   {
    "duration": 4,
    "start_time": "2023-04-12T11:41:28.105Z"
   },
   {
    "duration": 5,
    "start_time": "2023-04-12T11:41:28.141Z"
   },
   {
    "duration": 8,
    "start_time": "2023-04-12T11:41:28.368Z"
   },
   {
    "duration": 5,
    "start_time": "2023-04-12T11:41:29.138Z"
   },
   {
    "duration": 3,
    "start_time": "2023-04-12T11:41:29.723Z"
   },
   {
    "duration": 3,
    "start_time": "2023-04-12T11:41:32.178Z"
   },
   {
    "duration": 15,
    "start_time": "2023-04-12T11:41:32.381Z"
   },
   {
    "duration": 12,
    "start_time": "2023-04-12T11:41:33.264Z"
   },
   {
    "duration": 6,
    "start_time": "2023-04-12T11:41:33.475Z"
   },
   {
    "duration": 17,
    "start_time": "2023-04-12T11:41:33.700Z"
   },
   {
    "duration": 15,
    "start_time": "2023-04-12T11:41:34.111Z"
   },
   {
    "duration": 16,
    "start_time": "2023-04-12T11:45:49.599Z"
   },
   {
    "duration": 16,
    "start_time": "2023-04-12T11:47:10.662Z"
   },
   {
    "duration": 70,
    "start_time": "2023-04-12T11:47:58.516Z"
   },
   {
    "duration": 74,
    "start_time": "2023-04-12T11:48:03.446Z"
   },
   {
    "duration": 68,
    "start_time": "2023-04-12T11:48:09.256Z"
   },
   {
    "duration": 17,
    "start_time": "2023-04-12T11:48:13.804Z"
   },
   {
    "duration": 22,
    "start_time": "2023-04-12T11:50:12.753Z"
   },
   {
    "duration": 15,
    "start_time": "2023-04-12T11:50:22.024Z"
   },
   {
    "duration": 1523,
    "start_time": "2023-04-12T11:50:34.435Z"
   },
   {
    "duration": 7,
    "start_time": "2023-04-12T11:50:35.961Z"
   },
   {
    "duration": 312,
    "start_time": "2023-04-12T11:50:35.970Z"
   },
   {
    "duration": 49,
    "start_time": "2023-04-12T11:50:36.284Z"
   },
   {
    "duration": 73,
    "start_time": "2023-04-12T11:50:36.335Z"
   },
   {
    "duration": 37,
    "start_time": "2023-04-12T11:50:36.410Z"
   },
   {
    "duration": 353,
    "start_time": "2023-04-12T11:50:36.449Z"
   },
   {
    "duration": 46,
    "start_time": "2023-04-12T11:50:36.804Z"
   },
   {
    "duration": 556,
    "start_time": "2023-04-12T11:50:36.852Z"
   },
   {
    "duration": 0,
    "start_time": "2023-04-12T11:50:37.415Z"
   },
   {
    "duration": 0,
    "start_time": "2023-04-12T11:50:37.416Z"
   },
   {
    "duration": 0,
    "start_time": "2023-04-12T11:50:37.417Z"
   },
   {
    "duration": 0,
    "start_time": "2023-04-12T11:50:37.417Z"
   },
   {
    "duration": 0,
    "start_time": "2023-04-12T11:50:37.418Z"
   },
   {
    "duration": 0,
    "start_time": "2023-04-12T11:50:37.419Z"
   },
   {
    "duration": 0,
    "start_time": "2023-04-12T11:50:37.419Z"
   },
   {
    "duration": 0,
    "start_time": "2023-04-12T11:50:37.420Z"
   },
   {
    "duration": 0,
    "start_time": "2023-04-12T11:50:37.421Z"
   },
   {
    "duration": 0,
    "start_time": "2023-04-12T11:50:37.422Z"
   },
   {
    "duration": 0,
    "start_time": "2023-04-12T11:50:37.422Z"
   },
   {
    "duration": 0,
    "start_time": "2023-04-12T11:50:37.423Z"
   },
   {
    "duration": 0,
    "start_time": "2023-04-12T11:50:37.424Z"
   },
   {
    "duration": 0,
    "start_time": "2023-04-12T11:50:37.427Z"
   },
   {
    "duration": 0,
    "start_time": "2023-04-12T11:50:37.428Z"
   },
   {
    "duration": 0,
    "start_time": "2023-04-12T11:50:37.430Z"
   },
   {
    "duration": 0,
    "start_time": "2023-04-12T11:50:37.431Z"
   },
   {
    "duration": 0,
    "start_time": "2023-04-12T11:50:37.432Z"
   },
   {
    "duration": 0,
    "start_time": "2023-04-12T11:50:37.433Z"
   },
   {
    "duration": 0,
    "start_time": "2023-04-12T11:50:37.434Z"
   },
   {
    "duration": 0,
    "start_time": "2023-04-12T11:50:37.436Z"
   },
   {
    "duration": 0,
    "start_time": "2023-04-12T11:50:37.437Z"
   },
   {
    "duration": 0,
    "start_time": "2023-04-12T11:50:37.438Z"
   },
   {
    "duration": 0,
    "start_time": "2023-04-12T11:50:37.439Z"
   },
   {
    "duration": 420,
    "start_time": "2023-04-12T11:50:57.223Z"
   },
   {
    "duration": 0,
    "start_time": "2023-04-12T11:50:57.645Z"
   },
   {
    "duration": 422,
    "start_time": "2023-04-12T11:50:58.227Z"
   },
   {
    "duration": 205,
    "start_time": "2023-04-12T11:51:00.325Z"
   },
   {
    "duration": 412,
    "start_time": "2023-04-12T11:51:03.742Z"
   },
   {
    "duration": 6,
    "start_time": "2023-04-12T11:51:05.514Z"
   },
   {
    "duration": 3,
    "start_time": "2023-04-12T11:51:09.945Z"
   },
   {
    "duration": 6,
    "start_time": "2023-04-12T11:51:10.225Z"
   },
   {
    "duration": 8,
    "start_time": "2023-04-12T11:51:10.681Z"
   },
   {
    "duration": 4,
    "start_time": "2023-04-12T11:51:11.426Z"
   },
   {
    "duration": 4,
    "start_time": "2023-04-12T11:51:11.941Z"
   },
   {
    "duration": 4,
    "start_time": "2023-04-12T11:51:13.821Z"
   },
   {
    "duration": 13,
    "start_time": "2023-04-12T11:51:15.591Z"
   },
   {
    "duration": 12,
    "start_time": "2023-04-12T11:51:17.524Z"
   },
   {
    "duration": 7,
    "start_time": "2023-04-12T11:51:17.961Z"
   },
   {
    "duration": 19,
    "start_time": "2023-04-12T11:51:18.531Z"
   },
   {
    "duration": 21,
    "start_time": "2023-04-12T11:51:19.377Z"
   },
   {
    "duration": 1031,
    "start_time": "2023-04-12T11:51:21.568Z"
   },
   {
    "duration": 766,
    "start_time": "2023-04-12T11:51:22.601Z"
   },
   {
    "duration": 834,
    "start_time": "2023-04-12T11:51:23.369Z"
   },
   {
    "duration": 927,
    "start_time": "2023-04-12T11:51:24.206Z"
   },
   {
    "duration": 792,
    "start_time": "2023-04-12T11:51:25.136Z"
   },
   {
    "duration": 6,
    "start_time": "2023-04-12T11:51:25.935Z"
   },
   {
    "duration": 12,
    "start_time": "2023-04-12T11:51:25.943Z"
   },
   {
    "duration": 7,
    "start_time": "2023-04-12T11:51:25.957Z"
   },
   {
    "duration": 7,
    "start_time": "2023-04-12T11:51:25.966Z"
   },
   {
    "duration": 1188,
    "start_time": "2023-04-12T11:51:25.974Z"
   },
   {
    "duration": 62,
    "start_time": "2023-04-12T11:51:27.165Z"
   },
   {
    "duration": 1714,
    "start_time": "2023-04-12T18:08:56.039Z"
   },
   {
    "duration": 7,
    "start_time": "2023-04-12T18:08:57.755Z"
   },
   {
    "duration": 878,
    "start_time": "2023-04-12T18:08:57.763Z"
   },
   {
    "duration": 35,
    "start_time": "2023-04-12T18:08:58.643Z"
   },
   {
    "duration": 421,
    "start_time": "2023-04-12T18:08:58.681Z"
   },
   {
    "duration": 28,
    "start_time": "2023-04-12T18:08:59.104Z"
   },
   {
    "duration": 1881,
    "start_time": "2023-04-12T18:08:59.134Z"
   },
   {
    "duration": 40,
    "start_time": "2023-04-12T18:09:01.017Z"
   },
   {
    "duration": 590,
    "start_time": "2023-04-12T18:09:01.059Z"
   },
   {
    "duration": 0,
    "start_time": "2023-04-12T18:09:01.652Z"
   },
   {
    "duration": 1,
    "start_time": "2023-04-12T18:09:01.653Z"
   },
   {
    "duration": 0,
    "start_time": "2023-04-12T18:09:01.655Z"
   },
   {
    "duration": 0,
    "start_time": "2023-04-12T18:09:01.656Z"
   },
   {
    "duration": 0,
    "start_time": "2023-04-12T18:09:01.657Z"
   },
   {
    "duration": 0,
    "start_time": "2023-04-12T18:09:01.658Z"
   },
   {
    "duration": 0,
    "start_time": "2023-04-12T18:09:01.659Z"
   },
   {
    "duration": 0,
    "start_time": "2023-04-12T18:09:01.660Z"
   },
   {
    "duration": 0,
    "start_time": "2023-04-12T18:09:01.661Z"
   },
   {
    "duration": 0,
    "start_time": "2023-04-12T18:09:01.663Z"
   },
   {
    "duration": 0,
    "start_time": "2023-04-12T18:09:01.664Z"
   },
   {
    "duration": 0,
    "start_time": "2023-04-12T18:09:01.665Z"
   },
   {
    "duration": 0,
    "start_time": "2023-04-12T18:09:01.666Z"
   },
   {
    "duration": 0,
    "start_time": "2023-04-12T18:09:01.668Z"
   },
   {
    "duration": 0,
    "start_time": "2023-04-12T18:09:01.688Z"
   },
   {
    "duration": 0,
    "start_time": "2023-04-12T18:09:01.689Z"
   },
   {
    "duration": 0,
    "start_time": "2023-04-12T18:09:01.691Z"
   },
   {
    "duration": 0,
    "start_time": "2023-04-12T18:09:01.692Z"
   },
   {
    "duration": 0,
    "start_time": "2023-04-12T18:09:01.694Z"
   },
   {
    "duration": 0,
    "start_time": "2023-04-12T18:09:01.695Z"
   },
   {
    "duration": 0,
    "start_time": "2023-04-12T18:09:01.697Z"
   },
   {
    "duration": 0,
    "start_time": "2023-04-12T18:09:01.698Z"
   },
   {
    "duration": 0,
    "start_time": "2023-04-12T18:09:01.700Z"
   },
   {
    "duration": 0,
    "start_time": "2023-04-12T18:09:01.700Z"
   },
   {
    "duration": 7,
    "start_time": "2023-04-12T18:09:30.700Z"
   },
   {
    "duration": 38,
    "start_time": "2023-04-12T18:09:30.709Z"
   },
   {
    "duration": 405,
    "start_time": "2023-04-12T18:09:30.750Z"
   },
   {
    "duration": 55,
    "start_time": "2023-04-12T18:09:31.157Z"
   },
   {
    "duration": 80,
    "start_time": "2023-04-12T18:09:31.215Z"
   },
   {
    "duration": 28,
    "start_time": "2023-04-12T18:09:31.297Z"
   },
   {
    "duration": 428,
    "start_time": "2023-04-12T18:09:31.327Z"
   },
   {
    "duration": 41,
    "start_time": "2023-04-12T18:09:31.757Z"
   },
   {
    "duration": 449,
    "start_time": "2023-04-12T18:09:31.800Z"
   },
   {
    "duration": 0,
    "start_time": "2023-04-12T18:09:32.252Z"
   },
   {
    "duration": 0,
    "start_time": "2023-04-12T18:09:32.253Z"
   },
   {
    "duration": 0,
    "start_time": "2023-04-12T18:09:32.255Z"
   },
   {
    "duration": 0,
    "start_time": "2023-04-12T18:09:32.256Z"
   },
   {
    "duration": 0,
    "start_time": "2023-04-12T18:09:32.257Z"
   },
   {
    "duration": 0,
    "start_time": "2023-04-12T18:09:32.259Z"
   },
   {
    "duration": 0,
    "start_time": "2023-04-12T18:09:32.260Z"
   },
   {
    "duration": 0,
    "start_time": "2023-04-12T18:09:32.261Z"
   },
   {
    "duration": 0,
    "start_time": "2023-04-12T18:09:32.263Z"
   },
   {
    "duration": 0,
    "start_time": "2023-04-12T18:09:32.264Z"
   },
   {
    "duration": 0,
    "start_time": "2023-04-12T18:09:32.265Z"
   },
   {
    "duration": 0,
    "start_time": "2023-04-12T18:09:32.288Z"
   },
   {
    "duration": 0,
    "start_time": "2023-04-12T18:09:32.289Z"
   },
   {
    "duration": 0,
    "start_time": "2023-04-12T18:09:32.291Z"
   },
   {
    "duration": 0,
    "start_time": "2023-04-12T18:09:32.292Z"
   },
   {
    "duration": 0,
    "start_time": "2023-04-12T18:09:32.293Z"
   },
   {
    "duration": 0,
    "start_time": "2023-04-12T18:09:32.295Z"
   },
   {
    "duration": 0,
    "start_time": "2023-04-12T18:09:32.295Z"
   },
   {
    "duration": 0,
    "start_time": "2023-04-12T18:09:32.296Z"
   },
   {
    "duration": 0,
    "start_time": "2023-04-12T18:09:32.298Z"
   },
   {
    "duration": 0,
    "start_time": "2023-04-12T18:09:32.299Z"
   },
   {
    "duration": 0,
    "start_time": "2023-04-12T18:09:32.300Z"
   },
   {
    "duration": 0,
    "start_time": "2023-04-12T18:09:32.302Z"
   },
   {
    "duration": 0,
    "start_time": "2023-04-12T18:09:32.303Z"
   },
   {
    "duration": 207,
    "start_time": "2023-04-12T18:09:40.659Z"
   },
   {
    "duration": 400,
    "start_time": "2023-04-12T18:09:45.357Z"
   },
   {
    "duration": 3,
    "start_time": "2023-04-12T18:09:49.909Z"
   },
   {
    "duration": 107,
    "start_time": "2023-04-12T18:09:49.914Z"
   },
   {
    "duration": 81,
    "start_time": "2023-04-12T18:09:50.023Z"
   },
   {
    "duration": 52,
    "start_time": "2023-04-12T18:09:50.106Z"
   },
   {
    "duration": 21,
    "start_time": "2023-04-12T18:09:50.161Z"
   },
   {
    "duration": 12,
    "start_time": "2023-04-12T18:09:50.184Z"
   },
   {
    "duration": 25,
    "start_time": "2023-04-12T18:09:50.198Z"
   },
   {
    "duration": 18,
    "start_time": "2023-04-12T18:09:50.225Z"
   },
   {
    "duration": 19,
    "start_time": "2023-04-12T18:09:50.244Z"
   },
   {
    "duration": 24,
    "start_time": "2023-04-12T18:09:50.264Z"
   },
   {
    "duration": 14,
    "start_time": "2023-04-12T18:09:50.290Z"
   },
   {
    "duration": 1055,
    "start_time": "2023-04-12T18:09:50.307Z"
   },
   {
    "duration": 667,
    "start_time": "2023-04-12T18:09:51.364Z"
   },
   {
    "duration": 765,
    "start_time": "2023-04-12T18:09:52.033Z"
   },
   {
    "duration": 906,
    "start_time": "2023-04-12T18:09:52.800Z"
   },
   {
    "duration": 715,
    "start_time": "2023-04-12T18:09:53.708Z"
   },
   {
    "duration": 5,
    "start_time": "2023-04-12T18:09:54.424Z"
   },
   {
    "duration": 9,
    "start_time": "2023-04-12T18:09:54.431Z"
   },
   {
    "duration": 9,
    "start_time": "2023-04-12T18:09:54.441Z"
   },
   {
    "duration": 16,
    "start_time": "2023-04-12T18:09:54.451Z"
   },
   {
    "duration": 1159,
    "start_time": "2023-04-12T18:09:54.469Z"
   },
   {
    "duration": 47,
    "start_time": "2023-04-12T18:09:55.630Z"
   },
   {
    "duration": 19,
    "start_time": "2023-04-12T18:10:24.500Z"
   },
   {
    "duration": 5,
    "start_time": "2023-04-12T18:10:37.956Z"
   },
   {
    "duration": 113,
    "start_time": "2023-04-12T18:19:12.241Z"
   },
   {
    "duration": 52,
    "start_time": "2023-04-12T18:19:19.304Z"
   },
   {
    "duration": 37,
    "start_time": "2023-04-12T18:22:00.447Z"
   },
   {
    "duration": 12,
    "start_time": "2023-04-12T18:23:26.653Z"
   },
   {
    "duration": 6,
    "start_time": "2023-04-12T18:24:34.925Z"
   },
   {
    "duration": 8,
    "start_time": "2023-04-12T18:24:56.098Z"
   },
   {
    "duration": 5,
    "start_time": "2023-04-12T18:25:02.316Z"
   },
   {
    "duration": 6,
    "start_time": "2023-04-12T18:25:54.530Z"
   },
   {
    "duration": 6,
    "start_time": "2023-04-12T18:27:09.306Z"
   },
   {
    "duration": 47,
    "start_time": "2023-04-12T18:27:41.638Z"
   },
   {
    "duration": 90,
    "start_time": "2023-04-12T18:27:46.338Z"
   },
   {
    "duration": 7,
    "start_time": "2023-04-12T18:28:00.701Z"
   },
   {
    "duration": 6,
    "start_time": "2023-04-12T18:28:31.897Z"
   },
   {
    "duration": 6,
    "start_time": "2023-04-12T18:29:08.957Z"
   },
   {
    "duration": 1007,
    "start_time": "2023-04-12T18:29:10.162Z"
   },
   {
    "duration": 5,
    "start_time": "2023-04-12T18:29:18.448Z"
   },
   {
    "duration": 6,
    "start_time": "2023-04-12T18:29:25.196Z"
   },
   {
    "duration": 1521,
    "start_time": "2023-04-12T18:29:52.198Z"
   },
   {
    "duration": 8,
    "start_time": "2023-04-12T18:29:53.721Z"
   },
   {
    "duration": 302,
    "start_time": "2023-04-12T18:29:53.731Z"
   },
   {
    "duration": 36,
    "start_time": "2023-04-12T18:29:54.035Z"
   },
   {
    "duration": 131,
    "start_time": "2023-04-12T18:29:54.073Z"
   },
   {
    "duration": 28,
    "start_time": "2023-04-12T18:29:54.206Z"
   },
   {
    "duration": 384,
    "start_time": "2023-04-12T18:29:54.236Z"
   },
   {
    "duration": 31,
    "start_time": "2023-04-12T18:29:54.622Z"
   },
   {
    "duration": 532,
    "start_time": "2023-04-12T18:29:54.655Z"
   },
   {
    "duration": 1,
    "start_time": "2023-04-12T18:29:55.189Z"
   },
   {
    "duration": 0,
    "start_time": "2023-04-12T18:29:55.190Z"
   },
   {
    "duration": 0,
    "start_time": "2023-04-12T18:29:55.192Z"
   },
   {
    "duration": 0,
    "start_time": "2023-04-12T18:29:55.193Z"
   },
   {
    "duration": 0,
    "start_time": "2023-04-12T18:29:55.194Z"
   },
   {
    "duration": 0,
    "start_time": "2023-04-12T18:29:55.195Z"
   },
   {
    "duration": 0,
    "start_time": "2023-04-12T18:29:55.196Z"
   },
   {
    "duration": 0,
    "start_time": "2023-04-12T18:29:55.197Z"
   },
   {
    "duration": 0,
    "start_time": "2023-04-12T18:29:55.198Z"
   },
   {
    "duration": 0,
    "start_time": "2023-04-12T18:29:55.200Z"
   },
   {
    "duration": 0,
    "start_time": "2023-04-12T18:29:55.201Z"
   },
   {
    "duration": 0,
    "start_time": "2023-04-12T18:29:55.202Z"
   },
   {
    "duration": 0,
    "start_time": "2023-04-12T18:29:55.203Z"
   },
   {
    "duration": 0,
    "start_time": "2023-04-12T18:29:55.204Z"
   },
   {
    "duration": 0,
    "start_time": "2023-04-12T18:29:55.205Z"
   },
   {
    "duration": 0,
    "start_time": "2023-04-12T18:29:55.206Z"
   },
   {
    "duration": 0,
    "start_time": "2023-04-12T18:29:55.207Z"
   },
   {
    "duration": 0,
    "start_time": "2023-04-12T18:29:55.207Z"
   },
   {
    "duration": 0,
    "start_time": "2023-04-12T18:29:55.208Z"
   },
   {
    "duration": 0,
    "start_time": "2023-04-12T18:29:55.209Z"
   },
   {
    "duration": 0,
    "start_time": "2023-04-12T18:29:55.210Z"
   },
   {
    "duration": 0,
    "start_time": "2023-04-12T18:29:55.211Z"
   },
   {
    "duration": 0,
    "start_time": "2023-04-12T18:29:55.212Z"
   },
   {
    "duration": 0,
    "start_time": "2023-04-12T18:29:55.214Z"
   },
   {
    "duration": 0,
    "start_time": "2023-04-12T18:29:55.214Z"
   },
   {
    "duration": 0,
    "start_time": "2023-04-12T18:29:55.215Z"
   },
   {
    "duration": 0,
    "start_time": "2023-04-12T18:29:55.216Z"
   },
   {
    "duration": 0,
    "start_time": "2023-04-12T18:29:55.217Z"
   },
   {
    "duration": 1453,
    "start_time": "2023-04-12T18:31:37.909Z"
   },
   {
    "duration": 8,
    "start_time": "2023-04-12T18:31:39.364Z"
   },
   {
    "duration": 301,
    "start_time": "2023-04-12T18:31:39.374Z"
   },
   {
    "duration": 42,
    "start_time": "2023-04-12T18:31:39.677Z"
   },
   {
    "duration": 79,
    "start_time": "2023-04-12T18:31:39.720Z"
   },
   {
    "duration": 31,
    "start_time": "2023-04-12T18:31:39.800Z"
   },
   {
    "duration": 378,
    "start_time": "2023-04-12T18:31:39.832Z"
   },
   {
    "duration": 35,
    "start_time": "2023-04-12T18:31:40.212Z"
   },
   {
    "duration": 544,
    "start_time": "2023-04-12T18:31:40.250Z"
   },
   {
    "duration": 234,
    "start_time": "2023-04-12T18:31:40.797Z"
   },
   {
    "duration": 488,
    "start_time": "2023-04-12T18:31:41.033Z"
   },
   {
    "duration": 4,
    "start_time": "2023-04-12T18:31:41.523Z"
   },
   {
    "duration": 7,
    "start_time": "2023-04-12T18:31:41.529Z"
   },
   {
    "duration": 7,
    "start_time": "2023-04-12T18:31:41.538Z"
   },
   {
    "duration": 5,
    "start_time": "2023-04-12T18:31:41.546Z"
   },
   {
    "duration": 35,
    "start_time": "2023-04-12T18:31:41.553Z"
   },
   {
    "duration": 3,
    "start_time": "2023-04-12T18:31:41.590Z"
   },
   {
    "duration": 17,
    "start_time": "2023-04-12T18:31:41.595Z"
   },
   {
    "duration": 17,
    "start_time": "2023-04-12T18:31:41.614Z"
   },
   {
    "duration": 8,
    "start_time": "2023-04-12T18:31:41.633Z"
   },
   {
    "duration": 46,
    "start_time": "2023-04-12T18:31:41.643Z"
   },
   {
    "duration": 128,
    "start_time": "2023-04-12T18:31:41.691Z"
   },
   {
    "duration": 0,
    "start_time": "2023-04-12T18:31:41.822Z"
   },
   {
    "duration": 0,
    "start_time": "2023-04-12T18:31:41.823Z"
   },
   {
    "duration": 0,
    "start_time": "2023-04-12T18:31:41.824Z"
   },
   {
    "duration": 0,
    "start_time": "2023-04-12T18:31:41.826Z"
   },
   {
    "duration": 0,
    "start_time": "2023-04-12T18:31:41.827Z"
   },
   {
    "duration": 0,
    "start_time": "2023-04-12T18:31:41.829Z"
   },
   {
    "duration": 0,
    "start_time": "2023-04-12T18:31:41.830Z"
   },
   {
    "duration": 0,
    "start_time": "2023-04-12T18:31:41.832Z"
   },
   {
    "duration": 0,
    "start_time": "2023-04-12T18:31:41.834Z"
   },
   {
    "duration": 0,
    "start_time": "2023-04-12T18:31:41.836Z"
   },
   {
    "duration": 0,
    "start_time": "2023-04-12T18:31:41.839Z"
   },
   {
    "duration": 0,
    "start_time": "2023-04-12T18:31:41.840Z"
   },
   {
    "duration": 0,
    "start_time": "2023-04-12T18:31:41.842Z"
   },
   {
    "duration": 0,
    "start_time": "2023-04-12T18:31:41.843Z"
   },
   {
    "duration": 0,
    "start_time": "2023-04-12T18:31:41.845Z"
   },
   {
    "duration": 10,
    "start_time": "2023-04-12T18:33:38.270Z"
   },
   {
    "duration": 14,
    "start_time": "2023-04-12T18:33:47.337Z"
   },
   {
    "duration": 4,
    "start_time": "2023-04-12T18:33:49.112Z"
   },
   {
    "duration": 1498,
    "start_time": "2023-04-12T18:33:55.682Z"
   },
   {
    "duration": 7,
    "start_time": "2023-04-12T18:33:57.182Z"
   },
   {
    "duration": 297,
    "start_time": "2023-04-12T18:33:57.190Z"
   },
   {
    "duration": 33,
    "start_time": "2023-04-12T18:33:57.490Z"
   },
   {
    "duration": 79,
    "start_time": "2023-04-12T18:33:57.524Z"
   },
   {
    "duration": 28,
    "start_time": "2023-04-12T18:33:57.605Z"
   },
   {
    "duration": 359,
    "start_time": "2023-04-12T18:33:57.634Z"
   },
   {
    "duration": 30,
    "start_time": "2023-04-12T18:33:57.995Z"
   },
   {
    "duration": 473,
    "start_time": "2023-04-12T18:33:58.027Z"
   },
   {
    "duration": 217,
    "start_time": "2023-04-12T18:33:58.503Z"
   },
   {
    "duration": 451,
    "start_time": "2023-04-12T18:33:58.722Z"
   },
   {
    "duration": 4,
    "start_time": "2023-04-12T18:33:59.187Z"
   },
   {
    "duration": 22,
    "start_time": "2023-04-12T18:33:59.192Z"
   },
   {
    "duration": 10,
    "start_time": "2023-04-12T18:33:59.216Z"
   },
   {
    "duration": 37,
    "start_time": "2023-04-12T18:33:59.228Z"
   },
   {
    "duration": 22,
    "start_time": "2023-04-12T18:33:59.266Z"
   },
   {
    "duration": 17,
    "start_time": "2023-04-12T18:33:59.290Z"
   },
   {
    "duration": 33,
    "start_time": "2023-04-12T18:33:59.308Z"
   },
   {
    "duration": 19,
    "start_time": "2023-04-12T18:33:59.342Z"
   },
   {
    "duration": 17,
    "start_time": "2023-04-12T18:33:59.363Z"
   },
   {
    "duration": 31,
    "start_time": "2023-04-12T18:33:59.382Z"
   },
   {
    "duration": 13,
    "start_time": "2023-04-12T18:33:59.415Z"
   },
   {
    "duration": 14,
    "start_time": "2023-04-12T18:33:59.429Z"
   },
   {
    "duration": 982,
    "start_time": "2023-04-12T18:33:59.445Z"
   },
   {
    "duration": 7,
    "start_time": "2023-04-12T18:34:00.429Z"
   },
   {
    "duration": 736,
    "start_time": "2023-04-12T18:34:00.438Z"
   },
   {
    "duration": 12,
    "start_time": "2023-04-12T18:34:01.176Z"
   },
   {
    "duration": 679,
    "start_time": "2023-04-12T18:34:01.193Z"
   },
   {
    "duration": 5,
    "start_time": "2023-04-12T18:34:01.874Z"
   },
   {
    "duration": 1303,
    "start_time": "2023-04-12T18:34:01.889Z"
   },
   {
    "duration": 580,
    "start_time": "2023-04-12T18:34:03.194Z"
   },
   {
    "duration": 4,
    "start_time": "2023-04-12T18:34:03.776Z"
   },
   {
    "duration": 5,
    "start_time": "2023-04-12T18:34:03.787Z"
   },
   {
    "duration": 11,
    "start_time": "2023-04-12T18:34:03.794Z"
   },
   {
    "duration": 89,
    "start_time": "2023-04-12T18:34:03.806Z"
   },
   {
    "duration": 1224,
    "start_time": "2023-04-12T18:34:03.897Z"
   },
   {
    "duration": 49,
    "start_time": "2023-04-12T18:34:05.123Z"
   },
   {
    "duration": 1194,
    "start_time": "2023-04-12T18:44:42.536Z"
   },
   {
    "duration": 2,
    "start_time": "2023-04-12T18:51:53.156Z"
   },
   {
    "duration": 4,
    "start_time": "2023-04-12T18:57:44.159Z"
   },
   {
    "duration": 108,
    "start_time": "2023-04-12T18:57:57.858Z"
   },
   {
    "duration": 10,
    "start_time": "2023-04-12T18:58:00.627Z"
   },
   {
    "duration": 5,
    "start_time": "2023-04-12T19:00:38.775Z"
   },
   {
    "duration": 5,
    "start_time": "2023-04-12T19:00:41.517Z"
   },
   {
    "duration": 5,
    "start_time": "2023-04-12T19:00:53.480Z"
   },
   {
    "duration": 14,
    "start_time": "2023-04-12T19:01:04.406Z"
   },
   {
    "duration": 13,
    "start_time": "2023-04-12T19:01:57.914Z"
   },
   {
    "duration": 1224,
    "start_time": "2023-04-12T19:02:01.679Z"
   },
   {
    "duration": 14,
    "start_time": "2023-04-12T19:02:48.134Z"
   },
   {
    "duration": 1335,
    "start_time": "2023-04-12T19:02:50.121Z"
   },
   {
    "duration": 5,
    "start_time": "2023-04-12T19:03:29.731Z"
   },
   {
    "duration": 5,
    "start_time": "2023-04-12T19:03:29.987Z"
   },
   {
    "duration": 4,
    "start_time": "2023-04-12T19:03:30.355Z"
   },
   {
    "duration": 5,
    "start_time": "2023-04-12T19:03:30.570Z"
   },
   {
    "duration": 1120,
    "start_time": "2023-04-12T19:03:30.966Z"
   },
   {
    "duration": 18,
    "start_time": "2023-04-12T19:04:15.313Z"
   },
   {
    "duration": 1308,
    "start_time": "2023-04-12T19:05:13.860Z"
   },
   {
    "duration": 994,
    "start_time": "2023-04-12T19:05:27.743Z"
   },
   {
    "duration": 1450,
    "start_time": "2023-04-12T19:05:39.886Z"
   },
   {
    "duration": 1023,
    "start_time": "2023-04-12T19:05:51.123Z"
   },
   {
    "duration": 934,
    "start_time": "2023-04-12T19:05:58.829Z"
   },
   {
    "duration": 1075,
    "start_time": "2023-04-12T19:06:13.405Z"
   },
   {
    "duration": 7,
    "start_time": "2023-04-12T19:06:40.134Z"
   },
   {
    "duration": 1547,
    "start_time": "2023-04-12T19:07:08.584Z"
   },
   {
    "duration": 8,
    "start_time": "2023-04-12T19:07:10.133Z"
   },
   {
    "duration": 331,
    "start_time": "2023-04-12T19:07:10.143Z"
   },
   {
    "duration": 51,
    "start_time": "2023-04-12T19:07:10.477Z"
   },
   {
    "duration": 93,
    "start_time": "2023-04-12T19:07:10.531Z"
   },
   {
    "duration": 40,
    "start_time": "2023-04-12T19:07:10.627Z"
   },
   {
    "duration": 395,
    "start_time": "2023-04-12T19:07:10.670Z"
   },
   {
    "duration": 37,
    "start_time": "2023-04-12T19:07:11.067Z"
   },
   {
    "duration": 449,
    "start_time": "2023-04-12T19:07:11.106Z"
   },
   {
    "duration": 230,
    "start_time": "2023-04-12T19:07:11.558Z"
   },
   {
    "duration": 470,
    "start_time": "2023-04-12T19:07:11.790Z"
   },
   {
    "duration": 4,
    "start_time": "2023-04-12T19:07:12.262Z"
   },
   {
    "duration": 23,
    "start_time": "2023-04-12T19:07:12.269Z"
   },
   {
    "duration": 8,
    "start_time": "2023-04-12T19:07:12.294Z"
   },
   {
    "duration": 8,
    "start_time": "2023-04-12T19:07:12.303Z"
   },
   {
    "duration": 10,
    "start_time": "2023-04-12T19:07:12.312Z"
   },
   {
    "duration": 7,
    "start_time": "2023-04-12T19:07:12.324Z"
   },
   {
    "duration": 17,
    "start_time": "2023-04-12T19:07:12.333Z"
   },
   {
    "duration": 36,
    "start_time": "2023-04-12T19:07:12.352Z"
   },
   {
    "duration": 10,
    "start_time": "2023-04-12T19:07:12.390Z"
   },
   {
    "duration": 25,
    "start_time": "2023-04-12T19:07:12.402Z"
   },
   {
    "duration": 14,
    "start_time": "2023-04-12T19:07:12.429Z"
   },
   {
    "duration": 6,
    "start_time": "2023-04-12T19:07:12.445Z"
   },
   {
    "duration": 1004,
    "start_time": "2023-04-12T19:07:12.452Z"
   },
   {
    "duration": 6,
    "start_time": "2023-04-12T19:07:13.458Z"
   },
   {
    "duration": 670,
    "start_time": "2023-04-12T19:07:13.466Z"
   },
   {
    "duration": 6,
    "start_time": "2023-04-12T19:07:14.138Z"
   },
   {
    "duration": 658,
    "start_time": "2023-04-12T19:07:14.149Z"
   },
   {
    "duration": 6,
    "start_time": "2023-04-12T19:07:14.808Z"
   },
   {
    "duration": 1019,
    "start_time": "2023-04-12T19:07:14.815Z"
   },
   {
    "duration": 584,
    "start_time": "2023-04-12T19:07:15.836Z"
   },
   {
    "duration": 4,
    "start_time": "2023-04-12T19:07:16.422Z"
   },
   {
    "duration": 10,
    "start_time": "2023-04-12T19:07:16.428Z"
   },
   {
    "duration": 7,
    "start_time": "2023-04-12T19:07:16.440Z"
   },
   {
    "duration": 5,
    "start_time": "2023-04-12T19:07:16.449Z"
   },
   {
    "duration": 1238,
    "start_time": "2023-04-12T19:07:16.456Z"
   },
   {
    "duration": 16,
    "start_time": "2023-04-12T19:07:17.696Z"
   },
   {
    "duration": 9,
    "start_time": "2023-04-12T19:07:17.714Z"
   },
   {
    "duration": 25,
    "start_time": "2023-04-12T19:07:17.724Z"
   },
   {
    "duration": 6,
    "start_time": "2023-04-12T19:09:07.976Z"
   },
   {
    "duration": 7,
    "start_time": "2023-04-12T19:09:16.802Z"
   },
   {
    "duration": 7,
    "start_time": "2023-04-12T19:09:26.494Z"
   },
   {
    "duration": 6,
    "start_time": "2023-04-12T19:09:36.331Z"
   },
   {
    "duration": 6,
    "start_time": "2023-04-12T19:09:48.312Z"
   },
   {
    "duration": 750,
    "start_time": "2023-04-12T19:09:59.230Z"
   },
   {
    "duration": 7,
    "start_time": "2023-04-12T19:10:07.416Z"
   },
   {
    "duration": 650,
    "start_time": "2023-04-12T19:10:10.887Z"
   },
   {
    "duration": 7,
    "start_time": "2023-04-12T19:10:15.356Z"
   },
   {
    "duration": 9,
    "start_time": "2023-04-12T19:10:24.050Z"
   },
   {
    "duration": 8,
    "start_time": "2023-04-12T19:10:27.718Z"
   },
   {
    "duration": 7,
    "start_time": "2023-04-12T19:23:35.344Z"
   },
   {
    "duration": 7,
    "start_time": "2023-04-12T19:24:54.209Z"
   },
   {
    "duration": 1274,
    "start_time": "2023-04-12T19:31:55.617Z"
   },
   {
    "duration": 1614,
    "start_time": "2023-04-12T19:32:04.039Z"
   },
   {
    "duration": 8,
    "start_time": "2023-04-12T19:32:05.655Z"
   },
   {
    "duration": 326,
    "start_time": "2023-04-12T19:32:05.664Z"
   },
   {
    "duration": 38,
    "start_time": "2023-04-12T19:32:05.992Z"
   },
   {
    "duration": 81,
    "start_time": "2023-04-12T19:32:06.033Z"
   },
   {
    "duration": 28,
    "start_time": "2023-04-12T19:32:06.115Z"
   },
   {
    "duration": 431,
    "start_time": "2023-04-12T19:32:06.145Z"
   },
   {
    "duration": 41,
    "start_time": "2023-04-12T19:32:06.578Z"
   },
   {
    "duration": 473,
    "start_time": "2023-04-12T19:32:06.621Z"
   },
   {
    "duration": 231,
    "start_time": "2023-04-12T19:32:07.096Z"
   },
   {
    "duration": 467,
    "start_time": "2023-04-12T19:32:07.328Z"
   },
   {
    "duration": 3,
    "start_time": "2023-04-12T19:32:07.797Z"
   },
   {
    "duration": 14,
    "start_time": "2023-04-12T19:32:07.801Z"
   },
   {
    "duration": 17,
    "start_time": "2023-04-12T19:32:07.818Z"
   },
   {
    "duration": 14,
    "start_time": "2023-04-12T19:32:07.836Z"
   },
   {
    "duration": 12,
    "start_time": "2023-04-12T19:32:07.851Z"
   },
   {
    "duration": 8,
    "start_time": "2023-04-12T19:32:07.865Z"
   },
   {
    "duration": 18,
    "start_time": "2023-04-12T19:32:07.875Z"
   },
   {
    "duration": 20,
    "start_time": "2023-04-12T19:32:07.895Z"
   },
   {
    "duration": 9,
    "start_time": "2023-04-12T19:32:07.916Z"
   },
   {
    "duration": 25,
    "start_time": "2023-04-12T19:32:07.927Z"
   },
   {
    "duration": 33,
    "start_time": "2023-04-12T19:32:07.954Z"
   },
   {
    "duration": 5,
    "start_time": "2023-04-12T19:32:07.989Z"
   },
   {
    "duration": 966,
    "start_time": "2023-04-12T19:32:07.996Z"
   },
   {
    "duration": 6,
    "start_time": "2023-04-12T19:32:08.964Z"
   },
   {
    "duration": 671,
    "start_time": "2023-04-12T19:32:08.972Z"
   },
   {
    "duration": 7,
    "start_time": "2023-04-12T19:32:09.645Z"
   },
   {
    "duration": 649,
    "start_time": "2023-04-12T19:32:09.653Z"
   },
   {
    "duration": 7,
    "start_time": "2023-04-12T19:32:10.303Z"
   },
   {
    "duration": 1127,
    "start_time": "2023-04-12T19:32:10.311Z"
   },
   {
    "duration": 585,
    "start_time": "2023-04-12T19:32:11.440Z"
   },
   {
    "duration": 5,
    "start_time": "2023-04-12T19:32:12.027Z"
   },
   {
    "duration": 7,
    "start_time": "2023-04-12T19:32:12.033Z"
   },
   {
    "duration": 6,
    "start_time": "2023-04-12T19:32:12.042Z"
   },
   {
    "duration": 8,
    "start_time": "2023-04-12T19:32:12.049Z"
   },
   {
    "duration": 1231,
    "start_time": "2023-04-12T19:32:12.059Z"
   },
   {
    "duration": 6,
    "start_time": "2023-04-12T19:32:13.292Z"
   },
   {
    "duration": 27,
    "start_time": "2023-04-12T19:32:13.300Z"
   },
   {
    "duration": 7,
    "start_time": "2023-04-12T19:32:13.329Z"
   },
   {
    "duration": 17,
    "start_time": "2023-04-12T19:32:13.338Z"
   },
   {
    "duration": 1251,
    "start_time": "2023-04-12T19:32:13.359Z"
   },
   {
    "duration": 5,
    "start_time": "2023-04-12T19:32:31.760Z"
   },
   {
    "duration": 5,
    "start_time": "2023-04-12T19:32:32.114Z"
   },
   {
    "duration": 5,
    "start_time": "2023-04-12T19:32:32.475Z"
   },
   {
    "duration": 4,
    "start_time": "2023-04-12T19:32:32.851Z"
   },
   {
    "duration": 1170,
    "start_time": "2023-04-12T19:32:33.252Z"
   },
   {
    "duration": 10,
    "start_time": "2023-04-13T11:12:50.321Z"
   },
   {
    "duration": 2,
    "start_time": "2023-04-13T11:15:56.856Z"
   },
   {
    "duration": 80,
    "start_time": "2023-04-13T11:30:06.631Z"
   },
   {
    "duration": 46,
    "start_time": "2023-04-13T11:31:05.250Z"
   },
   {
    "duration": 7,
    "start_time": "2023-04-13T11:31:28.890Z"
   },
   {
    "duration": 1693,
    "start_time": "2023-04-13T11:32:15.433Z"
   },
   {
    "duration": 7,
    "start_time": "2023-04-13T11:32:17.129Z"
   },
   {
    "duration": 1130,
    "start_time": "2023-04-13T11:32:17.137Z"
   },
   {
    "duration": 37,
    "start_time": "2023-04-13T11:32:18.269Z"
   },
   {
    "duration": 147,
    "start_time": "2023-04-13T11:32:18.309Z"
   },
   {
    "duration": 29,
    "start_time": "2023-04-13T11:32:18.457Z"
   },
   {
    "duration": 496,
    "start_time": "2023-04-13T11:32:18.487Z"
   },
   {
    "duration": 31,
    "start_time": "2023-04-13T11:32:18.984Z"
   },
   {
    "duration": 458,
    "start_time": "2023-04-13T11:32:19.017Z"
   },
   {
    "duration": 222,
    "start_time": "2023-04-13T11:32:19.477Z"
   },
   {
    "duration": 453,
    "start_time": "2023-04-13T11:32:19.701Z"
   },
   {
    "duration": 3,
    "start_time": "2023-04-13T11:32:20.156Z"
   },
   {
    "duration": 9,
    "start_time": "2023-04-13T11:32:20.161Z"
   },
   {
    "duration": 7,
    "start_time": "2023-04-13T11:32:20.189Z"
   },
   {
    "duration": 22,
    "start_time": "2023-04-13T11:32:20.198Z"
   },
   {
    "duration": 10,
    "start_time": "2023-04-13T11:32:20.224Z"
   },
   {
    "duration": 13,
    "start_time": "2023-04-13T11:32:20.237Z"
   },
   {
    "duration": 24,
    "start_time": "2023-04-13T11:32:20.252Z"
   },
   {
    "duration": 18,
    "start_time": "2023-04-13T11:32:20.278Z"
   },
   {
    "duration": 9,
    "start_time": "2023-04-13T11:32:20.298Z"
   },
   {
    "duration": 39,
    "start_time": "2023-04-13T11:32:20.309Z"
   },
   {
    "duration": 15,
    "start_time": "2023-04-13T11:32:20.352Z"
   },
   {
    "duration": 24,
    "start_time": "2023-04-13T11:32:20.369Z"
   },
   {
    "duration": 1005,
    "start_time": "2023-04-13T11:32:20.395Z"
   },
   {
    "duration": 7,
    "start_time": "2023-04-13T11:32:21.401Z"
   },
   {
    "duration": 722,
    "start_time": "2023-04-13T11:32:21.410Z"
   },
   {
    "duration": 6,
    "start_time": "2023-04-13T11:32:22.134Z"
   },
   {
    "duration": 663,
    "start_time": "2023-04-13T11:32:22.141Z"
   },
   {
    "duration": 7,
    "start_time": "2023-04-13T11:32:22.805Z"
   },
   {
    "duration": 1043,
    "start_time": "2023-04-13T11:32:22.814Z"
   },
   {
    "duration": 579,
    "start_time": "2023-04-13T11:32:23.859Z"
   },
   {
    "duration": 5,
    "start_time": "2023-04-13T11:32:24.440Z"
   },
   {
    "duration": 7,
    "start_time": "2023-04-13T11:32:24.446Z"
   },
   {
    "duration": 6,
    "start_time": "2023-04-13T11:32:24.454Z"
   },
   {
    "duration": 10,
    "start_time": "2023-04-13T11:32:24.461Z"
   },
   {
    "duration": 1290,
    "start_time": "2023-04-13T11:32:24.472Z"
   },
   {
    "duration": 7,
    "start_time": "2023-04-13T11:32:25.763Z"
   },
   {
    "duration": 33,
    "start_time": "2023-04-13T11:32:25.771Z"
   },
   {
    "duration": 7,
    "start_time": "2023-04-13T11:32:25.806Z"
   },
   {
    "duration": 20,
    "start_time": "2023-04-13T11:32:25.814Z"
   },
   {
    "duration": 3,
    "start_time": "2023-04-13T11:32:25.838Z"
   },
   {
    "duration": 5,
    "start_time": "2023-04-13T11:32:25.842Z"
   },
   {
    "duration": 8,
    "start_time": "2023-04-13T11:32:25.849Z"
   },
   {
    "duration": 86,
    "start_time": "2023-04-13T11:33:06.703Z"
   },
   {
    "duration": 1526,
    "start_time": "2023-04-13T11:33:21.252Z"
   },
   {
    "duration": 8,
    "start_time": "2023-04-13T11:33:22.780Z"
   },
   {
    "duration": 259,
    "start_time": "2023-04-13T11:33:22.789Z"
   },
   {
    "duration": 41,
    "start_time": "2023-04-13T11:33:23.050Z"
   },
   {
    "duration": 69,
    "start_time": "2023-04-13T11:33:23.093Z"
   },
   {
    "duration": 34,
    "start_time": "2023-04-13T11:33:23.164Z"
   },
   {
    "duration": 324,
    "start_time": "2023-04-13T11:33:23.199Z"
   },
   {
    "duration": 30,
    "start_time": "2023-04-13T11:33:23.525Z"
   },
   {
    "duration": 465,
    "start_time": "2023-04-13T11:33:23.557Z"
   },
   {
    "duration": 229,
    "start_time": "2023-04-13T11:33:24.025Z"
   },
   {
    "duration": 488,
    "start_time": "2023-04-13T11:33:24.255Z"
   },
   {
    "duration": 4,
    "start_time": "2023-04-13T11:33:24.745Z"
   },
   {
    "duration": 8,
    "start_time": "2023-04-13T11:33:24.751Z"
   },
   {
    "duration": 29,
    "start_time": "2023-04-13T11:33:24.761Z"
   },
   {
    "duration": 4,
    "start_time": "2023-04-13T11:33:24.793Z"
   },
   {
    "duration": 5,
    "start_time": "2023-04-13T11:33:24.799Z"
   },
   {
    "duration": 13,
    "start_time": "2023-04-13T11:33:24.806Z"
   },
   {
    "duration": 23,
    "start_time": "2023-04-13T11:33:24.821Z"
   },
   {
    "duration": 19,
    "start_time": "2023-04-13T11:33:24.846Z"
   },
   {
    "duration": 28,
    "start_time": "2023-04-13T11:33:24.867Z"
   },
   {
    "duration": 29,
    "start_time": "2023-04-13T11:33:24.897Z"
   },
   {
    "duration": 13,
    "start_time": "2023-04-13T11:33:24.928Z"
   },
   {
    "duration": 4,
    "start_time": "2023-04-13T11:33:24.943Z"
   },
   {
    "duration": 1025,
    "start_time": "2023-04-13T11:33:24.949Z"
   },
   {
    "duration": 14,
    "start_time": "2023-04-13T11:33:25.976Z"
   },
   {
    "duration": 692,
    "start_time": "2023-04-13T11:33:25.992Z"
   },
   {
    "duration": 6,
    "start_time": "2023-04-13T11:33:26.686Z"
   },
   {
    "duration": 668,
    "start_time": "2023-04-13T11:33:26.696Z"
   },
   {
    "duration": 8,
    "start_time": "2023-04-13T11:33:27.366Z"
   },
   {
    "duration": 1104,
    "start_time": "2023-04-13T11:33:27.390Z"
   },
   {
    "duration": 607,
    "start_time": "2023-04-13T11:33:28.497Z"
   },
   {
    "duration": 5,
    "start_time": "2023-04-13T11:33:29.106Z"
   },
   {
    "duration": 6,
    "start_time": "2023-04-13T11:33:29.113Z"
   },
   {
    "duration": 5,
    "start_time": "2023-04-13T11:33:29.121Z"
   },
   {
    "duration": 22,
    "start_time": "2023-04-13T11:33:29.127Z"
   },
   {
    "duration": 1331,
    "start_time": "2023-04-13T11:33:29.151Z"
   },
   {
    "duration": 8,
    "start_time": "2023-04-13T11:33:30.488Z"
   },
   {
    "duration": 63,
    "start_time": "2023-04-13T11:33:30.498Z"
   },
   {
    "duration": 84,
    "start_time": "2023-04-13T11:33:30.564Z"
   },
   {
    "duration": 72,
    "start_time": "2023-04-13T11:33:30.650Z"
   },
   {
    "duration": 68,
    "start_time": "2023-04-13T11:33:30.725Z"
   },
   {
    "duration": 62,
    "start_time": "2023-04-13T11:33:30.795Z"
   },
   {
    "duration": 72,
    "start_time": "2023-04-13T11:33:30.859Z"
   },
   {
    "duration": 120,
    "start_time": "2023-04-13T11:33:56.081Z"
   },
   {
    "duration": 7,
    "start_time": "2023-04-13T11:34:05.343Z"
   },
   {
    "duration": 1225,
    "start_time": "2023-04-13T11:34:06.723Z"
   },
   {
    "duration": 0,
    "start_time": "2023-04-13T11:34:07.950Z"
   },
   {
    "duration": 0,
    "start_time": "2023-04-13T11:34:07.951Z"
   },
   {
    "duration": 4,
    "start_time": "2023-04-13T11:34:08.204Z"
   },
   {
    "duration": 5,
    "start_time": "2023-04-13T11:34:08.412Z"
   },
   {
    "duration": 15,
    "start_time": "2023-04-13T11:34:08.642Z"
   },
   {
    "duration": 15,
    "start_time": "2023-04-13T11:34:16.150Z"
   },
   {
    "duration": 15,
    "start_time": "2023-04-13T11:34:53.537Z"
   },
   {
    "duration": 1809,
    "start_time": "2023-04-13T11:35:24.775Z"
   },
   {
    "duration": 8,
    "start_time": "2023-04-13T11:35:26.586Z"
   },
   {
    "duration": 274,
    "start_time": "2023-04-13T11:35:26.596Z"
   },
   {
    "duration": 43,
    "start_time": "2023-04-13T11:35:26.873Z"
   },
   {
    "duration": 80,
    "start_time": "2023-04-13T11:35:26.918Z"
   },
   {
    "duration": 32,
    "start_time": "2023-04-13T11:35:27.000Z"
   },
   {
    "duration": 332,
    "start_time": "2023-04-13T11:35:27.034Z"
   },
   {
    "duration": 40,
    "start_time": "2023-04-13T11:35:27.368Z"
   },
   {
    "duration": 459,
    "start_time": "2023-04-13T11:35:27.409Z"
   },
   {
    "duration": 246,
    "start_time": "2023-04-13T11:35:27.871Z"
   },
   {
    "duration": 472,
    "start_time": "2023-04-13T11:35:28.119Z"
   },
   {
    "duration": 3,
    "start_time": "2023-04-13T11:35:28.592Z"
   },
   {
    "duration": 22,
    "start_time": "2023-04-13T11:35:28.597Z"
   },
   {
    "duration": 26,
    "start_time": "2023-04-13T11:35:28.621Z"
   },
   {
    "duration": 8,
    "start_time": "2023-04-13T11:35:28.650Z"
   },
   {
    "duration": 4,
    "start_time": "2023-04-13T11:35:28.660Z"
   },
   {
    "duration": 11,
    "start_time": "2023-04-13T11:35:28.666Z"
   },
   {
    "duration": 17,
    "start_time": "2023-04-13T11:35:28.678Z"
   },
   {
    "duration": 16,
    "start_time": "2023-04-13T11:35:28.697Z"
   },
   {
    "duration": 7,
    "start_time": "2023-04-13T11:35:28.715Z"
   },
   {
    "duration": 19,
    "start_time": "2023-04-13T11:35:28.724Z"
   },
   {
    "duration": 46,
    "start_time": "2023-04-13T11:35:28.745Z"
   },
   {
    "duration": 4,
    "start_time": "2023-04-13T11:35:28.793Z"
   },
   {
    "duration": 1041,
    "start_time": "2023-04-13T11:35:28.799Z"
   },
   {
    "duration": 6,
    "start_time": "2023-04-13T11:35:29.842Z"
   },
   {
    "duration": 815,
    "start_time": "2023-04-13T11:35:29.850Z"
   },
   {
    "duration": 10,
    "start_time": "2023-04-13T11:35:30.667Z"
   },
   {
    "duration": 726,
    "start_time": "2023-04-13T11:35:30.692Z"
   },
   {
    "duration": 7,
    "start_time": "2023-04-13T11:35:31.420Z"
   },
   {
    "duration": 1135,
    "start_time": "2023-04-13T11:35:31.429Z"
   },
   {
    "duration": 601,
    "start_time": "2023-04-13T11:35:32.566Z"
   },
   {
    "duration": 5,
    "start_time": "2023-04-13T11:35:33.168Z"
   },
   {
    "duration": 15,
    "start_time": "2023-04-13T11:35:33.175Z"
   },
   {
    "duration": 5,
    "start_time": "2023-04-13T11:35:33.192Z"
   },
   {
    "duration": 11,
    "start_time": "2023-04-13T11:35:33.199Z"
   },
   {
    "duration": 1327,
    "start_time": "2023-04-13T11:35:33.212Z"
   },
   {
    "duration": 8,
    "start_time": "2023-04-13T11:35:34.542Z"
   },
   {
    "duration": 17,
    "start_time": "2023-04-13T11:35:34.552Z"
   },
   {
    "duration": 21,
    "start_time": "2023-04-13T11:35:34.571Z"
   },
   {
    "duration": 18,
    "start_time": "2023-04-13T11:35:34.594Z"
   },
   {
    "duration": 6,
    "start_time": "2023-04-13T11:35:34.614Z"
   },
   {
    "duration": 4,
    "start_time": "2023-04-13T11:35:34.622Z"
   },
   {
    "duration": 15,
    "start_time": "2023-04-13T11:35:34.628Z"
   },
   {
    "duration": 129,
    "start_time": "2023-04-13T11:36:37.701Z"
   },
   {
    "duration": 5,
    "start_time": "2023-04-13T11:36:50.584Z"
   },
   {
    "duration": 5,
    "start_time": "2023-04-13T11:36:54.828Z"
   },
   {
    "duration": 4,
    "start_time": "2023-04-13T11:37:05.000Z"
   },
   {
    "duration": 4,
    "start_time": "2023-04-13T11:37:11.450Z"
   },
   {
    "duration": 4,
    "start_time": "2023-04-13T11:37:16.804Z"
   },
   {
    "duration": 4,
    "start_time": "2023-04-13T11:37:22.638Z"
   },
   {
    "duration": 11,
    "start_time": "2023-04-13T11:38:15.107Z"
   },
   {
    "duration": 109,
    "start_time": "2023-04-13T11:38:30.723Z"
   },
   {
    "duration": 5,
    "start_time": "2023-04-13T11:38:32.657Z"
   },
   {
    "duration": 4,
    "start_time": "2023-04-13T11:38:52.142Z"
   },
   {
    "duration": 19,
    "start_time": "2023-04-13T11:44:32.147Z"
   },
   {
    "duration": 110,
    "start_time": "2023-04-13T11:45:57.257Z"
   },
   {
    "duration": 14,
    "start_time": "2023-04-13T11:47:56.107Z"
   },
   {
    "duration": 4,
    "start_time": "2023-04-13T11:48:00.085Z"
   },
   {
    "duration": 7,
    "start_time": "2023-04-13T11:48:01.503Z"
   },
   {
    "duration": 6,
    "start_time": "2023-04-13T11:48:15.125Z"
   },
   {
    "duration": 5,
    "start_time": "2023-04-13T11:48:39.110Z"
   },
   {
    "duration": 1493,
    "start_time": "2023-04-13T19:26:41.364Z"
   },
   {
    "duration": 6,
    "start_time": "2023-04-13T19:26:42.859Z"
   },
   {
    "duration": 1195,
    "start_time": "2023-04-13T19:26:42.866Z"
   },
   {
    "duration": 28,
    "start_time": "2023-04-13T19:26:44.063Z"
   },
   {
    "duration": 134,
    "start_time": "2023-04-13T19:26:44.092Z"
   },
   {
    "duration": 31,
    "start_time": "2023-04-13T19:26:44.227Z"
   },
   {
    "duration": 492,
    "start_time": "2023-04-13T19:26:44.259Z"
   },
   {
    "duration": 29,
    "start_time": "2023-04-13T19:26:44.752Z"
   },
   {
    "duration": 364,
    "start_time": "2023-04-13T19:26:44.783Z"
   },
   {
    "duration": 184,
    "start_time": "2023-04-13T19:26:45.150Z"
   },
   {
    "duration": 414,
    "start_time": "2023-04-13T19:26:45.336Z"
   },
   {
    "duration": 3,
    "start_time": "2023-04-13T19:26:45.752Z"
   },
   {
    "duration": 10,
    "start_time": "2023-04-13T19:26:45.756Z"
   },
   {
    "duration": 7,
    "start_time": "2023-04-13T19:26:45.767Z"
   },
   {
    "duration": 20,
    "start_time": "2023-04-13T19:26:45.775Z"
   },
   {
    "duration": 4,
    "start_time": "2023-04-13T19:26:45.796Z"
   },
   {
    "duration": 3,
    "start_time": "2023-04-13T19:26:45.801Z"
   },
   {
    "duration": 14,
    "start_time": "2023-04-13T19:26:45.806Z"
   },
   {
    "duration": 12,
    "start_time": "2023-04-13T19:26:45.822Z"
   },
   {
    "duration": 6,
    "start_time": "2023-04-13T19:26:45.836Z"
   },
   {
    "duration": 50,
    "start_time": "2023-04-13T19:26:45.844Z"
   },
   {
    "duration": 13,
    "start_time": "2023-04-13T19:26:45.896Z"
   },
   {
    "duration": 4,
    "start_time": "2023-04-13T19:26:45.910Z"
   },
   {
    "duration": 802,
    "start_time": "2023-04-13T19:26:45.915Z"
   },
   {
    "duration": 6,
    "start_time": "2023-04-13T19:26:46.719Z"
   },
   {
    "duration": 604,
    "start_time": "2023-04-13T19:26:46.727Z"
   },
   {
    "duration": 6,
    "start_time": "2023-04-13T19:26:47.332Z"
   },
   {
    "duration": 645,
    "start_time": "2023-04-13T19:26:47.341Z"
   },
   {
    "duration": 9,
    "start_time": "2023-04-13T19:26:47.988Z"
   },
   {
    "duration": 740,
    "start_time": "2023-04-13T19:26:47.999Z"
   },
   {
    "duration": 593,
    "start_time": "2023-04-13T19:26:48.741Z"
   },
   {
    "duration": 4,
    "start_time": "2023-04-13T19:26:49.335Z"
   },
   {
    "duration": 6,
    "start_time": "2023-04-13T19:26:49.340Z"
   },
   {
    "duration": 5,
    "start_time": "2023-04-13T19:26:49.347Z"
   },
   {
    "duration": 4,
    "start_time": "2023-04-13T19:26:49.354Z"
   },
   {
    "duration": 958,
    "start_time": "2023-04-13T19:26:49.359Z"
   },
   {
    "duration": 6,
    "start_time": "2023-04-13T19:26:50.319Z"
   },
   {
    "duration": 28,
    "start_time": "2023-04-13T19:26:50.327Z"
   },
   {
    "duration": 9,
    "start_time": "2023-04-13T19:26:50.357Z"
   },
   {
    "duration": 30,
    "start_time": "2023-04-13T19:26:50.367Z"
   },
   {
    "duration": 11,
    "start_time": "2023-04-13T19:26:50.399Z"
   },
   {
    "duration": 27,
    "start_time": "2023-04-13T19:26:50.411Z"
   },
   {
    "duration": 21,
    "start_time": "2023-04-13T19:26:50.440Z"
   },
   {
    "duration": 19,
    "start_time": "2023-04-13T19:26:50.462Z"
   },
   {
    "duration": 22,
    "start_time": "2023-04-13T19:26:50.482Z"
   },
   {
    "duration": 110,
    "start_time": "2023-04-13T20:33:30.314Z"
   },
   {
    "duration": 8,
    "start_time": "2023-04-14T11:33:21.989Z"
   },
   {
    "duration": 127,
    "start_time": "2023-04-14T11:33:33.936Z"
   },
   {
    "duration": 1605,
    "start_time": "2023-04-14T11:33:43.606Z"
   },
   {
    "duration": 7,
    "start_time": "2023-04-14T11:33:45.213Z"
   },
   {
    "duration": 1266,
    "start_time": "2023-04-14T11:33:45.222Z"
   },
   {
    "duration": 42,
    "start_time": "2023-04-14T11:33:46.490Z"
   },
   {
    "duration": 157,
    "start_time": "2023-04-14T11:33:46.534Z"
   },
   {
    "duration": 30,
    "start_time": "2023-04-14T11:33:46.693Z"
   },
   {
    "duration": 567,
    "start_time": "2023-04-14T11:33:46.725Z"
   },
   {
    "duration": 31,
    "start_time": "2023-04-14T11:33:47.296Z"
   },
   {
    "duration": 407,
    "start_time": "2023-04-14T11:33:47.330Z"
   },
   {
    "duration": 215,
    "start_time": "2023-04-14T11:33:47.740Z"
   },
   {
    "duration": 433,
    "start_time": "2023-04-14T11:33:47.956Z"
   },
   {
    "duration": 9,
    "start_time": "2023-04-14T11:33:48.391Z"
   },
   {
    "duration": 13,
    "start_time": "2023-04-14T11:33:48.402Z"
   },
   {
    "duration": 5,
    "start_time": "2023-04-14T11:33:48.417Z"
   },
   {
    "duration": 7,
    "start_time": "2023-04-14T11:33:48.423Z"
   },
   {
    "duration": 6,
    "start_time": "2023-04-14T11:33:48.432Z"
   },
   {
    "duration": 5,
    "start_time": "2023-04-14T11:33:48.439Z"
   },
   {
    "duration": 16,
    "start_time": "2023-04-14T11:33:48.446Z"
   },
   {
    "duration": 19,
    "start_time": "2023-04-14T11:33:48.464Z"
   },
   {
    "duration": 17,
    "start_time": "2023-04-14T11:33:48.485Z"
   },
   {
    "duration": 19,
    "start_time": "2023-04-14T11:33:48.504Z"
   },
   {
    "duration": 13,
    "start_time": "2023-04-14T11:33:48.524Z"
   },
   {
    "duration": 4,
    "start_time": "2023-04-14T11:33:48.538Z"
   },
   {
    "duration": 924,
    "start_time": "2023-04-14T11:33:48.543Z"
   },
   {
    "duration": 5,
    "start_time": "2023-04-14T11:33:49.468Z"
   },
   {
    "duration": 635,
    "start_time": "2023-04-14T11:33:49.474Z"
   },
   {
    "duration": 6,
    "start_time": "2023-04-14T11:33:50.111Z"
   },
   {
    "duration": 609,
    "start_time": "2023-04-14T11:33:50.120Z"
   },
   {
    "duration": 6,
    "start_time": "2023-04-14T11:33:50.731Z"
   },
   {
    "duration": 970,
    "start_time": "2023-04-14T11:33:50.738Z"
   },
   {
    "duration": 526,
    "start_time": "2023-04-14T11:33:51.710Z"
   },
   {
    "duration": 4,
    "start_time": "2023-04-14T11:33:52.237Z"
   },
   {
    "duration": 15,
    "start_time": "2023-04-14T11:33:52.243Z"
   },
   {
    "duration": 25,
    "start_time": "2023-04-14T11:33:52.259Z"
   },
   {
    "duration": 22,
    "start_time": "2023-04-14T11:33:52.285Z"
   },
   {
    "duration": 1216,
    "start_time": "2023-04-14T11:33:52.309Z"
   },
   {
    "duration": 6,
    "start_time": "2023-04-14T11:33:53.527Z"
   },
   {
    "duration": 17,
    "start_time": "2023-04-14T11:33:53.535Z"
   },
   {
    "duration": 7,
    "start_time": "2023-04-14T11:33:53.553Z"
   },
   {
    "duration": 41,
    "start_time": "2023-04-14T11:33:53.561Z"
   },
   {
    "duration": 4,
    "start_time": "2023-04-14T11:33:53.603Z"
   },
   {
    "duration": 2,
    "start_time": "2023-04-14T11:33:53.612Z"
   },
   {
    "duration": 12,
    "start_time": "2023-04-14T11:33:53.616Z"
   },
   {
    "duration": 5,
    "start_time": "2023-04-14T11:33:53.629Z"
   },
   {
    "duration": 7,
    "start_time": "2023-04-14T11:33:53.636Z"
   },
   {
    "duration": 8,
    "start_time": "2023-04-14T11:33:53.645Z"
   },
   {
    "duration": 6,
    "start_time": "2023-04-14T11:33:53.654Z"
   },
   {
    "duration": 5,
    "start_time": "2023-04-14T11:33:53.661Z"
   },
   {
    "duration": 157,
    "start_time": "2023-04-14T11:33:53.667Z"
   },
   {
    "duration": 5,
    "start_time": "2023-04-14T11:36:44.141Z"
   },
   {
    "duration": 91,
    "start_time": "2023-04-14T11:36:48.506Z"
   },
   {
    "duration": 91,
    "start_time": "2023-04-14T11:37:40.953Z"
   },
   {
    "duration": 76,
    "start_time": "2023-04-14T11:39:14.385Z"
   },
   {
    "duration": 2,
    "start_time": "2023-04-14T11:40:20.469Z"
   },
   {
    "duration": 77,
    "start_time": "2023-04-14T11:40:25.289Z"
   },
   {
    "duration": 2,
    "start_time": "2023-04-14T11:40:32.110Z"
   },
   {
    "duration": 19,
    "start_time": "2023-04-14T11:40:32.430Z"
   },
   {
    "duration": 3,
    "start_time": "2023-04-14T11:40:32.742Z"
   },
   {
    "duration": 5,
    "start_time": "2023-04-14T11:40:33.009Z"
   },
   {
    "duration": 3,
    "start_time": "2023-04-14T11:40:34.122Z"
   },
   {
    "duration": 2,
    "start_time": "2023-04-14T11:40:34.371Z"
   },
   {
    "duration": 2,
    "start_time": "2023-04-14T11:40:34.642Z"
   },
   {
    "duration": 363,
    "start_time": "2023-04-14T11:40:34.850Z"
   },
   {
    "duration": 3,
    "start_time": "2023-04-14T11:44:10.025Z"
   },
   {
    "duration": 3,
    "start_time": "2023-04-14T11:44:10.222Z"
   },
   {
    "duration": 2,
    "start_time": "2023-04-14T11:44:10.429Z"
   },
   {
    "duration": 12,
    "start_time": "2023-04-14T11:44:10.648Z"
   },
   {
    "duration": 3,
    "start_time": "2023-04-14T11:44:10.914Z"
   },
   {
    "duration": 5,
    "start_time": "2023-04-14T11:44:11.125Z"
   },
   {
    "duration": 2,
    "start_time": "2023-04-14T11:44:11.741Z"
   },
   {
    "duration": 2,
    "start_time": "2023-04-14T11:44:11.965Z"
   },
   {
    "duration": 2,
    "start_time": "2023-04-14T11:44:12.172Z"
   },
   {
    "duration": 2515,
    "start_time": "2023-04-14T11:44:12.422Z"
   },
   {
    "duration": 77,
    "start_time": "2023-04-14T11:53:08.165Z"
   },
   {
    "duration": 75,
    "start_time": "2023-04-14T11:53:20.685Z"
   },
   {
    "duration": 1298,
    "start_time": "2023-04-14T11:53:48.038Z"
   },
   {
    "duration": 6,
    "start_time": "2023-04-14T11:53:49.339Z"
   },
   {
    "duration": 269,
    "start_time": "2023-04-14T11:53:49.346Z"
   },
   {
    "duration": 30,
    "start_time": "2023-04-14T11:53:49.617Z"
   },
   {
    "duration": 71,
    "start_time": "2023-04-14T11:53:49.649Z"
   },
   {
    "duration": 24,
    "start_time": "2023-04-14T11:53:49.722Z"
   },
   {
    "duration": 324,
    "start_time": "2023-04-14T11:53:49.747Z"
   },
   {
    "duration": 34,
    "start_time": "2023-04-14T11:53:50.073Z"
   },
   {
    "duration": 447,
    "start_time": "2023-04-14T11:53:50.109Z"
   },
   {
    "duration": 207,
    "start_time": "2023-04-14T11:53:50.558Z"
   },
   {
    "duration": 394,
    "start_time": "2023-04-14T11:53:50.766Z"
   },
   {
    "duration": 2,
    "start_time": "2023-04-14T11:53:51.162Z"
   },
   {
    "duration": 13,
    "start_time": "2023-04-14T11:53:51.166Z"
   },
   {
    "duration": 15,
    "start_time": "2023-04-14T11:53:51.180Z"
   },
   {
    "duration": 6,
    "start_time": "2023-04-14T11:53:51.197Z"
   },
   {
    "duration": 8,
    "start_time": "2023-04-14T11:53:51.205Z"
   },
   {
    "duration": 12,
    "start_time": "2023-04-14T11:53:51.215Z"
   },
   {
    "duration": 28,
    "start_time": "2023-04-14T11:53:51.229Z"
   },
   {
    "duration": 15,
    "start_time": "2023-04-14T11:53:51.258Z"
   },
   {
    "duration": 11,
    "start_time": "2023-04-14T11:53:51.276Z"
   },
   {
    "duration": 22,
    "start_time": "2023-04-14T11:53:51.289Z"
   },
   {
    "duration": 11,
    "start_time": "2023-04-14T11:53:51.312Z"
   },
   {
    "duration": 10,
    "start_time": "2023-04-14T11:53:51.325Z"
   },
   {
    "duration": 880,
    "start_time": "2023-04-14T11:53:51.336Z"
   },
   {
    "duration": 5,
    "start_time": "2023-04-14T11:53:52.218Z"
   },
   {
    "duration": 616,
    "start_time": "2023-04-14T11:53:52.224Z"
   },
   {
    "duration": 5,
    "start_time": "2023-04-14T11:53:52.842Z"
   },
   {
    "duration": 653,
    "start_time": "2023-04-14T11:53:52.851Z"
   },
   {
    "duration": 7,
    "start_time": "2023-04-14T11:53:53.507Z"
   },
   {
    "duration": 1083,
    "start_time": "2023-04-14T11:53:53.516Z"
   },
   {
    "duration": 502,
    "start_time": "2023-04-14T11:53:54.600Z"
   },
   {
    "duration": 4,
    "start_time": "2023-04-14T11:53:55.104Z"
   },
   {
    "duration": 9,
    "start_time": "2023-04-14T11:53:55.109Z"
   },
   {
    "duration": 5,
    "start_time": "2023-04-14T11:53:55.119Z"
   },
   {
    "duration": 8,
    "start_time": "2023-04-14T11:53:55.125Z"
   },
   {
    "duration": 1092,
    "start_time": "2023-04-14T11:53:55.135Z"
   },
   {
    "duration": 6,
    "start_time": "2023-04-14T11:53:56.229Z"
   },
   {
    "duration": 13,
    "start_time": "2023-04-14T11:53:56.236Z"
   },
   {
    "duration": 6,
    "start_time": "2023-04-14T11:53:56.251Z"
   },
   {
    "duration": 39,
    "start_time": "2023-04-14T11:53:56.258Z"
   },
   {
    "duration": 6,
    "start_time": "2023-04-14T11:53:56.298Z"
   },
   {
    "duration": 14,
    "start_time": "2023-04-14T11:53:56.305Z"
   },
   {
    "duration": 3,
    "start_time": "2023-04-14T11:53:56.321Z"
   },
   {
    "duration": 11,
    "start_time": "2023-04-14T11:53:56.326Z"
   },
   {
    "duration": 5,
    "start_time": "2023-04-14T11:53:56.338Z"
   },
   {
    "duration": 15,
    "start_time": "2023-04-14T11:53:56.345Z"
   },
   {
    "duration": 15,
    "start_time": "2023-04-14T11:53:56.361Z"
   },
   {
    "duration": 71,
    "start_time": "2023-04-14T11:53:56.378Z"
   },
   {
    "duration": 951,
    "start_time": "2023-04-14T11:56:21.224Z"
   },
   {
    "duration": 630,
    "start_time": "2023-04-14T11:56:28.468Z"
   },
   {
    "duration": 1399,
    "start_time": "2023-04-14T11:56:59.999Z"
   },
   {
    "duration": 9,
    "start_time": "2023-04-14T11:57:51.999Z"
   },
   {
    "duration": 2,
    "start_time": "2023-04-14T11:58:20.639Z"
   },
   {
    "duration": 10,
    "start_time": "2023-04-14T11:58:20.959Z"
   },
   {
    "duration": 3,
    "start_time": "2023-04-14T12:03:36.216Z"
   },
   {
    "duration": 12,
    "start_time": "2023-04-14T12:03:36.524Z"
   },
   {
    "duration": 1584,
    "start_time": "2023-04-14T12:03:37.211Z"
   },
   {
    "duration": 12,
    "start_time": "2023-04-14T12:05:57.616Z"
   },
   {
    "duration": 11,
    "start_time": "2023-04-14T12:06:15.944Z"
   },
   {
    "duration": 12,
    "start_time": "2023-04-14T12:09:00.755Z"
   },
   {
    "duration": 78,
    "start_time": "2023-04-14T12:13:48.052Z"
   },
   {
    "duration": 81,
    "start_time": "2023-04-14T12:15:14.854Z"
   },
   {
    "duration": 74,
    "start_time": "2023-04-14T12:16:11.243Z"
   },
   {
    "duration": 89,
    "start_time": "2023-04-14T12:16:22.386Z"
   },
   {
    "duration": 2,
    "start_time": "2023-04-14T12:16:47.234Z"
   },
   {
    "duration": 13,
    "start_time": "2023-04-14T12:16:51.582Z"
   },
   {
    "duration": 10,
    "start_time": "2023-04-14T12:20:44.812Z"
   },
   {
    "duration": 3,
    "start_time": "2023-04-14T12:20:48.571Z"
   },
   {
    "duration": 1653,
    "start_time": "2023-04-14T12:22:52.260Z"
   },
   {
    "duration": 6,
    "start_time": "2023-04-14T12:22:53.915Z"
   },
   {
    "duration": 309,
    "start_time": "2023-04-14T12:22:53.923Z"
   },
   {
    "duration": 42,
    "start_time": "2023-04-14T12:22:54.235Z"
   },
   {
    "duration": 89,
    "start_time": "2023-04-14T12:22:54.282Z"
   },
   {
    "duration": 40,
    "start_time": "2023-04-14T12:22:54.373Z"
   },
   {
    "duration": 333,
    "start_time": "2023-04-14T12:22:54.415Z"
   },
   {
    "duration": 35,
    "start_time": "2023-04-14T12:22:54.750Z"
   },
   {
    "duration": 418,
    "start_time": "2023-04-14T12:22:54.793Z"
   },
   {
    "duration": 229,
    "start_time": "2023-04-14T12:22:55.213Z"
   },
   {
    "duration": 473,
    "start_time": "2023-04-14T12:22:55.444Z"
   },
   {
    "duration": 4,
    "start_time": "2023-04-14T12:22:55.919Z"
   },
   {
    "duration": 7,
    "start_time": "2023-04-14T12:22:55.924Z"
   },
   {
    "duration": 7,
    "start_time": "2023-04-14T12:22:55.932Z"
   },
   {
    "duration": 4,
    "start_time": "2023-04-14T12:22:55.941Z"
   },
   {
    "duration": 5,
    "start_time": "2023-04-14T12:22:55.947Z"
   },
   {
    "duration": 44,
    "start_time": "2023-04-14T12:22:55.953Z"
   },
   {
    "duration": 21,
    "start_time": "2023-04-14T12:22:55.999Z"
   },
   {
    "duration": 14,
    "start_time": "2023-04-14T12:22:56.022Z"
   },
   {
    "duration": 9,
    "start_time": "2023-04-14T12:22:56.038Z"
   },
   {
    "duration": 52,
    "start_time": "2023-04-14T12:22:56.049Z"
   },
   {
    "duration": 15,
    "start_time": "2023-04-14T12:22:56.103Z"
   },
   {
    "duration": 5,
    "start_time": "2023-04-14T12:22:56.119Z"
   },
   {
    "duration": 1076,
    "start_time": "2023-04-14T12:22:56.125Z"
   },
   {
    "duration": 6,
    "start_time": "2023-04-14T12:22:57.203Z"
   },
   {
    "duration": 711,
    "start_time": "2023-04-14T12:22:57.211Z"
   },
   {
    "duration": 7,
    "start_time": "2023-04-14T12:22:57.925Z"
   },
   {
    "duration": 764,
    "start_time": "2023-04-14T12:22:57.935Z"
   },
   {
    "duration": 7,
    "start_time": "2023-04-14T12:22:58.702Z"
   },
   {
    "duration": 1193,
    "start_time": "2023-04-14T12:22:58.711Z"
   },
   {
    "duration": 572,
    "start_time": "2023-04-14T12:22:59.906Z"
   },
   {
    "duration": 5,
    "start_time": "2023-04-14T12:23:00.481Z"
   },
   {
    "duration": 47,
    "start_time": "2023-04-14T12:23:00.495Z"
   },
   {
    "duration": 58,
    "start_time": "2023-04-14T12:23:00.544Z"
   },
   {
    "duration": 25,
    "start_time": "2023-04-14T12:23:00.605Z"
   },
   {
    "duration": 1368,
    "start_time": "2023-04-14T12:23:00.632Z"
   },
   {
    "duration": 7,
    "start_time": "2023-04-14T12:23:02.003Z"
   },
   {
    "duration": 92,
    "start_time": "2023-04-14T12:23:02.012Z"
   },
   {
    "duration": 40,
    "start_time": "2023-04-14T12:23:02.106Z"
   },
   {
    "duration": 61,
    "start_time": "2023-04-14T12:23:02.148Z"
   },
   {
    "duration": 27,
    "start_time": "2023-04-14T12:23:02.211Z"
   },
   {
    "duration": 37,
    "start_time": "2023-04-14T12:23:02.240Z"
   },
   {
    "duration": 34,
    "start_time": "2023-04-14T12:23:02.278Z"
   },
   {
    "duration": 30,
    "start_time": "2023-04-14T12:23:02.314Z"
   },
   {
    "duration": 35,
    "start_time": "2023-04-14T12:23:02.346Z"
   },
   {
    "duration": 33,
    "start_time": "2023-04-14T12:23:02.384Z"
   },
   {
    "duration": 23,
    "start_time": "2023-04-14T12:23:02.419Z"
   },
   {
    "duration": 21,
    "start_time": "2023-04-14T12:23:02.444Z"
   },
   {
    "duration": 0,
    "start_time": "2023-04-14T12:23:02.467Z"
   },
   {
    "duration": 1,
    "start_time": "2023-04-14T12:23:02.468Z"
   },
   {
    "duration": 4,
    "start_time": "2023-04-14T12:23:21.699Z"
   },
   {
    "duration": 1424,
    "start_time": "2023-04-14T12:23:22.571Z"
   },
   {
    "duration": 102,
    "start_time": "2023-04-14T12:24:52.310Z"
   },
   {
    "duration": 12,
    "start_time": "2023-04-14T12:25:03.769Z"
   },
   {
    "duration": 13,
    "start_time": "2023-04-14T12:27:48.636Z"
   },
   {
    "duration": 14,
    "start_time": "2023-04-14T12:27:57.506Z"
   },
   {
    "duration": 14,
    "start_time": "2023-04-14T12:29:50.714Z"
   },
   {
    "duration": 13,
    "start_time": "2023-04-14T12:32:50.568Z"
   },
   {
    "duration": 15,
    "start_time": "2023-04-14T12:34:26.328Z"
   },
   {
    "duration": 14,
    "start_time": "2023-04-14T12:34:37.176Z"
   },
   {
    "duration": 1135,
    "start_time": "2023-04-14T12:35:38.560Z"
   },
   {
    "duration": 2755,
    "start_time": "2023-04-14T12:36:21.645Z"
   },
   {
    "duration": 2256,
    "start_time": "2023-04-14T12:36:31.052Z"
   },
   {
    "duration": 1302,
    "start_time": "2023-04-14T12:42:40.156Z"
   },
   {
    "duration": 6,
    "start_time": "2023-04-14T12:42:41.460Z"
   },
   {
    "duration": 252,
    "start_time": "2023-04-14T12:42:41.468Z"
   },
   {
    "duration": 30,
    "start_time": "2023-04-14T12:42:41.722Z"
   },
   {
    "duration": 72,
    "start_time": "2023-04-14T12:42:41.753Z"
   },
   {
    "duration": 26,
    "start_time": "2023-04-14T12:42:41.827Z"
   },
   {
    "duration": 325,
    "start_time": "2023-04-14T12:42:41.854Z"
   },
   {
    "duration": 31,
    "start_time": "2023-04-14T12:42:42.181Z"
   },
   {
    "duration": 394,
    "start_time": "2023-04-14T12:42:42.214Z"
   },
   {
    "duration": 191,
    "start_time": "2023-04-14T12:42:42.610Z"
   },
   {
    "duration": 402,
    "start_time": "2023-04-14T12:42:42.802Z"
   },
   {
    "duration": 3,
    "start_time": "2023-04-14T12:42:43.206Z"
   },
   {
    "duration": 7,
    "start_time": "2023-04-14T12:42:43.210Z"
   },
   {
    "duration": 7,
    "start_time": "2023-04-14T12:42:43.218Z"
   },
   {
    "duration": 10,
    "start_time": "2023-04-14T12:42:43.226Z"
   },
   {
    "duration": 22,
    "start_time": "2023-04-14T12:42:43.238Z"
   },
   {
    "duration": 5,
    "start_time": "2023-04-14T12:42:43.262Z"
   },
   {
    "duration": 16,
    "start_time": "2023-04-14T12:42:43.268Z"
   },
   {
    "duration": 17,
    "start_time": "2023-04-14T12:42:43.285Z"
   },
   {
    "duration": 8,
    "start_time": "2023-04-14T12:42:43.303Z"
   },
   {
    "duration": 18,
    "start_time": "2023-04-14T12:42:43.312Z"
   },
   {
    "duration": 12,
    "start_time": "2023-04-14T12:42:43.332Z"
   },
   {
    "duration": 5,
    "start_time": "2023-04-14T12:42:43.345Z"
   },
   {
    "duration": 938,
    "start_time": "2023-04-14T12:42:43.351Z"
   },
   {
    "duration": 5,
    "start_time": "2023-04-14T12:42:44.293Z"
   },
   {
    "duration": 572,
    "start_time": "2023-04-14T12:42:44.300Z"
   },
   {
    "duration": 4,
    "start_time": "2023-04-14T12:42:44.874Z"
   },
   {
    "duration": 552,
    "start_time": "2023-04-14T12:42:44.881Z"
   },
   {
    "duration": 6,
    "start_time": "2023-04-14T12:42:45.434Z"
   },
   {
    "duration": 888,
    "start_time": "2023-04-14T12:42:45.441Z"
   },
   {
    "duration": 479,
    "start_time": "2023-04-14T12:42:46.331Z"
   },
   {
    "duration": 4,
    "start_time": "2023-04-14T12:42:46.812Z"
   },
   {
    "duration": 9,
    "start_time": "2023-04-14T12:42:46.817Z"
   },
   {
    "duration": 9,
    "start_time": "2023-04-14T12:42:46.828Z"
   },
   {
    "duration": 5,
    "start_time": "2023-04-14T12:42:46.839Z"
   },
   {
    "duration": 1103,
    "start_time": "2023-04-14T12:42:46.845Z"
   },
   {
    "duration": 5,
    "start_time": "2023-04-14T12:42:47.949Z"
   },
   {
    "duration": 12,
    "start_time": "2023-04-14T12:42:47.956Z"
   },
   {
    "duration": 24,
    "start_time": "2023-04-14T12:42:47.970Z"
   },
   {
    "duration": 16,
    "start_time": "2023-04-14T12:42:47.996Z"
   },
   {
    "duration": 3,
    "start_time": "2023-04-14T12:42:48.014Z"
   },
   {
    "duration": 8,
    "start_time": "2023-04-14T12:42:48.018Z"
   },
   {
    "duration": 26,
    "start_time": "2023-04-14T12:42:48.028Z"
   },
   {
    "duration": 11,
    "start_time": "2023-04-14T12:42:48.056Z"
   },
   {
    "duration": 19,
    "start_time": "2023-04-14T12:42:48.068Z"
   },
   {
    "duration": 29,
    "start_time": "2023-04-14T12:42:48.089Z"
   },
   {
    "duration": 2082,
    "start_time": "2023-04-14T12:42:48.120Z"
   },
   {
    "duration": 13522,
    "start_time": "2023-04-14T12:42:50.295Z"
   },
   {
    "duration": 7928,
    "start_time": "2023-04-14T12:44:33.147Z"
   },
   {
    "duration": 5,
    "start_time": "2023-04-14T12:56:19.381Z"
   },
   {
    "duration": 4,
    "start_time": "2023-04-14T12:56:55.372Z"
   },
   {
    "duration": 70,
    "start_time": "2023-04-14T12:59:50.251Z"
   },
   {
    "duration": 5,
    "start_time": "2023-04-14T12:59:58.511Z"
   },
   {
    "duration": 6,
    "start_time": "2023-04-14T13:00:36.858Z"
   },
   {
    "duration": 133,
    "start_time": "2023-04-14T13:01:53.402Z"
   },
   {
    "duration": 4150,
    "start_time": "2023-04-14T13:02:23.739Z"
   },
   {
    "duration": 4,
    "start_time": "2023-04-14T13:02:27.892Z"
   },
   {
    "duration": 32,
    "start_time": "2023-04-14T13:02:27.898Z"
   },
   {
    "duration": 2008,
    "start_time": "2023-04-14T13:02:47.819Z"
   },
   {
    "duration": 2139,
    "start_time": "2023-04-14T13:02:51.772Z"
   },
   {
    "duration": 4,
    "start_time": "2023-04-14T13:02:53.914Z"
   },
   {
    "duration": 47,
    "start_time": "2023-04-14T13:02:57.751Z"
   },
   {
    "duration": 5,
    "start_time": "2023-04-14T13:04:23.772Z"
   },
   {
    "duration": 1983,
    "start_time": "2023-04-14T13:04:24.092Z"
   },
   {
    "duration": 4,
    "start_time": "2023-04-14T13:04:26.079Z"
   },
   {
    "duration": 4,
    "start_time": "2023-04-14T13:08:40.677Z"
   },
   {
    "duration": 4,
    "start_time": "2023-04-14T13:15:36.465Z"
   },
   {
    "duration": 25,
    "start_time": "2023-04-14T13:15:36.471Z"
   },
   {
    "duration": 0,
    "start_time": "2023-04-14T13:15:36.531Z"
   },
   {
    "duration": 5,
    "start_time": "2023-04-14T13:18:40.021Z"
   },
   {
    "duration": 4,
    "start_time": "2023-04-14T13:18:52.622Z"
   },
   {
    "duration": 21,
    "start_time": "2023-04-14T13:19:34.352Z"
   },
   {
    "duration": 15,
    "start_time": "2023-04-14T13:34:22.175Z"
   },
   {
    "duration": 4,
    "start_time": "2023-04-14T13:34:38.220Z"
   },
   {
    "duration": 4,
    "start_time": "2023-04-14T13:36:29.016Z"
   },
   {
    "duration": 25,
    "start_time": "2023-04-14T13:36:38.795Z"
   },
   {
    "duration": 1759,
    "start_time": "2023-04-14T19:45:13.787Z"
   },
   {
    "duration": 7,
    "start_time": "2023-04-14T19:45:15.549Z"
   },
   {
    "duration": 1410,
    "start_time": "2023-04-14T19:45:15.560Z"
   },
   {
    "duration": 33,
    "start_time": "2023-04-14T19:45:16.977Z"
   },
   {
    "duration": 162,
    "start_time": "2023-04-14T19:45:17.012Z"
   },
   {
    "duration": 31,
    "start_time": "2023-04-14T19:45:17.177Z"
   },
   {
    "duration": 675,
    "start_time": "2023-04-14T19:45:17.209Z"
   },
   {
    "duration": 36,
    "start_time": "2023-04-14T19:45:17.886Z"
   },
   {
    "duration": 425,
    "start_time": "2023-04-14T19:45:17.924Z"
   },
   {
    "duration": 203,
    "start_time": "2023-04-14T19:45:18.356Z"
   },
   {
    "duration": 440,
    "start_time": "2023-04-14T19:45:18.561Z"
   },
   {
    "duration": 7,
    "start_time": "2023-04-14T19:45:19.003Z"
   },
   {
    "duration": 8,
    "start_time": "2023-04-14T19:45:19.012Z"
   },
   {
    "duration": 9,
    "start_time": "2023-04-14T19:45:19.021Z"
   },
   {
    "duration": 10,
    "start_time": "2023-04-14T19:45:19.032Z"
   },
   {
    "duration": 5,
    "start_time": "2023-04-14T19:45:19.046Z"
   },
   {
    "duration": 5,
    "start_time": "2023-04-14T19:45:19.058Z"
   },
   {
    "duration": 24,
    "start_time": "2023-04-14T19:45:19.065Z"
   },
   {
    "duration": 16,
    "start_time": "2023-04-14T19:45:19.091Z"
   },
   {
    "duration": 16,
    "start_time": "2023-04-14T19:45:19.110Z"
   },
   {
    "duration": 26,
    "start_time": "2023-04-14T19:45:19.127Z"
   },
   {
    "duration": 21,
    "start_time": "2023-04-14T19:45:19.154Z"
   },
   {
    "duration": 4,
    "start_time": "2023-04-14T19:45:19.177Z"
   },
   {
    "duration": 903,
    "start_time": "2023-04-14T19:45:19.183Z"
   },
   {
    "duration": 7,
    "start_time": "2023-04-14T19:45:20.088Z"
   },
   {
    "duration": 620,
    "start_time": "2023-04-14T19:45:20.096Z"
   },
   {
    "duration": 7,
    "start_time": "2023-04-14T19:45:20.718Z"
   },
   {
    "duration": 749,
    "start_time": "2023-04-14T19:45:20.728Z"
   },
   {
    "duration": 5,
    "start_time": "2023-04-14T19:45:21.479Z"
   },
   {
    "duration": 844,
    "start_time": "2023-04-14T19:45:21.486Z"
   },
   {
    "duration": 764,
    "start_time": "2023-04-14T19:45:22.340Z"
   },
   {
    "duration": 4,
    "start_time": "2023-04-14T19:45:23.106Z"
   },
   {
    "duration": 5,
    "start_time": "2023-04-14T19:45:23.112Z"
   },
   {
    "duration": 6,
    "start_time": "2023-04-14T19:45:23.118Z"
   },
   {
    "duration": 22,
    "start_time": "2023-04-14T19:45:23.126Z"
   },
   {
    "duration": 1054,
    "start_time": "2023-04-14T19:45:23.165Z"
   },
   {
    "duration": 36,
    "start_time": "2023-04-14T19:45:24.221Z"
   },
   {
    "duration": 18,
    "start_time": "2023-04-14T19:45:24.258Z"
   },
   {
    "duration": 8,
    "start_time": "2023-04-14T19:45:24.278Z"
   },
   {
    "duration": 17,
    "start_time": "2023-04-14T19:45:24.287Z"
   },
   {
    "duration": 5,
    "start_time": "2023-04-14T19:45:24.306Z"
   },
   {
    "duration": 5,
    "start_time": "2023-04-14T19:45:24.313Z"
   },
   {
    "duration": 5,
    "start_time": "2023-04-14T19:45:24.320Z"
   },
   {
    "duration": 18,
    "start_time": "2023-04-14T19:45:24.327Z"
   },
   {
    "duration": 10,
    "start_time": "2023-04-14T19:45:24.346Z"
   },
   {
    "duration": 10,
    "start_time": "2023-04-14T19:45:24.358Z"
   },
   {
    "duration": 130,
    "start_time": "2023-04-14T19:45:24.370Z"
   },
   {
    "duration": 0,
    "start_time": "2023-04-14T19:45:24.502Z"
   },
   {
    "duration": 0,
    "start_time": "2023-04-14T19:45:24.504Z"
   },
   {
    "duration": 0,
    "start_time": "2023-04-14T19:45:24.504Z"
   },
   {
    "duration": 0,
    "start_time": "2023-04-14T19:45:24.506Z"
   },
   {
    "duration": 6,
    "start_time": "2023-04-14T19:45:56.078Z"
   },
   {
    "duration": 16,
    "start_time": "2023-04-14T19:45:56.620Z"
   },
   {
    "duration": 5,
    "start_time": "2023-04-14T19:49:12.664Z"
   },
   {
    "duration": 1536,
    "start_time": "2023-04-14T19:53:59.499Z"
   },
   {
    "duration": 20,
    "start_time": "2023-04-14T19:54:01.043Z"
   },
   {
    "duration": 314,
    "start_time": "2023-04-14T19:54:01.069Z"
   },
   {
    "duration": 51,
    "start_time": "2023-04-14T19:54:01.389Z"
   },
   {
    "duration": 88,
    "start_time": "2023-04-14T19:54:01.446Z"
   },
   {
    "duration": 40,
    "start_time": "2023-04-14T19:54:01.535Z"
   },
   {
    "duration": 379,
    "start_time": "2023-04-14T19:54:01.579Z"
   },
   {
    "duration": 31,
    "start_time": "2023-04-14T19:54:01.966Z"
   },
   {
    "duration": 469,
    "start_time": "2023-04-14T19:54:01.999Z"
   },
   {
    "duration": 239,
    "start_time": "2023-04-14T19:54:02.470Z"
   },
   {
    "duration": 538,
    "start_time": "2023-04-14T19:54:02.711Z"
   },
   {
    "duration": 15,
    "start_time": "2023-04-14T19:54:03.258Z"
   },
   {
    "duration": 5,
    "start_time": "2023-04-14T19:54:03.276Z"
   },
   {
    "duration": 21,
    "start_time": "2023-04-14T19:54:03.282Z"
   },
   {
    "duration": 33,
    "start_time": "2023-04-14T19:54:03.305Z"
   },
   {
    "duration": 10,
    "start_time": "2023-04-14T19:54:03.343Z"
   },
   {
    "duration": 8,
    "start_time": "2023-04-14T19:54:03.354Z"
   },
   {
    "duration": 19,
    "start_time": "2023-04-14T19:54:03.363Z"
   },
   {
    "duration": 12,
    "start_time": "2023-04-14T19:54:03.384Z"
   },
   {
    "duration": 6,
    "start_time": "2023-04-14T19:54:03.398Z"
   },
   {
    "duration": 49,
    "start_time": "2023-04-14T19:54:03.405Z"
   },
   {
    "duration": 18,
    "start_time": "2023-04-14T19:54:03.459Z"
   },
   {
    "duration": 7,
    "start_time": "2023-04-14T19:54:03.480Z"
   },
   {
    "duration": 920,
    "start_time": "2023-04-14T19:54:03.489Z"
   },
   {
    "duration": 6,
    "start_time": "2023-04-14T19:54:04.412Z"
   },
   {
    "duration": 678,
    "start_time": "2023-04-14T19:54:04.420Z"
   },
   {
    "duration": 7,
    "start_time": "2023-04-14T19:54:05.100Z"
   },
   {
    "duration": 622,
    "start_time": "2023-04-14T19:54:05.111Z"
   },
   {
    "duration": 14,
    "start_time": "2023-04-14T19:54:05.738Z"
   },
   {
    "duration": 1025,
    "start_time": "2023-04-14T19:54:05.760Z"
   },
   {
    "duration": 602,
    "start_time": "2023-04-14T19:54:06.787Z"
   },
   {
    "duration": 5,
    "start_time": "2023-04-14T19:54:07.390Z"
   },
   {
    "duration": 23,
    "start_time": "2023-04-14T19:54:07.397Z"
   },
   {
    "duration": 24,
    "start_time": "2023-04-14T19:54:07.422Z"
   },
   {
    "duration": 15,
    "start_time": "2023-04-14T19:54:07.448Z"
   },
   {
    "duration": 1220,
    "start_time": "2023-04-14T19:54:07.464Z"
   },
   {
    "duration": 8,
    "start_time": "2023-04-14T19:54:08.686Z"
   },
   {
    "duration": 14,
    "start_time": "2023-04-14T19:54:08.696Z"
   },
   {
    "duration": 37,
    "start_time": "2023-04-14T19:54:08.712Z"
   },
   {
    "duration": 24,
    "start_time": "2023-04-14T19:54:08.752Z"
   },
   {
    "duration": 3,
    "start_time": "2023-04-14T19:54:08.778Z"
   },
   {
    "duration": 5,
    "start_time": "2023-04-14T19:54:08.783Z"
   },
   {
    "duration": 4,
    "start_time": "2023-04-14T19:54:08.789Z"
   },
   {
    "duration": 6,
    "start_time": "2023-04-14T19:54:08.795Z"
   },
   {
    "duration": 6,
    "start_time": "2023-04-14T19:54:08.803Z"
   },
   {
    "duration": 13,
    "start_time": "2023-04-14T19:54:08.810Z"
   },
   {
    "duration": 6922,
    "start_time": "2023-04-14T19:54:08.824Z"
   },
   {
    "duration": 29,
    "start_time": "2023-04-14T19:54:15.751Z"
   },
   {
    "duration": 52,
    "start_time": "2023-04-14T19:59:48.324Z"
   },
   {
    "duration": 860,
    "start_time": "2023-04-14T20:00:10.996Z"
   },
   {
    "duration": 62,
    "start_time": "2023-04-14T20:00:11.863Z"
   },
   {
    "duration": 21,
    "start_time": "2023-04-14T20:00:12.029Z"
   },
   {
    "duration": 605,
    "start_time": "2023-04-14T20:00:21.884Z"
   },
   {
    "duration": 9,
    "start_time": "2023-04-14T20:00:22.493Z"
   },
   {
    "duration": 400,
    "start_time": "2023-04-14T20:00:22.505Z"
   },
   {
    "duration": 57,
    "start_time": "2023-04-14T20:00:22.908Z"
   },
   {
    "duration": 114,
    "start_time": "2023-04-14T20:00:22.975Z"
   },
   {
    "duration": 40,
    "start_time": "2023-04-14T20:00:23.097Z"
   },
   {
    "duration": 416,
    "start_time": "2023-04-14T20:00:23.140Z"
   },
   {
    "duration": 33,
    "start_time": "2023-04-14T20:00:23.561Z"
   },
   {
    "duration": 474,
    "start_time": "2023-04-14T20:00:23.596Z"
   },
   {
    "duration": 305,
    "start_time": "2023-04-14T20:00:24.073Z"
   },
   {
    "duration": 481,
    "start_time": "2023-04-14T20:00:24.380Z"
   },
   {
    "duration": 5,
    "start_time": "2023-04-14T20:00:24.864Z"
   },
   {
    "duration": 10,
    "start_time": "2023-04-14T20:00:24.871Z"
   },
   {
    "duration": 9,
    "start_time": "2023-04-14T20:00:24.882Z"
   },
   {
    "duration": 10,
    "start_time": "2023-04-14T20:00:24.893Z"
   },
   {
    "duration": 5,
    "start_time": "2023-04-14T20:00:24.905Z"
   },
   {
    "duration": 8,
    "start_time": "2023-04-14T20:00:24.911Z"
   },
   {
    "duration": 36,
    "start_time": "2023-04-14T20:00:24.921Z"
   },
   {
    "duration": 16,
    "start_time": "2023-04-14T20:00:24.961Z"
   },
   {
    "duration": 8,
    "start_time": "2023-04-14T20:00:24.979Z"
   },
   {
    "duration": 26,
    "start_time": "2023-04-14T20:00:24.990Z"
   },
   {
    "duration": 47,
    "start_time": "2023-04-14T20:00:25.018Z"
   },
   {
    "duration": 5,
    "start_time": "2023-04-14T20:00:25.068Z"
   },
   {
    "duration": 1046,
    "start_time": "2023-04-14T20:00:25.075Z"
   },
   {
    "duration": 13,
    "start_time": "2023-04-14T20:00:26.123Z"
   },
   {
    "duration": 788,
    "start_time": "2023-04-14T20:00:26.141Z"
   },
   {
    "duration": 18,
    "start_time": "2023-04-14T20:00:26.936Z"
   },
   {
    "duration": 844,
    "start_time": "2023-04-14T20:00:26.962Z"
   },
   {
    "duration": 6,
    "start_time": "2023-04-14T20:00:27.808Z"
   },
   {
    "duration": 945,
    "start_time": "2023-04-14T20:00:27.815Z"
   },
   {
    "duration": 754,
    "start_time": "2023-04-14T20:00:28.764Z"
   },
   {
    "duration": 4,
    "start_time": "2023-04-14T20:00:29.520Z"
   },
   {
    "duration": 28,
    "start_time": "2023-04-14T20:00:29.526Z"
   },
   {
    "duration": 8,
    "start_time": "2023-04-14T20:00:29.559Z"
   },
   {
    "duration": 6,
    "start_time": "2023-04-14T20:00:29.569Z"
   },
   {
    "duration": 1255,
    "start_time": "2023-04-14T20:00:29.577Z"
   },
   {
    "duration": 18,
    "start_time": "2023-04-14T20:00:30.838Z"
   },
   {
    "duration": 33,
    "start_time": "2023-04-14T20:00:30.858Z"
   },
   {
    "duration": 35,
    "start_time": "2023-04-14T20:00:30.894Z"
   },
   {
    "duration": 59,
    "start_time": "2023-04-14T20:00:30.931Z"
   },
   {
    "duration": 24,
    "start_time": "2023-04-14T20:00:30.993Z"
   },
   {
    "duration": 49,
    "start_time": "2023-04-14T20:00:31.019Z"
   },
   {
    "duration": 21,
    "start_time": "2023-04-14T20:00:31.070Z"
   },
   {
    "duration": 12,
    "start_time": "2023-04-14T20:00:31.093Z"
   },
   {
    "duration": 21,
    "start_time": "2023-04-14T20:00:31.107Z"
   },
   {
    "duration": 30,
    "start_time": "2023-04-14T20:00:31.130Z"
   },
   {
    "duration": 5993,
    "start_time": "2023-04-14T20:00:31.164Z"
   },
   {
    "duration": 78,
    "start_time": "2023-04-14T20:00:37.160Z"
   },
   {
    "duration": 1459,
    "start_time": "2023-04-14T20:00:57.231Z"
   },
   {
    "duration": 6,
    "start_time": "2023-04-14T20:00:58.693Z"
   },
   {
    "duration": 290,
    "start_time": "2023-04-14T20:00:58.700Z"
   },
   {
    "duration": 30,
    "start_time": "2023-04-14T20:00:58.992Z"
   },
   {
    "duration": 78,
    "start_time": "2023-04-14T20:00:59.024Z"
   },
   {
    "duration": 23,
    "start_time": "2023-04-14T20:00:59.103Z"
   },
   {
    "duration": 339,
    "start_time": "2023-04-14T20:00:59.128Z"
   },
   {
    "duration": 28,
    "start_time": "2023-04-14T20:00:59.472Z"
   },
   {
    "duration": 439,
    "start_time": "2023-04-14T20:00:59.502Z"
   },
   {
    "duration": 206,
    "start_time": "2023-04-14T20:00:59.942Z"
   },
   {
    "duration": 410,
    "start_time": "2023-04-14T20:01:00.150Z"
   },
   {
    "duration": 3,
    "start_time": "2023-04-14T20:01:00.562Z"
   },
   {
    "duration": 67,
    "start_time": "2023-04-14T20:01:00.566Z"
   },
   {
    "duration": 34,
    "start_time": "2023-04-14T20:01:00.637Z"
   },
   {
    "duration": 37,
    "start_time": "2023-04-14T20:01:00.673Z"
   },
   {
    "duration": 30,
    "start_time": "2023-04-14T20:01:00.712Z"
   },
   {
    "duration": 49,
    "start_time": "2023-04-14T20:01:00.744Z"
   },
   {
    "duration": 53,
    "start_time": "2023-04-14T20:01:00.795Z"
   },
   {
    "duration": 55,
    "start_time": "2023-04-14T20:01:00.850Z"
   },
   {
    "duration": 33,
    "start_time": "2023-04-14T20:01:00.906Z"
   },
   {
    "duration": 68,
    "start_time": "2023-04-14T20:01:00.941Z"
   },
   {
    "duration": 51,
    "start_time": "2023-04-14T20:01:01.011Z"
   },
   {
    "duration": 45,
    "start_time": "2023-04-14T20:01:01.069Z"
   },
   {
    "duration": 984,
    "start_time": "2023-04-14T20:01:01.115Z"
   },
   {
    "duration": 6,
    "start_time": "2023-04-14T20:01:02.101Z"
   },
   {
    "duration": 740,
    "start_time": "2023-04-14T20:01:02.109Z"
   },
   {
    "duration": 9,
    "start_time": "2023-04-14T20:01:02.855Z"
   },
   {
    "duration": 589,
    "start_time": "2023-04-14T20:01:02.866Z"
   },
   {
    "duration": 6,
    "start_time": "2023-04-14T20:01:03.457Z"
   },
   {
    "duration": 947,
    "start_time": "2023-04-14T20:01:03.465Z"
   },
   {
    "duration": 566,
    "start_time": "2023-04-14T20:01:04.414Z"
   },
   {
    "duration": 5,
    "start_time": "2023-04-14T20:01:04.982Z"
   },
   {
    "duration": 11,
    "start_time": "2023-04-14T20:01:04.989Z"
   },
   {
    "duration": 8,
    "start_time": "2023-04-14T20:01:05.001Z"
   },
   {
    "duration": 10,
    "start_time": "2023-04-14T20:01:05.011Z"
   },
   {
    "duration": 1174,
    "start_time": "2023-04-14T20:01:05.023Z"
   },
   {
    "duration": 6,
    "start_time": "2023-04-14T20:01:06.198Z"
   },
   {
    "duration": 12,
    "start_time": "2023-04-14T20:01:06.205Z"
   },
   {
    "duration": 29,
    "start_time": "2023-04-14T20:01:06.219Z"
   },
   {
    "duration": 18,
    "start_time": "2023-04-14T20:01:06.255Z"
   },
   {
    "duration": 17,
    "start_time": "2023-04-14T20:01:06.277Z"
   },
   {
    "duration": 4,
    "start_time": "2023-04-14T20:01:06.296Z"
   },
   {
    "duration": 3,
    "start_time": "2023-04-14T20:01:06.302Z"
   },
   {
    "duration": 13,
    "start_time": "2023-04-14T20:01:06.307Z"
   },
   {
    "duration": 5,
    "start_time": "2023-04-14T20:01:06.321Z"
   },
   {
    "duration": 20,
    "start_time": "2023-04-14T20:01:06.328Z"
   },
   {
    "duration": 6647,
    "start_time": "2023-04-14T20:01:06.350Z"
   },
   {
    "duration": 43,
    "start_time": "2023-04-14T20:01:13.001Z"
   },
   {
    "duration": 8,
    "start_time": "2023-04-14T20:01:13.059Z"
   },
   {
    "duration": 15626,
    "start_time": "2023-04-14T20:01:13.077Z"
   },
   {
    "duration": 8101,
    "start_time": "2023-04-14T20:01:28.704Z"
   },
   {
    "duration": 3,
    "start_time": "2023-04-14T20:01:36.806Z"
   },
   {
    "duration": 5,
    "start_time": "2023-04-14T20:01:36.810Z"
   },
   {
    "duration": 4,
    "start_time": "2023-04-14T20:01:36.817Z"
   },
   {
    "duration": 328497,
    "start_time": "2023-04-14T20:01:36.822Z"
   },
   {
    "duration": 3,
    "start_time": "2023-04-14T20:07:05.322Z"
   },
   {
    "duration": 6,
    "start_time": "2023-04-14T20:07:43.751Z"
   },
   {
    "duration": 7434,
    "start_time": "2023-04-14T20:14:29.019Z"
   },
   {
    "duration": 4883,
    "start_time": "2023-04-14T20:15:16.582Z"
   },
   {
    "duration": 5262,
    "start_time": "2023-04-14T20:16:41.795Z"
   },
   {
    "duration": 4,
    "start_time": "2023-04-14T20:18:23.551Z"
   },
   {
    "duration": 4,
    "start_time": "2023-04-14T20:19:15.851Z"
   },
   {
    "duration": 3,
    "start_time": "2023-04-14T20:22:26.703Z"
   },
   {
    "duration": 4,
    "start_time": "2023-04-14T20:22:38.032Z"
   },
   {
    "duration": 5,
    "start_time": "2023-04-14T20:23:15.545Z"
   },
   {
    "duration": 3,
    "start_time": "2023-04-14T20:23:47.566Z"
   },
   {
    "duration": 3,
    "start_time": "2023-04-14T20:29:10.152Z"
   },
   {
    "duration": 3,
    "start_time": "2023-04-14T20:29:33.772Z"
   },
   {
    "duration": 3,
    "start_time": "2023-04-14T20:29:52.759Z"
   },
   {
    "duration": 3,
    "start_time": "2023-04-14T20:30:27.202Z"
   },
   {
    "duration": 3,
    "start_time": "2023-04-14T20:30:27.656Z"
   },
   {
    "duration": 3,
    "start_time": "2023-04-14T20:30:27.997Z"
   },
   {
    "duration": 293140,
    "start_time": "2023-04-14T20:30:28.403Z"
   },
   {
    "duration": 4,
    "start_time": "2023-04-14T20:35:21.545Z"
   },
   {
    "duration": 118,
    "start_time": "2023-04-14T20:38:28.059Z"
   },
   {
    "duration": 2,
    "start_time": "2023-04-14T20:39:14.283Z"
   },
   {
    "duration": 3,
    "start_time": "2023-04-14T20:40:25.735Z"
   },
   {
    "duration": 3,
    "start_time": "2023-04-14T20:40:26.015Z"
   },
   {
    "duration": 3,
    "start_time": "2023-04-14T20:40:26.349Z"
   },
   {
    "duration": 2,
    "start_time": "2023-04-14T20:45:38.736Z"
   },
   {
    "duration": 4,
    "start_time": "2023-04-14T20:46:46.788Z"
   },
   {
    "duration": 12,
    "start_time": "2023-04-14T20:47:15.527Z"
   },
   {
    "duration": 4,
    "start_time": "2023-04-14T20:47:35.051Z"
   },
   {
    "duration": 3,
    "start_time": "2023-04-14T20:47:35.332Z"
   },
   {
    "duration": 3,
    "start_time": "2023-04-14T20:47:35.609Z"
   },
   {
    "duration": 3,
    "start_time": "2023-04-14T20:49:06.185Z"
   },
   {
    "duration": 57,
    "start_time": "2023-04-14T20:50:17.207Z"
   },
   {
    "duration": 22,
    "start_time": "2023-04-14T20:52:17.608Z"
   },
   {
    "duration": 3,
    "start_time": "2023-04-14T20:53:14.924Z"
   },
   {
    "duration": 3,
    "start_time": "2023-04-14T20:53:15.430Z"
   },
   {
    "duration": 61,
    "start_time": "2023-04-14T20:53:16.177Z"
   },
   {
    "duration": 4,
    "start_time": "2023-04-14T20:56:18.501Z"
   },
   {
    "duration": 86,
    "start_time": "2023-04-14T20:56:19.092Z"
   },
   {
    "duration": 3,
    "start_time": "2023-04-14T20:56:36.382Z"
   },
   {
    "duration": 66,
    "start_time": "2023-04-14T20:56:38.146Z"
   },
   {
    "duration": 4,
    "start_time": "2023-04-14T21:02:16.010Z"
   },
   {
    "duration": 66,
    "start_time": "2023-04-14T21:02:27.979Z"
   },
   {
    "duration": 3,
    "start_time": "2023-04-14T21:02:43.210Z"
   },
   {
    "duration": 3,
    "start_time": "2023-04-14T21:02:43.607Z"
   },
   {
    "duration": 3,
    "start_time": "2023-04-14T21:02:43.984Z"
   },
   {
    "duration": 3,
    "start_time": "2023-04-14T21:02:44.346Z"
   },
   {
    "duration": 24,
    "start_time": "2023-04-14T21:02:44.927Z"
   },
   {
    "duration": 3,
    "start_time": "2023-04-14T21:03:06.910Z"
   },
   {
    "duration": 24,
    "start_time": "2023-04-14T21:03:07.409Z"
   },
   {
    "duration": 3,
    "start_time": "2023-04-14T21:03:21.471Z"
   },
   {
    "duration": 13971,
    "start_time": "2023-04-14T21:03:22.163Z"
   },
   {
    "duration": 0,
    "start_time": "2023-04-14T21:03:36.136Z"
   },
   {
    "duration": 5,
    "start_time": "2023-04-14T21:04:12.532Z"
   },
   {
    "duration": 26,
    "start_time": "2023-04-14T21:04:14.008Z"
   },
   {
    "duration": 8,
    "start_time": "2023-04-14T21:05:54.185Z"
   },
   {
    "duration": 3,
    "start_time": "2023-04-14T21:06:09.077Z"
   },
   {
    "duration": 3,
    "start_time": "2023-04-14T21:07:29.025Z"
   },
   {
    "duration": 1392,
    "start_time": "2023-04-14T21:18:08.511Z"
   },
   {
    "duration": 6,
    "start_time": "2023-04-14T21:18:09.905Z"
   },
   {
    "duration": 304,
    "start_time": "2023-04-14T21:18:09.912Z"
   },
   {
    "duration": 45,
    "start_time": "2023-04-14T21:18:10.218Z"
   },
   {
    "duration": 65,
    "start_time": "2023-04-14T21:18:10.265Z"
   },
   {
    "duration": 34,
    "start_time": "2023-04-14T21:18:10.331Z"
   },
   {
    "duration": 366,
    "start_time": "2023-04-14T21:18:10.366Z"
   },
   {
    "duration": 36,
    "start_time": "2023-04-14T21:18:10.735Z"
   },
   {
    "duration": 435,
    "start_time": "2023-04-14T21:18:10.772Z"
   },
   {
    "duration": 203,
    "start_time": "2023-04-14T21:18:11.210Z"
   },
   {
    "duration": 456,
    "start_time": "2023-04-14T21:18:11.415Z"
   },
   {
    "duration": 3,
    "start_time": "2023-04-14T21:18:11.872Z"
   },
   {
    "duration": 6,
    "start_time": "2023-04-14T21:18:11.877Z"
   },
   {
    "duration": 4,
    "start_time": "2023-04-14T21:18:11.884Z"
   },
   {
    "duration": 4,
    "start_time": "2023-04-14T21:18:11.890Z"
   },
   {
    "duration": 4,
    "start_time": "2023-04-14T21:18:11.895Z"
   },
   {
    "duration": 4,
    "start_time": "2023-04-14T21:18:11.900Z"
   },
   {
    "duration": 34,
    "start_time": "2023-04-14T21:18:11.905Z"
   },
   {
    "duration": 19,
    "start_time": "2023-04-14T21:18:11.941Z"
   },
   {
    "duration": 10,
    "start_time": "2023-04-14T21:18:11.962Z"
   },
   {
    "duration": 26,
    "start_time": "2023-04-14T21:18:11.973Z"
   },
   {
    "duration": 12,
    "start_time": "2023-04-14T21:18:12.001Z"
   },
   {
    "duration": 8,
    "start_time": "2023-04-14T21:18:12.014Z"
   },
   {
    "duration": 1031,
    "start_time": "2023-04-14T21:18:12.024Z"
   },
   {
    "duration": 10,
    "start_time": "2023-04-14T21:18:13.057Z"
   },
   {
    "duration": 626,
    "start_time": "2023-04-14T21:18:13.070Z"
   },
   {
    "duration": 6,
    "start_time": "2023-04-14T21:18:13.697Z"
   },
   {
    "duration": 589,
    "start_time": "2023-04-14T21:18:13.707Z"
   },
   {
    "duration": 6,
    "start_time": "2023-04-14T21:18:14.298Z"
   },
   {
    "duration": 999,
    "start_time": "2023-04-14T21:18:14.305Z"
   },
   {
    "duration": 546,
    "start_time": "2023-04-14T21:18:15.305Z"
   },
   {
    "duration": 9,
    "start_time": "2023-04-14T21:18:15.853Z"
   },
   {
    "duration": 14,
    "start_time": "2023-04-14T21:18:15.863Z"
   },
   {
    "duration": 12,
    "start_time": "2023-04-14T21:18:15.878Z"
   },
   {
    "duration": 11,
    "start_time": "2023-04-14T21:18:15.891Z"
   },
   {
    "duration": 1148,
    "start_time": "2023-04-14T21:18:15.904Z"
   },
   {
    "duration": 8,
    "start_time": "2023-04-14T21:18:17.054Z"
   },
   {
    "duration": 15,
    "start_time": "2023-04-14T21:18:17.063Z"
   },
   {
    "duration": 6,
    "start_time": "2023-04-14T21:18:17.079Z"
   },
   {
    "duration": 15,
    "start_time": "2023-04-14T21:18:17.087Z"
   },
   {
    "duration": 3,
    "start_time": "2023-04-14T21:18:17.104Z"
   },
   {
    "duration": 44,
    "start_time": "2023-04-14T21:18:17.108Z"
   },
   {
    "duration": 3,
    "start_time": "2023-04-14T21:18:17.159Z"
   },
   {
    "duration": 9,
    "start_time": "2023-04-14T21:18:17.166Z"
   },
   {
    "duration": 8,
    "start_time": "2023-04-14T21:18:17.176Z"
   },
   {
    "duration": 8,
    "start_time": "2023-04-14T21:18:17.186Z"
   },
   {
    "duration": 6756,
    "start_time": "2023-04-14T21:18:17.196Z"
   },
   {
    "duration": 13,
    "start_time": "2023-04-14T21:18:23.954Z"
   },
   {
    "duration": 14819,
    "start_time": "2023-04-14T21:18:23.968Z"
   },
   {
    "duration": 7564,
    "start_time": "2023-04-14T21:18:38.789Z"
   },
   {
    "duration": 6,
    "start_time": "2023-04-14T21:18:46.361Z"
   },
   {
    "duration": 3,
    "start_time": "2023-04-14T21:18:46.369Z"
   },
   {
    "duration": 112,
    "start_time": "2023-04-14T21:18:46.373Z"
   },
   {
    "duration": 0,
    "start_time": "2023-04-14T21:18:46.486Z"
   },
   {
    "duration": 0,
    "start_time": "2023-04-14T21:18:46.487Z"
   },
   {
    "duration": 0,
    "start_time": "2023-04-14T21:18:46.488Z"
   },
   {
    "duration": 0,
    "start_time": "2023-04-14T21:18:46.489Z"
   },
   {
    "duration": 0,
    "start_time": "2023-04-14T21:18:46.490Z"
   },
   {
    "duration": 0,
    "start_time": "2023-04-14T21:18:46.491Z"
   },
   {
    "duration": 0,
    "start_time": "2023-04-14T21:18:46.492Z"
   },
   {
    "duration": 0,
    "start_time": "2023-04-14T21:18:46.492Z"
   },
   {
    "duration": 2,
    "start_time": "2023-04-14T21:18:58.668Z"
   },
   {
    "duration": 3,
    "start_time": "2023-04-14T21:19:15.258Z"
   },
   {
    "duration": 2,
    "start_time": "2023-04-14T21:19:15.505Z"
   },
   {
    "duration": 3,
    "start_time": "2023-04-14T21:19:15.825Z"
   },
   {
    "duration": 3,
    "start_time": "2023-04-14T21:19:17.304Z"
   },
   {
    "duration": 18,
    "start_time": "2023-04-14T21:19:17.555Z"
   },
   {
    "duration": 3,
    "start_time": "2023-04-14T21:19:17.883Z"
   },
   {
    "duration": 1352,
    "start_time": "2023-04-14T21:19:37.331Z"
   },
   {
    "duration": 6,
    "start_time": "2023-04-14T21:19:38.685Z"
   },
   {
    "duration": 286,
    "start_time": "2023-04-14T21:19:38.692Z"
   },
   {
    "duration": 30,
    "start_time": "2023-04-14T21:19:38.980Z"
   },
   {
    "duration": 75,
    "start_time": "2023-04-14T21:19:39.012Z"
   },
   {
    "duration": 23,
    "start_time": "2023-04-14T21:19:39.088Z"
   },
   {
    "duration": 353,
    "start_time": "2023-04-14T21:19:39.112Z"
   },
   {
    "duration": 30,
    "start_time": "2023-04-14T21:19:39.466Z"
   },
   {
    "duration": 396,
    "start_time": "2023-04-14T21:19:39.498Z"
   },
   {
    "duration": 203,
    "start_time": "2023-04-14T21:19:39.896Z"
   },
   {
    "duration": 405,
    "start_time": "2023-04-14T21:19:40.100Z"
   },
   {
    "duration": 3,
    "start_time": "2023-04-14T21:19:40.506Z"
   },
   {
    "duration": 5,
    "start_time": "2023-04-14T21:19:40.510Z"
   },
   {
    "duration": 7,
    "start_time": "2023-04-14T21:19:40.516Z"
   },
   {
    "duration": 13,
    "start_time": "2023-04-14T21:19:40.536Z"
   },
   {
    "duration": 8,
    "start_time": "2023-04-14T21:19:40.553Z"
   },
   {
    "duration": 3,
    "start_time": "2023-04-14T21:19:40.563Z"
   },
   {
    "duration": 15,
    "start_time": "2023-04-14T21:19:40.567Z"
   },
   {
    "duration": 12,
    "start_time": "2023-04-14T21:19:40.584Z"
   },
   {
    "duration": 7,
    "start_time": "2023-04-14T21:19:40.598Z"
   },
   {
    "duration": 39,
    "start_time": "2023-04-14T21:19:40.606Z"
   },
   {
    "duration": 20,
    "start_time": "2023-04-14T21:19:40.646Z"
   },
   {
    "duration": 4,
    "start_time": "2023-04-14T21:19:40.668Z"
   },
   {
    "duration": 851,
    "start_time": "2023-04-14T21:19:40.673Z"
   },
   {
    "duration": 18,
    "start_time": "2023-04-14T21:19:41.525Z"
   },
   {
    "duration": 615,
    "start_time": "2023-04-14T21:19:41.546Z"
   },
   {
    "duration": 6,
    "start_time": "2023-04-14T21:19:42.166Z"
   },
   {
    "duration": 669,
    "start_time": "2023-04-14T21:19:42.176Z"
   },
   {
    "duration": 15,
    "start_time": "2023-04-14T21:19:42.849Z"
   },
   {
    "duration": 905,
    "start_time": "2023-04-14T21:19:42.867Z"
   },
   {
    "duration": 509,
    "start_time": "2023-04-14T21:19:43.773Z"
   },
   {
    "duration": 4,
    "start_time": "2023-04-14T21:19:44.284Z"
   },
   {
    "duration": 6,
    "start_time": "2023-04-14T21:19:44.289Z"
   },
   {
    "duration": 5,
    "start_time": "2023-04-14T21:19:44.296Z"
   },
   {
    "duration": 5,
    "start_time": "2023-04-14T21:19:44.302Z"
   },
   {
    "duration": 1134,
    "start_time": "2023-04-14T21:19:44.309Z"
   },
   {
    "duration": 10,
    "start_time": "2023-04-14T21:19:45.449Z"
   },
   {
    "duration": 15,
    "start_time": "2023-04-14T21:19:45.462Z"
   },
   {
    "duration": 7,
    "start_time": "2023-04-14T21:19:45.479Z"
   },
   {
    "duration": 17,
    "start_time": "2023-04-14T21:19:45.487Z"
   },
   {
    "duration": 9,
    "start_time": "2023-04-14T21:19:45.506Z"
   },
   {
    "duration": 4,
    "start_time": "2023-04-14T21:19:45.517Z"
   },
   {
    "duration": 18,
    "start_time": "2023-04-14T21:19:45.523Z"
   },
   {
    "duration": 13,
    "start_time": "2023-04-14T21:19:45.543Z"
   },
   {
    "duration": 11,
    "start_time": "2023-04-14T21:19:45.557Z"
   },
   {
    "duration": 7,
    "start_time": "2023-04-14T21:19:45.570Z"
   },
   {
    "duration": 4664,
    "start_time": "2023-04-14T21:19:45.579Z"
   },
   {
    "duration": 9,
    "start_time": "2023-04-14T21:19:50.244Z"
   },
   {
    "duration": 14,
    "start_time": "2023-04-14T21:19:50.257Z"
   },
   {
    "duration": 69,
    "start_time": "2023-04-14T21:19:50.272Z"
   },
   {
    "duration": 28,
    "start_time": "2023-04-14T21:19:50.343Z"
   },
   {
    "duration": 13,
    "start_time": "2023-04-14T21:19:50.372Z"
   },
   {
    "duration": 114,
    "start_time": "2023-04-14T21:19:50.387Z"
   },
   {
    "duration": 0,
    "start_time": "2023-04-14T21:19:50.502Z"
   },
   {
    "duration": 0,
    "start_time": "2023-04-14T21:19:50.503Z"
   },
   {
    "duration": 0,
    "start_time": "2023-04-14T21:19:50.504Z"
   },
   {
    "duration": 0,
    "start_time": "2023-04-14T21:19:50.505Z"
   },
   {
    "duration": 0,
    "start_time": "2023-04-14T21:19:50.506Z"
   },
   {
    "duration": 0,
    "start_time": "2023-04-14T21:19:50.507Z"
   },
   {
    "duration": 0,
    "start_time": "2023-04-14T21:19:50.508Z"
   },
   {
    "duration": 0,
    "start_time": "2023-04-14T21:19:50.509Z"
   },
   {
    "duration": 2,
    "start_time": "2023-04-14T21:19:56.013Z"
   },
   {
    "duration": 3,
    "start_time": "2023-04-14T21:19:57.293Z"
   },
   {
    "duration": 13,
    "start_time": "2023-04-14T21:19:58.225Z"
   },
   {
    "duration": 12,
    "start_time": "2023-04-14T21:20:03.594Z"
   },
   {
    "duration": 3,
    "start_time": "2023-04-14T21:20:06.612Z"
   },
   {
    "duration": 10,
    "start_time": "2023-04-14T21:20:09.548Z"
   },
   {
    "duration": 3,
    "start_time": "2023-04-14T21:22:07.078Z"
   },
   {
    "duration": 2,
    "start_time": "2023-04-14T21:22:37.823Z"
   },
   {
    "duration": 11,
    "start_time": "2023-04-14T21:23:15.891Z"
   },
   {
    "duration": 3,
    "start_time": "2023-04-14T21:23:24.930Z"
   },
   {
    "duration": 25,
    "start_time": "2023-04-14T21:23:25.747Z"
   },
   {
    "duration": 2,
    "start_time": "2023-04-14T21:24:36.621Z"
   },
   {
    "duration": 39,
    "start_time": "2023-04-14T21:24:38.130Z"
   },
   {
    "duration": 4,
    "start_time": "2023-04-14T21:25:05.160Z"
   },
   {
    "duration": 4,
    "start_time": "2023-04-14T21:25:05.767Z"
   },
   {
    "duration": 333121,
    "start_time": "2023-04-14T21:25:06.193Z"
   },
   {
    "duration": 3,
    "start_time": "2023-04-14T21:30:39.316Z"
   },
   {
    "duration": 12,
    "start_time": "2023-04-14T21:40:12.946Z"
   },
   {
    "duration": 3,
    "start_time": "2023-04-14T21:40:13.324Z"
   },
   {
    "duration": 264,
    "start_time": "2023-04-14T21:40:13.778Z"
   },
   {
    "duration": 39,
    "start_time": "2023-04-14T21:40:14.187Z"
   },
   {
    "duration": 1991,
    "start_time": "2023-04-15T11:02:23.077Z"
   },
   {
    "duration": 12,
    "start_time": "2023-04-15T11:02:25.071Z"
   },
   {
    "duration": 1214,
    "start_time": "2023-04-15T11:02:25.085Z"
   },
   {
    "duration": 50,
    "start_time": "2023-04-15T11:02:26.302Z"
   },
   {
    "duration": 545,
    "start_time": "2023-04-15T11:02:26.359Z"
   },
   {
    "duration": 50,
    "start_time": "2023-04-15T11:02:26.906Z"
   },
   {
    "duration": 2231,
    "start_time": "2023-04-15T11:02:26.958Z"
   },
   {
    "duration": 40,
    "start_time": "2023-04-15T11:02:29.191Z"
   },
   {
    "duration": 473,
    "start_time": "2023-04-15T11:02:29.235Z"
   },
   {
    "duration": 327,
    "start_time": "2023-04-15T11:02:29.710Z"
   },
   {
    "duration": 553,
    "start_time": "2023-04-15T11:02:30.039Z"
   },
   {
    "duration": 4,
    "start_time": "2023-04-15T11:02:30.593Z"
   },
   {
    "duration": 65,
    "start_time": "2023-04-15T11:02:30.599Z"
   },
   {
    "duration": 39,
    "start_time": "2023-04-15T11:02:30.667Z"
   },
   {
    "duration": 81,
    "start_time": "2023-04-15T11:02:30.708Z"
   },
   {
    "duration": 83,
    "start_time": "2023-04-15T11:02:30.792Z"
   },
   {
    "duration": 29,
    "start_time": "2023-04-15T11:02:30.878Z"
   },
   {
    "duration": 81,
    "start_time": "2023-04-15T11:02:30.911Z"
   },
   {
    "duration": 32,
    "start_time": "2023-04-15T11:02:30.995Z"
   },
   {
    "duration": 38,
    "start_time": "2023-04-15T11:02:31.030Z"
   },
   {
    "duration": 48,
    "start_time": "2023-04-15T11:02:31.070Z"
   },
   {
    "duration": 32,
    "start_time": "2023-04-15T11:02:31.120Z"
   },
   {
    "duration": 30,
    "start_time": "2023-04-15T11:02:31.154Z"
   },
   {
    "duration": 1133,
    "start_time": "2023-04-15T11:02:31.186Z"
   },
   {
    "duration": 19,
    "start_time": "2023-04-15T11:02:32.321Z"
   },
   {
    "duration": 733,
    "start_time": "2023-04-15T11:02:32.347Z"
   },
   {
    "duration": 7,
    "start_time": "2023-04-15T11:02:33.082Z"
   },
   {
    "duration": 753,
    "start_time": "2023-04-15T11:02:33.092Z"
   },
   {
    "duration": 17,
    "start_time": "2023-04-15T11:02:33.849Z"
   },
   {
    "duration": 1434,
    "start_time": "2023-04-15T11:02:33.868Z"
   },
   {
    "duration": 603,
    "start_time": "2023-04-15T11:02:35.304Z"
   },
   {
    "duration": 5,
    "start_time": "2023-04-15T11:02:35.909Z"
   },
   {
    "duration": 37,
    "start_time": "2023-04-15T11:02:35.916Z"
   },
   {
    "duration": 19,
    "start_time": "2023-04-15T11:02:35.954Z"
   },
   {
    "duration": 14,
    "start_time": "2023-04-15T11:02:35.975Z"
   },
   {
    "duration": 1628,
    "start_time": "2023-04-15T11:02:35.992Z"
   },
   {
    "duration": 14,
    "start_time": "2023-04-15T11:02:37.623Z"
   },
   {
    "duration": 48,
    "start_time": "2023-04-15T11:02:37.640Z"
   },
   {
    "duration": 9,
    "start_time": "2023-04-15T11:02:37.690Z"
   },
   {
    "duration": 21,
    "start_time": "2023-04-15T11:02:37.701Z"
   },
   {
    "duration": 3,
    "start_time": "2023-04-15T11:02:37.724Z"
   },
   {
    "duration": 18,
    "start_time": "2023-04-15T11:02:37.729Z"
   },
   {
    "duration": 29,
    "start_time": "2023-04-15T11:02:37.751Z"
   },
   {
    "duration": 18,
    "start_time": "2023-04-15T11:02:37.782Z"
   },
   {
    "duration": 16,
    "start_time": "2023-04-15T11:02:37.802Z"
   },
   {
    "duration": 24,
    "start_time": "2023-04-15T11:02:37.819Z"
   },
   {
    "duration": 6187,
    "start_time": "2023-04-15T11:02:37.849Z"
   },
   {
    "duration": 8,
    "start_time": "2023-04-15T11:02:44.041Z"
   },
   {
    "duration": 62,
    "start_time": "2023-04-15T11:02:44.055Z"
   },
   {
    "duration": 9,
    "start_time": "2023-04-15T11:02:44.138Z"
   },
   {
    "duration": 926097,
    "start_time": "2023-04-15T11:02:44.154Z"
   },
   {
    "duration": 5,
    "start_time": "2023-04-15T11:18:10.253Z"
   },
   {
    "duration": 7,
    "start_time": "2023-04-15T11:18:10.259Z"
   },
   {
    "duration": 31542,
    "start_time": "2023-04-15T11:18:10.267Z"
   },
   {
    "duration": 5,
    "start_time": "2023-04-15T11:18:41.812Z"
   },
   {
    "duration": 4417,
    "start_time": "2023-04-15T11:18:41.821Z"
   },
   {
    "duration": 6,
    "start_time": "2023-04-15T11:18:46.240Z"
   },
   {
    "duration": 5,
    "start_time": "2023-04-15T11:19:03.958Z"
   },
   {
    "duration": 5272,
    "start_time": "2023-04-15T11:19:36.466Z"
   },
   {
    "duration": 4595,
    "start_time": "2023-04-15T11:19:43.954Z"
   },
   {
    "duration": 4,
    "start_time": "2023-04-15T11:20:06.499Z"
   },
   {
    "duration": 30727,
    "start_time": "2023-04-15T11:20:15.929Z"
   },
   {
    "duration": 4929,
    "start_time": "2023-04-15T11:21:33.411Z"
   },
   {
    "duration": 4149,
    "start_time": "2023-04-15T11:21:46.305Z"
   },
   {
    "duration": 30681,
    "start_time": "2023-04-15T11:39:11.195Z"
   },
   {
    "duration": 4,
    "start_time": "2023-04-15T11:39:41.878Z"
   },
   {
    "duration": 766460,
    "start_time": "2023-04-15T11:40:17.814Z"
   },
   {
    "duration": 4,
    "start_time": "2023-04-15T11:53:04.276Z"
   },
   {
    "duration": 9,
    "start_time": "2023-04-15T11:53:04.283Z"
   },
   {
    "duration": 6,
    "start_time": "2023-04-15T11:53:49.196Z"
   },
   {
    "duration": 6,
    "start_time": "2023-04-15T11:53:50.178Z"
   },
   {
    "duration": 4,
    "start_time": "2023-04-15T11:53:55.821Z"
   },
   {
    "duration": 50,
    "start_time": "2023-04-15T11:53:56.545Z"
   },
   {
    "duration": 4,
    "start_time": "2023-04-15T11:53:57.145Z"
   },
   {
    "duration": 8,
    "start_time": "2023-04-15T11:54:01.158Z"
   },
   {
    "duration": 8,
    "start_time": "2023-04-15T11:54:10.948Z"
   },
   {
    "duration": 114,
    "start_time": "2023-04-15T12:30:54.930Z"
   },
   {
    "duration": 12,
    "start_time": "2023-04-15T12:31:23.464Z"
   },
   {
    "duration": 9,
    "start_time": "2023-04-15T12:31:38.198Z"
   },
   {
    "duration": 8,
    "start_time": "2023-04-15T12:35:16.521Z"
   },
   {
    "duration": 9,
    "start_time": "2023-04-15T12:35:58.673Z"
   },
   {
    "duration": 56,
    "start_time": "2023-04-15T12:36:04.964Z"
   },
   {
    "duration": 9,
    "start_time": "2023-04-15T12:36:11.756Z"
   },
   {
    "duration": 62,
    "start_time": "2023-04-15T12:49:54.293Z"
   },
   {
    "duration": 0,
    "start_time": "2023-04-15T12:49:54.357Z"
   },
   {
    "duration": 0,
    "start_time": "2023-04-15T12:49:54.358Z"
   },
   {
    "duration": 0,
    "start_time": "2023-04-15T12:49:54.359Z"
   },
   {
    "duration": 0,
    "start_time": "2023-04-15T12:49:54.360Z"
   },
   {
    "duration": 0,
    "start_time": "2023-04-15T12:49:54.361Z"
   },
   {
    "duration": 1,
    "start_time": "2023-04-15T12:49:54.361Z"
   },
   {
    "duration": 43,
    "start_time": "2023-04-15T12:49:54.363Z"
   },
   {
    "duration": 0,
    "start_time": "2023-04-15T12:49:54.408Z"
   },
   {
    "duration": 0,
    "start_time": "2023-04-15T12:49:54.409Z"
   },
   {
    "duration": 0,
    "start_time": "2023-04-15T12:49:54.410Z"
   },
   {
    "duration": 3,
    "start_time": "2023-04-15T12:49:54.812Z"
   },
   {
    "duration": 23,
    "start_time": "2023-04-15T12:49:54.820Z"
   },
   {
    "duration": 0,
    "start_time": "2023-04-15T12:49:54.845Z"
   },
   {
    "duration": 0,
    "start_time": "2023-04-15T12:49:54.846Z"
   },
   {
    "duration": 0,
    "start_time": "2023-04-15T12:49:54.847Z"
   },
   {
    "duration": 7,
    "start_time": "2023-04-15T12:49:55.229Z"
   },
   {
    "duration": 12,
    "start_time": "2023-04-15T12:49:55.237Z"
   },
   {
    "duration": 8,
    "start_time": "2023-04-15T12:49:55.854Z"
   },
   {
    "duration": 8,
    "start_time": "2023-04-15T12:49:55.864Z"
   },
   {
    "duration": 0,
    "start_time": "2023-04-15T12:49:55.874Z"
   },
   {
    "duration": 10,
    "start_time": "2023-04-15T12:49:55.877Z"
   },
   {
    "duration": 0,
    "start_time": "2023-04-15T12:49:55.888Z"
   },
   {
    "duration": 9,
    "start_time": "2023-04-15T12:49:56.279Z"
   },
   {
    "duration": 0,
    "start_time": "2023-04-15T12:49:56.289Z"
   },
   {
    "duration": 9,
    "start_time": "2023-04-15T12:49:56.303Z"
   },
   {
    "duration": 0,
    "start_time": "2023-04-15T12:49:56.313Z"
   },
   {
    "duration": 8,
    "start_time": "2023-04-15T12:49:56.315Z"
   },
   {
    "duration": 10,
    "start_time": "2023-04-15T12:49:56.327Z"
   },
   {
    "duration": 10,
    "start_time": "2023-04-15T12:49:56.765Z"
   },
   {
    "duration": 0,
    "start_time": "2023-04-15T12:49:56.776Z"
   },
   {
    "duration": 8,
    "start_time": "2023-04-15T12:49:57.297Z"
   },
   {
    "duration": 0,
    "start_time": "2023-04-15T12:49:57.306Z"
   },
   {
    "duration": 0,
    "start_time": "2023-04-15T12:49:57.308Z"
   },
   {
    "duration": 11,
    "start_time": "2023-04-15T12:49:57.309Z"
   },
   {
    "duration": 0,
    "start_time": "2023-04-15T12:49:57.321Z"
   },
   {
    "duration": 0,
    "start_time": "2023-04-15T12:49:57.323Z"
   },
   {
    "duration": 8,
    "start_time": "2023-04-15T12:49:57.741Z"
   },
   {
    "duration": 0,
    "start_time": "2023-04-15T12:49:57.750Z"
   },
   {
    "duration": 9,
    "start_time": "2023-04-15T12:49:57.752Z"
   },
   {
    "duration": 3,
    "start_time": "2023-04-15T12:49:58.224Z"
   },
   {
    "duration": 10,
    "start_time": "2023-04-15T12:49:58.231Z"
   },
   {
    "duration": 8,
    "start_time": "2023-04-15T12:49:58.243Z"
   },
   {
    "duration": 0,
    "start_time": "2023-04-15T12:49:58.252Z"
   },
   {
    "duration": 0,
    "start_time": "2023-04-15T12:49:58.254Z"
   },
   {
    "duration": 6,
    "start_time": "2023-04-15T12:49:58.255Z"
   },
   {
    "duration": 57,
    "start_time": "2023-04-15T12:49:58.264Z"
   },
   {
    "duration": 6,
    "start_time": "2023-04-15T12:49:58.323Z"
   },
   {
    "duration": 0,
    "start_time": "2023-04-15T12:49:58.331Z"
   },
   {
    "duration": 0,
    "start_time": "2023-04-15T12:49:58.332Z"
   },
   {
    "duration": 0,
    "start_time": "2023-04-15T12:49:58.333Z"
   },
   {
    "duration": 0,
    "start_time": "2023-04-15T12:49:58.334Z"
   },
   {
    "duration": 0,
    "start_time": "2023-04-15T12:49:58.334Z"
   },
   {
    "duration": 9,
    "start_time": "2023-04-15T12:49:58.336Z"
   },
   {
    "duration": 7,
    "start_time": "2023-04-15T12:49:58.862Z"
   },
   {
    "duration": 0,
    "start_time": "2023-04-15T12:49:58.870Z"
   },
   {
    "duration": 9,
    "start_time": "2023-04-15T12:49:58.876Z"
   },
   {
    "duration": 0,
    "start_time": "2023-04-15T12:49:58.887Z"
   },
   {
    "duration": 1460,
    "start_time": "2023-04-15T12:52:25.874Z"
   },
   {
    "duration": 1348,
    "start_time": "2023-04-15T12:52:31.066Z"
   },
   {
    "duration": 6,
    "start_time": "2023-04-15T12:52:32.415Z"
   },
   {
    "duration": 278,
    "start_time": "2023-04-15T12:52:32.422Z"
   },
   {
    "duration": 35,
    "start_time": "2023-04-15T12:52:32.702Z"
   },
   {
    "duration": 70,
    "start_time": "2023-04-15T12:52:32.738Z"
   },
   {
    "duration": 30,
    "start_time": "2023-04-15T12:52:32.809Z"
   },
   {
    "duration": 331,
    "start_time": "2023-04-15T12:52:32.841Z"
   },
   {
    "duration": 35,
    "start_time": "2023-04-15T12:52:33.174Z"
   },
   {
    "duration": 399,
    "start_time": "2023-04-15T12:52:33.210Z"
   },
   {
    "duration": 202,
    "start_time": "2023-04-15T12:52:33.611Z"
   },
   {
    "duration": 458,
    "start_time": "2023-04-15T12:52:33.815Z"
   },
   {
    "duration": 3,
    "start_time": "2023-04-15T12:52:34.275Z"
   },
   {
    "duration": 13,
    "start_time": "2023-04-15T12:52:34.280Z"
   },
   {
    "duration": 10,
    "start_time": "2023-04-15T12:52:34.295Z"
   },
   {
    "duration": 10,
    "start_time": "2023-04-15T12:52:34.306Z"
   },
   {
    "duration": 21,
    "start_time": "2023-04-15T12:52:34.317Z"
   },
   {
    "duration": 9,
    "start_time": "2023-04-15T12:52:34.339Z"
   },
   {
    "duration": 22,
    "start_time": "2023-04-15T12:52:34.349Z"
   },
   {
    "duration": 16,
    "start_time": "2023-04-15T12:52:34.373Z"
   },
   {
    "duration": 8,
    "start_time": "2023-04-15T12:52:34.391Z"
   },
   {
    "duration": 40,
    "start_time": "2023-04-15T12:52:34.401Z"
   },
   {
    "duration": 16,
    "start_time": "2023-04-15T12:52:34.443Z"
   },
   {
    "duration": 5,
    "start_time": "2023-04-15T12:52:34.461Z"
   },
   {
    "duration": 946,
    "start_time": "2023-04-15T12:52:34.468Z"
   },
   {
    "duration": 17,
    "start_time": "2023-04-15T12:52:35.415Z"
   },
   {
    "duration": 633,
    "start_time": "2023-04-15T12:52:35.434Z"
   },
   {
    "duration": 8,
    "start_time": "2023-04-15T12:52:36.069Z"
   },
   {
    "duration": 625,
    "start_time": "2023-04-15T12:52:36.080Z"
   },
   {
    "duration": 9,
    "start_time": "2023-04-15T12:52:36.707Z"
   },
   {
    "duration": 1043,
    "start_time": "2023-04-15T12:52:36.718Z"
   },
   {
    "duration": 577,
    "start_time": "2023-04-15T12:52:37.764Z"
   },
   {
    "duration": 6,
    "start_time": "2023-04-15T12:52:38.342Z"
   },
   {
    "duration": 8,
    "start_time": "2023-04-15T12:52:38.350Z"
   },
   {
    "duration": 7,
    "start_time": "2023-04-15T12:52:38.360Z"
   },
   {
    "duration": 14,
    "start_time": "2023-04-15T12:52:38.369Z"
   },
   {
    "duration": 1197,
    "start_time": "2023-04-15T12:52:38.385Z"
   },
   {
    "duration": 8,
    "start_time": "2023-04-15T12:52:39.584Z"
   },
   {
    "duration": 12,
    "start_time": "2023-04-15T12:52:39.593Z"
   },
   {
    "duration": 28,
    "start_time": "2023-04-15T12:52:39.607Z"
   },
   {
    "duration": 16,
    "start_time": "2023-04-15T12:52:39.636Z"
   },
   {
    "duration": 3,
    "start_time": "2023-04-15T12:52:39.654Z"
   },
   {
    "duration": 37,
    "start_time": "2023-04-15T12:52:39.659Z"
   },
   {
    "duration": 16,
    "start_time": "2023-04-15T12:52:39.698Z"
   },
   {
    "duration": 22,
    "start_time": "2023-04-15T12:52:39.716Z"
   },
   {
    "duration": 21,
    "start_time": "2023-04-15T12:52:39.740Z"
   },
   {
    "duration": 21,
    "start_time": "2023-04-15T12:52:39.763Z"
   },
   {
    "duration": 3159,
    "start_time": "2023-04-15T12:52:39.785Z"
   },
   {
    "duration": 88,
    "start_time": "2023-04-15T12:52:42.947Z"
   },
   {
    "duration": 796462,
    "start_time": "2023-04-15T12:52:43.037Z"
   },
   {
    "duration": 4,
    "start_time": "2023-04-15T13:05:59.501Z"
   },
   {
    "duration": 6,
    "start_time": "2023-04-15T13:05:59.507Z"
   },
   {
    "duration": 31704,
    "start_time": "2023-04-15T13:05:59.515Z"
   },
   {
    "duration": 5,
    "start_time": "2023-04-15T13:06:31.221Z"
   },
   {
    "duration": 63,
    "start_time": "2023-04-15T13:06:31.237Z"
   },
   {
    "duration": 14,
    "start_time": "2023-04-15T13:06:31.302Z"
   },
   {
    "duration": 74,
    "start_time": "2023-04-15T13:06:31.318Z"
   },
   {
    "duration": 8,
    "start_time": "2023-04-15T13:06:31.393Z"
   },
   {
    "duration": 29,
    "start_time": "2023-04-15T13:06:31.402Z"
   },
   {
    "duration": 8,
    "start_time": "2023-04-15T13:10:51.480Z"
   },
   {
    "duration": 11,
    "start_time": "2023-04-15T13:10:53.033Z"
   },
   {
    "duration": 3,
    "start_time": "2023-04-15T13:15:36.661Z"
   },
   {
    "duration": 216,
    "start_time": "2023-04-15T13:15:37.153Z"
   },
   {
    "duration": 30827,
    "start_time": "2023-04-15T13:15:54.170Z"
   },
   {
    "duration": 5,
    "start_time": "2023-04-15T13:16:24.999Z"
   },
   {
    "duration": 1500,
    "start_time": "2023-04-15T13:16:34.432Z"
   },
   {
    "duration": 13,
    "start_time": "2023-04-15T13:16:35.936Z"
   },
   {
    "duration": 357,
    "start_time": "2023-04-15T13:16:35.956Z"
   },
   {
    "duration": 53,
    "start_time": "2023-04-15T13:16:36.316Z"
   },
   {
    "duration": 82,
    "start_time": "2023-04-15T13:16:36.371Z"
   },
   {
    "duration": 29,
    "start_time": "2023-04-15T13:16:36.455Z"
   },
   {
    "duration": 415,
    "start_time": "2023-04-15T13:16:36.485Z"
   },
   {
    "duration": 53,
    "start_time": "2023-04-15T13:16:36.902Z"
   },
   {
    "duration": 547,
    "start_time": "2023-04-15T13:16:36.962Z"
   },
   {
    "duration": 270,
    "start_time": "2023-04-15T13:16:37.513Z"
   },
   {
    "duration": 497,
    "start_time": "2023-04-15T13:16:37.784Z"
   },
   {
    "duration": 3,
    "start_time": "2023-04-15T13:16:38.283Z"
   },
   {
    "duration": 8,
    "start_time": "2023-04-15T13:16:38.287Z"
   },
   {
    "duration": 9,
    "start_time": "2023-04-15T13:16:38.297Z"
   },
   {
    "duration": 5,
    "start_time": "2023-04-15T13:16:38.308Z"
   },
   {
    "duration": 31,
    "start_time": "2023-04-15T13:16:38.315Z"
   },
   {
    "duration": 24,
    "start_time": "2023-04-15T13:16:38.354Z"
   },
   {
    "duration": 18,
    "start_time": "2023-04-15T13:16:38.379Z"
   },
   {
    "duration": 13,
    "start_time": "2023-04-15T13:16:38.399Z"
   },
   {
    "duration": 9,
    "start_time": "2023-04-15T13:16:38.414Z"
   },
   {
    "duration": 29,
    "start_time": "2023-04-15T13:16:38.425Z"
   },
   {
    "duration": 15,
    "start_time": "2023-04-15T13:16:38.462Z"
   },
   {
    "duration": 5,
    "start_time": "2023-04-15T13:16:38.479Z"
   },
   {
    "duration": 1042,
    "start_time": "2023-04-15T13:16:38.485Z"
   },
   {
    "duration": 13,
    "start_time": "2023-04-15T13:16:39.529Z"
   },
   {
    "duration": 672,
    "start_time": "2023-04-15T13:16:39.549Z"
   },
   {
    "duration": 10,
    "start_time": "2023-04-15T13:16:40.223Z"
   },
   {
    "duration": 662,
    "start_time": "2023-04-15T13:16:40.239Z"
   },
   {
    "duration": 6,
    "start_time": "2023-04-15T13:16:40.903Z"
   },
   {
    "duration": 1097,
    "start_time": "2023-04-15T13:16:40.911Z"
   },
   {
    "duration": 602,
    "start_time": "2023-04-15T13:16:42.011Z"
   },
   {
    "duration": 4,
    "start_time": "2023-04-15T13:16:42.615Z"
   },
   {
    "duration": 23,
    "start_time": "2023-04-15T13:16:42.620Z"
   },
   {
    "duration": 29,
    "start_time": "2023-04-15T13:16:42.650Z"
   },
   {
    "duration": 12,
    "start_time": "2023-04-15T13:16:42.681Z"
   },
   {
    "duration": 1295,
    "start_time": "2023-04-15T13:16:42.694Z"
   },
   {
    "duration": 6,
    "start_time": "2023-04-15T13:16:43.990Z"
   },
   {
    "duration": 14,
    "start_time": "2023-04-15T13:16:43.998Z"
   },
   {
    "duration": 38,
    "start_time": "2023-04-15T13:16:44.013Z"
   },
   {
    "duration": 34,
    "start_time": "2023-04-15T13:16:44.060Z"
   },
   {
    "duration": 4,
    "start_time": "2023-04-15T13:16:44.095Z"
   },
   {
    "duration": 6,
    "start_time": "2023-04-15T13:16:44.101Z"
   },
   {
    "duration": 9,
    "start_time": "2023-04-15T13:16:44.108Z"
   },
   {
    "duration": 12,
    "start_time": "2023-04-15T13:16:44.119Z"
   },
   {
    "duration": 43,
    "start_time": "2023-04-15T13:16:44.135Z"
   },
   {
    "duration": 14,
    "start_time": "2023-04-15T13:16:44.180Z"
   },
   {
    "duration": 7168,
    "start_time": "2023-04-15T13:16:44.195Z"
   },
   {
    "duration": 69,
    "start_time": "2023-04-15T13:16:51.371Z"
   },
   {
    "duration": 724819,
    "start_time": "2023-04-15T13:16:51.442Z"
   },
   {
    "duration": 5,
    "start_time": "2023-04-15T13:28:56.263Z"
   },
   {
    "duration": 9,
    "start_time": "2023-04-15T13:28:56.270Z"
   },
   {
    "duration": 31246,
    "start_time": "2023-04-15T13:28:56.281Z"
   },
   {
    "duration": 13,
    "start_time": "2023-04-15T13:29:27.529Z"
   },
   {
    "duration": 48,
    "start_time": "2023-04-15T13:29:27.546Z"
   },
   {
    "duration": 9,
    "start_time": "2023-04-15T13:29:27.596Z"
   },
   {
    "duration": 163,
    "start_time": "2023-04-15T13:29:27.607Z"
   },
   {
    "duration": 0,
    "start_time": "2023-04-15T13:29:27.772Z"
   },
   {
    "duration": 26,
    "start_time": "2023-04-15T13:32:02.281Z"
   },
   {
    "duration": 7,
    "start_time": "2023-04-15T13:32:03.158Z"
   },
   {
    "duration": 8,
    "start_time": "2023-04-15T13:32:05.084Z"
   },
   {
    "duration": 17,
    "start_time": "2023-04-16T06:33:48.469Z"
   },
   {
    "duration": 181,
    "start_time": "2023-04-16T06:33:49.142Z"
   },
   {
    "duration": 44,
    "start_time": "2023-04-16T12:01:59.283Z"
   },
   {
    "duration": 1551,
    "start_time": "2023-04-16T12:02:04.222Z"
   },
   {
    "duration": 6,
    "start_time": "2023-04-16T12:02:05.775Z"
   },
   {
    "duration": 1132,
    "start_time": "2023-04-16T12:02:05.782Z"
   },
   {
    "duration": 32,
    "start_time": "2023-04-16T12:02:06.916Z"
   },
   {
    "duration": 130,
    "start_time": "2023-04-16T12:02:06.951Z"
   },
   {
    "duration": 25,
    "start_time": "2023-04-16T12:02:07.083Z"
   },
   {
    "duration": 491,
    "start_time": "2023-04-16T12:02:07.110Z"
   },
   {
    "duration": 28,
    "start_time": "2023-04-16T12:02:07.603Z"
   },
   {
    "duration": 352,
    "start_time": "2023-04-16T12:02:07.632Z"
   },
   {
    "duration": 178,
    "start_time": "2023-04-16T12:02:07.985Z"
   },
   {
    "duration": 377,
    "start_time": "2023-04-16T12:02:08.164Z"
   },
   {
    "duration": 3,
    "start_time": "2023-04-16T12:02:08.542Z"
   },
   {
    "duration": 19,
    "start_time": "2023-04-16T12:02:08.546Z"
   },
   {
    "duration": 13,
    "start_time": "2023-04-16T12:02:08.567Z"
   },
   {
    "duration": 12,
    "start_time": "2023-04-16T12:02:08.581Z"
   },
   {
    "duration": 5,
    "start_time": "2023-04-16T12:02:08.594Z"
   },
   {
    "duration": 3,
    "start_time": "2023-04-16T12:02:08.601Z"
   },
   {
    "duration": 36,
    "start_time": "2023-04-16T12:02:08.605Z"
   },
   {
    "duration": 12,
    "start_time": "2023-04-16T12:02:08.643Z"
   },
   {
    "duration": 9,
    "start_time": "2023-04-16T12:02:08.656Z"
   },
   {
    "duration": 25,
    "start_time": "2023-04-16T12:02:08.666Z"
   },
   {
    "duration": 10,
    "start_time": "2023-04-16T12:02:08.693Z"
   },
   {
    "duration": 18,
    "start_time": "2023-04-16T12:02:08.705Z"
   },
   {
    "duration": 868,
    "start_time": "2023-04-16T12:02:08.724Z"
   },
   {
    "duration": 5,
    "start_time": "2023-04-16T12:02:09.593Z"
   },
   {
    "duration": 550,
    "start_time": "2023-04-16T12:02:09.599Z"
   },
   {
    "duration": 5,
    "start_time": "2023-04-16T12:02:10.150Z"
   },
   {
    "duration": 638,
    "start_time": "2023-04-16T12:02:10.157Z"
   },
   {
    "duration": 5,
    "start_time": "2023-04-16T12:02:10.797Z"
   },
   {
    "duration": 759,
    "start_time": "2023-04-16T12:02:10.804Z"
   },
   {
    "duration": 579,
    "start_time": "2023-04-16T12:02:11.565Z"
   },
   {
    "duration": 4,
    "start_time": "2023-04-16T12:02:12.146Z"
   },
   {
    "duration": 6,
    "start_time": "2023-04-16T12:02:12.151Z"
   },
   {
    "duration": 6,
    "start_time": "2023-04-16T12:02:12.158Z"
   },
   {
    "duration": 5,
    "start_time": "2023-04-16T12:02:12.165Z"
   },
   {
    "duration": 1028,
    "start_time": "2023-04-16T12:02:12.171Z"
   },
   {
    "duration": 6,
    "start_time": "2023-04-16T12:02:13.201Z"
   },
   {
    "duration": 13,
    "start_time": "2023-04-16T12:02:13.209Z"
   },
   {
    "duration": 18,
    "start_time": "2023-04-16T12:02:13.223Z"
   },
   {
    "duration": 16,
    "start_time": "2023-04-16T12:02:13.242Z"
   },
   {
    "duration": 16,
    "start_time": "2023-04-16T12:02:13.262Z"
   },
   {
    "duration": 25,
    "start_time": "2023-04-16T12:02:13.279Z"
   },
   {
    "duration": 14,
    "start_time": "2023-04-16T12:02:13.306Z"
   },
   {
    "duration": 22,
    "start_time": "2023-04-16T12:02:13.322Z"
   },
   {
    "duration": 17,
    "start_time": "2023-04-16T12:02:13.345Z"
   },
   {
    "duration": 20,
    "start_time": "2023-04-16T12:02:13.364Z"
   },
   {
    "duration": 2655,
    "start_time": "2023-04-16T12:02:13.386Z"
   },
   {
    "duration": 95,
    "start_time": "2023-04-16T12:02:16.044Z"
   },
   {
    "duration": 641459,
    "start_time": "2023-04-16T12:02:16.141Z"
   },
   {
    "duration": 3,
    "start_time": "2023-04-16T12:12:57.602Z"
   },
   {
    "duration": 5,
    "start_time": "2023-04-16T12:12:57.606Z"
   },
   {
    "duration": 26479,
    "start_time": "2023-04-16T12:12:57.612Z"
   },
   {
    "duration": 4,
    "start_time": "2023-04-16T12:13:24.092Z"
   },
   {
    "duration": 10,
    "start_time": "2023-04-16T12:13:24.097Z"
   },
   {
    "duration": 7,
    "start_time": "2023-04-16T12:13:24.108Z"
   },
   {
    "duration": 30,
    "start_time": "2023-04-16T12:13:24.116Z"
   },
   {
    "duration": 8,
    "start_time": "2023-04-16T12:13:24.148Z"
   },
   {
    "duration": 9,
    "start_time": "2023-04-16T12:13:24.159Z"
   },
   {
    "duration": 0,
    "start_time": "2023-04-16T12:13:25.645Z"
   },
   {
    "duration": 0,
    "start_time": "2023-04-16T12:13:25.648Z"
   },
   {
    "duration": 0,
    "start_time": "2023-04-16T12:13:25.650Z"
   },
   {
    "duration": 0,
    "start_time": "2023-04-16T12:13:25.651Z"
   },
   {
    "duration": 0,
    "start_time": "2023-04-16T12:13:25.653Z"
   },
   {
    "duration": 0,
    "start_time": "2023-04-16T12:13:25.655Z"
   },
   {
    "duration": 0,
    "start_time": "2023-04-16T12:13:25.656Z"
   },
   {
    "duration": 1404,
    "start_time": "2023-04-16T12:14:43.328Z"
   },
   {
    "duration": 1377,
    "start_time": "2023-04-16T12:15:02.450Z"
   },
   {
    "duration": 6,
    "start_time": "2023-04-16T12:15:03.829Z"
   },
   {
    "duration": 266,
    "start_time": "2023-04-16T12:15:03.837Z"
   },
   {
    "duration": 52,
    "start_time": "2023-04-16T12:15:04.105Z"
   },
   {
    "duration": 72,
    "start_time": "2023-04-16T12:15:04.160Z"
   },
   {
    "duration": 42,
    "start_time": "2023-04-16T12:15:04.233Z"
   },
   {
    "duration": 362,
    "start_time": "2023-04-16T12:15:04.276Z"
   },
   {
    "duration": 41,
    "start_time": "2023-04-16T12:15:04.641Z"
   },
   {
    "duration": 454,
    "start_time": "2023-04-16T12:15:04.683Z"
   },
   {
    "duration": 229,
    "start_time": "2023-04-16T12:15:05.140Z"
   },
   {
    "duration": 416,
    "start_time": "2023-04-16T12:15:05.371Z"
   },
   {
    "duration": 3,
    "start_time": "2023-04-16T12:15:05.789Z"
   },
   {
    "duration": 6,
    "start_time": "2023-04-16T12:15:05.794Z"
   },
   {
    "duration": 4,
    "start_time": "2023-04-16T12:15:05.802Z"
   },
   {
    "duration": 28,
    "start_time": "2023-04-16T12:15:05.808Z"
   },
   {
    "duration": 15,
    "start_time": "2023-04-16T12:15:05.838Z"
   },
   {
    "duration": 9,
    "start_time": "2023-04-16T12:15:05.855Z"
   },
   {
    "duration": 25,
    "start_time": "2023-04-16T12:15:05.866Z"
   },
   {
    "duration": 12,
    "start_time": "2023-04-16T12:15:05.893Z"
   },
   {
    "duration": 6,
    "start_time": "2023-04-16T12:15:05.907Z"
   },
   {
    "duration": 42,
    "start_time": "2023-04-16T12:15:05.915Z"
   },
   {
    "duration": 14,
    "start_time": "2023-04-16T12:15:05.959Z"
   },
   {
    "duration": 10,
    "start_time": "2023-04-16T12:15:05.974Z"
   },
   {
    "duration": 1045,
    "start_time": "2023-04-16T12:15:05.986Z"
   },
   {
    "duration": 8,
    "start_time": "2023-04-16T12:15:07.032Z"
   },
   {
    "duration": 755,
    "start_time": "2023-04-16T12:15:07.042Z"
   },
   {
    "duration": 6,
    "start_time": "2023-04-16T12:15:07.798Z"
   },
   {
    "duration": 815,
    "start_time": "2023-04-16T12:15:07.806Z"
   },
   {
    "duration": 14,
    "start_time": "2023-04-16T12:15:08.622Z"
   },
   {
    "duration": 1016,
    "start_time": "2023-04-16T12:15:08.638Z"
   },
   {
    "duration": 590,
    "start_time": "2023-04-16T12:15:09.656Z"
   },
   {
    "duration": 5,
    "start_time": "2023-04-16T12:15:10.248Z"
   },
   {
    "duration": 8,
    "start_time": "2023-04-16T12:15:10.255Z"
   },
   {
    "duration": 5,
    "start_time": "2023-04-16T12:15:10.264Z"
   },
   {
    "duration": 4,
    "start_time": "2023-04-16T12:15:10.270Z"
   },
   {
    "duration": 1022,
    "start_time": "2023-04-16T12:15:10.275Z"
   },
   {
    "duration": 6,
    "start_time": "2023-04-16T12:15:11.298Z"
   },
   {
    "duration": 34,
    "start_time": "2023-04-16T12:15:11.306Z"
   },
   {
    "duration": 12,
    "start_time": "2023-04-16T12:15:11.343Z"
   },
   {
    "duration": 20,
    "start_time": "2023-04-16T12:15:11.357Z"
   },
   {
    "duration": 3,
    "start_time": "2023-04-16T12:15:11.380Z"
   },
   {
    "duration": 4,
    "start_time": "2023-04-16T12:15:11.385Z"
   },
   {
    "duration": 3,
    "start_time": "2023-04-16T12:15:11.391Z"
   },
   {
    "duration": 6,
    "start_time": "2023-04-16T12:15:11.396Z"
   },
   {
    "duration": 5,
    "start_time": "2023-04-16T12:15:11.403Z"
   },
   {
    "duration": 27,
    "start_time": "2023-04-16T12:15:11.409Z"
   },
   {
    "duration": 4504,
    "start_time": "2023-04-16T12:15:11.438Z"
   },
   {
    "duration": 5,
    "start_time": "2023-04-16T12:15:15.944Z"
   },
   {
    "duration": 9,
    "start_time": "2023-04-16T12:17:16.828Z"
   },
   {
    "duration": 1450,
    "start_time": "2023-04-16T12:17:22.219Z"
   },
   {
    "duration": 6,
    "start_time": "2023-04-16T12:17:23.671Z"
   },
   {
    "duration": 244,
    "start_time": "2023-04-16T12:17:23.679Z"
   },
   {
    "duration": 31,
    "start_time": "2023-04-16T12:17:23.925Z"
   },
   {
    "duration": 61,
    "start_time": "2023-04-16T12:17:23.958Z"
   },
   {
    "duration": 39,
    "start_time": "2023-04-16T12:17:24.021Z"
   },
   {
    "duration": 324,
    "start_time": "2023-04-16T12:17:24.062Z"
   },
   {
    "duration": 26,
    "start_time": "2023-04-16T12:17:24.387Z"
   },
   {
    "duration": 385,
    "start_time": "2023-04-16T12:17:24.415Z"
   },
   {
    "duration": 212,
    "start_time": "2023-04-16T12:17:24.802Z"
   },
   {
    "duration": 429,
    "start_time": "2023-04-16T12:17:25.016Z"
   },
   {
    "duration": 5,
    "start_time": "2023-04-16T12:17:25.447Z"
   },
   {
    "duration": 6,
    "start_time": "2023-04-16T12:17:25.455Z"
   },
   {
    "duration": 5,
    "start_time": "2023-04-16T12:17:25.462Z"
   },
   {
    "duration": 10,
    "start_time": "2023-04-16T12:17:25.468Z"
   },
   {
    "duration": 4,
    "start_time": "2023-04-16T12:17:25.479Z"
   },
   {
    "duration": 5,
    "start_time": "2023-04-16T12:17:25.485Z"
   },
   {
    "duration": 13,
    "start_time": "2023-04-16T12:17:25.492Z"
   },
   {
    "duration": 42,
    "start_time": "2023-04-16T12:17:25.506Z"
   },
   {
    "duration": 9,
    "start_time": "2023-04-16T12:17:25.551Z"
   },
   {
    "duration": 18,
    "start_time": "2023-04-16T12:17:25.561Z"
   },
   {
    "duration": 10,
    "start_time": "2023-04-16T12:17:25.580Z"
   },
   {
    "duration": 4,
    "start_time": "2023-04-16T12:17:25.591Z"
   },
   {
    "duration": 1016,
    "start_time": "2023-04-16T12:17:25.597Z"
   },
   {
    "duration": 6,
    "start_time": "2023-04-16T12:17:26.615Z"
   },
   {
    "duration": 756,
    "start_time": "2023-04-16T12:17:26.623Z"
   },
   {
    "duration": 6,
    "start_time": "2023-04-16T12:17:27.381Z"
   },
   {
    "duration": 841,
    "start_time": "2023-04-16T12:17:27.391Z"
   },
   {
    "duration": 15,
    "start_time": "2023-04-16T12:17:28.234Z"
   },
   {
    "duration": 1107,
    "start_time": "2023-04-16T12:17:28.250Z"
   },
   {
    "duration": 636,
    "start_time": "2023-04-16T12:17:29.360Z"
   },
   {
    "duration": 4,
    "start_time": "2023-04-16T12:17:29.997Z"
   },
   {
    "duration": 59,
    "start_time": "2023-04-16T12:17:30.002Z"
   },
   {
    "duration": 25,
    "start_time": "2023-04-16T12:17:30.063Z"
   },
   {
    "duration": 14,
    "start_time": "2023-04-16T12:17:30.089Z"
   },
   {
    "duration": 1041,
    "start_time": "2023-04-16T12:17:30.105Z"
   },
   {
    "duration": 10,
    "start_time": "2023-04-16T12:17:31.148Z"
   },
   {
    "duration": 30,
    "start_time": "2023-04-16T12:17:31.162Z"
   },
   {
    "duration": 40,
    "start_time": "2023-04-16T12:17:31.193Z"
   },
   {
    "duration": 42,
    "start_time": "2023-04-16T12:17:31.234Z"
   },
   {
    "duration": 19,
    "start_time": "2023-04-16T12:17:31.278Z"
   },
   {
    "duration": 19,
    "start_time": "2023-04-16T12:17:31.298Z"
   },
   {
    "duration": 25,
    "start_time": "2023-04-16T12:17:31.319Z"
   },
   {
    "duration": 40,
    "start_time": "2023-04-16T12:17:31.347Z"
   },
   {
    "duration": 23,
    "start_time": "2023-04-16T12:17:31.388Z"
   },
   {
    "duration": 74,
    "start_time": "2023-04-16T12:17:31.413Z"
   },
   {
    "duration": 4953,
    "start_time": "2023-04-16T12:17:31.489Z"
   },
   {
    "duration": 4,
    "start_time": "2023-04-16T12:17:36.450Z"
   },
   {
    "duration": 12,
    "start_time": "2023-04-16T12:17:36.537Z"
   },
   {
    "duration": 119,
    "start_time": "2023-04-16T12:17:36.552Z"
   },
   {
    "duration": 0,
    "start_time": "2023-04-16T12:17:36.673Z"
   },
   {
    "duration": 0,
    "start_time": "2023-04-16T12:17:36.675Z"
   },
   {
    "duration": 0,
    "start_time": "2023-04-16T12:17:36.675Z"
   },
   {
    "duration": 0,
    "start_time": "2023-04-16T12:17:36.676Z"
   },
   {
    "duration": 0,
    "start_time": "2023-04-16T12:17:36.677Z"
   },
   {
    "duration": 0,
    "start_time": "2023-04-16T12:17:36.678Z"
   },
   {
    "duration": 0,
    "start_time": "2023-04-16T12:17:36.679Z"
   },
   {
    "duration": 0,
    "start_time": "2023-04-16T12:17:36.680Z"
   },
   {
    "duration": 1406,
    "start_time": "2023-04-16T12:17:45.049Z"
   },
   {
    "duration": 423,
    "start_time": "2023-04-16T12:18:35.609Z"
   },
   {
    "duration": 419,
    "start_time": "2023-04-16T12:19:12.406Z"
   },
   {
    "duration": 805,
    "start_time": "2023-04-16T12:20:18.215Z"
   },
   {
    "duration": 1131,
    "start_time": "2023-04-16T12:20:34.998Z"
   },
   {
    "duration": 1039,
    "start_time": "2023-04-16T12:20:56.285Z"
   },
   {
    "duration": 1028,
    "start_time": "2023-04-16T12:21:22.091Z"
   },
   {
    "duration": 518,
    "start_time": "2023-04-16T12:24:39.283Z"
   },
   {
    "duration": 579,
    "start_time": "2023-04-16T12:24:46.428Z"
   },
   {
    "duration": 484,
    "start_time": "2023-04-16T12:25:02.912Z"
   },
   {
    "duration": 527,
    "start_time": "2023-04-16T12:25:04.533Z"
   },
   {
    "duration": 11,
    "start_time": "2023-04-16T12:25:33.805Z"
   },
   {
    "duration": 402,
    "start_time": "2023-04-16T12:25:42.614Z"
   },
   {
    "duration": 372,
    "start_time": "2023-04-16T12:26:12.549Z"
   },
   {
    "duration": 421,
    "start_time": "2023-04-16T12:26:27.893Z"
   },
   {
    "duration": 361,
    "start_time": "2023-04-16T12:26:54.382Z"
   },
   {
    "duration": 473,
    "start_time": "2023-04-16T12:27:14.782Z"
   },
   {
    "duration": 466,
    "start_time": "2023-04-16T12:27:22.202Z"
   },
   {
    "duration": 283,
    "start_time": "2023-04-16T12:27:39.853Z"
   },
   {
    "duration": 388,
    "start_time": "2023-04-16T12:27:50.444Z"
   },
   {
    "duration": 299,
    "start_time": "2023-04-16T12:27:56.723Z"
   },
   {
    "duration": 426,
    "start_time": "2023-04-16T12:28:19.215Z"
   },
   {
    "duration": 420,
    "start_time": "2023-04-16T12:28:45.102Z"
   },
   {
    "duration": 417,
    "start_time": "2023-04-16T12:29:01.521Z"
   },
   {
    "duration": 437,
    "start_time": "2023-04-16T12:30:04.141Z"
   },
   {
    "duration": 406,
    "start_time": "2023-04-16T12:30:17.237Z"
   },
   {
    "duration": 458,
    "start_time": "2023-04-16T12:30:35.914Z"
   },
   {
    "duration": 507,
    "start_time": "2023-04-16T12:30:44.525Z"
   },
   {
    "duration": 1347,
    "start_time": "2023-04-16T12:31:06.722Z"
   },
   {
    "duration": 880,
    "start_time": "2023-04-16T12:32:54.314Z"
   },
   {
    "duration": 6,
    "start_time": "2023-04-16T12:32:59.752Z"
   },
   {
    "duration": 620,
    "start_time": "2023-04-16T12:33:03.016Z"
   },
   {
    "duration": 724,
    "start_time": "2023-04-16T12:33:11.514Z"
   },
   {
    "duration": 731,
    "start_time": "2023-04-16T12:33:17.614Z"
   },
   {
    "duration": 608,
    "start_time": "2023-04-16T12:33:22.837Z"
   },
   {
    "duration": 6,
    "start_time": "2023-04-16T12:33:27.278Z"
   },
   {
    "duration": 722,
    "start_time": "2023-04-16T12:33:30.323Z"
   },
   {
    "duration": 575,
    "start_time": "2023-04-16T12:33:35.934Z"
   },
   {
    "duration": 704,
    "start_time": "2023-04-16T12:33:41.317Z"
   },
   {
    "duration": 595,
    "start_time": "2023-04-16T12:33:46.026Z"
   },
   {
    "duration": 6,
    "start_time": "2023-04-16T12:33:50.324Z"
   },
   {
    "duration": 361,
    "start_time": "2023-04-16T12:36:03.360Z"
   },
   {
    "duration": 413,
    "start_time": "2023-04-16T12:36:06.027Z"
   },
   {
    "duration": 100,
    "start_time": "2023-04-16T12:42:03.431Z"
   },
   {
    "duration": 12,
    "start_time": "2023-04-16T12:42:08.425Z"
   },
   {
    "duration": 12,
    "start_time": "2023-04-16T12:42:51.110Z"
   },
   {
    "duration": 1279,
    "start_time": "2023-04-16T12:42:56.375Z"
   },
   {
    "duration": 6,
    "start_time": "2023-04-16T12:42:57.655Z"
   },
   {
    "duration": 237,
    "start_time": "2023-04-16T12:42:57.662Z"
   },
   {
    "duration": 27,
    "start_time": "2023-04-16T12:42:57.901Z"
   },
   {
    "duration": 62,
    "start_time": "2023-04-16T12:42:57.930Z"
   },
   {
    "duration": 23,
    "start_time": "2023-04-16T12:42:57.993Z"
   },
   {
    "duration": 293,
    "start_time": "2023-04-16T12:42:58.017Z"
   },
   {
    "duration": 31,
    "start_time": "2023-04-16T12:42:58.311Z"
   },
   {
    "duration": 364,
    "start_time": "2023-04-16T12:42:58.344Z"
   },
   {
    "duration": 179,
    "start_time": "2023-04-16T12:42:58.711Z"
   },
   {
    "duration": 388,
    "start_time": "2023-04-16T12:42:58.892Z"
   },
   {
    "duration": 2,
    "start_time": "2023-04-16T12:42:59.282Z"
   },
   {
    "duration": 6,
    "start_time": "2023-04-16T12:42:59.286Z"
   },
   {
    "duration": 6,
    "start_time": "2023-04-16T12:42:59.294Z"
   },
   {
    "duration": 10,
    "start_time": "2023-04-16T12:42:59.301Z"
   },
   {
    "duration": 11,
    "start_time": "2023-04-16T12:42:59.312Z"
   },
   {
    "duration": 3,
    "start_time": "2023-04-16T12:42:59.337Z"
   },
   {
    "duration": 16,
    "start_time": "2023-04-16T12:42:59.341Z"
   },
   {
    "duration": 15,
    "start_time": "2023-04-16T12:42:59.359Z"
   },
   {
    "duration": 7,
    "start_time": "2023-04-16T12:42:59.375Z"
   },
   {
    "duration": 27,
    "start_time": "2023-04-16T12:42:59.383Z"
   },
   {
    "duration": 28,
    "start_time": "2023-04-16T12:42:59.412Z"
   },
   {
    "duration": 4,
    "start_time": "2023-04-16T12:42:59.441Z"
   },
   {
    "duration": 891,
    "start_time": "2023-04-16T12:42:59.446Z"
   },
   {
    "duration": 7,
    "start_time": "2023-04-16T12:43:00.338Z"
   },
   {
    "duration": 713,
    "start_time": "2023-04-16T12:43:00.346Z"
   },
   {
    "duration": 6,
    "start_time": "2023-04-16T12:43:01.060Z"
   },
   {
    "duration": 772,
    "start_time": "2023-04-16T12:43:01.069Z"
   },
   {
    "duration": 7,
    "start_time": "2023-04-16T12:43:01.842Z"
   },
   {
    "duration": 385,
    "start_time": "2023-04-16T12:43:01.851Z"
   },
   {
    "duration": 444,
    "start_time": "2023-04-16T12:43:02.238Z"
   },
   {
    "duration": 4,
    "start_time": "2023-04-16T12:43:02.684Z"
   },
   {
    "duration": 16,
    "start_time": "2023-04-16T12:43:02.690Z"
   },
   {
    "duration": 5,
    "start_time": "2023-04-16T12:43:02.708Z"
   },
   {
    "duration": 13,
    "start_time": "2023-04-16T12:43:02.715Z"
   },
   {
    "duration": 1007,
    "start_time": "2023-04-16T12:43:02.729Z"
   },
   {
    "duration": 6,
    "start_time": "2023-04-16T12:43:03.738Z"
   },
   {
    "duration": 13,
    "start_time": "2023-04-16T12:43:03.745Z"
   },
   {
    "duration": 8,
    "start_time": "2023-04-16T12:43:03.759Z"
   },
   {
    "duration": 15,
    "start_time": "2023-04-16T12:43:03.768Z"
   },
   {
    "duration": 3,
    "start_time": "2023-04-16T12:43:03.785Z"
   },
   {
    "duration": 5,
    "start_time": "2023-04-16T12:43:03.789Z"
   },
   {
    "duration": 9,
    "start_time": "2023-04-16T12:43:03.795Z"
   },
   {
    "duration": 6,
    "start_time": "2023-04-16T12:43:03.806Z"
   },
   {
    "duration": 3,
    "start_time": "2023-04-16T12:43:03.836Z"
   },
   {
    "duration": 12,
    "start_time": "2023-04-16T12:43:03.841Z"
   },
   {
    "duration": 2483,
    "start_time": "2023-04-16T12:43:03.854Z"
   },
   {
    "duration": 96,
    "start_time": "2023-04-16T12:43:06.339Z"
   },
   {
    "duration": 6,
    "start_time": "2023-04-16T12:43:06.437Z"
   },
   {
    "duration": 106,
    "start_time": "2023-04-16T12:43:06.444Z"
   },
   {
    "duration": 0,
    "start_time": "2023-04-16T12:43:06.551Z"
   },
   {
    "duration": 0,
    "start_time": "2023-04-16T12:43:06.552Z"
   },
   {
    "duration": 0,
    "start_time": "2023-04-16T12:43:06.553Z"
   },
   {
    "duration": 0,
    "start_time": "2023-04-16T12:43:06.554Z"
   },
   {
    "duration": 0,
    "start_time": "2023-04-16T12:43:06.555Z"
   },
   {
    "duration": 0,
    "start_time": "2023-04-16T12:43:06.556Z"
   },
   {
    "duration": 0,
    "start_time": "2023-04-16T12:43:06.557Z"
   },
   {
    "duration": 0,
    "start_time": "2023-04-16T12:43:06.558Z"
   },
   {
    "duration": 81,
    "start_time": "2023-04-16T12:53:33.877Z"
   },
   {
    "duration": 1293,
    "start_time": "2023-04-16T12:53:41.705Z"
   },
   {
    "duration": 6,
    "start_time": "2023-04-16T12:53:43.000Z"
   },
   {
    "duration": 241,
    "start_time": "2023-04-16T12:53:43.007Z"
   },
   {
    "duration": 26,
    "start_time": "2023-04-16T12:53:43.250Z"
   },
   {
    "duration": 63,
    "start_time": "2023-04-16T12:53:43.277Z"
   },
   {
    "duration": 21,
    "start_time": "2023-04-16T12:53:43.342Z"
   },
   {
    "duration": 291,
    "start_time": "2023-04-16T12:53:43.364Z"
   },
   {
    "duration": 27,
    "start_time": "2023-04-16T12:53:43.656Z"
   },
   {
    "duration": 371,
    "start_time": "2023-04-16T12:53:43.684Z"
   },
   {
    "duration": 182,
    "start_time": "2023-04-16T12:53:44.057Z"
   },
   {
    "duration": 365,
    "start_time": "2023-04-16T12:53:44.240Z"
   },
   {
    "duration": 2,
    "start_time": "2023-04-16T12:53:44.607Z"
   },
   {
    "duration": 5,
    "start_time": "2023-04-16T12:53:44.611Z"
   },
   {
    "duration": 20,
    "start_time": "2023-04-16T12:53:44.618Z"
   },
   {
    "duration": 3,
    "start_time": "2023-04-16T12:53:44.639Z"
   },
   {
    "duration": 4,
    "start_time": "2023-04-16T12:53:44.643Z"
   },
   {
    "duration": 3,
    "start_time": "2023-04-16T12:53:44.649Z"
   },
   {
    "duration": 14,
    "start_time": "2023-04-16T12:53:44.653Z"
   },
   {
    "duration": 12,
    "start_time": "2023-04-16T12:53:44.668Z"
   },
   {
    "duration": 7,
    "start_time": "2023-04-16T12:53:44.681Z"
   },
   {
    "duration": 17,
    "start_time": "2023-04-16T12:53:44.689Z"
   },
   {
    "duration": 11,
    "start_time": "2023-04-16T12:53:44.735Z"
   },
   {
    "duration": 3,
    "start_time": "2023-04-16T12:53:44.748Z"
   },
   {
    "duration": 891,
    "start_time": "2023-04-16T12:53:44.752Z"
   },
   {
    "duration": 6,
    "start_time": "2023-04-16T12:53:45.644Z"
   },
   {
    "duration": 632,
    "start_time": "2023-04-16T12:53:45.651Z"
   },
   {
    "duration": 6,
    "start_time": "2023-04-16T12:53:46.285Z"
   },
   {
    "duration": 750,
    "start_time": "2023-04-16T12:53:46.293Z"
   },
   {
    "duration": 7,
    "start_time": "2023-04-16T12:53:47.044Z"
   },
   {
    "duration": 378,
    "start_time": "2023-04-16T12:53:47.052Z"
   },
   {
    "duration": 409,
    "start_time": "2023-04-16T12:53:47.435Z"
   },
   {
    "duration": 4,
    "start_time": "2023-04-16T12:53:47.845Z"
   },
   {
    "duration": 7,
    "start_time": "2023-04-16T12:53:47.850Z"
   },
   {
    "duration": 4,
    "start_time": "2023-04-16T12:53:47.859Z"
   },
   {
    "duration": 4,
    "start_time": "2023-04-16T12:53:47.864Z"
   },
   {
    "duration": 1001,
    "start_time": "2023-04-16T12:53:47.869Z"
   },
   {
    "duration": 5,
    "start_time": "2023-04-16T12:53:48.872Z"
   },
   {
    "duration": 12,
    "start_time": "2023-04-16T12:53:48.879Z"
   },
   {
    "duration": 5,
    "start_time": "2023-04-16T12:53:48.893Z"
   },
   {
    "duration": 16,
    "start_time": "2023-04-16T12:53:48.899Z"
   },
   {
    "duration": 21,
    "start_time": "2023-04-16T12:53:48.916Z"
   },
   {
    "duration": 6,
    "start_time": "2023-04-16T12:53:48.939Z"
   },
   {
    "duration": 5,
    "start_time": "2023-04-16T12:53:48.946Z"
   },
   {
    "duration": 7,
    "start_time": "2023-04-16T12:53:48.953Z"
   },
   {
    "duration": 5,
    "start_time": "2023-04-16T12:53:48.961Z"
   },
   {
    "duration": 9,
    "start_time": "2023-04-16T12:53:48.968Z"
   },
   {
    "duration": 2562,
    "start_time": "2023-04-16T12:53:48.978Z"
   },
   {
    "duration": 94,
    "start_time": "2023-04-16T12:53:51.542Z"
   },
   {
    "duration": 1305,
    "start_time": "2023-04-16T13:27:39.737Z"
   },
   {
    "duration": 6,
    "start_time": "2023-04-16T13:27:41.044Z"
   },
   {
    "duration": 248,
    "start_time": "2023-04-16T13:27:41.051Z"
   },
   {
    "duration": 28,
    "start_time": "2023-04-16T13:27:41.301Z"
   },
   {
    "duration": 65,
    "start_time": "2023-04-16T13:27:41.336Z"
   },
   {
    "duration": 23,
    "start_time": "2023-04-16T13:27:41.402Z"
   },
   {
    "duration": 314,
    "start_time": "2023-04-16T13:27:41.426Z"
   },
   {
    "duration": 30,
    "start_time": "2023-04-16T13:27:41.742Z"
   },
   {
    "duration": 383,
    "start_time": "2023-04-16T13:27:41.774Z"
   },
   {
    "duration": 208,
    "start_time": "2023-04-16T13:27:42.158Z"
   },
   {
    "duration": 400,
    "start_time": "2023-04-16T13:27:42.367Z"
   },
   {
    "duration": 3,
    "start_time": "2023-04-16T13:27:42.769Z"
   },
   {
    "duration": 8,
    "start_time": "2023-04-16T13:27:42.773Z"
   },
   {
    "duration": 6,
    "start_time": "2023-04-16T13:27:42.784Z"
   },
   {
    "duration": 14,
    "start_time": "2023-04-16T13:27:42.791Z"
   },
   {
    "duration": 3,
    "start_time": "2023-04-16T13:27:42.807Z"
   },
   {
    "duration": 27,
    "start_time": "2023-04-16T13:27:42.812Z"
   },
   {
    "duration": 35,
    "start_time": "2023-04-16T13:27:42.841Z"
   },
   {
    "duration": 15,
    "start_time": "2023-04-16T13:27:42.878Z"
   },
   {
    "duration": 9,
    "start_time": "2023-04-16T13:27:42.895Z"
   },
   {
    "duration": 30,
    "start_time": "2023-04-16T13:27:42.906Z"
   },
   {
    "duration": 15,
    "start_time": "2023-04-16T13:27:42.938Z"
   },
   {
    "duration": 5,
    "start_time": "2023-04-16T13:27:42.954Z"
   },
   {
    "duration": 912,
    "start_time": "2023-04-16T13:27:42.960Z"
   },
   {
    "duration": 6,
    "start_time": "2023-04-16T13:27:43.874Z"
   },
   {
    "duration": 649,
    "start_time": "2023-04-16T13:27:43.881Z"
   },
   {
    "duration": 6,
    "start_time": "2023-04-16T13:27:44.535Z"
   },
   {
    "duration": 766,
    "start_time": "2023-04-16T13:27:44.543Z"
   },
   {
    "duration": 6,
    "start_time": "2023-04-16T13:27:45.310Z"
   },
   {
    "duration": 409,
    "start_time": "2023-04-16T13:27:45.318Z"
   },
   {
    "duration": 404,
    "start_time": "2023-04-16T13:27:45.729Z"
   },
   {
    "duration": 4,
    "start_time": "2023-04-16T13:27:46.134Z"
   },
   {
    "duration": 12,
    "start_time": "2023-04-16T13:27:46.140Z"
   },
   {
    "duration": 4,
    "start_time": "2023-04-16T13:27:46.154Z"
   },
   {
    "duration": 4,
    "start_time": "2023-04-16T13:27:46.159Z"
   },
   {
    "duration": 1019,
    "start_time": "2023-04-16T13:27:46.164Z"
   },
   {
    "duration": 7,
    "start_time": "2023-04-16T13:27:47.184Z"
   },
   {
    "duration": 17,
    "start_time": "2023-04-16T13:27:47.192Z"
   },
   {
    "duration": 7,
    "start_time": "2023-04-16T13:27:47.210Z"
   },
   {
    "duration": 28,
    "start_time": "2023-04-16T13:27:47.219Z"
   },
   {
    "duration": 4,
    "start_time": "2023-04-16T13:27:47.251Z"
   },
   {
    "duration": 6,
    "start_time": "2023-04-16T13:27:47.256Z"
   },
   {
    "duration": 4,
    "start_time": "2023-04-16T13:27:47.263Z"
   },
   {
    "duration": 12,
    "start_time": "2023-04-16T13:27:47.269Z"
   },
   {
    "duration": 3,
    "start_time": "2023-04-16T13:27:47.283Z"
   },
   {
    "duration": 13,
    "start_time": "2023-04-16T13:27:47.287Z"
   },
   {
    "duration": 2239,
    "start_time": "2023-04-16T13:27:47.302Z"
   },
   {
    "duration": 5,
    "start_time": "2023-04-16T13:27:49.542Z"
   },
   {
    "duration": 1368,
    "start_time": "2023-04-16T15:18:18.738Z"
   },
   {
    "duration": 6,
    "start_time": "2023-04-16T15:18:20.108Z"
   },
   {
    "duration": 278,
    "start_time": "2023-04-16T15:18:20.115Z"
   },
   {
    "duration": 47,
    "start_time": "2023-04-16T15:18:20.395Z"
   },
   {
    "duration": 66,
    "start_time": "2023-04-16T15:18:20.444Z"
   },
   {
    "duration": 25,
    "start_time": "2023-04-16T15:18:20.512Z"
   },
   {
    "duration": 408,
    "start_time": "2023-04-16T15:18:20.538Z"
   },
   {
    "duration": 27,
    "start_time": "2023-04-16T15:18:20.947Z"
   },
   {
    "duration": 452,
    "start_time": "2023-04-16T15:18:20.975Z"
   },
   {
    "duration": 209,
    "start_time": "2023-04-16T15:18:21.428Z"
   },
   {
    "duration": 384,
    "start_time": "2023-04-16T15:18:21.638Z"
   },
   {
    "duration": 12,
    "start_time": "2023-04-16T15:18:22.024Z"
   },
   {
    "duration": 6,
    "start_time": "2023-04-16T15:18:22.038Z"
   },
   {
    "duration": 5,
    "start_time": "2023-04-16T15:18:22.047Z"
   },
   {
    "duration": 15,
    "start_time": "2023-04-16T15:18:22.053Z"
   },
   {
    "duration": 5,
    "start_time": "2023-04-16T15:18:22.069Z"
   },
   {
    "duration": 4,
    "start_time": "2023-04-16T15:18:22.075Z"
   },
   {
    "duration": 14,
    "start_time": "2023-04-16T15:18:22.081Z"
   },
   {
    "duration": 13,
    "start_time": "2023-04-16T15:18:22.096Z"
   },
   {
    "duration": 30,
    "start_time": "2023-04-16T15:18:22.110Z"
   },
   {
    "duration": 19,
    "start_time": "2023-04-16T15:18:22.141Z"
   },
   {
    "duration": 11,
    "start_time": "2023-04-16T15:18:22.162Z"
   },
   {
    "duration": 5,
    "start_time": "2023-04-16T15:18:22.174Z"
   },
   {
    "duration": 1020,
    "start_time": "2023-04-16T15:18:22.181Z"
   },
   {
    "duration": 6,
    "start_time": "2023-04-16T15:18:23.203Z"
   },
   {
    "duration": 641,
    "start_time": "2023-04-16T15:18:23.211Z"
   },
   {
    "duration": 6,
    "start_time": "2023-04-16T15:18:23.854Z"
   },
   {
    "duration": 716,
    "start_time": "2023-04-16T15:18:23.861Z"
   },
   {
    "duration": 6,
    "start_time": "2023-04-16T15:18:24.579Z"
   },
   {
    "duration": 453,
    "start_time": "2023-04-16T15:18:24.586Z"
   },
   {
    "duration": 415,
    "start_time": "2023-04-16T15:18:25.041Z"
   },
   {
    "duration": 5,
    "start_time": "2023-04-16T15:18:25.458Z"
   },
   {
    "duration": 13,
    "start_time": "2023-04-16T15:18:25.464Z"
   },
   {
    "duration": 18,
    "start_time": "2023-04-16T15:18:25.479Z"
   },
   {
    "duration": 36,
    "start_time": "2023-04-16T15:18:25.499Z"
   },
   {
    "duration": 1062,
    "start_time": "2023-04-16T15:18:25.538Z"
   },
   {
    "duration": 6,
    "start_time": "2023-04-16T15:18:26.601Z"
   },
   {
    "duration": 12,
    "start_time": "2023-04-16T15:18:26.608Z"
   },
   {
    "duration": 18,
    "start_time": "2023-04-16T15:18:26.622Z"
   },
   {
    "duration": 16,
    "start_time": "2023-04-16T15:18:26.642Z"
   },
   {
    "duration": 3,
    "start_time": "2023-04-16T15:18:26.661Z"
   },
   {
    "duration": 4,
    "start_time": "2023-04-16T15:18:26.665Z"
   },
   {
    "duration": 4,
    "start_time": "2023-04-16T15:18:26.670Z"
   },
   {
    "duration": 9,
    "start_time": "2023-04-16T15:18:26.675Z"
   },
   {
    "duration": 4,
    "start_time": "2023-04-16T15:18:26.685Z"
   },
   {
    "duration": 8,
    "start_time": "2023-04-16T15:18:26.691Z"
   },
   {
    "duration": 2247,
    "start_time": "2023-04-16T15:18:26.700Z"
   },
   {
    "duration": 88,
    "start_time": "2023-04-16T15:18:28.949Z"
   },
   {
    "duration": 2235151,
    "start_time": "2023-04-16T15:18:29.038Z"
   },
   {
    "duration": 109,
    "start_time": "2023-04-16T15:55:44.191Z"
   },
   {
    "duration": 0,
    "start_time": "2023-04-16T15:55:44.302Z"
   },
   {
    "duration": 0,
    "start_time": "2023-04-16T15:55:44.303Z"
   },
   {
    "duration": 0,
    "start_time": "2023-04-16T15:55:44.303Z"
   },
   {
    "duration": 0,
    "start_time": "2023-04-16T15:55:44.304Z"
   },
   {
    "duration": 0,
    "start_time": "2023-04-16T15:55:44.305Z"
   },
   {
    "duration": 0,
    "start_time": "2023-04-16T15:55:44.306Z"
   },
   {
    "duration": 0,
    "start_time": "2023-04-16T15:55:44.307Z"
   },
   {
    "duration": 0,
    "start_time": "2023-04-16T15:55:44.308Z"
   },
   {
    "duration": 10,
    "start_time": "2023-04-16T15:57:04.111Z"
   },
   {
    "duration": 12,
    "start_time": "2023-04-16T15:57:46.828Z"
   },
   {
    "duration": 4,
    "start_time": "2023-04-16T16:00:00.387Z"
   },
   {
    "duration": 73,
    "start_time": "2023-04-16T16:00:28.693Z"
   },
   {
    "duration": 11,
    "start_time": "2023-04-16T16:00:37.349Z"
   },
   {
    "duration": 15,
    "start_time": "2023-04-16T16:00:51.134Z"
   },
   {
    "duration": 11,
    "start_time": "2023-04-16T16:03:13.651Z"
   },
   {
    "duration": 9,
    "start_time": "2023-04-16T16:03:20.690Z"
   },
   {
    "duration": 70,
    "start_time": "2023-04-16T16:03:25.132Z"
   },
   {
    "duration": 12,
    "start_time": "2023-04-16T16:05:15.511Z"
   },
   {
    "duration": 12,
    "start_time": "2023-04-16T16:05:29.695Z"
   },
   {
    "duration": 5,
    "start_time": "2023-04-16T16:05:35.699Z"
   },
   {
    "duration": 4,
    "start_time": "2023-04-16T16:06:10.054Z"
   },
   {
    "duration": 14,
    "start_time": "2023-04-16T16:07:46.346Z"
   },
   {
    "duration": 3,
    "start_time": "2023-04-16T16:08:14.052Z"
   },
   {
    "duration": 2601,
    "start_time": "2023-04-16T16:08:19.237Z"
   },
   {
    "duration": 4,
    "start_time": "2023-04-16T16:08:35.118Z"
   },
   {
    "duration": 69,
    "start_time": "2023-04-16T16:09:49.311Z"
   },
   {
    "duration": 3,
    "start_time": "2023-04-16T16:10:00.028Z"
   },
   {
    "duration": 2434,
    "start_time": "2023-04-16T16:10:04.402Z"
   },
   {
    "duration": 2605,
    "start_time": "2023-04-16T16:10:12.232Z"
   },
   {
    "duration": 2304,
    "start_time": "2023-04-16T16:10:18.638Z"
   },
   {
    "duration": 2504,
    "start_time": "2023-04-16T16:10:30.042Z"
   },
   {
    "duration": 3,
    "start_time": "2023-04-16T16:10:50.797Z"
   },
   {
    "duration": 3,
    "start_time": "2023-04-16T16:10:51.219Z"
   },
   {
    "duration": 3,
    "start_time": "2023-04-16T16:10:51.597Z"
   },
   {
    "duration": 2423,
    "start_time": "2023-04-16T16:10:55.617Z"
   },
   {
    "duration": 2102,
    "start_time": "2023-04-16T16:11:02.842Z"
   },
   {
    "duration": 4,
    "start_time": "2023-04-16T16:11:10.942Z"
   },
   {
    "duration": 4,
    "start_time": "2023-04-16T16:11:13.221Z"
   },
   {
    "duration": 3,
    "start_time": "2023-04-16T16:11:21.696Z"
   },
   {
    "duration": 4,
    "start_time": "2023-04-16T16:11:24.830Z"
   },
   {
    "duration": 3,
    "start_time": "2023-04-16T16:11:27.809Z"
   },
   {
    "duration": 25532,
    "start_time": "2023-04-16T16:11:28.046Z"
   },
   {
    "duration": 10,
    "start_time": "2023-04-16T16:11:53.579Z"
   },
   {
    "duration": 0,
    "start_time": "2023-04-16T16:11:53.590Z"
   },
   {
    "duration": 4,
    "start_time": "2023-04-16T16:12:05.396Z"
   },
   {
    "duration": 4,
    "start_time": "2023-04-16T16:12:49.960Z"
   },
   {
    "duration": 4,
    "start_time": "2023-04-16T16:12:54.715Z"
   },
   {
    "duration": 46,
    "start_time": "2023-04-16T16:12:55.098Z"
   },
   {
    "duration": 6,
    "start_time": "2023-04-16T16:12:55.338Z"
   },
   {
    "duration": 8,
    "start_time": "2023-04-16T16:12:56.749Z"
   },
   {
    "duration": 8,
    "start_time": "2023-04-16T16:13:18.426Z"
   },
   {
    "duration": 7,
    "start_time": "2023-04-16T16:13:22.824Z"
   },
   {
    "duration": 1257,
    "start_time": "2023-04-16T16:16:54.701Z"
   },
   {
    "duration": 6,
    "start_time": "2023-04-16T16:16:55.960Z"
   },
   {
    "duration": 268,
    "start_time": "2023-04-16T16:16:55.967Z"
   },
   {
    "duration": 28,
    "start_time": "2023-04-16T16:16:56.236Z"
   },
   {
    "duration": 65,
    "start_time": "2023-04-16T16:16:56.265Z"
   },
   {
    "duration": 23,
    "start_time": "2023-04-16T16:16:56.335Z"
   },
   {
    "duration": 312,
    "start_time": "2023-04-16T16:16:56.360Z"
   },
   {
    "duration": 25,
    "start_time": "2023-04-16T16:16:56.674Z"
   },
   {
    "duration": 380,
    "start_time": "2023-04-16T16:16:56.700Z"
   },
   {
    "duration": 196,
    "start_time": "2023-04-16T16:16:57.083Z"
   },
   {
    "duration": 403,
    "start_time": "2023-04-16T16:16:57.281Z"
   },
   {
    "duration": 3,
    "start_time": "2023-04-16T16:16:57.685Z"
   },
   {
    "duration": 8,
    "start_time": "2023-04-16T16:16:57.690Z"
   },
   {
    "duration": 10,
    "start_time": "2023-04-16T16:16:57.700Z"
   },
   {
    "duration": 8,
    "start_time": "2023-04-16T16:16:57.711Z"
   },
   {
    "duration": 17,
    "start_time": "2023-04-16T16:16:57.720Z"
   },
   {
    "duration": 14,
    "start_time": "2023-04-16T16:16:57.738Z"
   },
   {
    "duration": 33,
    "start_time": "2023-04-16T16:16:57.753Z"
   },
   {
    "duration": 16,
    "start_time": "2023-04-16T16:16:57.788Z"
   },
   {
    "duration": 8,
    "start_time": "2023-04-16T16:16:57.806Z"
   },
   {
    "duration": 39,
    "start_time": "2023-04-16T16:16:57.815Z"
   },
   {
    "duration": 11,
    "start_time": "2023-04-16T16:16:57.855Z"
   },
   {
    "duration": 17,
    "start_time": "2023-04-16T16:16:57.867Z"
   },
   {
    "duration": 908,
    "start_time": "2023-04-16T16:16:57.886Z"
   },
   {
    "duration": 6,
    "start_time": "2023-04-16T16:16:58.796Z"
   },
   {
    "duration": 638,
    "start_time": "2023-04-16T16:16:58.803Z"
   },
   {
    "duration": 6,
    "start_time": "2023-04-16T16:16:59.442Z"
   },
   {
    "duration": 736,
    "start_time": "2023-04-16T16:16:59.451Z"
   },
   {
    "duration": 6,
    "start_time": "2023-04-16T16:17:00.188Z"
   },
   {
    "duration": 435,
    "start_time": "2023-04-16T16:17:00.196Z"
   },
   {
    "duration": 437,
    "start_time": "2023-04-16T16:17:00.632Z"
   },
   {
    "duration": 3,
    "start_time": "2023-04-16T16:17:01.071Z"
   },
   {
    "duration": 53,
    "start_time": "2023-04-16T16:17:01.075Z"
   },
   {
    "duration": 35,
    "start_time": "2023-04-16T16:17:01.130Z"
   },
   {
    "duration": 29,
    "start_time": "2023-04-16T16:17:01.166Z"
   },
   {
    "duration": 1084,
    "start_time": "2023-04-16T16:17:01.197Z"
   },
   {
    "duration": 6,
    "start_time": "2023-04-16T16:17:02.283Z"
   },
   {
    "duration": 23,
    "start_time": "2023-04-16T16:17:02.290Z"
   },
   {
    "duration": 31,
    "start_time": "2023-04-16T16:17:02.315Z"
   },
   {
    "duration": 27,
    "start_time": "2023-04-16T16:17:02.348Z"
   },
   {
    "duration": 12,
    "start_time": "2023-04-16T16:17:02.377Z"
   },
   {
    "duration": 16,
    "start_time": "2023-04-16T16:17:02.390Z"
   },
   {
    "duration": 25,
    "start_time": "2023-04-16T16:17:02.407Z"
   },
   {
    "duration": 22,
    "start_time": "2023-04-16T16:17:02.433Z"
   },
   {
    "duration": 15,
    "start_time": "2023-04-16T16:17:02.456Z"
   },
   {
    "duration": 24,
    "start_time": "2023-04-16T16:17:02.472Z"
   },
   {
    "duration": 2040,
    "start_time": "2023-04-16T16:17:02.497Z"
   },
   {
    "duration": 6,
    "start_time": "2023-04-16T16:17:04.540Z"
   },
   {
    "duration": 2229872,
    "start_time": "2023-04-16T16:17:04.547Z"
   },
   {
    "duration": 4,
    "start_time": "2023-04-16T16:54:14.421Z"
   },
   {
    "duration": 3,
    "start_time": "2023-04-16T16:54:14.436Z"
   },
   {
    "duration": 26334,
    "start_time": "2023-04-16T16:54:14.441Z"
   },
   {
    "duration": 3,
    "start_time": "2023-04-16T16:54:40.777Z"
   },
   {
    "duration": 10,
    "start_time": "2023-04-16T16:54:40.782Z"
   },
   {
    "duration": 6,
    "start_time": "2023-04-16T16:54:40.793Z"
   },
   {
    "duration": 111,
    "start_time": "2023-04-16T16:54:40.800Z"
   },
   {
    "duration": 7,
    "start_time": "2023-04-16T16:54:40.912Z"
   },
   {
    "duration": 20,
    "start_time": "2023-04-16T16:54:40.921Z"
   }
  ],
  "kernelspec": {
   "display_name": "Python 3 (ipykernel)",
   "language": "python",
   "name": "python3"
  },
  "language_info": {
   "codemirror_mode": {
    "name": "ipython",
    "version": 3
   },
   "file_extension": ".py",
   "mimetype": "text/x-python",
   "name": "python",
   "nbconvert_exporter": "python",
   "pygments_lexer": "ipython3",
   "version": "3.9.13"
  },
  "toc": {
   "base_numbering": 1,
   "nav_menu": {},
   "number_sections": true,
   "sideBar": true,
   "skip_h1_title": true,
   "title_cell": "Содержание",
   "title_sidebar": "Contents",
   "toc_cell": true,
   "toc_position": {
    "height": "calc(100% - 180px)",
    "left": "10px",
    "top": "150px",
    "width": "165px"
   },
   "toc_section_display": true,
   "toc_window_display": true
  }
 },
 "nbformat": 4,
 "nbformat_minor": 2
}
