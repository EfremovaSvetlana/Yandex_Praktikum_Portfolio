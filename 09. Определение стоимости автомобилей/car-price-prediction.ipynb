{
 "cells": [
  {
   "cell_type": "markdown",
   "metadata": {},
   "source": [
    "# Определение стоимости автомобилей"
   ]
  },
  {
   "cell_type": "markdown",
   "metadata": {},
   "source": [
    "Сервис по продаже автомобилей с пробегом «Не бит, не крашен» разрабатывает приложение для привлечения новых клиентов. В нём можно быстро узнать рыночную стоимость своего автомобиля. В вашем распоряжении исторические данные: технические характеристики, комплектации и цены автомобилей. Вам нужно построить модель для определения стоимости. \n",
    "\n",
    "Заказчику важны:\n",
    "\n",
    "- качество предсказания;\n",
    "- скорость предсказания;\n",
    "- время обучения."
   ]
  },
  {
   "cell_type": "markdown",
   "metadata": {},
   "source": [
    "## Подготовка данных"
   ]
  },
  {
   "cell_type": "markdown",
   "metadata": {},
   "source": [
    "**1.1 Импортируем необходимые библиотеки.**"
   ]
  },
  {
   "cell_type": "code",
   "execution_count": 1,
   "metadata": {},
   "outputs": [],
   "source": [
    "import matplotlib.pyplot as plt\n",
    "import numpy as np\n",
    "import pandas as pd\n",
    "import seaborn as sns\n",
    "import time\n",
    "\n",
    "from sklearn.preprocessing import OneHotEncoder, OrdinalEncoder, StandardScaler\n",
    "from sklearn.model_selection import train_test_split, cross_val_score, RandomizedSearchCV\n",
    "from sklearn.metrics import mean_squared_error\n",
    "\n",
    "from sklearn.linear_model import LinearRegression\n",
    "from sklearn.ensemble import RandomForestRegressor\n",
    "from sklearn.tree import DecisionTreeRegressor\n",
    "from catboost import Pool, CatBoostRegressor, cv\n",
    "from lightgbm import LGBMRegressor\n",
    "from xgboost import XGBRegressor\n",
    "\n",
    "\n",
    "RANDOM_STATE=12345\n",
    "\n",
    "import warnings\n",
    "warnings.filterwarnings('ignore')"
   ]
  },
  {
   "cell_type": "code",
   "execution_count": 2,
   "metadata": {},
   "outputs": [
    {
     "name": "stdout",
     "output_type": "stream",
     "text": [
      "Requirement already satisfied: missingno in /opt/conda/lib/python3.9/site-packages (0.5.2)\r\n",
      "Requirement already satisfied: scipy in /opt/conda/lib/python3.9/site-packages (from missingno) (1.9.1)\r\n",
      "Requirement already satisfied: matplotlib in /opt/conda/lib/python3.9/site-packages (from missingno) (3.3.4)\r\n",
      "Requirement already satisfied: numpy in /opt/conda/lib/python3.9/site-packages (from missingno) (1.21.1)\r\n",
      "Requirement already satisfied: seaborn in /opt/conda/lib/python3.9/site-packages (from missingno) (0.11.1)\r\n",
      "Requirement already satisfied: python-dateutil>=2.1 in /opt/conda/lib/python3.9/site-packages (from matplotlib->missingno) (2.8.1)\r\n",
      "Requirement already satisfied: pillow>=6.2.0 in /opt/conda/lib/python3.9/site-packages (from matplotlib->missingno) (8.4.0)\r\n",
      "Requirement already satisfied: pyparsing!=2.0.4,!=2.1.2,!=2.1.6,>=2.0.3 in /opt/conda/lib/python3.9/site-packages (from matplotlib->missingno) (2.4.7)\r\n",
      "Requirement already satisfied: kiwisolver>=1.0.1 in /opt/conda/lib/python3.9/site-packages (from matplotlib->missingno) (1.4.4)\r\n",
      "Requirement already satisfied: cycler>=0.10 in /opt/conda/lib/python3.9/site-packages (from matplotlib->missingno) (0.11.0)\r\n",
      "Requirement already satisfied: six>=1.5 in /opt/conda/lib/python3.9/site-packages (from python-dateutil>=2.1->matplotlib->missingno) (1.16.0)\r\n",
      "Requirement already satisfied: pandas>=0.23 in /opt/conda/lib/python3.9/site-packages (from seaborn->missingno) (1.2.4)\r\n",
      "Requirement already satisfied: pytz>=2017.3 in /opt/conda/lib/python3.9/site-packages (from pandas>=0.23->seaborn->missingno) (2021.1)\r\n"
     ]
    }
   ],
   "source": [
    "!pip install missingno\n",
    "\n",
    "import missingno as msno"
   ]
  },
  {
   "cell_type": "markdown",
   "metadata": {},
   "source": [
    "**1.2 Пользовательские функции.**"
   ]
  },
  {
   "cell_type": "markdown",
   "metadata": {},
   "source": [
    "Напишем функцию для первичной проверки данных:"
   ]
  },
  {
   "cell_type": "code",
   "execution_count": 3,
   "metadata": {},
   "outputs": [],
   "source": [
    "def check_data(data_df):\n",
    "    print ('\\033[1m' + 'Изучим исходные данные'+ '\\033[0m')\n",
    "    print(data_df.info())\n",
    "    print(data_df.shape)\n",
    "        \n",
    "    missed_cells = data_df.isnull().sum().sum()/(data_df.shape[0]*(data_df.shape[1]-1))\n",
    "    missed_rows = sum(data_df.isnull().sum(axis = 1)>0)/data_df.shape[0]\n",
    "    print ('\\033[1m' + '\\nПроверка пропусков'+ '\\033[0m')\n",
    "    print ('Количество пропусков: {:.0f}'.format(data_df.isnull().sum().sum()))\n",
    "    print ('Доля пропусков: {:.1%}'.format(missed_cells)+ '\\033[0m')\n",
    "    print ('Доля строк содержащих пропуски: {:.1%}'.format(missed_rows))\n",
    "\n",
    "    ## Проверим дубликаты\n",
    "    \n",
    "    print ('\\033[1m' + '\\nПроверка на дубликаты'+ '\\033[0m')\n",
    "    print('Количество полных дубликатов: ', data_df.duplicated().sum())\n",
    "        \n",
    "    ## Посмотрим на сами данные\n",
    "    \n",
    "    print ('\\033[1m' + '\\nПервые пять строк датасета'+ '\\033[0m')\n",
    "    display(data_df.head())\n",
    "    \n",
    "    print('\\033[1m' + '\\nОписание количественных данных:'+ '\\033[0m')\n",
    "    display(data_df.describe().T)"
   ]
  },
  {
   "cell_type": "markdown",
   "metadata": {},
   "source": [
    "Функция отрисовки гистограмм и ящика с усами для количесвтенных переменных:"
   ]
  },
  {
   "cell_type": "code",
   "execution_count": 4,
   "metadata": {},
   "outputs": [],
   "source": [
    "def plot_hist(data, col_column):\n",
    "    rows = len(col_column)\n",
    "    f, ax = plt.subplots(rows,2, figsize=(8, 15))\n",
    "    f.tight_layout()\n",
    "    f.set_figheight(30)\n",
    "    f.set_figwidth(14)\n",
    "    plt.rcParams.update({'font.size': 18})\n",
    "    \n",
    "    for i, col in enumerate(col_column):         \n",
    "        sns.histplot(data[col], kde=True, bins=24, ax = ax[i, 0])                    \n",
    "        sns.boxplot(data[col], ax = ax[i, 1])\n",
    "\n",
    "        ax[i, 0].set_xlabel(col)\n",
    "        ax[i, 1].set_xlabel(col)\n",
    "        ax[i, 0].set_ylabel('Количество')\n",
    "    plt.suptitle(\"Гистограмма и ящик с усами для количесвтенных данных\", fontsize=22, y=1.01)\n",
    "    plt.show()"
   ]
  },
  {
   "cell_type": "markdown",
   "metadata": {},
   "source": [
    "**1.3 Загрузим данные.**"
   ]
  },
  {
   "cell_type": "code",
   "execution_count": 5,
   "metadata": {},
   "outputs": [],
   "source": [
    "df = pd.read_csv('/datasets/autos.csv')"
   ]
  },
  {
   "cell_type": "code",
   "execution_count": 6,
   "metadata": {},
   "outputs": [
    {
     "data": {
      "text/html": [
       "<div>\n",
       "<style scoped>\n",
       "    .dataframe tbody tr th:only-of-type {\n",
       "        vertical-align: middle;\n",
       "    }\n",
       "\n",
       "    .dataframe tbody tr th {\n",
       "        vertical-align: top;\n",
       "    }\n",
       "\n",
       "    .dataframe thead th {\n",
       "        text-align: right;\n",
       "    }\n",
       "</style>\n",
       "<table border=\"1\" class=\"dataframe\">\n",
       "  <thead>\n",
       "    <tr style=\"text-align: right;\">\n",
       "      <th></th>\n",
       "      <th>DateCrawled</th>\n",
       "      <th>Price</th>\n",
       "      <th>VehicleType</th>\n",
       "      <th>RegistrationYear</th>\n",
       "      <th>Gearbox</th>\n",
       "      <th>Power</th>\n",
       "      <th>Model</th>\n",
       "      <th>Kilometer</th>\n",
       "      <th>RegistrationMonth</th>\n",
       "      <th>FuelType</th>\n",
       "      <th>Brand</th>\n",
       "      <th>Repaired</th>\n",
       "      <th>DateCreated</th>\n",
       "      <th>NumberOfPictures</th>\n",
       "      <th>PostalCode</th>\n",
       "      <th>LastSeen</th>\n",
       "    </tr>\n",
       "  </thead>\n",
       "  <tbody>\n",
       "    <tr>\n",
       "      <th>0</th>\n",
       "      <td>2016-03-24 11:52:17</td>\n",
       "      <td>480</td>\n",
       "      <td>NaN</td>\n",
       "      <td>1993</td>\n",
       "      <td>manual</td>\n",
       "      <td>0</td>\n",
       "      <td>golf</td>\n",
       "      <td>150000</td>\n",
       "      <td>0</td>\n",
       "      <td>petrol</td>\n",
       "      <td>volkswagen</td>\n",
       "      <td>NaN</td>\n",
       "      <td>2016-03-24 00:00:00</td>\n",
       "      <td>0</td>\n",
       "      <td>70435</td>\n",
       "      <td>2016-04-07 03:16:57</td>\n",
       "    </tr>\n",
       "    <tr>\n",
       "      <th>1</th>\n",
       "      <td>2016-03-24 10:58:45</td>\n",
       "      <td>18300</td>\n",
       "      <td>coupe</td>\n",
       "      <td>2011</td>\n",
       "      <td>manual</td>\n",
       "      <td>190</td>\n",
       "      <td>NaN</td>\n",
       "      <td>125000</td>\n",
       "      <td>5</td>\n",
       "      <td>gasoline</td>\n",
       "      <td>audi</td>\n",
       "      <td>yes</td>\n",
       "      <td>2016-03-24 00:00:00</td>\n",
       "      <td>0</td>\n",
       "      <td>66954</td>\n",
       "      <td>2016-04-07 01:46:50</td>\n",
       "    </tr>\n",
       "    <tr>\n",
       "      <th>2</th>\n",
       "      <td>2016-03-14 12:52:21</td>\n",
       "      <td>9800</td>\n",
       "      <td>suv</td>\n",
       "      <td>2004</td>\n",
       "      <td>auto</td>\n",
       "      <td>163</td>\n",
       "      <td>grand</td>\n",
       "      <td>125000</td>\n",
       "      <td>8</td>\n",
       "      <td>gasoline</td>\n",
       "      <td>jeep</td>\n",
       "      <td>NaN</td>\n",
       "      <td>2016-03-14 00:00:00</td>\n",
       "      <td>0</td>\n",
       "      <td>90480</td>\n",
       "      <td>2016-04-05 12:47:46</td>\n",
       "    </tr>\n",
       "    <tr>\n",
       "      <th>3</th>\n",
       "      <td>2016-03-17 16:54:04</td>\n",
       "      <td>1500</td>\n",
       "      <td>small</td>\n",
       "      <td>2001</td>\n",
       "      <td>manual</td>\n",
       "      <td>75</td>\n",
       "      <td>golf</td>\n",
       "      <td>150000</td>\n",
       "      <td>6</td>\n",
       "      <td>petrol</td>\n",
       "      <td>volkswagen</td>\n",
       "      <td>no</td>\n",
       "      <td>2016-03-17 00:00:00</td>\n",
       "      <td>0</td>\n",
       "      <td>91074</td>\n",
       "      <td>2016-03-17 17:40:17</td>\n",
       "    </tr>\n",
       "    <tr>\n",
       "      <th>4</th>\n",
       "      <td>2016-03-31 17:25:20</td>\n",
       "      <td>3600</td>\n",
       "      <td>small</td>\n",
       "      <td>2008</td>\n",
       "      <td>manual</td>\n",
       "      <td>69</td>\n",
       "      <td>fabia</td>\n",
       "      <td>90000</td>\n",
       "      <td>7</td>\n",
       "      <td>gasoline</td>\n",
       "      <td>skoda</td>\n",
       "      <td>no</td>\n",
       "      <td>2016-03-31 00:00:00</td>\n",
       "      <td>0</td>\n",
       "      <td>60437</td>\n",
       "      <td>2016-04-06 10:17:21</td>\n",
       "    </tr>\n",
       "    <tr>\n",
       "      <th>...</th>\n",
       "      <td>...</td>\n",
       "      <td>...</td>\n",
       "      <td>...</td>\n",
       "      <td>...</td>\n",
       "      <td>...</td>\n",
       "      <td>...</td>\n",
       "      <td>...</td>\n",
       "      <td>...</td>\n",
       "      <td>...</td>\n",
       "      <td>...</td>\n",
       "      <td>...</td>\n",
       "      <td>...</td>\n",
       "      <td>...</td>\n",
       "      <td>...</td>\n",
       "      <td>...</td>\n",
       "      <td>...</td>\n",
       "    </tr>\n",
       "    <tr>\n",
       "      <th>354364</th>\n",
       "      <td>2016-03-21 09:50:58</td>\n",
       "      <td>0</td>\n",
       "      <td>NaN</td>\n",
       "      <td>2005</td>\n",
       "      <td>manual</td>\n",
       "      <td>0</td>\n",
       "      <td>colt</td>\n",
       "      <td>150000</td>\n",
       "      <td>7</td>\n",
       "      <td>petrol</td>\n",
       "      <td>mitsubishi</td>\n",
       "      <td>yes</td>\n",
       "      <td>2016-03-21 00:00:00</td>\n",
       "      <td>0</td>\n",
       "      <td>2694</td>\n",
       "      <td>2016-03-21 10:42:49</td>\n",
       "    </tr>\n",
       "    <tr>\n",
       "      <th>354365</th>\n",
       "      <td>2016-03-14 17:48:27</td>\n",
       "      <td>2200</td>\n",
       "      <td>NaN</td>\n",
       "      <td>2005</td>\n",
       "      <td>NaN</td>\n",
       "      <td>0</td>\n",
       "      <td>NaN</td>\n",
       "      <td>20000</td>\n",
       "      <td>1</td>\n",
       "      <td>NaN</td>\n",
       "      <td>sonstige_autos</td>\n",
       "      <td>NaN</td>\n",
       "      <td>2016-03-14 00:00:00</td>\n",
       "      <td>0</td>\n",
       "      <td>39576</td>\n",
       "      <td>2016-04-06 00:46:52</td>\n",
       "    </tr>\n",
       "    <tr>\n",
       "      <th>354366</th>\n",
       "      <td>2016-03-05 19:56:21</td>\n",
       "      <td>1199</td>\n",
       "      <td>convertible</td>\n",
       "      <td>2000</td>\n",
       "      <td>auto</td>\n",
       "      <td>101</td>\n",
       "      <td>fortwo</td>\n",
       "      <td>125000</td>\n",
       "      <td>3</td>\n",
       "      <td>petrol</td>\n",
       "      <td>smart</td>\n",
       "      <td>no</td>\n",
       "      <td>2016-03-05 00:00:00</td>\n",
       "      <td>0</td>\n",
       "      <td>26135</td>\n",
       "      <td>2016-03-11 18:17:12</td>\n",
       "    </tr>\n",
       "    <tr>\n",
       "      <th>354367</th>\n",
       "      <td>2016-03-19 18:57:12</td>\n",
       "      <td>9200</td>\n",
       "      <td>bus</td>\n",
       "      <td>1996</td>\n",
       "      <td>manual</td>\n",
       "      <td>102</td>\n",
       "      <td>transporter</td>\n",
       "      <td>150000</td>\n",
       "      <td>3</td>\n",
       "      <td>gasoline</td>\n",
       "      <td>volkswagen</td>\n",
       "      <td>no</td>\n",
       "      <td>2016-03-19 00:00:00</td>\n",
       "      <td>0</td>\n",
       "      <td>87439</td>\n",
       "      <td>2016-04-07 07:15:26</td>\n",
       "    </tr>\n",
       "    <tr>\n",
       "      <th>354368</th>\n",
       "      <td>2016-03-20 19:41:08</td>\n",
       "      <td>3400</td>\n",
       "      <td>wagon</td>\n",
       "      <td>2002</td>\n",
       "      <td>manual</td>\n",
       "      <td>100</td>\n",
       "      <td>golf</td>\n",
       "      <td>150000</td>\n",
       "      <td>6</td>\n",
       "      <td>gasoline</td>\n",
       "      <td>volkswagen</td>\n",
       "      <td>NaN</td>\n",
       "      <td>2016-03-20 00:00:00</td>\n",
       "      <td>0</td>\n",
       "      <td>40764</td>\n",
       "      <td>2016-03-24 12:45:21</td>\n",
       "    </tr>\n",
       "  </tbody>\n",
       "</table>\n",
       "<p>354369 rows × 16 columns</p>\n",
       "</div>"
      ],
      "text/plain": [
       "                DateCrawled  Price  VehicleType  RegistrationYear Gearbox  \\\n",
       "0       2016-03-24 11:52:17    480          NaN              1993  manual   \n",
       "1       2016-03-24 10:58:45  18300        coupe              2011  manual   \n",
       "2       2016-03-14 12:52:21   9800          suv              2004    auto   \n",
       "3       2016-03-17 16:54:04   1500        small              2001  manual   \n",
       "4       2016-03-31 17:25:20   3600        small              2008  manual   \n",
       "...                     ...    ...          ...               ...     ...   \n",
       "354364  2016-03-21 09:50:58      0          NaN              2005  manual   \n",
       "354365  2016-03-14 17:48:27   2200          NaN              2005     NaN   \n",
       "354366  2016-03-05 19:56:21   1199  convertible              2000    auto   \n",
       "354367  2016-03-19 18:57:12   9200          bus              1996  manual   \n",
       "354368  2016-03-20 19:41:08   3400        wagon              2002  manual   \n",
       "\n",
       "        Power        Model  Kilometer  RegistrationMonth  FuelType  \\\n",
       "0           0         golf     150000                  0    petrol   \n",
       "1         190          NaN     125000                  5  gasoline   \n",
       "2         163        grand     125000                  8  gasoline   \n",
       "3          75         golf     150000                  6    petrol   \n",
       "4          69        fabia      90000                  7  gasoline   \n",
       "...       ...          ...        ...                ...       ...   \n",
       "354364      0         colt     150000                  7    petrol   \n",
       "354365      0          NaN      20000                  1       NaN   \n",
       "354366    101       fortwo     125000                  3    petrol   \n",
       "354367    102  transporter     150000                  3  gasoline   \n",
       "354368    100         golf     150000                  6  gasoline   \n",
       "\n",
       "                 Brand Repaired          DateCreated  NumberOfPictures  \\\n",
       "0           volkswagen      NaN  2016-03-24 00:00:00                 0   \n",
       "1                 audi      yes  2016-03-24 00:00:00                 0   \n",
       "2                 jeep      NaN  2016-03-14 00:00:00                 0   \n",
       "3           volkswagen       no  2016-03-17 00:00:00                 0   \n",
       "4                skoda       no  2016-03-31 00:00:00                 0   \n",
       "...                ...      ...                  ...               ...   \n",
       "354364      mitsubishi      yes  2016-03-21 00:00:00                 0   \n",
       "354365  sonstige_autos      NaN  2016-03-14 00:00:00                 0   \n",
       "354366           smart       no  2016-03-05 00:00:00                 0   \n",
       "354367      volkswagen       no  2016-03-19 00:00:00                 0   \n",
       "354368      volkswagen      NaN  2016-03-20 00:00:00                 0   \n",
       "\n",
       "        PostalCode             LastSeen  \n",
       "0            70435  2016-04-07 03:16:57  \n",
       "1            66954  2016-04-07 01:46:50  \n",
       "2            90480  2016-04-05 12:47:46  \n",
       "3            91074  2016-03-17 17:40:17  \n",
       "4            60437  2016-04-06 10:17:21  \n",
       "...            ...                  ...  \n",
       "354364        2694  2016-03-21 10:42:49  \n",
       "354365       39576  2016-04-06 00:46:52  \n",
       "354366       26135  2016-03-11 18:17:12  \n",
       "354367       87439  2016-04-07 07:15:26  \n",
       "354368       40764  2016-03-24 12:45:21  \n",
       "\n",
       "[354369 rows x 16 columns]"
      ]
     },
     "execution_count": 6,
     "metadata": {},
     "output_type": "execute_result"
    }
   ],
   "source": [
    "df"
   ]
  },
  {
   "cell_type": "markdown",
   "metadata": {},
   "source": [
    "**1.4 Первичный осмотр данных.**"
   ]
  },
  {
   "cell_type": "markdown",
   "metadata": {},
   "source": [
    "Описательный анализ:"
   ]
  },
  {
   "cell_type": "code",
   "execution_count": 7,
   "metadata": {},
   "outputs": [
    {
     "name": "stdout",
     "output_type": "stream",
     "text": [
      "\u001b[1mИзучим исходные данные\u001b[0m\n",
      "<class 'pandas.core.frame.DataFrame'>\n",
      "RangeIndex: 354369 entries, 0 to 354368\n",
      "Data columns (total 16 columns):\n",
      " #   Column             Non-Null Count   Dtype \n",
      "---  ------             --------------   ----- \n",
      " 0   DateCrawled        354369 non-null  object\n",
      " 1   Price              354369 non-null  int64 \n",
      " 2   VehicleType        316879 non-null  object\n",
      " 3   RegistrationYear   354369 non-null  int64 \n",
      " 4   Gearbox            334536 non-null  object\n",
      " 5   Power              354369 non-null  int64 \n",
      " 6   Model              334664 non-null  object\n",
      " 7   Kilometer          354369 non-null  int64 \n",
      " 8   RegistrationMonth  354369 non-null  int64 \n",
      " 9   FuelType           321474 non-null  object\n",
      " 10  Brand              354369 non-null  object\n",
      " 11  Repaired           283215 non-null  object\n",
      " 12  DateCreated        354369 non-null  object\n",
      " 13  NumberOfPictures   354369 non-null  int64 \n",
      " 14  PostalCode         354369 non-null  int64 \n",
      " 15  LastSeen           354369 non-null  object\n",
      "dtypes: int64(7), object(9)\n",
      "memory usage: 43.3+ MB\n",
      "None\n",
      "(354369, 16)\n",
      "\u001b[1m\n",
      "Проверка пропусков\u001b[0m\n",
      "Количество пропусков: 181077\n",
      "Доля пропусков: 3.4%\u001b[0m\n",
      "Доля строк содержащих пропуски: 30.6%\n",
      "\u001b[1m\n",
      "Проверка на дубликаты\u001b[0m\n",
      "Количество полных дубликатов:  4\n",
      "\u001b[1m\n",
      "Первые пять строк датасета\u001b[0m\n"
     ]
    },
    {
     "data": {
      "text/html": [
       "<div>\n",
       "<style scoped>\n",
       "    .dataframe tbody tr th:only-of-type {\n",
       "        vertical-align: middle;\n",
       "    }\n",
       "\n",
       "    .dataframe tbody tr th {\n",
       "        vertical-align: top;\n",
       "    }\n",
       "\n",
       "    .dataframe thead th {\n",
       "        text-align: right;\n",
       "    }\n",
       "</style>\n",
       "<table border=\"1\" class=\"dataframe\">\n",
       "  <thead>\n",
       "    <tr style=\"text-align: right;\">\n",
       "      <th></th>\n",
       "      <th>DateCrawled</th>\n",
       "      <th>Price</th>\n",
       "      <th>VehicleType</th>\n",
       "      <th>RegistrationYear</th>\n",
       "      <th>Gearbox</th>\n",
       "      <th>Power</th>\n",
       "      <th>Model</th>\n",
       "      <th>Kilometer</th>\n",
       "      <th>RegistrationMonth</th>\n",
       "      <th>FuelType</th>\n",
       "      <th>Brand</th>\n",
       "      <th>Repaired</th>\n",
       "      <th>DateCreated</th>\n",
       "      <th>NumberOfPictures</th>\n",
       "      <th>PostalCode</th>\n",
       "      <th>LastSeen</th>\n",
       "    </tr>\n",
       "  </thead>\n",
       "  <tbody>\n",
       "    <tr>\n",
       "      <th>0</th>\n",
       "      <td>2016-03-24 11:52:17</td>\n",
       "      <td>480</td>\n",
       "      <td>NaN</td>\n",
       "      <td>1993</td>\n",
       "      <td>manual</td>\n",
       "      <td>0</td>\n",
       "      <td>golf</td>\n",
       "      <td>150000</td>\n",
       "      <td>0</td>\n",
       "      <td>petrol</td>\n",
       "      <td>volkswagen</td>\n",
       "      <td>NaN</td>\n",
       "      <td>2016-03-24 00:00:00</td>\n",
       "      <td>0</td>\n",
       "      <td>70435</td>\n",
       "      <td>2016-04-07 03:16:57</td>\n",
       "    </tr>\n",
       "    <tr>\n",
       "      <th>1</th>\n",
       "      <td>2016-03-24 10:58:45</td>\n",
       "      <td>18300</td>\n",
       "      <td>coupe</td>\n",
       "      <td>2011</td>\n",
       "      <td>manual</td>\n",
       "      <td>190</td>\n",
       "      <td>NaN</td>\n",
       "      <td>125000</td>\n",
       "      <td>5</td>\n",
       "      <td>gasoline</td>\n",
       "      <td>audi</td>\n",
       "      <td>yes</td>\n",
       "      <td>2016-03-24 00:00:00</td>\n",
       "      <td>0</td>\n",
       "      <td>66954</td>\n",
       "      <td>2016-04-07 01:46:50</td>\n",
       "    </tr>\n",
       "    <tr>\n",
       "      <th>2</th>\n",
       "      <td>2016-03-14 12:52:21</td>\n",
       "      <td>9800</td>\n",
       "      <td>suv</td>\n",
       "      <td>2004</td>\n",
       "      <td>auto</td>\n",
       "      <td>163</td>\n",
       "      <td>grand</td>\n",
       "      <td>125000</td>\n",
       "      <td>8</td>\n",
       "      <td>gasoline</td>\n",
       "      <td>jeep</td>\n",
       "      <td>NaN</td>\n",
       "      <td>2016-03-14 00:00:00</td>\n",
       "      <td>0</td>\n",
       "      <td>90480</td>\n",
       "      <td>2016-04-05 12:47:46</td>\n",
       "    </tr>\n",
       "    <tr>\n",
       "      <th>3</th>\n",
       "      <td>2016-03-17 16:54:04</td>\n",
       "      <td>1500</td>\n",
       "      <td>small</td>\n",
       "      <td>2001</td>\n",
       "      <td>manual</td>\n",
       "      <td>75</td>\n",
       "      <td>golf</td>\n",
       "      <td>150000</td>\n",
       "      <td>6</td>\n",
       "      <td>petrol</td>\n",
       "      <td>volkswagen</td>\n",
       "      <td>no</td>\n",
       "      <td>2016-03-17 00:00:00</td>\n",
       "      <td>0</td>\n",
       "      <td>91074</td>\n",
       "      <td>2016-03-17 17:40:17</td>\n",
       "    </tr>\n",
       "    <tr>\n",
       "      <th>4</th>\n",
       "      <td>2016-03-31 17:25:20</td>\n",
       "      <td>3600</td>\n",
       "      <td>small</td>\n",
       "      <td>2008</td>\n",
       "      <td>manual</td>\n",
       "      <td>69</td>\n",
       "      <td>fabia</td>\n",
       "      <td>90000</td>\n",
       "      <td>7</td>\n",
       "      <td>gasoline</td>\n",
       "      <td>skoda</td>\n",
       "      <td>no</td>\n",
       "      <td>2016-03-31 00:00:00</td>\n",
       "      <td>0</td>\n",
       "      <td>60437</td>\n",
       "      <td>2016-04-06 10:17:21</td>\n",
       "    </tr>\n",
       "  </tbody>\n",
       "</table>\n",
       "</div>"
      ],
      "text/plain": [
       "           DateCrawled  Price VehicleType  RegistrationYear Gearbox  Power  \\\n",
       "0  2016-03-24 11:52:17    480         NaN              1993  manual      0   \n",
       "1  2016-03-24 10:58:45  18300       coupe              2011  manual    190   \n",
       "2  2016-03-14 12:52:21   9800         suv              2004    auto    163   \n",
       "3  2016-03-17 16:54:04   1500       small              2001  manual     75   \n",
       "4  2016-03-31 17:25:20   3600       small              2008  manual     69   \n",
       "\n",
       "   Model  Kilometer  RegistrationMonth  FuelType       Brand Repaired  \\\n",
       "0   golf     150000                  0    petrol  volkswagen      NaN   \n",
       "1    NaN     125000                  5  gasoline        audi      yes   \n",
       "2  grand     125000                  8  gasoline        jeep      NaN   \n",
       "3   golf     150000                  6    petrol  volkswagen       no   \n",
       "4  fabia      90000                  7  gasoline       skoda       no   \n",
       "\n",
       "           DateCreated  NumberOfPictures  PostalCode             LastSeen  \n",
       "0  2016-03-24 00:00:00                 0       70435  2016-04-07 03:16:57  \n",
       "1  2016-03-24 00:00:00                 0       66954  2016-04-07 01:46:50  \n",
       "2  2016-03-14 00:00:00                 0       90480  2016-04-05 12:47:46  \n",
       "3  2016-03-17 00:00:00                 0       91074  2016-03-17 17:40:17  \n",
       "4  2016-03-31 00:00:00                 0       60437  2016-04-06 10:17:21  "
      ]
     },
     "metadata": {},
     "output_type": "display_data"
    },
    {
     "name": "stdout",
     "output_type": "stream",
     "text": [
      "\u001b[1m\n",
      "Описание количественных данных:\u001b[0m\n"
     ]
    },
    {
     "data": {
      "text/html": [
       "<div>\n",
       "<style scoped>\n",
       "    .dataframe tbody tr th:only-of-type {\n",
       "        vertical-align: middle;\n",
       "    }\n",
       "\n",
       "    .dataframe tbody tr th {\n",
       "        vertical-align: top;\n",
       "    }\n",
       "\n",
       "    .dataframe thead th {\n",
       "        text-align: right;\n",
       "    }\n",
       "</style>\n",
       "<table border=\"1\" class=\"dataframe\">\n",
       "  <thead>\n",
       "    <tr style=\"text-align: right;\">\n",
       "      <th></th>\n",
       "      <th>count</th>\n",
       "      <th>mean</th>\n",
       "      <th>std</th>\n",
       "      <th>min</th>\n",
       "      <th>25%</th>\n",
       "      <th>50%</th>\n",
       "      <th>75%</th>\n",
       "      <th>max</th>\n",
       "    </tr>\n",
       "  </thead>\n",
       "  <tbody>\n",
       "    <tr>\n",
       "      <th>Price</th>\n",
       "      <td>354369.0</td>\n",
       "      <td>4416.656776</td>\n",
       "      <td>4514.158514</td>\n",
       "      <td>0.0</td>\n",
       "      <td>1050.0</td>\n",
       "      <td>2700.0</td>\n",
       "      <td>6400.0</td>\n",
       "      <td>20000.0</td>\n",
       "    </tr>\n",
       "    <tr>\n",
       "      <th>RegistrationYear</th>\n",
       "      <td>354369.0</td>\n",
       "      <td>2004.234448</td>\n",
       "      <td>90.227958</td>\n",
       "      <td>1000.0</td>\n",
       "      <td>1999.0</td>\n",
       "      <td>2003.0</td>\n",
       "      <td>2008.0</td>\n",
       "      <td>9999.0</td>\n",
       "    </tr>\n",
       "    <tr>\n",
       "      <th>Power</th>\n",
       "      <td>354369.0</td>\n",
       "      <td>110.094337</td>\n",
       "      <td>189.850405</td>\n",
       "      <td>0.0</td>\n",
       "      <td>69.0</td>\n",
       "      <td>105.0</td>\n",
       "      <td>143.0</td>\n",
       "      <td>20000.0</td>\n",
       "    </tr>\n",
       "    <tr>\n",
       "      <th>Kilometer</th>\n",
       "      <td>354369.0</td>\n",
       "      <td>128211.172535</td>\n",
       "      <td>37905.341530</td>\n",
       "      <td>5000.0</td>\n",
       "      <td>125000.0</td>\n",
       "      <td>150000.0</td>\n",
       "      <td>150000.0</td>\n",
       "      <td>150000.0</td>\n",
       "    </tr>\n",
       "    <tr>\n",
       "      <th>RegistrationMonth</th>\n",
       "      <td>354369.0</td>\n",
       "      <td>5.714645</td>\n",
       "      <td>3.726421</td>\n",
       "      <td>0.0</td>\n",
       "      <td>3.0</td>\n",
       "      <td>6.0</td>\n",
       "      <td>9.0</td>\n",
       "      <td>12.0</td>\n",
       "    </tr>\n",
       "    <tr>\n",
       "      <th>NumberOfPictures</th>\n",
       "      <td>354369.0</td>\n",
       "      <td>0.000000</td>\n",
       "      <td>0.000000</td>\n",
       "      <td>0.0</td>\n",
       "      <td>0.0</td>\n",
       "      <td>0.0</td>\n",
       "      <td>0.0</td>\n",
       "      <td>0.0</td>\n",
       "    </tr>\n",
       "    <tr>\n",
       "      <th>PostalCode</th>\n",
       "      <td>354369.0</td>\n",
       "      <td>50508.689087</td>\n",
       "      <td>25783.096248</td>\n",
       "      <td>1067.0</td>\n",
       "      <td>30165.0</td>\n",
       "      <td>49413.0</td>\n",
       "      <td>71083.0</td>\n",
       "      <td>99998.0</td>\n",
       "    </tr>\n",
       "  </tbody>\n",
       "</table>\n",
       "</div>"
      ],
      "text/plain": [
       "                      count           mean           std     min       25%  \\\n",
       "Price              354369.0    4416.656776   4514.158514     0.0    1050.0   \n",
       "RegistrationYear   354369.0    2004.234448     90.227958  1000.0    1999.0   \n",
       "Power              354369.0     110.094337    189.850405     0.0      69.0   \n",
       "Kilometer          354369.0  128211.172535  37905.341530  5000.0  125000.0   \n",
       "RegistrationMonth  354369.0       5.714645      3.726421     0.0       3.0   \n",
       "NumberOfPictures   354369.0       0.000000      0.000000     0.0       0.0   \n",
       "PostalCode         354369.0   50508.689087  25783.096248  1067.0   30165.0   \n",
       "\n",
       "                        50%       75%       max  \n",
       "Price                2700.0    6400.0   20000.0  \n",
       "RegistrationYear     2003.0    2008.0    9999.0  \n",
       "Power                 105.0     143.0   20000.0  \n",
       "Kilometer          150000.0  150000.0  150000.0  \n",
       "RegistrationMonth       6.0       9.0      12.0  \n",
       "NumberOfPictures        0.0       0.0       0.0  \n",
       "PostalCode          49413.0   71083.0   99998.0  "
      ]
     },
     "metadata": {},
     "output_type": "display_data"
    }
   ],
   "source": [
    "check_data(df)"
   ]
  },
  {
   "cell_type": "markdown",
   "metadata": {},
   "source": [
    "Посмотрим дату создания последней анкеты:"
   ]
  },
  {
   "cell_type": "code",
   "execution_count": 8,
   "metadata": {},
   "outputs": [
    {
     "data": {
      "text/plain": [
       "'2016-04-07 00:00:00'"
      ]
     },
     "execution_count": 8,
     "metadata": {},
     "output_type": "execute_result"
    }
   ],
   "source": [
    "df.DateCreated.max()"
   ]
  },
  {
   "cell_type": "markdown",
   "metadata": {},
   "source": [
    "Вывод:\n",
    "- в нашей таблице 16 столбцов и 354368 строк;\n",
    "- 30% строк содержит пропуски;\n",
    "- выявлены дубликаты;\n",
    "- название столбцов в \"верблюжьем стиле\";\n",
    "- есть аномальные значения.\n",
    "\n",
    "**Проведём предобработку данных:**"
   ]
  },
  {
   "cell_type": "markdown",
   "metadata": {},
   "source": [
    "Вывод всех задублированных строк:"
   ]
  },
  {
   "cell_type": "code",
   "execution_count": 9,
   "metadata": {},
   "outputs": [
    {
     "data": {
      "text/html": [
       "<div>\n",
       "<style scoped>\n",
       "    .dataframe tbody tr th:only-of-type {\n",
       "        vertical-align: middle;\n",
       "    }\n",
       "\n",
       "    .dataframe tbody tr th {\n",
       "        vertical-align: top;\n",
       "    }\n",
       "\n",
       "    .dataframe thead th {\n",
       "        text-align: right;\n",
       "    }\n",
       "</style>\n",
       "<table border=\"1\" class=\"dataframe\">\n",
       "  <thead>\n",
       "    <tr style=\"text-align: right;\">\n",
       "      <th></th>\n",
       "      <th>DateCrawled</th>\n",
       "      <th>Price</th>\n",
       "      <th>VehicleType</th>\n",
       "      <th>RegistrationYear</th>\n",
       "      <th>Gearbox</th>\n",
       "      <th>Power</th>\n",
       "      <th>Model</th>\n",
       "      <th>Kilometer</th>\n",
       "      <th>RegistrationMonth</th>\n",
       "      <th>FuelType</th>\n",
       "      <th>Brand</th>\n",
       "      <th>Repaired</th>\n",
       "      <th>DateCreated</th>\n",
       "      <th>NumberOfPictures</th>\n",
       "      <th>PostalCode</th>\n",
       "      <th>LastSeen</th>\n",
       "    </tr>\n",
       "  </thead>\n",
       "  <tbody>\n",
       "    <tr>\n",
       "      <th>171088</th>\n",
       "      <td>2016-03-08 18:42:48</td>\n",
       "      <td>1799</td>\n",
       "      <td>coupe</td>\n",
       "      <td>1999</td>\n",
       "      <td>auto</td>\n",
       "      <td>193</td>\n",
       "      <td>clk</td>\n",
       "      <td>20000</td>\n",
       "      <td>7</td>\n",
       "      <td>petrol</td>\n",
       "      <td>mercedes_benz</td>\n",
       "      <td>no</td>\n",
       "      <td>2016-03-08 00:00:00</td>\n",
       "      <td>0</td>\n",
       "      <td>89518</td>\n",
       "      <td>2016-03-09 09:46:57</td>\n",
       "    </tr>\n",
       "    <tr>\n",
       "      <th>231258</th>\n",
       "      <td>2016-03-28 00:56:10</td>\n",
       "      <td>1000</td>\n",
       "      <td>small</td>\n",
       "      <td>2002</td>\n",
       "      <td>manual</td>\n",
       "      <td>83</td>\n",
       "      <td>other</td>\n",
       "      <td>150000</td>\n",
       "      <td>1</td>\n",
       "      <td>petrol</td>\n",
       "      <td>suzuki</td>\n",
       "      <td>no</td>\n",
       "      <td>2016-03-28 00:00:00</td>\n",
       "      <td>0</td>\n",
       "      <td>66589</td>\n",
       "      <td>2016-03-28 08:46:21</td>\n",
       "    </tr>\n",
       "    <tr>\n",
       "      <th>258109</th>\n",
       "      <td>2016-04-03 09:01:15</td>\n",
       "      <td>4699</td>\n",
       "      <td>coupe</td>\n",
       "      <td>2003</td>\n",
       "      <td>auto</td>\n",
       "      <td>218</td>\n",
       "      <td>clk</td>\n",
       "      <td>125000</td>\n",
       "      <td>6</td>\n",
       "      <td>petrol</td>\n",
       "      <td>mercedes_benz</td>\n",
       "      <td>yes</td>\n",
       "      <td>2016-04-03 00:00:00</td>\n",
       "      <td>0</td>\n",
       "      <td>75196</td>\n",
       "      <td>2016-04-07 09:44:54</td>\n",
       "    </tr>\n",
       "    <tr>\n",
       "      <th>325651</th>\n",
       "      <td>2016-03-18 18:46:15</td>\n",
       "      <td>1999</td>\n",
       "      <td>wagon</td>\n",
       "      <td>2001</td>\n",
       "      <td>manual</td>\n",
       "      <td>131</td>\n",
       "      <td>passat</td>\n",
       "      <td>150000</td>\n",
       "      <td>7</td>\n",
       "      <td>gasoline</td>\n",
       "      <td>volkswagen</td>\n",
       "      <td>no</td>\n",
       "      <td>2016-03-18 00:00:00</td>\n",
       "      <td>0</td>\n",
       "      <td>36391</td>\n",
       "      <td>2016-03-18 18:46:15</td>\n",
       "    </tr>\n",
       "  </tbody>\n",
       "</table>\n",
       "</div>"
      ],
      "text/plain": [
       "                DateCrawled  Price VehicleType  RegistrationYear Gearbox  \\\n",
       "171088  2016-03-08 18:42:48   1799       coupe              1999    auto   \n",
       "231258  2016-03-28 00:56:10   1000       small              2002  manual   \n",
       "258109  2016-04-03 09:01:15   4699       coupe              2003    auto   \n",
       "325651  2016-03-18 18:46:15   1999       wagon              2001  manual   \n",
       "\n",
       "        Power   Model  Kilometer  RegistrationMonth  FuelType          Brand  \\\n",
       "171088    193     clk      20000                  7    petrol  mercedes_benz   \n",
       "231258     83   other     150000                  1    petrol         suzuki   \n",
       "258109    218     clk     125000                  6    petrol  mercedes_benz   \n",
       "325651    131  passat     150000                  7  gasoline     volkswagen   \n",
       "\n",
       "       Repaired          DateCreated  NumberOfPictures  PostalCode  \\\n",
       "171088       no  2016-03-08 00:00:00                 0       89518   \n",
       "231258       no  2016-03-28 00:00:00                 0       66589   \n",
       "258109      yes  2016-04-03 00:00:00                 0       75196   \n",
       "325651       no  2016-03-18 00:00:00                 0       36391   \n",
       "\n",
       "                   LastSeen  \n",
       "171088  2016-03-09 09:46:57  \n",
       "231258  2016-03-28 08:46:21  \n",
       "258109  2016-04-07 09:44:54  \n",
       "325651  2016-03-18 18:46:15  "
      ]
     },
     "execution_count": 9,
     "metadata": {},
     "output_type": "execute_result"
    }
   ],
   "source": [
    "df[df.duplicated()]"
   ]
  },
  {
   "cell_type": "markdown",
   "metadata": {},
   "source": [
    "**Полных дубликатов не наблюдается, есть совпадающие признаки, оставим всё как есть.**"
   ]
  },
  {
   "cell_type": "markdown",
   "metadata": {},
   "source": [
    "**1.5 Удалим не информативные признаки:**\n",
    "- DateCrawled - дата скачивания анкеты из базы;\n",
    "- DateCreated - дата создания анкеты;\n",
    "- LastSeen - дата последней активности пользователя;\n",
    "- PostalCode - почтовый индекс владельца анкеты (пользователя);\n",
    "- NumberOfPictures - количество фотографий автомобиля;\n",
    "- RegistrationMonth - месяц регистрации автомобиля.\n",
    "\n",
    "DateCrawled, DateCreated, LastSeen, NumberOfPictures, PostalCode - не являются свойствами автомобиля и не влияют на его стоимость. \\\n",
    "RegistrationMonth - у нас есть признак - год регистрации, поэтому месяц регистрации нам не нужен. "
   ]
  },
  {
   "cell_type": "code",
   "execution_count": 10,
   "metadata": {},
   "outputs": [],
   "source": [
    "df = df.drop(columns=['DateCrawled', 'DateCreated','LastSeen', \n",
    "                      'NumberOfPictures', 'RegistrationMonth', 'PostalCode'], axis=1)"
   ]
  },
  {
   "cell_type": "code",
   "execution_count": 11,
   "metadata": {},
   "outputs": [
    {
     "data": {
      "text/plain": [
       "Index(['Price', 'VehicleType', 'RegistrationYear', 'Gearbox', 'Power', 'Model',\n",
       "       'Kilometer', 'FuelType', 'Brand', 'Repaired'],\n",
       "      dtype='object')"
      ]
     },
     "execution_count": 11,
     "metadata": {},
     "output_type": "execute_result"
    }
   ],
   "source": [
    "df.columns"
   ]
  },
  {
   "cell_type": "markdown",
   "metadata": {},
   "source": [
    "**1.6 Приведем названия столбцов к змеиному регистру.**"
   ]
  },
  {
   "cell_type": "code",
   "execution_count": 12,
   "metadata": {},
   "outputs": [],
   "source": [
    "df.columns = map(str.lower, df.columns)"
   ]
  },
  {
   "cell_type": "code",
   "execution_count": 13,
   "metadata": {},
   "outputs": [],
   "source": [
    "df.rename(columns={'vehicletype':'vehicle_type', \n",
    "                   'registrationyear': 'registration_year', \n",
    "                   'fueltype':'fuel_type'}, inplace=True)"
   ]
  },
  {
   "cell_type": "code",
   "execution_count": 14,
   "metadata": {},
   "outputs": [
    {
     "data": {
      "text/plain": [
       "Index(['price', 'vehicle_type', 'registration_year', 'gearbox', 'power',\n",
       "       'model', 'kilometer', 'fuel_type', 'brand', 'repaired'],\n",
       "      dtype='object')"
      ]
     },
     "execution_count": 14,
     "metadata": {},
     "output_type": "execute_result"
    }
   ],
   "source": [
    "df.columns"
   ]
  },
  {
   "cell_type": "markdown",
   "metadata": {},
   "source": [
    "**1.7 Посмотрим на уникальные значения целевого признака.**"
   ]
  },
  {
   "cell_type": "code",
   "execution_count": 15,
   "metadata": {},
   "outputs": [
    {
     "data": {
      "text/plain": [
       "0        10772\n",
       "500       5670\n",
       "1500      5394\n",
       "1000      4649\n",
       "1200      4594\n",
       "         ...  \n",
       "13180        1\n",
       "10879        1\n",
       "2683         1\n",
       "634          1\n",
       "8188         1\n",
       "Name: price, Length: 3731, dtype: int64"
      ]
     },
     "execution_count": 15,
     "metadata": {},
     "output_type": "execute_result"
    }
   ],
   "source": [
    "df.price.value_counts()"
   ]
  },
  {
   "cell_type": "markdown",
   "metadata": {},
   "source": [
    "У нас 10772 значений равных нулю, т.к. цену восстановить не получится, удалим данные значения:"
   ]
  },
  {
   "cell_type": "code",
   "execution_count": 16,
   "metadata": {},
   "outputs": [],
   "source": [
    "df = df.query('price != 0')"
   ]
  },
  {
   "cell_type": "markdown",
   "metadata": {},
   "source": [
    "**1.8 Посмотрим пропуски.**"
   ]
  },
  {
   "cell_type": "code",
   "execution_count": 17,
   "metadata": {},
   "outputs": [
    {
     "data": {
      "text/plain": [
       "<AxesSubplot:>"
      ]
     },
     "execution_count": 17,
     "metadata": {},
     "output_type": "execute_result"
    },
    {
     "data": {
      "image/png": "[encoded data removed]",
      "text/plain": [
       "<Figure size 1800x720 with 3 Axes>"
      ]
     },
     "metadata": {
      "needs_background": "light"
     },
     "output_type": "display_data"
    }
   ],
   "source": [
    "msno.bar(df)"
   ]
  },
  {
   "cell_type": "markdown",
   "metadata": {},
   "source": [
    "Мы видим пропущенные значения в столбцах:\n",
    "- vehicle_type\n",
    "- gearbox\n",
    "- model\n",
    "- fuel_type\n",
    "- repaired "
   ]
  },
  {
   "cell_type": "markdown",
   "metadata": {},
   "source": [
    "В столбце \"repaired\" больше всего пропущенных значений. \\\n",
    "Т.к. это может означать, что машина не ремонтировалась или владелец решил скрыть данные подробности - заменим пропуски на - \"no\"."
   ]
  },
  {
   "cell_type": "code",
   "execution_count": 18,
   "metadata": {},
   "outputs": [
    {
     "name": "stdout",
     "output_type": "stream",
     "text": [
      "Количество пропусков в столбце \"repaired\" = 0\n"
     ]
    }
   ],
   "source": [
    "df['repaired'] = df['repaired'].fillna('no')\n",
    "\n",
    "print('Количество пропусков в столбце \"repaired\" =', df['repaired'].isna().sum())"
   ]
  },
  {
   "cell_type": "markdown",
   "metadata": {},
   "source": [
    "Остальные признаки восстановить невозможно, заполним их модой по группе:"
   ]
  },
  {
   "cell_type": "code",
   "execution_count": 19,
   "metadata": {},
   "outputs": [],
   "source": [
    "df['model'] = df.groupby(['brand', 'registration_year'])['model'].transform(\n",
    "    lambda x: x.fillna((x.mode()[0] if not x.mode().empty else 'unknown')))\n",
    "\n",
    "df['vehicle_type'] = df.groupby(['registration_year', 'model'])['vehicle_type'].transform(\n",
    "    lambda x: x.fillna((x.mode()[0] if not x.mode().empty else 'unknown')))\n",
    "\n",
    "df['gearbox'] = df.groupby(['registration_year', 'model'])['gearbox'].transform(\n",
    "    lambda x: x.fillna((x.mode()[0] if not x.mode().empty else 'unknown')))\n",
    "\n",
    "df['fuel_type'] = df.groupby(['registration_year', 'model'])['fuel_type'].transform(\n",
    "    lambda x: x.fillna((x.mode()[0] if not x.mode().empty else 'unknown')))\n",
    "\n",
    "\n",
    "\n"
   ]
  },
  {
   "cell_type": "code",
   "execution_count": 20,
   "metadata": {},
   "outputs": [
    {
     "name": "stdout",
     "output_type": "stream",
     "text": [
      "2901\n",
      "12914\n",
      "248\n",
      "326\n"
     ]
    }
   ],
   "source": [
    "print(df['model'][df['model'] == 'unknown'].count())\n",
    "print(df['vehicle_type'][df['vehicle_type'] == 'unknown'].count())\n",
    "print(df['gearbox'][df['gearbox'] == 'unknown'].count())\n",
    "print(df['fuel_type'][df['fuel_type'] == 'unknown'].count())"
   ]
  },
  {
   "cell_type": "markdown",
   "metadata": {},
   "source": [
    "Осталось небольшое количество \"неизвестных\" значений, удалим их:"
   ]
  },
  {
   "cell_type": "code",
   "execution_count": 21,
   "metadata": {},
   "outputs": [],
   "source": [
    "df = df.loc[(df['model'] != 'unknown') \n",
    "            & (df['vehicle_type'] != 'unknown') \n",
    "            & (df['gearbox'] != 'unknown') \n",
    "            & (df['fuel_type'] != 'unknown')] "
   ]
  },
  {
   "cell_type": "code",
   "execution_count": 22,
   "metadata": {},
   "outputs": [
    {
     "name": "stdout",
     "output_type": "stream",
     "text": [
      "Количество пропусков в столбце \"model\" = 0\n",
      "Количество пропусков в столбце \"vehicle_type\" = 0\n",
      "Количество пропусков в столбце \"gearbox\" = 0\n",
      "Количество пропусков в столбце \"fuel_type\" = 0\n"
     ]
    },
    {
     "data": {
      "text/plain": [
       "<AxesSubplot:>"
      ]
     },
     "execution_count": 22,
     "metadata": {},
     "output_type": "execute_result"
    },
    {
     "data": {
      "image/png": "[encoded data removed]",
      "text/plain": [
       "<Figure size 1800x720 with 3 Axes>"
      ]
     },
     "metadata": {
      "needs_background": "light"
     },
     "output_type": "display_data"
    }
   ],
   "source": [
    "print('Количество пропусков в столбце \"model\" =', df['model'].isna().sum())\n",
    "print('Количество пропусков в столбце \"vehicle_type\" =', df['vehicle_type'].isna().sum())\n",
    "print('Количество пропусков в столбце \"gearbox\" =', df['gearbox'].isna().sum())\n",
    "print('Количество пропусков в столбце \"fuel_type\" =', df['fuel_type'].isna().sum())\n",
    "msno.bar(df)"
   ]
  },
  {
   "cell_type": "markdown",
   "metadata": {},
   "source": [
    "**1.9 Посмотрим выбросы.**"
   ]
  },
  {
   "cell_type": "markdown",
   "metadata": {},
   "source": [
    "Графический анализ:"
   ]
  },
  {
   "cell_type": "code",
   "execution_count": 23,
   "metadata": {},
   "outputs": [
    {
     "data": {
      "image/png": "[encoded data removed]",
      "text/plain": [
       "<Figure size 1008x2160 with 8 Axes>"
      ]
     },
     "metadata": {
      "needs_background": "light"
     },
     "output_type": "display_data"
    }
   ],
   "source": [
    "plot_hist(df, df.select_dtypes(exclude=[object]).columns)"
   ]
  },
  {
   "cell_type": "markdown",
   "metadata": {},
   "source": [
    "Т.к. дата создания последней анкеты: \n",
    "- 2016-04-07, \n",
    "\n",
    "то в столбце 'registration_year' удалим машины старше 2016 года. \\\n",
    "Также, удалим раритетное авто (после 50 лет эксплуатации) - до 1970 года."
   ]
  },
  {
   "cell_type": "code",
   "execution_count": 24,
   "metadata": {},
   "outputs": [],
   "source": [
    "df = df.query('registration_year >= 1970 and registration_year <= 2016')"
   ]
  },
  {
   "cell_type": "markdown",
   "metadata": {},
   "source": [
    "Рассмотрим подробнее столбец 'power':"
   ]
  },
  {
   "cell_type": "code",
   "execution_count": 25,
   "metadata": {},
   "outputs": [
    {
     "data": {
      "text/plain": [
       "0        30701\n",
       "75       21856\n",
       "60       14646\n",
       "150      13617\n",
       "101      12275\n",
       "         ...  \n",
       "416          1\n",
       "317          1\n",
       "6045         1\n",
       "671          1\n",
       "17019        1\n",
       "Name: power, Length: 671, dtype: int64"
      ]
     },
     "execution_count": 25,
     "metadata": {},
     "output_type": "execute_result"
    }
   ],
   "source": [
    "df['power'].value_counts()"
   ]
  },
  {
   "cell_type": "markdown",
   "metadata": {},
   "source": [
    "Удалим автомобили мощностью более 500 л.с.:"
   ]
  },
  {
   "cell_type": "code",
   "execution_count": 26,
   "metadata": {},
   "outputs": [],
   "source": [
    "df = df.query('power <= 500')"
   ]
  },
  {
   "cell_type": "markdown",
   "metadata": {},
   "source": [
    "Нулевые значения заменим медианой по модели автомобиля:"
   ]
  },
  {
   "cell_type": "code",
   "execution_count": 27,
   "metadata": {},
   "outputs": [],
   "source": [
    "df['power'] = df['power'].replace(0, np.NaN)\n",
    "median_table = df.groupby('model')['power'].transform('median')\n",
    "df['power'] = df['power'].fillna(median_table)"
   ]
  },
  {
   "cell_type": "markdown",
   "metadata": {},
   "source": [
    "Т.к. минимально возможное количество л.с. = 9, посмотрим сколько у нас таких значений:"
   ]
  },
  {
   "cell_type": "code",
   "execution_count": 28,
   "metadata": {},
   "outputs": [
    {
     "name": "stdout",
     "output_type": "stream",
     "text": [
      "62\n"
     ]
    }
   ],
   "source": [
    "print(df['power'][df['power'] < 9].count())"
   ]
  },
  {
   "cell_type": "markdown",
   "metadata": {},
   "source": [
    "Удалим:"
   ]
  },
  {
   "cell_type": "code",
   "execution_count": 29,
   "metadata": {},
   "outputs": [],
   "source": [
    "df = df.query('power >= 9')"
   ]
  },
  {
   "cell_type": "markdown",
   "metadata": {},
   "source": [
    "По остальным столбцам всё нормально, оставим как есть."
   ]
  },
  {
   "cell_type": "markdown",
   "metadata": {},
   "source": [
    "Проверим на мультиколлинеарность:"
   ]
  },
  {
   "cell_type": "code",
   "execution_count": 30,
   "metadata": {},
   "outputs": [
    {
     "data": {
      "image/png": "[encoded data removed]",
      "text/plain": [
       "<Figure size 720x576 with 2 Axes>"
      ]
     },
     "metadata": {
      "needs_background": "light"
     },
     "output_type": "display_data"
    }
   ],
   "source": [
    "plt.figure(figsize=(10, 8))\n",
    "plt.title('Корреляция признаков')\n",
    "sns.heatmap(df.corr(method='spearman'), annot = True, cmap=\"coolwarm\", annot_kws={'size':10}, fmt='.1g')\n",
    "plt.show()"
   ]
  },
  {
   "cell_type": "markdown",
   "metadata": {},
   "source": [
    "Есть зависимость цены от года регистрации авто и мощности , но она умеренная."
   ]
  },
  {
   "cell_type": "markdown",
   "metadata": {},
   "source": [
    "**Вывод:**\n",
    "- в нашей таблице 16 столбцов и 354368 строк; \n",
    "- 30% строк содержит пропуски;\n",
    "- выявлены дубликаты;\n",
    "- название столбцов в \"верблюжьем стиле\";\n",
    "- есть аномальные значения.\n",
    "\n",
    "\n",
    "**Проведена предобработка данных:** \n",
    "- полных дубликатов не наблюдается, есть совпадающие признаки, оставили всё как есть;\n",
    "\n",
    "Удалены не информативные признаки: \n",
    "- DateCrawled - дата скачивания анкеты из базы;\n",
    "- DateCreated - дата создания анкеты;\n",
    "- LastSeen - дата последней активности пользователя\n",
    "- PostalCode - почтовый индекс владельца анкеты (пользователя);\n",
    "- NumberOfPictures - количество фотографий автомобиля;\n",
    "- RegistrationMonth - месяц регистрации автомобиля.\n",
    "\n",
    "\n",
    "- названия столбцов приведены к змеиному регистру;\n",
    "- обработаны пропущенные значения;\n",
    "- обработаны аномальные значения."
   ]
  },
  {
   "cell_type": "markdown",
   "metadata": {},
   "source": [
    "## Обучение моделей"
   ]
  },
  {
   "cell_type": "markdown",
   "metadata": {},
   "source": [
    "Задача:\n",
    "-\tОбучите разные модели, одна из которых — LightGBM, как минимум одна — не бустинг. \\\n",
    "Для каждой модели попробуйте разные гиперпараметры.\n",
    "-\tДля оценки качества моделей применяйте метрику RMSE.\n",
    "-\tЗначение метрики RMSE должно быть меньше 2500.\n"
   ]
  },
  {
   "cell_type": "code",
   "execution_count": 31,
   "metadata": {},
   "outputs": [
    {
     "data": {
      "text/html": [
       "<div>\n",
       "<style scoped>\n",
       "    .dataframe tbody tr th:only-of-type {\n",
       "        vertical-align: middle;\n",
       "    }\n",
       "\n",
       "    .dataframe tbody tr th {\n",
       "        vertical-align: top;\n",
       "    }\n",
       "\n",
       "    .dataframe thead th {\n",
       "        text-align: right;\n",
       "    }\n",
       "</style>\n",
       "<table border=\"1\" class=\"dataframe\">\n",
       "  <thead>\n",
       "    <tr style=\"text-align: right;\">\n",
       "      <th></th>\n",
       "      <th>price</th>\n",
       "      <th>vehicle_type</th>\n",
       "      <th>registration_year</th>\n",
       "      <th>gearbox</th>\n",
       "      <th>power</th>\n",
       "      <th>model</th>\n",
       "      <th>kilometer</th>\n",
       "      <th>fuel_type</th>\n",
       "      <th>brand</th>\n",
       "      <th>repaired</th>\n",
       "    </tr>\n",
       "  </thead>\n",
       "  <tbody>\n",
       "    <tr>\n",
       "      <th>0</th>\n",
       "      <td>480</td>\n",
       "      <td>sedan</td>\n",
       "      <td>1993</td>\n",
       "      <td>manual</td>\n",
       "      <td>101.0</td>\n",
       "      <td>golf</td>\n",
       "      <td>150000</td>\n",
       "      <td>petrol</td>\n",
       "      <td>volkswagen</td>\n",
       "      <td>no</td>\n",
       "    </tr>\n",
       "    <tr>\n",
       "      <th>1</th>\n",
       "      <td>18300</td>\n",
       "      <td>coupe</td>\n",
       "      <td>2011</td>\n",
       "      <td>manual</td>\n",
       "      <td>190.0</td>\n",
       "      <td>a4</td>\n",
       "      <td>125000</td>\n",
       "      <td>gasoline</td>\n",
       "      <td>audi</td>\n",
       "      <td>yes</td>\n",
       "    </tr>\n",
       "    <tr>\n",
       "      <th>2</th>\n",
       "      <td>9800</td>\n",
       "      <td>suv</td>\n",
       "      <td>2004</td>\n",
       "      <td>auto</td>\n",
       "      <td>163.0</td>\n",
       "      <td>grand</td>\n",
       "      <td>125000</td>\n",
       "      <td>gasoline</td>\n",
       "      <td>jeep</td>\n",
       "      <td>no</td>\n",
       "    </tr>\n",
       "    <tr>\n",
       "      <th>3</th>\n",
       "      <td>1500</td>\n",
       "      <td>small</td>\n",
       "      <td>2001</td>\n",
       "      <td>manual</td>\n",
       "      <td>75.0</td>\n",
       "      <td>golf</td>\n",
       "      <td>150000</td>\n",
       "      <td>petrol</td>\n",
       "      <td>volkswagen</td>\n",
       "      <td>no</td>\n",
       "    </tr>\n",
       "    <tr>\n",
       "      <th>4</th>\n",
       "      <td>3600</td>\n",
       "      <td>small</td>\n",
       "      <td>2008</td>\n",
       "      <td>manual</td>\n",
       "      <td>69.0</td>\n",
       "      <td>fabia</td>\n",
       "      <td>90000</td>\n",
       "      <td>gasoline</td>\n",
       "      <td>skoda</td>\n",
       "      <td>no</td>\n",
       "    </tr>\n",
       "  </tbody>\n",
       "</table>\n",
       "</div>"
      ],
      "text/plain": [
       "   price vehicle_type  registration_year gearbox  power  model  kilometer  \\\n",
       "0    480        sedan               1993  manual  101.0   golf     150000   \n",
       "1  18300        coupe               2011  manual  190.0     a4     125000   \n",
       "2   9800          suv               2004    auto  163.0  grand     125000   \n",
       "3   1500        small               2001  manual   75.0   golf     150000   \n",
       "4   3600        small               2008  manual   69.0  fabia      90000   \n",
       "\n",
       "  fuel_type       brand repaired  \n",
       "0    petrol  volkswagen       no  \n",
       "1  gasoline        audi      yes  \n",
       "2  gasoline        jeep       no  \n",
       "3    petrol  volkswagen       no  \n",
       "4  gasoline       skoda       no  "
      ]
     },
     "execution_count": 31,
     "metadata": {},
     "output_type": "execute_result"
    }
   ],
   "source": [
    "df.head()"
   ]
  },
  {
   "cell_type": "markdown",
   "metadata": {},
   "source": [
    "Сформируем колличественные и категориальные факторы, целевая:"
   ]
  },
  {
   "cell_type": "code",
   "execution_count": 32,
   "metadata": {},
   "outputs": [],
   "source": [
    "numeric_var = ['registration_year', 'power', 'kilometer']\n",
    "category_var = ['vehicle_type', 'gearbox', 'model', 'fuel_type', 'brand', 'repaired']\n",
    "targ = ['price']"
   ]
  },
  {
   "cell_type": "markdown",
   "metadata": {},
   "source": [
    "Формируем фичи и целевую:"
   ]
  },
  {
   "cell_type": "code",
   "execution_count": 33,
   "metadata": {},
   "outputs": [],
   "source": [
    "feature = df[numeric_var + category_var]\n",
    "target = df[targ]"
   ]
  },
  {
   "cell_type": "markdown",
   "metadata": {},
   "source": [
    "Разобьём на обучающую и тестовую выборки:"
   ]
  },
  {
   "cell_type": "code",
   "execution_count": 34,
   "metadata": {},
   "outputs": [],
   "source": [
    "x_train, x_test, y_train, y_test = train_test_split(\n",
    "    feature, target, shuffle=True, test_size=0.25, stratify=None, random_state=RANDOM_STATE)"
   ]
  },
  {
   "cell_type": "code",
   "execution_count": 35,
   "metadata": {},
   "outputs": [
    {
     "data": {
      "text/plain": [
       "((242133, 9), (242133, 1), (80712, 9), (80712, 1))"
      ]
     },
     "execution_count": 35,
     "metadata": {},
     "output_type": "execute_result"
    }
   ],
   "source": [
    "x_train.shape, y_train.shape, x_test.shape, y_test.shape"
   ]
  },
  {
   "cell_type": "code",
   "execution_count": 36,
   "metadata": {},
   "outputs": [
    {
     "data": {
      "text/html": [
       "<div>\n",
       "<style scoped>\n",
       "    .dataframe tbody tr th:only-of-type {\n",
       "        vertical-align: middle;\n",
       "    }\n",
       "\n",
       "    .dataframe tbody tr th {\n",
       "        vertical-align: top;\n",
       "    }\n",
       "\n",
       "    .dataframe thead th {\n",
       "        text-align: right;\n",
       "    }\n",
       "</style>\n",
       "<table border=\"1\" class=\"dataframe\">\n",
       "  <thead>\n",
       "    <tr style=\"text-align: right;\">\n",
       "      <th></th>\n",
       "      <th>registration_year</th>\n",
       "      <th>power</th>\n",
       "      <th>kilometer</th>\n",
       "      <th>vehicle_type</th>\n",
       "      <th>gearbox</th>\n",
       "      <th>model</th>\n",
       "      <th>fuel_type</th>\n",
       "      <th>brand</th>\n",
       "      <th>repaired</th>\n",
       "    </tr>\n",
       "  </thead>\n",
       "  <tbody>\n",
       "    <tr>\n",
       "      <th>316420</th>\n",
       "      <td>2012</td>\n",
       "      <td>156.0</td>\n",
       "      <td>60000</td>\n",
       "      <td>suv</td>\n",
       "      <td>manual</td>\n",
       "      <td>other</td>\n",
       "      <td>petrol</td>\n",
       "      <td>jeep</td>\n",
       "      <td>no</td>\n",
       "    </tr>\n",
       "    <tr>\n",
       "      <th>124186</th>\n",
       "      <td>2003</td>\n",
       "      <td>140.0</td>\n",
       "      <td>150000</td>\n",
       "      <td>suv</td>\n",
       "      <td>manual</td>\n",
       "      <td>x_trail</td>\n",
       "      <td>lpg</td>\n",
       "      <td>nissan</td>\n",
       "      <td>no</td>\n",
       "    </tr>\n",
       "    <tr>\n",
       "      <th>252978</th>\n",
       "      <td>2007</td>\n",
       "      <td>163.0</td>\n",
       "      <td>150000</td>\n",
       "      <td>wagon</td>\n",
       "      <td>auto</td>\n",
       "      <td>5er</td>\n",
       "      <td>gasoline</td>\n",
       "      <td>bmw</td>\n",
       "      <td>no</td>\n",
       "    </tr>\n",
       "  </tbody>\n",
       "</table>\n",
       "</div>"
      ],
      "text/plain": [
       "        registration_year  power  kilometer vehicle_type gearbox    model  \\\n",
       "316420               2012  156.0      60000          suv  manual    other   \n",
       "124186               2003  140.0     150000          suv  manual  x_trail   \n",
       "252978               2007  163.0     150000        wagon    auto      5er   \n",
       "\n",
       "       fuel_type   brand repaired  \n",
       "316420    petrol    jeep       no  \n",
       "124186       lpg  nissan       no  \n",
       "252978  gasoline     bmw       no  "
      ]
     },
     "execution_count": 36,
     "metadata": {},
     "output_type": "execute_result"
    }
   ],
   "source": [
    "x_train.head(3)"
   ]
  },
  {
   "cell_type": "markdown",
   "metadata": {},
   "source": [
    "**2.1 Категоризация.** "
   ]
  },
  {
   "cell_type": "markdown",
   "metadata": {},
   "source": [
    "Определим кодировщик:"
   ]
  },
  {
   "cell_type": "code",
   "execution_count": 37,
   "metadata": {},
   "outputs": [],
   "source": [
    "ohe = OneHotEncoder(handle_unknown='ignore', sparse=False, dtype='int')\n",
    "ohe.fit(x_train[category_var])\n",
    "\n",
    "# Функция для ohe_категоризации необходимых столбцов и последующего объединения с количественными столбцами\n",
    "\n",
    "def get_ohe(train, categ):\n",
    "    \n",
    "    temp_df = pd.DataFrame(data=ohe.transform(train[categ]), columns=ohe.get_feature_names())\n",
    "    data = pd.concat([train.reset_index(drop = True), temp_df], axis=1)\n",
    "    data = data.drop(columns = categ, axis = 1)\n",
    "    return data"
   ]
  },
  {
   "cell_type": "markdown",
   "metadata": {},
   "source": [
    "Категоризация:"
   ]
  },
  {
   "cell_type": "code",
   "execution_count": 38,
   "metadata": {},
   "outputs": [],
   "source": [
    "x_train_cat = get_ohe(x_train, category_var)\n",
    "x_test_cat = get_ohe(x_test, category_var)"
   ]
  },
  {
   "cell_type": "code",
   "execution_count": 39,
   "metadata": {},
   "outputs": [
    {
     "data": {
      "text/html": [
       "<div>\n",
       "<style scoped>\n",
       "    .dataframe tbody tr th:only-of-type {\n",
       "        vertical-align: middle;\n",
       "    }\n",
       "\n",
       "    .dataframe tbody tr th {\n",
       "        vertical-align: top;\n",
       "    }\n",
       "\n",
       "    .dataframe thead th {\n",
       "        text-align: right;\n",
       "    }\n",
       "</style>\n",
       "<table border=\"1\" class=\"dataframe\">\n",
       "  <thead>\n",
       "    <tr style=\"text-align: right;\">\n",
       "      <th></th>\n",
       "      <th>registration_year</th>\n",
       "      <th>power</th>\n",
       "      <th>kilometer</th>\n",
       "      <th>x0_bus</th>\n",
       "      <th>x0_convertible</th>\n",
       "      <th>x0_coupe</th>\n",
       "      <th>x0_other</th>\n",
       "      <th>x0_sedan</th>\n",
       "      <th>x0_small</th>\n",
       "      <th>x0_suv</th>\n",
       "      <th>...</th>\n",
       "      <th>x4_skoda</th>\n",
       "      <th>x4_smart</th>\n",
       "      <th>x4_subaru</th>\n",
       "      <th>x4_suzuki</th>\n",
       "      <th>x4_toyota</th>\n",
       "      <th>x4_trabant</th>\n",
       "      <th>x4_volkswagen</th>\n",
       "      <th>x4_volvo</th>\n",
       "      <th>x5_no</th>\n",
       "      <th>x5_yes</th>\n",
       "    </tr>\n",
       "  </thead>\n",
       "  <tbody>\n",
       "    <tr>\n",
       "      <th>0</th>\n",
       "      <td>2012</td>\n",
       "      <td>156.0</td>\n",
       "      <td>60000</td>\n",
       "      <td>0</td>\n",
       "      <td>0</td>\n",
       "      <td>0</td>\n",
       "      <td>0</td>\n",
       "      <td>0</td>\n",
       "      <td>0</td>\n",
       "      <td>1</td>\n",
       "      <td>...</td>\n",
       "      <td>0</td>\n",
       "      <td>0</td>\n",
       "      <td>0</td>\n",
       "      <td>0</td>\n",
       "      <td>0</td>\n",
       "      <td>0</td>\n",
       "      <td>0</td>\n",
       "      <td>0</td>\n",
       "      <td>1</td>\n",
       "      <td>0</td>\n",
       "    </tr>\n",
       "    <tr>\n",
       "      <th>1</th>\n",
       "      <td>2003</td>\n",
       "      <td>140.0</td>\n",
       "      <td>150000</td>\n",
       "      <td>0</td>\n",
       "      <td>0</td>\n",
       "      <td>0</td>\n",
       "      <td>0</td>\n",
       "      <td>0</td>\n",
       "      <td>0</td>\n",
       "      <td>1</td>\n",
       "      <td>...</td>\n",
       "      <td>0</td>\n",
       "      <td>0</td>\n",
       "      <td>0</td>\n",
       "      <td>0</td>\n",
       "      <td>0</td>\n",
       "      <td>0</td>\n",
       "      <td>0</td>\n",
       "      <td>0</td>\n",
       "      <td>1</td>\n",
       "      <td>0</td>\n",
       "    </tr>\n",
       "  </tbody>\n",
       "</table>\n",
       "<p>2 rows × 310 columns</p>\n",
       "</div>"
      ],
      "text/plain": [
       "   registration_year  power  kilometer  x0_bus  x0_convertible  x0_coupe  \\\n",
       "0               2012  156.0      60000       0               0         0   \n",
       "1               2003  140.0     150000       0               0         0   \n",
       "\n",
       "   x0_other  x0_sedan  x0_small  x0_suv  ...  x4_skoda  x4_smart  x4_subaru  \\\n",
       "0         0         0         0       1  ...         0         0          0   \n",
       "1         0         0         0       1  ...         0         0          0   \n",
       "\n",
       "   x4_suzuki  x4_toyota  x4_trabant  x4_volkswagen  x4_volvo  x5_no  x5_yes  \n",
       "0          0          0           0              0         0      1       0  \n",
       "1          0          0           0              0         0      1       0  \n",
       "\n",
       "[2 rows x 310 columns]"
      ]
     },
     "metadata": {},
     "output_type": "display_data"
    },
    {
     "data": {
      "text/plain": [
       "(242133, 310)"
      ]
     },
     "execution_count": 39,
     "metadata": {},
     "output_type": "execute_result"
    }
   ],
   "source": [
    "display(x_train_cat.head(2))\n",
    "x_train_cat.shape"
   ]
  },
  {
   "cell_type": "code",
   "execution_count": 40,
   "metadata": {},
   "outputs": [
    {
     "data": {
      "text/html": [
       "<div>\n",
       "<style scoped>\n",
       "    .dataframe tbody tr th:only-of-type {\n",
       "        vertical-align: middle;\n",
       "    }\n",
       "\n",
       "    .dataframe tbody tr th {\n",
       "        vertical-align: top;\n",
       "    }\n",
       "\n",
       "    .dataframe thead th {\n",
       "        text-align: right;\n",
       "    }\n",
       "</style>\n",
       "<table border=\"1\" class=\"dataframe\">\n",
       "  <thead>\n",
       "    <tr style=\"text-align: right;\">\n",
       "      <th></th>\n",
       "      <th>registration_year</th>\n",
       "      <th>power</th>\n",
       "      <th>kilometer</th>\n",
       "      <th>x0_bus</th>\n",
       "      <th>x0_convertible</th>\n",
       "      <th>x0_coupe</th>\n",
       "      <th>x0_other</th>\n",
       "      <th>x0_sedan</th>\n",
       "      <th>x0_small</th>\n",
       "      <th>x0_suv</th>\n",
       "      <th>...</th>\n",
       "      <th>x4_skoda</th>\n",
       "      <th>x4_smart</th>\n",
       "      <th>x4_subaru</th>\n",
       "      <th>x4_suzuki</th>\n",
       "      <th>x4_toyota</th>\n",
       "      <th>x4_trabant</th>\n",
       "      <th>x4_volkswagen</th>\n",
       "      <th>x4_volvo</th>\n",
       "      <th>x5_no</th>\n",
       "      <th>x5_yes</th>\n",
       "    </tr>\n",
       "  </thead>\n",
       "  <tbody>\n",
       "    <tr>\n",
       "      <th>0</th>\n",
       "      <td>2007</td>\n",
       "      <td>150.0</td>\n",
       "      <td>150000</td>\n",
       "      <td>0</td>\n",
       "      <td>0</td>\n",
       "      <td>0</td>\n",
       "      <td>0</td>\n",
       "      <td>0</td>\n",
       "      <td>0</td>\n",
       "      <td>1</td>\n",
       "      <td>...</td>\n",
       "      <td>0</td>\n",
       "      <td>0</td>\n",
       "      <td>0</td>\n",
       "      <td>0</td>\n",
       "      <td>0</td>\n",
       "      <td>0</td>\n",
       "      <td>0</td>\n",
       "      <td>0</td>\n",
       "      <td>1</td>\n",
       "      <td>0</td>\n",
       "    </tr>\n",
       "    <tr>\n",
       "      <th>1</th>\n",
       "      <td>2000</td>\n",
       "      <td>60.0</td>\n",
       "      <td>150000</td>\n",
       "      <td>0</td>\n",
       "      <td>0</td>\n",
       "      <td>0</td>\n",
       "      <td>0</td>\n",
       "      <td>0</td>\n",
       "      <td>1</td>\n",
       "      <td>0</td>\n",
       "      <td>...</td>\n",
       "      <td>0</td>\n",
       "      <td>0</td>\n",
       "      <td>0</td>\n",
       "      <td>0</td>\n",
       "      <td>0</td>\n",
       "      <td>0</td>\n",
       "      <td>1</td>\n",
       "      <td>0</td>\n",
       "      <td>1</td>\n",
       "      <td>0</td>\n",
       "    </tr>\n",
       "  </tbody>\n",
       "</table>\n",
       "<p>2 rows × 310 columns</p>\n",
       "</div>"
      ],
      "text/plain": [
       "   registration_year  power  kilometer  x0_bus  x0_convertible  x0_coupe  \\\n",
       "0               2007  150.0     150000       0               0         0   \n",
       "1               2000   60.0     150000       0               0         0   \n",
       "\n",
       "   x0_other  x0_sedan  x0_small  x0_suv  ...  x4_skoda  x4_smart  x4_subaru  \\\n",
       "0         0         0         0       1  ...         0         0          0   \n",
       "1         0         0         1       0  ...         0         0          0   \n",
       "\n",
       "   x4_suzuki  x4_toyota  x4_trabant  x4_volkswagen  x4_volvo  x5_no  x5_yes  \n",
       "0          0          0           0              0         0      1       0  \n",
       "1          0          0           0              1         0      1       0  \n",
       "\n",
       "[2 rows x 310 columns]"
      ]
     },
     "metadata": {},
     "output_type": "display_data"
    },
    {
     "data": {
      "text/plain": [
       "(80712, 310)"
      ]
     },
     "execution_count": 40,
     "metadata": {},
     "output_type": "execute_result"
    }
   ],
   "source": [
    "display(x_test_cat.head(2))\n",
    "x_test_cat.shape"
   ]
  },
  {
   "cell_type": "markdown",
   "metadata": {},
   "source": [
    "Применим OrdinalEncoder для RandomForestRegressor:"
   ]
  },
  {
   "cell_type": "code",
   "execution_count": 41,
   "metadata": {},
   "outputs": [],
   "source": [
    "encoder = OrdinalEncoder()\n",
    "\n",
    "x_train_oe = x_train[category_var]\n",
    "x_train_oe = pd.DataFrame(encoder.fit_transform(x_train),\n",
    "                                 columns=x_train.columns,\n",
    "                                 index=x_train.index)\n",
    "\n",
    "x_test_oe = x_test[category_var]\n",
    "x_test_oe = pd.DataFrame(encoder.fit_transform(x_test),\n",
    "                                columns=x_test.columns,\n",
    "                                index=x_test.index)"
   ]
  },
  {
   "cell_type": "code",
   "execution_count": 42,
   "metadata": {},
   "outputs": [
    {
     "data": {
      "text/html": [
       "<div>\n",
       "<style scoped>\n",
       "    .dataframe tbody tr th:only-of-type {\n",
       "        vertical-align: middle;\n",
       "    }\n",
       "\n",
       "    .dataframe tbody tr th {\n",
       "        vertical-align: top;\n",
       "    }\n",
       "\n",
       "    .dataframe thead th {\n",
       "        text-align: right;\n",
       "    }\n",
       "</style>\n",
       "<table border=\"1\" class=\"dataframe\">\n",
       "  <thead>\n",
       "    <tr style=\"text-align: right;\">\n",
       "      <th></th>\n",
       "      <th>registration_year</th>\n",
       "      <th>power</th>\n",
       "      <th>kilometer</th>\n",
       "      <th>vehicle_type</th>\n",
       "      <th>gearbox</th>\n",
       "      <th>model</th>\n",
       "      <th>fuel_type</th>\n",
       "      <th>brand</th>\n",
       "      <th>repaired</th>\n",
       "    </tr>\n",
       "  </thead>\n",
       "  <tbody>\n",
       "    <tr>\n",
       "      <th>316420</th>\n",
       "      <td>42.0</td>\n",
       "      <td>148.0</td>\n",
       "      <td>6.0</td>\n",
       "      <td>6.0</td>\n",
       "      <td>1.0</td>\n",
       "      <td>166.0</td>\n",
       "      <td>6.0</td>\n",
       "      <td>14.0</td>\n",
       "      <td>0.0</td>\n",
       "    </tr>\n",
       "    <tr>\n",
       "      <th>124186</th>\n",
       "      <td>33.0</td>\n",
       "      <td>131.0</td>\n",
       "      <td>12.0</td>\n",
       "      <td>6.0</td>\n",
       "      <td>1.0</td>\n",
       "      <td>241.0</td>\n",
       "      <td>4.0</td>\n",
       "      <td>23.0</td>\n",
       "      <td>0.0</td>\n",
       "    </tr>\n",
       "  </tbody>\n",
       "</table>\n",
       "</div>"
      ],
      "text/plain": [
       "        registration_year  power  kilometer  vehicle_type  gearbox  model  \\\n",
       "316420               42.0  148.0        6.0           6.0      1.0  166.0   \n",
       "124186               33.0  131.0       12.0           6.0      1.0  241.0   \n",
       "\n",
       "        fuel_type  brand  repaired  \n",
       "316420        6.0   14.0       0.0  \n",
       "124186        4.0   23.0       0.0  "
      ]
     },
     "metadata": {},
     "output_type": "display_data"
    },
    {
     "data": {
      "text/plain": [
       "(242133, 9)"
      ]
     },
     "execution_count": 42,
     "metadata": {},
     "output_type": "execute_result"
    }
   ],
   "source": [
    "display(x_train_oe.head(2))\n",
    "x_train_oe.shape"
   ]
  },
  {
   "cell_type": "code",
   "execution_count": 43,
   "metadata": {},
   "outputs": [
    {
     "data": {
      "text/html": [
       "<div>\n",
       "<style scoped>\n",
       "    .dataframe tbody tr th:only-of-type {\n",
       "        vertical-align: middle;\n",
       "    }\n",
       "\n",
       "    .dataframe tbody tr th {\n",
       "        vertical-align: top;\n",
       "    }\n",
       "\n",
       "    .dataframe thead th {\n",
       "        text-align: right;\n",
       "    }\n",
       "</style>\n",
       "<table border=\"1\" class=\"dataframe\">\n",
       "  <thead>\n",
       "    <tr style=\"text-align: right;\">\n",
       "      <th></th>\n",
       "      <th>registration_year</th>\n",
       "      <th>power</th>\n",
       "      <th>kilometer</th>\n",
       "      <th>vehicle_type</th>\n",
       "      <th>gearbox</th>\n",
       "      <th>model</th>\n",
       "      <th>fuel_type</th>\n",
       "      <th>brand</th>\n",
       "      <th>repaired</th>\n",
       "    </tr>\n",
       "  </thead>\n",
       "  <tbody>\n",
       "    <tr>\n",
       "      <th>189905</th>\n",
       "      <td>37.0</td>\n",
       "      <td>141.0</td>\n",
       "      <td>12.0</td>\n",
       "      <td>6.0</td>\n",
       "      <td>0.0</td>\n",
       "      <td>179.0</td>\n",
       "      <td>2.0</td>\n",
       "      <td>23.0</td>\n",
       "      <td>0.0</td>\n",
       "    </tr>\n",
       "    <tr>\n",
       "      <th>287964</th>\n",
       "      <td>30.0</td>\n",
       "      <td>48.0</td>\n",
       "      <td>12.0</td>\n",
       "      <td>5.0</td>\n",
       "      <td>1.0</td>\n",
       "      <td>172.0</td>\n",
       "      <td>6.0</td>\n",
       "      <td>37.0</td>\n",
       "      <td>0.0</td>\n",
       "    </tr>\n",
       "  </tbody>\n",
       "</table>\n",
       "</div>"
      ],
      "text/plain": [
       "        registration_year  power  kilometer  vehicle_type  gearbox  model  \\\n",
       "189905               37.0  141.0       12.0           6.0      0.0  179.0   \n",
       "287964               30.0   48.0       12.0           5.0      1.0  172.0   \n",
       "\n",
       "        fuel_type  brand  repaired  \n",
       "189905        2.0   23.0       0.0  \n",
       "287964        6.0   37.0       0.0  "
      ]
     },
     "metadata": {},
     "output_type": "display_data"
    },
    {
     "data": {
      "text/plain": [
       "(80712, 9)"
      ]
     },
     "execution_count": 43,
     "metadata": {},
     "output_type": "execute_result"
    }
   ],
   "source": [
    "display(x_test_oe.head(2))\n",
    "x_test_oe.shape"
   ]
  },
  {
   "cell_type": "markdown",
   "metadata": {},
   "source": [
    "**2.2 Масштабирование.**"
   ]
  },
  {
   "cell_type": "markdown",
   "metadata": {},
   "source": [
    "Масштабирование для модели линейной регрессии:"
   ]
  },
  {
   "cell_type": "code",
   "execution_count": 44,
   "metadata": {},
   "outputs": [
    {
     "data": {
      "text/html": [
       "<div>\n",
       "<style scoped>\n",
       "    .dataframe tbody tr th:only-of-type {\n",
       "        vertical-align: middle;\n",
       "    }\n",
       "\n",
       "    .dataframe tbody tr th {\n",
       "        vertical-align: top;\n",
       "    }\n",
       "\n",
       "    .dataframe thead th {\n",
       "        text-align: right;\n",
       "    }\n",
       "</style>\n",
       "<table border=\"1\" class=\"dataframe\">\n",
       "  <thead>\n",
       "    <tr style=\"text-align: right;\">\n",
       "      <th></th>\n",
       "      <th>registration_year</th>\n",
       "      <th>power</th>\n",
       "      <th>kilometer</th>\n",
       "      <th>x0_bus</th>\n",
       "      <th>x0_convertible</th>\n",
       "      <th>x0_coupe</th>\n",
       "      <th>x0_other</th>\n",
       "      <th>x0_sedan</th>\n",
       "      <th>x0_small</th>\n",
       "      <th>x0_suv</th>\n",
       "      <th>...</th>\n",
       "      <th>x4_skoda</th>\n",
       "      <th>x4_smart</th>\n",
       "      <th>x4_subaru</th>\n",
       "      <th>x4_suzuki</th>\n",
       "      <th>x4_toyota</th>\n",
       "      <th>x4_trabant</th>\n",
       "      <th>x4_volkswagen</th>\n",
       "      <th>x4_volvo</th>\n",
       "      <th>x5_no</th>\n",
       "      <th>x5_yes</th>\n",
       "    </tr>\n",
       "  </thead>\n",
       "  <tbody>\n",
       "    <tr>\n",
       "      <th>0</th>\n",
       "      <td>1.497918</td>\n",
       "      <td>0.706855</td>\n",
       "      <td>-1.858197</td>\n",
       "      <td>0</td>\n",
       "      <td>0</td>\n",
       "      <td>0</td>\n",
       "      <td>0</td>\n",
       "      <td>0</td>\n",
       "      <td>0</td>\n",
       "      <td>1</td>\n",
       "      <td>...</td>\n",
       "      <td>0</td>\n",
       "      <td>0</td>\n",
       "      <td>0</td>\n",
       "      <td>0</td>\n",
       "      <td>0</td>\n",
       "      <td>0</td>\n",
       "      <td>0</td>\n",
       "      <td>0</td>\n",
       "      <td>1</td>\n",
       "      <td>0</td>\n",
       "    </tr>\n",
       "    <tr>\n",
       "      <th>1</th>\n",
       "      <td>0.053292</td>\n",
       "      <td>0.399666</td>\n",
       "      <td>0.577630</td>\n",
       "      <td>0</td>\n",
       "      <td>0</td>\n",
       "      <td>0</td>\n",
       "      <td>0</td>\n",
       "      <td>0</td>\n",
       "      <td>0</td>\n",
       "      <td>1</td>\n",
       "      <td>...</td>\n",
       "      <td>0</td>\n",
       "      <td>0</td>\n",
       "      <td>0</td>\n",
       "      <td>0</td>\n",
       "      <td>0</td>\n",
       "      <td>0</td>\n",
       "      <td>0</td>\n",
       "      <td>0</td>\n",
       "      <td>1</td>\n",
       "      <td>0</td>\n",
       "    </tr>\n",
       "    <tr>\n",
       "      <th>2</th>\n",
       "      <td>0.695348</td>\n",
       "      <td>0.841250</td>\n",
       "      <td>0.577630</td>\n",
       "      <td>0</td>\n",
       "      <td>0</td>\n",
       "      <td>0</td>\n",
       "      <td>0</td>\n",
       "      <td>0</td>\n",
       "      <td>0</td>\n",
       "      <td>0</td>\n",
       "      <td>...</td>\n",
       "      <td>0</td>\n",
       "      <td>0</td>\n",
       "      <td>0</td>\n",
       "      <td>0</td>\n",
       "      <td>0</td>\n",
       "      <td>0</td>\n",
       "      <td>0</td>\n",
       "      <td>0</td>\n",
       "      <td>1</td>\n",
       "      <td>0</td>\n",
       "    </tr>\n",
       "  </tbody>\n",
       "</table>\n",
       "<p>3 rows × 310 columns</p>\n",
       "</div>"
      ],
      "text/plain": [
       "   registration_year     power  kilometer  x0_bus  x0_convertible  x0_coupe  \\\n",
       "0           1.497918  0.706855  -1.858197       0               0         0   \n",
       "1           0.053292  0.399666   0.577630       0               0         0   \n",
       "2           0.695348  0.841250   0.577630       0               0         0   \n",
       "\n",
       "   x0_other  x0_sedan  x0_small  x0_suv  ...  x4_skoda  x4_smart  x4_subaru  \\\n",
       "0         0         0         0       1  ...         0         0          0   \n",
       "1         0         0         0       1  ...         0         0          0   \n",
       "2         0         0         0       0  ...         0         0          0   \n",
       "\n",
       "   x4_suzuki  x4_toyota  x4_trabant  x4_volkswagen  x4_volvo  x5_no  x5_yes  \n",
       "0          0          0           0              0         0      1       0  \n",
       "1          0          0           0              0         0      1       0  \n",
       "2          0          0           0              0         0      1       0  \n",
       "\n",
       "[3 rows x 310 columns]"
      ]
     },
     "execution_count": 44,
     "metadata": {},
     "output_type": "execute_result"
    }
   ],
   "source": [
    "scaler = StandardScaler()\n",
    "scaler.fit(x_train_cat[numeric_var])\n",
    "x_train_cat[numeric_var] = scaler.transform(x_train_cat[numeric_var]) \n",
    "x_test_cat[numeric_var] = scaler.transform(x_test_cat[numeric_var]) \n",
    "\n",
    "x_train_cat.head(3)"
   ]
  },
  {
   "cell_type": "markdown",
   "metadata": {},
   "source": [
    "**2.3 Моделирование.** \\\n",
    "    **2.3.1 _Линейная регрессия._**"
   ]
  },
  {
   "cell_type": "code",
   "execution_count": 45,
   "metadata": {},
   "outputs": [
    {
     "name": "stdout",
     "output_type": "stream",
     "text": [
      "CPU times: user 18.3 s, sys: 6.28 s, total: 24.5 s\n",
      "Wall time: 24.6 s\n"
     ]
    },
    {
     "data": {
      "text/plain": [
       "LinearRegression()"
      ]
     },
     "execution_count": 45,
     "metadata": {},
     "output_type": "execute_result"
    }
   ],
   "source": [
    "%%time\n",
    "\n",
    "model_lr = LinearRegression() \n",
    "model_lr.fit(x_train_cat, y_train) \n"
   ]
  },
  {
   "cell_type": "code",
   "execution_count": 46,
   "metadata": {},
   "outputs": [
    {
     "name": "stdout",
     "output_type": "stream",
     "text": [
      "CPU times: user 339 ms, sys: 217 ms, total: 556 ms\n",
      "Wall time: 586 ms\n"
     ]
    }
   ],
   "source": [
    "%%time\n",
    "\n",
    "predictions = model_lr.predict(x_train_cat) "
   ]
  },
  {
   "cell_type": "code",
   "execution_count": 47,
   "metadata": {},
   "outputs": [
    {
     "name": "stdout",
     "output_type": "stream",
     "text": [
      "Значение метрики RMSE для линейной регрессии: 2598\n"
     ]
    }
   ],
   "source": [
    "rmse = mean_squared_error(y_train, predictions) ** 0.5 \n",
    "\n",
    "print('Значение метрики RMSE для линейной регрессии:', round(rmse))"
   ]
  },
  {
   "cell_type": "markdown",
   "metadata": {},
   "source": [
    "Модель обучается быстро, но значение метрики RMSE превышает 2500."
   ]
  },
  {
   "cell_type": "markdown",
   "metadata": {},
   "source": [
    "**2.3.2 _Случайный лес._**"
   ]
  },
  {
   "cell_type": "code",
   "execution_count": 48,
   "metadata": {},
   "outputs": [],
   "source": [
    "# Обозначим модель\n",
    "\n",
    "model_rfr = RandomForestRegressor(random_state = RANDOM_STATE)\n",
    "\n",
    "# Зададим параметры\n",
    "param_grid_rfr = {'n_estimators': np.arange(10,100,10),\n",
    "      'max_depth': [None,3,5,10],\n",
    "      'min_samples_split': np.arange(2,20,2),\n",
    "      'min_samples_leaf' : np.arange(1,20,2),\n",
    "      'max_samples' : [100]\n",
    "  }"
   ]
  },
  {
   "cell_type": "code",
   "execution_count": 49,
   "metadata": {},
   "outputs": [],
   "source": [
    "start_rfr = time.time()\n",
    "\n",
    "# Подберем гиперпараметры\n",
    "grid_rfr = RandomizedSearchCV(\n",
    "    model_rfr, param_grid_rfr, scoring='neg_root_mean_squared_error', cv=5, \n",
    "    random_state=RANDOM_STATE)\n",
    "\n",
    "# Обучим модель  \n",
    "model_rfr = grid_rfr.fit(x_train_oe, y_train)\n",
    "\n",
    "end_rfr = time.time()"
   ]
  },
  {
   "cell_type": "code",
   "execution_count": 50,
   "metadata": {},
   "outputs": [
    {
     "name": "stdout",
     "output_type": "stream",
     "text": [
      "Лучшие параметры для случайного леса:  {'n_estimators': 30, 'min_samples_split': 8, 'min_samples_leaf': 7, 'max_samples': 100, 'max_depth': 10}\n",
      "Значение метрики RMSE для лучших параметров случайного леса: 2611.1926\n",
      "Время леса равно: %.4f 0.172  минут\n"
     ]
    }
   ],
   "source": [
    "print(f'Лучшие параметры для случайного леса: ', model_rfr.best_params_)\n",
    "print(f'Значение метрики RMSE для лучших параметров случайного леса: %.4f' % -model_rfr.best_score_)\n",
    "print(f'Время леса равно: %.4f', round((end_rfr-start_rfr)/60, 3), ' минут')"
   ]
  },
  {
   "cell_type": "code",
   "execution_count": 51,
   "metadata": {},
   "outputs": [],
   "source": [
    "# Время обучения и предсказания\n",
    "\n",
    "time_train_rfr = model_rfr.cv_results_['mean_fit_time'].mean()\n",
    "time_pred_rfr = model_rfr.cv_results_['mean_score_time'].mean()"
   ]
  },
  {
   "cell_type": "markdown",
   "metadata": {},
   "source": [
    "Модель обучается быстро, но значение метрики RMSE превышает 2500."
   ]
  },
  {
   "cell_type": "markdown",
   "metadata": {},
   "source": [
    "**2.3.3 _LightGBM._**"
   ]
  },
  {
   "cell_type": "code",
   "execution_count": 52,
   "metadata": {},
   "outputs": [],
   "source": [
    "# Для LightGBM дополнительно обработаем категориальные признаки\n",
    "\n",
    "for i in category_var:\n",
    "    x_train[i] = pd.Series(x_train[i], dtype='category')\n",
    "    x_test[i] = pd.Series(x_test[i], dtype='category')\n"
   ]
  },
  {
   "cell_type": "code",
   "execution_count": 53,
   "metadata": {},
   "outputs": [],
   "source": [
    "# Обозначим модель\n",
    "\n",
    "model_lgbm = LGBMRegressor(boosting_type='gbdt',\n",
    "                           verbose=0,\n",
    "                           seed=RANDOM_STATE)\n",
    "\n",
    "# Зададим параметры\n",
    "param_grid_lgbm = {'learning_rate': np.logspace(-3, 0, 5),\n",
    "                   'n_estimators': range(20, 61, 20),\n",
    "                   'num_leaves': range(20, 41, 10),\n",
    "                   'force_col_wise': [True]}"
   ]
  },
  {
   "cell_type": "code",
   "execution_count": 54,
   "metadata": {},
   "outputs": [],
   "source": [
    "start_lgbm = time.time()\n",
    "\n",
    "# Подберем гиперпараметры\n",
    "grid_lgbm = RandomizedSearchCV(\n",
    "    model_lgbm, param_grid_lgbm, scoring='neg_root_mean_squared_error', cv=5)\n",
    "\n",
    "# Обучим модель  \n",
    "model_lgbm = grid_lgbm.fit(x_train, y_train)\n",
    "\n",
    "end_lgbm = time.time()"
   ]
  },
  {
   "cell_type": "code",
   "execution_count": 55,
   "metadata": {},
   "outputs": [
    {
     "name": "stdout",
     "output_type": "stream",
     "text": [
      "Лучшие параметры для LightGBM:  {'num_leaves': 20, 'n_estimators': 40, 'learning_rate': 0.1778279410038923, 'force_col_wise': True}\n",
      "Значение метрики RMSE для лучших параметров LightGBM : 1704.1964\n",
      "Время LightGBM равно: %.4f 2.702  минут\n"
     ]
    }
   ],
   "source": [
    "print(f'Лучшие параметры для LightGBM: ', model_lgbm.best_params_)\n",
    "print(f'Значение метрики RMSE для лучших параметров LightGBM : %.4f' % -model_lgbm.best_score_)\n",
    "print(f'Время LightGBM равно: %.4f', round((end_lgbm-start_lgbm)/60, 3), ' минут')"
   ]
  },
  {
   "cell_type": "code",
   "execution_count": 56,
   "metadata": {},
   "outputs": [],
   "source": [
    "# Время обучения и предсказания\n",
    "\n",
    "time_train_lgbm = model_lgbm.cv_results_['mean_fit_time'].mean()\n",
    "time_pred_lgbm = model_lgbm.cv_results_['mean_score_time'].mean()"
   ]
  },
  {
   "cell_type": "markdown",
   "metadata": {},
   "source": [
    "Модель обучается достаточно быстро и значение метрики RMSE не превышает 2500."
   ]
  },
  {
   "cell_type": "markdown",
   "metadata": {},
   "source": [
    "**2.3.4 _CatBoost._**"
   ]
  },
  {
   "cell_type": "code",
   "execution_count": 57,
   "metadata": {},
   "outputs": [],
   "source": [
    "# Обозначим модель\n",
    "\n",
    "model_cb = CatBoostRegressor(loss_function='RMSE',\n",
    "                             cat_features=category_var,\n",
    "                             verbose=0,\n",
    "                             random_seed=RANDOM_STATE)\n",
    "\n",
    "# Зададим параметры\n",
    "param_grid_cb = {'learning_rate': np.logspace(-3, 0, 5),\n",
    "                 'n_estimators' : range (50,100),\n",
    "                 'max_depth' : range(5, 7, 10)}"
   ]
  },
  {
   "cell_type": "code",
   "execution_count": 58,
   "metadata": {},
   "outputs": [],
   "source": [
    "start_cb = time.time()\n",
    "\n",
    "# Подберем гиперпараметры\n",
    "grid_cb = RandomizedSearchCV(\n",
    "    model_cb, param_grid_cb, scoring='neg_root_mean_squared_error', cv=5, \n",
    "    random_state=RANDOM_STATE)\n",
    "\n",
    "# Обучим модель  \n",
    "model_cb = grid_cb.fit(x_train, y_train)\n",
    "\n",
    "end_cb = time.time()"
   ]
  },
  {
   "cell_type": "code",
   "execution_count": 59,
   "metadata": {},
   "outputs": [
    {
     "name": "stdout",
     "output_type": "stream",
     "text": [
      "Лучшие параметры для CatBoost:  {'n_estimators': 96, 'max_depth': 5, 'learning_rate': 1.0}\n",
      "Значение метрики RMSE для лучших параметров CatBoost: 1727.9601\n",
      "Время CatBoost равно: %.4f 4.486  минут\n"
     ]
    }
   ],
   "source": [
    "print(f'Лучшие параметры для CatBoost: ', model_cb.best_params_)\n",
    "print(f'Значение метрики RMSE для лучших параметров CatBoost: %.4f' % -model_cb.best_score_)\n",
    "print(f'Время CatBoost равно: %.4f', round((end_cb-start_cb)/60, 3), ' минут')"
   ]
  },
  {
   "cell_type": "code",
   "execution_count": 60,
   "metadata": {},
   "outputs": [],
   "source": [
    "# Время обучения и предсказания\n",
    "\n",
    "time_train_cb = model_cb.cv_results_['mean_fit_time'].mean()\n",
    "time_pred_cb = model_cb.cv_results_['mean_score_time'].mean()"
   ]
  },
  {
   "cell_type": "markdown",
   "metadata": {},
   "source": [
    "Модель обучается достаточно быстро и значение метрики RMSE не превышает 2500."
   ]
  },
  {
   "cell_type": "markdown",
   "metadata": {},
   "source": [
    "**Вывод:**\n",
    "\n",
    "Лучший результат у модели LightGBM:\n",
    "- параметры для LightGBM:  {'num_leaves': 20, 'n_estimators': 40, 'learning_rate': 0.1778279410038923, 'force_col_wise': True}\n",
    "- значение метрики RMSE для лучших параметров LightGBM : 1704.1964 \n",
    "\n",
    "её и будем проверять на тестовой выборке.\n"
   ]
  },
  {
   "cell_type": "markdown",
   "metadata": {},
   "source": [
    "## Анализ моделей"
   ]
  },
  {
   "cell_type": "markdown",
   "metadata": {},
   "source": [
    "**Проанализируем, сравним результаты, выберем лучшую модель и проверим её качество на тестовой выборке.**"
   ]
  },
  {
   "cell_type": "code",
   "execution_count": 64,
   "metadata": {},
   "outputs": [
    {
     "data": {
      "text/html": [
       "<div>\n",
       "<style scoped>\n",
       "    .dataframe tbody tr th:only-of-type {\n",
       "        vertical-align: middle;\n",
       "    }\n",
       "\n",
       "    .dataframe tbody tr th {\n",
       "        vertical-align: top;\n",
       "    }\n",
       "\n",
       "    .dataframe thead th {\n",
       "        text-align: right;\n",
       "    }\n",
       "</style>\n",
       "<table border=\"1\" class=\"dataframe\">\n",
       "  <thead>\n",
       "    <tr style=\"text-align: right;\">\n",
       "      <th></th>\n",
       "      <th>Model</th>\n",
       "      <th>RMSE</th>\n",
       "      <th>Время обучения</th>\n",
       "      <th>Время предсказания</th>\n",
       "    </tr>\n",
       "  </thead>\n",
       "  <tbody>\n",
       "    <tr>\n",
       "      <th>0</th>\n",
       "      <td>LinearRegression</td>\n",
       "      <td>2598.000000</td>\n",
       "      <td>0.410000</td>\n",
       "      <td>0.009800</td>\n",
       "    </tr>\n",
       "    <tr>\n",
       "      <th>1</th>\n",
       "      <td>RandomForest</td>\n",
       "      <td>2611.192551</td>\n",
       "      <td>0.127668</td>\n",
       "      <td>0.076177</td>\n",
       "    </tr>\n",
       "    <tr>\n",
       "      <th>2</th>\n",
       "      <td>LightGBM</td>\n",
       "      <td>1704.196409</td>\n",
       "      <td>2.985203</td>\n",
       "      <td>0.196003</td>\n",
       "    </tr>\n",
       "    <tr>\n",
       "      <th>3</th>\n",
       "      <td>CatBoost</td>\n",
       "      <td>1727.960109</td>\n",
       "      <td>5.196106</td>\n",
       "      <td>0.034043</td>\n",
       "    </tr>\n",
       "  </tbody>\n",
       "</table>\n",
       "</div>"
      ],
      "text/plain": [
       "              Model         RMSE  Время обучения  Время предсказания\n",
       "0  LinearRegression  2598.000000        0.410000            0.009800\n",
       "1      RandomForest  2611.192551        0.127668            0.076177\n",
       "2          LightGBM  1704.196409        2.985203            0.196003\n",
       "3          CatBoost  1727.960109        5.196106            0.034043"
      ]
     },
     "metadata": {},
     "output_type": "display_data"
    }
   ],
   "source": [
    "results = {\n",
    "    'Model' : ['LinearRegression', 'RandomForest', 'LightGBM', 'CatBoost'],\n",
    "    'RMSE' :pd.Series([round(rmse), -model_rfr.best_score_, -model_lgbm.best_score_, -model_cb.best_score_]),\n",
    "    'Время обучения': pd.Series([0.41, \n",
    "                                 time_train_rfr,\n",
    "                                 time_train_lgbm,\n",
    "                                 time_train_cb]),\n",
    "    'Время предсказания': pd.Series([0.0098, \n",
    "                                 time_pred_rfr,\n",
    "                                 time_pred_lgbm,\n",
    "                                 time_pred_cb])\n",
    "    }\n",
    "display(pd.DataFrame(results))"
   ]
  },
  {
   "cell_type": "code",
   "execution_count": 62,
   "metadata": {},
   "outputs": [
    {
     "name": "stdout",
     "output_type": "stream",
     "text": [
      "Значение метрики RMSE для лучшей модели: 1701.7476\n"
     ]
    }
   ],
   "source": [
    "start_bestlgbm = time.time()\n",
    "\n",
    "prediction = model_lgbm.predict(x_test)\n",
    "result = mean_squared_error(y_test, prediction)** 0.5\n",
    "\n",
    "end_bestlgbm = time.time()\n",
    "\n",
    "print(f'Значение метрики RMSE для лучшей модели: %.4f' % result)"
   ]
  },
  {
   "cell_type": "code",
   "execution_count": 63,
   "metadata": {},
   "outputs": [
    {
     "data": {
      "image/png": "[encoded data removed]",
      "text/plain": [
       "<Figure size 1080x720 with 1 Axes>"
      ]
     },
     "metadata": {
      "needs_background": "light"
     },
     "output_type": "display_data"
    }
   ],
   "source": [
    "imp = pd.Series(model_lgbm.best_estimator_.feature_importances_,\n",
    "               x_train.columns)\n",
    "\n",
    "fig, ax = plt.subplots(figsize=(15,10))\n",
    "imp.plot.bar(ax=ax)\n",
    "ax.set_title('Важность признаков')\n",
    "ax.set_ylabel('Важность')\n",
    "fig.tight_layout()"
   ]
  },
  {
   "cell_type": "markdown",
   "metadata": {},
   "source": [
    "Наибольшее влияние на стоимость автомобиля оказывают:\n",
    "- год выпуска;\n",
    "- мощность двигателя;\n",
    "- модель."
   ]
  },
  {
   "cell_type": "markdown",
   "metadata": {},
   "source": [
    "**Общий вывод:**\n",
    "1. **_Были подготовлены данные:_**\n",
    "- в нашей таблице 16 столбцов и 354368 строк; \n",
    "- полных дубликатов не наблюдается, есть совпадающие признаки, оставили всё как есть;\n",
    "\n",
    "Удалены не информативные признаки: \n",
    "- DateCrawled - дата скачивания анкеты из базы;\n",
    "- DateCreated - дата создания анкеты;\n",
    "- LastSeen - дата последней активности пользователя\n",
    "- PostalCode - почтовый индекс владельца анкеты (пользователя);\n",
    "- NumberOfPictures - количество фотографий автомобиля;\n",
    "- RegistrationMonth - месяц регистрации автомобиля.\n",
    "\n",
    "\n",
    "- названия столбцов приведены к змеиному регистру;\n",
    "- обработаны пропущенные значения;\n",
    "- обработаны аномальные значения.\n",
    "\n",
    "2. **_Обучены классические и бустинговые модели:_** \n",
    "\n",
    "\t\t\t\n",
    "| Model | RMSE | Время обучения | Время предсказания | \n",
    "|---|---|-----------|------|\n",
    "| LinearRegression | 2598 | 0.490000 | 0.003500 | \n",
    "| RandomForest | 2611 | 0.127668 | 0.076177 |\n",
    "| LightGBM | 1704 | 2.985203 | 0.196003 |\n",
    "| CatBoost | 1727 | 5.196106 | 0.034043 | \n",
    "\n",
    "Классические модели показали плохой результат. \\\n",
    "Лучший результат у модели LightGBM:\n",
    "- Лучшие параметры для LightGBM:  {'num_leaves': 20, 'n_estimators': 40, 'learning_rate': 0.1778279410038923, 'force_col_wise': True}\n",
    "- Значение метрики RMSE для лучших параметров LightGBM : 1704.1964\n",
    "- Время LightGBM равно: %.4f 2.702  минут\n",
    "\n",
    "3. **_Выбрана лучшая модель - LightGBM._** \n",
    "- Значение метрики RMSE для лучшей модели: 1701\n",
    "\n",
    "4. **Наибольшее влияние на стоимость автомобиля оказывают:**\n",
    "- год выпуска;\n",
    "- мощность двигателя;\n",
    "- модель.\n"
   ]
  },
  {
   "cell_type": "markdown",
   "metadata": {},
   "source": [
    "## Чек-лист проверки"
   ]
  },
  {
   "cell_type": "markdown",
   "metadata": {},
   "source": [
    "Поставьте 'x' в выполненных пунктах. Далее нажмите Shift+Enter."
   ]
  },
  {
   "cell_type": "markdown",
   "metadata": {},
   "source": [
    "- [x]  Jupyter Notebook открыт\n",
    "- [ ]  Весь код выполняется без ошибок\n",
    "- [ ]  Ячейки с кодом расположены в порядке исполнения\n",
    "- [ ]  Выполнена загрузка и подготовка данных\n",
    "- [ ]  Выполнено обучение моделей\n",
    "- [ ]  Есть анализ скорости работы и качества моделей"
   ]
  }
 ],
 "metadata": {
  "ExecuteTimeLog": [
   {
    "duration": 2231,
    "start_time": "2023-05-11T11:05:09.716Z"
   },
   {
    "duration": 5,
    "start_time": "2023-05-11T11:05:39.170Z"
   },
   {
    "duration": 5,
    "start_time": "2023-05-11T11:06:13.857Z"
   },
   {
    "duration": 2804,
    "start_time": "2023-05-11T11:06:14.479Z"
   },
   {
    "duration": 28,
    "start_time": "2023-05-11T11:06:17.285Z"
   },
   {
    "duration": 1034,
    "start_time": "2023-05-11T11:06:40.527Z"
   },
   {
    "duration": 390,
    "start_time": "2023-05-11T11:07:28.259Z"
   },
   {
    "duration": 1706,
    "start_time": "2023-05-13T12:38:03.663Z"
   },
   {
    "duration": 5,
    "start_time": "2023-05-13T12:38:05.371Z"
   },
   {
    "duration": 1037,
    "start_time": "2023-05-13T12:38:05.377Z"
   },
   {
    "duration": 24,
    "start_time": "2023-05-13T12:38:06.415Z"
   },
   {
    "duration": 1064,
    "start_time": "2023-05-13T12:38:06.440Z"
   },
   {
    "duration": 432,
    "start_time": "2023-05-13T12:38:07.506Z"
   },
   {
    "duration": 1447,
    "start_time": "2023-05-14T11:40:58.763Z"
   },
   {
    "duration": 6,
    "start_time": "2023-05-14T11:41:00.212Z"
   },
   {
    "duration": 3023,
    "start_time": "2023-05-14T11:41:00.219Z"
   },
   {
    "duration": 26,
    "start_time": "2023-05-14T11:41:03.244Z"
   },
   {
    "duration": 922,
    "start_time": "2023-05-14T11:41:03.272Z"
   },
   {
    "duration": 441,
    "start_time": "2023-05-14T11:41:04.199Z"
   },
   {
    "duration": 16,
    "start_time": "2023-05-14T11:56:48.749Z"
   },
   {
    "duration": 4,
    "start_time": "2023-05-14T11:56:55.946Z"
   },
   {
    "duration": 111,
    "start_time": "2023-05-14T11:59:58.063Z"
   },
   {
    "duration": 17,
    "start_time": "2023-05-14T12:00:16.420Z"
   },
   {
    "duration": 3,
    "start_time": "2023-05-14T12:00:17.501Z"
   },
   {
    "duration": 1266,
    "start_time": "2023-05-14T12:00:26.775Z"
   },
   {
    "duration": 4,
    "start_time": "2023-05-14T12:00:28.043Z"
   },
   {
    "duration": 733,
    "start_time": "2023-05-14T12:00:28.048Z"
   },
   {
    "duration": 39,
    "start_time": "2023-05-14T12:00:28.784Z"
   },
   {
    "duration": 927,
    "start_time": "2023-05-14T12:00:28.825Z"
   },
   {
    "duration": 360,
    "start_time": "2023-05-14T12:00:29.753Z"
   },
   {
    "duration": 20,
    "start_time": "2023-05-14T12:00:30.115Z"
   },
   {
    "duration": 37,
    "start_time": "2023-05-14T12:00:30.137Z"
   },
   {
    "duration": 1359,
    "start_time": "2023-05-14T12:01:32.663Z"
   },
   {
    "duration": 4,
    "start_time": "2023-05-14T12:01:34.024Z"
   },
   {
    "duration": 772,
    "start_time": "2023-05-14T12:01:34.030Z"
   },
   {
    "duration": 21,
    "start_time": "2023-05-14T12:01:34.809Z"
   },
   {
    "duration": 958,
    "start_time": "2023-05-14T12:01:34.832Z"
   },
   {
    "duration": 429,
    "start_time": "2023-05-14T12:01:35.791Z"
   },
   {
    "duration": 17,
    "start_time": "2023-05-14T12:01:36.222Z"
   },
   {
    "duration": 5,
    "start_time": "2023-05-14T12:01:36.240Z"
   },
   {
    "duration": 2,
    "start_time": "2023-05-14T12:07:17.256Z"
   },
   {
    "duration": 4,
    "start_time": "2023-05-14T12:07:17.415Z"
   },
   {
    "duration": 107,
    "start_time": "2023-05-14T12:07:31.323Z"
   },
   {
    "duration": 4,
    "start_time": "2023-05-14T12:07:31.850Z"
   },
   {
    "duration": 7,
    "start_time": "2023-05-14T12:07:47.921Z"
   },
   {
    "duration": 2,
    "start_time": "2023-05-14T12:09:00.821Z"
   },
   {
    "duration": 4,
    "start_time": "2023-05-14T12:09:01.347Z"
   },
   {
    "duration": 8,
    "start_time": "2023-05-14T12:09:08.420Z"
   },
   {
    "duration": 7,
    "start_time": "2023-05-14T12:09:45.801Z"
   },
   {
    "duration": 6,
    "start_time": "2023-05-14T12:09:49.561Z"
   },
   {
    "duration": 3,
    "start_time": "2023-05-14T12:12:43.719Z"
   },
   {
    "duration": 4,
    "start_time": "2023-05-14T12:12:43.942Z"
   },
   {
    "duration": 4,
    "start_time": "2023-05-14T12:12:54.505Z"
   },
   {
    "duration": 4,
    "start_time": "2023-05-14T12:12:54.971Z"
   },
   {
    "duration": 1234,
    "start_time": "2023-05-14T12:13:03.718Z"
   },
   {
    "duration": 6,
    "start_time": "2023-05-14T12:13:04.954Z"
   },
   {
    "duration": 751,
    "start_time": "2023-05-14T12:13:04.961Z"
   },
   {
    "duration": 21,
    "start_time": "2023-05-14T12:13:05.714Z"
   },
   {
    "duration": 904,
    "start_time": "2023-05-14T12:13:05.737Z"
   },
   {
    "duration": 412,
    "start_time": "2023-05-14T12:13:06.644Z"
   },
   {
    "duration": 18,
    "start_time": "2023-05-14T12:13:07.058Z"
   },
   {
    "duration": 21,
    "start_time": "2023-05-14T12:13:07.085Z"
   },
   {
    "duration": 15,
    "start_time": "2023-05-14T12:13:07.108Z"
   },
   {
    "duration": 13,
    "start_time": "2023-05-14T12:13:07.125Z"
   },
   {
    "duration": 6,
    "start_time": "2023-05-14T12:13:07.139Z"
   },
   {
    "duration": 11,
    "start_time": "2023-05-14T12:13:07.147Z"
   },
   {
    "duration": 3,
    "start_time": "2023-05-14T12:14:21.303Z"
   },
   {
    "duration": 4,
    "start_time": "2023-05-14T12:14:21.449Z"
   },
   {
    "duration": 3,
    "start_time": "2023-05-14T12:14:41.800Z"
   },
   {
    "duration": 3,
    "start_time": "2023-05-14T12:14:41.967Z"
   },
   {
    "duration": 4,
    "start_time": "2023-05-14T12:14:42.148Z"
   },
   {
    "duration": 15,
    "start_time": "2023-05-14T12:14:48.920Z"
   },
   {
    "duration": 235,
    "start_time": "2023-05-14T12:15:44.712Z"
   },
   {
    "duration": 82,
    "start_time": "2023-05-14T12:22:18.139Z"
   },
   {
    "duration": 10,
    "start_time": "2023-05-14T12:22:35.057Z"
   },
   {
    "duration": 8,
    "start_time": "2023-05-14T12:22:51.670Z"
   },
   {
    "duration": 117,
    "start_time": "2023-05-14T12:26:54.124Z"
   },
   {
    "duration": 35,
    "start_time": "2023-05-14T12:26:59.130Z"
   },
   {
    "duration": 32,
    "start_time": "2023-05-14T12:27:03.708Z"
   },
   {
    "duration": 8,
    "start_time": "2023-05-14T12:27:12.300Z"
   },
   {
    "duration": 5,
    "start_time": "2023-05-14T12:33:38.245Z"
   },
   {
    "duration": 978,
    "start_time": "2023-05-14T12:33:56.246Z"
   },
   {
    "duration": 23,
    "start_time": "2023-05-14T12:34:11.744Z"
   },
   {
    "duration": 7536,
    "start_time": "2023-05-14T12:34:16.547Z"
   },
   {
    "duration": 65,
    "start_time": "2023-05-14T12:35:59.092Z"
   },
   {
    "duration": 508,
    "start_time": "2023-05-14T12:43:38.543Z"
   },
   {
    "duration": 2759,
    "start_time": "2023-05-14T12:51:44.559Z"
   },
   {
    "duration": 1399,
    "start_time": "2023-05-14T12:51:47.320Z"
   },
   {
    "duration": 963,
    "start_time": "2023-05-14T12:52:23.890Z"
   },
   {
    "duration": 628,
    "start_time": "2023-05-14T12:52:24.855Z"
   },
   {
    "duration": 871,
    "start_time": "2023-05-14T12:54:11.190Z"
   },
   {
    "duration": 867,
    "start_time": "2023-05-14T12:56:08.596Z"
   },
   {
    "duration": 1642,
    "start_time": "2023-05-14T13:00:37.349Z"
   },
   {
    "duration": 1235,
    "start_time": "2023-05-14T13:00:50.643Z"
   },
   {
    "duration": 9,
    "start_time": "2023-05-14T13:01:03.647Z"
   },
   {
    "duration": 1531,
    "start_time": "2023-05-14T13:01:06.943Z"
   },
   {
    "duration": 956,
    "start_time": "2023-05-14T13:01:23.938Z"
   },
   {
    "duration": 921,
    "start_time": "2023-05-14T13:03:26.444Z"
   },
   {
    "duration": 966,
    "start_time": "2023-05-14T13:03:57.624Z"
   },
   {
    "duration": 1873,
    "start_time": "2023-05-14T13:04:12.297Z"
   },
   {
    "duration": 207,
    "start_time": "2023-05-14T13:09:57.260Z"
   },
   {
    "duration": 8065,
    "start_time": "2023-05-14T13:11:16.260Z"
   },
   {
    "duration": 1852,
    "start_time": "2023-05-17T11:57:41.187Z"
   },
   {
    "duration": 3479,
    "start_time": "2023-05-17T11:57:43.041Z"
   },
   {
    "duration": 6,
    "start_time": "2023-05-17T11:57:46.522Z"
   },
   {
    "duration": 7,
    "start_time": "2023-05-17T11:57:46.532Z"
   },
   {
    "duration": 2990,
    "start_time": "2023-05-17T11:57:46.543Z"
   },
   {
    "duration": 33,
    "start_time": "2023-05-17T11:57:49.536Z"
   },
   {
    "duration": 1380,
    "start_time": "2023-05-17T11:57:49.578Z"
   },
   {
    "duration": 530,
    "start_time": "2023-05-17T11:57:50.960Z"
   },
   {
    "duration": 35,
    "start_time": "2023-05-17T11:57:51.492Z"
   },
   {
    "duration": 109,
    "start_time": "2023-05-17T11:57:51.530Z"
   },
   {
    "duration": 7,
    "start_time": "2023-05-17T11:57:51.641Z"
   },
   {
    "duration": 18,
    "start_time": "2023-05-17T11:57:51.650Z"
   },
   {
    "duration": 12,
    "start_time": "2023-05-17T11:57:51.670Z"
   },
   {
    "duration": 18,
    "start_time": "2023-05-17T11:57:51.685Z"
   },
   {
    "duration": 36,
    "start_time": "2023-05-17T11:57:51.704Z"
   },
   {
    "duration": 9873,
    "start_time": "2023-05-17T11:57:51.742Z"
   },
   {
    "duration": 1328,
    "start_time": "2023-05-17T11:58:01.617Z"
   },
   {
    "duration": 6,
    "start_time": "2023-05-17T12:57:42.756Z"
   },
   {
    "duration": 2464,
    "start_time": "2023-05-17T12:57:42.783Z"
   },
   {
    "duration": 7,
    "start_time": "2023-05-17T12:57:45.250Z"
   },
   {
    "duration": 11,
    "start_time": "2023-05-17T12:57:45.259Z"
   },
   {
    "duration": 967,
    "start_time": "2023-05-17T12:57:45.271Z"
   },
   {
    "duration": 35,
    "start_time": "2023-05-17T12:57:46.240Z"
   },
   {
    "duration": 1216,
    "start_time": "2023-05-17T12:57:46.277Z"
   },
   {
    "duration": 481,
    "start_time": "2023-05-17T12:57:47.495Z"
   },
   {
    "duration": 17,
    "start_time": "2023-05-17T12:57:47.977Z"
   },
   {
    "duration": 4,
    "start_time": "2023-05-17T12:57:47.996Z"
   },
   {
    "duration": 5,
    "start_time": "2023-05-17T12:57:48.002Z"
   },
   {
    "duration": 5,
    "start_time": "2023-05-17T12:57:48.026Z"
   },
   {
    "duration": 11,
    "start_time": "2023-05-17T12:57:48.033Z"
   },
   {
    "duration": 97,
    "start_time": "2023-05-17T12:57:48.047Z"
   },
   {
    "duration": 29,
    "start_time": "2023-05-17T12:57:48.146Z"
   },
   {
    "duration": 9561,
    "start_time": "2023-05-17T12:57:48.177Z"
   },
   {
    "duration": 1488,
    "start_time": "2023-05-17T12:57:57.740Z"
   },
   {
    "duration": 136,
    "start_time": "2023-05-17T13:08:59.008Z"
   },
   {
    "duration": 42,
    "start_time": "2023-05-17T13:09:05.127Z"
   },
   {
    "duration": 58,
    "start_time": "2023-05-17T13:09:11.238Z"
   },
   {
    "duration": 38,
    "start_time": "2023-05-17T13:13:44.036Z"
   },
   {
    "duration": 41,
    "start_time": "2023-05-17T13:13:52.718Z"
   },
   {
    "duration": 45,
    "start_time": "2023-05-17T13:13:56.673Z"
   },
   {
    "duration": 304,
    "start_time": "2023-05-17T13:14:54.637Z"
   },
   {
    "duration": 42,
    "start_time": "2023-05-17T13:15:11.203Z"
   },
   {
    "duration": 7,
    "start_time": "2023-05-17T13:24:22.646Z"
   },
   {
    "duration": 36,
    "start_time": "2023-05-17T13:24:33.140Z"
   },
   {
    "duration": 1372,
    "start_time": "2023-05-17T13:44:22.461Z"
   },
   {
    "duration": 463,
    "start_time": "2023-05-17T13:45:21.388Z"
   },
   {
    "duration": 1549,
    "start_time": "2023-05-17T13:49:04.354Z"
   },
   {
    "duration": 221,
    "start_time": "2023-05-17T13:49:35.849Z"
   },
   {
    "duration": 6,
    "start_time": "2023-05-17T13:49:52.915Z"
   },
   {
    "duration": 27,
    "start_time": "2023-05-17T13:50:00.892Z"
   },
   {
    "duration": 1723,
    "start_time": "2023-05-17T13:50:46.540Z"
   },
   {
    "duration": 2815,
    "start_time": "2023-05-17T13:50:48.266Z"
   },
   {
    "duration": 9,
    "start_time": "2023-05-17T13:50:51.083Z"
   },
   {
    "duration": 56,
    "start_time": "2023-05-17T13:50:51.095Z"
   },
   {
    "duration": 1108,
    "start_time": "2023-05-17T13:50:51.153Z"
   },
   {
    "duration": 44,
    "start_time": "2023-05-17T13:50:52.264Z"
   },
   {
    "duration": 1482,
    "start_time": "2023-05-17T13:50:52.309Z"
   },
   {
    "duration": 654,
    "start_time": "2023-05-17T13:50:53.793Z"
   },
   {
    "duration": 34,
    "start_time": "2023-05-17T13:50:54.449Z"
   },
   {
    "duration": 54,
    "start_time": "2023-05-17T13:50:54.487Z"
   },
   {
    "duration": 21,
    "start_time": "2023-05-17T13:50:54.543Z"
   },
   {
    "duration": 6,
    "start_time": "2023-05-17T13:50:54.566Z"
   },
   {
    "duration": 15,
    "start_time": "2023-05-17T13:50:54.574Z"
   },
   {
    "duration": 26,
    "start_time": "2023-05-17T13:50:54.591Z"
   },
   {
    "duration": 42,
    "start_time": "2023-05-17T13:50:54.619Z"
   },
   {
    "duration": 11315,
    "start_time": "2023-05-17T13:50:54.664Z"
   },
   {
    "duration": 1488,
    "start_time": "2023-05-17T13:51:05.981Z"
   },
   {
    "duration": 40,
    "start_time": "2023-05-17T13:51:07.471Z"
   },
   {
    "duration": 36,
    "start_time": "2023-05-17T13:51:07.526Z"
   },
   {
    "duration": 210,
    "start_time": "2023-05-17T13:51:07.564Z"
   },
   {
    "duration": 34,
    "start_time": "2023-05-17T13:51:07.776Z"
   },
   {
    "duration": 21,
    "start_time": "2023-05-17T13:52:45.605Z"
   },
   {
    "duration": 4,
    "start_time": "2023-05-17T13:54:06.027Z"
   },
   {
    "duration": 32,
    "start_time": "2023-05-17T13:54:22.111Z"
   },
   {
    "duration": 1751,
    "start_time": "2023-05-17T13:54:48.999Z"
   },
   {
    "duration": 2713,
    "start_time": "2023-05-17T13:54:50.753Z"
   },
   {
    "duration": 11,
    "start_time": "2023-05-17T13:54:53.469Z"
   },
   {
    "duration": 39,
    "start_time": "2023-05-17T13:54:53.482Z"
   },
   {
    "duration": 1203,
    "start_time": "2023-05-17T13:54:53.523Z"
   },
   {
    "duration": 33,
    "start_time": "2023-05-17T13:54:54.729Z"
   },
   {
    "duration": 1580,
    "start_time": "2023-05-17T13:54:54.765Z"
   },
   {
    "duration": 648,
    "start_time": "2023-05-17T13:54:56.347Z"
   },
   {
    "duration": 39,
    "start_time": "2023-05-17T13:54:56.997Z"
   },
   {
    "duration": 6,
    "start_time": "2023-05-17T13:54:57.040Z"
   },
   {
    "duration": 96,
    "start_time": "2023-05-17T13:54:57.049Z"
   },
   {
    "duration": 89,
    "start_time": "2023-05-17T13:54:57.147Z"
   },
   {
    "duration": 61,
    "start_time": "2023-05-17T13:54:57.238Z"
   },
   {
    "duration": 30,
    "start_time": "2023-05-17T13:54:57.302Z"
   },
   {
    "duration": 55,
    "start_time": "2023-05-17T13:54:57.334Z"
   },
   {
    "duration": 10979,
    "start_time": "2023-05-17T13:54:57.392Z"
   },
   {
    "duration": 1394,
    "start_time": "2023-05-17T13:55:08.373Z"
   },
   {
    "duration": 63,
    "start_time": "2023-05-17T13:55:09.768Z"
   },
   {
    "duration": 46,
    "start_time": "2023-05-17T13:55:09.834Z"
   },
   {
    "duration": 48,
    "start_time": "2023-05-17T14:07:04.723Z"
   },
   {
    "duration": 36,
    "start_time": "2023-05-17T14:09:55.688Z"
   },
   {
    "duration": 10,
    "start_time": "2023-05-17T14:10:17.213Z"
   },
   {
    "duration": 21,
    "start_time": "2023-05-17T14:10:25.711Z"
   },
   {
    "duration": 3808,
    "start_time": "2023-05-17T14:10:50.489Z"
   },
   {
    "duration": 85,
    "start_time": "2023-05-17T14:12:47.720Z"
   },
   {
    "duration": 104,
    "start_time": "2023-05-17T14:13:16.800Z"
   },
   {
    "duration": 16,
    "start_time": "2023-05-17T14:13:22.084Z"
   },
   {
    "duration": 17,
    "start_time": "2023-05-17T14:13:37.616Z"
   },
   {
    "duration": 2135,
    "start_time": "2023-05-17T20:14:02.612Z"
   },
   {
    "duration": 4041,
    "start_time": "2023-05-17T20:14:04.751Z"
   },
   {
    "duration": 15,
    "start_time": "2023-05-17T20:14:08.797Z"
   },
   {
    "duration": 19,
    "start_time": "2023-05-17T20:14:08.815Z"
   },
   {
    "duration": 1626,
    "start_time": "2023-05-17T20:14:08.836Z"
   },
   {
    "duration": 58,
    "start_time": "2023-05-17T20:14:10.464Z"
   },
   {
    "duration": 1407,
    "start_time": "2023-05-17T20:14:10.524Z"
   },
   {
    "duration": 719,
    "start_time": "2023-05-17T20:14:11.933Z"
   },
   {
    "duration": 46,
    "start_time": "2023-05-17T20:14:12.655Z"
   },
   {
    "duration": 48,
    "start_time": "2023-05-17T20:14:12.705Z"
   },
   {
    "duration": 14,
    "start_time": "2023-05-17T20:14:12.755Z"
   },
   {
    "duration": 169,
    "start_time": "2023-05-17T20:14:12.771Z"
   },
   {
    "duration": 16,
    "start_time": "2023-05-17T20:14:12.942Z"
   },
   {
    "duration": 76,
    "start_time": "2023-05-17T20:14:12.960Z"
   },
   {
    "duration": 64,
    "start_time": "2023-05-17T20:14:13.038Z"
   },
   {
    "duration": 11432,
    "start_time": "2023-05-17T20:14:13.115Z"
   },
   {
    "duration": 1378,
    "start_time": "2023-05-17T20:14:24.549Z"
   },
   {
    "duration": 53,
    "start_time": "2023-05-17T20:14:25.933Z"
   },
   {
    "duration": 139,
    "start_time": "2023-05-17T20:14:25.991Z"
   },
   {
    "duration": 296,
    "start_time": "2023-05-17T20:15:08.133Z"
   },
   {
    "duration": 1710,
    "start_time": "2023-05-17T20:21:04.925Z"
   },
   {
    "duration": 68,
    "start_time": "2023-05-17T20:21:23.894Z"
   },
   {
    "duration": 62,
    "start_time": "2023-05-17T20:21:31.710Z"
   },
   {
    "duration": 83,
    "start_time": "2023-05-17T20:21:35.827Z"
   },
   {
    "duration": 80,
    "start_time": "2023-05-17T20:21:39.443Z"
   },
   {
    "duration": 1515,
    "start_time": "2023-05-17T20:22:03.617Z"
   },
   {
    "duration": 52,
    "start_time": "2023-05-17T20:24:34.894Z"
   },
   {
    "duration": 11537,
    "start_time": "2023-05-17T20:25:36.921Z"
   },
   {
    "duration": 11606,
    "start_time": "2023-05-17T20:26:18.435Z"
   },
   {
    "duration": 1651,
    "start_time": "2023-05-17T20:26:38.401Z"
   },
   {
    "duration": 2270,
    "start_time": "2023-05-17T20:26:40.054Z"
   },
   {
    "duration": 6,
    "start_time": "2023-05-17T20:26:42.326Z"
   },
   {
    "duration": 27,
    "start_time": "2023-05-17T20:26:42.334Z"
   },
   {
    "duration": 1047,
    "start_time": "2023-05-17T20:26:42.364Z"
   },
   {
    "duration": 29,
    "start_time": "2023-05-17T20:26:43.413Z"
   },
   {
    "duration": 1267,
    "start_time": "2023-05-17T20:26:43.444Z"
   },
   {
    "duration": 553,
    "start_time": "2023-05-17T20:26:44.713Z"
   },
   {
    "duration": 32,
    "start_time": "2023-05-17T20:26:45.271Z"
   },
   {
    "duration": 10,
    "start_time": "2023-05-17T20:26:45.306Z"
   },
   {
    "duration": 10,
    "start_time": "2023-05-17T20:26:45.318Z"
   },
   {
    "duration": 16,
    "start_time": "2023-05-17T20:26:45.330Z"
   },
   {
    "duration": 9,
    "start_time": "2023-05-17T20:26:45.348Z"
   },
   {
    "duration": 62,
    "start_time": "2023-05-17T20:26:45.360Z"
   },
   {
    "duration": 41,
    "start_time": "2023-05-17T20:26:45.424Z"
   },
   {
    "duration": 9782,
    "start_time": "2023-05-17T20:26:45.467Z"
   },
   {
    "duration": 1314,
    "start_time": "2023-05-17T20:26:55.251Z"
   },
   {
    "duration": 44,
    "start_time": "2023-05-17T20:26:56.567Z"
   },
   {
    "duration": 5055,
    "start_time": "2023-05-17T20:26:56.613Z"
   },
   {
    "duration": 0,
    "start_time": "2023-05-17T20:27:01.670Z"
   },
   {
    "duration": 4908,
    "start_time": "2023-05-17T20:28:58.122Z"
   },
   {
    "duration": 11161,
    "start_time": "2023-05-17T20:31:15.798Z"
   },
   {
    "duration": 107,
    "start_time": "2023-05-17T20:31:32.938Z"
   },
   {
    "duration": 1673,
    "start_time": "2023-05-17T20:31:45.714Z"
   },
   {
    "duration": 2472,
    "start_time": "2023-05-17T20:31:47.393Z"
   },
   {
    "duration": 15,
    "start_time": "2023-05-17T20:31:49.867Z"
   },
   {
    "duration": 35,
    "start_time": "2023-05-17T20:31:49.885Z"
   },
   {
    "duration": 1023,
    "start_time": "2023-05-17T20:31:49.922Z"
   },
   {
    "duration": 42,
    "start_time": "2023-05-17T20:31:50.947Z"
   },
   {
    "duration": 1301,
    "start_time": "2023-05-17T20:31:50.992Z"
   },
   {
    "duration": 664,
    "start_time": "2023-05-17T20:31:52.294Z"
   },
   {
    "duration": 47,
    "start_time": "2023-05-17T20:31:52.960Z"
   },
   {
    "duration": 11,
    "start_time": "2023-05-17T20:31:53.010Z"
   },
   {
    "duration": 8,
    "start_time": "2023-05-17T20:31:53.023Z"
   },
   {
    "duration": 7,
    "start_time": "2023-05-17T20:31:53.033Z"
   },
   {
    "duration": 9,
    "start_time": "2023-05-17T20:31:53.042Z"
   },
   {
    "duration": 36,
    "start_time": "2023-05-17T20:31:53.053Z"
   },
   {
    "duration": 44,
    "start_time": "2023-05-17T20:31:53.095Z"
   },
   {
    "duration": 10697,
    "start_time": "2023-05-17T20:31:53.140Z"
   },
   {
    "duration": 1160,
    "start_time": "2023-05-17T20:32:03.839Z"
   },
   {
    "duration": 34,
    "start_time": "2023-05-17T20:32:05.001Z"
   },
   {
    "duration": 10973,
    "start_time": "2023-05-17T20:32:05.037Z"
   },
   {
    "duration": 88,
    "start_time": "2023-05-17T20:32:16.013Z"
   },
   {
    "duration": 27,
    "start_time": "2023-05-17T20:32:45.036Z"
   },
   {
    "duration": 107,
    "start_time": "2023-05-17T20:33:14.250Z"
   },
   {
    "duration": 10532,
    "start_time": "2023-05-17T20:33:35.353Z"
   },
   {
    "duration": 60,
    "start_time": "2023-05-17T20:33:45.887Z"
   },
   {
    "duration": 115,
    "start_time": "2023-05-17T20:33:45.949Z"
   },
   {
    "duration": 1638,
    "start_time": "2023-05-17T20:34:07.893Z"
   },
   {
    "duration": 2469,
    "start_time": "2023-05-17T20:34:09.533Z"
   },
   {
    "duration": 9,
    "start_time": "2023-05-17T20:34:12.006Z"
   },
   {
    "duration": 32,
    "start_time": "2023-05-17T20:34:12.018Z"
   },
   {
    "duration": 1067,
    "start_time": "2023-05-17T20:34:12.052Z"
   },
   {
    "duration": 39,
    "start_time": "2023-05-17T20:34:13.121Z"
   },
   {
    "duration": 1320,
    "start_time": "2023-05-17T20:34:13.175Z"
   },
   {
    "duration": 559,
    "start_time": "2023-05-17T20:34:14.505Z"
   },
   {
    "duration": 32,
    "start_time": "2023-05-17T20:34:15.066Z"
   },
   {
    "duration": 22,
    "start_time": "2023-05-17T20:34:15.106Z"
   },
   {
    "duration": 30,
    "start_time": "2023-05-17T20:34:15.130Z"
   },
   {
    "duration": 31,
    "start_time": "2023-05-17T20:34:15.162Z"
   },
   {
    "duration": 21,
    "start_time": "2023-05-17T20:34:15.196Z"
   },
   {
    "duration": 17,
    "start_time": "2023-05-17T20:34:15.219Z"
   },
   {
    "duration": 48,
    "start_time": "2023-05-17T20:34:15.237Z"
   },
   {
    "duration": 10054,
    "start_time": "2023-05-17T20:34:15.287Z"
   },
   {
    "duration": 1312,
    "start_time": "2023-05-17T20:34:25.344Z"
   },
   {
    "duration": 61,
    "start_time": "2023-05-17T20:34:26.658Z"
   },
   {
    "duration": 97,
    "start_time": "2023-05-17T20:34:26.721Z"
   },
   {
    "duration": 11411,
    "start_time": "2023-05-17T20:34:26.820Z"
   },
   {
    "duration": 76,
    "start_time": "2023-05-17T20:34:38.234Z"
   },
   {
    "duration": 107,
    "start_time": "2023-05-17T20:34:38.314Z"
   },
   {
    "duration": 12043,
    "start_time": "2023-05-17T20:35:01.704Z"
   },
   {
    "duration": 70,
    "start_time": "2023-05-17T20:35:13.750Z"
   },
   {
    "duration": 108,
    "start_time": "2023-05-17T20:35:13.822Z"
   },
   {
    "duration": 51,
    "start_time": "2023-05-17T20:35:30.622Z"
   },
   {
    "duration": 102,
    "start_time": "2023-05-17T20:35:30.945Z"
   },
   {
    "duration": 5,
    "start_time": "2023-05-17T20:35:48.056Z"
   },
   {
    "duration": 80,
    "start_time": "2023-05-17T20:35:53.299Z"
   },
   {
    "duration": 1055,
    "start_time": "2023-05-17T20:38:00.994Z"
   },
   {
    "duration": 11083,
    "start_time": "2023-05-17T20:39:22.929Z"
   },
   {
    "duration": 63,
    "start_time": "2023-05-17T20:39:34.014Z"
   },
   {
    "duration": 86,
    "start_time": "2023-05-17T20:39:34.082Z"
   },
   {
    "duration": 16,
    "start_time": "2023-05-17T20:41:37.029Z"
   },
   {
    "duration": 10006,
    "start_time": "2023-05-17T20:41:44.056Z"
   },
   {
    "duration": 67,
    "start_time": "2023-05-17T20:41:54.064Z"
   },
   {
    "duration": 97,
    "start_time": "2023-05-17T20:41:54.133Z"
   },
   {
    "duration": 1176,
    "start_time": "2023-05-17T20:43:44.101Z"
   },
   {
    "duration": 1729,
    "start_time": "2023-05-17T20:45:10.150Z"
   },
   {
    "duration": 2334,
    "start_time": "2023-05-17T20:45:11.881Z"
   },
   {
    "duration": 6,
    "start_time": "2023-05-17T20:45:14.217Z"
   },
   {
    "duration": 10,
    "start_time": "2023-05-17T20:45:14.225Z"
   },
   {
    "duration": 995,
    "start_time": "2023-05-17T20:45:14.237Z"
   },
   {
    "duration": 37,
    "start_time": "2023-05-17T20:45:15.234Z"
   },
   {
    "duration": 1541,
    "start_time": "2023-05-17T20:45:15.277Z"
   },
   {
    "duration": 605,
    "start_time": "2023-05-17T20:45:16.823Z"
   },
   {
    "duration": 26,
    "start_time": "2023-05-17T20:45:17.430Z"
   },
   {
    "duration": 56,
    "start_time": "2023-05-17T20:45:17.458Z"
   },
   {
    "duration": 11,
    "start_time": "2023-05-17T20:45:17.516Z"
   },
   {
    "duration": 15,
    "start_time": "2023-05-17T20:45:17.529Z"
   },
   {
    "duration": 9,
    "start_time": "2023-05-17T20:45:17.546Z"
   },
   {
    "duration": 32,
    "start_time": "2023-05-17T20:45:17.559Z"
   },
   {
    "duration": 68,
    "start_time": "2023-05-17T20:45:17.593Z"
   },
   {
    "duration": 9982,
    "start_time": "2023-05-17T20:45:17.663Z"
   },
   {
    "duration": 1214,
    "start_time": "2023-05-17T20:45:27.648Z"
   },
   {
    "duration": 51,
    "start_time": "2023-05-17T20:45:28.871Z"
   },
   {
    "duration": 103,
    "start_time": "2023-05-17T20:45:28.924Z"
   },
   {
    "duration": 11423,
    "start_time": "2023-05-17T20:45:29.029Z"
   },
   {
    "duration": 79,
    "start_time": "2023-05-17T20:45:40.455Z"
   },
   {
    "duration": 90,
    "start_time": "2023-05-17T20:45:40.536Z"
   },
   {
    "duration": 10959,
    "start_time": "2023-05-17T20:47:51.301Z"
   },
   {
    "duration": 64,
    "start_time": "2023-05-17T20:48:02.262Z"
   },
   {
    "duration": 177,
    "start_time": "2023-05-17T20:48:02.327Z"
   },
   {
    "duration": 1727,
    "start_time": "2023-05-18T06:07:53.577Z"
   },
   {
    "duration": 2983,
    "start_time": "2023-05-18T06:07:55.306Z"
   },
   {
    "duration": 6,
    "start_time": "2023-05-18T06:07:58.292Z"
   },
   {
    "duration": 23,
    "start_time": "2023-05-18T06:07:58.301Z"
   },
   {
    "duration": 2903,
    "start_time": "2023-05-18T06:07:58.326Z"
   },
   {
    "duration": 27,
    "start_time": "2023-05-18T06:08:01.231Z"
   },
   {
    "duration": 1157,
    "start_time": "2023-05-18T06:08:01.260Z"
   },
   {
    "duration": 527,
    "start_time": "2023-05-18T06:08:02.418Z"
   },
   {
    "duration": 32,
    "start_time": "2023-05-18T06:08:02.946Z"
   },
   {
    "duration": 26,
    "start_time": "2023-05-18T06:08:02.981Z"
   },
   {
    "duration": 14,
    "start_time": "2023-05-18T06:08:03.009Z"
   },
   {
    "duration": 36,
    "start_time": "2023-05-18T06:08:03.024Z"
   },
   {
    "duration": 16,
    "start_time": "2023-05-18T06:08:03.062Z"
   },
   {
    "duration": 52,
    "start_time": "2023-05-18T06:08:03.080Z"
   },
   {
    "duration": 41,
    "start_time": "2023-05-18T06:08:03.135Z"
   },
   {
    "duration": 8954,
    "start_time": "2023-05-18T06:08:03.179Z"
   },
   {
    "duration": 1215,
    "start_time": "2023-05-18T06:08:12.135Z"
   },
   {
    "duration": 30,
    "start_time": "2023-05-18T06:08:13.356Z"
   },
   {
    "duration": 10798,
    "start_time": "2023-05-18T06:08:13.388Z"
   },
   {
    "duration": 80,
    "start_time": "2023-05-18T06:08:24.189Z"
   },
   {
    "duration": 106,
    "start_time": "2023-05-18T06:08:24.271Z"
   },
   {
    "duration": 68,
    "start_time": "2023-05-18T06:10:14.592Z"
   },
   {
    "duration": 10987,
    "start_time": "2023-05-18T06:10:16.245Z"
   },
   {
    "duration": 50,
    "start_time": "2023-05-18T06:10:27.235Z"
   },
   {
    "duration": 82,
    "start_time": "2023-05-18T06:10:27.288Z"
   },
   {
    "duration": 1426,
    "start_time": "2023-05-18T06:10:33.709Z"
   },
   {
    "duration": 2101,
    "start_time": "2023-05-18T06:10:35.137Z"
   },
   {
    "duration": 6,
    "start_time": "2023-05-18T06:10:37.240Z"
   },
   {
    "duration": 7,
    "start_time": "2023-05-18T06:10:37.249Z"
   },
   {
    "duration": 892,
    "start_time": "2023-05-18T06:10:37.257Z"
   },
   {
    "duration": 32,
    "start_time": "2023-05-18T06:10:38.151Z"
   },
   {
    "duration": 1154,
    "start_time": "2023-05-18T06:10:38.185Z"
   },
   {
    "duration": 516,
    "start_time": "2023-05-18T06:10:39.341Z"
   },
   {
    "duration": 20,
    "start_time": "2023-05-18T06:10:39.859Z"
   },
   {
    "duration": 4,
    "start_time": "2023-05-18T06:10:39.882Z"
   },
   {
    "duration": 13,
    "start_time": "2023-05-18T06:10:39.887Z"
   },
   {
    "duration": 12,
    "start_time": "2023-05-18T06:10:39.902Z"
   },
   {
    "duration": 10,
    "start_time": "2023-05-18T06:10:39.915Z"
   },
   {
    "duration": 16,
    "start_time": "2023-05-18T06:10:39.927Z"
   },
   {
    "duration": 39,
    "start_time": "2023-05-18T06:10:39.944Z"
   },
   {
    "duration": 8265,
    "start_time": "2023-05-18T06:10:39.984Z"
   },
   {
    "duration": 1181,
    "start_time": "2023-05-18T06:10:48.251Z"
   },
   {
    "duration": 41,
    "start_time": "2023-05-18T06:10:49.433Z"
   },
   {
    "duration": 9609,
    "start_time": "2023-05-18T06:10:49.476Z"
   },
   {
    "duration": 49,
    "start_time": "2023-05-18T06:10:59.087Z"
   },
   {
    "duration": 93,
    "start_time": "2023-05-18T06:10:59.138Z"
   },
   {
    "duration": 2493,
    "start_time": "2023-05-18T06:31:24.841Z"
   },
   {
    "duration": 60,
    "start_time": "2023-05-18T06:31:27.337Z"
   },
   {
    "duration": 100,
    "start_time": "2023-05-18T06:31:27.399Z"
   },
   {
    "duration": 10758,
    "start_time": "2023-05-18T06:31:40.947Z"
   },
   {
    "duration": 53,
    "start_time": "2023-05-18T06:31:51.708Z"
   },
   {
    "duration": 108,
    "start_time": "2023-05-18T06:31:51.763Z"
   },
   {
    "duration": 82,
    "start_time": "2023-05-18T06:35:14.546Z"
   },
   {
    "duration": 89,
    "start_time": "2023-05-18T06:35:19.565Z"
   },
   {
    "duration": 1659,
    "start_time": "2023-05-18T06:35:29.161Z"
   },
   {
    "duration": 2074,
    "start_time": "2023-05-18T06:35:30.822Z"
   },
   {
    "duration": 8,
    "start_time": "2023-05-18T06:35:32.898Z"
   },
   {
    "duration": 6,
    "start_time": "2023-05-18T06:35:32.909Z"
   },
   {
    "duration": 871,
    "start_time": "2023-05-18T06:35:32.917Z"
   },
   {
    "duration": 26,
    "start_time": "2023-05-18T06:35:33.790Z"
   },
   {
    "duration": 1123,
    "start_time": "2023-05-18T06:35:33.818Z"
   },
   {
    "duration": 522,
    "start_time": "2023-05-18T06:35:34.943Z"
   },
   {
    "duration": 18,
    "start_time": "2023-05-18T06:35:35.467Z"
   },
   {
    "duration": 15,
    "start_time": "2023-05-18T06:35:35.488Z"
   },
   {
    "duration": 34,
    "start_time": "2023-05-18T06:35:35.505Z"
   },
   {
    "duration": 26,
    "start_time": "2023-05-18T06:35:35.540Z"
   },
   {
    "duration": 26,
    "start_time": "2023-05-18T06:35:35.568Z"
   },
   {
    "duration": 22,
    "start_time": "2023-05-18T06:35:35.598Z"
   },
   {
    "duration": 50,
    "start_time": "2023-05-18T06:35:35.622Z"
   },
   {
    "duration": 8607,
    "start_time": "2023-05-18T06:35:35.674Z"
   },
   {
    "duration": 1076,
    "start_time": "2023-05-18T06:35:44.283Z"
   },
   {
    "duration": 32,
    "start_time": "2023-05-18T06:35:45.360Z"
   },
   {
    "duration": 9893,
    "start_time": "2023-05-18T06:35:45.394Z"
   },
   {
    "duration": 69,
    "start_time": "2023-05-18T06:35:55.290Z"
   },
   {
    "duration": 79,
    "start_time": "2023-05-18T06:35:55.361Z"
   },
   {
    "duration": 105,
    "start_time": "2023-05-18T06:35:55.456Z"
   },
   {
    "duration": 70,
    "start_time": "2023-05-18T06:35:55.563Z"
   },
   {
    "duration": 1575,
    "start_time": "2023-05-18T06:40:03.154Z"
   },
   {
    "duration": 467,
    "start_time": "2023-05-18T06:40:14.467Z"
   },
   {
    "duration": 371,
    "start_time": "2023-05-18T06:41:57.261Z"
   },
   {
    "duration": 4,
    "start_time": "2023-05-18T06:46:52.292Z"
   },
   {
    "duration": 5,
    "start_time": "2023-05-18T06:48:28.700Z"
   },
   {
    "duration": 1518,
    "start_time": "2023-05-18T06:48:35.102Z"
   },
   {
    "duration": 2181,
    "start_time": "2023-05-18T06:48:36.622Z"
   },
   {
    "duration": 7,
    "start_time": "2023-05-18T06:48:38.806Z"
   },
   {
    "duration": 12,
    "start_time": "2023-05-18T06:48:38.816Z"
   },
   {
    "duration": 1959,
    "start_time": "2023-05-18T06:48:38.830Z"
   },
   {
    "duration": 29,
    "start_time": "2023-05-18T06:48:40.792Z"
   },
   {
    "duration": 1156,
    "start_time": "2023-05-18T06:48:40.824Z"
   },
   {
    "duration": 538,
    "start_time": "2023-05-18T06:48:41.982Z"
   },
   {
    "duration": 18,
    "start_time": "2023-05-18T06:48:42.522Z"
   },
   {
    "duration": 28,
    "start_time": "2023-05-18T06:48:42.543Z"
   },
   {
    "duration": 3,
    "start_time": "2023-05-18T06:48:42.574Z"
   },
   {
    "duration": 16,
    "start_time": "2023-05-18T06:48:42.578Z"
   },
   {
    "duration": 9,
    "start_time": "2023-05-18T06:48:42.596Z"
   },
   {
    "duration": 17,
    "start_time": "2023-05-18T06:48:42.607Z"
   },
   {
    "duration": 47,
    "start_time": "2023-05-18T06:48:42.626Z"
   },
   {
    "duration": 9196,
    "start_time": "2023-05-18T06:48:42.674Z"
   },
   {
    "duration": 1275,
    "start_time": "2023-05-18T06:48:51.872Z"
   },
   {
    "duration": 35,
    "start_time": "2023-05-18T06:48:53.156Z"
   },
   {
    "duration": 10194,
    "start_time": "2023-05-18T06:48:53.192Z"
   },
   {
    "duration": 48,
    "start_time": "2023-05-18T06:49:03.389Z"
   },
   {
    "duration": 92,
    "start_time": "2023-05-18T06:49:03.438Z"
   },
   {
    "duration": 95,
    "start_time": "2023-05-18T06:49:03.531Z"
   },
   {
    "duration": 4,
    "start_time": "2023-05-18T06:49:03.628Z"
   },
   {
    "duration": 1248,
    "start_time": "2023-05-18T06:50:20.692Z"
   },
   {
    "duration": 1110,
    "start_time": "2023-05-18T06:50:48.057Z"
   },
   {
    "duration": 49,
    "start_time": "2023-05-18T06:51:12.105Z"
   },
   {
    "duration": 33,
    "start_time": "2023-05-18T06:52:44.459Z"
   },
   {
    "duration": 50,
    "start_time": "2023-05-18T06:53:52.018Z"
   },
   {
    "duration": 152,
    "start_time": "2023-05-18T06:54:39.069Z"
   },
   {
    "duration": 16,
    "start_time": "2023-05-18T06:54:45.696Z"
   },
   {
    "duration": 1703,
    "start_time": "2023-05-18T06:54:52.581Z"
   },
   {
    "duration": 2352,
    "start_time": "2023-05-18T06:54:54.287Z"
   },
   {
    "duration": 7,
    "start_time": "2023-05-18T06:54:56.642Z"
   },
   {
    "duration": 41,
    "start_time": "2023-05-18T06:54:56.651Z"
   },
   {
    "duration": 1848,
    "start_time": "2023-05-18T06:54:56.694Z"
   },
   {
    "duration": 33,
    "start_time": "2023-05-18T06:54:58.544Z"
   },
   {
    "duration": 1262,
    "start_time": "2023-05-18T06:54:58.579Z"
   },
   {
    "duration": 562,
    "start_time": "2023-05-18T06:54:59.843Z"
   },
   {
    "duration": 89,
    "start_time": "2023-05-18T06:55:00.407Z"
   },
   {
    "duration": 4,
    "start_time": "2023-05-18T06:55:00.499Z"
   },
   {
    "duration": 44,
    "start_time": "2023-05-18T06:55:00.505Z"
   },
   {
    "duration": 40,
    "start_time": "2023-05-18T06:55:00.551Z"
   },
   {
    "duration": 54,
    "start_time": "2023-05-18T06:55:00.593Z"
   },
   {
    "duration": 52,
    "start_time": "2023-05-18T06:55:00.649Z"
   },
   {
    "duration": 82,
    "start_time": "2023-05-18T06:55:00.703Z"
   },
   {
    "duration": 9281,
    "start_time": "2023-05-18T06:55:00.788Z"
   },
   {
    "duration": 1086,
    "start_time": "2023-05-18T06:55:10.075Z"
   },
   {
    "duration": 41,
    "start_time": "2023-05-18T06:55:11.163Z"
   },
   {
    "duration": 10981,
    "start_time": "2023-05-18T06:55:11.206Z"
   },
   {
    "duration": 48,
    "start_time": "2023-05-18T06:55:22.189Z"
   },
   {
    "duration": 85,
    "start_time": "2023-05-18T06:55:22.240Z"
   },
   {
    "duration": 91,
    "start_time": "2023-05-18T06:55:22.327Z"
   },
   {
    "duration": 5,
    "start_time": "2023-05-18T06:55:22.420Z"
   },
   {
    "duration": 1293,
    "start_time": "2023-05-18T06:55:38.870Z"
   },
   {
    "duration": 196,
    "start_time": "2023-05-18T06:56:10.777Z"
   },
   {
    "duration": 109,
    "start_time": "2023-05-18T06:56:16.597Z"
   },
   {
    "duration": 1530,
    "start_time": "2023-05-18T06:56:56.510Z"
   },
   {
    "duration": 2316,
    "start_time": "2023-05-18T06:56:58.042Z"
   },
   {
    "duration": 11,
    "start_time": "2023-05-18T06:57:00.361Z"
   },
   {
    "duration": 55,
    "start_time": "2023-05-18T06:57:00.376Z"
   },
   {
    "duration": 1913,
    "start_time": "2023-05-18T06:57:00.432Z"
   },
   {
    "duration": 30,
    "start_time": "2023-05-18T06:57:02.346Z"
   },
   {
    "duration": 1127,
    "start_time": "2023-05-18T06:57:02.378Z"
   },
   {
    "duration": 529,
    "start_time": "2023-05-18T06:57:03.506Z"
   },
   {
    "duration": 67,
    "start_time": "2023-05-18T06:57:04.037Z"
   },
   {
    "duration": 6,
    "start_time": "2023-05-18T06:57:04.109Z"
   },
   {
    "duration": 5,
    "start_time": "2023-05-18T06:57:04.118Z"
   },
   {
    "duration": 11,
    "start_time": "2023-05-18T06:57:04.125Z"
   },
   {
    "duration": 23,
    "start_time": "2023-05-18T06:57:04.138Z"
   },
   {
    "duration": 18,
    "start_time": "2023-05-18T06:57:04.163Z"
   },
   {
    "duration": 38,
    "start_time": "2023-05-18T06:57:04.183Z"
   },
   {
    "duration": 9106,
    "start_time": "2023-05-18T06:57:04.223Z"
   },
   {
    "duration": 1243,
    "start_time": "2023-05-18T06:57:13.331Z"
   },
   {
    "duration": 34,
    "start_time": "2023-05-18T06:57:14.577Z"
   },
   {
    "duration": 10725,
    "start_time": "2023-05-18T06:57:14.613Z"
   },
   {
    "duration": 62,
    "start_time": "2023-05-18T06:57:25.340Z"
   },
   {
    "duration": 233,
    "start_time": "2023-05-18T06:57:25.404Z"
   },
   {
    "duration": 0,
    "start_time": "2023-05-18T06:57:25.639Z"
   },
   {
    "duration": 0,
    "start_time": "2023-05-18T06:57:25.640Z"
   },
   {
    "duration": 0,
    "start_time": "2023-05-18T06:57:25.642Z"
   },
   {
    "duration": 103,
    "start_time": "2023-05-18T06:58:18.009Z"
   },
   {
    "duration": 78,
    "start_time": "2023-05-18T07:00:15.901Z"
   },
   {
    "duration": 93,
    "start_time": "2023-05-18T07:00:21.578Z"
   },
   {
    "duration": 7,
    "start_time": "2023-05-18T07:00:22.755Z"
   },
   {
    "duration": 1215,
    "start_time": "2023-05-18T07:00:23.562Z"
   },
   {
    "duration": 92,
    "start_time": "2023-05-18T07:00:50.713Z"
   },
   {
    "duration": 1248,
    "start_time": "2023-05-18T07:00:50.902Z"
   },
   {
    "duration": 1641,
    "start_time": "2023-05-18T07:00:58.756Z"
   },
   {
    "duration": 2398,
    "start_time": "2023-05-18T07:01:00.400Z"
   },
   {
    "duration": 7,
    "start_time": "2023-05-18T07:01:02.799Z"
   },
   {
    "duration": 32,
    "start_time": "2023-05-18T07:01:02.808Z"
   },
   {
    "duration": 1988,
    "start_time": "2023-05-18T07:01:02.843Z"
   },
   {
    "duration": 35,
    "start_time": "2023-05-18T07:01:04.834Z"
   },
   {
    "duration": 1241,
    "start_time": "2023-05-18T07:01:04.872Z"
   },
   {
    "duration": 606,
    "start_time": "2023-05-18T07:01:06.116Z"
   },
   {
    "duration": 97,
    "start_time": "2023-05-18T07:01:06.725Z"
   },
   {
    "duration": 5,
    "start_time": "2023-05-18T07:01:06.824Z"
   },
   {
    "duration": 13,
    "start_time": "2023-05-18T07:01:06.832Z"
   },
   {
    "duration": 10,
    "start_time": "2023-05-18T07:01:06.857Z"
   },
   {
    "duration": 18,
    "start_time": "2023-05-18T07:01:06.873Z"
   },
   {
    "duration": 36,
    "start_time": "2023-05-18T07:01:06.895Z"
   },
   {
    "duration": 45,
    "start_time": "2023-05-18T07:01:06.932Z"
   },
   {
    "duration": 9594,
    "start_time": "2023-05-18T07:01:06.979Z"
   },
   {
    "duration": 1201,
    "start_time": "2023-05-18T07:01:16.574Z"
   },
   {
    "duration": 35,
    "start_time": "2023-05-18T07:01:17.777Z"
   },
   {
    "duration": 11135,
    "start_time": "2023-05-18T07:01:17.814Z"
   },
   {
    "duration": 74,
    "start_time": "2023-05-18T07:01:28.951Z"
   },
   {
    "duration": 109,
    "start_time": "2023-05-18T07:01:29.028Z"
   },
   {
    "duration": 134,
    "start_time": "2023-05-18T07:01:29.140Z"
   },
   {
    "duration": 1201,
    "start_time": "2023-05-18T07:01:29.276Z"
   },
   {
    "duration": 64,
    "start_time": "2023-05-18T07:01:58.943Z"
   },
   {
    "duration": 85,
    "start_time": "2023-05-18T07:02:50.639Z"
   },
   {
    "duration": 1260,
    "start_time": "2023-05-18T07:02:53.114Z"
   },
   {
    "duration": 55,
    "start_time": "2023-05-18T07:03:00.937Z"
   },
   {
    "duration": 147,
    "start_time": "2023-05-18T07:04:22.984Z"
   },
   {
    "duration": 1608,
    "start_time": "2023-05-18T07:04:38.070Z"
   },
   {
    "duration": 2403,
    "start_time": "2023-05-18T07:04:39.685Z"
   },
   {
    "duration": 6,
    "start_time": "2023-05-18T07:04:42.090Z"
   },
   {
    "duration": 40,
    "start_time": "2023-05-18T07:04:42.099Z"
   },
   {
    "duration": 1024,
    "start_time": "2023-05-18T07:04:42.141Z"
   },
   {
    "duration": 28,
    "start_time": "2023-05-18T07:04:43.167Z"
   },
   {
    "duration": 1237,
    "start_time": "2023-05-18T07:04:43.197Z"
   },
   {
    "duration": 589,
    "start_time": "2023-05-18T07:04:44.436Z"
   },
   {
    "duration": 47,
    "start_time": "2023-05-18T07:04:45.027Z"
   },
   {
    "duration": 5,
    "start_time": "2023-05-18T07:04:45.079Z"
   },
   {
    "duration": 24,
    "start_time": "2023-05-18T07:04:45.086Z"
   },
   {
    "duration": 50,
    "start_time": "2023-05-18T07:04:45.113Z"
   },
   {
    "duration": 28,
    "start_time": "2023-05-18T07:04:45.164Z"
   },
   {
    "duration": 44,
    "start_time": "2023-05-18T07:04:45.195Z"
   },
   {
    "duration": 41,
    "start_time": "2023-05-18T07:04:45.241Z"
   },
   {
    "duration": 9308,
    "start_time": "2023-05-18T07:04:45.284Z"
   },
   {
    "duration": 1172,
    "start_time": "2023-05-18T07:04:54.594Z"
   },
   {
    "duration": 34,
    "start_time": "2023-05-18T07:04:55.767Z"
   },
   {
    "duration": 11051,
    "start_time": "2023-05-18T07:04:55.803Z"
   },
   {
    "duration": 70,
    "start_time": "2023-05-18T07:05:06.860Z"
   },
   {
    "duration": 100,
    "start_time": "2023-05-18T07:05:06.932Z"
   },
   {
    "duration": 99,
    "start_time": "2023-05-18T07:05:07.033Z"
   },
   {
    "duration": 1155,
    "start_time": "2023-05-18T07:05:07.134Z"
   },
   {
    "duration": 52,
    "start_time": "2023-05-18T07:05:08.290Z"
   },
   {
    "duration": 329,
    "start_time": "2023-05-18T07:06:51.685Z"
   },
   {
    "duration": 1336,
    "start_time": "2023-05-18T07:11:41.548Z"
   },
   {
    "duration": 9,
    "start_time": "2023-05-18T07:11:49.854Z"
   },
   {
    "duration": 2052,
    "start_time": "2023-05-18T07:11:50.137Z"
   },
   {
    "duration": 7,
    "start_time": "2023-05-18T07:11:52.192Z"
   },
   {
    "duration": 13,
    "start_time": "2023-05-18T07:11:52.201Z"
   },
   {
    "duration": 898,
    "start_time": "2023-05-18T07:11:52.216Z"
   },
   {
    "duration": 1592,
    "start_time": "2023-05-18T07:13:18.068Z"
   },
   {
    "duration": 2175,
    "start_time": "2023-05-18T07:13:19.664Z"
   },
   {
    "duration": 7,
    "start_time": "2023-05-18T07:13:21.841Z"
   },
   {
    "duration": 28,
    "start_time": "2023-05-18T07:13:21.849Z"
   },
   {
    "duration": 961,
    "start_time": "2023-05-18T07:13:21.879Z"
   },
   {
    "duration": 40,
    "start_time": "2023-05-18T07:13:22.842Z"
   },
   {
    "duration": 19,
    "start_time": "2023-05-18T07:13:22.884Z"
   },
   {
    "duration": 1205,
    "start_time": "2023-05-18T07:13:22.904Z"
   },
   {
    "duration": 563,
    "start_time": "2023-05-18T07:13:24.111Z"
   },
   {
    "duration": 20,
    "start_time": "2023-05-18T07:13:24.678Z"
   },
   {
    "duration": 4,
    "start_time": "2023-05-18T07:13:24.700Z"
   },
   {
    "duration": 6,
    "start_time": "2023-05-18T07:13:24.705Z"
   },
   {
    "duration": 11,
    "start_time": "2023-05-18T07:13:24.713Z"
   },
   {
    "duration": 8,
    "start_time": "2023-05-18T07:13:24.726Z"
   },
   {
    "duration": 32,
    "start_time": "2023-05-18T07:13:24.735Z"
   },
   {
    "duration": 50,
    "start_time": "2023-05-18T07:13:24.769Z"
   },
   {
    "duration": 9310,
    "start_time": "2023-05-18T07:13:24.821Z"
   },
   {
    "duration": 1232,
    "start_time": "2023-05-18T07:13:34.133Z"
   },
   {
    "duration": 45,
    "start_time": "2023-05-18T07:13:35.371Z"
   },
   {
    "duration": 11073,
    "start_time": "2023-05-18T07:13:35.419Z"
   },
   {
    "duration": 88,
    "start_time": "2023-05-18T07:13:46.496Z"
   },
   {
    "duration": 121,
    "start_time": "2023-05-18T07:13:46.588Z"
   },
   {
    "duration": 112,
    "start_time": "2023-05-18T07:13:46.711Z"
   },
   {
    "duration": 1533,
    "start_time": "2023-05-18T07:13:49.609Z"
   },
   {
    "duration": 2387,
    "start_time": "2023-05-18T07:13:51.144Z"
   },
   {
    "duration": 6,
    "start_time": "2023-05-18T07:13:53.533Z"
   },
   {
    "duration": 9,
    "start_time": "2023-05-18T07:13:53.542Z"
   },
   {
    "duration": 1049,
    "start_time": "2023-05-18T07:13:53.553Z"
   },
   {
    "duration": 34,
    "start_time": "2023-05-18T07:13:54.607Z"
   },
   {
    "duration": 76,
    "start_time": "2023-05-18T07:13:54.644Z"
   },
   {
    "duration": 1207,
    "start_time": "2023-05-18T07:13:54.721Z"
   },
   {
    "duration": 580,
    "start_time": "2023-05-18T07:13:55.930Z"
   },
   {
    "duration": 27,
    "start_time": "2023-05-18T07:13:56.515Z"
   },
   {
    "duration": 14,
    "start_time": "2023-05-18T07:13:56.558Z"
   },
   {
    "duration": 4,
    "start_time": "2023-05-18T07:13:56.575Z"
   },
   {
    "duration": 7,
    "start_time": "2023-05-18T07:13:56.581Z"
   },
   {
    "duration": 9,
    "start_time": "2023-05-18T07:13:56.590Z"
   },
   {
    "duration": 19,
    "start_time": "2023-05-18T07:13:56.601Z"
   },
   {
    "duration": 69,
    "start_time": "2023-05-18T07:13:56.623Z"
   },
   {
    "duration": 9455,
    "start_time": "2023-05-18T07:13:56.694Z"
   },
   {
    "duration": 1236,
    "start_time": "2023-05-18T07:14:06.151Z"
   },
   {
    "duration": 42,
    "start_time": "2023-05-18T07:14:07.390Z"
   },
   {
    "duration": 10882,
    "start_time": "2023-05-18T07:14:07.434Z"
   },
   {
    "duration": 68,
    "start_time": "2023-05-18T07:14:18.318Z"
   },
   {
    "duration": 113,
    "start_time": "2023-05-18T07:14:18.388Z"
   },
   {
    "duration": 95,
    "start_time": "2023-05-18T07:14:18.504Z"
   },
   {
    "duration": 1260,
    "start_time": "2023-05-18T07:14:18.600Z"
   },
   {
    "duration": 61,
    "start_time": "2023-05-18T07:14:19.863Z"
   },
   {
    "duration": 344,
    "start_time": "2023-05-18T07:14:19.925Z"
   },
   {
    "duration": 33,
    "start_time": "2023-05-18T07:14:40.473Z"
   },
   {
    "duration": 11597,
    "start_time": "2023-05-18T07:18:27.412Z"
   },
   {
    "duration": 84,
    "start_time": "2023-05-18T07:18:39.011Z"
   },
   {
    "duration": 110,
    "start_time": "2023-05-18T07:18:39.097Z"
   },
   {
    "duration": 98,
    "start_time": "2023-05-18T07:18:39.209Z"
   },
   {
    "duration": 1260,
    "start_time": "2023-05-18T07:18:39.309Z"
   },
   {
    "duration": 1526,
    "start_time": "2023-05-18T07:21:47.207Z"
   },
   {
    "duration": 2204,
    "start_time": "2023-05-18T07:21:48.736Z"
   },
   {
    "duration": 8,
    "start_time": "2023-05-18T07:21:50.942Z"
   },
   {
    "duration": 55,
    "start_time": "2023-05-18T07:21:50.952Z"
   },
   {
    "duration": 1000,
    "start_time": "2023-05-18T07:21:51.009Z"
   },
   {
    "duration": 31,
    "start_time": "2023-05-18T07:21:52.012Z"
   },
   {
    "duration": 56,
    "start_time": "2023-05-18T07:21:52.046Z"
   },
   {
    "duration": 1222,
    "start_time": "2023-05-18T07:21:52.104Z"
   },
   {
    "duration": 583,
    "start_time": "2023-05-18T07:21:53.328Z"
   },
   {
    "duration": 21,
    "start_time": "2023-05-18T07:21:53.915Z"
   },
   {
    "duration": 22,
    "start_time": "2023-05-18T07:21:53.938Z"
   },
   {
    "duration": 19,
    "start_time": "2023-05-18T07:21:53.962Z"
   },
   {
    "duration": 19,
    "start_time": "2023-05-18T07:21:53.984Z"
   },
   {
    "duration": 16,
    "start_time": "2023-05-18T07:21:54.006Z"
   },
   {
    "duration": 34,
    "start_time": "2023-05-18T07:21:54.024Z"
   },
   {
    "duration": 52,
    "start_time": "2023-05-18T07:21:54.060Z"
   },
   {
    "duration": 8943,
    "start_time": "2023-05-18T07:21:54.114Z"
   },
   {
    "duration": 1097,
    "start_time": "2023-05-18T07:22:03.059Z"
   },
   {
    "duration": 35,
    "start_time": "2023-05-18T07:22:04.159Z"
   },
   {
    "duration": 10515,
    "start_time": "2023-05-18T07:22:04.196Z"
   },
   {
    "duration": 110,
    "start_time": "2023-05-18T07:22:14.714Z"
   },
   {
    "duration": 97,
    "start_time": "2023-05-18T07:22:14.826Z"
   },
   {
    "duration": 59,
    "start_time": "2023-05-18T07:22:14.925Z"
   },
   {
    "duration": 1283,
    "start_time": "2023-05-18T07:22:14.986Z"
   },
   {
    "duration": 50,
    "start_time": "2023-05-18T07:22:16.271Z"
   },
   {
    "duration": 67,
    "start_time": "2023-05-18T07:22:16.323Z"
   },
   {
    "duration": 1073,
    "start_time": "2023-05-18T07:23:55.786Z"
   },
   {
    "duration": 0,
    "start_time": "2023-05-18T07:23:56.862Z"
   },
   {
    "duration": 1448,
    "start_time": "2023-05-18T07:24:22.112Z"
   },
   {
    "duration": 1146,
    "start_time": "2023-05-18T07:24:50.476Z"
   },
   {
    "duration": 1664,
    "start_time": "2023-05-18T07:25:29.894Z"
   },
   {
    "duration": 2343,
    "start_time": "2023-05-18T07:25:31.561Z"
   },
   {
    "duration": 8,
    "start_time": "2023-05-18T07:25:33.907Z"
   },
   {
    "duration": 70,
    "start_time": "2023-05-18T07:25:33.917Z"
   },
   {
    "duration": 1003,
    "start_time": "2023-05-18T07:25:33.990Z"
   },
   {
    "duration": 29,
    "start_time": "2023-05-18T07:25:34.995Z"
   },
   {
    "duration": 58,
    "start_time": "2023-05-18T07:25:35.026Z"
   },
   {
    "duration": 1280,
    "start_time": "2023-05-18T07:25:35.087Z"
   },
   {
    "duration": 575,
    "start_time": "2023-05-18T07:25:36.370Z"
   },
   {
    "duration": 24,
    "start_time": "2023-05-18T07:25:36.947Z"
   },
   {
    "duration": 6,
    "start_time": "2023-05-18T07:25:36.973Z"
   },
   {
    "duration": 5,
    "start_time": "2023-05-18T07:25:36.981Z"
   },
   {
    "duration": 11,
    "start_time": "2023-05-18T07:25:36.988Z"
   },
   {
    "duration": 18,
    "start_time": "2023-05-18T07:25:37.002Z"
   },
   {
    "duration": 25,
    "start_time": "2023-05-18T07:25:37.022Z"
   },
   {
    "duration": 64,
    "start_time": "2023-05-18T07:25:37.055Z"
   },
   {
    "duration": 10370,
    "start_time": "2023-05-18T07:25:37.121Z"
   },
   {
    "duration": 1355,
    "start_time": "2023-05-18T07:25:47.497Z"
   },
   {
    "duration": 41,
    "start_time": "2023-05-18T07:25:48.855Z"
   },
   {
    "duration": 12859,
    "start_time": "2023-05-18T07:25:48.898Z"
   },
   {
    "duration": 111,
    "start_time": "2023-05-18T07:26:01.763Z"
   },
   {
    "duration": 32,
    "start_time": "2023-05-18T07:26:01.876Z"
   },
   {
    "duration": 1078,
    "start_time": "2023-05-18T07:26:01.910Z"
   },
   {
    "duration": 0,
    "start_time": "2023-05-18T07:26:02.990Z"
   },
   {
    "duration": 1217,
    "start_time": "2023-05-18T07:26:27.761Z"
   },
   {
    "duration": 1630,
    "start_time": "2023-05-18T07:26:36.572Z"
   },
   {
    "duration": 2423,
    "start_time": "2023-05-18T07:26:38.204Z"
   },
   {
    "duration": 7,
    "start_time": "2023-05-18T07:26:40.629Z"
   },
   {
    "duration": 25,
    "start_time": "2023-05-18T07:26:40.638Z"
   },
   {
    "duration": 1017,
    "start_time": "2023-05-18T07:26:40.670Z"
   },
   {
    "duration": 28,
    "start_time": "2023-05-18T07:26:41.689Z"
   },
   {
    "duration": 66,
    "start_time": "2023-05-18T07:26:41.719Z"
   },
   {
    "duration": 1201,
    "start_time": "2023-05-18T07:26:41.787Z"
   },
   {
    "duration": 559,
    "start_time": "2023-05-18T07:26:42.990Z"
   },
   {
    "duration": 20,
    "start_time": "2023-05-18T07:26:43.558Z"
   },
   {
    "duration": 6,
    "start_time": "2023-05-18T07:26:43.581Z"
   },
   {
    "duration": 4,
    "start_time": "2023-05-18T07:26:47.068Z"
   },
   {
    "duration": 34,
    "start_time": "2023-05-18T07:26:47.074Z"
   },
   {
    "duration": 33,
    "start_time": "2023-05-18T07:26:47.110Z"
   },
   {
    "duration": 45,
    "start_time": "2023-05-18T07:26:47.145Z"
   },
   {
    "duration": 70,
    "start_time": "2023-05-18T07:26:47.203Z"
   },
   {
    "duration": 11602,
    "start_time": "2023-05-18T07:26:47.276Z"
   },
   {
    "duration": 1401,
    "start_time": "2023-05-18T07:26:58.881Z"
   },
   {
    "duration": 44,
    "start_time": "2023-05-18T07:27:00.286Z"
   },
   {
    "duration": 11901,
    "start_time": "2023-05-18T07:27:00.333Z"
   },
   {
    "duration": 94,
    "start_time": "2023-05-18T07:27:12.236Z"
   },
   {
    "duration": 57,
    "start_time": "2023-05-18T07:27:12.332Z"
   },
   {
    "duration": 70,
    "start_time": "2023-05-18T07:27:12.391Z"
   },
   {
    "duration": 94,
    "start_time": "2023-05-18T07:30:45.501Z"
   },
   {
    "duration": 54,
    "start_time": "2023-05-18T07:30:47.117Z"
   },
   {
    "duration": 1140,
    "start_time": "2023-05-18T07:30:56.332Z"
   },
   {
    "duration": 73,
    "start_time": "2023-05-18T07:34:48.387Z"
   },
   {
    "duration": 8733,
    "start_time": "2023-05-18T07:35:21.216Z"
   },
   {
    "duration": 1713,
    "start_time": "2023-05-18T19:49:07.700Z"
   },
   {
    "duration": 3530,
    "start_time": "2023-05-18T19:49:09.415Z"
   },
   {
    "duration": 6,
    "start_time": "2023-05-18T19:49:12.947Z"
   },
   {
    "duration": 20,
    "start_time": "2023-05-18T19:49:12.955Z"
   },
   {
    "duration": 3118,
    "start_time": "2023-05-18T19:49:12.977Z"
   },
   {
    "duration": 25,
    "start_time": "2023-05-18T19:49:16.097Z"
   },
   {
    "duration": 1225,
    "start_time": "2023-05-18T19:49:16.124Z"
   },
   {
    "duration": 441,
    "start_time": "2023-05-18T19:49:17.351Z"
   },
   {
    "duration": 16,
    "start_time": "2023-05-18T19:49:17.794Z"
   },
   {
    "duration": 11,
    "start_time": "2023-05-18T19:49:17.825Z"
   },
   {
    "duration": 5,
    "start_time": "2023-05-18T19:49:17.840Z"
   },
   {
    "duration": 5,
    "start_time": "2023-05-18T19:49:17.846Z"
   },
   {
    "duration": 6,
    "start_time": "2023-05-18T19:49:17.853Z"
   },
   {
    "duration": 12,
    "start_time": "2023-05-18T19:49:17.860Z"
   },
   {
    "duration": 33,
    "start_time": "2023-05-18T19:49:17.873Z"
   },
   {
    "duration": 1219,
    "start_time": "2023-05-18T19:49:17.926Z"
   },
   {
    "duration": 34,
    "start_time": "2023-05-18T19:49:19.147Z"
   },
   {
    "duration": 9934,
    "start_time": "2023-05-18T19:49:19.182Z"
   },
   {
    "duration": 86,
    "start_time": "2023-05-18T19:49:29.118Z"
   },
   {
    "duration": 99,
    "start_time": "2023-05-18T19:49:29.205Z"
   },
   {
    "duration": 1236,
    "start_time": "2023-05-18T19:49:29.306Z"
   },
   {
    "duration": 8856,
    "start_time": "2023-05-18T19:49:30.543Z"
   },
   {
    "duration": 1232,
    "start_time": "2023-05-18T19:53:00.312Z"
   },
   {
    "duration": 1390,
    "start_time": "2023-05-18T20:04:37.426Z"
   },
   {
    "duration": 2259,
    "start_time": "2023-05-18T20:04:38.818Z"
   },
   {
    "duration": 6,
    "start_time": "2023-05-18T20:04:41.079Z"
   },
   {
    "duration": 7,
    "start_time": "2023-05-18T20:04:41.088Z"
   },
   {
    "duration": 815,
    "start_time": "2023-05-18T20:04:41.097Z"
   },
   {
    "duration": 30,
    "start_time": "2023-05-18T20:04:41.914Z"
   },
   {
    "duration": 1072,
    "start_time": "2023-05-18T20:04:41.945Z"
   },
   {
    "duration": 435,
    "start_time": "2023-05-18T20:04:43.024Z"
   },
   {
    "duration": 16,
    "start_time": "2023-05-18T20:04:43.460Z"
   },
   {
    "duration": 4,
    "start_time": "2023-05-18T20:04:43.479Z"
   },
   {
    "duration": 5,
    "start_time": "2023-05-18T20:04:43.484Z"
   },
   {
    "duration": 5,
    "start_time": "2023-05-18T20:04:43.491Z"
   },
   {
    "duration": 29,
    "start_time": "2023-05-18T20:04:43.498Z"
   },
   {
    "duration": 15,
    "start_time": "2023-05-18T20:04:43.529Z"
   },
   {
    "duration": 39,
    "start_time": "2023-05-18T20:04:43.546Z"
   },
   {
    "duration": 1142,
    "start_time": "2023-05-18T20:04:43.587Z"
   },
   {
    "duration": 52,
    "start_time": "2023-05-18T20:04:44.731Z"
   },
   {
    "duration": 9820,
    "start_time": "2023-05-18T20:04:44.784Z"
   },
   {
    "duration": 76,
    "start_time": "2023-05-18T20:04:54.605Z"
   },
   {
    "duration": 104,
    "start_time": "2023-05-18T20:04:54.683Z"
   },
   {
    "duration": 1237,
    "start_time": "2023-05-18T20:04:54.788Z"
   },
   {
    "duration": 8452,
    "start_time": "2023-05-18T20:04:56.027Z"
   },
   {
    "duration": 2008,
    "start_time": "2023-05-18T20:07:32.954Z"
   },
   {
    "duration": 2494,
    "start_time": "2023-05-18T20:07:34.964Z"
   },
   {
    "duration": 7,
    "start_time": "2023-05-18T20:07:37.459Z"
   },
   {
    "duration": 14,
    "start_time": "2023-05-18T20:07:37.468Z"
   },
   {
    "duration": 871,
    "start_time": "2023-05-18T20:07:37.485Z"
   },
   {
    "duration": 30,
    "start_time": "2023-05-18T20:07:38.359Z"
   },
   {
    "duration": 1238,
    "start_time": "2023-05-18T20:07:38.391Z"
   },
   {
    "duration": 583,
    "start_time": "2023-05-18T20:07:39.635Z"
   },
   {
    "duration": 26,
    "start_time": "2023-05-18T20:07:40.220Z"
   },
   {
    "duration": 5,
    "start_time": "2023-05-18T20:07:40.248Z"
   },
   {
    "duration": 3,
    "start_time": "2023-05-18T20:07:40.255Z"
   },
   {
    "duration": 5,
    "start_time": "2023-05-18T20:07:40.260Z"
   },
   {
    "duration": 6,
    "start_time": "2023-05-18T20:07:40.266Z"
   },
   {
    "duration": 13,
    "start_time": "2023-05-18T20:07:40.275Z"
   },
   {
    "duration": 36,
    "start_time": "2023-05-18T20:07:40.326Z"
   },
   {
    "duration": 1242,
    "start_time": "2023-05-18T20:07:40.363Z"
   },
   {
    "duration": 57,
    "start_time": "2023-05-18T20:07:41.607Z"
   },
   {
    "duration": 10369,
    "start_time": "2023-05-18T20:07:41.665Z"
   },
   {
    "duration": 91,
    "start_time": "2023-05-18T20:07:52.036Z"
   },
   {
    "duration": 103,
    "start_time": "2023-05-18T20:07:52.129Z"
   },
   {
    "duration": 1278,
    "start_time": "2023-05-18T20:07:52.234Z"
   },
   {
    "duration": 8591,
    "start_time": "2023-05-18T20:07:53.524Z"
   },
   {
    "duration": 10,
    "start_time": "2023-05-18T20:13:28.552Z"
   },
   {
    "duration": 9,
    "start_time": "2023-05-18T20:13:50.423Z"
   },
   {
    "duration": 10,
    "start_time": "2023-05-18T20:13:58.225Z"
   },
   {
    "duration": 6,
    "start_time": "2023-05-18T20:14:05.816Z"
   },
   {
    "duration": 6,
    "start_time": "2023-05-18T20:14:44.006Z"
   },
   {
    "duration": 1485,
    "start_time": "2023-05-19T10:50:14.089Z"
   },
   {
    "duration": 2577,
    "start_time": "2023-05-19T10:50:15.576Z"
   },
   {
    "duration": 6,
    "start_time": "2023-05-19T10:50:18.154Z"
   },
   {
    "duration": 7,
    "start_time": "2023-05-19T10:50:18.162Z"
   },
   {
    "duration": 2639,
    "start_time": "2023-05-19T10:50:18.170Z"
   },
   {
    "duration": 25,
    "start_time": "2023-05-19T10:50:20.811Z"
   },
   {
    "duration": 938,
    "start_time": "2023-05-19T10:50:20.838Z"
   },
   {
    "duration": 400,
    "start_time": "2023-05-19T10:50:21.777Z"
   },
   {
    "duration": 20,
    "start_time": "2023-05-19T10:50:22.178Z"
   },
   {
    "duration": 8,
    "start_time": "2023-05-19T10:50:22.206Z"
   },
   {
    "duration": 3,
    "start_time": "2023-05-19T10:50:22.216Z"
   },
   {
    "duration": 5,
    "start_time": "2023-05-19T10:50:22.222Z"
   },
   {
    "duration": 4,
    "start_time": "2023-05-19T10:50:22.228Z"
   },
   {
    "duration": 14,
    "start_time": "2023-05-19T10:50:22.233Z"
   },
   {
    "duration": 33,
    "start_time": "2023-05-19T10:50:22.248Z"
   },
   {
    "duration": 1094,
    "start_time": "2023-05-19T10:50:22.282Z"
   },
   {
    "duration": 42,
    "start_time": "2023-05-19T10:50:23.378Z"
   },
   {
    "duration": 8756,
    "start_time": "2023-05-19T10:50:23.422Z"
   },
   {
    "duration": 64,
    "start_time": "2023-05-19T10:50:32.179Z"
   },
   {
    "duration": 89,
    "start_time": "2023-05-19T10:50:32.245Z"
   },
   {
    "duration": 1047,
    "start_time": "2023-05-19T10:50:32.336Z"
   },
   {
    "duration": 7428,
    "start_time": "2023-05-19T10:50:33.385Z"
   },
   {
    "duration": 103,
    "start_time": "2023-05-19T10:55:39.653Z"
   },
   {
    "duration": 60,
    "start_time": "2023-05-19T10:55:51.591Z"
   },
   {
    "duration": 8,
    "start_time": "2023-05-19T11:00:35.988Z"
   },
   {
    "duration": 5,
    "start_time": "2023-05-19T11:00:39.227Z"
   },
   {
    "duration": 128,
    "start_time": "2023-05-19T11:01:24.783Z"
   },
   {
    "duration": 81,
    "start_time": "2023-05-19T11:02:03.347Z"
   },
   {
    "duration": 203,
    "start_time": "2023-05-19T11:02:22.391Z"
   },
   {
    "duration": 301,
    "start_time": "2023-05-19T11:02:30.925Z"
   },
   {
    "duration": 120,
    "start_time": "2023-05-19T11:02:37.325Z"
   },
   {
    "duration": 18,
    "start_time": "2023-05-19T11:03:44.110Z"
   },
   {
    "duration": 31,
    "start_time": "2023-05-19T11:04:02.094Z"
   },
   {
    "duration": 8,
    "start_time": "2023-05-19T11:07:46.542Z"
   },
   {
    "duration": 14,
    "start_time": "2023-05-19T11:07:49.609Z"
   },
   {
    "duration": 1303,
    "start_time": "2023-05-19T11:07:54.831Z"
   },
   {
    "duration": 1778,
    "start_time": "2023-05-19T11:07:56.136Z"
   },
   {
    "duration": 5,
    "start_time": "2023-05-19T11:07:57.916Z"
   },
   {
    "duration": 10,
    "start_time": "2023-05-19T11:07:57.922Z"
   },
   {
    "duration": 739,
    "start_time": "2023-05-19T11:07:57.933Z"
   },
   {
    "duration": 32,
    "start_time": "2023-05-19T11:07:58.674Z"
   },
   {
    "duration": 24,
    "start_time": "2023-05-19T11:07:58.707Z"
   },
   {
    "duration": 940,
    "start_time": "2023-05-19T11:07:58.732Z"
   },
   {
    "duration": 434,
    "start_time": "2023-05-19T11:07:59.674Z"
   },
   {
    "duration": 15,
    "start_time": "2023-05-19T11:08:00.111Z"
   },
   {
    "duration": 42,
    "start_time": "2023-05-19T11:08:00.128Z"
   },
   {
    "duration": 57,
    "start_time": "2023-05-19T11:08:00.172Z"
   },
   {
    "duration": 43,
    "start_time": "2023-05-19T11:08:00.230Z"
   },
   {
    "duration": 74,
    "start_time": "2023-05-19T11:08:00.275Z"
   },
   {
    "duration": 77,
    "start_time": "2023-05-19T11:08:00.350Z"
   },
   {
    "duration": 54,
    "start_time": "2023-05-19T11:08:00.429Z"
   },
   {
    "duration": 1108,
    "start_time": "2023-05-19T11:08:00.485Z"
   },
   {
    "duration": 37,
    "start_time": "2023-05-19T11:08:01.595Z"
   },
   {
    "duration": 8811,
    "start_time": "2023-05-19T11:08:01.636Z"
   },
   {
    "duration": 62,
    "start_time": "2023-05-19T11:08:10.449Z"
   },
   {
    "duration": 73,
    "start_time": "2023-05-19T11:08:10.512Z"
   },
   {
    "duration": 1111,
    "start_time": "2023-05-19T11:08:10.587Z"
   },
   {
    "duration": 7319,
    "start_time": "2023-05-19T11:08:11.706Z"
   },
   {
    "duration": 101,
    "start_time": "2023-05-19T11:09:54.655Z"
   },
   {
    "duration": 10,
    "start_time": "2023-05-19T11:09:58.381Z"
   },
   {
    "duration": 1406,
    "start_time": "2023-05-19T11:10:11.989Z"
   },
   {
    "duration": 1908,
    "start_time": "2023-05-19T11:10:13.397Z"
   },
   {
    "duration": 6,
    "start_time": "2023-05-19T11:10:15.306Z"
   },
   {
    "duration": 7,
    "start_time": "2023-05-19T11:10:15.315Z"
   },
   {
    "duration": 733,
    "start_time": "2023-05-19T11:10:15.323Z"
   },
   {
    "duration": 25,
    "start_time": "2023-05-19T11:10:16.057Z"
   },
   {
    "duration": 29,
    "start_time": "2023-05-19T11:10:16.083Z"
   },
   {
    "duration": 921,
    "start_time": "2023-05-19T11:10:16.114Z"
   },
   {
    "duration": 415,
    "start_time": "2023-05-19T11:10:17.037Z"
   },
   {
    "duration": 24,
    "start_time": "2023-05-19T11:10:17.454Z"
   },
   {
    "duration": 21,
    "start_time": "2023-05-19T11:10:17.480Z"
   },
   {
    "duration": 30,
    "start_time": "2023-05-19T11:10:17.503Z"
   },
   {
    "duration": 6,
    "start_time": "2023-05-19T11:10:17.534Z"
   },
   {
    "duration": 16,
    "start_time": "2023-05-19T11:10:17.542Z"
   },
   {
    "duration": 24,
    "start_time": "2023-05-19T11:10:17.560Z"
   },
   {
    "duration": 31,
    "start_time": "2023-05-19T11:10:17.586Z"
   },
   {
    "duration": 1088,
    "start_time": "2023-05-19T11:10:17.618Z"
   },
   {
    "duration": 28,
    "start_time": "2023-05-19T11:10:18.707Z"
   },
   {
    "duration": 8764,
    "start_time": "2023-05-19T11:10:18.737Z"
   },
   {
    "duration": 60,
    "start_time": "2023-05-19T11:10:27.503Z"
   },
   {
    "duration": 85,
    "start_time": "2023-05-19T11:10:27.565Z"
   },
   {
    "duration": 1013,
    "start_time": "2023-05-19T11:10:27.652Z"
   },
   {
    "duration": 7870,
    "start_time": "2023-05-19T11:10:28.667Z"
   },
   {
    "duration": 1358,
    "start_time": "2023-05-19T11:12:57.389Z"
   },
   {
    "duration": 1910,
    "start_time": "2023-05-19T11:12:58.749Z"
   },
   {
    "duration": 6,
    "start_time": "2023-05-19T11:13:00.661Z"
   },
   {
    "duration": 42,
    "start_time": "2023-05-19T11:13:00.668Z"
   },
   {
    "duration": 794,
    "start_time": "2023-05-19T11:13:00.712Z"
   },
   {
    "duration": 24,
    "start_time": "2023-05-19T11:13:01.508Z"
   },
   {
    "duration": 1073,
    "start_time": "2023-05-19T11:13:01.534Z"
   },
   {
    "duration": 28,
    "start_time": "2023-05-19T11:13:02.609Z"
   },
   {
    "duration": 479,
    "start_time": "2023-05-19T11:13:02.639Z"
   },
   {
    "duration": 29,
    "start_time": "2023-05-19T11:13:03.120Z"
   },
   {
    "duration": 10,
    "start_time": "2023-05-19T11:13:03.151Z"
   },
   {
    "duration": 11,
    "start_time": "2023-05-19T11:13:03.163Z"
   },
   {
    "duration": 27,
    "start_time": "2023-05-19T11:13:03.176Z"
   },
   {
    "duration": 17,
    "start_time": "2023-05-19T11:13:03.206Z"
   },
   {
    "duration": 23,
    "start_time": "2023-05-19T11:13:03.225Z"
   },
   {
    "duration": 32,
    "start_time": "2023-05-19T11:13:03.250Z"
   },
   {
    "duration": 1122,
    "start_time": "2023-05-19T11:13:03.284Z"
   },
   {
    "duration": 32,
    "start_time": "2023-05-19T11:13:04.408Z"
   },
   {
    "duration": 8679,
    "start_time": "2023-05-19T11:13:04.441Z"
   },
   {
    "duration": 59,
    "start_time": "2023-05-19T11:13:13.122Z"
   },
   {
    "duration": 81,
    "start_time": "2023-05-19T11:13:13.183Z"
   },
   {
    "duration": 959,
    "start_time": "2023-05-19T11:13:13.266Z"
   },
   {
    "duration": 7543,
    "start_time": "2023-05-19T11:13:14.226Z"
   },
   {
    "duration": 129,
    "start_time": "2023-05-19T11:21:35.480Z"
   },
   {
    "duration": 29,
    "start_time": "2023-05-19T11:21:48.703Z"
   },
   {
    "duration": 6795,
    "start_time": "2023-05-19T11:22:03.749Z"
   },
   {
    "duration": 11,
    "start_time": "2023-05-19T11:24:00.452Z"
   },
   {
    "duration": 9,
    "start_time": "2023-05-19T11:25:30.467Z"
   },
   {
    "duration": 8,
    "start_time": "2023-05-19T11:30:18.147Z"
   },
   {
    "duration": 7,
    "start_time": "2023-05-19T11:30:23.734Z"
   },
   {
    "duration": 75,
    "start_time": "2023-05-19T11:31:48.855Z"
   },
   {
    "duration": 242,
    "start_time": "2023-05-19T11:32:12.659Z"
   },
   {
    "duration": 284,
    "start_time": "2023-05-19T11:32:20.948Z"
   },
   {
    "duration": 1488,
    "start_time": "2023-05-19T11:35:37.402Z"
   },
   {
    "duration": 1803,
    "start_time": "2023-05-19T11:35:38.892Z"
   },
   {
    "duration": 6,
    "start_time": "2023-05-19T11:35:40.697Z"
   },
   {
    "duration": 40,
    "start_time": "2023-05-19T11:35:40.704Z"
   },
   {
    "duration": 2612,
    "start_time": "2023-05-19T11:35:40.746Z"
   },
   {
    "duration": 24,
    "start_time": "2023-05-19T11:35:43.359Z"
   },
   {
    "duration": 900,
    "start_time": "2023-05-19T11:35:43.384Z"
   },
   {
    "duration": 29,
    "start_time": "2023-05-19T11:35:44.286Z"
   },
   {
    "duration": 412,
    "start_time": "2023-05-19T11:35:44.317Z"
   },
   {
    "duration": 22,
    "start_time": "2023-05-19T11:35:44.732Z"
   },
   {
    "duration": 17,
    "start_time": "2023-05-19T11:35:44.757Z"
   },
   {
    "duration": 8,
    "start_time": "2023-05-19T11:35:44.776Z"
   },
   {
    "duration": 6,
    "start_time": "2023-05-19T11:35:44.785Z"
   },
   {
    "duration": 15,
    "start_time": "2023-05-19T11:35:44.793Z"
   },
   {
    "duration": 15,
    "start_time": "2023-05-19T11:35:44.809Z"
   },
   {
    "duration": 30,
    "start_time": "2023-05-19T11:35:44.826Z"
   },
   {
    "duration": 1015,
    "start_time": "2023-05-19T11:35:44.857Z"
   },
   {
    "duration": 34,
    "start_time": "2023-05-19T11:35:45.874Z"
   },
   {
    "duration": 8856,
    "start_time": "2023-05-19T11:35:45.910Z"
   },
   {
    "duration": 67,
    "start_time": "2023-05-19T11:35:54.767Z"
   },
   {
    "duration": 83,
    "start_time": "2023-05-19T11:35:54.835Z"
   },
   {
    "duration": 1066,
    "start_time": "2023-05-19T11:35:54.920Z"
   },
   {
    "duration": 8085,
    "start_time": "2023-05-19T11:35:55.988Z"
   },
   {
    "duration": 29,
    "start_time": "2023-05-19T11:36:04.075Z"
   },
   {
    "duration": 7,
    "start_time": "2023-05-19T11:36:04.105Z"
   },
   {
    "duration": 1284,
    "start_time": "2023-05-19T11:37:08.558Z"
   },
   {
    "duration": 1766,
    "start_time": "2023-05-19T11:37:09.844Z"
   },
   {
    "duration": 6,
    "start_time": "2023-05-19T11:37:11.612Z"
   },
   {
    "duration": 5,
    "start_time": "2023-05-19T11:37:11.621Z"
   },
   {
    "duration": 696,
    "start_time": "2023-05-19T11:37:11.627Z"
   },
   {
    "duration": 24,
    "start_time": "2023-05-19T11:37:12.324Z"
   },
   {
    "duration": 936,
    "start_time": "2023-05-19T11:37:12.349Z"
   },
   {
    "duration": 30,
    "start_time": "2023-05-19T11:37:13.286Z"
   },
   {
    "duration": 408,
    "start_time": "2023-05-19T11:37:13.318Z"
   },
   {
    "duration": 24,
    "start_time": "2023-05-19T11:37:13.730Z"
   },
   {
    "duration": 8,
    "start_time": "2023-05-19T11:37:13.755Z"
   },
   {
    "duration": 6,
    "start_time": "2023-05-19T11:37:13.764Z"
   },
   {
    "duration": 7,
    "start_time": "2023-05-19T11:37:13.772Z"
   },
   {
    "duration": 11,
    "start_time": "2023-05-19T11:37:13.781Z"
   },
   {
    "duration": 40,
    "start_time": "2023-05-19T11:37:13.793Z"
   },
   {
    "duration": 30,
    "start_time": "2023-05-19T11:37:13.835Z"
   },
   {
    "duration": 1106,
    "start_time": "2023-05-19T11:37:13.867Z"
   },
   {
    "duration": 42,
    "start_time": "2023-05-19T11:37:14.975Z"
   },
   {
    "duration": 8419,
    "start_time": "2023-05-19T11:37:15.020Z"
   },
   {
    "duration": 58,
    "start_time": "2023-05-19T11:37:23.441Z"
   },
   {
    "duration": 74,
    "start_time": "2023-05-19T11:37:23.506Z"
   },
   {
    "duration": 983,
    "start_time": "2023-05-19T11:37:23.581Z"
   },
   {
    "duration": 7604,
    "start_time": "2023-05-19T11:37:24.565Z"
   },
   {
    "duration": 28,
    "start_time": "2023-05-19T11:37:32.170Z"
   },
   {
    "duration": 7,
    "start_time": "2023-05-19T11:37:32.200Z"
   },
   {
    "duration": 128,
    "start_time": "2023-05-19T11:37:38.608Z"
   },
   {
    "duration": 12,
    "start_time": "2023-05-19T11:37:44.622Z"
   },
   {
    "duration": 234,
    "start_time": "2023-05-19T11:37:52.974Z"
   },
   {
    "duration": 4,
    "start_time": "2023-05-19T11:38:43.208Z"
   },
   {
    "duration": 11,
    "start_time": "2023-05-19T11:38:48.919Z"
   },
   {
    "duration": 10,
    "start_time": "2023-05-19T11:38:58.569Z"
   },
   {
    "duration": 207,
    "start_time": "2023-05-19T11:39:06.859Z"
   },
   {
    "duration": 2503,
    "start_time": "2023-05-19T11:39:21.966Z"
   },
   {
    "duration": 124,
    "start_time": "2023-05-19T11:39:38.884Z"
   },
   {
    "duration": 6,
    "start_time": "2023-05-19T11:53:59.445Z"
   },
   {
    "duration": 22,
    "start_time": "2023-05-19T11:54:14.141Z"
   },
   {
    "duration": 7,
    "start_time": "2023-05-19T11:54:17.158Z"
   },
   {
    "duration": 57,
    "start_time": "2023-05-19T11:57:03.442Z"
   },
   {
    "duration": 8,
    "start_time": "2023-05-19T11:57:05.944Z"
   },
   {
    "duration": 11,
    "start_time": "2023-05-19T11:58:09.296Z"
   },
   {
    "duration": 34,
    "start_time": "2023-05-19T12:10:56.672Z"
   },
   {
    "duration": 10,
    "start_time": "2023-05-19T12:10:59.795Z"
   },
   {
    "duration": 20,
    "start_time": "2023-05-19T12:12:30.417Z"
   },
   {
    "duration": 22,
    "start_time": "2023-05-19T12:13:43.477Z"
   },
   {
    "duration": 6,
    "start_time": "2023-05-19T12:14:14.926Z"
   },
   {
    "duration": 7,
    "start_time": "2023-05-19T12:14:21.815Z"
   },
   {
    "duration": 1298,
    "start_time": "2023-05-19T12:14:29.344Z"
   },
   {
    "duration": 1780,
    "start_time": "2023-05-19T12:14:30.644Z"
   },
   {
    "duration": 5,
    "start_time": "2023-05-19T12:14:32.426Z"
   },
   {
    "duration": 10,
    "start_time": "2023-05-19T12:14:32.433Z"
   },
   {
    "duration": 765,
    "start_time": "2023-05-19T12:14:32.444Z"
   },
   {
    "duration": 23,
    "start_time": "2023-05-19T12:14:33.210Z"
   },
   {
    "duration": 908,
    "start_time": "2023-05-19T12:14:33.234Z"
   },
   {
    "duration": 18,
    "start_time": "2023-05-19T12:14:34.143Z"
   },
   {
    "duration": 437,
    "start_time": "2023-05-19T12:14:34.163Z"
   },
   {
    "duration": 28,
    "start_time": "2023-05-19T12:14:34.601Z"
   },
   {
    "duration": 5,
    "start_time": "2023-05-19T12:14:34.631Z"
   },
   {
    "duration": 5,
    "start_time": "2023-05-19T12:14:34.637Z"
   },
   {
    "duration": 13,
    "start_time": "2023-05-19T12:14:34.644Z"
   },
   {
    "duration": 8,
    "start_time": "2023-05-19T12:14:34.660Z"
   },
   {
    "duration": 16,
    "start_time": "2023-05-19T12:14:34.680Z"
   },
   {
    "duration": 38,
    "start_time": "2023-05-19T12:14:34.698Z"
   },
   {
    "duration": 1037,
    "start_time": "2023-05-19T12:14:34.738Z"
   },
   {
    "duration": 38,
    "start_time": "2023-05-19T12:14:35.776Z"
   },
   {
    "duration": 8444,
    "start_time": "2023-05-19T12:14:35.815Z"
   },
   {
    "duration": 67,
    "start_time": "2023-05-19T12:14:44.262Z"
   },
   {
    "duration": 78,
    "start_time": "2023-05-19T12:14:44.331Z"
   },
   {
    "duration": 955,
    "start_time": "2023-05-19T12:14:44.411Z"
   },
   {
    "duration": 7445,
    "start_time": "2023-05-19T12:14:45.368Z"
   },
   {
    "duration": 27,
    "start_time": "2023-05-19T12:14:52.814Z"
   },
   {
    "duration": 9,
    "start_time": "2023-05-19T12:14:52.842Z"
   },
   {
    "duration": 38,
    "start_time": "2023-05-19T12:14:52.852Z"
   },
   {
    "duration": 114,
    "start_time": "2023-05-19T12:14:52.892Z"
   },
   {
    "duration": 6,
    "start_time": "2023-05-19T12:14:53.008Z"
   },
   {
    "duration": 50,
    "start_time": "2023-05-19T12:14:53.016Z"
   },
   {
    "duration": 7,
    "start_time": "2023-05-19T12:15:12.895Z"
   },
   {
    "duration": 6,
    "start_time": "2023-05-19T12:15:21.704Z"
   },
   {
    "duration": 77,
    "start_time": "2023-05-19T12:15:31.425Z"
   },
   {
    "duration": 32,
    "start_time": "2023-05-19T12:15:35.007Z"
   },
   {
    "duration": 39,
    "start_time": "2023-05-19T12:15:49.011Z"
   },
   {
    "duration": 1252,
    "start_time": "2023-05-19T12:16:07.659Z"
   },
   {
    "duration": 1772,
    "start_time": "2023-05-19T12:16:08.912Z"
   },
   {
    "duration": 5,
    "start_time": "2023-05-19T12:16:10.686Z"
   },
   {
    "duration": 10,
    "start_time": "2023-05-19T12:16:10.693Z"
   },
   {
    "duration": 721,
    "start_time": "2023-05-19T12:16:10.704Z"
   },
   {
    "duration": 22,
    "start_time": "2023-05-19T12:16:11.427Z"
   },
   {
    "duration": 875,
    "start_time": "2023-05-19T12:16:11.450Z"
   },
   {
    "duration": 18,
    "start_time": "2023-05-19T12:16:12.326Z"
   },
   {
    "duration": 474,
    "start_time": "2023-05-19T12:16:12.346Z"
   },
   {
    "duration": 16,
    "start_time": "2023-05-19T12:16:12.822Z"
   },
   {
    "duration": 4,
    "start_time": "2023-05-19T12:16:12.839Z"
   },
   {
    "duration": 4,
    "start_time": "2023-05-19T12:16:12.844Z"
   },
   {
    "duration": 9,
    "start_time": "2023-05-19T12:16:12.849Z"
   },
   {
    "duration": 5,
    "start_time": "2023-05-19T12:16:12.859Z"
   },
   {
    "duration": 10,
    "start_time": "2023-05-19T12:16:12.866Z"
   },
   {
    "duration": 55,
    "start_time": "2023-05-19T12:16:12.877Z"
   },
   {
    "duration": 1055,
    "start_time": "2023-05-19T12:16:12.934Z"
   },
   {
    "duration": 36,
    "start_time": "2023-05-19T12:16:13.991Z"
   },
   {
    "duration": 8826,
    "start_time": "2023-05-19T12:16:14.029Z"
   },
   {
    "duration": 105,
    "start_time": "2023-05-19T12:16:22.857Z"
   },
   {
    "duration": 111,
    "start_time": "2023-05-19T12:16:22.964Z"
   },
   {
    "duration": 990,
    "start_time": "2023-05-19T12:16:23.077Z"
   },
   {
    "duration": 7296,
    "start_time": "2023-05-19T12:16:24.069Z"
   },
   {
    "duration": 27,
    "start_time": "2023-05-19T12:16:31.367Z"
   },
   {
    "duration": 18,
    "start_time": "2023-05-19T12:16:31.396Z"
   },
   {
    "duration": 54,
    "start_time": "2023-05-19T12:16:31.415Z"
   },
   {
    "duration": 79,
    "start_time": "2023-05-19T12:16:31.470Z"
   },
   {
    "duration": 20,
    "start_time": "2023-05-19T12:16:31.552Z"
   },
   {
    "duration": 4,
    "start_time": "2023-05-19T12:16:31.574Z"
   },
   {
    "duration": 32,
    "start_time": "2023-05-19T12:16:47.479Z"
   },
   {
    "duration": 6,
    "start_time": "2023-05-19T12:16:56.636Z"
   },
   {
    "duration": 8,
    "start_time": "2023-05-19T12:17:02.172Z"
   },
   {
    "duration": 29,
    "start_time": "2023-05-19T12:17:07.308Z"
   },
   {
    "duration": 100,
    "start_time": "2023-05-19T12:17:14.714Z"
   },
   {
    "duration": 7,
    "start_time": "2023-05-19T12:17:44.542Z"
   },
   {
    "duration": 13,
    "start_time": "2023-05-19T12:32:21.177Z"
   },
   {
    "duration": 4,
    "start_time": "2023-05-19T12:32:26.460Z"
   },
   {
    "duration": 25,
    "start_time": "2023-05-19T12:34:51.994Z"
   },
   {
    "duration": 4,
    "start_time": "2023-05-19T12:34:57.306Z"
   },
   {
    "duration": 29,
    "start_time": "2023-05-19T12:37:48.078Z"
   },
   {
    "duration": 10,
    "start_time": "2023-05-19T12:37:50.828Z"
   },
   {
    "duration": 8337,
    "start_time": "2023-05-19T12:45:28.382Z"
   },
   {
    "duration": 469,
    "start_time": "2023-05-19T12:53:54.038Z"
   },
   {
    "duration": 1332,
    "start_time": "2023-05-19T12:55:43.499Z"
   },
   {
    "duration": 1808,
    "start_time": "2023-05-19T12:55:44.833Z"
   },
   {
    "duration": 6,
    "start_time": "2023-05-19T12:55:46.643Z"
   },
   {
    "duration": 22,
    "start_time": "2023-05-19T12:55:46.652Z"
   },
   {
    "duration": 731,
    "start_time": "2023-05-19T12:55:46.677Z"
   },
   {
    "duration": 24,
    "start_time": "2023-05-19T12:55:47.410Z"
   },
   {
    "duration": 911,
    "start_time": "2023-05-19T12:55:47.435Z"
   },
   {
    "duration": 19,
    "start_time": "2023-05-19T12:55:48.347Z"
   },
   {
    "duration": 423,
    "start_time": "2023-05-19T12:55:48.368Z"
   },
   {
    "duration": 19,
    "start_time": "2023-05-19T12:55:48.793Z"
   },
   {
    "duration": 5,
    "start_time": "2023-05-19T12:55:48.814Z"
   },
   {
    "duration": 8,
    "start_time": "2023-05-19T12:55:48.820Z"
   },
   {
    "duration": 7,
    "start_time": "2023-05-19T12:55:48.830Z"
   },
   {
    "duration": 9,
    "start_time": "2023-05-19T12:55:48.839Z"
   },
   {
    "duration": 21,
    "start_time": "2023-05-19T12:55:48.849Z"
   },
   {
    "duration": 41,
    "start_time": "2023-05-19T12:55:48.873Z"
   },
   {
    "duration": 1047,
    "start_time": "2023-05-19T12:55:48.915Z"
   },
   {
    "duration": 27,
    "start_time": "2023-05-19T12:55:49.963Z"
   },
   {
    "duration": 8854,
    "start_time": "2023-05-19T12:55:49.992Z"
   },
   {
    "duration": 68,
    "start_time": "2023-05-19T12:55:58.848Z"
   },
   {
    "duration": 76,
    "start_time": "2023-05-19T12:55:58.918Z"
   },
   {
    "duration": 963,
    "start_time": "2023-05-19T12:55:58.995Z"
   },
   {
    "duration": 6221,
    "start_time": "2023-05-19T12:55:59.960Z"
   },
   {
    "duration": 28,
    "start_time": "2023-05-19T12:56:06.183Z"
   },
   {
    "duration": 7,
    "start_time": "2023-05-19T12:56:06.213Z"
   },
   {
    "duration": 56,
    "start_time": "2023-05-19T12:56:06.221Z"
   },
   {
    "duration": 95,
    "start_time": "2023-05-19T12:56:06.278Z"
   },
   {
    "duration": 4,
    "start_time": "2023-05-19T12:56:06.376Z"
   },
   {
    "duration": 35,
    "start_time": "2023-05-19T12:56:06.381Z"
   },
   {
    "duration": 408,
    "start_time": "2023-05-19T13:11:39.938Z"
   },
   {
    "duration": 31,
    "start_time": "2023-05-19T13:13:16.122Z"
   },
   {
    "duration": 6,
    "start_time": "2023-05-19T13:13:29.438Z"
   },
   {
    "duration": 5,
    "start_time": "2023-05-19T13:13:32.799Z"
   },
   {
    "duration": 1406,
    "start_time": "2023-05-19T13:20:04.578Z"
   },
   {
    "duration": 1865,
    "start_time": "2023-05-19T13:20:05.985Z"
   },
   {
    "duration": 6,
    "start_time": "2023-05-19T13:20:07.852Z"
   },
   {
    "duration": 35,
    "start_time": "2023-05-19T13:20:07.860Z"
   },
   {
    "duration": 728,
    "start_time": "2023-05-19T13:20:07.896Z"
   },
   {
    "duration": 40,
    "start_time": "2023-05-19T13:20:08.626Z"
   },
   {
    "duration": 950,
    "start_time": "2023-05-19T13:20:08.668Z"
   },
   {
    "duration": 19,
    "start_time": "2023-05-19T13:20:09.619Z"
   },
   {
    "duration": 437,
    "start_time": "2023-05-19T13:20:09.639Z"
   },
   {
    "duration": 30,
    "start_time": "2023-05-19T13:20:10.079Z"
   },
   {
    "duration": 6,
    "start_time": "2023-05-19T13:20:10.110Z"
   },
   {
    "duration": 15,
    "start_time": "2023-05-19T13:20:10.117Z"
   },
   {
    "duration": 9,
    "start_time": "2023-05-19T13:20:10.134Z"
   },
   {
    "duration": 19,
    "start_time": "2023-05-19T13:20:10.145Z"
   },
   {
    "duration": 14,
    "start_time": "2023-05-19T13:20:10.166Z"
   },
   {
    "duration": 32,
    "start_time": "2023-05-19T13:20:10.181Z"
   },
   {
    "duration": 956,
    "start_time": "2023-05-19T13:20:10.215Z"
   },
   {
    "duration": 34,
    "start_time": "2023-05-19T13:20:11.172Z"
   },
   {
    "duration": 9037,
    "start_time": "2023-05-19T13:20:11.208Z"
   },
   {
    "duration": 66,
    "start_time": "2023-05-19T13:20:20.247Z"
   },
   {
    "duration": 74,
    "start_time": "2023-05-19T13:20:20.315Z"
   },
   {
    "duration": 995,
    "start_time": "2023-05-19T13:20:20.391Z"
   },
   {
    "duration": 6133,
    "start_time": "2023-05-19T13:20:21.388Z"
   },
   {
    "duration": 29,
    "start_time": "2023-05-19T13:20:27.522Z"
   },
   {
    "duration": 7,
    "start_time": "2023-05-19T13:20:27.553Z"
   },
   {
    "duration": 21,
    "start_time": "2023-05-19T13:20:27.562Z"
   },
   {
    "duration": 96,
    "start_time": "2023-05-19T13:20:27.585Z"
   },
   {
    "duration": 5,
    "start_time": "2023-05-19T13:20:27.684Z"
   },
   {
    "duration": 33,
    "start_time": "2023-05-19T13:20:27.690Z"
   },
   {
    "duration": 105,
    "start_time": "2023-05-19T13:20:36.897Z"
   },
   {
    "duration": 1354,
    "start_time": "2023-05-19T13:20:42.485Z"
   },
   {
    "duration": 1941,
    "start_time": "2023-05-19T13:20:43.841Z"
   },
   {
    "duration": 5,
    "start_time": "2023-05-19T13:20:45.784Z"
   },
   {
    "duration": 9,
    "start_time": "2023-05-19T13:20:45.791Z"
   },
   {
    "duration": 724,
    "start_time": "2023-05-19T13:20:45.801Z"
   },
   {
    "duration": 26,
    "start_time": "2023-05-19T13:20:46.527Z"
   },
   {
    "duration": 953,
    "start_time": "2023-05-19T13:20:46.554Z"
   },
   {
    "duration": 20,
    "start_time": "2023-05-19T13:20:47.509Z"
   },
   {
    "duration": 432,
    "start_time": "2023-05-19T13:20:47.530Z"
   },
   {
    "duration": 15,
    "start_time": "2023-05-19T13:20:47.965Z"
   },
   {
    "duration": 4,
    "start_time": "2023-05-19T13:20:47.982Z"
   },
   {
    "duration": 5,
    "start_time": "2023-05-19T13:20:47.988Z"
   },
   {
    "duration": 9,
    "start_time": "2023-05-19T13:20:48.006Z"
   },
   {
    "duration": 10,
    "start_time": "2023-05-19T13:20:48.016Z"
   },
   {
    "duration": 18,
    "start_time": "2023-05-19T13:20:48.028Z"
   },
   {
    "duration": 25,
    "start_time": "2023-05-19T13:20:48.048Z"
   },
   {
    "duration": 1000,
    "start_time": "2023-05-19T13:20:48.074Z"
   },
   {
    "duration": 38,
    "start_time": "2023-05-19T13:20:49.076Z"
   },
   {
    "duration": 9559,
    "start_time": "2023-05-19T13:20:49.116Z"
   },
   {
    "duration": 71,
    "start_time": "2023-05-19T13:20:58.679Z"
   },
   {
    "duration": 115,
    "start_time": "2023-05-19T13:20:58.752Z"
   },
   {
    "duration": 1185,
    "start_time": "2023-05-19T13:20:58.869Z"
   },
   {
    "duration": 6981,
    "start_time": "2023-05-19T13:21:00.056Z"
   },
   {
    "duration": 37,
    "start_time": "2023-05-19T13:21:07.040Z"
   },
   {
    "duration": 8,
    "start_time": "2023-05-19T13:21:07.079Z"
   },
   {
    "duration": 30,
    "start_time": "2023-05-19T13:21:07.088Z"
   },
   {
    "duration": 89,
    "start_time": "2023-05-19T13:21:07.120Z"
   },
   {
    "duration": 6,
    "start_time": "2023-05-19T13:21:07.212Z"
   },
   {
    "duration": 44,
    "start_time": "2023-05-19T13:21:07.220Z"
   },
   {
    "duration": 1674,
    "start_time": "2023-05-20T11:24:38.918Z"
   },
   {
    "duration": 3253,
    "start_time": "2023-05-20T11:24:40.594Z"
   },
   {
    "duration": 7,
    "start_time": "2023-05-20T11:24:43.849Z"
   },
   {
    "duration": 8,
    "start_time": "2023-05-20T11:24:43.857Z"
   },
   {
    "duration": 1283,
    "start_time": "2023-05-20T11:24:43.867Z"
   },
   {
    "duration": 22,
    "start_time": "2023-05-20T11:24:45.152Z"
   },
   {
    "duration": 1257,
    "start_time": "2023-05-20T11:24:45.176Z"
   },
   {
    "duration": 23,
    "start_time": "2023-05-20T11:24:46.435Z"
   },
   {
    "duration": 505,
    "start_time": "2023-05-20T11:24:46.460Z"
   },
   {
    "duration": 21,
    "start_time": "2023-05-20T11:24:46.967Z"
   },
   {
    "duration": 9,
    "start_time": "2023-05-20T11:24:47.001Z"
   },
   {
    "duration": 23,
    "start_time": "2023-05-20T11:24:47.012Z"
   },
   {
    "duration": 10,
    "start_time": "2023-05-20T11:24:47.036Z"
   },
   {
    "duration": 6,
    "start_time": "2023-05-20T11:24:47.048Z"
   },
   {
    "duration": 13,
    "start_time": "2023-05-20T11:24:47.055Z"
   },
   {
    "duration": 39,
    "start_time": "2023-05-20T11:24:47.069Z"
   },
   {
    "duration": 1110,
    "start_time": "2023-05-20T11:24:47.110Z"
   },
   {
    "duration": 35,
    "start_time": "2023-05-20T11:24:48.222Z"
   },
   {
    "duration": 10134,
    "start_time": "2023-05-20T11:24:48.258Z"
   },
   {
    "duration": 86,
    "start_time": "2023-05-20T11:24:58.394Z"
   },
   {
    "duration": 126,
    "start_time": "2023-05-20T11:24:58.481Z"
   },
   {
    "duration": 1066,
    "start_time": "2023-05-20T11:24:58.615Z"
   },
   {
    "duration": 7554,
    "start_time": "2023-05-20T11:24:59.683Z"
   },
   {
    "duration": 30,
    "start_time": "2023-05-20T11:25:07.239Z"
   },
   {
    "duration": 9,
    "start_time": "2023-05-20T11:25:07.270Z"
   },
   {
    "duration": 29,
    "start_time": "2023-05-20T11:25:07.280Z"
   },
   {
    "duration": 110,
    "start_time": "2023-05-20T11:25:07.311Z"
   },
   {
    "duration": 6,
    "start_time": "2023-05-20T11:25:07.426Z"
   },
   {
    "duration": 33,
    "start_time": "2023-05-20T11:25:07.433Z"
   },
   {
    "duration": 608,
    "start_time": "2023-05-20T11:31:06.122Z"
   },
   {
    "duration": 18,
    "start_time": "2023-05-20T11:43:16.342Z"
   },
   {
    "duration": 159,
    "start_time": "2023-05-20T11:44:13.450Z"
   },
   {
    "duration": 4,
    "start_time": "2023-05-20T11:44:20.757Z"
   },
   {
    "duration": 10,
    "start_time": "2023-05-20T11:49:11.450Z"
   },
   {
    "duration": 4,
    "start_time": "2023-05-20T11:50:53.322Z"
   },
   {
    "duration": 15,
    "start_time": "2023-05-20T11:50:57.414Z"
   },
   {
    "duration": 15,
    "start_time": "2023-05-20T11:51:00.874Z"
   },
   {
    "duration": 118,
    "start_time": "2023-05-20T11:51:01.256Z"
   },
   {
    "duration": 12,
    "start_time": "2023-05-20T11:52:35.383Z"
   },
   {
    "duration": 17,
    "start_time": "2023-05-20T11:52:45.242Z"
   },
   {
    "duration": 6,
    "start_time": "2023-05-20T11:53:10.222Z"
   },
   {
    "duration": 4,
    "start_time": "2023-05-20T11:53:31.888Z"
   },
   {
    "duration": 16,
    "start_time": "2023-05-20T11:54:03.718Z"
   },
   {
    "duration": 116,
    "start_time": "2023-05-20T11:54:33.836Z"
   },
   {
    "duration": 4,
    "start_time": "2023-05-20T11:54:34.044Z"
   },
   {
    "duration": 11,
    "start_time": "2023-05-20T11:54:37.343Z"
   },
   {
    "duration": 14,
    "start_time": "2023-05-20T11:55:36.827Z"
   },
   {
    "duration": 16,
    "start_time": "2023-05-20T11:55:37.233Z"
   },
   {
    "duration": 5,
    "start_time": "2023-05-20T11:56:00.385Z"
   },
   {
    "duration": 33,
    "start_time": "2023-05-20T11:56:05.937Z"
   },
   {
    "duration": 58,
    "start_time": "2023-05-20T11:58:31.230Z"
   },
   {
    "duration": 14,
    "start_time": "2023-05-20T11:58:32.390Z"
   },
   {
    "duration": 20,
    "start_time": "2023-05-20T11:58:43.592Z"
   },
   {
    "duration": 82,
    "start_time": "2023-05-20T12:26:02.145Z"
   },
   {
    "duration": 4,
    "start_time": "2023-05-20T12:27:41.673Z"
   },
   {
    "duration": 16,
    "start_time": "2023-05-20T12:27:43.077Z"
   },
   {
    "duration": 97,
    "start_time": "2023-05-20T12:27:49.958Z"
   },
   {
    "duration": 1146,
    "start_time": "2023-05-20T12:27:50.679Z"
   },
   {
    "duration": 0,
    "start_time": "2023-05-20T12:27:51.826Z"
   },
   {
    "duration": 10,
    "start_time": "2023-05-20T12:27:51.964Z"
   },
   {
    "duration": 50,
    "start_time": "2023-05-20T12:30:12.913Z"
   },
   {
    "duration": 52,
    "start_time": "2023-05-20T12:31:27.018Z"
   },
   {
    "duration": 1932,
    "start_time": "2023-05-20T12:34:45.333Z"
   },
   {
    "duration": 38,
    "start_time": "2023-05-20T12:37:01.013Z"
   },
   {
    "duration": 2071,
    "start_time": "2023-05-20T12:37:46.486Z"
   },
   {
    "duration": 80,
    "start_time": "2023-05-20T12:39:54.593Z"
   },
   {
    "duration": 1866,
    "start_time": "2023-05-20T12:40:00.029Z"
   },
   {
    "duration": 1842,
    "start_time": "2023-05-20T12:41:47.775Z"
   },
   {
    "duration": 70,
    "start_time": "2023-05-20T12:49:19.370Z"
   },
   {
    "duration": 614,
    "start_time": "2023-05-20T12:49:22.129Z"
   },
   {
    "duration": 9,
    "start_time": "2023-05-20T12:49:22.985Z"
   },
   {
    "duration": 1732,
    "start_time": "2023-05-20T12:50:20.584Z"
   },
   {
    "duration": 3236,
    "start_time": "2023-05-20T12:50:22.318Z"
   },
   {
    "duration": 9,
    "start_time": "2023-05-20T12:50:25.557Z"
   },
   {
    "duration": 17,
    "start_time": "2023-05-20T12:50:25.568Z"
   },
   {
    "duration": 964,
    "start_time": "2023-05-20T12:50:25.586Z"
   },
   {
    "duration": 26,
    "start_time": "2023-05-20T12:50:26.551Z"
   },
   {
    "duration": 1483,
    "start_time": "2023-05-20T12:50:26.579Z"
   },
   {
    "duration": 36,
    "start_time": "2023-05-20T12:50:28.064Z"
   },
   {
    "duration": 570,
    "start_time": "2023-05-20T12:50:28.101Z"
   },
   {
    "duration": 16,
    "start_time": "2023-05-20T12:50:28.674Z"
   },
   {
    "duration": 4,
    "start_time": "2023-05-20T12:50:28.692Z"
   },
   {
    "duration": 44,
    "start_time": "2023-05-20T12:50:28.701Z"
   },
   {
    "duration": 10,
    "start_time": "2023-05-20T12:50:28.747Z"
   },
   {
    "duration": 9,
    "start_time": "2023-05-20T12:50:28.758Z"
   },
   {
    "duration": 16,
    "start_time": "2023-05-20T12:50:28.769Z"
   },
   {
    "duration": 62,
    "start_time": "2023-05-20T12:50:28.787Z"
   },
   {
    "duration": 1182,
    "start_time": "2023-05-20T12:50:28.851Z"
   },
   {
    "duration": 35,
    "start_time": "2023-05-20T12:50:30.035Z"
   },
   {
    "duration": 11335,
    "start_time": "2023-05-20T12:50:30.071Z"
   },
   {
    "duration": 100,
    "start_time": "2023-05-20T12:50:41.408Z"
   },
   {
    "duration": 123,
    "start_time": "2023-05-20T12:50:41.510Z"
   },
   {
    "duration": 1207,
    "start_time": "2023-05-20T12:50:41.635Z"
   },
   {
    "duration": 8082,
    "start_time": "2023-05-20T12:50:42.844Z"
   },
   {
    "duration": 32,
    "start_time": "2023-05-20T12:50:50.928Z"
   },
   {
    "duration": 10,
    "start_time": "2023-05-20T12:50:50.961Z"
   },
   {
    "duration": 65,
    "start_time": "2023-05-20T12:50:50.973Z"
   },
   {
    "duration": 122,
    "start_time": "2023-05-20T12:50:51.040Z"
   },
   {
    "duration": 5,
    "start_time": "2023-05-20T12:50:51.166Z"
   },
   {
    "duration": 58,
    "start_time": "2023-05-20T12:50:51.172Z"
   },
   {
    "duration": 532,
    "start_time": "2023-05-20T12:50:51.232Z"
   },
   {
    "duration": 11,
    "start_time": "2023-05-20T12:50:51.766Z"
   },
   {
    "duration": 63,
    "start_time": "2023-05-20T12:50:51.778Z"
   },
   {
    "duration": 22,
    "start_time": "2023-05-20T12:50:51.843Z"
   },
   {
    "duration": 115,
    "start_time": "2023-05-20T12:50:51.867Z"
   },
   {
    "duration": 4,
    "start_time": "2023-05-20T12:50:51.983Z"
   },
   {
    "duration": 53,
    "start_time": "2023-05-20T12:50:51.989Z"
   },
   {
    "duration": 61,
    "start_time": "2023-05-20T12:50:52.044Z"
   },
   {
    "duration": 701,
    "start_time": "2023-05-20T12:50:52.108Z"
   },
   {
    "duration": 0,
    "start_time": "2023-05-20T12:50:52.811Z"
   },
   {
    "duration": 0,
    "start_time": "2023-05-20T12:50:52.817Z"
   },
   {
    "duration": 0,
    "start_time": "2023-05-20T12:50:52.818Z"
   },
   {
    "duration": 0,
    "start_time": "2023-05-20T12:50:52.821Z"
   },
   {
    "duration": 73,
    "start_time": "2023-05-20T12:51:56.277Z"
   },
   {
    "duration": 631,
    "start_time": "2023-05-20T12:51:56.925Z"
   },
   {
    "duration": 11,
    "start_time": "2023-05-20T12:51:57.734Z"
   },
   {
    "duration": 49,
    "start_time": "2023-05-20T12:52:11.625Z"
   },
   {
    "duration": 4245,
    "start_time": "2023-05-20T12:52:13.429Z"
   },
   {
    "duration": 16,
    "start_time": "2023-05-20T12:52:17.676Z"
   },
   {
    "duration": 23,
    "start_time": "2023-05-20T12:52:20.231Z"
   },
   {
    "duration": 5620,
    "start_time": "2023-05-20T12:52:38.731Z"
   },
   {
    "duration": 22,
    "start_time": "2023-05-20T12:52:58.657Z"
   },
   {
    "duration": 1553,
    "start_time": "2023-05-21T11:50:03.440Z"
   },
   {
    "duration": 2783,
    "start_time": "2023-05-21T11:50:04.995Z"
   },
   {
    "duration": 6,
    "start_time": "2023-05-21T11:50:07.780Z"
   },
   {
    "duration": 19,
    "start_time": "2023-05-21T11:50:07.788Z"
   },
   {
    "duration": 2733,
    "start_time": "2023-05-21T11:50:07.808Z"
   },
   {
    "duration": 30,
    "start_time": "2023-05-21T11:50:10.542Z"
   },
   {
    "duration": 1010,
    "start_time": "2023-05-21T11:50:10.573Z"
   },
   {
    "duration": 20,
    "start_time": "2023-05-21T11:50:11.585Z"
   },
   {
    "duration": 456,
    "start_time": "2023-05-21T11:50:11.607Z"
   },
   {
    "duration": 20,
    "start_time": "2023-05-21T11:50:12.065Z"
   },
   {
    "duration": 4,
    "start_time": "2023-05-21T11:50:12.086Z"
   },
   {
    "duration": 4,
    "start_time": "2023-05-21T11:50:12.091Z"
   },
   {
    "duration": 4,
    "start_time": "2023-05-21T11:50:12.097Z"
   },
   {
    "duration": 6,
    "start_time": "2023-05-21T11:50:12.102Z"
   },
   {
    "duration": 10,
    "start_time": "2023-05-21T11:50:12.109Z"
   },
   {
    "duration": 60,
    "start_time": "2023-05-21T11:50:12.121Z"
   },
   {
    "duration": 1085,
    "start_time": "2023-05-21T11:50:12.183Z"
   },
   {
    "duration": 29,
    "start_time": "2023-05-21T11:50:13.277Z"
   },
   {
    "duration": 9263,
    "start_time": "2023-05-21T11:50:13.308Z"
   },
   {
    "duration": 88,
    "start_time": "2023-05-21T11:50:22.573Z"
   },
   {
    "duration": 90,
    "start_time": "2023-05-21T11:50:22.663Z"
   },
   {
    "duration": 1001,
    "start_time": "2023-05-21T11:50:22.755Z"
   },
   {
    "duration": 6549,
    "start_time": "2023-05-21T11:50:23.758Z"
   },
   {
    "duration": 31,
    "start_time": "2023-05-21T11:50:30.308Z"
   },
   {
    "duration": 8,
    "start_time": "2023-05-21T11:50:30.341Z"
   },
   {
    "duration": 50,
    "start_time": "2023-05-21T11:50:30.351Z"
   },
   {
    "duration": 95,
    "start_time": "2023-05-21T11:50:30.403Z"
   },
   {
    "duration": 4,
    "start_time": "2023-05-21T11:50:30.501Z"
   },
   {
    "duration": 43,
    "start_time": "2023-05-21T11:50:30.507Z"
   },
   {
    "duration": 470,
    "start_time": "2023-05-21T11:50:30.551Z"
   },
   {
    "duration": 12,
    "start_time": "2023-05-21T11:50:31.023Z"
   },
   {
    "duration": 18,
    "start_time": "2023-05-21T11:50:31.036Z"
   },
   {
    "duration": 34,
    "start_time": "2023-05-21T11:50:31.056Z"
   },
   {
    "duration": 107,
    "start_time": "2023-05-21T11:50:31.092Z"
   },
   {
    "duration": 4,
    "start_time": "2023-05-21T11:50:31.200Z"
   },
   {
    "duration": 20,
    "start_time": "2023-05-21T11:50:31.205Z"
   },
   {
    "duration": 51,
    "start_time": "2023-05-21T11:50:31.227Z"
   },
   {
    "duration": 4938,
    "start_time": "2023-05-21T11:50:31.279Z"
   },
   {
    "duration": 16,
    "start_time": "2023-05-21T11:50:36.218Z"
   },
   {
    "duration": 20,
    "start_time": "2023-05-21T11:50:36.235Z"
   },
   {
    "duration": 27,
    "start_time": "2023-05-21T11:50:36.257Z"
   },
   {
    "duration": 11,
    "start_time": "2023-05-21T11:51:25.928Z"
   },
   {
    "duration": 752,
    "start_time": "2023-05-21T12:00:43.099Z"
   },
   {
    "duration": 23767,
    "start_time": "2023-05-21T12:26:18.910Z"
   },
   {
    "duration": 26581,
    "start_time": "2023-05-21T12:29:24.799Z"
   },
   {
    "duration": 40,
    "start_time": "2023-05-21T12:32:36.971Z"
   },
   {
    "duration": 18218,
    "start_time": "2023-05-21T12:32:41.360Z"
   },
   {
    "duration": 109,
    "start_time": "2023-05-21T12:40:14.174Z"
   },
   {
    "duration": 12,
    "start_time": "2023-05-21T12:40:42.200Z"
   },
   {
    "duration": 4,
    "start_time": "2023-05-21T12:40:46.473Z"
   },
   {
    "duration": 99,
    "start_time": "2023-05-21T12:40:52.040Z"
   },
   {
    "duration": 5,
    "start_time": "2023-05-21T12:41:16.286Z"
   },
   {
    "duration": 89,
    "start_time": "2023-05-21T12:41:22.386Z"
   },
   {
    "duration": 103,
    "start_time": "2023-05-21T12:42:10.916Z"
   },
   {
    "duration": 118,
    "start_time": "2023-05-21T12:49:13.153Z"
   },
   {
    "duration": 99,
    "start_time": "2023-05-21T12:49:34.276Z"
   },
   {
    "duration": 6,
    "start_time": "2023-05-21T12:49:42.812Z"
   },
   {
    "duration": 94,
    "start_time": "2023-05-21T12:49:48.118Z"
   },
   {
    "duration": 117,
    "start_time": "2023-05-21T12:49:51.565Z"
   },
   {
    "duration": 88,
    "start_time": "2023-05-21T12:50:36.800Z"
   },
   {
    "duration": 102,
    "start_time": "2023-05-21T12:52:22.002Z"
   },
   {
    "duration": 4,
    "start_time": "2023-05-21T12:52:40.656Z"
   },
   {
    "duration": 4,
    "start_time": "2023-05-21T12:53:02.257Z"
   },
   {
    "duration": 109,
    "start_time": "2023-05-21T12:53:07.819Z"
   },
   {
    "duration": 4,
    "start_time": "2023-05-21T12:53:22.925Z"
   },
   {
    "duration": 35721,
    "start_time": "2023-05-21T12:53:23.198Z"
   },
   {
    "duration": 3,
    "start_time": "2023-05-21T12:54:02.035Z"
   },
   {
    "duration": 4,
    "start_time": "2023-05-21T12:54:18.716Z"
   },
   {
    "duration": 4,
    "start_time": "2023-05-21T12:55:25.543Z"
   },
   {
    "duration": 9,
    "start_time": "2023-05-21T12:56:22.444Z"
   },
   {
    "duration": 4,
    "start_time": "2023-05-21T12:56:34.795Z"
   },
   {
    "duration": 36634,
    "start_time": "2023-05-21T12:56:35.317Z"
   },
   {
    "duration": 4,
    "start_time": "2023-05-21T12:57:11.953Z"
   },
   {
    "duration": 4,
    "start_time": "2023-05-21T13:25:09.399Z"
   },
   {
    "duration": 142,
    "start_time": "2023-05-21T13:30:28.471Z"
   },
   {
    "duration": 20,
    "start_time": "2023-05-21T13:30:39.082Z"
   },
   {
    "duration": 9,
    "start_time": "2023-05-21T13:30:45.742Z"
   },
   {
    "duration": 3,
    "start_time": "2023-05-21T13:30:46.464Z"
   },
   {
    "duration": 1391,
    "start_time": "2023-05-21T13:32:59.790Z"
   },
   {
    "duration": 1987,
    "start_time": "2023-05-21T13:33:01.183Z"
   },
   {
    "duration": 6,
    "start_time": "2023-05-21T13:33:03.172Z"
   },
   {
    "duration": 11,
    "start_time": "2023-05-21T13:33:03.179Z"
   },
   {
    "duration": 776,
    "start_time": "2023-05-21T13:33:03.192Z"
   },
   {
    "duration": 30,
    "start_time": "2023-05-21T13:33:03.970Z"
   },
   {
    "duration": 1022,
    "start_time": "2023-05-21T13:33:04.002Z"
   },
   {
    "duration": 22,
    "start_time": "2023-05-21T13:33:05.025Z"
   },
   {
    "duration": 496,
    "start_time": "2023-05-21T13:33:05.048Z"
   },
   {
    "duration": 34,
    "start_time": "2023-05-21T13:33:05.546Z"
   },
   {
    "duration": 4,
    "start_time": "2023-05-21T13:33:05.582Z"
   },
   {
    "duration": 4,
    "start_time": "2023-05-21T13:33:05.588Z"
   },
   {
    "duration": 5,
    "start_time": "2023-05-21T13:33:05.593Z"
   },
   {
    "duration": 5,
    "start_time": "2023-05-21T13:33:05.601Z"
   },
   {
    "duration": 15,
    "start_time": "2023-05-21T13:33:05.607Z"
   },
   {
    "duration": 69,
    "start_time": "2023-05-21T13:33:05.624Z"
   },
   {
    "duration": 1061,
    "start_time": "2023-05-21T13:33:05.694Z"
   },
   {
    "duration": 37,
    "start_time": "2023-05-21T13:33:06.756Z"
   },
   {
    "duration": 8876,
    "start_time": "2023-05-21T13:33:06.794Z"
   },
   {
    "duration": 70,
    "start_time": "2023-05-21T13:33:15.672Z"
   },
   {
    "duration": 99,
    "start_time": "2023-05-21T13:33:15.744Z"
   },
   {
    "duration": 1024,
    "start_time": "2023-05-21T13:33:15.845Z"
   },
   {
    "duration": 6729,
    "start_time": "2023-05-21T13:33:16.870Z"
   },
   {
    "duration": 30,
    "start_time": "2023-05-21T13:33:23.601Z"
   },
   {
    "duration": 9,
    "start_time": "2023-05-21T13:33:23.633Z"
   },
   {
    "duration": 30,
    "start_time": "2023-05-21T13:33:23.643Z"
   },
   {
    "duration": 92,
    "start_time": "2023-05-21T13:33:23.677Z"
   },
   {
    "duration": 5,
    "start_time": "2023-05-21T13:33:23.778Z"
   },
   {
    "duration": 25,
    "start_time": "2023-05-21T13:33:23.785Z"
   },
   {
    "duration": 524,
    "start_time": "2023-05-21T13:33:23.812Z"
   },
   {
    "duration": 12,
    "start_time": "2023-05-21T13:33:24.338Z"
   },
   {
    "duration": 18,
    "start_time": "2023-05-21T13:33:24.352Z"
   },
   {
    "duration": 28,
    "start_time": "2023-05-21T13:33:24.371Z"
   },
   {
    "duration": 111,
    "start_time": "2023-05-21T13:33:24.401Z"
   },
   {
    "duration": 4,
    "start_time": "2023-05-21T13:33:24.514Z"
   },
   {
    "duration": 15,
    "start_time": "2023-05-21T13:33:24.520Z"
   },
   {
    "duration": 63,
    "start_time": "2023-05-21T13:33:24.536Z"
   },
   {
    "duration": 4957,
    "start_time": "2023-05-21T13:33:24.601Z"
   },
   {
    "duration": 25,
    "start_time": "2023-05-21T13:33:29.560Z"
   },
   {
    "duration": 17,
    "start_time": "2023-05-21T13:33:29.587Z"
   },
   {
    "duration": 15,
    "start_time": "2023-05-21T13:33:29.609Z"
   },
   {
    "duration": 783,
    "start_time": "2023-05-21T13:33:29.627Z"
   },
   {
    "duration": 16666,
    "start_time": "2023-05-21T13:33:30.412Z"
   },
   {
    "duration": 5,
    "start_time": "2023-05-21T13:33:47.081Z"
   },
   {
    "duration": 36130,
    "start_time": "2023-05-21T13:33:47.088Z"
   },
   {
    "duration": 3,
    "start_time": "2023-05-21T13:34:23.220Z"
   },
   {
    "duration": 163,
    "start_time": "2023-05-21T13:34:23.225Z"
   },
   {
    "duration": 3,
    "start_time": "2023-05-21T13:34:23.390Z"
   },
   {
    "duration": 103683,
    "start_time": "2023-05-21T13:34:23.395Z"
   },
   {
    "duration": 6,
    "start_time": "2023-05-21T13:36:07.086Z"
   },
   {
    "duration": 2318,
    "start_time": "2023-05-22T11:27:56.322Z"
   },
   {
    "duration": 3749,
    "start_time": "2023-05-22T11:27:58.642Z"
   },
   {
    "duration": 14,
    "start_time": "2023-05-22T11:28:02.394Z"
   },
   {
    "duration": 27,
    "start_time": "2023-05-22T11:28:02.411Z"
   },
   {
    "duration": 1593,
    "start_time": "2023-05-22T11:28:02.439Z"
   },
   {
    "duration": 30,
    "start_time": "2023-05-22T11:28:04.034Z"
   },
   {
    "duration": 1469,
    "start_time": "2023-05-22T11:28:04.066Z"
   },
   {
    "duration": 28,
    "start_time": "2023-05-22T11:28:05.537Z"
   },
   {
    "duration": 623,
    "start_time": "2023-05-22T11:28:05.567Z"
   },
   {
    "duration": 28,
    "start_time": "2023-05-22T11:28:06.193Z"
   },
   {
    "duration": 12,
    "start_time": "2023-05-22T11:28:06.223Z"
   },
   {
    "duration": 11,
    "start_time": "2023-05-22T11:28:06.237Z"
   },
   {
    "duration": 10,
    "start_time": "2023-05-22T11:28:06.250Z"
   },
   {
    "duration": 17,
    "start_time": "2023-05-22T11:28:06.262Z"
   },
   {
    "duration": 33,
    "start_time": "2023-05-22T11:28:06.281Z"
   },
   {
    "duration": 59,
    "start_time": "2023-05-22T11:28:06.317Z"
   },
   {
    "duration": 1434,
    "start_time": "2023-05-22T11:28:06.379Z"
   },
   {
    "duration": 45,
    "start_time": "2023-05-22T11:28:07.817Z"
   },
   {
    "duration": 12512,
    "start_time": "2023-05-22T11:28:07.864Z"
   },
   {
    "duration": 98,
    "start_time": "2023-05-22T11:28:20.378Z"
   },
   {
    "duration": 150,
    "start_time": "2023-05-22T11:28:20.478Z"
   },
   {
    "duration": 1346,
    "start_time": "2023-05-22T11:28:20.631Z"
   },
   {
    "duration": 8548,
    "start_time": "2023-05-22T11:28:21.979Z"
   },
   {
    "duration": 31,
    "start_time": "2023-05-22T11:28:30.529Z"
   },
   {
    "duration": 26,
    "start_time": "2023-05-22T11:28:30.561Z"
   },
   {
    "duration": 54,
    "start_time": "2023-05-22T11:28:30.589Z"
   },
   {
    "duration": 131,
    "start_time": "2023-05-22T11:28:30.646Z"
   },
   {
    "duration": 6,
    "start_time": "2023-05-22T11:28:30.781Z"
   },
   {
    "duration": 72,
    "start_time": "2023-05-22T11:28:30.789Z"
   },
   {
    "duration": 661,
    "start_time": "2023-05-22T11:28:30.863Z"
   },
   {
    "duration": 15,
    "start_time": "2023-05-22T11:28:31.527Z"
   },
   {
    "duration": 25,
    "start_time": "2023-05-22T11:28:31.544Z"
   },
   {
    "duration": 36,
    "start_time": "2023-05-22T11:28:31.571Z"
   },
   {
    "duration": 165,
    "start_time": "2023-05-22T11:28:31.610Z"
   },
   {
    "duration": 6,
    "start_time": "2023-05-22T11:28:31.776Z"
   },
   {
    "duration": 26,
    "start_time": "2023-05-22T11:28:31.785Z"
   },
   {
    "duration": 104,
    "start_time": "2023-05-22T11:28:31.816Z"
   },
   {
    "duration": 5045,
    "start_time": "2023-05-22T11:28:31.923Z"
   },
   {
    "duration": 32,
    "start_time": "2023-05-22T11:28:36.970Z"
   },
   {
    "duration": 60,
    "start_time": "2023-05-22T11:28:37.009Z"
   },
   {
    "duration": 33,
    "start_time": "2023-05-22T11:28:37.073Z"
   },
   {
    "duration": 917,
    "start_time": "2023-05-22T11:28:37.109Z"
   },
   {
    "duration": 40473,
    "start_time": "2023-05-22T11:28:38.028Z"
   },
   {
    "duration": 16,
    "start_time": "2023-05-22T11:29:18.503Z"
   },
   {
    "duration": 42329,
    "start_time": "2023-05-22T11:29:18.521Z"
   },
   {
    "duration": 5,
    "start_time": "2023-05-22T11:30:00.852Z"
   },
   {
    "duration": 266,
    "start_time": "2023-05-22T11:30:00.859Z"
   },
   {
    "duration": 5,
    "start_time": "2023-05-22T11:30:01.128Z"
   },
   {
    "duration": 3595290,
    "start_time": "2023-05-22T11:30:01.135Z"
   },
   {
    "duration": 6,
    "start_time": "2023-05-22T12:29:56.428Z"
   },
   {
    "duration": 16,
    "start_time": "2023-05-22T12:29:56.436Z"
   },
   {
    "duration": 135082,
    "start_time": "2023-05-22T12:29:56.453Z"
   },
   {
    "duration": 4,
    "start_time": "2023-05-22T12:32:11.537Z"
   },
   {
    "duration": 0,
    "start_time": "2023-05-22T12:32:11.570Z"
   },
   {
    "duration": 132,
    "start_time": "2023-05-22T12:35:32.092Z"
   },
   {
    "duration": 10,
    "start_time": "2023-05-22T12:36:02.788Z"
   },
   {
    "duration": 24,
    "start_time": "2023-05-22T12:36:46.790Z"
   },
   {
    "duration": 332,
    "start_time": "2023-05-22T12:37:25.424Z"
   },
   {
    "duration": 3,
    "start_time": "2023-05-22T12:37:31.269Z"
   },
   {
    "duration": 384,
    "start_time": "2023-05-22T12:37:32.496Z"
   },
   {
    "duration": 3,
    "start_time": "2023-05-22T12:39:15.357Z"
   },
   {
    "duration": 96,
    "start_time": "2023-05-22T12:39:16.049Z"
   },
   {
    "duration": 3,
    "start_time": "2023-05-22T12:39:47.235Z"
   },
   {
    "duration": 82,
    "start_time": "2023-05-22T12:39:48.665Z"
   },
   {
    "duration": 4,
    "start_time": "2023-05-22T12:40:12.623Z"
   },
   {
    "duration": 679,
    "start_time": "2023-05-22T12:40:13.026Z"
   },
   {
    "duration": 21,
    "start_time": "2023-05-22T12:41:07.048Z"
   },
   {
    "duration": 5,
    "start_time": "2023-05-22T12:45:06.582Z"
   },
   {
    "duration": 14,
    "start_time": "2023-05-22T12:45:41.424Z"
   },
   {
    "duration": 21,
    "start_time": "2023-05-22T12:45:52.126Z"
   },
   {
    "duration": 4,
    "start_time": "2023-05-22T12:45:54.388Z"
   },
   {
    "duration": 662,
    "start_time": "2023-05-22T12:45:54.997Z"
   },
   {
    "duration": 632,
    "start_time": "2023-05-22T13:03:36.077Z"
   },
   {
    "duration": 10,
    "start_time": "2023-05-22T13:04:42.523Z"
   },
   {
    "duration": 3,
    "start_time": "2023-05-22T13:05:54.551Z"
   },
   {
    "duration": 139602,
    "start_time": "2023-05-22T13:05:57.379Z"
   },
   {
    "duration": 46,
    "start_time": "2023-05-22T13:08:16.982Z"
   },
   {
    "duration": 3,
    "start_time": "2023-05-22T13:11:36.243Z"
   },
   {
    "duration": 2582081,
    "start_time": "2023-05-22T13:11:37.112Z"
   },
   {
    "duration": 4,
    "start_time": "2023-05-22T13:54:39.198Z"
   },
   {
    "duration": 1683,
    "start_time": "2023-05-22T20:44:03.112Z"
   },
   {
    "duration": 2896,
    "start_time": "2023-05-22T20:44:04.798Z"
   },
   {
    "duration": 6,
    "start_time": "2023-05-22T20:44:07.696Z"
   },
   {
    "duration": 8,
    "start_time": "2023-05-22T20:44:07.705Z"
   },
   {
    "duration": 1042,
    "start_time": "2023-05-22T20:44:07.714Z"
   },
   {
    "duration": 25,
    "start_time": "2023-05-22T20:44:08.758Z"
   },
   {
    "duration": 1049,
    "start_time": "2023-05-22T20:44:08.785Z"
   },
   {
    "duration": 23,
    "start_time": "2023-05-22T20:44:09.836Z"
   },
   {
    "duration": 555,
    "start_time": "2023-05-22T20:44:09.861Z"
   },
   {
    "duration": 21,
    "start_time": "2023-05-22T20:44:10.419Z"
   },
   {
    "duration": 10,
    "start_time": "2023-05-22T20:44:10.442Z"
   },
   {
    "duration": 11,
    "start_time": "2023-05-22T20:44:10.454Z"
   },
   {
    "duration": 9,
    "start_time": "2023-05-22T20:44:10.467Z"
   },
   {
    "duration": 19,
    "start_time": "2023-05-22T20:44:10.478Z"
   },
   {
    "duration": 10,
    "start_time": "2023-05-22T20:44:11.524Z"
   },
   {
    "duration": 34,
    "start_time": "2023-05-22T20:44:12.017Z"
   },
   {
    "duration": 1132,
    "start_time": "2023-05-22T20:44:12.484Z"
   },
   {
    "duration": 36,
    "start_time": "2023-05-22T20:44:13.618Z"
   },
   {
    "duration": 9158,
    "start_time": "2023-05-22T20:44:13.845Z"
   },
   {
    "duration": 68,
    "start_time": "2023-05-22T20:44:23.005Z"
   },
   {
    "duration": 93,
    "start_time": "2023-05-22T20:44:23.075Z"
   },
   {
    "duration": 999,
    "start_time": "2023-05-22T20:44:23.170Z"
   },
   {
    "duration": 6518,
    "start_time": "2023-05-22T20:44:24.171Z"
   },
   {
    "duration": 26,
    "start_time": "2023-05-22T20:44:30.691Z"
   },
   {
    "duration": 15,
    "start_time": "2023-05-22T20:44:30.718Z"
   },
   {
    "duration": 56,
    "start_time": "2023-05-22T20:44:30.735Z"
   },
   {
    "duration": 91,
    "start_time": "2023-05-22T20:44:30.793Z"
   },
   {
    "duration": 5,
    "start_time": "2023-05-22T20:44:30.886Z"
   },
   {
    "duration": 67,
    "start_time": "2023-05-22T20:44:30.892Z"
   },
   {
    "duration": 488,
    "start_time": "2023-05-22T20:44:30.961Z"
   },
   {
    "duration": 11,
    "start_time": "2023-05-22T20:44:31.451Z"
   },
   {
    "duration": 26,
    "start_time": "2023-05-22T20:44:31.463Z"
   },
   {
    "duration": 31,
    "start_time": "2023-05-22T20:44:31.491Z"
   },
   {
    "duration": 106,
    "start_time": "2023-05-22T20:44:31.523Z"
   },
   {
    "duration": 4,
    "start_time": "2023-05-22T20:44:31.631Z"
   },
   {
    "duration": 24,
    "start_time": "2023-05-22T20:44:31.636Z"
   },
   {
    "duration": 21,
    "start_time": "2023-05-22T20:44:31.662Z"
   },
   {
    "duration": 56,
    "start_time": "2023-05-22T20:44:31.685Z"
   },
   {
    "duration": 3903,
    "start_time": "2023-05-22T20:44:31.743Z"
   },
   {
    "duration": 15,
    "start_time": "2023-05-22T20:44:35.647Z"
   },
   {
    "duration": 18,
    "start_time": "2023-05-22T20:44:35.664Z"
   },
   {
    "duration": 22,
    "start_time": "2023-05-22T20:44:35.684Z"
   },
   {
    "duration": 921,
    "start_time": "2023-05-22T20:44:35.708Z"
   },
   {
    "duration": 24514,
    "start_time": "2023-05-22T20:44:36.631Z"
   },
   {
    "duration": 0,
    "start_time": "2023-05-22T20:45:01.146Z"
   },
   {
    "duration": 0,
    "start_time": "2023-05-22T20:45:01.147Z"
   },
   {
    "duration": 0,
    "start_time": "2023-05-22T20:45:01.149Z"
   },
   {
    "duration": 0,
    "start_time": "2023-05-22T20:45:01.150Z"
   },
   {
    "duration": 0,
    "start_time": "2023-05-22T20:45:01.151Z"
   },
   {
    "duration": 0,
    "start_time": "2023-05-22T20:45:01.152Z"
   },
   {
    "duration": 25709,
    "start_time": "2023-05-22T20:46:05.224Z"
   },
   {
    "duration": 3,
    "start_time": "2023-05-22T20:47:20.273Z"
   },
   {
    "duration": 18,
    "start_time": "2023-05-22T20:47:20.696Z"
   },
   {
    "duration": 92,
    "start_time": "2023-05-22T20:47:21.143Z"
   },
   {
    "duration": 4,
    "start_time": "2023-05-22T20:47:21.577Z"
   },
   {
    "duration": 9,
    "start_time": "2023-05-22T20:47:21.965Z"
   },
   {
    "duration": 13,
    "start_time": "2023-05-22T20:47:22.410Z"
   },
   {
    "duration": 57,
    "start_time": "2023-05-22T20:47:23.371Z"
   },
   {
    "duration": 3845,
    "start_time": "2023-05-22T20:47:23.852Z"
   },
   {
    "duration": 11,
    "start_time": "2023-05-22T20:47:27.699Z"
   },
   {
    "duration": 14,
    "start_time": "2023-05-22T20:47:27.712Z"
   },
   {
    "duration": 17,
    "start_time": "2023-05-22T20:47:27.727Z"
   },
   {
    "duration": 921,
    "start_time": "2023-05-22T20:47:27.745Z"
   },
   {
    "duration": 27447,
    "start_time": "2023-05-22T20:47:28.668Z"
   },
   {
    "duration": 1450,
    "start_time": "2023-05-22T20:48:43.580Z"
   },
   {
    "duration": 2181,
    "start_time": "2023-05-22T20:48:45.032Z"
   },
   {
    "duration": 6,
    "start_time": "2023-05-22T20:48:47.219Z"
   },
   {
    "duration": 17,
    "start_time": "2023-05-22T20:48:47.227Z"
   },
   {
    "duration": 817,
    "start_time": "2023-05-22T20:48:47.246Z"
   },
   {
    "duration": 27,
    "start_time": "2023-05-22T20:48:48.064Z"
   },
   {
    "duration": 1089,
    "start_time": "2023-05-22T20:48:48.092Z"
   },
   {
    "duration": 41,
    "start_time": "2023-05-22T20:48:49.182Z"
   },
   {
    "duration": 490,
    "start_time": "2023-05-22T20:48:49.224Z"
   },
   {
    "duration": 21,
    "start_time": "2023-05-22T20:48:49.717Z"
   },
   {
    "duration": 7,
    "start_time": "2023-05-22T20:48:49.740Z"
   },
   {
    "duration": 6,
    "start_time": "2023-05-22T20:48:49.748Z"
   },
   {
    "duration": 8,
    "start_time": "2023-05-22T20:48:49.755Z"
   },
   {
    "duration": 12,
    "start_time": "2023-05-22T20:48:49.765Z"
   },
   {
    "duration": 12,
    "start_time": "2023-05-22T20:48:49.778Z"
   },
   {
    "duration": 37,
    "start_time": "2023-05-22T20:48:49.792Z"
   },
   {
    "duration": 1107,
    "start_time": "2023-05-22T20:48:49.830Z"
   },
   {
    "duration": 33,
    "start_time": "2023-05-22T20:48:50.938Z"
   },
   {
    "duration": 9493,
    "start_time": "2023-05-22T20:48:50.973Z"
   },
   {
    "duration": 81,
    "start_time": "2023-05-22T20:49:00.468Z"
   },
   {
    "duration": 102,
    "start_time": "2023-05-22T20:49:00.550Z"
   },
   {
    "duration": 1139,
    "start_time": "2023-05-22T20:49:00.653Z"
   },
   {
    "duration": 7094,
    "start_time": "2023-05-22T20:49:01.799Z"
   },
   {
    "duration": 32,
    "start_time": "2023-05-22T20:49:08.895Z"
   },
   {
    "duration": 8,
    "start_time": "2023-05-22T20:49:08.929Z"
   },
   {
    "duration": 29,
    "start_time": "2023-05-22T20:49:08.938Z"
   },
   {
    "duration": 115,
    "start_time": "2023-05-22T20:49:08.969Z"
   },
   {
    "duration": 11,
    "start_time": "2023-05-22T20:49:09.088Z"
   },
   {
    "duration": 36,
    "start_time": "2023-05-22T20:49:09.105Z"
   },
   {
    "duration": 521,
    "start_time": "2023-05-22T20:49:09.142Z"
   },
   {
    "duration": 12,
    "start_time": "2023-05-22T20:49:09.665Z"
   },
   {
    "duration": 21,
    "start_time": "2023-05-22T20:49:09.678Z"
   },
   {
    "duration": 34,
    "start_time": "2023-05-22T20:49:09.705Z"
   },
   {
    "duration": 115,
    "start_time": "2023-05-22T20:49:09.741Z"
   },
   {
    "duration": 4,
    "start_time": "2023-05-22T20:49:09.857Z"
   },
   {
    "duration": 28,
    "start_time": "2023-05-22T20:49:09.863Z"
   },
   {
    "duration": 24,
    "start_time": "2023-05-22T20:49:09.900Z"
   },
   {
    "duration": 117,
    "start_time": "2023-05-22T20:49:09.926Z"
   },
   {
    "duration": 4334,
    "start_time": "2023-05-22T20:49:10.045Z"
   },
   {
    "duration": 23,
    "start_time": "2023-05-22T20:49:14.381Z"
   },
   {
    "duration": 24,
    "start_time": "2023-05-22T20:49:14.408Z"
   },
   {
    "duration": 15,
    "start_time": "2023-05-22T20:49:14.435Z"
   },
   {
    "duration": 977,
    "start_time": "2023-05-22T20:49:14.452Z"
   },
   {
    "duration": 40715,
    "start_time": "2023-05-22T20:49:15.431Z"
   },
   {
    "duration": 0,
    "start_time": "2023-05-22T20:49:56.147Z"
   },
   {
    "duration": 0,
    "start_time": "2023-05-22T20:49:56.148Z"
   },
   {
    "duration": 0,
    "start_time": "2023-05-22T20:49:56.149Z"
   },
   {
    "duration": 0,
    "start_time": "2023-05-22T20:49:56.150Z"
   },
   {
    "duration": 0,
    "start_time": "2023-05-22T20:49:56.151Z"
   },
   {
    "duration": 0,
    "start_time": "2023-05-22T20:49:56.152Z"
   },
   {
    "duration": 0,
    "start_time": "2023-05-22T20:49:56.153Z"
   },
   {
    "duration": 0,
    "start_time": "2023-05-22T20:49:56.154Z"
   },
   {
    "duration": 0,
    "start_time": "2023-05-22T20:49:56.154Z"
   },
   {
    "duration": 0,
    "start_time": "2023-05-22T20:49:56.156Z"
   },
   {
    "duration": 0,
    "start_time": "2023-05-22T20:49:56.157Z"
   },
   {
    "duration": 0,
    "start_time": "2023-05-22T20:49:56.157Z"
   },
   {
    "duration": 0,
    "start_time": "2023-05-22T20:49:56.158Z"
   },
   {
    "duration": 0,
    "start_time": "2023-05-22T20:49:56.159Z"
   },
   {
    "duration": 0,
    "start_time": "2023-05-22T20:49:56.161Z"
   },
   {
    "duration": 0,
    "start_time": "2023-05-22T20:49:56.162Z"
   },
   {
    "duration": 1580,
    "start_time": "2023-05-22T20:50:16.450Z"
   },
   {
    "duration": 2124,
    "start_time": "2023-05-22T20:50:18.032Z"
   },
   {
    "duration": 6,
    "start_time": "2023-05-22T20:50:20.158Z"
   },
   {
    "duration": 11,
    "start_time": "2023-05-22T20:50:20.166Z"
   },
   {
    "duration": 838,
    "start_time": "2023-05-22T20:50:20.179Z"
   },
   {
    "duration": 30,
    "start_time": "2023-05-22T20:50:21.018Z"
   },
   {
    "duration": 1183,
    "start_time": "2023-05-22T20:50:21.049Z"
   },
   {
    "duration": 36,
    "start_time": "2023-05-22T20:50:22.233Z"
   },
   {
    "duration": 481,
    "start_time": "2023-05-22T20:50:22.270Z"
   },
   {
    "duration": 21,
    "start_time": "2023-05-22T20:50:22.753Z"
   },
   {
    "duration": 8,
    "start_time": "2023-05-22T20:50:22.776Z"
   },
   {
    "duration": 7,
    "start_time": "2023-05-22T20:50:22.785Z"
   },
   {
    "duration": 4,
    "start_time": "2023-05-22T20:50:22.800Z"
   },
   {
    "duration": 10,
    "start_time": "2023-05-22T20:50:22.810Z"
   },
   {
    "duration": 12,
    "start_time": "2023-05-22T20:50:22.821Z"
   },
   {
    "duration": 33,
    "start_time": "2023-05-22T20:50:22.835Z"
   },
   {
    "duration": 1119,
    "start_time": "2023-05-22T20:50:22.870Z"
   },
   {
    "duration": 40,
    "start_time": "2023-05-22T20:50:23.991Z"
   },
   {
    "duration": 9092,
    "start_time": "2023-05-22T20:50:24.033Z"
   },
   {
    "duration": 76,
    "start_time": "2023-05-22T20:50:33.127Z"
   },
   {
    "duration": 84,
    "start_time": "2023-05-22T20:50:33.205Z"
   },
   {
    "duration": 1002,
    "start_time": "2023-05-22T20:50:33.291Z"
   },
   {
    "duration": 6758,
    "start_time": "2023-05-22T20:50:34.299Z"
   },
   {
    "duration": 33,
    "start_time": "2023-05-22T20:50:41.059Z"
   },
   {
    "duration": 11,
    "start_time": "2023-05-22T20:50:41.093Z"
   },
   {
    "duration": 28,
    "start_time": "2023-05-22T20:50:41.106Z"
   },
   {
    "duration": 97,
    "start_time": "2023-05-22T20:50:41.136Z"
   },
   {
    "duration": 6,
    "start_time": "2023-05-22T20:50:41.236Z"
   },
   {
    "duration": 25,
    "start_time": "2023-05-22T20:50:41.244Z"
   },
   {
    "duration": 462,
    "start_time": "2023-05-22T20:50:41.271Z"
   },
   {
    "duration": 12,
    "start_time": "2023-05-22T20:50:41.734Z"
   },
   {
    "duration": 5,
    "start_time": "2023-05-22T20:50:41.748Z"
   },
   {
    "duration": 19,
    "start_time": "2023-05-22T20:50:41.754Z"
   },
   {
    "duration": 119,
    "start_time": "2023-05-22T20:50:41.774Z"
   },
   {
    "duration": 4,
    "start_time": "2023-05-22T20:50:41.895Z"
   },
   {
    "duration": 15,
    "start_time": "2023-05-22T20:50:41.900Z"
   },
   {
    "duration": 51,
    "start_time": "2023-05-22T20:50:41.916Z"
   },
   {
    "duration": 4065,
    "start_time": "2023-05-22T20:50:41.969Z"
   },
   {
    "duration": 15,
    "start_time": "2023-05-22T20:50:46.036Z"
   },
   {
    "duration": 30,
    "start_time": "2023-05-22T20:50:46.052Z"
   },
   {
    "duration": 23,
    "start_time": "2023-05-22T20:50:46.083Z"
   },
   {
    "duration": 777,
    "start_time": "2023-05-22T20:50:46.108Z"
   },
   {
    "duration": 24518,
    "start_time": "2023-05-22T20:50:46.887Z"
   },
   {
    "duration": 90,
    "start_time": "2023-05-22T20:51:11.408Z"
   },
   {
    "duration": 34838,
    "start_time": "2023-05-22T20:51:11.500Z"
   },
   {
    "duration": 5,
    "start_time": "2023-05-22T20:51:46.339Z"
   },
   {
    "duration": 158,
    "start_time": "2023-05-22T20:51:46.345Z"
   },
   {
    "duration": 5,
    "start_time": "2023-05-22T20:51:46.505Z"
   },
   {
    "duration": 1407,
    "start_time": "2023-05-22T20:54:45.533Z"
   },
   {
    "duration": 1967,
    "start_time": "2023-05-22T20:54:46.941Z"
   },
   {
    "duration": 6,
    "start_time": "2023-05-22T20:54:48.910Z"
   },
   {
    "duration": 12,
    "start_time": "2023-05-22T20:54:48.917Z"
   },
   {
    "duration": 767,
    "start_time": "2023-05-22T20:54:48.931Z"
   },
   {
    "duration": 24,
    "start_time": "2023-05-22T20:54:49.700Z"
   },
   {
    "duration": 1052,
    "start_time": "2023-05-22T20:54:49.725Z"
   },
   {
    "duration": 28,
    "start_time": "2023-05-22T20:54:50.779Z"
   },
   {
    "duration": 442,
    "start_time": "2023-05-22T20:54:50.808Z"
   },
   {
    "duration": 15,
    "start_time": "2023-05-22T20:54:51.251Z"
   },
   {
    "duration": 3,
    "start_time": "2023-05-22T20:54:51.268Z"
   },
   {
    "duration": 8,
    "start_time": "2023-05-22T20:54:51.273Z"
   },
   {
    "duration": 3,
    "start_time": "2023-05-22T20:54:51.298Z"
   },
   {
    "duration": 4,
    "start_time": "2023-05-22T20:54:51.555Z"
   },
   {
    "duration": 10,
    "start_time": "2023-05-22T20:54:52.035Z"
   },
   {
    "duration": 26,
    "start_time": "2023-05-22T20:54:52.591Z"
   },
   {
    "duration": 1062,
    "start_time": "2023-05-22T20:54:53.156Z"
   },
   {
    "duration": 31,
    "start_time": "2023-05-22T20:54:54.220Z"
   },
   {
    "duration": 9057,
    "start_time": "2023-05-22T20:54:54.886Z"
   },
   {
    "duration": 79,
    "start_time": "2023-05-22T20:55:03.945Z"
   },
   {
    "duration": 91,
    "start_time": "2023-05-22T20:55:04.025Z"
   },
   {
    "duration": 1222,
    "start_time": "2023-05-22T20:55:04.119Z"
   },
   {
    "duration": 6963,
    "start_time": "2023-05-22T20:55:05.343Z"
   },
   {
    "duration": 30,
    "start_time": "2023-05-22T20:55:12.308Z"
   },
   {
    "duration": 28,
    "start_time": "2023-05-22T20:55:12.340Z"
   },
   {
    "duration": 41,
    "start_time": "2023-05-22T20:55:12.370Z"
   },
   {
    "duration": 118,
    "start_time": "2023-05-22T20:55:12.413Z"
   },
   {
    "duration": 4,
    "start_time": "2023-05-22T20:55:12.535Z"
   },
   {
    "duration": 39,
    "start_time": "2023-05-22T20:55:12.541Z"
   },
   {
    "duration": 525,
    "start_time": "2023-05-22T20:55:12.582Z"
   },
   {
    "duration": 12,
    "start_time": "2023-05-22T20:55:13.109Z"
   },
   {
    "duration": 33,
    "start_time": "2023-05-22T20:55:13.123Z"
   },
   {
    "duration": 22,
    "start_time": "2023-05-22T20:55:13.158Z"
   },
   {
    "duration": 101,
    "start_time": "2023-05-22T20:55:13.181Z"
   },
   {
    "duration": 5,
    "start_time": "2023-05-22T20:55:13.284Z"
   },
   {
    "duration": 14,
    "start_time": "2023-05-22T20:55:13.290Z"
   },
   {
    "duration": 47,
    "start_time": "2023-05-22T20:55:13.305Z"
   },
   {
    "duration": 3943,
    "start_time": "2023-05-22T20:55:13.354Z"
   },
   {
    "duration": 14,
    "start_time": "2023-05-22T20:55:17.299Z"
   },
   {
    "duration": 14,
    "start_time": "2023-05-22T20:55:17.314Z"
   },
   {
    "duration": 13,
    "start_time": "2023-05-22T20:55:17.329Z"
   },
   {
    "duration": 777,
    "start_time": "2023-05-22T20:55:17.345Z"
   },
   {
    "duration": 24178,
    "start_time": "2023-05-22T20:55:18.124Z"
   },
   {
    "duration": 6,
    "start_time": "2023-05-22T20:55:42.304Z"
   },
   {
    "duration": 34967,
    "start_time": "2023-05-22T20:55:42.397Z"
   },
   {
    "duration": 4,
    "start_time": "2023-05-22T20:56:17.366Z"
   },
   {
    "duration": 15,
    "start_time": "2023-05-22T20:56:17.372Z"
   },
   {
    "duration": 192837,
    "start_time": "2023-05-22T20:56:17.388Z"
   },
   {
    "duration": 4,
    "start_time": "2023-05-22T20:59:30.227Z"
   },
   {
    "duration": 113,
    "start_time": "2023-05-22T20:59:52.525Z"
   },
   {
    "duration": 20,
    "start_time": "2023-05-22T21:01:08.114Z"
   },
   {
    "duration": 19,
    "start_time": "2023-05-22T21:02:39.186Z"
   },
   {
    "duration": 3,
    "start_time": "2023-05-22T21:06:07.435Z"
   },
   {
    "duration": 4,
    "start_time": "2023-05-22T21:06:21.478Z"
   },
   {
    "duration": 4,
    "start_time": "2023-05-22T21:06:27.797Z"
   },
   {
    "duration": 11,
    "start_time": "2023-05-22T21:07:10.085Z"
   },
   {
    "duration": 10,
    "start_time": "2023-05-22T21:07:41.833Z"
   },
   {
    "duration": 4,
    "start_time": "2023-05-22T21:08:01.568Z"
   },
   {
    "duration": 4,
    "start_time": "2023-05-22T21:08:09.737Z"
   },
   {
    "duration": 6,
    "start_time": "2023-05-22T21:10:05.303Z"
   },
   {
    "duration": 5,
    "start_time": "2023-05-22T21:10:13.342Z"
   },
   {
    "duration": 3,
    "start_time": "2023-05-22T21:10:14.851Z"
   },
   {
    "duration": 20,
    "start_time": "2023-05-22T21:11:52.789Z"
   },
   {
    "duration": 9,
    "start_time": "2023-05-22T21:12:33.748Z"
   },
   {
    "duration": 3,
    "start_time": "2023-05-22T21:15:02.327Z"
   },
   {
    "duration": 4,
    "start_time": "2023-05-22T21:15:02.761Z"
   },
   {
    "duration": 47384,
    "start_time": "2023-05-22T21:15:10.745Z"
   },
   {
    "duration": 282,
    "start_time": "2023-05-22T21:15:58.131Z"
   },
   {
    "duration": 5,
    "start_time": "2023-05-22T21:17:11.555Z"
   },
   {
    "duration": 11,
    "start_time": "2023-05-22T21:17:25.258Z"
   },
   {
    "duration": 10,
    "start_time": "2023-05-22T21:18:29.209Z"
   },
   {
    "duration": 15,
    "start_time": "2023-05-22T21:18:37.493Z"
   },
   {
    "duration": 12,
    "start_time": "2023-05-22T21:18:41.894Z"
   },
   {
    "duration": 103,
    "start_time": "2023-05-22T21:25:06.183Z"
   },
   {
    "duration": 137,
    "start_time": "2023-05-22T21:25:33.877Z"
   },
   {
    "duration": 139,
    "start_time": "2023-05-22T21:25:39.807Z"
   },
   {
    "duration": 137,
    "start_time": "2023-05-22T21:25:46.033Z"
   },
   {
    "duration": 4,
    "start_time": "2023-05-22T21:25:57.926Z"
   },
   {
    "duration": 1499,
    "start_time": "2023-05-22T21:27:58.686Z"
   },
   {
    "duration": 2235,
    "start_time": "2023-05-22T21:28:00.187Z"
   },
   {
    "duration": 6,
    "start_time": "2023-05-22T21:28:02.424Z"
   },
   {
    "duration": 38,
    "start_time": "2023-05-22T21:28:02.431Z"
   },
   {
    "duration": 868,
    "start_time": "2023-05-22T21:28:02.470Z"
   },
   {
    "duration": 24,
    "start_time": "2023-05-22T21:28:03.339Z"
   },
   {
    "duration": 1054,
    "start_time": "2023-05-22T21:28:03.365Z"
   },
   {
    "duration": 23,
    "start_time": "2023-05-22T21:28:04.420Z"
   },
   {
    "duration": 464,
    "start_time": "2023-05-22T21:28:04.445Z"
   },
   {
    "duration": 22,
    "start_time": "2023-05-22T21:28:04.912Z"
   },
   {
    "duration": 12,
    "start_time": "2023-05-22T21:28:04.936Z"
   },
   {
    "duration": 8,
    "start_time": "2023-05-22T21:28:04.950Z"
   },
   {
    "duration": 11,
    "start_time": "2023-05-22T21:28:04.959Z"
   },
   {
    "duration": 14,
    "start_time": "2023-05-22T21:28:04.971Z"
   },
   {
    "duration": 22,
    "start_time": "2023-05-22T21:28:04.986Z"
   },
   {
    "duration": 37,
    "start_time": "2023-05-22T21:28:05.010Z"
   },
   {
    "duration": 1088,
    "start_time": "2023-05-22T21:28:05.049Z"
   },
   {
    "duration": 33,
    "start_time": "2023-05-22T21:28:06.139Z"
   },
   {
    "duration": 9139,
    "start_time": "2023-05-22T21:28:06.174Z"
   },
   {
    "duration": 68,
    "start_time": "2023-05-22T21:28:15.314Z"
   },
   {
    "duration": 117,
    "start_time": "2023-05-22T21:28:15.383Z"
   },
   {
    "duration": 1080,
    "start_time": "2023-05-22T21:28:15.502Z"
   },
   {
    "duration": 6646,
    "start_time": "2023-05-22T21:28:16.583Z"
   },
   {
    "duration": 27,
    "start_time": "2023-05-22T21:28:23.231Z"
   },
   {
    "duration": 8,
    "start_time": "2023-05-22T21:28:23.260Z"
   },
   {
    "duration": 23,
    "start_time": "2023-05-22T21:28:23.269Z"
   },
   {
    "duration": 95,
    "start_time": "2023-05-22T21:28:23.294Z"
   },
   {
    "duration": 5,
    "start_time": "2023-05-22T21:28:23.399Z"
   },
   {
    "duration": 41,
    "start_time": "2023-05-22T21:28:23.405Z"
   },
   {
    "duration": 485,
    "start_time": "2023-05-22T21:28:23.448Z"
   },
   {
    "duration": 11,
    "start_time": "2023-05-22T21:28:23.935Z"
   },
   {
    "duration": 8,
    "start_time": "2023-05-22T21:28:23.948Z"
   },
   {
    "duration": 20,
    "start_time": "2023-05-22T21:28:23.957Z"
   },
   {
    "duration": 117,
    "start_time": "2023-05-22T21:28:23.978Z"
   },
   {
    "duration": 6,
    "start_time": "2023-05-22T21:28:24.105Z"
   },
   {
    "duration": 11,
    "start_time": "2023-05-22T21:28:24.113Z"
   },
   {
    "duration": 48,
    "start_time": "2023-05-22T21:28:24.126Z"
   },
   {
    "duration": 4586,
    "start_time": "2023-05-22T21:28:24.176Z"
   },
   {
    "duration": 14,
    "start_time": "2023-05-22T21:28:28.764Z"
   },
   {
    "duration": 35,
    "start_time": "2023-05-22T21:28:28.780Z"
   },
   {
    "duration": 13,
    "start_time": "2023-05-22T21:28:28.816Z"
   },
   {
    "duration": 784,
    "start_time": "2023-05-22T21:28:28.830Z"
   },
   {
    "duration": 33487,
    "start_time": "2023-05-22T21:28:29.616Z"
   },
   {
    "duration": 208,
    "start_time": "2023-05-22T21:29:03.105Z"
   },
   {
    "duration": 84,
    "start_time": "2023-05-22T21:29:03.314Z"
   },
   {
    "duration": 35634,
    "start_time": "2023-05-22T21:29:03.401Z"
   },
   {
    "duration": 4,
    "start_time": "2023-05-22T21:29:39.037Z"
   },
   {
    "duration": 6,
    "start_time": "2023-05-22T21:29:39.043Z"
   },
   {
    "duration": 160,
    "start_time": "2023-05-22T21:29:39.051Z"
   },
   {
    "duration": 4,
    "start_time": "2023-05-22T21:29:39.213Z"
   },
   {
    "duration": 1757,
    "start_time": "2023-05-23T06:21:23.930Z"
   },
   {
    "duration": 2783,
    "start_time": "2023-05-23T06:21:25.689Z"
   },
   {
    "duration": 7,
    "start_time": "2023-05-23T06:21:28.474Z"
   },
   {
    "duration": 8,
    "start_time": "2023-05-23T06:21:28.483Z"
   },
   {
    "duration": 2767,
    "start_time": "2023-05-23T06:21:28.493Z"
   },
   {
    "duration": 28,
    "start_time": "2023-05-23T06:21:31.262Z"
   },
   {
    "duration": 1087,
    "start_time": "2023-05-23T06:21:31.292Z"
   },
   {
    "duration": 21,
    "start_time": "2023-05-23T06:21:32.381Z"
   },
   {
    "duration": 473,
    "start_time": "2023-05-23T06:21:32.404Z"
   },
   {
    "duration": 24,
    "start_time": "2023-05-23T06:21:32.879Z"
   },
   {
    "duration": 6,
    "start_time": "2023-05-23T06:21:32.905Z"
   },
   {
    "duration": 7,
    "start_time": "2023-05-23T06:21:32.912Z"
   },
   {
    "duration": 4,
    "start_time": "2023-05-23T06:21:32.920Z"
   },
   {
    "duration": 6,
    "start_time": "2023-05-23T06:21:32.926Z"
   },
   {
    "duration": 12,
    "start_time": "2023-05-23T06:21:32.950Z"
   },
   {
    "duration": 32,
    "start_time": "2023-05-23T06:21:32.963Z"
   },
   {
    "duration": 1038,
    "start_time": "2023-05-23T06:21:32.997Z"
   },
   {
    "duration": 41,
    "start_time": "2023-05-23T06:21:34.038Z"
   },
   {
    "duration": 9339,
    "start_time": "2023-05-23T06:21:34.082Z"
   },
   {
    "duration": 70,
    "start_time": "2023-05-23T06:21:43.423Z"
   },
   {
    "duration": 83,
    "start_time": "2023-05-23T06:21:43.495Z"
   },
   {
    "duration": 1054,
    "start_time": "2023-05-23T06:21:43.580Z"
   },
   {
    "duration": 6572,
    "start_time": "2023-05-23T06:21:44.636Z"
   },
   {
    "duration": 29,
    "start_time": "2023-05-23T06:21:51.210Z"
   },
   {
    "duration": 9,
    "start_time": "2023-05-23T06:21:51.241Z"
   },
   {
    "duration": 31,
    "start_time": "2023-05-23T06:21:51.252Z"
   },
   {
    "duration": 107,
    "start_time": "2023-05-23T06:21:51.285Z"
   },
   {
    "duration": 4,
    "start_time": "2023-05-23T06:21:51.396Z"
   },
   {
    "duration": 26,
    "start_time": "2023-05-23T06:21:51.402Z"
   },
   {
    "duration": 496,
    "start_time": "2023-05-23T06:21:51.430Z"
   },
   {
    "duration": 12,
    "start_time": "2023-05-23T06:21:51.927Z"
   },
   {
    "duration": 12,
    "start_time": "2023-05-23T06:21:51.950Z"
   },
   {
    "duration": 27,
    "start_time": "2023-05-23T06:21:51.964Z"
   },
   {
    "duration": 70,
    "start_time": "2023-05-23T06:21:51.992Z"
   },
   {
    "duration": 4,
    "start_time": "2023-05-23T06:21:52.063Z"
   },
   {
    "duration": 29,
    "start_time": "2023-05-23T06:21:52.068Z"
   },
   {
    "duration": 58,
    "start_time": "2023-05-23T06:21:52.098Z"
   },
   {
    "duration": 4067,
    "start_time": "2023-05-23T06:21:52.158Z"
   },
   {
    "duration": 15,
    "start_time": "2023-05-23T06:21:56.227Z"
   },
   {
    "duration": 17,
    "start_time": "2023-05-23T06:21:56.250Z"
   },
   {
    "duration": 765,
    "start_time": "2023-05-23T06:21:56.269Z"
   },
   {
    "duration": 23520,
    "start_time": "2023-05-23T06:21:57.036Z"
   },
   {
    "duration": 449,
    "start_time": "2023-05-23T06:22:20.557Z"
   },
   {
    "duration": 3,
    "start_time": "2023-05-23T06:22:21.008Z"
   },
   {
    "duration": 33,
    "start_time": "2023-05-23T06:22:21.013Z"
   },
   {
    "duration": 0,
    "start_time": "2023-05-23T06:22:21.047Z"
   },
   {
    "duration": 0,
    "start_time": "2023-05-23T06:22:21.048Z"
   },
   {
    "duration": 0,
    "start_time": "2023-05-23T06:22:21.049Z"
   },
   {
    "duration": 0,
    "start_time": "2023-05-23T06:22:21.051Z"
   },
   {
    "duration": 0,
    "start_time": "2023-05-23T06:22:21.052Z"
   },
   {
    "duration": 0,
    "start_time": "2023-05-23T06:22:21.053Z"
   },
   {
    "duration": 0,
    "start_time": "2023-05-23T06:22:21.054Z"
   },
   {
    "duration": 0,
    "start_time": "2023-05-23T06:22:21.056Z"
   },
   {
    "duration": 0,
    "start_time": "2023-05-23T06:22:21.057Z"
   },
   {
    "duration": 0,
    "start_time": "2023-05-23T06:22:21.059Z"
   },
   {
    "duration": 0,
    "start_time": "2023-05-23T06:22:21.060Z"
   },
   {
    "duration": 0,
    "start_time": "2023-05-23T06:22:21.061Z"
   },
   {
    "duration": 0,
    "start_time": "2023-05-23T06:22:21.062Z"
   },
   {
    "duration": 0,
    "start_time": "2023-05-23T06:22:21.063Z"
   },
   {
    "duration": 0,
    "start_time": "2023-05-23T06:22:21.064Z"
   },
   {
    "duration": 0,
    "start_time": "2023-05-23T06:22:21.065Z"
   },
   {
    "duration": 284,
    "start_time": "2023-05-23T06:22:35.771Z"
   },
   {
    "duration": 124,
    "start_time": "2023-05-23T06:22:44.151Z"
   },
   {
    "duration": 179,
    "start_time": "2023-05-23T06:22:56.872Z"
   },
   {
    "duration": 3,
    "start_time": "2023-05-23T06:22:59.252Z"
   },
   {
    "duration": 27,
    "start_time": "2023-05-23T06:22:59.504Z"
   },
   {
    "duration": 10,
    "start_time": "2023-05-23T06:22:59.743Z"
   },
   {
    "duration": 3,
    "start_time": "2023-05-23T06:23:18.312Z"
   },
   {
    "duration": 30,
    "start_time": "2023-05-23T06:23:18.875Z"
   },
   {
    "duration": 11,
    "start_time": "2023-05-23T06:25:47.972Z"
   },
   {
    "duration": 4,
    "start_time": "2023-05-23T06:25:58.517Z"
   },
   {
    "duration": 4,
    "start_time": "2023-05-23T06:26:02.788Z"
   },
   {
    "duration": 31,
    "start_time": "2023-05-23T06:26:02.971Z"
   },
   {
    "duration": 4,
    "start_time": "2023-05-23T06:26:33.045Z"
   },
   {
    "duration": 30,
    "start_time": "2023-05-23T06:26:33.230Z"
   },
   {
    "duration": 4,
    "start_time": "2023-05-23T06:26:36.571Z"
   },
   {
    "duration": 25,
    "start_time": "2023-05-23T06:26:36.938Z"
   },
   {
    "duration": 4,
    "start_time": "2023-05-23T06:28:24.805Z"
   },
   {
    "duration": 26,
    "start_time": "2023-05-23T06:28:25.345Z"
   },
   {
    "duration": 4,
    "start_time": "2023-05-23T06:29:27.275Z"
   },
   {
    "duration": 32,
    "start_time": "2023-05-23T06:29:28.009Z"
   },
   {
    "duration": 3,
    "start_time": "2023-05-23T06:29:40.424Z"
   },
   {
    "duration": 1555,
    "start_time": "2023-05-23T06:38:00.196Z"
   },
   {
    "duration": 1964,
    "start_time": "2023-05-23T06:38:01.754Z"
   },
   {
    "duration": 6,
    "start_time": "2023-05-23T06:38:03.720Z"
   },
   {
    "duration": 9,
    "start_time": "2023-05-23T06:38:03.728Z"
   },
   {
    "duration": 817,
    "start_time": "2023-05-23T06:38:03.738Z"
   },
   {
    "duration": 26,
    "start_time": "2023-05-23T06:38:04.557Z"
   },
   {
    "duration": 956,
    "start_time": "2023-05-23T06:38:04.584Z"
   },
   {
    "duration": 25,
    "start_time": "2023-05-23T06:38:05.542Z"
   },
   {
    "duration": 436,
    "start_time": "2023-05-23T06:38:05.568Z"
   },
   {
    "duration": 15,
    "start_time": "2023-05-23T06:38:06.006Z"
   },
   {
    "duration": 4,
    "start_time": "2023-05-23T06:38:06.023Z"
   },
   {
    "duration": 22,
    "start_time": "2023-05-23T06:38:06.028Z"
   },
   {
    "duration": 3,
    "start_time": "2023-05-23T06:38:06.052Z"
   },
   {
    "duration": 13,
    "start_time": "2023-05-23T06:38:06.056Z"
   },
   {
    "duration": 17,
    "start_time": "2023-05-23T06:38:06.071Z"
   },
   {
    "duration": 31,
    "start_time": "2023-05-23T06:38:06.089Z"
   },
   {
    "duration": 1133,
    "start_time": "2023-05-23T06:38:06.122Z"
   },
   {
    "duration": 34,
    "start_time": "2023-05-23T06:38:07.257Z"
   },
   {
    "duration": 9731,
    "start_time": "2023-05-23T06:38:07.293Z"
   },
   {
    "duration": 77,
    "start_time": "2023-05-23T06:38:17.026Z"
   },
   {
    "duration": 102,
    "start_time": "2023-05-23T06:38:17.105Z"
   },
   {
    "duration": 1020,
    "start_time": "2023-05-23T06:38:17.209Z"
   },
   {
    "duration": 6553,
    "start_time": "2023-05-23T06:38:18.231Z"
   },
   {
    "duration": 27,
    "start_time": "2023-05-23T06:38:24.785Z"
   },
   {
    "duration": 8,
    "start_time": "2023-05-23T06:38:24.814Z"
   },
   {
    "duration": 31,
    "start_time": "2023-05-23T06:38:24.823Z"
   },
   {
    "duration": 84,
    "start_time": "2023-05-23T06:38:24.856Z"
   },
   {
    "duration": 4,
    "start_time": "2023-05-23T06:38:24.951Z"
   },
   {
    "duration": 34,
    "start_time": "2023-05-23T06:38:24.957Z"
   },
   {
    "duration": 490,
    "start_time": "2023-05-23T06:38:24.993Z"
   },
   {
    "duration": 11,
    "start_time": "2023-05-23T06:38:25.484Z"
   },
   {
    "duration": 4,
    "start_time": "2023-05-23T06:38:25.496Z"
   },
   {
    "duration": 16,
    "start_time": "2023-05-23T06:38:25.501Z"
   },
   {
    "duration": 86,
    "start_time": "2023-05-23T06:38:25.518Z"
   },
   {
    "duration": 4,
    "start_time": "2023-05-23T06:38:25.606Z"
   },
   {
    "duration": 11,
    "start_time": "2023-05-23T06:38:25.612Z"
   },
   {
    "duration": 70,
    "start_time": "2023-05-23T06:38:25.624Z"
   },
   {
    "duration": 3938,
    "start_time": "2023-05-23T06:38:25.696Z"
   },
   {
    "duration": 20,
    "start_time": "2023-05-23T06:38:29.635Z"
   },
   {
    "duration": 14,
    "start_time": "2023-05-23T06:38:29.656Z"
   },
   {
    "duration": 761,
    "start_time": "2023-05-23T06:38:29.671Z"
   },
   {
    "duration": 20824,
    "start_time": "2023-05-23T06:38:30.434Z"
   },
   {
    "duration": 290,
    "start_time": "2023-05-23T06:38:51.260Z"
   },
   {
    "duration": 5,
    "start_time": "2023-05-23T06:38:51.552Z"
   },
   {
    "duration": 46296,
    "start_time": "2023-05-23T06:38:51.559Z"
   },
   {
    "duration": 5,
    "start_time": "2023-05-23T06:39:37.858Z"
   },
   {
    "duration": 4,
    "start_time": "2023-05-23T06:39:37.864Z"
   },
   {
    "duration": 140,
    "start_time": "2023-05-23T06:39:37.869Z"
   },
   {
    "duration": 0,
    "start_time": "2023-05-23T06:39:38.012Z"
   },
   {
    "duration": 0,
    "start_time": "2023-05-23T06:39:38.013Z"
   },
   {
    "duration": 0,
    "start_time": "2023-05-23T06:39:38.015Z"
   },
   {
    "duration": 0,
    "start_time": "2023-05-23T06:39:38.017Z"
   },
   {
    "duration": 0,
    "start_time": "2023-05-23T06:39:38.019Z"
   },
   {
    "duration": 0,
    "start_time": "2023-05-23T06:39:38.020Z"
   },
   {
    "duration": 0,
    "start_time": "2023-05-23T06:39:38.022Z"
   },
   {
    "duration": 0,
    "start_time": "2023-05-23T06:39:38.024Z"
   },
   {
    "duration": 0,
    "start_time": "2023-05-23T06:39:38.025Z"
   },
   {
    "duration": 0,
    "start_time": "2023-05-23T06:39:38.027Z"
   },
   {
    "duration": 0,
    "start_time": "2023-05-23T06:39:38.050Z"
   },
   {
    "duration": 0,
    "start_time": "2023-05-23T06:39:38.051Z"
   },
   {
    "duration": 0,
    "start_time": "2023-05-23T06:39:38.053Z"
   },
   {
    "duration": 117,
    "start_time": "2023-05-23T06:39:57.997Z"
   },
   {
    "duration": 4,
    "start_time": "2023-05-23T06:39:58.815Z"
   },
   {
    "duration": 183814,
    "start_time": "2023-05-23T06:40:04.148Z"
   },
   {
    "duration": 4,
    "start_time": "2023-05-23T06:43:08.051Z"
   },
   {
    "duration": 5,
    "start_time": "2023-05-23T06:43:08.057Z"
   },
   {
    "duration": 7,
    "start_time": "2023-05-23T06:43:08.064Z"
   },
   {
    "duration": 230525,
    "start_time": "2023-05-23T06:43:08.073Z"
   },
   {
    "duration": 4,
    "start_time": "2023-05-23T06:46:58.600Z"
   },
   {
    "duration": 5,
    "start_time": "2023-05-23T06:46:58.606Z"
   },
   {
    "duration": 12,
    "start_time": "2023-05-23T06:46:58.612Z"
   },
   {
    "duration": 0,
    "start_time": "2023-05-23T06:46:58.625Z"
   },
   {
    "duration": 0,
    "start_time": "2023-05-23T06:46:58.626Z"
   },
   {
    "duration": 0,
    "start_time": "2023-05-23T06:46:58.627Z"
   },
   {
    "duration": 0,
    "start_time": "2023-05-23T06:46:58.629Z"
   },
   {
    "duration": 3,
    "start_time": "2023-05-23T06:49:28.666Z"
   },
   {
    "duration": 1544,
    "start_time": "2023-05-23T07:03:43.913Z"
   },
   {
    "duration": 2055,
    "start_time": "2023-05-23T07:03:45.459Z"
   },
   {
    "duration": 6,
    "start_time": "2023-05-23T07:03:47.516Z"
   },
   {
    "duration": 8,
    "start_time": "2023-05-23T07:03:47.524Z"
   },
   {
    "duration": 787,
    "start_time": "2023-05-23T07:03:47.534Z"
   },
   {
    "duration": 33,
    "start_time": "2023-05-23T07:03:48.323Z"
   },
   {
    "duration": 981,
    "start_time": "2023-05-23T07:03:48.358Z"
   },
   {
    "duration": 27,
    "start_time": "2023-05-23T07:03:49.341Z"
   },
   {
    "duration": 455,
    "start_time": "2023-05-23T07:03:49.369Z"
   },
   {
    "duration": 32,
    "start_time": "2023-05-23T07:03:49.825Z"
   },
   {
    "duration": 5,
    "start_time": "2023-05-23T07:03:49.859Z"
   },
   {
    "duration": 4,
    "start_time": "2023-05-23T07:03:49.866Z"
   },
   {
    "duration": 5,
    "start_time": "2023-05-23T07:03:49.871Z"
   },
   {
    "duration": 5,
    "start_time": "2023-05-23T07:03:49.879Z"
   },
   {
    "duration": 15,
    "start_time": "2023-05-23T07:03:49.885Z"
   },
   {
    "duration": 57,
    "start_time": "2023-05-23T07:03:49.901Z"
   },
   {
    "duration": 1083,
    "start_time": "2023-05-23T07:03:49.960Z"
   },
   {
    "duration": 32,
    "start_time": "2023-05-23T07:03:51.050Z"
   },
   {
    "duration": 9417,
    "start_time": "2023-05-23T07:03:51.084Z"
   },
   {
    "duration": 75,
    "start_time": "2023-05-23T07:04:00.502Z"
   },
   {
    "duration": 89,
    "start_time": "2023-05-23T07:04:00.579Z"
   },
   {
    "duration": 1073,
    "start_time": "2023-05-23T07:04:00.670Z"
   },
   {
    "duration": 6746,
    "start_time": "2023-05-23T07:04:01.749Z"
   },
   {
    "duration": 31,
    "start_time": "2023-05-23T07:04:08.497Z"
   },
   {
    "duration": 8,
    "start_time": "2023-05-23T07:04:08.530Z"
   },
   {
    "duration": 23,
    "start_time": "2023-05-23T07:04:08.539Z"
   },
   {
    "duration": 106,
    "start_time": "2023-05-23T07:04:08.564Z"
   },
   {
    "duration": 4,
    "start_time": "2023-05-23T07:04:08.672Z"
   },
   {
    "duration": 24,
    "start_time": "2023-05-23T07:04:08.678Z"
   },
   {
    "duration": 501,
    "start_time": "2023-05-23T07:04:08.704Z"
   },
   {
    "duration": 12,
    "start_time": "2023-05-23T07:04:09.207Z"
   },
   {
    "duration": 4,
    "start_time": "2023-05-23T07:04:09.220Z"
   },
   {
    "duration": 25,
    "start_time": "2023-05-23T07:04:09.225Z"
   },
   {
    "duration": 120,
    "start_time": "2023-05-23T07:04:09.252Z"
   },
   {
    "duration": 3,
    "start_time": "2023-05-23T07:04:09.374Z"
   },
   {
    "duration": 13,
    "start_time": "2023-05-23T07:04:09.379Z"
   },
   {
    "duration": 76,
    "start_time": "2023-05-23T07:04:09.393Z"
   },
   {
    "duration": 4174,
    "start_time": "2023-05-23T07:04:09.471Z"
   },
   {
    "duration": 14,
    "start_time": "2023-05-23T07:04:13.647Z"
   },
   {
    "duration": 15,
    "start_time": "2023-05-23T07:04:13.663Z"
   },
   {
    "duration": 759,
    "start_time": "2023-05-23T07:04:13.681Z"
   },
   {
    "duration": 22614,
    "start_time": "2023-05-23T07:04:14.442Z"
   },
   {
    "duration": 292,
    "start_time": "2023-05-23T07:04:37.058Z"
   },
   {
    "duration": 6,
    "start_time": "2023-05-23T07:04:37.353Z"
   },
   {
    "duration": 46502,
    "start_time": "2023-05-23T07:04:37.449Z"
   },
   {
    "duration": 4,
    "start_time": "2023-05-23T07:05:23.953Z"
   },
   {
    "duration": 15,
    "start_time": "2023-05-23T07:05:23.959Z"
   },
   {
    "duration": 164,
    "start_time": "2023-05-23T07:05:23.976Z"
   },
   {
    "duration": 15,
    "start_time": "2023-05-23T07:05:24.142Z"
   },
   {
    "duration": 173995,
    "start_time": "2023-05-23T07:05:24.159Z"
   },
   {
    "duration": 5,
    "start_time": "2023-05-23T07:08:18.155Z"
   },
   {
    "duration": 10,
    "start_time": "2023-05-23T07:08:18.161Z"
   },
   {
    "duration": 22,
    "start_time": "2023-05-23T07:08:18.172Z"
   },
   {
    "duration": 240272,
    "start_time": "2023-05-23T07:08:18.196Z"
   },
   {
    "duration": 5,
    "start_time": "2023-05-23T07:12:18.470Z"
   },
   {
    "duration": 10,
    "start_time": "2023-05-23T07:12:18.477Z"
   },
   {
    "duration": 7,
    "start_time": "2023-05-23T07:12:18.489Z"
   },
   {
    "duration": 1648,
    "start_time": "2023-05-23T08:19:27.634Z"
   },
   {
    "duration": 2136,
    "start_time": "2023-05-23T08:19:29.285Z"
   },
   {
    "duration": 10,
    "start_time": "2023-05-23T08:19:31.424Z"
   },
   {
    "duration": 43,
    "start_time": "2023-05-23T08:19:31.437Z"
   },
   {
    "duration": 959,
    "start_time": "2023-05-23T08:19:31.482Z"
   },
   {
    "duration": 37,
    "start_time": "2023-05-23T08:19:32.443Z"
   },
   {
    "duration": 1114,
    "start_time": "2023-05-23T08:19:32.482Z"
   },
   {
    "duration": 23,
    "start_time": "2023-05-23T08:19:33.597Z"
   },
   {
    "duration": 516,
    "start_time": "2023-05-23T08:19:33.622Z"
   },
   {
    "duration": 27,
    "start_time": "2023-05-23T08:19:34.149Z"
   },
   {
    "duration": 8,
    "start_time": "2023-05-23T08:19:34.178Z"
   },
   {
    "duration": 13,
    "start_time": "2023-05-23T08:19:34.188Z"
   },
   {
    "duration": 5,
    "start_time": "2023-05-23T08:19:34.205Z"
   },
   {
    "duration": 9,
    "start_time": "2023-05-23T08:19:34.212Z"
   },
   {
    "duration": 34,
    "start_time": "2023-05-23T08:19:34.222Z"
   },
   {
    "duration": 58,
    "start_time": "2023-05-23T08:19:34.258Z"
   },
   {
    "duration": 1216,
    "start_time": "2023-05-23T08:19:34.318Z"
   },
   {
    "duration": 41,
    "start_time": "2023-05-23T08:19:35.536Z"
   },
   {
    "duration": 10488,
    "start_time": "2023-05-23T08:19:35.579Z"
   },
   {
    "duration": 72,
    "start_time": "2023-05-23T08:19:46.069Z"
   },
   {
    "duration": 86,
    "start_time": "2023-05-23T08:19:46.150Z"
   },
   {
    "duration": 1117,
    "start_time": "2023-05-23T08:19:46.237Z"
   },
   {
    "duration": 6987,
    "start_time": "2023-05-23T08:19:47.357Z"
   },
   {
    "duration": 45,
    "start_time": "2023-05-23T08:19:54.346Z"
   },
   {
    "duration": 9,
    "start_time": "2023-05-23T08:19:54.393Z"
   },
   {
    "duration": 25,
    "start_time": "2023-05-23T08:19:54.403Z"
   },
   {
    "duration": 111,
    "start_time": "2023-05-23T08:19:54.430Z"
   },
   {
    "duration": 5,
    "start_time": "2023-05-23T08:19:54.549Z"
   },
   {
    "duration": 28,
    "start_time": "2023-05-23T08:19:54.555Z"
   },
   {
    "duration": 523,
    "start_time": "2023-05-23T08:19:54.585Z"
   },
   {
    "duration": 13,
    "start_time": "2023-05-23T08:19:55.109Z"
   },
   {
    "duration": 25,
    "start_time": "2023-05-23T08:19:55.124Z"
   },
   {
    "duration": 18,
    "start_time": "2023-05-23T08:19:55.151Z"
   },
   {
    "duration": 93,
    "start_time": "2023-05-23T08:19:55.172Z"
   },
   {
    "duration": 5,
    "start_time": "2023-05-23T08:19:55.267Z"
   },
   {
    "duration": 14,
    "start_time": "2023-05-23T08:19:55.274Z"
   },
   {
    "duration": 101,
    "start_time": "2023-05-23T08:19:55.290Z"
   },
   {
    "duration": 5198,
    "start_time": "2023-05-23T08:19:55.393Z"
   },
   {
    "duration": 18,
    "start_time": "2023-05-23T08:20:00.593Z"
   },
   {
    "duration": 52,
    "start_time": "2023-05-23T08:20:00.613Z"
   },
   {
    "duration": 812,
    "start_time": "2023-05-23T08:20:00.668Z"
   },
   {
    "duration": 28869,
    "start_time": "2023-05-23T08:20:01.483Z"
   },
   {
    "duration": 202,
    "start_time": "2023-05-23T08:20:30.354Z"
   },
   {
    "duration": 92,
    "start_time": "2023-05-23T08:20:30.558Z"
   },
   {
    "duration": 47977,
    "start_time": "2023-05-23T08:20:30.652Z"
   },
   {
    "duration": 4,
    "start_time": "2023-05-23T08:21:18.632Z"
   },
   {
    "duration": 12,
    "start_time": "2023-05-23T08:21:18.638Z"
   },
   {
    "duration": 171,
    "start_time": "2023-05-23T08:21:18.652Z"
   },
   {
    "duration": 4,
    "start_time": "2023-05-23T08:21:18.825Z"
   },
   {
    "duration": 1628,
    "start_time": "2023-05-23T08:23:06.880Z"
   },
   {
    "duration": 2089,
    "start_time": "2023-05-23T08:23:08.510Z"
   },
   {
    "duration": 7,
    "start_time": "2023-05-23T08:23:10.600Z"
   },
   {
    "duration": 8,
    "start_time": "2023-05-23T08:23:10.609Z"
   },
   {
    "duration": 824,
    "start_time": "2023-05-23T08:23:10.618Z"
   },
   {
    "duration": 30,
    "start_time": "2023-05-23T08:23:11.443Z"
   },
   {
    "duration": 1061,
    "start_time": "2023-05-23T08:23:11.475Z"
   },
   {
    "duration": 25,
    "start_time": "2023-05-23T08:23:12.538Z"
   },
   {
    "duration": 503,
    "start_time": "2023-05-23T08:23:12.565Z"
   },
   {
    "duration": 17,
    "start_time": "2023-05-23T08:23:13.071Z"
   },
   {
    "duration": 4,
    "start_time": "2023-05-23T08:23:13.090Z"
   },
   {
    "duration": 7,
    "start_time": "2023-05-23T08:23:13.096Z"
   },
   {
    "duration": 4,
    "start_time": "2023-05-23T08:23:13.105Z"
   },
   {
    "duration": 40,
    "start_time": "2023-05-23T08:23:13.111Z"
   },
   {
    "duration": 11,
    "start_time": "2023-05-23T08:23:13.152Z"
   },
   {
    "duration": 26,
    "start_time": "2023-05-23T08:23:13.165Z"
   },
   {
    "duration": 1248,
    "start_time": "2023-05-23T08:23:13.193Z"
   },
   {
    "duration": 35,
    "start_time": "2023-05-23T08:23:14.450Z"
   },
   {
    "duration": 9853,
    "start_time": "2023-05-23T08:23:14.487Z"
   },
   {
    "duration": 86,
    "start_time": "2023-05-23T08:23:24.342Z"
   },
   {
    "duration": 118,
    "start_time": "2023-05-23T08:23:24.430Z"
   },
   {
    "duration": 1000,
    "start_time": "2023-05-23T08:23:24.550Z"
   },
   {
    "duration": 6836,
    "start_time": "2023-05-23T08:23:25.552Z"
   },
   {
    "duration": 31,
    "start_time": "2023-05-23T08:23:32.390Z"
   },
   {
    "duration": 10,
    "start_time": "2023-05-23T08:23:32.423Z"
   },
   {
    "duration": 44,
    "start_time": "2023-05-23T08:23:32.435Z"
   },
   {
    "duration": 122,
    "start_time": "2023-05-23T08:23:32.482Z"
   },
   {
    "duration": 6,
    "start_time": "2023-05-23T08:23:32.608Z"
   },
   {
    "duration": 41,
    "start_time": "2023-05-23T08:23:32.615Z"
   },
   {
    "duration": 531,
    "start_time": "2023-05-23T08:23:32.658Z"
   },
   {
    "duration": 11,
    "start_time": "2023-05-23T08:23:33.192Z"
   },
   {
    "duration": 5,
    "start_time": "2023-05-23T08:23:33.205Z"
   },
   {
    "duration": 19,
    "start_time": "2023-05-23T08:23:33.212Z"
   },
   {
    "duration": 77,
    "start_time": "2023-05-23T08:23:33.249Z"
   },
   {
    "duration": 4,
    "start_time": "2023-05-23T08:23:33.328Z"
   },
   {
    "duration": 34,
    "start_time": "2023-05-23T08:23:33.334Z"
   },
   {
    "duration": 59,
    "start_time": "2023-05-23T08:23:33.370Z"
   },
   {
    "duration": 4915,
    "start_time": "2023-05-23T08:23:33.431Z"
   },
   {
    "duration": 16,
    "start_time": "2023-05-23T08:23:38.349Z"
   },
   {
    "duration": 18,
    "start_time": "2023-05-23T08:23:38.366Z"
   },
   {
    "duration": 794,
    "start_time": "2023-05-23T08:23:38.386Z"
   },
   {
    "duration": 30077,
    "start_time": "2023-05-23T08:23:39.182Z"
   },
   {
    "duration": 204,
    "start_time": "2023-05-23T08:24:09.349Z"
   },
   {
    "duration": 95,
    "start_time": "2023-05-23T08:24:09.555Z"
   },
   {
    "duration": 47489,
    "start_time": "2023-05-23T08:24:09.652Z"
   },
   {
    "duration": 4,
    "start_time": "2023-05-23T08:24:57.143Z"
   },
   {
    "duration": 12,
    "start_time": "2023-05-23T08:24:57.150Z"
   },
   {
    "duration": 162,
    "start_time": "2023-05-23T08:24:57.164Z"
   },
   {
    "duration": 4,
    "start_time": "2023-05-23T08:24:57.328Z"
   },
   {
    "duration": 1635,
    "start_time": "2023-05-23T08:28:05.611Z"
   },
   {
    "duration": 2228,
    "start_time": "2023-05-23T08:28:07.248Z"
   },
   {
    "duration": 6,
    "start_time": "2023-05-23T08:28:09.478Z"
   },
   {
    "duration": 6,
    "start_time": "2023-05-23T08:28:09.486Z"
   },
   {
    "duration": 883,
    "start_time": "2023-05-23T08:28:09.493Z"
   },
   {
    "duration": 30,
    "start_time": "2023-05-23T08:28:10.378Z"
   },
   {
    "duration": 1108,
    "start_time": "2023-05-23T08:28:10.409Z"
   },
   {
    "duration": 43,
    "start_time": "2023-05-23T08:28:11.519Z"
   },
   {
    "duration": 513,
    "start_time": "2023-05-23T08:28:11.564Z"
   },
   {
    "duration": 25,
    "start_time": "2023-05-23T08:28:12.080Z"
   },
   {
    "duration": 22,
    "start_time": "2023-05-23T08:28:12.107Z"
   },
   {
    "duration": 4,
    "start_time": "2023-05-23T08:28:12.131Z"
   },
   {
    "duration": 31,
    "start_time": "2023-05-23T08:28:12.136Z"
   },
   {
    "duration": 19,
    "start_time": "2023-05-23T08:28:12.168Z"
   },
   {
    "duration": 18,
    "start_time": "2023-05-23T08:28:12.189Z"
   },
   {
    "duration": 39,
    "start_time": "2023-05-23T08:28:12.209Z"
   },
   {
    "duration": 1309,
    "start_time": "2023-05-23T08:28:12.259Z"
   },
   {
    "duration": 42,
    "start_time": "2023-05-23T08:28:13.570Z"
   },
   {
    "duration": 10378,
    "start_time": "2023-05-23T08:28:13.614Z"
   },
   {
    "duration": 83,
    "start_time": "2023-05-23T08:28:23.995Z"
   },
   {
    "duration": 130,
    "start_time": "2023-05-23T08:28:24.080Z"
   },
   {
    "duration": 1230,
    "start_time": "2023-05-23T08:28:24.212Z"
   },
   {
    "duration": 7078,
    "start_time": "2023-05-23T08:28:25.450Z"
   },
   {
    "duration": 45,
    "start_time": "2023-05-23T08:28:32.531Z"
   },
   {
    "duration": 9,
    "start_time": "2023-05-23T08:28:32.578Z"
   },
   {
    "duration": 26,
    "start_time": "2023-05-23T08:28:32.588Z"
   },
   {
    "duration": 120,
    "start_time": "2023-05-23T08:28:32.616Z"
   },
   {
    "duration": 16,
    "start_time": "2023-05-23T08:28:32.740Z"
   },
   {
    "duration": 27,
    "start_time": "2023-05-23T08:28:32.758Z"
   },
   {
    "duration": 517,
    "start_time": "2023-05-23T08:28:32.787Z"
   },
   {
    "duration": 12,
    "start_time": "2023-05-23T08:28:33.306Z"
   },
   {
    "duration": 5,
    "start_time": "2023-05-23T08:28:33.319Z"
   },
   {
    "duration": 42,
    "start_time": "2023-05-23T08:28:33.325Z"
   },
   {
    "duration": 72,
    "start_time": "2023-05-23T08:28:33.369Z"
   },
   {
    "duration": 17,
    "start_time": "2023-05-23T08:28:33.443Z"
   },
   {
    "duration": 11,
    "start_time": "2023-05-23T08:28:33.467Z"
   },
   {
    "duration": 84,
    "start_time": "2023-05-23T08:28:33.480Z"
   },
   {
    "duration": 4297,
    "start_time": "2023-05-23T08:28:33.566Z"
   },
   {
    "duration": 17,
    "start_time": "2023-05-23T08:28:37.868Z"
   },
   {
    "duration": 15,
    "start_time": "2023-05-23T08:28:37.886Z"
   },
   {
    "duration": 790,
    "start_time": "2023-05-23T08:28:37.903Z"
   },
   {
    "duration": 44762,
    "start_time": "2023-05-23T08:28:38.695Z"
   },
   {
    "duration": 202,
    "start_time": "2023-05-23T08:29:23.468Z"
   },
   {
    "duration": 9,
    "start_time": "2023-05-23T08:29:23.751Z"
   },
   {
    "duration": 47831,
    "start_time": "2023-05-23T08:29:23.762Z"
   },
   {
    "duration": 4,
    "start_time": "2023-05-23T08:30:11.595Z"
   },
   {
    "duration": 5,
    "start_time": "2023-05-23T08:30:11.601Z"
   },
   {
    "duration": 174,
    "start_time": "2023-05-23T08:30:11.607Z"
   },
   {
    "duration": 4,
    "start_time": "2023-05-23T08:30:11.783Z"
   },
   {
    "duration": 1583,
    "start_time": "2023-05-23T08:38:55.985Z"
   },
   {
    "duration": 2091,
    "start_time": "2023-05-23T08:38:57.570Z"
   },
   {
    "duration": 8,
    "start_time": "2023-05-23T08:38:59.663Z"
   },
   {
    "duration": 17,
    "start_time": "2023-05-23T08:38:59.672Z"
   },
   {
    "duration": 841,
    "start_time": "2023-05-23T08:38:59.691Z"
   },
   {
    "duration": 32,
    "start_time": "2023-05-23T08:39:00.534Z"
   },
   {
    "duration": 1120,
    "start_time": "2023-05-23T08:39:00.567Z"
   },
   {
    "duration": 21,
    "start_time": "2023-05-23T08:39:01.689Z"
   },
   {
    "duration": 531,
    "start_time": "2023-05-23T08:39:01.712Z"
   },
   {
    "duration": 19,
    "start_time": "2023-05-23T08:39:02.249Z"
   },
   {
    "duration": 17,
    "start_time": "2023-05-23T08:39:02.270Z"
   },
   {
    "duration": 37,
    "start_time": "2023-05-23T08:39:02.289Z"
   },
   {
    "duration": 22,
    "start_time": "2023-05-23T08:39:02.328Z"
   },
   {
    "duration": 25,
    "start_time": "2023-05-23T08:39:02.357Z"
   },
   {
    "duration": 36,
    "start_time": "2023-05-23T08:39:02.384Z"
   },
   {
    "duration": 39,
    "start_time": "2023-05-23T08:39:02.422Z"
   },
   {
    "duration": 1105,
    "start_time": "2023-05-23T08:39:02.464Z"
   },
   {
    "duration": 33,
    "start_time": "2023-05-23T08:39:03.571Z"
   },
   {
    "duration": 9812,
    "start_time": "2023-05-23T08:39:03.606Z"
   },
   {
    "duration": 73,
    "start_time": "2023-05-23T08:39:13.420Z"
   },
   {
    "duration": 103,
    "start_time": "2023-05-23T08:39:13.495Z"
   },
   {
    "duration": 1145,
    "start_time": "2023-05-23T08:39:13.599Z"
   },
   {
    "duration": 7033,
    "start_time": "2023-05-23T08:39:14.751Z"
   },
   {
    "duration": 28,
    "start_time": "2023-05-23T08:39:21.786Z"
   },
   {
    "duration": 9,
    "start_time": "2023-05-23T08:39:21.816Z"
   },
   {
    "duration": 37,
    "start_time": "2023-05-23T08:39:21.826Z"
   },
   {
    "duration": 98,
    "start_time": "2023-05-23T08:39:21.865Z"
   },
   {
    "duration": 5,
    "start_time": "2023-05-23T08:39:21.967Z"
   },
   {
    "duration": 27,
    "start_time": "2023-05-23T08:39:21.974Z"
   },
   {
    "duration": 541,
    "start_time": "2023-05-23T08:39:22.002Z"
   },
   {
    "duration": 14,
    "start_time": "2023-05-23T08:39:22.550Z"
   },
   {
    "duration": 9,
    "start_time": "2023-05-23T08:39:22.566Z"
   },
   {
    "duration": 20,
    "start_time": "2023-05-23T08:39:22.577Z"
   },
   {
    "duration": 101,
    "start_time": "2023-05-23T08:39:22.599Z"
   },
   {
    "duration": 5,
    "start_time": "2023-05-23T08:39:22.702Z"
   },
   {
    "duration": 13,
    "start_time": "2023-05-23T08:39:22.708Z"
   },
   {
    "duration": 75,
    "start_time": "2023-05-23T08:39:22.722Z"
   },
   {
    "duration": 5209,
    "start_time": "2023-05-23T08:39:22.799Z"
   },
   {
    "duration": 17,
    "start_time": "2023-05-23T08:39:28.009Z"
   },
   {
    "duration": 39,
    "start_time": "2023-05-23T08:39:28.027Z"
   },
   {
    "duration": 738,
    "start_time": "2023-05-23T08:39:28.067Z"
   },
   {
    "duration": 43157,
    "start_time": "2023-05-23T08:39:28.807Z"
   },
   {
    "duration": 194,
    "start_time": "2023-05-23T08:40:11.966Z"
   },
   {
    "duration": 6,
    "start_time": "2023-05-23T08:40:12.163Z"
   },
   {
    "duration": 48211,
    "start_time": "2023-05-23T08:40:12.171Z"
   },
   {
    "duration": 5,
    "start_time": "2023-05-23T08:41:00.384Z"
   },
   {
    "duration": 33,
    "start_time": "2023-05-23T08:41:00.391Z"
   },
   {
    "duration": 256,
    "start_time": "2023-05-23T08:41:00.425Z"
   },
   {
    "duration": 6,
    "start_time": "2023-05-23T08:41:00.684Z"
   },
   {
    "duration": 1584,
    "start_time": "2023-05-23T08:46:49.464Z"
   },
   {
    "duration": 2216,
    "start_time": "2023-05-23T08:46:51.051Z"
   },
   {
    "duration": 6,
    "start_time": "2023-05-23T08:46:53.269Z"
   },
   {
    "duration": 23,
    "start_time": "2023-05-23T08:46:53.278Z"
   },
   {
    "duration": 942,
    "start_time": "2023-05-23T08:46:53.303Z"
   },
   {
    "duration": 41,
    "start_time": "2023-05-23T08:46:54.247Z"
   },
   {
    "duration": 1120,
    "start_time": "2023-05-23T08:46:54.291Z"
   },
   {
    "duration": 21,
    "start_time": "2023-05-23T08:46:55.412Z"
   },
   {
    "duration": 513,
    "start_time": "2023-05-23T08:46:55.451Z"
   },
   {
    "duration": 17,
    "start_time": "2023-05-23T08:46:55.968Z"
   },
   {
    "duration": 24,
    "start_time": "2023-05-23T08:46:55.987Z"
   },
   {
    "duration": 6,
    "start_time": "2023-05-23T08:46:56.013Z"
   },
   {
    "duration": 6,
    "start_time": "2023-05-23T08:46:56.021Z"
   },
   {
    "duration": 6,
    "start_time": "2023-05-23T08:46:56.028Z"
   },
   {
    "duration": 20,
    "start_time": "2023-05-23T08:46:56.036Z"
   },
   {
    "duration": 35,
    "start_time": "2023-05-23T08:46:56.058Z"
   },
   {
    "duration": 1171,
    "start_time": "2023-05-23T08:46:56.095Z"
   },
   {
    "duration": 49,
    "start_time": "2023-05-23T08:46:57.270Z"
   },
   {
    "duration": 10273,
    "start_time": "2023-05-23T08:46:57.322Z"
   },
   {
    "duration": 81,
    "start_time": "2023-05-23T08:47:07.598Z"
   },
   {
    "duration": 90,
    "start_time": "2023-05-23T08:47:07.680Z"
   },
   {
    "duration": 1113,
    "start_time": "2023-05-23T08:47:07.772Z"
   },
   {
    "duration": 7045,
    "start_time": "2023-05-23T08:47:08.887Z"
   },
   {
    "duration": 31,
    "start_time": "2023-05-23T08:47:15.933Z"
   },
   {
    "duration": 9,
    "start_time": "2023-05-23T08:47:15.966Z"
   },
   {
    "duration": 27,
    "start_time": "2023-05-23T08:47:15.977Z"
   },
   {
    "duration": 114,
    "start_time": "2023-05-23T08:47:16.006Z"
   },
   {
    "duration": 5,
    "start_time": "2023-05-23T08:47:16.124Z"
   },
   {
    "duration": 41,
    "start_time": "2023-05-23T08:47:16.131Z"
   },
   {
    "duration": 528,
    "start_time": "2023-05-23T08:47:16.174Z"
   },
   {
    "duration": 14,
    "start_time": "2023-05-23T08:47:16.704Z"
   },
   {
    "duration": 9,
    "start_time": "2023-05-23T08:47:16.719Z"
   },
   {
    "duration": 36,
    "start_time": "2023-05-23T08:47:16.730Z"
   },
   {
    "duration": 73,
    "start_time": "2023-05-23T08:47:16.768Z"
   },
   {
    "duration": 12,
    "start_time": "2023-05-23T08:47:16.843Z"
   },
   {
    "duration": 11,
    "start_time": "2023-05-23T08:47:16.865Z"
   },
   {
    "duration": 56,
    "start_time": "2023-05-23T08:47:16.877Z"
   },
   {
    "duration": 4483,
    "start_time": "2023-05-23T08:47:16.935Z"
   },
   {
    "duration": 15,
    "start_time": "2023-05-23T08:47:21.420Z"
   },
   {
    "duration": 35,
    "start_time": "2023-05-23T08:47:21.437Z"
   },
   {
    "duration": 747,
    "start_time": "2023-05-23T08:47:21.473Z"
   },
   {
    "duration": 45234,
    "start_time": "2023-05-23T08:47:22.222Z"
   },
   {
    "duration": 202,
    "start_time": "2023-05-23T08:48:07.458Z"
   },
   {
    "duration": 7,
    "start_time": "2023-05-23T08:48:07.668Z"
   },
   {
    "duration": 48376,
    "start_time": "2023-05-23T08:48:07.753Z"
   },
   {
    "duration": 5,
    "start_time": "2023-05-23T08:48:56.131Z"
   },
   {
    "duration": 14,
    "start_time": "2023-05-23T08:48:56.137Z"
   },
   {
    "duration": 172,
    "start_time": "2023-05-23T08:48:56.157Z"
   },
   {
    "duration": 4,
    "start_time": "2023-05-23T08:48:56.331Z"
   },
   {
    "duration": 1534,
    "start_time": "2023-05-23T08:50:27.613Z"
   },
   {
    "duration": 2092,
    "start_time": "2023-05-23T08:50:29.149Z"
   },
   {
    "duration": 11,
    "start_time": "2023-05-23T08:50:31.243Z"
   },
   {
    "duration": 25,
    "start_time": "2023-05-23T08:50:31.256Z"
   },
   {
    "duration": 903,
    "start_time": "2023-05-23T08:50:31.282Z"
   },
   {
    "duration": 29,
    "start_time": "2023-05-23T08:50:32.186Z"
   },
   {
    "duration": 1092,
    "start_time": "2023-05-23T08:50:32.217Z"
   },
   {
    "duration": 21,
    "start_time": "2023-05-23T08:50:33.311Z"
   },
   {
    "duration": 504,
    "start_time": "2023-05-23T08:50:33.334Z"
   },
   {
    "duration": 36,
    "start_time": "2023-05-23T08:50:33.841Z"
   },
   {
    "duration": 4,
    "start_time": "2023-05-23T08:50:33.879Z"
   },
   {
    "duration": 4,
    "start_time": "2023-05-23T08:50:33.884Z"
   },
   {
    "duration": 5,
    "start_time": "2023-05-23T08:50:33.889Z"
   },
   {
    "duration": 6,
    "start_time": "2023-05-23T08:50:33.896Z"
   },
   {
    "duration": 17,
    "start_time": "2023-05-23T08:50:33.903Z"
   },
   {
    "duration": 55,
    "start_time": "2023-05-23T08:50:33.921Z"
   },
   {
    "duration": 1188,
    "start_time": "2023-05-23T08:50:33.978Z"
   },
   {
    "duration": 32,
    "start_time": "2023-05-23T08:50:35.167Z"
   },
   {
    "duration": 9915,
    "start_time": "2023-05-23T08:50:35.201Z"
   },
   {
    "duration": 78,
    "start_time": "2023-05-23T08:50:45.118Z"
   },
   {
    "duration": 92,
    "start_time": "2023-05-23T08:50:45.197Z"
   },
   {
    "duration": 1129,
    "start_time": "2023-05-23T08:50:45.291Z"
   },
   {
    "duration": 6990,
    "start_time": "2023-05-23T08:50:46.422Z"
   },
   {
    "duration": 32,
    "start_time": "2023-05-23T08:50:53.414Z"
   },
   {
    "duration": 17,
    "start_time": "2023-05-23T08:50:53.448Z"
   },
   {
    "duration": 24,
    "start_time": "2023-05-23T08:50:53.467Z"
   },
   {
    "duration": 111,
    "start_time": "2023-05-23T08:50:53.493Z"
   },
   {
    "duration": 5,
    "start_time": "2023-05-23T08:50:53.610Z"
   },
   {
    "duration": 46,
    "start_time": "2023-05-23T08:50:53.617Z"
   },
   {
    "duration": 538,
    "start_time": "2023-05-23T08:50:53.665Z"
   },
   {
    "duration": 13,
    "start_time": "2023-05-23T08:50:54.205Z"
   },
   {
    "duration": 4,
    "start_time": "2023-05-23T08:50:54.220Z"
   },
   {
    "duration": 43,
    "start_time": "2023-05-23T08:50:54.225Z"
   },
   {
    "duration": 94,
    "start_time": "2023-05-23T08:50:54.270Z"
   },
   {
    "duration": 7,
    "start_time": "2023-05-23T08:50:54.366Z"
   },
   {
    "duration": 28,
    "start_time": "2023-05-23T08:50:54.374Z"
   },
   {
    "duration": 65,
    "start_time": "2023-05-23T08:50:54.403Z"
   },
   {
    "duration": 4509,
    "start_time": "2023-05-23T08:50:54.470Z"
   },
   {
    "duration": 15,
    "start_time": "2023-05-23T08:50:58.981Z"
   },
   {
    "duration": 20,
    "start_time": "2023-05-23T08:50:58.997Z"
   },
   {
    "duration": 794,
    "start_time": "2023-05-23T08:50:59.018Z"
   },
   {
    "duration": 38457,
    "start_time": "2023-05-23T08:50:59.813Z"
   },
   {
    "duration": 203,
    "start_time": "2023-05-23T08:51:38.353Z"
   },
   {
    "duration": 10,
    "start_time": "2023-05-23T08:51:38.558Z"
   },
   {
    "duration": 47516,
    "start_time": "2023-05-23T08:51:38.569Z"
   },
   {
    "duration": 5,
    "start_time": "2023-05-23T08:52:26.086Z"
   },
   {
    "duration": 5,
    "start_time": "2023-05-23T08:52:26.092Z"
   },
   {
    "duration": 169,
    "start_time": "2023-05-23T08:52:26.098Z"
   },
   {
    "duration": 4,
    "start_time": "2023-05-23T08:52:26.269Z"
   },
   {
    "duration": 1573,
    "start_time": "2023-05-23T08:57:18.997Z"
   },
   {
    "duration": 2206,
    "start_time": "2023-05-23T08:57:20.580Z"
   },
   {
    "duration": 6,
    "start_time": "2023-05-23T08:57:22.788Z"
   },
   {
    "duration": 27,
    "start_time": "2023-05-23T08:57:22.796Z"
   },
   {
    "duration": 954,
    "start_time": "2023-05-23T08:57:22.825Z"
   },
   {
    "duration": 25,
    "start_time": "2023-05-23T08:57:23.781Z"
   },
   {
    "duration": 1170,
    "start_time": "2023-05-23T08:57:23.808Z"
   },
   {
    "duration": 20,
    "start_time": "2023-05-23T08:57:24.980Z"
   },
   {
    "duration": 492,
    "start_time": "2023-05-23T08:57:25.002Z"
   },
   {
    "duration": 15,
    "start_time": "2023-05-23T08:57:25.496Z"
   },
   {
    "duration": 4,
    "start_time": "2023-05-23T08:57:25.513Z"
   },
   {
    "duration": 8,
    "start_time": "2023-05-23T08:57:25.518Z"
   },
   {
    "duration": 6,
    "start_time": "2023-05-23T08:57:25.527Z"
   },
   {
    "duration": 5,
    "start_time": "2023-05-23T08:57:25.551Z"
   },
   {
    "duration": 25,
    "start_time": "2023-05-23T08:57:25.560Z"
   },
   {
    "duration": 34,
    "start_time": "2023-05-23T08:57:25.587Z"
   },
   {
    "duration": 1136,
    "start_time": "2023-05-23T08:57:25.623Z"
   },
   {
    "duration": 37,
    "start_time": "2023-05-23T08:57:26.761Z"
   },
   {
    "duration": 10279,
    "start_time": "2023-05-23T08:57:26.800Z"
   },
   {
    "duration": 74,
    "start_time": "2023-05-23T08:57:37.080Z"
   },
   {
    "duration": 102,
    "start_time": "2023-05-23T08:57:37.156Z"
   },
   {
    "duration": 1162,
    "start_time": "2023-05-23T08:57:37.260Z"
   },
   {
    "duration": 7588,
    "start_time": "2023-05-23T08:57:38.424Z"
   },
   {
    "duration": 29,
    "start_time": "2023-05-23T08:57:46.014Z"
   },
   {
    "duration": 11,
    "start_time": "2023-05-23T08:57:46.045Z"
   },
   {
    "duration": 33,
    "start_time": "2023-05-23T08:57:46.060Z"
   },
   {
    "duration": 116,
    "start_time": "2023-05-23T08:57:46.095Z"
   },
   {
    "duration": 4,
    "start_time": "2023-05-23T08:57:46.213Z"
   },
   {
    "duration": 40,
    "start_time": "2023-05-23T08:57:46.219Z"
   },
   {
    "duration": 548,
    "start_time": "2023-05-23T08:57:46.261Z"
   },
   {
    "duration": 12,
    "start_time": "2023-05-23T08:57:46.810Z"
   },
   {
    "duration": 4,
    "start_time": "2023-05-23T08:57:46.824Z"
   },
   {
    "duration": 31,
    "start_time": "2023-05-23T08:57:46.829Z"
   },
   {
    "duration": 81,
    "start_time": "2023-05-23T08:57:46.870Z"
   },
   {
    "duration": 5,
    "start_time": "2023-05-23T08:57:46.954Z"
   },
   {
    "duration": 14,
    "start_time": "2023-05-23T08:57:46.960Z"
   },
   {
    "duration": 61,
    "start_time": "2023-05-23T08:57:46.975Z"
   },
   {
    "duration": 4358,
    "start_time": "2023-05-23T08:57:47.037Z"
   },
   {
    "duration": 15,
    "start_time": "2023-05-23T08:57:51.397Z"
   },
   {
    "duration": 26,
    "start_time": "2023-05-23T08:57:51.414Z"
   },
   {
    "duration": 788,
    "start_time": "2023-05-23T08:57:51.449Z"
   },
   {
    "duration": 58631,
    "start_time": "2023-05-23T08:57:52.238Z"
   },
   {
    "duration": 208,
    "start_time": "2023-05-23T08:58:50.950Z"
   },
   {
    "duration": 9,
    "start_time": "2023-05-23T08:58:51.160Z"
   },
   {
    "duration": 46902,
    "start_time": "2023-05-23T08:58:51.172Z"
   },
   {
    "duration": 4,
    "start_time": "2023-05-23T08:59:38.076Z"
   },
   {
    "duration": 4,
    "start_time": "2023-05-23T08:59:38.082Z"
   },
   {
    "duration": 178,
    "start_time": "2023-05-23T08:59:38.087Z"
   },
   {
    "duration": 99,
    "start_time": "2023-05-23T08:59:38.267Z"
   },
   {
    "duration": 0,
    "start_time": "2023-05-23T08:59:38.367Z"
   },
   {
    "duration": 0,
    "start_time": "2023-05-23T08:59:38.368Z"
   },
   {
    "duration": 0,
    "start_time": "2023-05-23T08:59:38.369Z"
   },
   {
    "duration": 0,
    "start_time": "2023-05-23T08:59:38.370Z"
   },
   {
    "duration": 0,
    "start_time": "2023-05-23T08:59:38.371Z"
   },
   {
    "duration": 0,
    "start_time": "2023-05-23T08:59:38.372Z"
   },
   {
    "duration": 0,
    "start_time": "2023-05-23T08:59:38.374Z"
   },
   {
    "duration": 0,
    "start_time": "2023-05-23T08:59:38.375Z"
   },
   {
    "duration": 0,
    "start_time": "2023-05-23T08:59:38.376Z"
   },
   {
    "duration": 0,
    "start_time": "2023-05-23T08:59:38.376Z"
   },
   {
    "duration": 0,
    "start_time": "2023-05-23T08:59:38.378Z"
   },
   {
    "duration": 0,
    "start_time": "2023-05-23T08:59:38.379Z"
   },
   {
    "duration": 0,
    "start_time": "2023-05-23T08:59:38.380Z"
   },
   {
    "duration": 112,
    "start_time": "2023-05-23T09:00:06.350Z"
   },
   {
    "duration": 4,
    "start_time": "2023-05-23T09:00:37.977Z"
   },
   {
    "duration": 2623,
    "start_time": "2023-05-23T09:00:39.407Z"
   },
   {
    "duration": 4,
    "start_time": "2023-05-23T09:01:13.693Z"
   },
   {
    "duration": 1570,
    "start_time": "2023-05-23T09:03:09.254Z"
   },
   {
    "duration": 2032,
    "start_time": "2023-05-23T09:03:10.825Z"
   },
   {
    "duration": 6,
    "start_time": "2023-05-23T09:03:12.859Z"
   },
   {
    "duration": 41,
    "start_time": "2023-05-23T09:03:12.867Z"
   },
   {
    "duration": 797,
    "start_time": "2023-05-23T09:03:12.909Z"
   },
   {
    "duration": 27,
    "start_time": "2023-05-23T09:03:13.707Z"
   },
   {
    "duration": 1067,
    "start_time": "2023-05-23T09:03:13.735Z"
   },
   {
    "duration": 21,
    "start_time": "2023-05-23T09:03:14.804Z"
   },
   {
    "duration": 461,
    "start_time": "2023-05-23T09:03:14.827Z"
   },
   {
    "duration": 23,
    "start_time": "2023-05-23T09:03:15.290Z"
   },
   {
    "duration": 8,
    "start_time": "2023-05-23T09:03:15.315Z"
   },
   {
    "duration": 5,
    "start_time": "2023-05-23T09:03:15.325Z"
   },
   {
    "duration": 19,
    "start_time": "2023-05-23T09:03:15.332Z"
   },
   {
    "duration": 5,
    "start_time": "2023-05-23T09:03:15.353Z"
   },
   {
    "duration": 10,
    "start_time": "2023-05-23T09:03:15.360Z"
   },
   {
    "duration": 41,
    "start_time": "2023-05-23T09:03:15.372Z"
   },
   {
    "duration": 1131,
    "start_time": "2023-05-23T09:03:15.414Z"
   },
   {
    "duration": 30,
    "start_time": "2023-05-23T09:03:16.551Z"
   },
   {
    "duration": 9829,
    "start_time": "2023-05-23T09:03:16.583Z"
   },
   {
    "duration": 88,
    "start_time": "2023-05-23T09:03:26.414Z"
   },
   {
    "duration": 97,
    "start_time": "2023-05-23T09:03:26.504Z"
   },
   {
    "duration": 1039,
    "start_time": "2023-05-23T09:03:26.602Z"
   },
   {
    "duration": 7038,
    "start_time": "2023-05-23T09:03:27.649Z"
   },
   {
    "duration": 32,
    "start_time": "2023-05-23T09:03:34.689Z"
   },
   {
    "duration": 10,
    "start_time": "2023-05-23T09:03:34.723Z"
   },
   {
    "duration": 29,
    "start_time": "2023-05-23T09:03:34.734Z"
   },
   {
    "duration": 100,
    "start_time": "2023-05-23T09:03:34.765Z"
   },
   {
    "duration": 5,
    "start_time": "2023-05-23T09:03:34.869Z"
   },
   {
    "duration": 29,
    "start_time": "2023-05-23T09:03:34.876Z"
   },
   {
    "duration": 511,
    "start_time": "2023-05-23T09:03:34.907Z"
   },
   {
    "duration": 12,
    "start_time": "2023-05-23T09:03:35.420Z"
   },
   {
    "duration": 17,
    "start_time": "2023-05-23T09:03:35.434Z"
   },
   {
    "duration": 25,
    "start_time": "2023-05-23T09:03:35.453Z"
   },
   {
    "duration": 89,
    "start_time": "2023-05-23T09:03:35.479Z"
   },
   {
    "duration": 4,
    "start_time": "2023-05-23T09:03:35.570Z"
   },
   {
    "duration": 14,
    "start_time": "2023-05-23T09:03:35.575Z"
   },
   {
    "duration": 105,
    "start_time": "2023-05-23T09:03:35.591Z"
   },
   {
    "duration": 4112,
    "start_time": "2023-05-23T09:03:35.698Z"
   },
   {
    "duration": 16,
    "start_time": "2023-05-23T09:03:39.812Z"
   },
   {
    "duration": 37,
    "start_time": "2023-05-23T09:03:39.829Z"
   },
   {
    "duration": 759,
    "start_time": "2023-05-23T09:03:39.868Z"
   },
   {
    "duration": 27123,
    "start_time": "2023-05-23T09:03:40.628Z"
   },
   {
    "duration": 202,
    "start_time": "2023-05-23T09:04:07.754Z"
   },
   {
    "duration": 4,
    "start_time": "2023-05-23T09:04:07.958Z"
   },
   {
    "duration": 46436,
    "start_time": "2023-05-23T09:04:08.050Z"
   },
   {
    "duration": 5,
    "start_time": "2023-05-23T09:04:54.488Z"
   },
   {
    "duration": 15,
    "start_time": "2023-05-23T09:04:54.495Z"
   },
   {
    "duration": 153,
    "start_time": "2023-05-23T09:04:54.512Z"
   },
   {
    "duration": 3,
    "start_time": "2023-05-23T09:04:54.667Z"
   },
   {
    "duration": 127,
    "start_time": "2023-05-23T09:04:54.672Z"
   },
   {
    "duration": 0,
    "start_time": "2023-05-23T09:04:54.802Z"
   },
   {
    "duration": 0,
    "start_time": "2023-05-23T09:04:54.804Z"
   },
   {
    "duration": 0,
    "start_time": "2023-05-23T09:04:54.805Z"
   },
   {
    "duration": 0,
    "start_time": "2023-05-23T09:04:54.807Z"
   },
   {
    "duration": 0,
    "start_time": "2023-05-23T09:04:54.808Z"
   },
   {
    "duration": 0,
    "start_time": "2023-05-23T09:04:54.810Z"
   },
   {
    "duration": 0,
    "start_time": "2023-05-23T09:04:54.812Z"
   },
   {
    "duration": 0,
    "start_time": "2023-05-23T09:04:54.813Z"
   },
   {
    "duration": 0,
    "start_time": "2023-05-23T09:04:54.814Z"
   },
   {
    "duration": 0,
    "start_time": "2023-05-23T09:04:54.816Z"
   },
   {
    "duration": 0,
    "start_time": "2023-05-23T09:04:54.817Z"
   },
   {
    "duration": 0,
    "start_time": "2023-05-23T09:04:54.819Z"
   },
   {
    "duration": 3,
    "start_time": "2023-05-23T09:09:12.807Z"
   },
   {
    "duration": 1570,
    "start_time": "2023-05-23T09:12:15.792Z"
   },
   {
    "duration": 2058,
    "start_time": "2023-05-23T09:12:17.364Z"
   },
   {
    "duration": 7,
    "start_time": "2023-05-23T09:12:19.424Z"
   },
   {
    "duration": 47,
    "start_time": "2023-05-23T09:12:19.433Z"
   },
   {
    "duration": 822,
    "start_time": "2023-05-23T09:12:19.482Z"
   },
   {
    "duration": 32,
    "start_time": "2023-05-23T09:12:20.306Z"
   },
   {
    "duration": 1050,
    "start_time": "2023-05-23T09:12:20.349Z"
   },
   {
    "duration": 21,
    "start_time": "2023-05-23T09:12:21.401Z"
   },
   {
    "duration": 485,
    "start_time": "2023-05-23T09:12:21.424Z"
   },
   {
    "duration": 25,
    "start_time": "2023-05-23T09:12:21.911Z"
   },
   {
    "duration": 16,
    "start_time": "2023-05-23T09:12:21.938Z"
   },
   {
    "duration": 27,
    "start_time": "2023-05-23T09:12:21.956Z"
   },
   {
    "duration": 20,
    "start_time": "2023-05-23T09:12:21.985Z"
   },
   {
    "duration": 19,
    "start_time": "2023-05-23T09:12:22.007Z"
   },
   {
    "duration": 35,
    "start_time": "2023-05-23T09:12:22.028Z"
   },
   {
    "duration": 45,
    "start_time": "2023-05-23T09:12:22.065Z"
   },
   {
    "duration": 1175,
    "start_time": "2023-05-23T09:12:22.112Z"
   },
   {
    "duration": 31,
    "start_time": "2023-05-23T09:12:23.289Z"
   },
   {
    "duration": 9943,
    "start_time": "2023-05-23T09:12:23.322Z"
   },
   {
    "duration": 68,
    "start_time": "2023-05-23T09:12:33.267Z"
   },
   {
    "duration": 97,
    "start_time": "2023-05-23T09:12:33.336Z"
   },
   {
    "duration": 1205,
    "start_time": "2023-05-23T09:12:33.434Z"
   },
   {
    "duration": 6747,
    "start_time": "2023-05-23T09:12:34.640Z"
   },
   {
    "duration": 28,
    "start_time": "2023-05-23T09:12:41.388Z"
   },
   {
    "duration": 8,
    "start_time": "2023-05-23T09:12:41.418Z"
   },
   {
    "duration": 23,
    "start_time": "2023-05-23T09:12:41.427Z"
   },
   {
    "duration": 98,
    "start_time": "2023-05-23T09:12:41.452Z"
   },
   {
    "duration": 5,
    "start_time": "2023-05-23T09:12:41.554Z"
   },
   {
    "duration": 26,
    "start_time": "2023-05-23T09:12:41.561Z"
   },
   {
    "duration": 548,
    "start_time": "2023-05-23T09:12:41.589Z"
   },
   {
    "duration": 26,
    "start_time": "2023-05-23T09:12:42.139Z"
   },
   {
    "duration": 42,
    "start_time": "2023-05-23T09:12:42.167Z"
   },
   {
    "duration": 30,
    "start_time": "2023-05-23T09:12:42.212Z"
   },
   {
    "duration": 77,
    "start_time": "2023-05-23T09:12:42.244Z"
   },
   {
    "duration": 4,
    "start_time": "2023-05-23T09:12:42.323Z"
   },
   {
    "duration": 28,
    "start_time": "2023-05-23T09:12:42.328Z"
   },
   {
    "duration": 66,
    "start_time": "2023-05-23T09:12:42.357Z"
   },
   {
    "duration": 3751,
    "start_time": "2023-05-23T09:12:42.425Z"
   },
   {
    "duration": 16,
    "start_time": "2023-05-23T09:12:46.177Z"
   },
   {
    "duration": 19,
    "start_time": "2023-05-23T09:12:46.194Z"
   },
   {
    "duration": 770,
    "start_time": "2023-05-23T09:12:46.214Z"
   },
   {
    "duration": 1498,
    "start_time": "2023-05-23T10:49:04.119Z"
   },
   {
    "duration": 2502,
    "start_time": "2023-05-23T10:49:05.618Z"
   },
   {
    "duration": 5,
    "start_time": "2023-05-23T10:49:08.122Z"
   },
   {
    "duration": 11,
    "start_time": "2023-05-23T10:49:08.129Z"
   },
   {
    "duration": 3058,
    "start_time": "2023-05-23T10:49:08.141Z"
   },
   {
    "duration": 24,
    "start_time": "2023-05-23T10:49:11.201Z"
   },
   {
    "duration": 907,
    "start_time": "2023-05-23T10:49:11.226Z"
   },
   {
    "duration": 19,
    "start_time": "2023-05-23T10:49:12.135Z"
   },
   {
    "duration": 430,
    "start_time": "2023-05-23T10:49:12.156Z"
   },
   {
    "duration": 22,
    "start_time": "2023-05-23T10:49:12.590Z"
   },
   {
    "duration": 4,
    "start_time": "2023-05-23T10:49:12.614Z"
   },
   {
    "duration": 3,
    "start_time": "2023-05-23T10:49:12.620Z"
   },
   {
    "duration": 12,
    "start_time": "2023-05-23T10:49:12.625Z"
   },
   {
    "duration": 9,
    "start_time": "2023-05-23T10:49:12.639Z"
   },
   {
    "duration": 15,
    "start_time": "2023-05-23T10:49:12.650Z"
   },
   {
    "duration": 40,
    "start_time": "2023-05-23T10:49:12.666Z"
   },
   {
    "duration": 1068,
    "start_time": "2023-05-23T10:49:12.708Z"
   },
   {
    "duration": 43,
    "start_time": "2023-05-23T10:49:13.778Z"
   },
   {
    "duration": 8309,
    "start_time": "2023-05-23T10:49:13.823Z"
   },
   {
    "duration": 60,
    "start_time": "2023-05-23T10:49:22.134Z"
   },
   {
    "duration": 72,
    "start_time": "2023-05-23T10:49:22.205Z"
   },
   {
    "duration": 1000,
    "start_time": "2023-05-23T10:49:22.278Z"
   },
   {
    "duration": 5845,
    "start_time": "2023-05-23T10:49:23.280Z"
   },
   {
    "duration": 25,
    "start_time": "2023-05-23T10:49:29.126Z"
   },
   {
    "duration": 7,
    "start_time": "2023-05-23T10:49:29.152Z"
   },
   {
    "duration": 21,
    "start_time": "2023-05-23T10:49:29.161Z"
   },
   {
    "duration": 87,
    "start_time": "2023-05-23T10:49:29.183Z"
   },
   {
    "duration": 4,
    "start_time": "2023-05-23T10:49:29.273Z"
   },
   {
    "duration": 35,
    "start_time": "2023-05-23T10:49:29.278Z"
   },
   {
    "duration": 424,
    "start_time": "2023-05-23T10:49:29.314Z"
   },
   {
    "duration": 10,
    "start_time": "2023-05-23T10:49:29.740Z"
   },
   {
    "duration": 4,
    "start_time": "2023-05-23T10:49:29.751Z"
   },
   {
    "duration": 15,
    "start_time": "2023-05-23T10:49:29.756Z"
   },
   {
    "duration": 90,
    "start_time": "2023-05-23T10:49:29.773Z"
   },
   {
    "duration": 4,
    "start_time": "2023-05-23T10:49:29.864Z"
   },
   {
    "duration": 12,
    "start_time": "2023-05-23T10:49:29.869Z"
   },
   {
    "duration": 71,
    "start_time": "2023-05-23T10:49:29.882Z"
   },
   {
    "duration": 3739,
    "start_time": "2023-05-23T10:49:29.954Z"
   },
   {
    "duration": 13,
    "start_time": "2023-05-23T10:49:33.695Z"
   },
   {
    "duration": 18,
    "start_time": "2023-05-23T10:49:33.709Z"
   },
   {
    "duration": 707,
    "start_time": "2023-05-23T10:49:33.729Z"
   },
   {
    "duration": 18776,
    "start_time": "2023-05-23T10:49:34.438Z"
   },
   {
    "duration": 298,
    "start_time": "2023-05-23T10:49:53.216Z"
   },
   {
    "duration": 92,
    "start_time": "2023-05-23T10:49:53.515Z"
   },
   {
    "duration": 43743,
    "start_time": "2023-05-23T10:49:53.609Z"
   },
   {
    "duration": 4,
    "start_time": "2023-05-23T10:50:37.353Z"
   },
   {
    "duration": 16,
    "start_time": "2023-05-23T10:50:37.358Z"
   },
   {
    "duration": 130,
    "start_time": "2023-05-23T10:50:37.376Z"
   },
   {
    "duration": 3,
    "start_time": "2023-05-23T10:50:37.508Z"
   },
   {
    "duration": 1350,
    "start_time": "2023-05-23T10:53:17.845Z"
   },
   {
    "duration": 1720,
    "start_time": "2023-05-23T10:53:19.197Z"
   },
   {
    "duration": 6,
    "start_time": "2023-05-23T10:53:20.919Z"
   },
   {
    "duration": 28,
    "start_time": "2023-05-23T10:53:20.926Z"
   },
   {
    "duration": 693,
    "start_time": "2023-05-23T10:53:20.957Z"
   },
   {
    "duration": 22,
    "start_time": "2023-05-23T10:53:21.651Z"
   },
   {
    "duration": 965,
    "start_time": "2023-05-23T10:53:21.674Z"
   },
   {
    "duration": 23,
    "start_time": "2023-05-23T10:53:22.641Z"
   },
   {
    "duration": 407,
    "start_time": "2023-05-23T10:53:22.666Z"
   },
   {
    "duration": 23,
    "start_time": "2023-05-23T10:53:23.075Z"
   },
   {
    "duration": 4,
    "start_time": "2023-05-23T10:53:23.107Z"
   },
   {
    "duration": 5,
    "start_time": "2023-05-23T10:53:23.112Z"
   },
   {
    "duration": 6,
    "start_time": "2023-05-23T10:53:23.118Z"
   },
   {
    "duration": 5,
    "start_time": "2023-05-23T10:53:23.126Z"
   },
   {
    "duration": 12,
    "start_time": "2023-05-23T10:53:23.133Z"
   },
   {
    "duration": 30,
    "start_time": "2023-05-23T10:53:23.147Z"
   },
   {
    "duration": 1097,
    "start_time": "2023-05-23T10:53:23.178Z"
   },
   {
    "duration": 37,
    "start_time": "2023-05-23T10:53:24.276Z"
   },
   {
    "duration": 8433,
    "start_time": "2023-05-23T10:53:24.314Z"
   },
   {
    "duration": 69,
    "start_time": "2023-05-23T10:53:32.749Z"
   },
   {
    "duration": 76,
    "start_time": "2023-05-23T10:53:32.820Z"
   },
   {
    "duration": 1063,
    "start_time": "2023-05-23T10:53:32.907Z"
   },
   {
    "duration": 5902,
    "start_time": "2023-05-23T10:53:33.971Z"
   },
   {
    "duration": 25,
    "start_time": "2023-05-23T10:53:39.874Z"
   },
   {
    "duration": 8,
    "start_time": "2023-05-23T10:53:39.901Z"
   },
   {
    "duration": 24,
    "start_time": "2023-05-23T10:53:39.911Z"
   },
   {
    "duration": 94,
    "start_time": "2023-05-23T10:53:39.936Z"
   },
   {
    "duration": 5,
    "start_time": "2023-05-23T10:53:40.031Z"
   },
   {
    "duration": 26,
    "start_time": "2023-05-23T10:53:40.038Z"
   },
   {
    "duration": 459,
    "start_time": "2023-05-23T10:53:40.066Z"
   },
   {
    "duration": 10,
    "start_time": "2023-05-23T10:53:40.527Z"
   },
   {
    "duration": 5,
    "start_time": "2023-05-23T10:53:40.539Z"
   },
   {
    "duration": 20,
    "start_time": "2023-05-23T10:53:40.545Z"
   },
   {
    "duration": 84,
    "start_time": "2023-05-23T10:53:40.567Z"
   },
   {
    "duration": 3,
    "start_time": "2023-05-23T10:53:40.653Z"
   },
   {
    "duration": 28,
    "start_time": "2023-05-23T10:53:40.657Z"
   },
   {
    "duration": 51,
    "start_time": "2023-05-23T10:53:40.686Z"
   },
   {
    "duration": 3465,
    "start_time": "2023-05-23T10:53:40.738Z"
   },
   {
    "duration": 14,
    "start_time": "2023-05-23T10:53:44.205Z"
   },
   {
    "duration": 15,
    "start_time": "2023-05-23T10:53:44.220Z"
   },
   {
    "duration": 731,
    "start_time": "2023-05-23T10:53:44.238Z"
   },
   {
    "duration": 37741,
    "start_time": "2023-05-23T10:53:44.970Z"
   },
   {
    "duration": 200,
    "start_time": "2023-05-23T10:54:22.712Z"
   },
   {
    "duration": 94,
    "start_time": "2023-05-23T10:54:22.913Z"
   },
   {
    "duration": 42535,
    "start_time": "2023-05-23T10:54:23.009Z"
   },
   {
    "duration": 4,
    "start_time": "2023-05-23T10:55:05.546Z"
   },
   {
    "duration": 9,
    "start_time": "2023-05-23T10:55:05.551Z"
   },
   {
    "duration": 139,
    "start_time": "2023-05-23T10:55:05.562Z"
   },
   {
    "duration": 3,
    "start_time": "2023-05-23T10:55:05.703Z"
   },
   {
    "duration": 156614,
    "start_time": "2023-05-23T10:55:05.708Z"
   },
   {
    "duration": 5,
    "start_time": "2023-05-23T10:57:42.323Z"
   },
   {
    "duration": 3,
    "start_time": "2023-05-23T10:57:42.409Z"
   },
   {
    "duration": 12,
    "start_time": "2023-05-23T10:57:42.414Z"
   },
   {
    "duration": 217932,
    "start_time": "2023-05-23T10:57:42.428Z"
   },
   {
    "duration": 3,
    "start_time": "2023-05-23T11:01:20.362Z"
   },
   {
    "duration": 19,
    "start_time": "2023-05-23T11:01:20.366Z"
   },
   {
    "duration": 16,
    "start_time": "2023-05-23T11:01:20.386Z"
   },
   {
    "duration": 116,
    "start_time": "2023-05-23T11:01:20.403Z"
   },
   {
    "duration": 0,
    "start_time": "2023-05-23T11:01:20.520Z"
   },
   {
    "duration": 0,
    "start_time": "2023-05-23T11:01:20.521Z"
   },
   {
    "duration": 0,
    "start_time": "2023-05-23T11:01:20.522Z"
   },
   {
    "duration": 0,
    "start_time": "2023-05-23T11:01:20.523Z"
   },
   {
    "duration": 0,
    "start_time": "2023-05-23T11:01:20.524Z"
   },
   {
    "duration": 0,
    "start_time": "2023-05-23T11:01:20.525Z"
   },
   {
    "duration": 3,
    "start_time": "2023-05-23T11:04:28.042Z"
   },
   {
    "duration": 80195,
    "start_time": "2023-05-23T11:04:31.242Z"
   },
   {
    "duration": 3,
    "start_time": "2023-05-23T11:06:21.012Z"
   },
   {
    "duration": 15,
    "start_time": "2023-05-23T11:06:21.867Z"
   },
   {
    "duration": 3,
    "start_time": "2023-05-23T11:07:55.900Z"
   },
   {
    "duration": 705829,
    "start_time": "2023-05-23T11:07:56.897Z"
   },
   {
    "duration": 0,
    "start_time": "2023-05-23T11:19:42.727Z"
   },
   {
    "duration": 3,
    "start_time": "2023-05-23T11:20:37.578Z"
   },
   {
    "duration": 41,
    "start_time": "2023-05-23T11:21:09.307Z"
   },
   {
    "duration": 1334,
    "start_time": "2023-05-23T11:21:15.466Z"
   },
   {
    "duration": 1755,
    "start_time": "2023-05-23T11:21:16.802Z"
   },
   {
    "duration": 6,
    "start_time": "2023-05-23T11:21:18.559Z"
   },
   {
    "duration": 15,
    "start_time": "2023-05-23T11:21:18.566Z"
   },
   {
    "duration": 2914,
    "start_time": "2023-05-23T11:21:18.582Z"
   },
   {
    "duration": 25,
    "start_time": "2023-05-23T11:21:21.498Z"
   },
   {
    "duration": 925,
    "start_time": "2023-05-23T11:21:21.524Z"
   },
   {
    "duration": 30,
    "start_time": "2023-05-23T11:21:22.451Z"
   },
   {
    "duration": 481,
    "start_time": "2023-05-23T11:21:22.483Z"
   },
   {
    "duration": 24,
    "start_time": "2023-05-23T11:21:22.966Z"
   },
   {
    "duration": 22,
    "start_time": "2023-05-23T11:21:22.991Z"
   },
   {
    "duration": 11,
    "start_time": "2023-05-23T11:21:23.015Z"
   },
   {
    "duration": 7,
    "start_time": "2023-05-23T11:21:23.028Z"
   },
   {
    "duration": 5,
    "start_time": "2023-05-23T11:21:23.036Z"
   },
   {
    "duration": 21,
    "start_time": "2023-05-23T11:21:23.043Z"
   },
   {
    "duration": 41,
    "start_time": "2023-05-23T11:21:23.065Z"
   },
   {
    "duration": 1066,
    "start_time": "2023-05-23T11:21:23.108Z"
   },
   {
    "duration": 41,
    "start_time": "2023-05-23T11:21:24.176Z"
   },
   {
    "duration": 8469,
    "start_time": "2023-05-23T11:21:24.219Z"
   },
   {
    "duration": 63,
    "start_time": "2023-05-23T11:21:32.690Z"
   },
   {
    "duration": 82,
    "start_time": "2023-05-23T11:21:32.754Z"
   },
   {
    "duration": 932,
    "start_time": "2023-05-23T11:21:32.838Z"
   },
   {
    "duration": 5917,
    "start_time": "2023-05-23T11:21:33.772Z"
   },
   {
    "duration": 26,
    "start_time": "2023-05-23T11:21:39.691Z"
   },
   {
    "duration": 9,
    "start_time": "2023-05-23T11:21:39.719Z"
   },
   {
    "duration": 24,
    "start_time": "2023-05-23T11:21:39.729Z"
   },
   {
    "duration": 94,
    "start_time": "2023-05-23T11:21:39.755Z"
   },
   {
    "duration": 5,
    "start_time": "2023-05-23T11:21:39.852Z"
   },
   {
    "duration": 35,
    "start_time": "2023-05-23T11:21:39.858Z"
   },
   {
    "duration": 438,
    "start_time": "2023-05-23T11:21:39.894Z"
   },
   {
    "duration": 10,
    "start_time": "2023-05-23T11:21:40.333Z"
   },
   {
    "duration": 6,
    "start_time": "2023-05-23T11:21:40.344Z"
   },
   {
    "duration": 16,
    "start_time": "2023-05-23T11:21:40.351Z"
   },
   {
    "duration": 85,
    "start_time": "2023-05-23T11:21:40.368Z"
   },
   {
    "duration": 4,
    "start_time": "2023-05-23T11:21:40.454Z"
   },
   {
    "duration": 10,
    "start_time": "2023-05-23T11:21:40.459Z"
   },
   {
    "duration": 59,
    "start_time": "2023-05-23T11:21:40.471Z"
   },
   {
    "duration": 3968,
    "start_time": "2023-05-23T11:21:40.532Z"
   },
   {
    "duration": 13,
    "start_time": "2023-05-23T11:21:44.502Z"
   },
   {
    "duration": 14,
    "start_time": "2023-05-23T11:21:44.516Z"
   },
   {
    "duration": 729,
    "start_time": "2023-05-23T11:21:44.532Z"
   },
   {
    "duration": 20045,
    "start_time": "2023-05-23T11:21:45.262Z"
   },
   {
    "duration": 199,
    "start_time": "2023-05-23T11:22:05.309Z"
   },
   {
    "duration": 4,
    "start_time": "2023-05-23T11:22:05.510Z"
   },
   {
    "duration": 43026,
    "start_time": "2023-05-23T11:22:05.606Z"
   },
   {
    "duration": 5,
    "start_time": "2023-05-23T11:22:48.634Z"
   },
   {
    "duration": 4,
    "start_time": "2023-05-23T11:22:48.640Z"
   },
   {
    "duration": 142,
    "start_time": "2023-05-23T11:22:48.646Z"
   },
   {
    "duration": 4,
    "start_time": "2023-05-23T11:22:48.789Z"
   },
   {
    "duration": 154113,
    "start_time": "2023-05-23T11:22:48.794Z"
   },
   {
    "duration": 4,
    "start_time": "2023-05-23T11:25:22.908Z"
   },
   {
    "duration": 9,
    "start_time": "2023-05-23T11:25:22.913Z"
   },
   {
    "duration": 8,
    "start_time": "2023-05-23T11:25:22.924Z"
   },
   {
    "duration": 216259,
    "start_time": "2023-05-23T11:25:22.933Z"
   },
   {
    "duration": 4,
    "start_time": "2023-05-23T11:28:59.194Z"
   },
   {
    "duration": 6,
    "start_time": "2023-05-23T11:28:59.199Z"
   },
   {
    "duration": 5,
    "start_time": "2023-05-23T11:28:59.206Z"
   },
   {
    "duration": 1244300,
    "start_time": "2023-05-23T11:28:59.212Z"
   },
   {
    "duration": 0,
    "start_time": "2023-05-23T11:49:43.513Z"
   },
   {
    "duration": 0,
    "start_time": "2023-05-23T11:49:43.515Z"
   },
   {
    "duration": 0,
    "start_time": "2023-05-23T11:49:43.516Z"
   },
   {
    "duration": 0,
    "start_time": "2023-05-23T11:49:43.517Z"
   },
   {
    "duration": 3,
    "start_time": "2023-05-23T11:49:50.127Z"
   },
   {
    "duration": 1462,
    "start_time": "2023-05-23T11:50:03.438Z"
   },
   {
    "duration": 1874,
    "start_time": "2023-05-23T11:50:04.902Z"
   },
   {
    "duration": 6,
    "start_time": "2023-05-23T11:50:06.778Z"
   },
   {
    "duration": 26,
    "start_time": "2023-05-23T11:50:06.787Z"
   },
   {
    "duration": 2742,
    "start_time": "2023-05-23T11:50:06.815Z"
   },
   {
    "duration": 24,
    "start_time": "2023-05-23T11:50:09.558Z"
   },
   {
    "duration": 932,
    "start_time": "2023-05-23T11:50:09.584Z"
   },
   {
    "duration": 21,
    "start_time": "2023-05-23T11:50:10.517Z"
   },
   {
    "duration": 499,
    "start_time": "2023-05-23T11:50:10.539Z"
   },
   {
    "duration": 26,
    "start_time": "2023-05-23T11:50:11.041Z"
   },
   {
    "duration": 5,
    "start_time": "2023-05-23T11:50:11.069Z"
   },
   {
    "duration": 5,
    "start_time": "2023-05-23T11:50:11.075Z"
   },
   {
    "duration": 25,
    "start_time": "2023-05-23T11:50:11.081Z"
   },
   {
    "duration": 10,
    "start_time": "2023-05-23T11:50:11.108Z"
   },
   {
    "duration": 17,
    "start_time": "2023-05-23T11:50:11.119Z"
   },
   {
    "duration": 39,
    "start_time": "2023-05-23T11:50:11.138Z"
   },
   {
    "duration": 1095,
    "start_time": "2023-05-23T11:50:11.179Z"
   },
   {
    "duration": 37,
    "start_time": "2023-05-23T11:50:12.276Z"
   },
   {
    "duration": 8660,
    "start_time": "2023-05-23T11:50:12.314Z"
   },
   {
    "duration": 70,
    "start_time": "2023-05-23T11:50:20.976Z"
   },
   {
    "duration": 91,
    "start_time": "2023-05-23T11:50:21.048Z"
   },
   {
    "duration": 929,
    "start_time": "2023-05-23T11:50:21.141Z"
   },
   {
    "duration": 6180,
    "start_time": "2023-05-23T11:50:22.073Z"
   },
   {
    "duration": 28,
    "start_time": "2023-05-23T11:50:28.255Z"
   },
   {
    "duration": 12,
    "start_time": "2023-05-23T11:50:28.284Z"
   },
   {
    "duration": 28,
    "start_time": "2023-05-23T11:50:28.297Z"
   },
   {
    "duration": 102,
    "start_time": "2023-05-23T11:50:28.327Z"
   },
   {
    "duration": 4,
    "start_time": "2023-05-23T11:50:28.432Z"
   },
   {
    "duration": 39,
    "start_time": "2023-05-23T11:50:28.438Z"
   },
   {
    "duration": 473,
    "start_time": "2023-05-23T11:50:28.478Z"
   },
   {
    "duration": 11,
    "start_time": "2023-05-23T11:50:28.952Z"
   },
   {
    "duration": 8,
    "start_time": "2023-05-23T11:50:28.964Z"
   },
   {
    "duration": 32,
    "start_time": "2023-05-23T11:50:28.974Z"
   },
   {
    "duration": 66,
    "start_time": "2023-05-23T11:50:29.008Z"
   },
   {
    "duration": 4,
    "start_time": "2023-05-23T11:50:29.076Z"
   },
   {
    "duration": 25,
    "start_time": "2023-05-23T11:50:29.081Z"
   },
   {
    "duration": 75,
    "start_time": "2023-05-23T11:50:29.108Z"
   },
   {
    "duration": 4282,
    "start_time": "2023-05-23T11:50:29.185Z"
   },
   {
    "duration": 15,
    "start_time": "2023-05-23T11:50:33.468Z"
   },
   {
    "duration": 24,
    "start_time": "2023-05-23T11:50:33.484Z"
   },
   {
    "duration": 716,
    "start_time": "2023-05-23T11:50:33.509Z"
   },
   {
    "duration": 29487,
    "start_time": "2023-05-23T11:50:34.227Z"
   },
   {
    "duration": 298,
    "start_time": "2023-05-23T11:51:03.716Z"
   },
   {
    "duration": 5,
    "start_time": "2023-05-23T11:51:04.015Z"
   },
   {
    "duration": 43845,
    "start_time": "2023-05-23T11:51:04.107Z"
   },
   {
    "duration": 6,
    "start_time": "2023-05-23T11:51:47.953Z"
   },
   {
    "duration": 4,
    "start_time": "2023-05-23T11:51:47.961Z"
   },
   {
    "duration": 153,
    "start_time": "2023-05-23T11:51:47.967Z"
   },
   {
    "duration": 4,
    "start_time": "2023-05-23T11:51:48.122Z"
   },
   {
    "duration": 348086,
    "start_time": "2023-05-23T11:51:48.127Z"
   },
   {
    "duration": 5,
    "start_time": "2023-05-23T11:57:36.215Z"
   },
   {
    "duration": 3,
    "start_time": "2023-05-23T11:57:36.221Z"
   },
   {
    "duration": 5,
    "start_time": "2023-05-23T11:57:36.225Z"
   },
   {
    "duration": 217832,
    "start_time": "2023-05-23T11:57:36.231Z"
   },
   {
    "duration": 4,
    "start_time": "2023-05-23T12:01:14.064Z"
   },
   {
    "duration": 10,
    "start_time": "2023-05-23T12:01:14.069Z"
   },
   {
    "duration": 6,
    "start_time": "2023-05-23T12:01:14.080Z"
   },
   {
    "duration": 204046,
    "start_time": "2023-05-23T12:01:14.087Z"
   },
   {
    "duration": 0,
    "start_time": "2023-05-23T12:04:38.135Z"
   },
   {
    "duration": 0,
    "start_time": "2023-05-23T12:04:38.136Z"
   },
   {
    "duration": 0,
    "start_time": "2023-05-23T12:04:38.137Z"
   },
   {
    "duration": 0,
    "start_time": "2023-05-23T12:04:38.138Z"
   },
   {
    "duration": 17,
    "start_time": "2023-05-23T12:04:40.230Z"
   },
   {
    "duration": 18,
    "start_time": "2023-05-23T12:05:14.620Z"
   },
   {
    "duration": 17,
    "start_time": "2023-05-23T12:07:12.547Z"
   },
   {
    "duration": 14,
    "start_time": "2023-05-23T12:07:36.835Z"
   },
   {
    "duration": 12,
    "start_time": "2023-05-23T12:09:38.480Z"
   },
   {
    "duration": 13,
    "start_time": "2023-05-23T12:09:42.719Z"
   },
   {
    "duration": 14,
    "start_time": "2023-05-23T12:09:56.072Z"
   },
   {
    "duration": 14,
    "start_time": "2023-05-23T12:10:11.340Z"
   },
   {
    "duration": 14,
    "start_time": "2023-05-23T12:10:31.535Z"
   },
   {
    "duration": 10,
    "start_time": "2023-05-23T12:10:57.231Z"
   },
   {
    "duration": 20,
    "start_time": "2023-05-23T12:11:11.597Z"
   },
   {
    "duration": 19,
    "start_time": "2023-05-23T12:11:36.799Z"
   },
   {
    "duration": 15524,
    "start_time": "2023-05-23T12:11:44.501Z"
   },
   {
    "duration": 19406,
    "start_time": "2023-05-23T12:13:04.123Z"
   },
   {
    "duration": 10,
    "start_time": "2023-05-23T12:24:19.673Z"
   },
   {
    "duration": 11,
    "start_time": "2023-05-23T12:27:14.138Z"
   },
   {
    "duration": 231,
    "start_time": "2023-05-23T12:31:09.507Z"
   },
   {
    "duration": 205,
    "start_time": "2023-05-23T12:32:29.023Z"
   },
   {
    "duration": 177,
    "start_time": "2023-05-23T12:33:11.851Z"
   },
   {
    "duration": 165,
    "start_time": "2023-05-23T12:34:45.353Z"
   },
   {
    "duration": 1631,
    "start_time": "2023-05-23T12:43:44.012Z"
   },
   {
    "duration": 1838,
    "start_time": "2023-05-23T12:43:45.646Z"
   },
   {
    "duration": 5,
    "start_time": "2023-05-23T12:43:47.486Z"
   },
   {
    "duration": 22,
    "start_time": "2023-05-23T12:43:47.493Z"
   },
   {
    "duration": 736,
    "start_time": "2023-05-23T12:43:47.518Z"
   },
   {
    "duration": 22,
    "start_time": "2023-05-23T12:43:48.256Z"
   },
   {
    "duration": 943,
    "start_time": "2023-05-23T12:43:48.280Z"
   },
   {
    "duration": 19,
    "start_time": "2023-05-23T12:43:49.224Z"
   },
   {
    "duration": 448,
    "start_time": "2023-05-23T12:43:49.244Z"
   },
   {
    "duration": 28,
    "start_time": "2023-05-23T12:43:49.694Z"
   },
   {
    "duration": 4,
    "start_time": "2023-05-23T12:43:49.724Z"
   },
   {
    "duration": 25,
    "start_time": "2023-05-23T12:43:49.729Z"
   },
   {
    "duration": 8,
    "start_time": "2023-05-23T12:43:49.756Z"
   },
   {
    "duration": 7,
    "start_time": "2023-05-23T12:43:49.766Z"
   },
   {
    "duration": 20,
    "start_time": "2023-05-23T12:43:49.775Z"
   },
   {
    "duration": 35,
    "start_time": "2023-05-23T12:43:49.797Z"
   },
   {
    "duration": 1054,
    "start_time": "2023-05-23T12:43:49.833Z"
   },
   {
    "duration": 33,
    "start_time": "2023-05-23T12:43:50.889Z"
   },
   {
    "duration": 8882,
    "start_time": "2023-05-23T12:43:50.924Z"
   },
   {
    "duration": 60,
    "start_time": "2023-05-23T12:43:59.808Z"
   },
   {
    "duration": 93,
    "start_time": "2023-05-23T12:43:59.870Z"
   },
   {
    "duration": 1003,
    "start_time": "2023-05-23T12:43:59.964Z"
   },
   {
    "duration": 6356,
    "start_time": "2023-05-23T12:44:00.969Z"
   },
   {
    "duration": 26,
    "start_time": "2023-05-23T12:44:07.326Z"
   },
   {
    "duration": 8,
    "start_time": "2023-05-23T12:44:07.354Z"
   },
   {
    "duration": 22,
    "start_time": "2023-05-23T12:44:07.363Z"
   },
   {
    "duration": 108,
    "start_time": "2023-05-23T12:44:07.387Z"
   },
   {
    "duration": 4,
    "start_time": "2023-05-23T12:44:07.497Z"
   },
   {
    "duration": 24,
    "start_time": "2023-05-23T12:44:07.506Z"
   },
   {
    "duration": 474,
    "start_time": "2023-05-23T12:44:07.532Z"
   },
   {
    "duration": 10,
    "start_time": "2023-05-23T12:44:08.007Z"
   },
   {
    "duration": 11,
    "start_time": "2023-05-23T12:44:08.019Z"
   },
   {
    "duration": 22,
    "start_time": "2023-05-23T12:44:08.032Z"
   },
   {
    "duration": 74,
    "start_time": "2023-05-23T12:44:08.056Z"
   },
   {
    "duration": 5,
    "start_time": "2023-05-23T12:44:08.132Z"
   },
   {
    "duration": 13,
    "start_time": "2023-05-23T12:44:08.139Z"
   },
   {
    "duration": 68,
    "start_time": "2023-05-23T12:44:08.154Z"
   },
   {
    "duration": 4153,
    "start_time": "2023-05-23T12:44:08.224Z"
   },
   {
    "duration": 13,
    "start_time": "2023-05-23T12:44:12.379Z"
   },
   {
    "duration": 21,
    "start_time": "2023-05-23T12:44:12.394Z"
   },
   {
    "duration": 762,
    "start_time": "2023-05-23T12:44:12.419Z"
   },
   {
    "duration": 26433,
    "start_time": "2023-05-23T12:44:13.183Z"
   },
   {
    "duration": 202,
    "start_time": "2023-05-23T12:44:39.706Z"
   },
   {
    "duration": 5,
    "start_time": "2023-05-23T12:44:39.909Z"
   },
   {
    "duration": 45425,
    "start_time": "2023-05-23T12:44:39.915Z"
   },
   {
    "duration": 4,
    "start_time": "2023-05-23T12:45:25.342Z"
   },
   {
    "duration": 20,
    "start_time": "2023-05-23T12:45:25.347Z"
   },
   {
    "duration": 140,
    "start_time": "2023-05-23T12:45:25.368Z"
   },
   {
    "duration": 4,
    "start_time": "2023-05-23T12:45:25.509Z"
   },
   {
    "duration": 245595,
    "start_time": "2023-05-23T12:45:25.514Z"
   },
   {
    "duration": 4,
    "start_time": "2023-05-23T12:49:31.111Z"
   },
   {
    "duration": 30,
    "start_time": "2023-05-23T12:49:31.116Z"
   },
   {
    "duration": 26,
    "start_time": "2023-05-23T12:49:31.147Z"
   },
   {
    "duration": 222875,
    "start_time": "2023-05-23T12:49:31.175Z"
   },
   {
    "duration": 4,
    "start_time": "2023-05-23T12:53:14.052Z"
   },
   {
    "duration": 14,
    "start_time": "2023-05-23T12:53:14.057Z"
   },
   {
    "duration": 11,
    "start_time": "2023-05-23T12:53:14.072Z"
   },
   {
    "duration": 340,
    "start_time": "2023-05-23T12:53:14.085Z"
   },
   {
    "duration": 1936,
    "start_time": "2023-05-23T13:53:32.892Z"
   },
   {
    "duration": 3312,
    "start_time": "2023-05-23T13:53:34.830Z"
   },
   {
    "duration": 7,
    "start_time": "2023-05-23T13:53:38.144Z"
   },
   {
    "duration": 12,
    "start_time": "2023-05-23T13:53:38.153Z"
   },
   {
    "duration": 984,
    "start_time": "2023-05-23T13:53:38.166Z"
   },
   {
    "duration": 24,
    "start_time": "2023-05-23T13:53:39.151Z"
   },
   {
    "duration": 946,
    "start_time": "2023-05-23T13:53:39.177Z"
   },
   {
    "duration": 20,
    "start_time": "2023-05-23T13:53:40.125Z"
   },
   {
    "duration": 401,
    "start_time": "2023-05-23T13:53:40.147Z"
   },
   {
    "duration": 24,
    "start_time": "2023-05-23T13:53:40.550Z"
   },
   {
    "duration": 14,
    "start_time": "2023-05-23T13:53:40.575Z"
   },
   {
    "duration": 6,
    "start_time": "2023-05-23T13:53:40.591Z"
   },
   {
    "duration": 23,
    "start_time": "2023-05-23T13:53:40.598Z"
   },
   {
    "duration": 16,
    "start_time": "2023-05-23T13:53:40.622Z"
   },
   {
    "duration": 20,
    "start_time": "2023-05-23T13:53:40.640Z"
   },
   {
    "duration": 30,
    "start_time": "2023-05-23T13:53:40.662Z"
   },
   {
    "duration": 1128,
    "start_time": "2023-05-23T13:53:40.693Z"
   },
   {
    "duration": 32,
    "start_time": "2023-05-23T13:53:41.823Z"
   },
   {
    "duration": 8651,
    "start_time": "2023-05-23T13:53:41.857Z"
   },
   {
    "duration": 81,
    "start_time": "2023-05-23T13:53:50.509Z"
   },
   {
    "duration": 105,
    "start_time": "2023-05-23T13:53:50.592Z"
   },
   {
    "duration": 1020,
    "start_time": "2023-05-23T13:53:50.699Z"
   },
   {
    "duration": 6752,
    "start_time": "2023-05-23T13:53:51.721Z"
   },
   {
    "duration": 30,
    "start_time": "2023-05-23T13:53:58.475Z"
   },
   {
    "duration": 8,
    "start_time": "2023-05-23T13:53:58.507Z"
   },
   {
    "duration": 24,
    "start_time": "2023-05-23T13:53:58.517Z"
   },
   {
    "duration": 103,
    "start_time": "2023-05-23T13:53:58.543Z"
   },
   {
    "duration": 4,
    "start_time": "2023-05-23T13:53:58.650Z"
   },
   {
    "duration": 26,
    "start_time": "2023-05-23T13:53:58.655Z"
   },
   {
    "duration": 476,
    "start_time": "2023-05-23T13:53:58.683Z"
   },
   {
    "duration": 11,
    "start_time": "2023-05-23T13:53:59.161Z"
   },
   {
    "duration": 5,
    "start_time": "2023-05-23T13:53:59.173Z"
   },
   {
    "duration": 17,
    "start_time": "2023-05-23T13:53:59.180Z"
   },
   {
    "duration": 50,
    "start_time": "2023-05-23T13:53:59.217Z"
   },
   {
    "duration": 4,
    "start_time": "2023-05-23T13:53:59.269Z"
   },
   {
    "duration": 20,
    "start_time": "2023-05-23T13:53:59.274Z"
   },
   {
    "duration": 76,
    "start_time": "2023-05-23T13:53:59.296Z"
   },
   {
    "duration": 2478,
    "start_time": "2023-05-23T13:53:59.373Z"
   },
   {
    "duration": 16,
    "start_time": "2023-05-23T13:54:01.853Z"
   },
   {
    "duration": 30,
    "start_time": "2023-05-23T13:54:01.871Z"
   },
   {
    "duration": 614,
    "start_time": "2023-05-23T13:54:01.903Z"
   },
   {
    "duration": 25297,
    "start_time": "2023-05-23T13:54:02.519Z"
   },
   {
    "duration": 207,
    "start_time": "2023-05-23T13:54:27.819Z"
   },
   {
    "duration": 89,
    "start_time": "2023-05-23T13:54:28.029Z"
   },
   {
    "duration": 39458,
    "start_time": "2023-05-23T13:54:28.120Z"
   },
   {
    "duration": 4,
    "start_time": "2023-05-23T13:55:07.579Z"
   },
   {
    "duration": 4,
    "start_time": "2023-05-23T13:55:07.585Z"
   },
   {
    "duration": 156,
    "start_time": "2023-05-23T13:55:07.590Z"
   },
   {
    "duration": 4,
    "start_time": "2023-05-23T13:55:07.747Z"
   },
   {
    "duration": 223169,
    "start_time": "2023-05-23T13:55:07.752Z"
   },
   {
    "duration": 4,
    "start_time": "2023-05-23T13:58:50.925Z"
   },
   {
    "duration": 15,
    "start_time": "2023-05-23T13:58:51.017Z"
   },
   {
    "duration": 16,
    "start_time": "2023-05-23T13:58:51.034Z"
   },
   {
    "duration": 270495,
    "start_time": "2023-05-23T13:58:51.052Z"
   },
   {
    "duration": 5,
    "start_time": "2023-05-23T14:03:21.550Z"
   },
   {
    "duration": 8,
    "start_time": "2023-05-23T14:03:21.557Z"
   },
   {
    "duration": 25,
    "start_time": "2023-05-23T14:03:21.567Z"
   },
   {
    "duration": 239,
    "start_time": "2023-05-23T14:03:21.594Z"
   },
   {
    "duration": 44,
    "start_time": "2023-05-23T20:15:43.915Z"
   },
   {
    "duration": 6,
    "start_time": "2023-05-23T20:16:19.592Z"
   },
   {
    "duration": 1822,
    "start_time": "2023-05-23T20:41:46.173Z"
   },
   {
    "duration": 3243,
    "start_time": "2023-05-23T20:41:47.997Z"
   },
   {
    "duration": 7,
    "start_time": "2023-05-23T20:41:51.242Z"
   },
   {
    "duration": 28,
    "start_time": "2023-05-23T20:41:51.252Z"
   },
   {
    "duration": 1168,
    "start_time": "2023-05-23T20:41:51.282Z"
   },
   {
    "duration": 25,
    "start_time": "2023-05-23T20:41:52.452Z"
   },
   {
    "duration": 1224,
    "start_time": "2023-05-23T20:41:52.478Z"
   },
   {
    "duration": 25,
    "start_time": "2023-05-23T20:41:53.704Z"
   },
   {
    "duration": 446,
    "start_time": "2023-05-23T20:41:54.250Z"
   },
   {
    "duration": 16,
    "start_time": "2023-05-23T20:41:56.655Z"
   },
   {
    "duration": 4,
    "start_time": "2023-05-23T20:41:57.823Z"
   },
   {
    "duration": 3,
    "start_time": "2023-05-23T20:42:03.748Z"
   },
   {
    "duration": 4,
    "start_time": "2023-05-23T20:42:04.470Z"
   },
   {
    "duration": 4,
    "start_time": "2023-05-23T20:42:05.179Z"
   },
   {
    "duration": 4,
    "start_time": "2023-05-23T20:42:15.091Z"
   },
   {
    "duration": 3,
    "start_time": "2023-05-23T20:42:41.840Z"
   },
   {
    "duration": 4,
    "start_time": "2023-05-23T20:42:42.689Z"
   },
   {
    "duration": 10,
    "start_time": "2023-05-23T20:42:46.535Z"
   },
   {
    "duration": 36,
    "start_time": "2023-05-23T20:42:50.009Z"
   },
   {
    "duration": 1051,
    "start_time": "2023-05-23T20:42:51.839Z"
   },
   {
    "duration": 32,
    "start_time": "2023-05-23T20:42:58.274Z"
   },
   {
    "duration": 9028,
    "start_time": "2023-05-23T20:43:01.584Z"
   },
   {
    "duration": 74,
    "start_time": "2023-05-23T20:43:10.614Z"
   },
   {
    "duration": 102,
    "start_time": "2023-05-23T20:43:10.696Z"
   },
   {
    "duration": 982,
    "start_time": "2023-05-23T20:43:11.306Z"
   },
   {
    "duration": 8030,
    "start_time": "2023-05-23T20:43:17.307Z"
   },
   {
    "duration": 33,
    "start_time": "2023-05-23T20:44:26.841Z"
   },
   {
    "duration": 9,
    "start_time": "2023-05-23T20:44:27.568Z"
   },
   {
    "duration": 25,
    "start_time": "2023-05-23T20:44:28.060Z"
   },
   {
    "duration": 102,
    "start_time": "2023-05-23T20:44:29.938Z"
   },
   {
    "duration": 5,
    "start_time": "2023-05-23T20:44:30.740Z"
   },
   {
    "duration": 27,
    "start_time": "2023-05-23T20:44:31.147Z"
   },
   {
    "duration": 632,
    "start_time": "2023-05-23T20:44:32.396Z"
   },
   {
    "duration": 75,
    "start_time": "2023-05-23T20:48:30.230Z"
   },
   {
    "duration": 9,
    "start_time": "2023-05-23T20:48:37.962Z"
   },
   {
    "duration": 617,
    "start_time": "2023-05-23T20:48:43.159Z"
   },
   {
    "duration": 48,
    "start_time": "2023-05-23T20:55:21.379Z"
   },
   {
    "duration": 10,
    "start_time": "2023-05-23T20:56:55.580Z"
   },
   {
    "duration": 1901,
    "start_time": "2023-05-24T05:56:08.216Z"
   },
   {
    "duration": 2757,
    "start_time": "2023-05-24T05:56:10.119Z"
   },
   {
    "duration": 7,
    "start_time": "2023-05-24T05:56:12.878Z"
   },
   {
    "duration": 14,
    "start_time": "2023-05-24T05:56:12.888Z"
   },
   {
    "duration": 1174,
    "start_time": "2023-05-24T05:56:12.904Z"
   },
   {
    "duration": 29,
    "start_time": "2023-05-24T05:56:14.080Z"
   },
   {
    "duration": 1083,
    "start_time": "2023-05-24T05:56:14.110Z"
   },
   {
    "duration": 23,
    "start_time": "2023-05-24T05:56:15.196Z"
   },
   {
    "duration": 533,
    "start_time": "2023-05-24T05:56:15.221Z"
   },
   {
    "duration": 32,
    "start_time": "2023-05-24T05:56:15.758Z"
   },
   {
    "duration": 10,
    "start_time": "2023-05-24T05:56:15.792Z"
   },
   {
    "duration": 19,
    "start_time": "2023-05-24T05:56:15.803Z"
   },
   {
    "duration": 13,
    "start_time": "2023-05-24T05:56:15.824Z"
   },
   {
    "duration": 8,
    "start_time": "2023-05-24T05:56:15.839Z"
   },
   {
    "duration": 24,
    "start_time": "2023-05-24T05:56:15.849Z"
   },
   {
    "duration": 50,
    "start_time": "2023-05-24T05:56:15.875Z"
   },
   {
    "duration": 1249,
    "start_time": "2023-05-24T05:56:15.927Z"
   },
   {
    "duration": 33,
    "start_time": "2023-05-24T05:56:17.178Z"
   },
   {
    "duration": 9689,
    "start_time": "2023-05-24T05:56:17.213Z"
   },
   {
    "duration": 81,
    "start_time": "2023-05-24T05:56:26.904Z"
   },
   {
    "duration": 97,
    "start_time": "2023-05-24T05:56:26.987Z"
   },
   {
    "duration": 1173,
    "start_time": "2023-05-24T05:56:27.086Z"
   },
   {
    "duration": 8464,
    "start_time": "2023-05-24T05:56:28.272Z"
   },
   {
    "duration": 35,
    "start_time": "2023-05-24T05:56:36.738Z"
   },
   {
    "duration": 9,
    "start_time": "2023-05-24T05:56:36.775Z"
   },
   {
    "duration": 28,
    "start_time": "2023-05-24T05:56:36.786Z"
   },
   {
    "duration": 117,
    "start_time": "2023-05-24T05:56:36.816Z"
   },
   {
    "duration": 4,
    "start_time": "2023-05-24T05:56:36.937Z"
   },
   {
    "duration": 42,
    "start_time": "2023-05-24T05:56:36.943Z"
   },
   {
    "duration": 653,
    "start_time": "2023-05-24T05:56:36.987Z"
   },
   {
    "duration": 15,
    "start_time": "2023-05-24T05:56:37.642Z"
   },
   {
    "duration": 4,
    "start_time": "2023-05-24T05:56:37.672Z"
   },
   {
    "duration": 23,
    "start_time": "2023-05-24T05:56:37.677Z"
   },
   {
    "duration": 110,
    "start_time": "2023-05-24T05:56:37.702Z"
   },
   {
    "duration": 6,
    "start_time": "2023-05-24T05:56:37.814Z"
   },
   {
    "duration": 25,
    "start_time": "2023-05-24T05:56:37.823Z"
   },
   {
    "duration": 93,
    "start_time": "2023-05-24T05:56:37.850Z"
   },
   {
    "duration": 5995,
    "start_time": "2023-05-24T05:56:37.945Z"
   },
   {
    "duration": 16,
    "start_time": "2023-05-24T05:56:43.942Z"
   },
   {
    "duration": 26,
    "start_time": "2023-05-24T05:56:43.960Z"
   },
   {
    "duration": 1175,
    "start_time": "2023-05-24T05:56:43.987Z"
   },
   {
    "duration": 24210,
    "start_time": "2023-05-24T05:56:45.164Z"
   },
   {
    "duration": 503,
    "start_time": "2023-05-24T05:57:09.376Z"
   },
   {
    "duration": 92,
    "start_time": "2023-05-24T05:57:09.881Z"
   },
   {
    "duration": 97,
    "start_time": "2023-05-24T05:57:09.975Z"
   },
   {
    "duration": 51729,
    "start_time": "2023-05-24T05:57:10.074Z"
   },
   {
    "duration": 7,
    "start_time": "2023-05-24T05:58:01.806Z"
   },
   {
    "duration": 143,
    "start_time": "2023-05-24T05:58:01.815Z"
   },
   {
    "duration": 325,
    "start_time": "2023-05-24T05:58:01.962Z"
   },
   {
    "duration": 4,
    "start_time": "2023-05-24T05:58:02.289Z"
   },
   {
    "duration": 2132713,
    "start_time": "2023-05-24T05:58:02.296Z"
   },
   {
    "duration": 0,
    "start_time": "2023-05-24T06:33:35.011Z"
   },
   {
    "duration": 0,
    "start_time": "2023-05-24T06:33:35.013Z"
   },
   {
    "duration": 0,
    "start_time": "2023-05-24T06:33:35.014Z"
   },
   {
    "duration": 0,
    "start_time": "2023-05-24T06:33:35.015Z"
   },
   {
    "duration": 0,
    "start_time": "2023-05-24T06:33:35.017Z"
   },
   {
    "duration": 1,
    "start_time": "2023-05-24T06:33:35.017Z"
   },
   {
    "duration": 0,
    "start_time": "2023-05-24T06:33:35.018Z"
   },
   {
    "duration": 0,
    "start_time": "2023-05-24T06:33:35.020Z"
   },
   {
    "duration": 0,
    "start_time": "2023-05-24T06:33:35.021Z"
   },
   {
    "duration": 1801,
    "start_time": "2023-05-24T06:45:54.912Z"
   },
   {
    "duration": 2304,
    "start_time": "2023-05-24T06:45:56.715Z"
   },
   {
    "duration": 8,
    "start_time": "2023-05-24T06:45:59.022Z"
   },
   {
    "duration": 13,
    "start_time": "2023-05-24T06:45:59.033Z"
   },
   {
    "duration": 1052,
    "start_time": "2023-05-24T06:45:59.051Z"
   },
   {
    "duration": 30,
    "start_time": "2023-05-24T06:46:00.106Z"
   },
   {
    "duration": 1337,
    "start_time": "2023-05-24T06:46:00.139Z"
   },
   {
    "duration": 23,
    "start_time": "2023-05-24T06:46:01.478Z"
   },
   {
    "duration": 839,
    "start_time": "2023-05-24T06:46:01.503Z"
   },
   {
    "duration": 27,
    "start_time": "2023-05-24T06:46:02.345Z"
   },
   {
    "duration": 100,
    "start_time": "2023-05-24T06:46:02.374Z"
   },
   {
    "duration": 70,
    "start_time": "2023-05-24T06:46:02.476Z"
   },
   {
    "duration": 98,
    "start_time": "2023-05-24T06:46:02.549Z"
   },
   {
    "duration": 98,
    "start_time": "2023-05-24T06:46:02.649Z"
   },
   {
    "duration": 53,
    "start_time": "2023-05-24T06:46:02.749Z"
   },
   {
    "duration": 74,
    "start_time": "2023-05-24T06:46:02.804Z"
   },
   {
    "duration": 1291,
    "start_time": "2023-05-24T06:46:02.880Z"
   },
   {
    "duration": 36,
    "start_time": "2023-05-24T06:46:04.173Z"
   },
   {
    "duration": 10384,
    "start_time": "2023-05-24T06:46:04.211Z"
   },
   {
    "duration": 79,
    "start_time": "2023-05-24T06:46:14.598Z"
   },
   {
    "duration": 102,
    "start_time": "2023-05-24T06:46:14.679Z"
   },
   {
    "duration": 1202,
    "start_time": "2023-05-24T06:46:14.783Z"
   },
   {
    "duration": 10185,
    "start_time": "2023-05-24T06:46:15.988Z"
   },
   {
    "duration": 37,
    "start_time": "2023-05-24T06:46:26.175Z"
   },
   {
    "duration": 9,
    "start_time": "2023-05-24T06:46:26.214Z"
   },
   {
    "duration": 70,
    "start_time": "2023-05-24T06:46:26.225Z"
   },
   {
    "duration": 115,
    "start_time": "2023-05-24T06:46:26.297Z"
   },
   {
    "duration": 5,
    "start_time": "2023-05-24T06:46:26.417Z"
   },
   {
    "duration": 47,
    "start_time": "2023-05-24T06:46:26.425Z"
   },
   {
    "duration": 685,
    "start_time": "2023-05-24T06:46:26.474Z"
   },
   {
    "duration": 17,
    "start_time": "2023-05-24T06:46:27.161Z"
   },
   {
    "duration": 22,
    "start_time": "2023-05-24T06:46:27.181Z"
   },
   {
    "duration": 25,
    "start_time": "2023-05-24T06:46:27.205Z"
   },
   {
    "duration": 93,
    "start_time": "2023-05-24T06:46:27.232Z"
   },
   {
    "duration": 5,
    "start_time": "2023-05-24T06:46:27.327Z"
   },
   {
    "duration": 19,
    "start_time": "2023-05-24T06:46:27.335Z"
   },
   {
    "duration": 77,
    "start_time": "2023-05-24T06:46:27.370Z"
   },
   {
    "duration": 6192,
    "start_time": "2023-05-24T06:46:27.449Z"
   },
   {
    "duration": 17,
    "start_time": "2023-05-24T06:46:33.643Z"
   },
   {
    "duration": 22,
    "start_time": "2023-05-24T06:46:33.662Z"
   },
   {
    "duration": 1233,
    "start_time": "2023-05-24T06:46:33.686Z"
   },
   {
    "duration": 33460,
    "start_time": "2023-05-24T06:46:34.921Z"
   },
   {
    "duration": 592,
    "start_time": "2023-05-24T06:47:08.384Z"
   },
   {
    "duration": 9,
    "start_time": "2023-05-24T06:47:08.978Z"
   },
   {
    "duration": 86,
    "start_time": "2023-05-24T06:47:08.989Z"
   },
   {
    "duration": 55243,
    "start_time": "2023-05-24T06:47:09.078Z"
   },
   {
    "duration": 5,
    "start_time": "2023-05-24T06:48:04.323Z"
   },
   {
    "duration": 27,
    "start_time": "2023-05-24T06:48:04.330Z"
   },
   {
    "duration": 175,
    "start_time": "2023-05-24T06:48:04.359Z"
   },
   {
    "duration": 4,
    "start_time": "2023-05-24T06:48:04.536Z"
   },
   {
    "duration": 1251091,
    "start_time": "2023-05-24T06:48:04.542Z"
   },
   {
    "duration": 0,
    "start_time": "2023-05-24T07:08:55.635Z"
   },
   {
    "duration": 0,
    "start_time": "2023-05-24T07:08:55.637Z"
   },
   {
    "duration": 0,
    "start_time": "2023-05-24T07:08:55.638Z"
   },
   {
    "duration": 0,
    "start_time": "2023-05-24T07:08:55.639Z"
   },
   {
    "duration": 0,
    "start_time": "2023-05-24T07:08:55.640Z"
   },
   {
    "duration": 0,
    "start_time": "2023-05-24T07:08:55.642Z"
   },
   {
    "duration": 0,
    "start_time": "2023-05-24T07:08:55.643Z"
   },
   {
    "duration": 0,
    "start_time": "2023-05-24T07:08:55.644Z"
   },
   {
    "duration": 0,
    "start_time": "2023-05-24T07:08:55.645Z"
   },
   {
    "duration": 0,
    "start_time": "2023-05-24T07:08:55.646Z"
   },
   {
    "duration": 1871,
    "start_time": "2023-05-24T07:10:51.281Z"
   },
   {
    "duration": 2359,
    "start_time": "2023-05-24T07:10:53.154Z"
   },
   {
    "duration": 7,
    "start_time": "2023-05-24T07:10:55.516Z"
   },
   {
    "duration": 50,
    "start_time": "2023-05-24T07:10:55.525Z"
   },
   {
    "duration": 1142,
    "start_time": "2023-05-24T07:10:55.577Z"
   },
   {
    "duration": 31,
    "start_time": "2023-05-24T07:10:56.721Z"
   },
   {
    "duration": 1191,
    "start_time": "2023-05-24T07:10:56.754Z"
   },
   {
    "duration": 35,
    "start_time": "2023-05-24T07:10:57.947Z"
   },
   {
    "duration": 608,
    "start_time": "2023-05-24T07:10:57.984Z"
   },
   {
    "duration": 20,
    "start_time": "2023-05-24T07:10:58.595Z"
   },
   {
    "duration": 12,
    "start_time": "2023-05-24T07:10:58.617Z"
   },
   {
    "duration": 19,
    "start_time": "2023-05-24T07:10:58.631Z"
   },
   {
    "duration": 14,
    "start_time": "2023-05-24T07:10:58.652Z"
   },
   {
    "duration": 46,
    "start_time": "2023-05-24T07:10:58.668Z"
   },
   {
    "duration": 43,
    "start_time": "2023-05-24T07:10:58.716Z"
   },
   {
    "duration": 59,
    "start_time": "2023-05-24T07:10:58.761Z"
   },
   {
    "duration": 1254,
    "start_time": "2023-05-24T07:10:58.822Z"
   },
   {
    "duration": 34,
    "start_time": "2023-05-24T07:11:00.078Z"
   },
   {
    "duration": 11211,
    "start_time": "2023-05-24T07:11:00.115Z"
   },
   {
    "duration": 91,
    "start_time": "2023-05-24T07:11:11.328Z"
   },
   {
    "duration": 102,
    "start_time": "2023-05-24T07:11:11.421Z"
   },
   {
    "duration": 1353,
    "start_time": "2023-05-24T07:11:11.525Z"
   },
   {
    "duration": 9060,
    "start_time": "2023-05-24T07:11:12.880Z"
   },
   {
    "duration": 46,
    "start_time": "2023-05-24T07:11:21.942Z"
   },
   {
    "duration": 9,
    "start_time": "2023-05-24T07:11:21.990Z"
   },
   {
    "duration": 29,
    "start_time": "2023-05-24T07:11:22.001Z"
   },
   {
    "duration": 127,
    "start_time": "2023-05-24T07:11:22.032Z"
   },
   {
    "duration": 7,
    "start_time": "2023-05-24T07:11:22.170Z"
   },
   {
    "duration": 40,
    "start_time": "2023-05-24T07:11:22.179Z"
   },
   {
    "duration": 716,
    "start_time": "2023-05-24T07:11:22.221Z"
   },
   {
    "duration": 14,
    "start_time": "2023-05-24T07:11:22.939Z"
   },
   {
    "duration": 18,
    "start_time": "2023-05-24T07:11:22.955Z"
   },
   {
    "duration": 36,
    "start_time": "2023-05-24T07:11:22.976Z"
   },
   {
    "duration": 150,
    "start_time": "2023-05-24T07:11:23.015Z"
   },
   {
    "duration": 7,
    "start_time": "2023-05-24T07:11:23.167Z"
   },
   {
    "duration": 15,
    "start_time": "2023-05-24T07:11:23.176Z"
   },
   {
    "duration": 89,
    "start_time": "2023-05-24T07:11:23.193Z"
   },
   {
    "duration": 5322,
    "start_time": "2023-05-24T07:11:23.285Z"
   },
   {
    "duration": 17,
    "start_time": "2023-05-24T07:11:28.609Z"
   },
   {
    "duration": 23,
    "start_time": "2023-05-24T07:11:28.628Z"
   },
   {
    "duration": 737,
    "start_time": "2023-05-24T07:11:28.672Z"
   },
   {
    "duration": 1185,
    "start_time": "2023-05-24T07:11:29.411Z"
   },
   {
    "duration": 35883,
    "start_time": "2023-05-24T07:11:30.598Z"
   },
   {
    "duration": 597,
    "start_time": "2023-05-24T07:12:06.483Z"
   },
   {
    "duration": 94,
    "start_time": "2023-05-24T07:12:07.081Z"
   },
   {
    "duration": 8,
    "start_time": "2023-05-24T07:12:07.177Z"
   },
   {
    "duration": 10885,
    "start_time": "2023-05-24T07:12:07.188Z"
   },
   {
    "duration": 6,
    "start_time": "2023-05-24T07:12:18.075Z"
   },
   {
    "duration": 48,
    "start_time": "2023-05-24T07:12:18.083Z"
   },
   {
    "duration": 187,
    "start_time": "2023-05-24T07:12:18.133Z"
   },
   {
    "duration": 5,
    "start_time": "2023-05-24T07:12:18.322Z"
   },
   {
    "duration": 2335,
    "start_time": "2023-05-24T07:25:49.685Z"
   },
   {
    "duration": 2462,
    "start_time": "2023-05-24T07:25:52.022Z"
   },
   {
    "duration": 9,
    "start_time": "2023-05-24T07:25:54.486Z"
   },
   {
    "duration": 13,
    "start_time": "2023-05-24T07:25:54.498Z"
   },
   {
    "duration": 1010,
    "start_time": "2023-05-24T07:25:54.513Z"
   },
   {
    "duration": 31,
    "start_time": "2023-05-24T07:25:55.525Z"
   },
   {
    "duration": 1343,
    "start_time": "2023-05-24T07:25:55.579Z"
   },
   {
    "duration": 23,
    "start_time": "2023-05-24T07:25:56.924Z"
   },
   {
    "duration": 582,
    "start_time": "2023-05-24T07:25:56.949Z"
   },
   {
    "duration": 27,
    "start_time": "2023-05-24T07:25:57.534Z"
   },
   {
    "duration": 41,
    "start_time": "2023-05-24T07:25:57.580Z"
   },
   {
    "duration": 14,
    "start_time": "2023-05-24T07:25:57.623Z"
   },
   {
    "duration": 9,
    "start_time": "2023-05-24T07:25:57.639Z"
   },
   {
    "duration": 17,
    "start_time": "2023-05-24T07:25:57.650Z"
   },
   {
    "duration": 38,
    "start_time": "2023-05-24T07:25:57.668Z"
   },
   {
    "duration": 37,
    "start_time": "2023-05-24T07:25:57.708Z"
   },
   {
    "duration": 1246,
    "start_time": "2023-05-24T07:25:57.747Z"
   },
   {
    "duration": 35,
    "start_time": "2023-05-24T07:25:58.995Z"
   },
   {
    "duration": 10774,
    "start_time": "2023-05-24T07:25:59.032Z"
   },
   {
    "duration": 102,
    "start_time": "2023-05-24T07:26:09.808Z"
   },
   {
    "duration": 106,
    "start_time": "2023-05-24T07:26:09.912Z"
   },
   {
    "duration": 1258,
    "start_time": "2023-05-24T07:26:10.021Z"
   },
   {
    "duration": 7429,
    "start_time": "2023-05-24T07:26:11.281Z"
   },
   {
    "duration": 35,
    "start_time": "2023-05-24T07:26:18.711Z"
   },
   {
    "duration": 30,
    "start_time": "2023-05-24T07:26:18.749Z"
   },
   {
    "duration": 30,
    "start_time": "2023-05-24T07:26:18.781Z"
   },
   {
    "duration": 118,
    "start_time": "2023-05-24T07:26:18.813Z"
   },
   {
    "duration": 6,
    "start_time": "2023-05-24T07:26:18.936Z"
   },
   {
    "duration": 47,
    "start_time": "2023-05-24T07:26:18.944Z"
   },
   {
    "duration": 570,
    "start_time": "2023-05-24T07:26:18.993Z"
   },
   {
    "duration": 22,
    "start_time": "2023-05-24T07:26:19.566Z"
   },
   {
    "duration": 12,
    "start_time": "2023-05-24T07:26:19.590Z"
   },
   {
    "duration": 33,
    "start_time": "2023-05-24T07:26:19.604Z"
   },
   {
    "duration": 105,
    "start_time": "2023-05-24T07:26:19.639Z"
   },
   {
    "duration": 5,
    "start_time": "2023-05-24T07:26:19.747Z"
   },
   {
    "duration": 109,
    "start_time": "2023-05-24T07:26:19.754Z"
   },
   {
    "duration": 120,
    "start_time": "2023-05-24T07:26:19.865Z"
   },
   {
    "duration": 5023,
    "start_time": "2023-05-24T07:26:19.987Z"
   },
   {
    "duration": 17,
    "start_time": "2023-05-24T07:26:25.013Z"
   },
   {
    "duration": 36,
    "start_time": "2023-05-24T07:26:25.032Z"
   },
   {
    "duration": 643,
    "start_time": "2023-05-24T07:26:25.070Z"
   },
   {
    "duration": 885,
    "start_time": "2023-05-24T07:26:25.715Z"
   },
   {
    "duration": 42786,
    "start_time": "2023-05-24T07:26:26.601Z"
   },
   {
    "duration": 584,
    "start_time": "2023-05-24T07:27:09.391Z"
   },
   {
    "duration": 22,
    "start_time": "2023-05-24T07:27:09.979Z"
   },
   {
    "duration": 91,
    "start_time": "2023-05-24T07:27:10.005Z"
   },
   {
    "duration": 10770,
    "start_time": "2023-05-24T07:27:10.099Z"
   },
   {
    "duration": 8,
    "start_time": "2023-05-24T07:27:20.871Z"
   },
   {
    "duration": 55,
    "start_time": "2023-05-24T07:27:20.880Z"
   },
   {
    "duration": 229,
    "start_time": "2023-05-24T07:27:20.937Z"
   },
   {
    "duration": 11,
    "start_time": "2023-05-24T07:27:21.167Z"
   },
   {
    "duration": 2814,
    "start_time": "2023-05-24T07:55:24.720Z"
   },
   {
    "duration": 2613,
    "start_time": "2023-05-24T07:55:27.536Z"
   },
   {
    "duration": 6,
    "start_time": "2023-05-24T07:55:30.151Z"
   },
   {
    "duration": 87,
    "start_time": "2023-05-24T07:55:30.160Z"
   },
   {
    "duration": 1083,
    "start_time": "2023-05-24T07:55:30.249Z"
   },
   {
    "duration": 41,
    "start_time": "2023-05-24T07:55:31.334Z"
   },
   {
    "duration": 1266,
    "start_time": "2023-05-24T07:55:31.377Z"
   },
   {
    "duration": 41,
    "start_time": "2023-05-24T07:55:32.645Z"
   },
   {
    "duration": 604,
    "start_time": "2023-05-24T07:55:32.688Z"
   },
   {
    "duration": 20,
    "start_time": "2023-05-24T07:55:33.295Z"
   },
   {
    "duration": 4,
    "start_time": "2023-05-24T07:55:33.318Z"
   },
   {
    "duration": 11,
    "start_time": "2023-05-24T07:55:33.324Z"
   },
   {
    "duration": 19,
    "start_time": "2023-05-24T07:55:33.337Z"
   },
   {
    "duration": 62,
    "start_time": "2023-05-24T07:55:33.358Z"
   },
   {
    "duration": 60,
    "start_time": "2023-05-24T07:55:33.422Z"
   },
   {
    "duration": 43,
    "start_time": "2023-05-24T07:55:33.484Z"
   },
   {
    "duration": 1254,
    "start_time": "2023-05-24T07:55:33.529Z"
   },
   {
    "duration": 34,
    "start_time": "2023-05-24T07:55:34.786Z"
   },
   {
    "duration": 10727,
    "start_time": "2023-05-24T07:55:34.822Z"
   },
   {
    "duration": 81,
    "start_time": "2023-05-24T07:55:45.551Z"
   },
   {
    "duration": 112,
    "start_time": "2023-05-24T07:55:45.634Z"
   },
   {
    "duration": 1223,
    "start_time": "2023-05-24T07:55:45.748Z"
   },
   {
    "duration": 7450,
    "start_time": "2023-05-24T07:55:46.973Z"
   },
   {
    "duration": 54,
    "start_time": "2023-05-24T07:55:54.425Z"
   },
   {
    "duration": 12,
    "start_time": "2023-05-24T07:55:54.483Z"
   },
   {
    "duration": 37,
    "start_time": "2023-05-24T07:55:54.497Z"
   },
   {
    "duration": 114,
    "start_time": "2023-05-24T07:55:54.536Z"
   },
   {
    "duration": 17,
    "start_time": "2023-05-24T07:55:54.655Z"
   },
   {
    "duration": 48,
    "start_time": "2023-05-24T07:55:54.674Z"
   },
   {
    "duration": 565,
    "start_time": "2023-05-24T07:55:54.724Z"
   },
   {
    "duration": 13,
    "start_time": "2023-05-24T07:55:55.291Z"
   },
   {
    "duration": 24,
    "start_time": "2023-05-24T07:55:55.306Z"
   },
   {
    "duration": 36,
    "start_time": "2023-05-24T07:55:55.332Z"
   },
   {
    "duration": 115,
    "start_time": "2023-05-24T07:55:55.370Z"
   },
   {
    "duration": 5,
    "start_time": "2023-05-24T07:55:55.487Z"
   },
   {
    "duration": 44,
    "start_time": "2023-05-24T07:55:55.493Z"
   },
   {
    "duration": 94,
    "start_time": "2023-05-24T07:55:55.539Z"
   },
   {
    "duration": 7095,
    "start_time": "2023-05-24T07:55:55.635Z"
   },
   {
    "duration": 19,
    "start_time": "2023-05-24T07:56:02.732Z"
   },
   {
    "duration": 47,
    "start_time": "2023-05-24T07:56:02.753Z"
   },
   {
    "duration": 701,
    "start_time": "2023-05-24T07:56:02.802Z"
   },
   {
    "duration": 857,
    "start_time": "2023-05-24T07:56:03.505Z"
   },
   {
    "duration": 42426,
    "start_time": "2023-05-24T07:56:04.364Z"
   },
   {
    "duration": 583,
    "start_time": "2023-05-24T07:56:46.792Z"
   },
   {
    "duration": 11,
    "start_time": "2023-05-24T07:56:47.379Z"
   },
   {
    "duration": 115,
    "start_time": "2023-05-24T07:56:47.392Z"
   },
   {
    "duration": 11166,
    "start_time": "2023-05-24T07:56:47.509Z"
   },
   {
    "duration": 8,
    "start_time": "2023-05-24T07:56:58.678Z"
   },
   {
    "duration": 22,
    "start_time": "2023-05-24T07:56:58.688Z"
   },
   {
    "duration": 200,
    "start_time": "2023-05-24T07:56:58.712Z"
   },
   {
    "duration": 4,
    "start_time": "2023-05-24T07:56:58.914Z"
   },
   {
    "duration": 1692155,
    "start_time": "2023-05-24T07:56:58.920Z"
   },
   {
    "duration": 6,
    "start_time": "2023-05-24T08:25:11.078Z"
   },
   {
    "duration": 8,
    "start_time": "2023-05-24T08:25:11.086Z"
   },
   {
    "duration": 11,
    "start_time": "2023-05-24T08:25:11.096Z"
   },
   {
    "duration": 276789,
    "start_time": "2023-05-24T08:25:11.109Z"
   },
   {
    "duration": 5,
    "start_time": "2023-05-24T08:29:47.900Z"
   },
   {
    "duration": 23,
    "start_time": "2023-05-24T08:29:47.908Z"
   },
   {
    "duration": 29,
    "start_time": "2023-05-24T08:29:47.934Z"
   },
   {
    "duration": 415,
    "start_time": "2023-05-24T08:29:47.965Z"
   },
   {
    "duration": 168,
    "start_time": "2023-05-24T08:29:48.382Z"
   },
   {
    "duration": 0,
    "start_time": "2023-05-24T08:29:48.554Z"
   },
   {
    "duration": 316,
    "start_time": "2023-05-24T08:34:57.583Z"
   },
   {
    "duration": 14,
    "start_time": "2023-05-24T08:35:17.265Z"
   },
   {
    "duration": 353,
    "start_time": "2023-05-24T08:35:20.066Z"
   },
   {
    "duration": 430,
    "start_time": "2023-05-24T08:35:28.252Z"
   },
   {
    "duration": 393,
    "start_time": "2023-05-24T08:35:35.389Z"
   },
   {
    "duration": 502,
    "start_time": "2023-05-24T08:35:41.162Z"
   },
   {
    "duration": 374,
    "start_time": "2023-05-24T08:35:48.269Z"
   },
   {
    "duration": 21,
    "start_time": "2023-05-24T08:42:45.989Z"
   },
   {
    "duration": 18,
    "start_time": "2023-05-24T08:42:46.781Z"
   },
   {
    "duration": 169,
    "start_time": "2023-05-24T08:42:57.441Z"
   },
   {
    "duration": 2018,
    "start_time": "2023-05-24T08:43:12.803Z"
   },
   {
    "duration": 2244,
    "start_time": "2023-05-24T08:43:14.824Z"
   },
   {
    "duration": 7,
    "start_time": "2023-05-24T08:43:17.070Z"
   },
   {
    "duration": 21,
    "start_time": "2023-05-24T08:43:17.079Z"
   },
   {
    "duration": 984,
    "start_time": "2023-05-24T08:43:17.102Z"
   },
   {
    "duration": 29,
    "start_time": "2023-05-24T08:43:18.088Z"
   },
   {
    "duration": 1177,
    "start_time": "2023-05-24T08:43:18.118Z"
   },
   {
    "duration": 22,
    "start_time": "2023-05-24T08:43:19.297Z"
   },
   {
    "duration": 593,
    "start_time": "2023-05-24T08:43:19.320Z"
   },
   {
    "duration": 35,
    "start_time": "2023-05-24T08:43:19.915Z"
   },
   {
    "duration": 9,
    "start_time": "2023-05-24T08:43:19.953Z"
   },
   {
    "duration": 8,
    "start_time": "2023-05-24T08:43:19.970Z"
   },
   {
    "duration": 29,
    "start_time": "2023-05-24T08:43:19.979Z"
   },
   {
    "duration": 12,
    "start_time": "2023-05-24T08:43:20.011Z"
   },
   {
    "duration": 25,
    "start_time": "2023-05-24T08:43:20.025Z"
   },
   {
    "duration": 97,
    "start_time": "2023-05-24T08:43:20.052Z"
   },
   {
    "duration": 1211,
    "start_time": "2023-05-24T08:43:20.152Z"
   },
   {
    "duration": 37,
    "start_time": "2023-05-24T08:43:21.365Z"
   },
   {
    "duration": 10316,
    "start_time": "2023-05-24T08:43:21.403Z"
   },
   {
    "duration": 88,
    "start_time": "2023-05-24T08:43:31.721Z"
   },
   {
    "duration": 129,
    "start_time": "2023-05-24T08:43:31.811Z"
   },
   {
    "duration": 1195,
    "start_time": "2023-05-24T08:43:31.942Z"
   },
   {
    "duration": 7064,
    "start_time": "2023-05-24T08:43:33.139Z"
   },
   {
    "duration": 36,
    "start_time": "2023-05-24T08:43:40.205Z"
   },
   {
    "duration": 61,
    "start_time": "2023-05-24T08:43:40.243Z"
   },
   {
    "duration": 27,
    "start_time": "2023-05-24T08:43:40.306Z"
   },
   {
    "duration": 114,
    "start_time": "2023-05-24T08:43:40.335Z"
   },
   {
    "duration": 6,
    "start_time": "2023-05-24T08:43:40.451Z"
   },
   {
    "duration": 65,
    "start_time": "2023-05-24T08:43:40.459Z"
   },
   {
    "duration": 517,
    "start_time": "2023-05-24T08:43:40.526Z"
   },
   {
    "duration": 13,
    "start_time": "2023-05-24T08:43:41.045Z"
   },
   {
    "duration": 7,
    "start_time": "2023-05-24T08:43:41.070Z"
   },
   {
    "duration": 25,
    "start_time": "2023-05-24T08:43:41.078Z"
   },
   {
    "duration": 104,
    "start_time": "2023-05-24T08:43:41.105Z"
   },
   {
    "duration": 4,
    "start_time": "2023-05-24T08:43:41.211Z"
   },
   {
    "duration": 99,
    "start_time": "2023-05-24T08:43:41.216Z"
   },
   {
    "duration": 161,
    "start_time": "2023-05-24T08:43:41.317Z"
   },
   {
    "duration": 5080,
    "start_time": "2023-05-24T08:43:41.480Z"
   },
   {
    "duration": 25,
    "start_time": "2023-05-24T08:43:46.562Z"
   },
   {
    "duration": 43,
    "start_time": "2023-05-24T08:43:46.589Z"
   },
   {
    "duration": 596,
    "start_time": "2023-05-24T08:43:46.637Z"
   },
   {
    "duration": 14,
    "start_time": "2023-05-24T08:43:47.235Z"
   },
   {
    "duration": 58,
    "start_time": "2023-05-24T08:43:47.251Z"
   },
   {
    "duration": 864,
    "start_time": "2023-05-24T08:43:47.311Z"
   },
   {
    "duration": 24604,
    "start_time": "2023-05-24T08:43:48.177Z"
   },
   {
    "duration": 591,
    "start_time": "2023-05-24T08:44:12.782Z"
   },
   {
    "duration": 98,
    "start_time": "2023-05-24T08:44:13.377Z"
   },
   {
    "duration": 19,
    "start_time": "2023-05-24T08:44:13.476Z"
   },
   {
    "duration": 10339,
    "start_time": "2023-05-24T08:44:13.497Z"
   },
   {
    "duration": 4,
    "start_time": "2023-05-24T08:44:23.838Z"
   },
   {
    "duration": 18,
    "start_time": "2023-05-24T08:44:23.844Z"
   },
   {
    "duration": 174,
    "start_time": "2023-05-24T08:44:23.864Z"
   },
   {
    "duration": 4,
    "start_time": "2023-05-24T08:44:24.040Z"
   },
   {
    "duration": 162128,
    "start_time": "2023-05-24T08:44:24.046Z"
   },
   {
    "duration": 7,
    "start_time": "2023-05-24T08:47:06.177Z"
   },
   {
    "duration": 31,
    "start_time": "2023-05-24T08:47:06.186Z"
   },
   {
    "duration": 22,
    "start_time": "2023-05-24T08:47:06.219Z"
   },
   {
    "duration": 269165,
    "start_time": "2023-05-24T08:47:06.243Z"
   },
   {
    "duration": 5,
    "start_time": "2023-05-24T08:51:35.410Z"
   },
   {
    "duration": 15,
    "start_time": "2023-05-24T08:51:35.417Z"
   },
   {
    "duration": 18,
    "start_time": "2023-05-24T08:51:35.434Z"
   },
   {
    "duration": 319,
    "start_time": "2023-05-24T08:51:35.454Z"
   },
   {
    "duration": 435,
    "start_time": "2023-05-24T08:51:35.775Z"
   },
   {
    "duration": 17,
    "start_time": "2023-05-24T08:54:17.667Z"
   }
  ],
  "kernelspec": {
   "display_name": "Python 3 (ipykernel)",
   "language": "python",
   "name": "python3"
  },
  "language_info": {
   "codemirror_mode": {
    "name": "ipython",
    "version": 3
   },
   "file_extension": ".py",
   "mimetype": "text/x-python",
   "name": "python",
   "nbconvert_exporter": "python",
   "pygments_lexer": "ipython3",
   "version": "3.9.13"
  },
  "toc": {
   "base_numbering": 1,
   "nav_menu": {},
   "number_sections": true,
   "sideBar": true,
   "skip_h1_title": true,
   "title_cell": "Table of Contents",
   "title_sidebar": "Contents",
   "toc_cell": false,
   "toc_position": {
    "height": "calc(100% - 180px)",
    "left": "10px",
    "top": "150px",
    "width": "165px"
   },
   "toc_section_display": true,
   "toc_window_display": true
  }
 },
 "nbformat": 4,
 "nbformat_minor": 2
}
