{
 "cells": [
  {
   "cell_type": "markdown",
   "metadata": {
    "toc": true
   },
   "source": [
    "<h1>Содержание<span class=\"tocSkip\"></span></h1>\n",
    "<div class=\"toc\"><ul class=\"toc-item\"><li><span><a href=\"#Подготовка\" data-toc-modified-id=\"Подготовка-1\"><span class=\"toc-item-num\">1&nbsp;&nbsp;</span>Подготовка</a></span></li><li><span><a href=\"#Обучение\" data-toc-modified-id=\"Обучение-2\"><span class=\"toc-item-num\">2&nbsp;&nbsp;</span>Обучение</a></span></li><li><span><a href=\"#Выводы\" data-toc-modified-id=\"Выводы-3\"><span class=\"toc-item-num\">3&nbsp;&nbsp;</span>Выводы</a></span></li><li><span><a href=\"#Чек-лист-проверки\" data-toc-modified-id=\"Чек-лист-проверки-4\"><span class=\"toc-item-num\">4&nbsp;&nbsp;</span>Чек-лист проверки</a></span></li></ul></div>"
   ]
  },
  {
   "cell_type": "markdown",
   "metadata": {},
   "source": [
    "# Проект для «Викишоп»"
   ]
  },
  {
   "cell_type": "markdown",
   "metadata": {},
   "source": [
    "Интернет-магазин «Викишоп» запускает новый сервис. Теперь пользователи могут редактировать и дополнять описания товаров, как в вики-сообществах. То есть клиенты предлагают свои правки и комментируют изменения других. Магазину нужен инструмент, который будет искать токсичные комментарии и отправлять их на модерацию. \n",
    "\n",
    "Обучите модель классифицировать комментарии на позитивные и негативные. В вашем распоряжении набор данных с разметкой о токсичности правок.\n",
    "\n",
    "Постройте модель со значением метрики качества *F1* не меньше 0.75. \n",
    "\n",
    "**Инструкция по выполнению проекта**\n",
    "\n",
    "1. Загрузите и подготовьте данные.\n",
    "2. Обучите разные модели. \n",
    "3. Сделайте выводы.\n",
    "\n",
    "Для выполнения проекта применять *BERT* необязательно, но вы можете попробовать.\n",
    "\n",
    "**Описание данных**\n",
    "\n",
    "Данные находятся в файле `toxic_comments.csv`. Столбец *text* в нём содержит текст комментария, а *toxic* — целевой признак."
   ]
  },
  {
   "cell_type": "markdown",
   "metadata": {},
   "source": [
    "## Подготовка"
   ]
  },
  {
   "cell_type": "markdown",
   "metadata": {},
   "source": [
    "**1.1 Загрузка библиотек и глобальных переменных.**"
   ]
  },
  {
   "cell_type": "code",
   "execution_count": 60,
   "metadata": {},
   "outputs": [],
   "source": [
    "import pandas as pd \n",
    "import numpy as np \n",
    "\n",
    "from tqdm import tqdm\n",
    "from tqdm.notebook import tqdm\n",
    "\n",
    "\n",
    "import nltk\n",
    "from nltk.corpus import stopwords as nltk_stopwords\n",
    "from nltk.corpus import wordnet\n",
    "from nltk.stem import WordNetLemmatizer\n",
    "from sklearn.feature_extraction.text import TfidfVectorizer \n",
    "import re \n",
    "import matplotlib.pyplot as plt \n",
    "from sklearn.model_selection import train_test_split, cross_val_score, RandomizedSearchCV\n",
    "\n",
    "from sklearn.metrics import f1_score\n",
    "\n",
    "from sklearn.linear_model import LogisticRegression, SGDClassifier\n",
    "from sklearn.ensemble import RandomForestClassifier\n",
    "from sklearn.tree import DecisionTreeClassifier\n",
    "from sklearn.dummy import DummyClassifier\n",
    "from lightgbm import LGBMClassifier\n",
    "\n",
    "import warnings\n",
    "warnings.filterwarnings(\"ignore\")\n",
    "\n",
    "RANDOM_STATE = 12345"
   ]
  },
  {
   "cell_type": "markdown",
   "metadata": {},
   "source": [
    "**1.2 Пользовательские функции.**"
   ]
  },
  {
   "cell_type": "code",
   "execution_count": 2,
   "metadata": {},
   "outputs": [],
   "source": [
    "# Напишем функцию для первичной проверки данных\n",
    "\n",
    "def check_data(data_df):\n",
    "    print ('\\033[1m' + 'Изучим исходные данные'+ '\\033[0m')\n",
    "    print(data_df.info())\n",
    "    print(data_df.shape)\n",
    "        \n",
    "    missed_cells = data_df.isnull().sum().sum()/(data_df.shape[0]*(data_df.shape[1]-1))\n",
    "    missed_rows = sum(data_df.isnull().sum(axis = 1)>0)/data_df.shape[0]\n",
    "    print ('\\033[1m' + '\\nПроверка пропусков'+ '\\033[0m')\n",
    "    print ('Количество пропусков: {:.0f}'.format(data_df.isnull().sum().sum()))\n",
    "    print ('Доля пропусков: {:.1%}'.format(missed_cells)+ '\\033[0m')\n",
    "    print ('Доля строк содержащих пропуски: {:.1%}'.format(missed_rows))\n",
    "\n",
    "    ## Проверим дубликаты\n",
    "    \n",
    "    print ('\\033[1m' + '\\nПроверка на дубликаты'+ '\\033[0m')\n",
    "    print('Количество полных дубликатов: ', data_df.duplicated().sum())\n",
    "        \n",
    "    ## Посмотрим на сами данные\n",
    "    \n",
    "    print ('\\033[1m' + '\\nПервые пять строк датасета'+ '\\033[0m')\n",
    "    display(data_df.head())\n"
   ]
  },
  {
   "cell_type": "markdown",
   "metadata": {},
   "source": [
    "**1.3 Загрузим данные:**"
   ]
  },
  {
   "cell_type": "code",
   "execution_count": 3,
   "metadata": {},
   "outputs": [],
   "source": [
    "try:\n",
    "    df = pd.read_csv('/datasets/toxic_comments.csv', index_col=0)\n",
    "except:\n",
    "    df = pd.read_csv('/datasets/toxic_comments.csv', index_col=0)"
   ]
  },
  {
   "cell_type": "code",
   "execution_count": 4,
   "metadata": {},
   "outputs": [
    {
     "data": {
      "text/html": [
       "<div>\n",
       "<style scoped>\n",
       "    .dataframe tbody tr th:only-of-type {\n",
       "        vertical-align: middle;\n",
       "    }\n",
       "\n",
       "    .dataframe tbody tr th {\n",
       "        vertical-align: top;\n",
       "    }\n",
       "\n",
       "    .dataframe thead th {\n",
       "        text-align: right;\n",
       "    }\n",
       "</style>\n",
       "<table border=\"1\" class=\"dataframe\">\n",
       "  <thead>\n",
       "    <tr style=\"text-align: right;\">\n",
       "      <th></th>\n",
       "      <th>text</th>\n",
       "      <th>toxic</th>\n",
       "    </tr>\n",
       "  </thead>\n",
       "  <tbody>\n",
       "    <tr>\n",
       "      <th>131205</th>\n",
       "      <td>heads up, there was a good revertion you remov...</td>\n",
       "      <td>0</td>\n",
       "    </tr>\n",
       "    <tr>\n",
       "      <th>123337</th>\n",
       "      <td>Apparently I wasn't clear enough the first tim...</td>\n",
       "      <td>1</td>\n",
       "    </tr>\n",
       "    <tr>\n",
       "      <th>129575</th>\n",
       "      <td>I fully agree with Lupo. I have given him full...</td>\n",
       "      <td>0</td>\n",
       "    </tr>\n",
       "    <tr>\n",
       "      <th>148371</th>\n",
       "      <td>\"\\n\\nFebruary 2006\\n\\nPlease stop adding nonse...</td>\n",
       "      <td>0</td>\n",
       "    </tr>\n",
       "    <tr>\n",
       "      <th>50832</th>\n",
       "      <td>RFCU \\n\\nFYI, I have opened Wikipedia:Requests...</td>\n",
       "      <td>0</td>\n",
       "    </tr>\n",
       "  </tbody>\n",
       "</table>\n",
       "</div>"
      ],
      "text/plain": [
       "                                                     text  toxic\n",
       "131205  heads up, there was a good revertion you remov...      0\n",
       "123337  Apparently I wasn't clear enough the first tim...      1\n",
       "129575  I fully agree with Lupo. I have given him full...      0\n",
       "148371  \"\\n\\nFebruary 2006\\n\\nPlease stop adding nonse...      0\n",
       "50832   RFCU \\n\\nFYI, I have opened Wikipedia:Requests...      0"
      ]
     },
     "execution_count": 4,
     "metadata": {},
     "output_type": "execute_result"
    }
   ],
   "source": [
    "df.sample(n=5)"
   ]
  },
  {
   "cell_type": "markdown",
   "metadata": {},
   "source": [
    "**1.4 Первичный осмотр данных.** \\\n",
    "Описательный анализ:"
   ]
  },
  {
   "cell_type": "code",
   "execution_count": 5,
   "metadata": {},
   "outputs": [
    {
     "name": "stdout",
     "output_type": "stream",
     "text": [
      "\u001b[1mИзучим исходные данные\u001b[0m\n",
      "<class 'pandas.core.frame.DataFrame'>\n",
      "Int64Index: 159292 entries, 0 to 159450\n",
      "Data columns (total 2 columns):\n",
      " #   Column  Non-Null Count   Dtype \n",
      "---  ------  --------------   ----- \n",
      " 0   text    159292 non-null  object\n",
      " 1   toxic   159292 non-null  int64 \n",
      "dtypes: int64(1), object(1)\n",
      "memory usage: 3.6+ MB\n",
      "None\n",
      "(159292, 2)\n",
      "\u001b[1m\n",
      "Проверка пропусков\u001b[0m\n",
      "Количество пропусков: 0\n",
      "Доля пропусков: 0.0%\u001b[0m\n",
      "Доля строк содержащих пропуски: 0.0%\n",
      "\u001b[1m\n",
      "Проверка на дубликаты\u001b[0m\n",
      "Количество полных дубликатов:  0\n",
      "\u001b[1m\n",
      "Первые пять строк датасета\u001b[0m\n"
     ]
    },
    {
     "data": {
      "text/html": [
       "<div>\n",
       "<style scoped>\n",
       "    .dataframe tbody tr th:only-of-type {\n",
       "        vertical-align: middle;\n",
       "    }\n",
       "\n",
       "    .dataframe tbody tr th {\n",
       "        vertical-align: top;\n",
       "    }\n",
       "\n",
       "    .dataframe thead th {\n",
       "        text-align: right;\n",
       "    }\n",
       "</style>\n",
       "<table border=\"1\" class=\"dataframe\">\n",
       "  <thead>\n",
       "    <tr style=\"text-align: right;\">\n",
       "      <th></th>\n",
       "      <th>text</th>\n",
       "      <th>toxic</th>\n",
       "    </tr>\n",
       "  </thead>\n",
       "  <tbody>\n",
       "    <tr>\n",
       "      <th>0</th>\n",
       "      <td>Explanation\\nWhy the edits made under my usern...</td>\n",
       "      <td>0</td>\n",
       "    </tr>\n",
       "    <tr>\n",
       "      <th>1</th>\n",
       "      <td>D'aww! He matches this background colour I'm s...</td>\n",
       "      <td>0</td>\n",
       "    </tr>\n",
       "    <tr>\n",
       "      <th>2</th>\n",
       "      <td>Hey man, I'm really not trying to edit war. It...</td>\n",
       "      <td>0</td>\n",
       "    </tr>\n",
       "    <tr>\n",
       "      <th>3</th>\n",
       "      <td>\"\\nMore\\nI can't make any real suggestions on ...</td>\n",
       "      <td>0</td>\n",
       "    </tr>\n",
       "    <tr>\n",
       "      <th>4</th>\n",
       "      <td>You, sir, are my hero. Any chance you remember...</td>\n",
       "      <td>0</td>\n",
       "    </tr>\n",
       "  </tbody>\n",
       "</table>\n",
       "</div>"
      ],
      "text/plain": [
       "                                                text  toxic\n",
       "0  Explanation\\nWhy the edits made under my usern...      0\n",
       "1  D'aww! He matches this background colour I'm s...      0\n",
       "2  Hey man, I'm really not trying to edit war. It...      0\n",
       "3  \"\\nMore\\nI can't make any real suggestions on ...      0\n",
       "4  You, sir, are my hero. Any chance you remember...      0"
      ]
     },
     "metadata": {},
     "output_type": "display_data"
    }
   ],
   "source": [
    "check_data(df)"
   ]
  },
  {
   "cell_type": "markdown",
   "metadata": {},
   "source": [
    "Исследуем баланс классов:"
   ]
  },
  {
   "cell_type": "code",
   "execution_count": 6,
   "metadata": {},
   "outputs": [
    {
     "name": "stdout",
     "output_type": "stream",
     "text": [
      "0    0.898388\n",
      "1    0.101612\n",
      "Name: toxic, dtype: float64\n"
     ]
    },
    {
     "data": {
      "text/plain": [
       "<AxesSubplot:title={'center':'Частота класса'}>"
      ]
     },
     "execution_count": 6,
     "metadata": {},
     "output_type": "execute_result"
    },
    {
     "data": {
      "image/png": "[encoded data removed]",
      "text/plain": [
       "<Figure size 432x288 with 1 Axes>"
      ]
     },
     "metadata": {
      "needs_background": "light"
     },
     "output_type": "display_data"
    }
   ],
   "source": [
    "class_frequency = df['toxic'].value_counts(normalize=bool)\n",
    "print(class_frequency)\n",
    "class_frequency.plot(kind='bar', title='Частота класса')"
   ]
  },
  {
   "cell_type": "markdown",
   "metadata": {},
   "source": [
    "**Вывод:**\n",
    "- в таблице 159292 срок и 2 столбца:\n",
    "- пропусков нет;\n",
    "- дубликатов нет;\n",
    "- наблюдаем дисбаланс классов."
   ]
  },
  {
   "cell_type": "markdown",
   "metadata": {},
   "source": [
    "Напишем функцию очистки текста от лишних символов:"
   ]
  },
  {
   "cell_type": "code",
   "execution_count": 7,
   "metadata": {},
   "outputs": [],
   "source": [
    "def clear_text(text):\n",
    "    text = text.lower()\n",
    "    text = re.sub(r'[^a-zA-Z]', ' ', text)   \n",
    "    text = ' '.join(text.split())\n",
    "    return text"
   ]
  },
  {
   "cell_type": "code",
   "execution_count": 8,
   "metadata": {},
   "outputs": [
    {
     "data": {
      "application/vnd.jupyter.widget-view+json": {
       "model_id": "90efeb294dca4dcdaa0247e5fdfea4ec",
       "version_major": 2,
       "version_minor": 0
      },
      "text/plain": [
       "  0%|          | 0/159292 [00:00<?, ?it/s]"
      ]
     },
     "metadata": {},
     "output_type": "display_data"
    }
   ],
   "source": [
    "tqdm.pandas()\n",
    "df['text'] = df['text'].progress_apply(clear_text)"
   ]
  },
  {
   "cell_type": "code",
   "execution_count": 9,
   "metadata": {},
   "outputs": [
    {
     "data": {
      "text/html": [
       "<div>\n",
       "<style scoped>\n",
       "    .dataframe tbody tr th:only-of-type {\n",
       "        vertical-align: middle;\n",
       "    }\n",
       "\n",
       "    .dataframe tbody tr th {\n",
       "        vertical-align: top;\n",
       "    }\n",
       "\n",
       "    .dataframe thead th {\n",
       "        text-align: right;\n",
       "    }\n",
       "</style>\n",
       "<table border=\"1\" class=\"dataframe\">\n",
       "  <thead>\n",
       "    <tr style=\"text-align: right;\">\n",
       "      <th></th>\n",
       "      <th>text</th>\n",
       "      <th>toxic</th>\n",
       "    </tr>\n",
       "  </thead>\n",
       "  <tbody>\n",
       "    <tr>\n",
       "      <th>0</th>\n",
       "      <td>explanation why the edits made under my userna...</td>\n",
       "      <td>0</td>\n",
       "    </tr>\n",
       "    <tr>\n",
       "      <th>1</th>\n",
       "      <td>d aww he matches this background colour i m se...</td>\n",
       "      <td>0</td>\n",
       "    </tr>\n",
       "    <tr>\n",
       "      <th>2</th>\n",
       "      <td>hey man i m really not trying to edit war it s...</td>\n",
       "      <td>0</td>\n",
       "    </tr>\n",
       "    <tr>\n",
       "      <th>3</th>\n",
       "      <td>more i can t make any real suggestions on impr...</td>\n",
       "      <td>0</td>\n",
       "    </tr>\n",
       "    <tr>\n",
       "      <th>4</th>\n",
       "      <td>you sir are my hero any chance you remember wh...</td>\n",
       "      <td>0</td>\n",
       "    </tr>\n",
       "    <tr>\n",
       "      <th>...</th>\n",
       "      <td>...</td>\n",
       "      <td>...</td>\n",
       "    </tr>\n",
       "    <tr>\n",
       "      <th>159446</th>\n",
       "      <td>and for the second time of asking when your vi...</td>\n",
       "      <td>0</td>\n",
       "    </tr>\n",
       "    <tr>\n",
       "      <th>159447</th>\n",
       "      <td>you should be ashamed of yourself that is a ho...</td>\n",
       "      <td>0</td>\n",
       "    </tr>\n",
       "    <tr>\n",
       "      <th>159448</th>\n",
       "      <td>spitzer umm theres no actual article for prost...</td>\n",
       "      <td>0</td>\n",
       "    </tr>\n",
       "    <tr>\n",
       "      <th>159449</th>\n",
       "      <td>and it looks like it was actually you who put ...</td>\n",
       "      <td>0</td>\n",
       "    </tr>\n",
       "    <tr>\n",
       "      <th>159450</th>\n",
       "      <td>and i really don t think you understand i came...</td>\n",
       "      <td>0</td>\n",
       "    </tr>\n",
       "  </tbody>\n",
       "</table>\n",
       "<p>159292 rows × 2 columns</p>\n",
       "</div>"
      ],
      "text/plain": [
       "                                                     text  toxic\n",
       "0       explanation why the edits made under my userna...      0\n",
       "1       d aww he matches this background colour i m se...      0\n",
       "2       hey man i m really not trying to edit war it s...      0\n",
       "3       more i can t make any real suggestions on impr...      0\n",
       "4       you sir are my hero any chance you remember wh...      0\n",
       "...                                                   ...    ...\n",
       "159446  and for the second time of asking when your vi...      0\n",
       "159447  you should be ashamed of yourself that is a ho...      0\n",
       "159448  spitzer umm theres no actual article for prost...      0\n",
       "159449  and it looks like it was actually you who put ...      0\n",
       "159450  and i really don t think you understand i came...      0\n",
       "\n",
       "[159292 rows x 2 columns]"
      ]
     },
     "execution_count": 9,
     "metadata": {},
     "output_type": "execute_result"
    }
   ],
   "source": [
    "df"
   ]
  },
  {
   "cell_type": "markdown",
   "metadata": {},
   "source": [
    "Напишем функцию РОS-тэгирования слов:"
   ]
  },
  {
   "cell_type": "code",
   "execution_count": 10,
   "metadata": {},
   "outputs": [],
   "source": [
    "def get_wordnet_pos(word):\n",
    "    tag = nltk.pos_tag([word])[0][1][0].upper()\n",
    "    tag_dict = {\"J\": wordnet.ADJ,               \n",
    "                \"N\": wordnet.NOUN,              \n",
    "                \"V\": wordnet.VERB,              \n",
    "                \"R\": wordnet.ADV                \n",
    "               }  \n",
    "    return tag_dict.get(tag, wordnet.NOUN)\n"
   ]
  },
  {
   "cell_type": "markdown",
   "metadata": {},
   "source": [
    "Напишем функцию лемматизации:"
   ]
  },
  {
   "cell_type": "code",
   "execution_count": 11,
   "metadata": {},
   "outputs": [],
   "source": [
    "lemmatizer = WordNetLemmatizer()\n",
    "\n",
    "def lemm_text(text):\n",
    "    text = [lemmatizer.lemmatize(w, get_wordnet_pos(w)) for w in nltk.word_tokenize(text)]\n",
    "    return ' '.join(text)"
   ]
  },
  {
   "cell_type": "code",
   "execution_count": 13,
   "metadata": {
    "collapsed": true
   },
   "outputs": [
    {
     "name": "stdout",
     "output_type": "stream",
     "text": [
      "Collecting pandarallel\n",
      "  Downloading pandarallel-1.6.5.tar.gz (14 kB)\n",
      "Collecting dill>=0.3.1\n",
      "  Downloading dill-0.3.6-py3-none-any.whl (110 kB)\n",
      "\u001b[K     |████████████████████████████████| 110 kB 2.2 MB/s eta 0:00:01\n",
      "\u001b[?25hRequirement already satisfied: pandas>=1 in /opt/conda/lib/python3.9/site-packages (from pandarallel) (1.2.4)\n",
      "Collecting psutil\n",
      "  Downloading psutil-5.9.5-cp36-abi3-manylinux_2_12_x86_64.manylinux2010_x86_64.manylinux_2_17_x86_64.manylinux2014_x86_64.whl (282 kB)\n",
      "\u001b[K     |████████████████████████████████| 282 kB 15.3 MB/s eta 0:00:01\n",
      "\u001b[?25hRequirement already satisfied: python-dateutil>=2.7.3 in /opt/conda/lib/python3.9/site-packages (from pandas>=1->pandarallel) (2.8.1)\n",
      "Requirement already satisfied: pytz>=2017.3 in /opt/conda/lib/python3.9/site-packages (from pandas>=1->pandarallel) (2021.1)\n",
      "Requirement already satisfied: numpy>=1.16.5 in /opt/conda/lib/python3.9/site-packages (from pandas>=1->pandarallel) (1.21.1)\n",
      "Requirement already satisfied: six>=1.5 in /opt/conda/lib/python3.9/site-packages (from python-dateutil>=2.7.3->pandas>=1->pandarallel) (1.16.0)\n",
      "Building wheels for collected packages: pandarallel\n",
      "  Building wheel for pandarallel (setup.py) ... \u001b[?25ldone\n",
      "\u001b[?25h  Created wheel for pandarallel: filename=pandarallel-1.6.5-py3-none-any.whl size=16679 sha256=be9a49f60da82a3352ae9da0ab048dc92892eda82174fe7dbb6de4a2ba82aae0\n",
      "  Stored in directory: /home/jovyan/.cache/pip/wheels/39/fe/8d/f7912d85b21ea72c9a8a3fefa6141fab92e575a67ab17c4474\n",
      "Successfully built pandarallel\n",
      "Installing collected packages: psutil, dill, pandarallel\n",
      "Successfully installed dill-0.3.6 pandarallel-1.6.5 psutil-5.9.5\n",
      "INFO: Pandarallel will run on 4 workers.\n",
      "INFO: Pandarallel will use Memory file system to transfer data between the main process and workers.\n"
     ]
    }
   ],
   "source": [
    "!pip install pandarallel\n",
    "from pandarallel import pandarallel   \n",
    "tqdm.pandas(desc=\"progress\")\n",
    "pandarallel.initialize(progress_bar = True)"
   ]
  },
  {
   "cell_type": "code",
   "execution_count": 12,
   "metadata": {},
   "outputs": [
    {
     "name": "stderr",
     "output_type": "stream",
     "text": [
      "[nltk_data] Downloading package averaged_perceptron_tagger to\n",
      "[nltk_data]     /home/jovyan/nltk_data...\n",
      "[nltk_data]   Package averaged_perceptron_tagger is already up-to-\n",
      "[nltk_data]       date!\n"
     ]
    },
    {
     "data": {
      "application/vnd.jupyter.widget-view+json": {
       "model_id": "38dcb802891e41d5b738cdeb467daafa",
       "version_major": 2,
       "version_minor": 0
      },
      "text/plain": [
       "  0%|          | 0/159292 [00:00<?, ?it/s]"
      ]
     },
     "metadata": {},
     "output_type": "display_data"
    }
   ],
   "source": [
    "nltk.download('averaged_perceptron_tagger')\n",
    "df['text'] = df['text'].progress_apply(lemm_text)"
   ]
  },
  {
   "cell_type": "code",
   "execution_count": 8,
   "metadata": {},
   "outputs": [],
   "source": [
    "df['lemm_text'] = df['text'].apply(lemmatize)"
   ]
  },
  {
   "cell_type": "code",
   "execution_count": 13,
   "metadata": {},
   "outputs": [
    {
     "data": {
      "text/html": [
       "<div>\n",
       "<style scoped>\n",
       "    .dataframe tbody tr th:only-of-type {\n",
       "        vertical-align: middle;\n",
       "    }\n",
       "\n",
       "    .dataframe tbody tr th {\n",
       "        vertical-align: top;\n",
       "    }\n",
       "\n",
       "    .dataframe thead th {\n",
       "        text-align: right;\n",
       "    }\n",
       "</style>\n",
       "<table border=\"1\" class=\"dataframe\">\n",
       "  <thead>\n",
       "    <tr style=\"text-align: right;\">\n",
       "      <th></th>\n",
       "      <th>text</th>\n",
       "      <th>toxic</th>\n",
       "    </tr>\n",
       "  </thead>\n",
       "  <tbody>\n",
       "    <tr>\n",
       "      <th>0</th>\n",
       "      <td>explanation why the edits make under my userna...</td>\n",
       "      <td>0</td>\n",
       "    </tr>\n",
       "    <tr>\n",
       "      <th>1</th>\n",
       "      <td>d aww he match this background colour i m seem...</td>\n",
       "      <td>0</td>\n",
       "    </tr>\n",
       "    <tr>\n",
       "      <th>2</th>\n",
       "      <td>hey man i m really not try to edit war it s ju...</td>\n",
       "      <td>0</td>\n",
       "    </tr>\n",
       "    <tr>\n",
       "      <th>3</th>\n",
       "      <td>more i can t make any real suggestion on impro...</td>\n",
       "      <td>0</td>\n",
       "    </tr>\n",
       "    <tr>\n",
       "      <th>4</th>\n",
       "      <td>you sir be my hero any chance you remember wha...</td>\n",
       "      <td>0</td>\n",
       "    </tr>\n",
       "    <tr>\n",
       "      <th>...</th>\n",
       "      <td>...</td>\n",
       "      <td>...</td>\n",
       "    </tr>\n",
       "    <tr>\n",
       "      <th>159446</th>\n",
       "      <td>and for the second time of ask when your view ...</td>\n",
       "      <td>0</td>\n",
       "    </tr>\n",
       "    <tr>\n",
       "      <th>159447</th>\n",
       "      <td>you should be ashamed of yourself that be a ho...</td>\n",
       "      <td>0</td>\n",
       "    </tr>\n",
       "    <tr>\n",
       "      <th>159448</th>\n",
       "      <td>spitzer umm there no actual article for prosti...</td>\n",
       "      <td>0</td>\n",
       "    </tr>\n",
       "    <tr>\n",
       "      <th>159449</th>\n",
       "      <td>and it look like it be actually you who put on...</td>\n",
       "      <td>0</td>\n",
       "    </tr>\n",
       "    <tr>\n",
       "      <th>159450</th>\n",
       "      <td>and i really don t think you understand i come...</td>\n",
       "      <td>0</td>\n",
       "    </tr>\n",
       "  </tbody>\n",
       "</table>\n",
       "<p>159292 rows × 2 columns</p>\n",
       "</div>"
      ],
      "text/plain": [
       "                                                     text  toxic\n",
       "0       explanation why the edits make under my userna...      0\n",
       "1       d aww he match this background colour i m seem...      0\n",
       "2       hey man i m really not try to edit war it s ju...      0\n",
       "3       more i can t make any real suggestion on impro...      0\n",
       "4       you sir be my hero any chance you remember wha...      0\n",
       "...                                                   ...    ...\n",
       "159446  and for the second time of ask when your view ...      0\n",
       "159447  you should be ashamed of yourself that be a ho...      0\n",
       "159448  spitzer umm there no actual article for prosti...      0\n",
       "159449  and it look like it be actually you who put on...      0\n",
       "159450  and i really don t think you understand i come...      0\n",
       "\n",
       "[159292 rows x 2 columns]"
      ]
     },
     "execution_count": 13,
     "metadata": {},
     "output_type": "execute_result"
    }
   ],
   "source": [
    "df"
   ]
  },
  {
   "cell_type": "markdown",
   "metadata": {},
   "source": [
    "Формируем фичи и целевую:"
   ]
  },
  {
   "cell_type": "code",
   "execution_count": 14,
   "metadata": {},
   "outputs": [],
   "source": [
    "features = df['text']\n",
    "target = df['toxic']"
   ]
  },
  {
   "cell_type": "markdown",
   "metadata": {},
   "source": [
    "Разделим данные на обучающую и тестовую выборки:"
   ]
  },
  {
   "cell_type": "code",
   "execution_count": 15,
   "metadata": {},
   "outputs": [],
   "source": [
    "x_train, x_test, y_train, y_test = train_test_split(features,\n",
    "                                                    target,\n",
    "                                                    test_size=0.1, \n",
    "                                                    random_state = RANDOM_STATE)"
   ]
  },
  {
   "cell_type": "code",
   "execution_count": 16,
   "metadata": {},
   "outputs": [
    {
     "data": {
      "text/plain": [
       "(143362, 143362, 15930, 15930)"
      ]
     },
     "execution_count": 16,
     "metadata": {},
     "output_type": "execute_result"
    }
   ],
   "source": [
    "x_train.shape[0], y_train.shape[0], x_test.shape[0], y_test.shape[0]"
   ]
  },
  {
   "cell_type": "markdown",
   "metadata": {},
   "source": [
    "Очистим текст от стоп-слов:"
   ]
  },
  {
   "cell_type": "code",
   "execution_count": 18,
   "metadata": {},
   "outputs": [
    {
     "name": "stderr",
     "output_type": "stream",
     "text": [
      "[nltk_data] Downloading package stopwords to /home/jovyan/nltk_data...\n",
      "[nltk_data]   Package stopwords is already up-to-date!\n"
     ]
    }
   ],
   "source": [
    "nltk.download('stopwords')\n",
    "stopwords = set(nltk_stopwords.words('english'))"
   ]
  },
  {
   "cell_type": "markdown",
   "metadata": {},
   "source": [
    "TF-IDF для обучающей выборки:"
   ]
  },
  {
   "cell_type": "code",
   "execution_count": 19,
   "metadata": {},
   "outputs": [
    {
     "data": {
      "text/plain": [
       "(143362, 142204)"
      ]
     },
     "execution_count": 19,
     "metadata": {},
     "output_type": "execute_result"
    }
   ],
   "source": [
    "count_tf_idf_train = TfidfVectorizer(stop_words=stopwords) \n",
    "x_train = count_tf_idf_train.fit_transform(x_train) \n",
    "x_train.shape"
   ]
  },
  {
   "cell_type": "markdown",
   "metadata": {},
   "source": [
    "TF-IDF для тестовой выборки:"
   ]
  },
  {
   "cell_type": "code",
   "execution_count": 20,
   "metadata": {},
   "outputs": [
    {
     "data": {
      "text/plain": [
       "(15930, 142204)"
      ]
     },
     "execution_count": 20,
     "metadata": {},
     "output_type": "execute_result"
    }
   ],
   "source": [
    "count_tf_idf_test = TfidfVectorizer(stop_words=stopwords)\n",
    "x_test = count_tf_idf_train.transform(x_test)\n",
    "x_test.shape"
   ]
  },
  {
   "cell_type": "markdown",
   "metadata": {},
   "source": [
    "**Вывод:**\n",
    "- произведена лемматизация и очистка текста от лишних символов;\n",
    "- разделены данные на обучающую (90%) и тестовую (10%) выборки;\n",
    "- удалены стоп-слова;\n",
    "- вычислены TF-IDF для текстов."
   ]
  },
  {
   "cell_type": "markdown",
   "metadata": {},
   "source": [
    "## Обучение"
   ]
  },
  {
   "cell_type": "markdown",
   "metadata": {},
   "source": [
    "**2.1 LogisticRegression()**"
   ]
  },
  {
   "cell_type": "code",
   "execution_count": 21,
   "metadata": {},
   "outputs": [],
   "source": [
    "# Обозначим модель\n",
    "\n",
    "model_lr = LogisticRegression(random_state=RANDOM_STATE,\n",
    "                              solver='liblinear')\n",
    "\n",
    "# Зададим параметры\n",
    "param_grid_lr = {'C': (0.1, 0.5, 1.0, 10),\n",
    "                 'class_weight': (['balanced'])}"
   ]
  },
  {
   "cell_type": "code",
   "execution_count": 22,
   "metadata": {},
   "outputs": [
    {
     "name": "stdout",
     "output_type": "stream",
     "text": [
      "CPU times: user 1min 26s, sys: 1min 31s, total: 2min 57s\n",
      "Wall time: 2min 58s\n"
     ]
    }
   ],
   "source": [
    "%%time\n",
    "\n",
    "# Подберем гиперпараметры\n",
    "grid_lr = RandomizedSearchCV(\n",
    "    model_lr, param_grid_lr, scoring='f1', cv=3)\n",
    "\n",
    "# Обучим модель  \n",
    "model_lr = grid_lr.fit(x_train, y_train)"
   ]
  },
  {
   "cell_type": "code",
   "execution_count": 23,
   "metadata": {},
   "outputs": [
    {
     "name": "stdout",
     "output_type": "stream",
     "text": [
      "Лучшие параметры для LogisticRegression:  {'class_weight': 'balanced', 'C': 10}\n",
      "Значение метрики F1 для лучших параметров LogisticRegression: 0.7554\n"
     ]
    }
   ],
   "source": [
    "print(f'Лучшие параметры для LogisticRegression: ', model_lr.best_params_)\n",
    "print(f'Значение метрики F1 для лучших параметров LogisticRegression: %.4f' % model_lr.best_score_)"
   ]
  },
  {
   "cell_type": "markdown",
   "metadata": {},
   "source": [
    "**2.2 Случайный лес.**"
   ]
  },
  {
   "cell_type": "code",
   "execution_count": 24,
   "metadata": {},
   "outputs": [],
   "source": [
    "# Обозначим модель\n",
    "\n",
    "model_rfc = RandomForestClassifier(random_state = RANDOM_STATE)\n",
    "\n",
    "# Зададим параметры\n",
    "param_grid_rfc = {'n_estimators': [10,100,10],\n",
    "                  'max_depth': [4, 8, 2],\n",
    "                  'min_samples_leaf': range(3,5),\n",
    "                  'min_samples_split': range(2,6,2),\n",
    "                  'class_weight': (['balanced'])}"
   ]
  },
  {
   "cell_type": "code",
   "execution_count": 25,
   "metadata": {},
   "outputs": [
    {
     "name": "stdout",
     "output_type": "stream",
     "text": [
      "CPU times: user 1min 35s, sys: 392 ms, total: 1min 35s\n",
      "Wall time: 1min 35s\n"
     ]
    }
   ],
   "source": [
    "%%time\n",
    "\n",
    "# Подберем гиперпараметры\n",
    "grid_rfc = RandomizedSearchCV(\n",
    "    model_rfc, param_grid_rfc, scoring='f1', cv=3, \n",
    "    random_state=RANDOM_STATE)\n",
    "\n",
    "# Обучим модель  \n",
    "model_rfc = grid_rfc.fit(x_train, y_train)"
   ]
  },
  {
   "cell_type": "code",
   "execution_count": 26,
   "metadata": {},
   "outputs": [
    {
     "name": "stdout",
     "output_type": "stream",
     "text": [
      "Лучшие параметры для RandomForestClassifier:  {'n_estimators': 100, 'min_samples_split': 4, 'min_samples_leaf': 3, 'max_depth': 4, 'class_weight': 'balanced'}\n",
      "Значение метрики F1 для лучших параметров RandomForestClassifier: 0.3225\n"
     ]
    }
   ],
   "source": [
    "print(f'Лучшие параметры для RandomForestClassifier: ', model_rfc.best_params_)\n",
    "print(f'Значение метрики F1 для лучших параметров RandomForestClassifier: %.4f' % model_rfc.best_score_)"
   ]
  },
  {
   "cell_type": "markdown",
   "metadata": {},
   "source": [
    "**2.3 SGDClassifier**"
   ]
  },
  {
   "cell_type": "code",
   "execution_count": 27,
   "metadata": {},
   "outputs": [],
   "source": [
    "# Обозначим модель\n",
    "\n",
    "model_sgdc = SGDClassifier(random_state = RANDOM_STATE)\n",
    "\n",
    "# Зададим параметры\n",
    "param_grid_sgdc = {'loss': ('hinge', 'log', 'modified_huber'),\n",
    "                  'learning_rate': ('constant', 'optimal', 'invscaling', 'adaptive'),\n",
    "                  'eta0': (.01, .05, .1, .5),\n",
    "                  'class_weight': (['balanced'])}"
   ]
  },
  {
   "cell_type": "code",
   "execution_count": 28,
   "metadata": {},
   "outputs": [
    {
     "name": "stdout",
     "output_type": "stream",
     "text": [
      "CPU times: user 40 s, sys: 2.52 s, total: 42.5 s\n",
      "Wall time: 42.8 s\n"
     ]
    }
   ],
   "source": [
    "%%time\n",
    "\n",
    "# Подберем гиперпараметры\n",
    "grid_sgdc = RandomizedSearchCV(model_sgdc,\n",
    "                               param_grid_sgdc,\n",
    "                               scoring='f1', \n",
    "                               cv=3, \n",
    "                               n_jobs=1)\n",
    "\n",
    "# Обучим модель  \n",
    "model_sgdc = grid_sgdc.fit(x_train, y_train)"
   ]
  },
  {
   "cell_type": "code",
   "execution_count": 29,
   "metadata": {},
   "outputs": [
    {
     "name": "stdout",
     "output_type": "stream",
     "text": [
      "Лучшие параметры для SGDClassifier:  {'loss': 'modified_huber', 'learning_rate': 'adaptive', 'eta0': 0.01, 'class_weight': 'balanced'}\n",
      "Значение метрики F1 для лучших параметров SGDClassifier: 0.7479\n"
     ]
    }
   ],
   "source": [
    "print(f'Лучшие параметры для SGDClassifier: ', model_sgdc.best_params_)\n",
    "print(f'Значение метрики F1 для лучших параметров SGDClassifier: %.4f' % model_sgdc.best_score_)"
   ]
  },
  {
   "cell_type": "markdown",
   "metadata": {},
   "source": [
    "**2.4 DecisionTreeClassifier**"
   ]
  },
  {
   "cell_type": "code",
   "execution_count": 30,
   "metadata": {},
   "outputs": [],
   "source": [
    "# Обозначим модель\n",
    "\n",
    "model_dtc = DecisionTreeClassifier(random_state=RANDOM_STATE)\n",
    "                                   \n",
    "# Зададим параметры\n",
    "param_grid_dtc = {'max_depth': ([x for x in range(10,51)]),\n",
    "                  'class_weight': (['balanced'])}"
   ]
  },
  {
   "cell_type": "code",
   "execution_count": 31,
   "metadata": {},
   "outputs": [
    {
     "name": "stdout",
     "output_type": "stream",
     "text": [
      "CPU times: user 16min 47s, sys: 1.66 s, total: 16min 48s\n",
      "Wall time: 16min 53s\n"
     ]
    }
   ],
   "source": [
    "%%time\n",
    "\n",
    "# Подберем гиперпараметры\n",
    "grid_dtc = RandomizedSearchCV(model_dtc,\n",
    "                             param_grid_dtc,\n",
    "                             cv=3,\n",
    "                             scoring='f1')\n",
    "\n",
    "# Обучим модель  \n",
    "model_dtc = grid_dtc.fit(x_train, y_train)"
   ]
  },
  {
   "cell_type": "code",
   "execution_count": 32,
   "metadata": {},
   "outputs": [
    {
     "name": "stdout",
     "output_type": "stream",
     "text": [
      "Лучшие параметры для DecisionTreeClassifier:  {'max_depth': 32, 'class_weight': 'balanced'}\n",
      "Значение метрики F1 для лучших параметров DecisionTreeClassifier: 0.6393\n"
     ]
    }
   ],
   "source": [
    "print(f'Лучшие параметры для DecisionTreeClassifier: ', model_dtc.best_params_)\n",
    "print(f'Значение метрики F1 для лучших параметров DecisionTreeClassifier: %.4f' % model_dtc.best_score_)"
   ]
  },
  {
   "cell_type": "markdown",
   "metadata": {},
   "source": []
  },
  {
   "cell_type": "code",
   "execution_count": 33,
   "metadata": {},
   "outputs": [],
   "source": [
    "from sklearn.pipeline import Pipeline\n"
   ]
  },
  {
   "cell_type": "code",
   "execution_count": 34,
   "metadata": {},
   "outputs": [],
   "source": [
    "x_train_pipe, x_test_pipe, y_train_pipe, y_test_pipe = train_test_split(features,\n",
    "                                                                        target,\n",
    "                                                                        test_size=0.1, \n",
    "                                                                        random_state = RANDOM_STATE)"
   ]
  },
  {
   "cell_type": "code",
   "execution_count": null,
   "metadata": {},
   "outputs": [],
   "source": [
    "%%time\n",
    "text_clf = Pipeline([('vect', TfidfVectorizer()),\n",
    "                     ('clf', LGBMClassifier(verbose=50, seed=RANDOM_STATE))])\n",
    "    \n",
    "param_grid_lgbm = {'vect__ngram_range': [(1, 1), (1, 2)],\n",
    "                   'clf__iterations': ([200]),\n",
    "                   'clf__class_weights':([(1, 1), (1, 11)])} \n",
    "\n",
    "model_lgbm = RandomizedSearchCV(text_clf, param_grid_lgbm, scoring='f1', cv=3, n_jobs=-1 )\n",
    "\n",
    "model_lgbm.fit(x_train_pipe, y_train_pipe)"
   ]
  },
  {
   "cell_type": "code",
   "execution_count": 54,
   "metadata": {},
   "outputs": [
    {
     "name": "stdout",
     "output_type": "stream",
     "text": [
      "[LightGBM] [Warning] num_threads is set=1, n_jobs=-1 will be ignored. Current value: num_threads=1\n",
      "[LightGBM] [Warning] num_threads is set=1, n_jobs=-1 will be ignored. Current value: num_threads=1\n",
      "[LightGBM] [Info] Number of positive: 9716, number of negative: 85858\n",
      "[LightGBM] [Debug] Dataset::GetMultiBinFromSparseFeatures: sparse rate 0.997470\n",
      "[LightGBM] [Debug] Dataset::GetMultiBinFromAllFeatures: sparse rate 0.997470\n",
      "[LightGBM] [Debug] init for col-wise cost 16.475886 seconds, init for row-wise cost 16.462990 seconds\n",
      "[LightGBM] [Warning] Auto-choosing row-wise multi-threading, the overhead of testing was 16.499575 seconds.\n",
      "You can set `force_row_wise=true` to remove the overhead.\n",
      "And if memory is not enough, you can set `force_col_wise=true`.\n",
      "[LightGBM] [Debug] Using Sparse Multi-Val Bin\n",
      "[LightGBM] [Info] Total Bins 418286\n",
      "[LightGBM] [Info] Number of data points in the train set: 95574, number of used features: 8192\n",
      "[LightGBM] [Info] [binary:BoostFromScore]: pavg=0.500000 -> initscore=0.000000\n",
      "[LightGBM] [Info] Start training from score 0.000000\n",
      "[LightGBM] [Debug] Trained a tree with leaves = 31 and depth = 27\n",
      "[LightGBM] [Debug] Trained a tree with leaves = 31 and depth = 26\n",
      "[LightGBM] [Debug] Trained a tree with leaves = 31 and depth = 28\n",
      "[LightGBM] [Debug] Trained a tree with leaves = 31 and depth = 24\n",
      "[LightGBM] [Debug] Trained a tree with leaves = 31 and depth = 29\n",
      "[LightGBM] [Debug] Trained a tree with leaves = 31 and depth = 28\n",
      "[LightGBM] [Debug] Trained a tree with leaves = 31 and depth = 28\n",
      "[LightGBM] [Debug] Trained a tree with leaves = 31 and depth = 28\n",
      "[LightGBM] [Debug] Trained a tree with leaves = 31 and depth = 24\n",
      "[LightGBM] [Debug] Trained a tree with leaves = 31 and depth = 30\n",
      "[LightGBM] [Debug] Trained a tree with leaves = 31 and depth = 30\n",
      "[LightGBM] [Debug] Trained a tree with leaves = 31 and depth = 29\n",
      "[LightGBM] [Debug] Trained a tree with leaves = 31 and depth = 25\n",
      "[LightGBM] [Debug] Trained a tree with leaves = 31 and depth = 30\n",
      "[LightGBM] [Debug] Trained a tree with leaves = 31 and depth = 29\n",
      "[LightGBM] [Debug] Trained a tree with leaves = 31 and depth = 30\n",
      "[LightGBM] [Debug] Trained a tree with leaves = 31 and depth = 29\n",
      "[LightGBM] [Debug] Trained a tree with leaves = 31 and depth = 30\n",
      "[LightGBM] [Debug] Trained a tree with leaves = 31 and depth = 29\n",
      "[LightGBM] [Debug] Trained a tree with leaves = 31 and depth = 30\n",
      "[LightGBM] [Debug] Trained a tree with leaves = 31 and depth = 30\n",
      "[LightGBM] [Debug] Trained a tree with leaves = 31 and depth = 30\n",
      "[LightGBM] [Debug] Trained a tree with leaves = 31 and depth = 30\n",
      "[LightGBM] [Debug] Trained a tree with leaves = 31 and depth = 30\n",
      "[LightGBM] [Debug] Trained a tree with leaves = 31 and depth = 30\n",
      "[LightGBM] [Debug] Trained a tree with leaves = 31 and depth = 29\n",
      "[LightGBM] [Debug] Trained a tree with leaves = 31 and depth = 30\n",
      "[LightGBM] [Debug] Trained a tree with leaves = 31 and depth = 30\n",
      "[LightGBM] [Debug] Trained a tree with leaves = 31 and depth = 30\n",
      "[LightGBM] [Debug] Trained a tree with leaves = 31 and depth = 30\n",
      "[LightGBM] [Debug] Trained a tree with leaves = 31 and depth = 30\n",
      "[LightGBM] [Debug] Trained a tree with leaves = 31 and depth = 30\n",
      "[LightGBM] [Debug] Trained a tree with leaves = 31 and depth = 30\n",
      "[LightGBM] [Debug] Trained a tree with leaves = 31 and depth = 30\n",
      "[LightGBM] [Debug] Trained a tree with leaves = 31 and depth = 30\n",
      "[LightGBM] [Debug] Trained a tree with leaves = 31 and depth = 30\n",
      "[LightGBM] [Debug] Trained a tree with leaves = 31 and depth = 30\n",
      "[LightGBM] [Debug] Trained a tree with leaves = 31 and depth = 29\n",
      "[LightGBM] [Debug] Trained a tree with leaves = 31 and depth = 30\n",
      "[LightGBM] [Debug] Trained a tree with leaves = 31 and depth = 30\n",
      "[LightGBM] [Debug] Trained a tree with leaves = 31 and depth = 30\n",
      "[LightGBM] [Debug] Trained a tree with leaves = 31 and depth = 30\n",
      "[LightGBM] [Debug] Trained a tree with leaves = 31 and depth = 30\n",
      "[LightGBM] [Debug] Trained a tree with leaves = 31 and depth = 30\n",
      "[LightGBM] [Debug] Trained a tree with leaves = 31 and depth = 30\n",
      "[LightGBM] [Debug] Trained a tree with leaves = 31 and depth = 30\n",
      "[LightGBM] [Debug] Trained a tree with leaves = 31 and depth = 29\n",
      "[LightGBM] [Debug] Trained a tree with leaves = 31 and depth = 30\n",
      "[LightGBM] [Debug] Trained a tree with leaves = 31 and depth = 30\n",
      "[LightGBM] [Debug] Trained a tree with leaves = 31 and depth = 30\n",
      "[LightGBM] [Debug] Trained a tree with leaves = 31 and depth = 30\n",
      "[LightGBM] [Debug] Trained a tree with leaves = 31 and depth = 29\n",
      "[LightGBM] [Debug] Trained a tree with leaves = 31 and depth = 30\n",
      "[LightGBM] [Debug] Trained a tree with leaves = 31 and depth = 30\n",
      "[LightGBM] [Debug] Trained a tree with leaves = 31 and depth = 30\n",
      "[LightGBM] [Debug] Trained a tree with leaves = 31 and depth = 30\n",
      "[LightGBM] [Debug] Trained a tree with leaves = 31 and depth = 30\n",
      "[LightGBM] [Debug] Trained a tree with leaves = 31 and depth = 30\n",
      "[LightGBM] [Debug] Trained a tree with leaves = 31 and depth = 28\n",
      "[LightGBM] [Debug] Trained a tree with leaves = 31 and depth = 30\n",
      "[LightGBM] [Debug] Trained a tree with leaves = 31 and depth = 30\n",
      "[LightGBM] [Debug] Trained a tree with leaves = 31 and depth = 30\n",
      "[LightGBM] [Debug] Trained a tree with leaves = 31 and depth = 29\n",
      "[LightGBM] [Debug] Trained a tree with leaves = 31 and depth = 30\n",
      "[LightGBM] [Debug] Trained a tree with leaves = 31 and depth = 30\n",
      "[LightGBM] [Debug] Trained a tree with leaves = 31 and depth = 30\n",
      "[LightGBM] [Debug] Trained a tree with leaves = 31 and depth = 29\n",
      "[LightGBM] [Debug] Trained a tree with leaves = 31 and depth = 30\n",
      "[LightGBM] [Debug] Trained a tree with leaves = 31 and depth = 30\n",
      "[LightGBM] [Debug] Trained a tree with leaves = 31 and depth = 29\n",
      "[LightGBM] [Debug] Trained a tree with leaves = 31 and depth = 29\n",
      "[LightGBM] [Debug] Trained a tree with leaves = 31 and depth = 30\n",
      "[LightGBM] [Debug] Trained a tree with leaves = 31 and depth = 29\n",
      "[LightGBM] [Debug] Trained a tree with leaves = 31 and depth = 30\n",
      "[LightGBM] [Debug] Trained a tree with leaves = 31 and depth = 30\n",
      "[LightGBM] [Debug] Trained a tree with leaves = 31 and depth = 30\n",
      "[LightGBM] [Debug] Trained a tree with leaves = 31 and depth = 28\n",
      "[LightGBM] [Debug] Trained a tree with leaves = 31 and depth = 30\n",
      "[LightGBM] [Debug] Trained a tree with leaves = 31 and depth = 28\n",
      "[LightGBM] [Debug] Trained a tree with leaves = 31 and depth = 30\n",
      "[LightGBM] [Debug] Trained a tree with leaves = 31 and depth = 29\n",
      "[LightGBM] [Debug] Trained a tree with leaves = 31 and depth = 28\n",
      "[LightGBM] [Debug] Trained a tree with leaves = 31 and depth = 28\n",
      "[LightGBM] [Debug] Trained a tree with leaves = 31 and depth = 30\n",
      "[LightGBM] [Debug] Trained a tree with leaves = 31 and depth = 30\n",
      "[LightGBM] [Debug] Trained a tree with leaves = 31 and depth = 30\n",
      "[LightGBM] [Debug] Trained a tree with leaves = 31 and depth = 30\n",
      "[LightGBM] [Debug] Trained a tree with leaves = 31 and depth = 30\n",
      "[LightGBM] [Debug] Trained a tree with leaves = 31 and depth = 30\n",
      "[LightGBM] [Debug] Trained a tree with leaves = 31 and depth = 30\n",
      "[LightGBM] [Debug] Trained a tree with leaves = 31 and depth = 29\n",
      "[LightGBM] [Debug] Trained a tree with leaves = 31 and depth = 29\n",
      "[LightGBM] [Debug] Trained a tree with leaves = 31 and depth = 27\n",
      "[LightGBM] [Debug] Trained a tree with leaves = 31 and depth = 27\n",
      "[LightGBM] [Debug] Trained a tree with leaves = 31 and depth = 28\n",
      "[LightGBM] [Debug] Trained a tree with leaves = 31 and depth = 26\n",
      "[LightGBM] [Debug] Trained a tree with leaves = 31 and depth = 30\n",
      "[LightGBM] [Debug] Trained a tree with leaves = 31 and depth = 29\n",
      "[LightGBM] [Debug] Trained a tree with leaves = 31 and depth = 30\n",
      "[LightGBM] [Debug] Trained a tree with leaves = 31 and depth = 30\n",
      "[LightGBM] [Warning] num_threads is set=1, n_jobs=-1 will be ignored. Current value: num_threads=1\n",
      "[LightGBM] [Warning] num_threads is set=1, n_jobs=-1 will be ignored. Current value: num_threads=1\n",
      "[LightGBM] [Info] Number of positive: 9716, number of negative: 85859\n",
      "[LightGBM] [Debug] Dataset::GetMultiBinFromSparseFeatures: sparse rate 0.997454\n",
      "[LightGBM] [Debug] Dataset::GetMultiBinFromAllFeatures: sparse rate 0.997454\n",
      "[LightGBM] [Debug] init for col-wise cost 16.162306 seconds, init for row-wise cost 16.414663 seconds\n",
      "[LightGBM] [Warning] Auto-choosing row-wise multi-threading, the overhead of testing was 16.189978 seconds.\n",
      "You can set `force_row_wise=true` to remove the overhead.\n",
      "And if memory is not enough, you can set `force_col_wise=true`.\n",
      "[LightGBM] [Debug] Using Sparse Multi-Val Bin\n",
      "[LightGBM] [Info] Total Bins 419187\n",
      "[LightGBM] [Info] Number of data points in the train set: 95575, number of used features: 8163\n",
      "[LightGBM] [Info] [binary:BoostFromScore]: pavg=0.500000 -> initscore=0.000000\n",
      "[LightGBM] [Info] Start training from score 0.000000\n",
      "[LightGBM] [Debug] Trained a tree with leaves = 31 and depth = 27\n",
      "[LightGBM] [Debug] Trained a tree with leaves = 31 and depth = 26\n",
      "[LightGBM] [Debug] Trained a tree with leaves = 31 and depth = 28\n",
      "[LightGBM] [Debug] Trained a tree with leaves = 31 and depth = 25\n",
      "[LightGBM] [Debug] Trained a tree with leaves = 31 and depth = 29\n",
      "[LightGBM] [Debug] Trained a tree with leaves = 31 and depth = 26\n",
      "[LightGBM] [Debug] Trained a tree with leaves = 31 and depth = 29\n",
      "[LightGBM] [Debug] Trained a tree with leaves = 31 and depth = 23\n",
      "[LightGBM] [Debug] Trained a tree with leaves = 31 and depth = 27\n",
      "[LightGBM] [Debug] Trained a tree with leaves = 31 and depth = 30\n",
      "[LightGBM] [Debug] Trained a tree with leaves = 31 and depth = 23\n",
      "[LightGBM] [Debug] Trained a tree with leaves = 31 and depth = 30\n",
      "[LightGBM] [Debug] Trained a tree with leaves = 31 and depth = 29\n",
      "[LightGBM] [Debug] Trained a tree with leaves = 31 and depth = 30\n",
      "[LightGBM] [Debug] Trained a tree with leaves = 31 and depth = 29\n",
      "[LightGBM] [Debug] Trained a tree with leaves = 31 and depth = 29\n",
      "[LightGBM] [Debug] Trained a tree with leaves = 31 and depth = 30\n",
      "[LightGBM] [Debug] Trained a tree with leaves = 31 and depth = 30\n",
      "[LightGBM] [Debug] Trained a tree with leaves = 31 and depth = 29\n",
      "[LightGBM] [Debug] Trained a tree with leaves = 31 and depth = 30\n",
      "[LightGBM] [Debug] Trained a tree with leaves = 31 and depth = 30\n",
      "[LightGBM] [Debug] Trained a tree with leaves = 31 and depth = 30\n",
      "[LightGBM] [Debug] Trained a tree with leaves = 31 and depth = 30\n",
      "[LightGBM] [Debug] Trained a tree with leaves = 31 and depth = 30\n",
      "[LightGBM] [Debug] Trained a tree with leaves = 31 and depth = 29\n",
      "[LightGBM] [Debug] Trained a tree with leaves = 31 and depth = 30\n",
      "[LightGBM] [Debug] Trained a tree with leaves = 31 and depth = 30\n",
      "[LightGBM] [Debug] Trained a tree with leaves = 31 and depth = 30\n",
      "[LightGBM] [Debug] Trained a tree with leaves = 31 and depth = 30\n",
      "[LightGBM] [Debug] Trained a tree with leaves = 31 and depth = 30\n",
      "[LightGBM] [Debug] Trained a tree with leaves = 31 and depth = 30\n",
      "[LightGBM] [Debug] Trained a tree with leaves = 31 and depth = 30\n",
      "[LightGBM] [Debug] Trained a tree with leaves = 31 and depth = 30\n",
      "[LightGBM] [Debug] Trained a tree with leaves = 31 and depth = 30\n",
      "[LightGBM] [Debug] Trained a tree with leaves = 31 and depth = 30\n",
      "[LightGBM] [Debug] Trained a tree with leaves = 31 and depth = 30\n",
      "[LightGBM] [Debug] Trained a tree with leaves = 31 and depth = 30\n",
      "[LightGBM] [Debug] Trained a tree with leaves = 31 and depth = 30\n",
      "[LightGBM] [Debug] Trained a tree with leaves = 31 and depth = 30\n",
      "[LightGBM] [Debug] Trained a tree with leaves = 31 and depth = 30\n",
      "[LightGBM] [Debug] Trained a tree with leaves = 31 and depth = 30\n",
      "[LightGBM] [Debug] Trained a tree with leaves = 31 and depth = 30\n",
      "[LightGBM] [Debug] Trained a tree with leaves = 31 and depth = 30\n",
      "[LightGBM] [Debug] Trained a tree with leaves = 31 and depth = 30\n",
      "[LightGBM] [Debug] Trained a tree with leaves = 31 and depth = 30\n",
      "[LightGBM] [Debug] Trained a tree with leaves = 31 and depth = 30\n",
      "[LightGBM] [Debug] Trained a tree with leaves = 31 and depth = 29\n",
      "[LightGBM] [Debug] Trained a tree with leaves = 31 and depth = 30\n",
      "[LightGBM] [Debug] Trained a tree with leaves = 31 and depth = 30\n",
      "[LightGBM] [Debug] Trained a tree with leaves = 31 and depth = 29\n",
      "[LightGBM] [Debug] Trained a tree with leaves = 31 and depth = 30\n",
      "[LightGBM] [Debug] Trained a tree with leaves = 31 and depth = 30\n",
      "[LightGBM] [Debug] Trained a tree with leaves = 31 and depth = 30\n",
      "[LightGBM] [Debug] Trained a tree with leaves = 31 and depth = 30\n",
      "[LightGBM] [Debug] Trained a tree with leaves = 31 and depth = 30\n",
      "[LightGBM] [Debug] Trained a tree with leaves = 31 and depth = 30\n",
      "[LightGBM] [Debug] Trained a tree with leaves = 31 and depth = 30\n",
      "[LightGBM] [Debug] Trained a tree with leaves = 31 and depth = 30\n",
      "[LightGBM] [Debug] Trained a tree with leaves = 31 and depth = 29\n",
      "[LightGBM] [Debug] Trained a tree with leaves = 31 and depth = 30\n",
      "[LightGBM] [Debug] Trained a tree with leaves = 31 and depth = 30\n",
      "[LightGBM] [Debug] Trained a tree with leaves = 31 and depth = 30\n",
      "[LightGBM] [Debug] Trained a tree with leaves = 31 and depth = 30\n",
      "[LightGBM] [Debug] Trained a tree with leaves = 31 and depth = 29\n",
      "[LightGBM] [Debug] Trained a tree with leaves = 31 and depth = 29\n",
      "[LightGBM] [Debug] Trained a tree with leaves = 31 and depth = 30\n",
      "[LightGBM] [Debug] Trained a tree with leaves = 31 and depth = 29\n",
      "[LightGBM] [Debug] Trained a tree with leaves = 31 and depth = 30\n",
      "[LightGBM] [Debug] Trained a tree with leaves = 31 and depth = 28\n",
      "[LightGBM] [Debug] Trained a tree with leaves = 31 and depth = 28\n",
      "[LightGBM] [Debug] Trained a tree with leaves = 31 and depth = 29\n",
      "[LightGBM] [Debug] Trained a tree with leaves = 31 and depth = 30\n",
      "[LightGBM] [Debug] Trained a tree with leaves = 31 and depth = 28\n",
      "[LightGBM] [Debug] Trained a tree with leaves = 31 and depth = 30\n",
      "[LightGBM] [Debug] Trained a tree with leaves = 31 and depth = 30\n",
      "[LightGBM] [Debug] Trained a tree with leaves = 31 and depth = 30\n",
      "[LightGBM] [Debug] Trained a tree with leaves = 31 and depth = 29\n",
      "[LightGBM] [Debug] Trained a tree with leaves = 31 and depth = 30\n",
      "[LightGBM] [Debug] Trained a tree with leaves = 31 and depth = 30\n",
      "[LightGBM] [Debug] Trained a tree with leaves = 31 and depth = 29\n",
      "[LightGBM] [Debug] Trained a tree with leaves = 31 and depth = 29\n",
      "[LightGBM] [Debug] Trained a tree with leaves = 31 and depth = 30\n",
      "[LightGBM] [Debug] Trained a tree with leaves = 31 and depth = 29\n",
      "[LightGBM] [Debug] Trained a tree with leaves = 31 and depth = 27\n",
      "[LightGBM] [Debug] Trained a tree with leaves = 31 and depth = 25\n",
      "[LightGBM] [Debug] Trained a tree with leaves = 31 and depth = 30\n",
      "[LightGBM] [Debug] Trained a tree with leaves = 31 and depth = 29\n",
      "[LightGBM] [Debug] Trained a tree with leaves = 31 and depth = 30\n",
      "[LightGBM] [Debug] Trained a tree with leaves = 31 and depth = 27\n",
      "[LightGBM] [Debug] Trained a tree with leaves = 31 and depth = 27\n",
      "[LightGBM] [Debug] Trained a tree with leaves = 31 and depth = 29\n",
      "[LightGBM] [Debug] Trained a tree with leaves = 31 and depth = 29\n",
      "[LightGBM] [Debug] Trained a tree with leaves = 31 and depth = 30\n",
      "[LightGBM] [Debug] Trained a tree with leaves = 31 and depth = 30\n",
      "[LightGBM] [Debug] Trained a tree with leaves = 31 and depth = 30\n",
      "[LightGBM] [Debug] Trained a tree with leaves = 31 and depth = 29\n",
      "[LightGBM] [Debug] Trained a tree with leaves = 31 and depth = 29\n",
      "[LightGBM] [Debug] Trained a tree with leaves = 31 and depth = 28\n",
      "[LightGBM] [Debug] Trained a tree with leaves = 31 and depth = 29\n",
      "[LightGBM] [Debug] Trained a tree with leaves = 31 and depth = 29\n",
      "[LightGBM] [Warning] num_threads is set=1, n_jobs=-1 will be ignored. Current value: num_threads=1\n",
      "[LightGBM] [Warning] num_threads is set=1, n_jobs=-1 will be ignored. Current value: num_threads=1\n",
      "[LightGBM] [Info] Number of positive: 9716, number of negative: 85859\n",
      "[LightGBM] [Debug] Dataset::GetMultiBinFromSparseFeatures: sparse rate 0.997468\n",
      "[LightGBM] [Debug] Dataset::GetMultiBinFromAllFeatures: sparse rate 0.997468\n",
      "[LightGBM] [Debug] init for col-wise cost 16.883097 seconds, init for row-wise cost 16.183840 seconds\n",
      "[LightGBM] [Warning] Auto-choosing row-wise multi-threading, the overhead of testing was 16.902957 seconds.\n",
      "You can set `force_row_wise=true` to remove the overhead.\n",
      "And if memory is not enough, you can set `force_col_wise=true`.\n",
      "[LightGBM] [Debug] Using Sparse Multi-Val Bin\n",
      "[LightGBM] [Info] Total Bins 418355\n",
      "[LightGBM] [Info] Number of data points in the train set: 95575, number of used features: 8192\n",
      "[LightGBM] [Info] [binary:BoostFromScore]: pavg=0.500000 -> initscore=0.000000\n",
      "[LightGBM] [Info] Start training from score 0.000000\n",
      "[LightGBM] [Debug] Trained a tree with leaves = 31 and depth = 26\n",
      "[LightGBM] [Debug] Trained a tree with leaves = 31 and depth = 28\n",
      "[LightGBM] [Debug] Trained a tree with leaves = 31 and depth = 24\n",
      "[LightGBM] [Debug] Trained a tree with leaves = 31 and depth = 29\n",
      "[LightGBM] [Debug] Trained a tree with leaves = 31 and depth = 27\n",
      "[LightGBM] [Debug] Trained a tree with leaves = 31 and depth = 27\n",
      "[LightGBM] [Debug] Trained a tree with leaves = 31 and depth = 22\n",
      "[LightGBM] [Debug] Trained a tree with leaves = 31 and depth = 29\n",
      "[LightGBM] [Debug] Trained a tree with leaves = 31 and depth = 22\n",
      "[LightGBM] [Debug] Trained a tree with leaves = 31 and depth = 30\n",
      "[LightGBM] [Debug] Trained a tree with leaves = 31 and depth = 26\n",
      "[LightGBM] [Debug] Trained a tree with leaves = 31 and depth = 30\n",
      "[LightGBM] [Debug] Trained a tree with leaves = 31 and depth = 29\n",
      "[LightGBM] [Debug] Trained a tree with leaves = 31 and depth = 30\n",
      "[LightGBM] [Debug] Trained a tree with leaves = 31 and depth = 30\n",
      "[LightGBM] [Debug] Trained a tree with leaves = 31 and depth = 30\n",
      "[LightGBM] [Debug] Trained a tree with leaves = 31 and depth = 29\n",
      "[LightGBM] [Debug] Trained a tree with leaves = 31 and depth = 29\n",
      "[LightGBM] [Debug] Trained a tree with leaves = 31 and depth = 30\n",
      "[LightGBM] [Debug] Trained a tree with leaves = 31 and depth = 30\n",
      "[LightGBM] [Debug] Trained a tree with leaves = 31 and depth = 30\n",
      "[LightGBM] [Debug] Trained a tree with leaves = 31 and depth = 30\n",
      "[LightGBM] [Debug] Trained a tree with leaves = 31 and depth = 29\n",
      "[LightGBM] [Debug] Trained a tree with leaves = 31 and depth = 30\n",
      "[LightGBM] [Debug] Trained a tree with leaves = 31 and depth = 30\n",
      "[LightGBM] [Debug] Trained a tree with leaves = 31 and depth = 30\n",
      "[LightGBM] [Debug] Trained a tree with leaves = 31 and depth = 30\n",
      "[LightGBM] [Debug] Trained a tree with leaves = 31 and depth = 30\n",
      "[LightGBM] [Debug] Trained a tree with leaves = 31 and depth = 30\n",
      "[LightGBM] [Debug] Trained a tree with leaves = 31 and depth = 30\n",
      "[LightGBM] [Debug] Trained a tree with leaves = 31 and depth = 30\n",
      "[LightGBM] [Debug] Trained a tree with leaves = 31 and depth = 30\n",
      "[LightGBM] [Debug] Trained a tree with leaves = 31 and depth = 30\n",
      "[LightGBM] [Debug] Trained a tree with leaves = 31 and depth = 30\n",
      "[LightGBM] [Debug] Trained a tree with leaves = 31 and depth = 30\n",
      "[LightGBM] [Debug] Trained a tree with leaves = 31 and depth = 30\n",
      "[LightGBM] [Debug] Trained a tree with leaves = 31 and depth = 30\n",
      "[LightGBM] [Debug] Trained a tree with leaves = 31 and depth = 30\n",
      "[LightGBM] [Debug] Trained a tree with leaves = 31 and depth = 30\n",
      "[LightGBM] [Debug] Trained a tree with leaves = 31 and depth = 30\n",
      "[LightGBM] [Debug] Trained a tree with leaves = 31 and depth = 30\n",
      "[LightGBM] [Debug] Trained a tree with leaves = 31 and depth = 30\n",
      "[LightGBM] [Debug] Trained a tree with leaves = 31 and depth = 30\n",
      "[LightGBM] [Debug] Trained a tree with leaves = 31 and depth = 30\n",
      "[LightGBM] [Debug] Trained a tree with leaves = 31 and depth = 30\n",
      "[LightGBM] [Debug] Trained a tree with leaves = 31 and depth = 30\n",
      "[LightGBM] [Debug] Trained a tree with leaves = 31 and depth = 30\n",
      "[LightGBM] [Debug] Trained a tree with leaves = 31 and depth = 30\n",
      "[LightGBM] [Debug] Trained a tree with leaves = 31 and depth = 30\n",
      "[LightGBM] [Debug] Trained a tree with leaves = 31 and depth = 30\n",
      "[LightGBM] [Debug] Trained a tree with leaves = 31 and depth = 30\n",
      "[LightGBM] [Debug] Trained a tree with leaves = 31 and depth = 30\n",
      "[LightGBM] [Debug] Trained a tree with leaves = 31 and depth = 30\n",
      "[LightGBM] [Debug] Trained a tree with leaves = 31 and depth = 30\n",
      "[LightGBM] [Debug] Trained a tree with leaves = 31 and depth = 30\n",
      "[LightGBM] [Debug] Trained a tree with leaves = 31 and depth = 29\n",
      "[LightGBM] [Debug] Trained a tree with leaves = 31 and depth = 30\n",
      "[LightGBM] [Debug] Trained a tree with leaves = 31 and depth = 30\n",
      "[LightGBM] [Debug] Trained a tree with leaves = 31 and depth = 30\n",
      "[LightGBM] [Debug] Trained a tree with leaves = 31 and depth = 30\n",
      "[LightGBM] [Debug] Trained a tree with leaves = 31 and depth = 30\n",
      "[LightGBM] [Debug] Trained a tree with leaves = 31 and depth = 30\n",
      "[LightGBM] [Debug] Trained a tree with leaves = 31 and depth = 29\n",
      "[LightGBM] [Debug] Trained a tree with leaves = 31 and depth = 30\n",
      "[LightGBM] [Debug] Trained a tree with leaves = 31 and depth = 30\n",
      "[LightGBM] [Debug] Trained a tree with leaves = 31 and depth = 27\n",
      "[LightGBM] [Debug] Trained a tree with leaves = 31 and depth = 29\n",
      "[LightGBM] [Debug] Trained a tree with leaves = 31 and depth = 30\n",
      "[LightGBM] [Debug] Trained a tree with leaves = 31 and depth = 29\n",
      "[LightGBM] [Debug] Trained a tree with leaves = 31 and depth = 28\n",
      "[LightGBM] [Debug] Trained a tree with leaves = 31 and depth = 30\n",
      "[LightGBM] [Debug] Trained a tree with leaves = 31 and depth = 30\n",
      "[LightGBM] [Debug] Trained a tree with leaves = 31 and depth = 30\n",
      "[LightGBM] [Debug] Trained a tree with leaves = 31 and depth = 29\n",
      "[LightGBM] [Debug] Trained a tree with leaves = 31 and depth = 30\n",
      "[LightGBM] [Debug] Trained a tree with leaves = 31 and depth = 30\n",
      "[LightGBM] [Debug] Trained a tree with leaves = 31 and depth = 30\n",
      "[LightGBM] [Debug] Trained a tree with leaves = 31 and depth = 27\n",
      "[LightGBM] [Debug] Trained a tree with leaves = 31 and depth = 29\n",
      "[LightGBM] [Debug] Trained a tree with leaves = 31 and depth = 30\n",
      "[LightGBM] [Debug] Trained a tree with leaves = 31 and depth = 29\n",
      "[LightGBM] [Debug] Trained a tree with leaves = 31 and depth = 30\n",
      "[LightGBM] [Debug] Trained a tree with leaves = 31 and depth = 29\n",
      "[LightGBM] [Debug] Trained a tree with leaves = 31 and depth = 28\n",
      "[LightGBM] [Debug] Trained a tree with leaves = 31 and depth = 30\n",
      "[LightGBM] [Debug] Trained a tree with leaves = 31 and depth = 30\n",
      "[LightGBM] [Debug] Trained a tree with leaves = 31 and depth = 30\n",
      "[LightGBM] [Debug] Trained a tree with leaves = 31 and depth = 29\n",
      "[LightGBM] [Debug] Trained a tree with leaves = 31 and depth = 28\n",
      "[LightGBM] [Debug] Trained a tree with leaves = 31 and depth = 28\n",
      "[LightGBM] [Debug] Trained a tree with leaves = 31 and depth = 28\n",
      "[LightGBM] [Debug] Trained a tree with leaves = 31 and depth = 28\n",
      "[LightGBM] [Debug] Trained a tree with leaves = 31 and depth = 30\n",
      "[LightGBM] [Debug] Trained a tree with leaves = 31 and depth = 29\n",
      "[LightGBM] [Debug] Trained a tree with leaves = 31 and depth = 29\n",
      "[LightGBM] [Debug] Trained a tree with leaves = 31 and depth = 29\n",
      "[LightGBM] [Debug] Trained a tree with leaves = 31 and depth = 30\n",
      "[LightGBM] [Debug] Trained a tree with leaves = 31 and depth = 27\n",
      "[LightGBM] [Debug] Trained a tree with leaves = 31 and depth = 30\n",
      "[LightGBM] [Debug] Trained a tree with leaves = 31 and depth = 29\n",
      "[LightGBM] [Warning] num_threads is set=1, n_jobs=-1 will be ignored. Current value: num_threads=1\n",
      "[LightGBM] [Warning] num_threads is set=1, n_jobs=-1 will be ignored. Current value: num_threads=1\n",
      "[LightGBM] [Info] Number of positive: 14574, number of negative: 128788\n",
      "[LightGBM] [Debug] Dataset::GetMultiBinFromSparseFeatures: sparse rate 0.997989\n",
      "[LightGBM] [Debug] Dataset::GetMultiBinFromAllFeatures: sparse rate 0.997989\n",
      "[LightGBM] [Debug] init for col-wise cost 31.612168 seconds, init for row-wise cost 31.842624 seconds\n",
      "[LightGBM] [Warning] Auto-choosing col-wise multi-threading, the overhead of testing was 31.889104 seconds.\n",
      "You can set `force_col_wise=true` to remove the overhead.\n",
      "[LightGBM] [Info] Total Bins 565592\n",
      "[LightGBM] [Info] Number of data points in the train set: 143362, number of used features: 10506\n",
      "[LightGBM] [Info] [binary:BoostFromScore]: pavg=0.500000 -> initscore=-0.000000\n",
      "[LightGBM] [Info] Start training from score -0.000000\n",
      "[LightGBM] [Debug] Trained a tree with leaves = 31 and depth = 27\n",
      "[LightGBM] [Debug] Trained a tree with leaves = 31 and depth = 26\n",
      "[LightGBM] [Debug] Trained a tree with leaves = 31 and depth = 27\n",
      "[LightGBM] [Debug] Trained a tree with leaves = 31 and depth = 26\n",
      "[LightGBM] [Debug] Trained a tree with leaves = 31 and depth = 28\n",
      "[LightGBM] [Debug] Trained a tree with leaves = 31 and depth = 28\n",
      "[LightGBM] [Debug] Trained a tree with leaves = 31 and depth = 28\n",
      "[LightGBM] [Debug] Trained a tree with leaves = 31 and depth = 23\n",
      "[LightGBM] [Debug] Trained a tree with leaves = 31 and depth = 28\n",
      "[LightGBM] [Debug] Trained a tree with leaves = 31 and depth = 29\n",
      "[LightGBM] [Debug] Trained a tree with leaves = 31 and depth = 27\n",
      "[LightGBM] [Debug] Trained a tree with leaves = 31 and depth = 30\n",
      "[LightGBM] [Debug] Trained a tree with leaves = 31 and depth = 30\n",
      "[LightGBM] [Debug] Trained a tree with leaves = 31 and depth = 28\n",
      "[LightGBM] [Debug] Trained a tree with leaves = 31 and depth = 30\n",
      "[LightGBM] [Debug] Trained a tree with leaves = 31 and depth = 30\n",
      "[LightGBM] [Debug] Trained a tree with leaves = 31 and depth = 30\n",
      "[LightGBM] [Debug] Trained a tree with leaves = 31 and depth = 29\n",
      "[LightGBM] [Debug] Trained a tree with leaves = 31 and depth = 30\n",
      "[LightGBM] [Debug] Trained a tree with leaves = 31 and depth = 30\n",
      "[LightGBM] [Debug] Trained a tree with leaves = 31 and depth = 30\n",
      "[LightGBM] [Debug] Trained a tree with leaves = 31 and depth = 30\n",
      "[LightGBM] [Debug] Trained a tree with leaves = 31 and depth = 30\n",
      "[LightGBM] [Debug] Trained a tree with leaves = 31 and depth = 29\n",
      "[LightGBM] [Debug] Trained a tree with leaves = 31 and depth = 30\n",
      "[LightGBM] [Debug] Trained a tree with leaves = 31 and depth = 30\n",
      "[LightGBM] [Debug] Trained a tree with leaves = 31 and depth = 30\n",
      "[LightGBM] [Debug] Trained a tree with leaves = 31 and depth = 30\n",
      "[LightGBM] [Debug] Trained a tree with leaves = 31 and depth = 30\n",
      "[LightGBM] [Debug] Trained a tree with leaves = 31 and depth = 30\n",
      "[LightGBM] [Debug] Trained a tree with leaves = 31 and depth = 30\n",
      "[LightGBM] [Debug] Trained a tree with leaves = 31 and depth = 30\n",
      "[LightGBM] [Debug] Trained a tree with leaves = 31 and depth = 30\n",
      "[LightGBM] [Debug] Trained a tree with leaves = 31 and depth = 30\n",
      "[LightGBM] [Debug] Trained a tree with leaves = 31 and depth = 30\n",
      "[LightGBM] [Debug] Trained a tree with leaves = 31 and depth = 30\n",
      "[LightGBM] [Debug] Trained a tree with leaves = 31 and depth = 30\n",
      "[LightGBM] [Debug] Trained a tree with leaves = 31 and depth = 30\n",
      "[LightGBM] [Debug] Trained a tree with leaves = 31 and depth = 30\n",
      "[LightGBM] [Debug] Trained a tree with leaves = 31 and depth = 30\n",
      "[LightGBM] [Debug] Trained a tree with leaves = 31 and depth = 30\n",
      "[LightGBM] [Debug] Trained a tree with leaves = 31 and depth = 30\n",
      "[LightGBM] [Debug] Trained a tree with leaves = 31 and depth = 30\n",
      "[LightGBM] [Debug] Trained a tree with leaves = 31 and depth = 30\n",
      "[LightGBM] [Debug] Trained a tree with leaves = 31 and depth = 30\n",
      "[LightGBM] [Debug] Trained a tree with leaves = 31 and depth = 30\n",
      "[LightGBM] [Debug] Trained a tree with leaves = 31 and depth = 30\n",
      "[LightGBM] [Debug] Trained a tree with leaves = 31 and depth = 30\n",
      "[LightGBM] [Debug] Trained a tree with leaves = 31 and depth = 30\n",
      "[LightGBM] [Debug] Trained a tree with leaves = 31 and depth = 30\n",
      "[LightGBM] [Debug] Trained a tree with leaves = 31 and depth = 30\n",
      "[LightGBM] [Debug] Trained a tree with leaves = 31 and depth = 30\n",
      "[LightGBM] [Debug] Trained a tree with leaves = 31 and depth = 30\n",
      "[LightGBM] [Debug] Trained a tree with leaves = 31 and depth = 30\n",
      "[LightGBM] [Debug] Trained a tree with leaves = 31 and depth = 30\n",
      "[LightGBM] [Debug] Trained a tree with leaves = 31 and depth = 30\n",
      "[LightGBM] [Debug] Trained a tree with leaves = 31 and depth = 30\n",
      "[LightGBM] [Debug] Trained a tree with leaves = 31 and depth = 30\n",
      "[LightGBM] [Debug] Trained a tree with leaves = 31 and depth = 30\n",
      "[LightGBM] [Debug] Trained a tree with leaves = 31 and depth = 29\n",
      "[LightGBM] [Debug] Trained a tree with leaves = 31 and depth = 30\n",
      "[LightGBM] [Debug] Trained a tree with leaves = 31 and depth = 30\n",
      "[LightGBM] [Debug] Trained a tree with leaves = 31 and depth = 30\n",
      "[LightGBM] [Debug] Trained a tree with leaves = 31 and depth = 30\n",
      "[LightGBM] [Debug] Trained a tree with leaves = 31 and depth = 29\n",
      "[LightGBM] [Debug] Trained a tree with leaves = 31 and depth = 30\n",
      "[LightGBM] [Debug] Trained a tree with leaves = 31 and depth = 29\n",
      "[LightGBM] [Debug] Trained a tree with leaves = 31 and depth = 30\n",
      "[LightGBM] [Debug] Trained a tree with leaves = 31 and depth = 30\n",
      "[LightGBM] [Debug] Trained a tree with leaves = 31 and depth = 30\n",
      "[LightGBM] [Debug] Trained a tree with leaves = 31 and depth = 30\n",
      "[LightGBM] [Debug] Trained a tree with leaves = 31 and depth = 30\n",
      "[LightGBM] [Debug] Trained a tree with leaves = 31 and depth = 30\n",
      "[LightGBM] [Debug] Trained a tree with leaves = 31 and depth = 30\n",
      "[LightGBM] [Debug] Trained a tree with leaves = 31 and depth = 30\n",
      "[LightGBM] [Debug] Trained a tree with leaves = 31 and depth = 30\n",
      "[LightGBM] [Debug] Trained a tree with leaves = 31 and depth = 30\n",
      "[LightGBM] [Debug] Trained a tree with leaves = 31 and depth = 30\n",
      "[LightGBM] [Debug] Trained a tree with leaves = 31 and depth = 30\n",
      "[LightGBM] [Debug] Trained a tree with leaves = 31 and depth = 30\n",
      "[LightGBM] [Debug] Trained a tree with leaves = 31 and depth = 30\n",
      "[LightGBM] [Debug] Trained a tree with leaves = 31 and depth = 30\n",
      "[LightGBM] [Debug] Trained a tree with leaves = 31 and depth = 27\n",
      "[LightGBM] [Debug] Trained a tree with leaves = 31 and depth = 30\n",
      "[LightGBM] [Debug] Trained a tree with leaves = 31 and depth = 30\n",
      "[LightGBM] [Debug] Trained a tree with leaves = 31 and depth = 29\n",
      "[LightGBM] [Debug] Trained a tree with leaves = 31 and depth = 28\n",
      "[LightGBM] [Debug] Trained a tree with leaves = 31 and depth = 29\n",
      "[LightGBM] [Debug] Trained a tree with leaves = 31 and depth = 29\n",
      "[LightGBM] [Debug] Trained a tree with leaves = 31 and depth = 30\n",
      "[LightGBM] [Debug] Trained a tree with leaves = 31 and depth = 29\n",
      "[LightGBM] [Debug] Trained a tree with leaves = 31 and depth = 30\n",
      "[LightGBM] [Debug] Trained a tree with leaves = 31 and depth = 28\n",
      "[LightGBM] [Debug] Trained a tree with leaves = 31 and depth = 29\n",
      "[LightGBM] [Debug] Trained a tree with leaves = 31 and depth = 29\n",
      "[LightGBM] [Debug] Trained a tree with leaves = 31 and depth = 29\n",
      "[LightGBM] [Debug] Trained a tree with leaves = 31 and depth = 30\n",
      "[LightGBM] [Debug] Trained a tree with leaves = 31 and depth = 30\n",
      "[LightGBM] [Debug] Trained a tree with leaves = 31 and depth = 29\n",
      "[LightGBM] [Debug] Trained a tree with leaves = 31 and depth = 28\n",
      "CPU times: user 5min 43s, sys: 813 ms, total: 5min 44s\n",
      "Wall time: 5min 45s\n"
     ]
    },
    {
     "data": {
      "text/plain": [
       "RandomizedSearchCV(cv=3,\n",
       "                   estimator=Pipeline(steps=[('vect',\n",
       "                                              TfidfVectorizer(stop_words='english')),\n",
       "                                             ('model',\n",
       "                                              LGBMClassifier(num_threads=1,\n",
       "                                                             seed=12345,\n",
       "                                                             verbose=50))]),\n",
       "                   n_jobs=-1,\n",
       "                   param_distributions={'model__class_weight': ['balanced']},\n",
       "                   scoring='f1')"
      ]
     },
     "execution_count": 54,
     "metadata": {},
     "output_type": "execute_result"
    }
   ],
   "source": [
    "%%time\n",
    "\n",
    "text_clf =Pipeline([('vect', TfidfVectorizer(stop_words='english')),\n",
    "                     ('model', LGBMClassifier(verbose=50, \n",
    "                                              seed=RANDOM_STATE, \n",
    "                                              num_threads=1))])\n",
    "\n",
    "param_grid_lgbm = {'model__class_weight': ['balanced']}                      \n",
    "\n",
    "model_lgbm = RandomizedSearchCV(text_clf, param_grid_lgbm, scoring='f1', cv=3, n_jobs=-1 )\n",
    "\n",
    "model_lgbm.fit(x_train_pipe, y_train_pipe)"
   ]
  },
  {
   "cell_type": "code",
   "execution_count": 55,
   "metadata": {},
   "outputs": [
    {
     "name": "stdout",
     "output_type": "stream",
     "text": [
      "Лучшие параметры для LGBMClassifier:  {'model__class_weight': 'balanced'}\n",
      "Значение метрики F1 для лучших параметров LGBMClassifier: 0.7315\n"
     ]
    }
   ],
   "source": [
    "print(f'Лучшие параметры для LGBMClassifier: ', model_lgbm.best_params_)\n",
    "print(f'Значение метрики F1 для лучших параметров LGBMClassifier: %.4f' % model_lgbm.best_score_)"
   ]
  },
  {
   "cell_type": "code",
   "execution_count": 56,
   "metadata": {},
   "outputs": [
    {
     "data": {
      "text/html": [
       "<div>\n",
       "<style scoped>\n",
       "    .dataframe tbody tr th:only-of-type {\n",
       "        vertical-align: middle;\n",
       "    }\n",
       "\n",
       "    .dataframe tbody tr th {\n",
       "        vertical-align: top;\n",
       "    }\n",
       "\n",
       "    .dataframe thead th {\n",
       "        text-align: right;\n",
       "    }\n",
       "</style>\n",
       "<table border=\"1\" class=\"dataframe\">\n",
       "  <thead>\n",
       "    <tr style=\"text-align: right;\">\n",
       "      <th></th>\n",
       "      <th>Model</th>\n",
       "      <th>F1</th>\n",
       "    </tr>\n",
       "  </thead>\n",
       "  <tbody>\n",
       "    <tr>\n",
       "      <th>0</th>\n",
       "      <td>LogisticRegression</td>\n",
       "      <td>0.755382</td>\n",
       "    </tr>\n",
       "    <tr>\n",
       "      <th>1</th>\n",
       "      <td>RandomForestClassifier</td>\n",
       "      <td>0.322514</td>\n",
       "    </tr>\n",
       "    <tr>\n",
       "      <th>2</th>\n",
       "      <td>SGDClassifier</td>\n",
       "      <td>0.747916</td>\n",
       "    </tr>\n",
       "    <tr>\n",
       "      <th>3</th>\n",
       "      <td>DecisionTreeClassifier</td>\n",
       "      <td>0.639291</td>\n",
       "    </tr>\n",
       "    <tr>\n",
       "      <th>4</th>\n",
       "      <td>LGBMClassifier</td>\n",
       "      <td>0.731456</td>\n",
       "    </tr>\n",
       "  </tbody>\n",
       "</table>\n",
       "</div>"
      ],
      "text/plain": [
       "                    Model        F1\n",
       "0      LogisticRegression  0.755382\n",
       "1  RandomForestClassifier  0.322514\n",
       "2           SGDClassifier  0.747916\n",
       "3  DecisionTreeClassifier  0.639291\n",
       "4          LGBMClassifier  0.731456"
      ]
     },
     "metadata": {},
     "output_type": "display_data"
    }
   ],
   "source": [
    "results = {\n",
    "    'Model' : ['LogisticRegression', \n",
    "               'RandomForestClassifier',\n",
    "               'SGDClassifier',\n",
    "               'DecisionTreeClassifier',\n",
    "               'LGBMClassifier'],\n",
    "    'F1' :pd.Series([model_lr.best_score_, \n",
    "                     model_rfc.best_score_, \n",
    "                     model_sgdc.best_score_, \n",
    "                     model_dtc.best_score_,\n",
    "                     model_lgbm.best_score_])}\n",
    "\n",
    "display(pd.DataFrame(results))"
   ]
  },
  {
   "cell_type": "markdown",
   "metadata": {},
   "source": [
    "**Вывод:**\n",
    "Лучший результат у _Логистической регрессии:_\n",
    "- Лучшие параметры для LogisticRegression:  {'class_weight': 'balanced', 'C': 10}\n",
    "- Значение метрики F1 для лучших параметров LogisticRegression: 0.7554\n",
    "\n",
    "Проверим модель на тестовой выборке:"
   ]
  },
  {
   "cell_type": "code",
   "execution_count": 57,
   "metadata": {},
   "outputs": [
    {
     "name": "stdout",
     "output_type": "stream",
     "text": [
      "Значение метрики F1 для лучшей модели: 0.7606\n"
     ]
    }
   ],
   "source": [
    "prediction = model_lr.predict(x_test)\n",
    "result = f1_score(y_test, prediction)\n",
    "\n",
    "print(f'Значение метрики F1 для лучшей модели: %.4f' % result)"
   ]
  },
  {
   "cell_type": "markdown",
   "metadata": {},
   "source": [
    "**Вывод:**\n",
    "- значение метрики F1 для лучшей модели на тестовой выборке = **0.7606.**\n",
    "\n",
    "Условие: \\\n",
    "значение метрики качества F1 не меньше 0.75 - выполнено."
   ]
  },
  {
   "cell_type": "markdown",
   "metadata": {},
   "source": [
    "Проверим модель на адекватность:"
   ]
  },
  {
   "cell_type": "code",
   "execution_count": 58,
   "metadata": {},
   "outputs": [
    {
     "name": "stdout",
     "output_type": "stream",
     "text": [
      "Значение метрики F1 для константной модели: 0.1838\n"
     ]
    }
   ],
   "source": [
    "dummy_model = DummyClassifier(strategy = 'constant',\n",
    "                              constant = 1, \n",
    "                              random_state=RANDOM_STATE)\n",
    "dummy_model.fit(x_train, y_train)\n",
    "dummy_result = f1_score(y_test, dummy_model.predict(x_test))\n",
    "\n",
    "print(f'Значение метрики F1 для константной модели: %.4f' % dummy_result)"
   ]
  },
  {
   "cell_type": "markdown",
   "metadata": {},
   "source": [
    "**Вывод:** \n",
    "- модель адекватна."
   ]
  },
  {
   "cell_type": "markdown",
   "metadata": {},
   "source": [
    "## Выводы"
   ]
  },
  {
   "cell_type": "markdown",
   "metadata": {},
   "source": [
    "1. **_Были подготовлены данные:_**\n",
    "- в таблице 159292 срок и 2 столбца:\n",
    "- пропусков нет;\n",
    "- дубликатов нет;\n",
    "- наблюдаем дисбаланс классов;\n",
    "- произведена лемматизация и очистка текста от лишних символов;\n",
    "- разделены данные на обучающую (90%) и тестовую (10%) выборки;\n",
    "- удалены стоп-слова;\n",
    "- вычислены TF-IDF для корпуса текстов.\n",
    "\n",
    "2. **_Обучены модели:_** \n",
    "| Model | F1 | \n",
    "|---|---|\n",
    "| LinearRegression | 0.755382 |\n",
    "| RandomForest | 0.322514 | \n",
    "| SGDClassifier | 0.747916 | \n",
    "| DecisionTreeClassifier | 0.639291 |\n",
    "| LGBMClassifier | 0.731456 |\n",
    "\n",
    "3. **_Выбрана лучшая модель - _LogisticRegression_ и проверена на тестовой выборке:**\n",
    "- Лучшие параметры для LogisticRegression:  {'class_weight': 'balanced', 'C': 10}\n",
    "- Значение метрики F1 для лучших параметров LogisticRegression: 0.7554\n",
    "- Значение метрики F1 для лучшей модели на тестовой выборке = **0.7606.**\n",
    "\n",
    "Условие: \\\n",
    "значение метрики качества F1 не меньше 0.75 - выполнено.\n",
    "\n",
    "4. **_Модель проверена на адекватность:_**\n",
    "- Значение метрики F1 для константной модели: 0.1838 - **модель адкватна.**"
   ]
  },
  {
   "cell_type": "markdown",
   "metadata": {},
   "source": [
    "## Чек-лист проверки"
   ]
  },
  {
   "cell_type": "markdown",
   "metadata": {},
   "source": [
    "- [x]  Jupyter Notebook открыт\n",
    "- [ ]  Весь код выполняется без ошибок\n",
    "- [ ]  Ячейки с кодом расположены в порядке исполнения\n",
    "- [ ]  Данные загружены и подготовлены\n",
    "- [ ]  Модели обучены\n",
    "- [ ]  Значение метрики *F1* не меньше 0.75\n",
    "- [ ]  Выводы написаны"
   ]
  }
 ],
 "metadata": {
  "ExecuteTimeLog": [
   {
    "duration": 15,
    "start_time": "2023-05-30T06:12:20.888Z"
   },
   {
    "duration": 42,
    "start_time": "2023-05-30T06:12:49.685Z"
   },
   {
    "duration": 2194,
    "start_time": "2023-05-30T06:12:53.707Z"
   },
   {
    "duration": 7,
    "start_time": "2023-05-30T06:12:55.903Z"
   },
   {
    "duration": 2227,
    "start_time": "2023-05-30T06:12:56.015Z"
   },
   {
    "duration": 13,
    "start_time": "2023-05-30T06:12:59.031Z"
   },
   {
    "duration": 706,
    "start_time": "2023-05-30T06:14:11.131Z"
   },
   {
    "duration": 33,
    "start_time": "2023-05-30T06:15:23.722Z"
   },
   {
    "duration": 26,
    "start_time": "2023-05-30T06:15:29.715Z"
   },
   {
    "duration": 33,
    "start_time": "2023-05-30T06:15:34.175Z"
   },
   {
    "duration": 1952,
    "start_time": "2023-05-30T12:10:42.659Z"
   },
   {
    "duration": 3643,
    "start_time": "2023-05-30T12:10:44.613Z"
   },
   {
    "duration": 47,
    "start_time": "2023-05-30T12:10:48.257Z"
   },
   {
    "duration": 1993,
    "start_time": "2023-05-31T11:35:33.563Z"
   },
   {
    "duration": 2299,
    "start_time": "2023-05-31T11:35:35.558Z"
   },
   {
    "duration": 46,
    "start_time": "2023-05-31T11:35:37.859Z"
   },
   {
    "duration": 20,
    "start_time": "2023-05-31T11:56:26.042Z"
   },
   {
    "duration": 128,
    "start_time": "2023-05-31T11:56:56.504Z"
   },
   {
    "duration": 2145,
    "start_time": "2023-05-31T11:57:01.142Z"
   },
   {
    "duration": 61,
    "start_time": "2023-05-31T12:03:40.321Z"
   },
   {
    "duration": 9,
    "start_time": "2023-05-31T12:03:54.853Z"
   },
   {
    "duration": 14,
    "start_time": "2023-05-31T12:04:16.892Z"
   },
   {
    "duration": 868,
    "start_time": "2023-05-31T12:04:59.268Z"
   },
   {
    "duration": 5,
    "start_time": "2023-05-31T12:05:30.803Z"
   },
   {
    "duration": 864,
    "start_time": "2023-05-31T12:05:31.517Z"
   },
   {
    "duration": 15,
    "start_time": "2023-05-31T12:05:32.383Z"
   },
   {
    "duration": 341,
    "start_time": "2023-05-31T12:05:32.473Z"
   },
   {
    "duration": 1755,
    "start_time": "2023-05-31T12:05:46.507Z"
   },
   {
    "duration": 5,
    "start_time": "2023-05-31T12:05:48.264Z"
   },
   {
    "duration": 2341,
    "start_time": "2023-05-31T12:05:48.271Z"
   },
   {
    "duration": 15,
    "start_time": "2023-05-31T12:05:50.614Z"
   },
   {
    "duration": 363,
    "start_time": "2023-05-31T12:05:50.630Z"
   },
   {
    "duration": 2023,
    "start_time": "2023-05-31T12:05:50.996Z"
   },
   {
    "duration": 6,
    "start_time": "2023-05-31T12:06:13.677Z"
   },
   {
    "duration": 4,
    "start_time": "2023-05-31T12:11:04.364Z"
   },
   {
    "duration": 147,
    "start_time": "2023-05-31T12:11:04.775Z"
   },
   {
    "duration": 35,
    "start_time": "2023-05-31T12:11:19.490Z"
   },
   {
    "duration": 5,
    "start_time": "2023-05-31T12:11:24.563Z"
   },
   {
    "duration": 1082,
    "start_time": "2023-05-31T12:11:25.234Z"
   },
   {
    "duration": 4,
    "start_time": "2023-05-31T12:12:06.939Z"
   },
   {
    "duration": 869,
    "start_time": "2023-05-31T12:12:07.625Z"
   },
   {
    "duration": 871,
    "start_time": "2023-05-31T12:22:44.019Z"
   },
   {
    "duration": 832,
    "start_time": "2023-05-31T12:22:48.729Z"
   },
   {
    "duration": 22,
    "start_time": "2023-05-31T12:23:00.903Z"
   },
   {
    "duration": 911,
    "start_time": "2023-05-31T12:23:06.775Z"
   },
   {
    "duration": 21,
    "start_time": "2023-05-31T12:26:21.586Z"
   },
   {
    "duration": 11,
    "start_time": "2023-05-31T12:26:33.067Z"
   },
   {
    "duration": 868,
    "start_time": "2023-05-31T12:26:37.655Z"
   },
   {
    "duration": 23,
    "start_time": "2023-05-31T12:26:49.310Z"
   },
   {
    "duration": 15,
    "start_time": "2023-05-31T12:28:12.057Z"
   },
   {
    "duration": 869,
    "start_time": "2023-05-31T12:28:34.664Z"
   },
   {
    "duration": 1692,
    "start_time": "2023-05-31T12:31:00.809Z"
   },
   {
    "duration": 5,
    "start_time": "2023-05-31T12:31:02.503Z"
   },
   {
    "duration": 919,
    "start_time": "2023-05-31T12:31:02.510Z"
   },
   {
    "duration": 15,
    "start_time": "2023-05-31T12:31:03.431Z"
   },
   {
    "duration": 383,
    "start_time": "2023-05-31T12:31:03.448Z"
   },
   {
    "duration": 3,
    "start_time": "2023-05-31T12:31:03.832Z"
   },
   {
    "duration": 16,
    "start_time": "2023-05-31T12:31:03.836Z"
   },
   {
    "duration": 11,
    "start_time": "2023-05-31T12:31:03.854Z"
   },
   {
    "duration": 144,
    "start_time": "2023-05-31T12:31:03.867Z"
   },
   {
    "duration": 0,
    "start_time": "2023-05-31T12:31:04.013Z"
   },
   {
    "duration": 12,
    "start_time": "2023-05-31T12:31:18.272Z"
   },
   {
    "duration": 17,
    "start_time": "2023-05-31T12:31:24.418Z"
   },
   {
    "duration": 50337,
    "start_time": "2023-05-31T12:32:20.750Z"
   },
   {
    "duration": 12968,
    "start_time": "2023-05-31T12:34:01.893Z"
   },
   {
    "duration": 55,
    "start_time": "2023-05-31T12:34:37.509Z"
   },
   {
    "duration": 3,
    "start_time": "2023-05-31T12:34:38.545Z"
   },
   {
    "duration": 3,
    "start_time": "2023-05-31T12:34:39.221Z"
   },
   {
    "duration": 62175,
    "start_time": "2023-05-31T12:34:39.597Z"
   },
   {
    "duration": 5,
    "start_time": "2023-05-31T12:35:48.856Z"
   },
   {
    "duration": 1658,
    "start_time": "2023-05-31T12:35:56.732Z"
   },
   {
    "duration": 5,
    "start_time": "2023-05-31T12:35:58.392Z"
   },
   {
    "duration": 849,
    "start_time": "2023-05-31T12:35:58.399Z"
   },
   {
    "duration": 15,
    "start_time": "2023-05-31T12:35:59.250Z"
   },
   {
    "duration": 374,
    "start_time": "2023-05-31T12:35:59.267Z"
   },
   {
    "duration": 3,
    "start_time": "2023-05-31T12:35:59.643Z"
   },
   {
    "duration": 63,
    "start_time": "2023-05-31T12:35:59.648Z"
   },
   {
    "duration": 34,
    "start_time": "2023-05-31T12:35:59.713Z"
   },
   {
    "duration": 68714,
    "start_time": "2023-05-31T12:35:59.749Z"
   },
   {
    "duration": 0,
    "start_time": "2023-05-31T12:37:08.465Z"
   },
   {
    "duration": 0,
    "start_time": "2023-05-31T12:37:08.470Z"
   },
   {
    "duration": 1803,
    "start_time": "2023-05-31T12:37:42.490Z"
   },
   {
    "duration": 5,
    "start_time": "2023-05-31T12:37:44.295Z"
   },
   {
    "duration": 917,
    "start_time": "2023-05-31T12:37:44.302Z"
   },
   {
    "duration": 16,
    "start_time": "2023-05-31T12:37:45.221Z"
   },
   {
    "duration": 385,
    "start_time": "2023-05-31T12:37:45.239Z"
   },
   {
    "duration": 3,
    "start_time": "2023-05-31T12:37:45.626Z"
   },
   {
    "duration": 10,
    "start_time": "2023-05-31T12:37:45.631Z"
   },
   {
    "duration": 7401,
    "start_time": "2023-05-31T12:37:45.643Z"
   },
   {
    "duration": 0,
    "start_time": "2023-05-31T12:37:53.046Z"
   },
   {
    "duration": 13,
    "start_time": "2023-05-31T12:37:55.490Z"
   },
   {
    "duration": 44,
    "start_time": "2023-05-31T12:38:22.894Z"
   },
   {
    "duration": 2156,
    "start_time": "2023-05-31T12:39:31.354Z"
   },
   {
    "duration": 2164,
    "start_time": "2023-05-31T12:39:40.773Z"
   },
   {
    "duration": 6,
    "start_time": "2023-05-31T12:39:42.939Z"
   },
   {
    "duration": 1020,
    "start_time": "2023-05-31T12:39:42.948Z"
   },
   {
    "duration": 16,
    "start_time": "2023-05-31T12:39:43.970Z"
   },
   {
    "duration": 368,
    "start_time": "2023-05-31T12:39:43.998Z"
   },
   {
    "duration": 2120,
    "start_time": "2023-05-31T12:39:44.368Z"
   },
   {
    "duration": 45,
    "start_time": "2023-05-31T12:39:46.490Z"
   },
   {
    "duration": 35,
    "start_time": "2023-05-31T12:39:46.537Z"
   },
   {
    "duration": 16,
    "start_time": "2023-05-31T12:39:46.575Z"
   },
   {
    "duration": 922,
    "start_time": "2023-05-31T12:39:46.594Z"
   },
   {
    "duration": 710,
    "start_time": "2023-05-31T12:40:00.014Z"
   },
   {
    "duration": 765,
    "start_time": "2023-05-31T12:40:11.001Z"
   },
   {
    "duration": 714,
    "start_time": "2023-05-31T12:40:20.655Z"
   },
   {
    "duration": 137,
    "start_time": "2023-05-31T12:40:28.131Z"
   },
   {
    "duration": 726,
    "start_time": "2023-05-31T12:40:31.272Z"
   },
   {
    "duration": 10559,
    "start_time": "2023-05-31T12:41:25.619Z"
   },
   {
    "duration": 11,
    "start_time": "2023-05-31T13:23:52.792Z"
   },
   {
    "duration": 5,
    "start_time": "2023-05-31T13:24:07.967Z"
   },
   {
    "duration": 60,
    "start_time": "2023-05-31T13:25:07.985Z"
   },
   {
    "duration": 14030,
    "start_time": "2023-05-31T13:25:15.048Z"
   },
   {
    "duration": 8681,
    "start_time": "2023-05-31T13:26:37.914Z"
   },
   {
    "duration": 7827,
    "start_time": "2023-05-31T13:28:19.396Z"
   },
   {
    "duration": 9,
    "start_time": "2023-05-31T13:28:41.844Z"
   },
   {
    "duration": 22,
    "start_time": "2023-05-31T13:28:48.191Z"
   },
   {
    "duration": 7560,
    "start_time": "2023-05-31T13:28:54.306Z"
   },
   {
    "duration": 1767,
    "start_time": "2023-05-31T20:15:12.349Z"
   },
   {
    "duration": 8,
    "start_time": "2023-05-31T20:15:14.118Z"
   },
   {
    "duration": 2624,
    "start_time": "2023-05-31T20:15:14.127Z"
   },
   {
    "duration": 15,
    "start_time": "2023-05-31T20:15:16.753Z"
   },
   {
    "duration": 431,
    "start_time": "2023-05-31T20:15:16.771Z"
   },
   {
    "duration": 4,
    "start_time": "2023-05-31T20:15:17.204Z"
   },
   {
    "duration": 100908,
    "start_time": "2023-05-31T20:15:17.210Z"
   },
   {
    "duration": 13,
    "start_time": "2023-05-31T20:16:58.119Z"
   },
   {
    "duration": 1686,
    "start_time": "2023-05-31T20:19:11.283Z"
   },
   {
    "duration": 5,
    "start_time": "2023-05-31T20:30:36.504Z"
   },
   {
    "duration": 132,
    "start_time": "2023-05-31T20:31:13.400Z"
   },
   {
    "duration": 7,
    "start_time": "2023-05-31T20:31:18.482Z"
   },
   {
    "duration": 31,
    "start_time": "2023-05-31T20:31:18.679Z"
   },
   {
    "duration": 599,
    "start_time": "2023-05-31T20:32:22.898Z"
   },
   {
    "duration": 5,
    "start_time": "2023-05-31T20:32:56.466Z"
   },
   {
    "duration": 3,
    "start_time": "2023-05-31T20:33:31.970Z"
   },
   {
    "duration": 1502,
    "start_time": "2023-05-31T20:34:11.352Z"
   },
   {
    "duration": 5,
    "start_time": "2023-05-31T20:34:12.856Z"
   },
   {
    "duration": 779,
    "start_time": "2023-05-31T20:34:12.863Z"
   },
   {
    "duration": 14,
    "start_time": "2023-05-31T20:34:13.644Z"
   },
   {
    "duration": 348,
    "start_time": "2023-05-31T20:34:13.660Z"
   },
   {
    "duration": 4,
    "start_time": "2023-05-31T20:34:14.009Z"
   },
   {
    "duration": 89383,
    "start_time": "2023-05-31T20:34:14.014Z"
   },
   {
    "duration": 12,
    "start_time": "2023-05-31T20:35:43.399Z"
   },
   {
    "duration": 12,
    "start_time": "2023-05-31T20:35:43.413Z"
   },
   {
    "duration": 25,
    "start_time": "2023-05-31T20:35:43.427Z"
   },
   {
    "duration": 3,
    "start_time": "2023-05-31T20:35:43.454Z"
   },
   {
    "duration": 666,
    "start_time": "2023-05-31T20:35:43.458Z"
   },
   {
    "duration": 0,
    "start_time": "2023-05-31T20:35:44.125Z"
   },
   {
    "duration": 5,
    "start_time": "2023-05-31T20:40:06.190Z"
   },
   {
    "duration": 52,
    "start_time": "2023-05-31T20:43:44.729Z"
   },
   {
    "duration": 4,
    "start_time": "2023-05-31T20:43:46.457Z"
   },
   {
    "duration": 1613,
    "start_time": "2023-05-31T20:43:56.079Z"
   },
   {
    "duration": 5,
    "start_time": "2023-05-31T20:43:57.694Z"
   },
   {
    "duration": 784,
    "start_time": "2023-05-31T20:43:57.700Z"
   },
   {
    "duration": 13,
    "start_time": "2023-05-31T20:43:58.485Z"
   },
   {
    "duration": 331,
    "start_time": "2023-05-31T20:43:58.501Z"
   },
   {
    "duration": 4,
    "start_time": "2023-05-31T20:43:58.833Z"
   },
   {
    "duration": 97476,
    "start_time": "2023-05-31T20:43:58.838Z"
   },
   {
    "duration": 17,
    "start_time": "2023-05-31T20:45:36.316Z"
   },
   {
    "duration": 11,
    "start_time": "2023-05-31T20:45:36.334Z"
   },
   {
    "duration": 183,
    "start_time": "2023-05-31T20:45:36.346Z"
   },
   {
    "duration": 0,
    "start_time": "2023-05-31T20:45:36.531Z"
   },
   {
    "duration": 0,
    "start_time": "2023-05-31T20:45:36.532Z"
   },
   {
    "duration": 0,
    "start_time": "2023-05-31T20:45:36.533Z"
   },
   {
    "duration": 1,
    "start_time": "2023-05-31T20:45:36.533Z"
   },
   {
    "duration": 0,
    "start_time": "2023-05-31T20:45:36.534Z"
   },
   {
    "duration": 23,
    "start_time": "2023-05-31T20:45:54.869Z"
   },
   {
    "duration": 4,
    "start_time": "2023-05-31T20:45:55.961Z"
   },
   {
    "duration": 606,
    "start_time": "2023-05-31T20:45:57.597Z"
   },
   {
    "duration": 1283,
    "start_time": "2023-05-31T20:46:06.548Z"
   },
   {
    "duration": 219,
    "start_time": "2023-05-31T20:46:08.535Z"
   },
   {
    "duration": 6,
    "start_time": "2023-05-31T20:46:32.547Z"
   },
   {
    "duration": 4,
    "start_time": "2023-05-31T20:46:39.259Z"
   },
   {
    "duration": 5677,
    "start_time": "2023-05-31T20:46:43.105Z"
   },
   {
    "duration": 244,
    "start_time": "2023-05-31T20:46:48.784Z"
   },
   {
    "duration": 21,
    "start_time": "2023-05-31T20:47:29.804Z"
   },
   {
    "duration": 4,
    "start_time": "2023-05-31T20:47:30.502Z"
   },
   {
    "duration": 5,
    "start_time": "2023-05-31T20:47:45.944Z"
   },
   {
    "duration": 47,
    "start_time": "2023-05-31T20:47:50.004Z"
   },
   {
    "duration": 0,
    "start_time": "2023-05-31T20:47:50.053Z"
   },
   {
    "duration": 1515,
    "start_time": "2023-05-31T20:47:55.978Z"
   },
   {
    "duration": 7,
    "start_time": "2023-05-31T20:47:57.495Z"
   },
   {
    "duration": 2278,
    "start_time": "2023-05-31T20:47:57.504Z"
   },
   {
    "duration": 14,
    "start_time": "2023-05-31T20:47:59.784Z"
   },
   {
    "duration": 359,
    "start_time": "2023-05-31T20:47:59.799Z"
   },
   {
    "duration": 4,
    "start_time": "2023-05-31T20:48:00.159Z"
   },
   {
    "duration": 96956,
    "start_time": "2023-05-31T20:48:00.164Z"
   },
   {
    "duration": 15,
    "start_time": "2023-05-31T20:49:37.122Z"
   },
   {
    "duration": 5,
    "start_time": "2023-05-31T20:49:37.139Z"
   },
   {
    "duration": 49,
    "start_time": "2023-05-31T20:49:37.147Z"
   },
   {
    "duration": 3,
    "start_time": "2023-05-31T20:49:37.198Z"
   },
   {
    "duration": 1613,
    "start_time": "2023-05-31T20:49:37.203Z"
   },
   {
    "duration": 201,
    "start_time": "2023-05-31T20:49:38.817Z"
   },
   {
    "duration": 5570,
    "start_time": "2023-05-31T20:49:39.020Z"
   },
   {
    "duration": 1930,
    "start_time": "2023-05-31T20:49:44.592Z"
   },
   {
    "duration": 128,
    "start_time": "2023-05-31T20:53:07.785Z"
   },
   {
    "duration": 12,
    "start_time": "2023-05-31T20:53:12.459Z"
   },
   {
    "duration": 5,
    "start_time": "2023-05-31T20:53:29.764Z"
   },
   {
    "duration": 56,
    "start_time": "2023-05-31T20:55:47.018Z"
   },
   {
    "duration": 98287,
    "start_time": "2023-05-31T21:00:39.212Z"
   },
   {
    "duration": 2510,
    "start_time": "2023-06-01T11:05:09.405Z"
   },
   {
    "duration": 5,
    "start_time": "2023-06-01T11:05:11.918Z"
   },
   {
    "duration": 2426,
    "start_time": "2023-06-01T11:05:11.925Z"
   },
   {
    "duration": 15,
    "start_time": "2023-06-01T11:05:14.353Z"
   },
   {
    "duration": 348,
    "start_time": "2023-06-01T11:05:14.369Z"
   },
   {
    "duration": 5,
    "start_time": "2023-06-01T11:05:14.719Z"
   },
   {
    "duration": 86475,
    "start_time": "2023-06-01T11:05:14.725Z"
   },
   {
    "duration": 20,
    "start_time": "2023-06-01T11:06:41.201Z"
   },
   {
    "duration": 13,
    "start_time": "2023-06-01T11:06:41.222Z"
   },
   {
    "duration": 51,
    "start_time": "2023-06-01T11:06:41.237Z"
   },
   {
    "duration": 9,
    "start_time": "2023-06-01T11:06:41.289Z"
   },
   {
    "duration": 1676,
    "start_time": "2023-06-01T11:06:41.300Z"
   },
   {
    "duration": 129,
    "start_time": "2023-06-01T11:06:42.978Z"
   },
   {
    "duration": 6055,
    "start_time": "2023-06-01T11:06:43.109Z"
   },
   {
    "duration": 1978,
    "start_time": "2023-06-01T11:06:49.166Z"
   },
   {
    "duration": 203975,
    "start_time": "2023-06-01T11:06:51.145Z"
   },
   {
    "duration": 14,
    "start_time": "2023-06-01T11:11:46.676Z"
   },
   {
    "duration": 188830,
    "start_time": "2023-06-01T11:11:58.996Z"
   },
   {
    "duration": 157,
    "start_time": "2023-06-01T11:27:50.564Z"
   },
   {
    "duration": 51,
    "start_time": "2023-06-01T11:47:25.574Z"
   },
   {
    "duration": 55,
    "start_time": "2023-06-01T11:47:30.366Z"
   },
   {
    "duration": 48,
    "start_time": "2023-06-01T11:47:38.202Z"
   },
   {
    "duration": 257,
    "start_time": "2023-06-01T11:48:01.810Z"
   },
   {
    "duration": 98,
    "start_time": "2023-06-01T11:49:02.711Z"
   },
   {
    "duration": 54,
    "start_time": "2023-06-01T11:49:05.811Z"
   },
   {
    "duration": 70,
    "start_time": "2023-06-01T11:49:10.366Z"
   },
   {
    "duration": 146,
    "start_time": "2023-06-01T11:49:26.387Z"
   },
   {
    "duration": 3,
    "start_time": "2023-06-01T11:49:59.658Z"
   },
   {
    "duration": 414,
    "start_time": "2023-06-01T11:50:03.858Z"
   },
   {
    "duration": 12,
    "start_time": "2023-06-01T11:50:30.189Z"
   },
   {
    "duration": 64,
    "start_time": "2023-06-01T11:50:34.822Z"
   },
   {
    "duration": 4,
    "start_time": "2023-06-01T11:50:39.066Z"
   },
   {
    "duration": 58,
    "start_time": "2023-06-01T11:50:39.566Z"
   },
   {
    "duration": 60,
    "start_time": "2023-06-01T11:50:49.154Z"
   },
   {
    "duration": 73,
    "start_time": "2023-06-01T11:52:41.870Z"
   },
   {
    "duration": 10,
    "start_time": "2023-06-01T11:53:56.075Z"
   },
   {
    "duration": 1904,
    "start_time": "2023-06-01T11:54:21.654Z"
   },
   {
    "duration": 5,
    "start_time": "2023-06-01T11:54:23.560Z"
   },
   {
    "duration": 1633,
    "start_time": "2023-06-01T11:54:23.567Z"
   },
   {
    "duration": 13,
    "start_time": "2023-06-01T11:54:25.201Z"
   },
   {
    "duration": 331,
    "start_time": "2023-06-01T11:54:25.216Z"
   },
   {
    "duration": 134,
    "start_time": "2023-06-01T11:54:25.548Z"
   },
   {
    "duration": 4,
    "start_time": "2023-06-01T11:54:25.683Z"
   },
   {
    "duration": 85334,
    "start_time": "2023-06-01T11:54:25.688Z"
   },
   {
    "duration": 13,
    "start_time": "2023-06-01T11:55:51.024Z"
   },
   {
    "duration": 10,
    "start_time": "2023-06-01T11:55:51.038Z"
   },
   {
    "duration": 29,
    "start_time": "2023-06-01T11:55:51.050Z"
   },
   {
    "duration": 4,
    "start_time": "2023-06-01T11:55:51.080Z"
   },
   {
    "duration": 1721,
    "start_time": "2023-06-01T11:55:51.086Z"
   },
   {
    "duration": 197,
    "start_time": "2023-06-01T11:55:52.811Z"
   },
   {
    "duration": 5876,
    "start_time": "2023-06-01T11:55:53.010Z"
   },
   {
    "duration": 1891,
    "start_time": "2023-06-01T11:55:58.888Z"
   },
   {
    "duration": 2,
    "start_time": "2023-06-01T11:56:00.780Z"
   },
   {
    "duration": 79,
    "start_time": "2023-06-01T11:56:00.784Z"
   },
   {
    "duration": 214,
    "start_time": "2023-06-01T11:56:00.865Z"
   },
   {
    "duration": 3,
    "start_time": "2023-06-01T11:58:39.283Z"
   },
   {
    "duration": 150,
    "start_time": "2023-06-01T11:58:39.688Z"
   },
   {
    "duration": 3,
    "start_time": "2023-06-01T11:59:14.970Z"
   },
   {
    "duration": 80,
    "start_time": "2023-06-01T11:59:15.383Z"
   },
   {
    "duration": 3,
    "start_time": "2023-06-01T11:59:26.323Z"
   },
   {
    "duration": 55,
    "start_time": "2023-06-01T11:59:26.721Z"
   },
   {
    "duration": 3,
    "start_time": "2023-06-01T11:59:47.626Z"
   },
   {
    "duration": 83,
    "start_time": "2023-06-01T11:59:48.023Z"
   },
   {
    "duration": 59,
    "start_time": "2023-06-01T12:01:00.880Z"
   },
   {
    "duration": 56,
    "start_time": "2023-06-01T12:01:13.705Z"
   },
   {
    "duration": 53,
    "start_time": "2023-06-01T12:01:16.654Z"
   },
   {
    "duration": 74,
    "start_time": "2023-06-01T12:01:26.054Z"
   },
   {
    "duration": 88,
    "start_time": "2023-06-01T12:01:36.318Z"
   },
   {
    "duration": 71,
    "start_time": "2023-06-01T12:01:39.300Z"
   },
   {
    "duration": 3,
    "start_time": "2023-06-01T12:02:22.463Z"
   },
   {
    "duration": 83,
    "start_time": "2023-06-01T12:02:22.859Z"
   },
   {
    "duration": 3,
    "start_time": "2023-06-01T12:03:46.401Z"
   },
   {
    "duration": 11,
    "start_time": "2023-06-01T12:04:52.169Z"
   },
   {
    "duration": 3,
    "start_time": "2023-06-01T12:05:40.907Z"
   },
   {
    "duration": 71,
    "start_time": "2023-06-01T12:05:41.691Z"
   },
   {
    "duration": 3,
    "start_time": "2023-06-01T12:06:03.254Z"
   },
   {
    "duration": 62,
    "start_time": "2023-06-01T12:06:03.555Z"
   },
   {
    "duration": 3,
    "start_time": "2023-06-01T12:06:39.258Z"
   },
   {
    "duration": 1829,
    "start_time": "2023-06-01T12:08:19.765Z"
   },
   {
    "duration": 5,
    "start_time": "2023-06-01T12:08:21.596Z"
   },
   {
    "duration": 2291,
    "start_time": "2023-06-01T12:08:21.602Z"
   },
   {
    "duration": 15,
    "start_time": "2023-06-01T12:08:23.896Z"
   },
   {
    "duration": 351,
    "start_time": "2023-06-01T12:08:23.912Z"
   },
   {
    "duration": 116,
    "start_time": "2023-06-01T12:08:24.265Z"
   },
   {
    "duration": 3,
    "start_time": "2023-06-01T12:08:24.383Z"
   },
   {
    "duration": 86989,
    "start_time": "2023-06-01T12:08:24.387Z"
   },
   {
    "duration": 14,
    "start_time": "2023-06-01T12:09:51.378Z"
   },
   {
    "duration": 22,
    "start_time": "2023-06-01T12:09:51.394Z"
   },
   {
    "duration": 27,
    "start_time": "2023-06-01T12:09:51.417Z"
   },
   {
    "duration": 4,
    "start_time": "2023-06-01T12:09:51.445Z"
   },
   {
    "duration": 1754,
    "start_time": "2023-06-01T12:09:51.450Z"
   },
   {
    "duration": 130,
    "start_time": "2023-06-01T12:09:53.206Z"
   },
   {
    "duration": 6133,
    "start_time": "2023-06-01T12:09:53.337Z"
   },
   {
    "duration": 1876,
    "start_time": "2023-06-01T12:09:59.472Z"
   },
   {
    "duration": 4,
    "start_time": "2023-06-01T12:10:01.350Z"
   },
   {
    "duration": 69,
    "start_time": "2023-06-01T12:10:01.356Z"
   },
   {
    "duration": 75,
    "start_time": "2023-06-01T12:13:42.765Z"
   },
   {
    "duration": 1985,
    "start_time": "2023-06-01T12:13:51.264Z"
   },
   {
    "duration": 5,
    "start_time": "2023-06-01T12:13:53.251Z"
   },
   {
    "duration": 2337,
    "start_time": "2023-06-01T12:13:53.257Z"
   },
   {
    "duration": 16,
    "start_time": "2023-06-01T12:13:55.596Z"
   },
   {
    "duration": 344,
    "start_time": "2023-06-01T12:13:55.614Z"
   },
   {
    "duration": 121,
    "start_time": "2023-06-01T12:13:55.960Z"
   },
   {
    "duration": 4,
    "start_time": "2023-06-01T12:13:56.082Z"
   },
   {
    "duration": 90685,
    "start_time": "2023-06-01T12:13:56.087Z"
   },
   {
    "duration": 14,
    "start_time": "2023-06-01T12:15:26.774Z"
   },
   {
    "duration": 27,
    "start_time": "2023-06-01T12:15:26.790Z"
   },
   {
    "duration": 34,
    "start_time": "2023-06-01T12:15:26.818Z"
   },
   {
    "duration": 5,
    "start_time": "2023-06-01T12:15:26.854Z"
   },
   {
    "duration": 1700,
    "start_time": "2023-06-01T12:15:26.861Z"
   },
   {
    "duration": 125,
    "start_time": "2023-06-01T12:15:28.563Z"
   },
   {
    "duration": 5939,
    "start_time": "2023-06-01T12:15:28.690Z"
   },
   {
    "duration": 1982,
    "start_time": "2023-06-01T12:15:34.631Z"
   },
   {
    "duration": 3,
    "start_time": "2023-06-01T12:15:36.616Z"
   },
   {
    "duration": 208,
    "start_time": "2023-06-01T12:15:36.620Z"
   },
   {
    "duration": 12,
    "start_time": "2023-06-01T12:15:36.829Z"
   },
   {
    "duration": 3,
    "start_time": "2023-06-01T12:16:28.043Z"
   },
   {
    "duration": 531,
    "start_time": "2023-06-01T12:16:28.797Z"
   },
   {
    "duration": 4,
    "start_time": "2023-06-01T12:16:40.406Z"
   },
   {
    "duration": 2003,
    "start_time": "2023-06-01T13:14:46.690Z"
   },
   {
    "duration": 5,
    "start_time": "2023-06-01T13:14:48.694Z"
   },
   {
    "duration": 2332,
    "start_time": "2023-06-01T13:14:48.701Z"
   },
   {
    "duration": 13,
    "start_time": "2023-06-01T13:14:51.035Z"
   },
   {
    "duration": 345,
    "start_time": "2023-06-01T13:14:51.049Z"
   },
   {
    "duration": 122,
    "start_time": "2023-06-01T13:14:51.396Z"
   },
   {
    "duration": 3,
    "start_time": "2023-06-01T13:14:51.520Z"
   },
   {
    "duration": 90308,
    "start_time": "2023-06-01T13:14:51.524Z"
   },
   {
    "duration": 12,
    "start_time": "2023-06-01T13:16:21.833Z"
   },
   {
    "duration": 11,
    "start_time": "2023-06-01T13:16:21.847Z"
   },
   {
    "duration": 49,
    "start_time": "2023-06-01T13:16:21.859Z"
   },
   {
    "duration": 4,
    "start_time": "2023-06-01T13:16:21.910Z"
   },
   {
    "duration": 1671,
    "start_time": "2023-06-01T13:16:21.915Z"
   },
   {
    "duration": 211,
    "start_time": "2023-06-01T13:16:23.588Z"
   },
   {
    "duration": 6068,
    "start_time": "2023-06-01T13:16:23.801Z"
   },
   {
    "duration": 1914,
    "start_time": "2023-06-01T13:16:29.871Z"
   },
   {
    "duration": 3,
    "start_time": "2023-06-01T13:16:31.786Z"
   },
   {
    "duration": 205,
    "start_time": "2023-06-01T13:16:31.790Z"
   },
   {
    "duration": 11,
    "start_time": "2023-06-01T13:16:31.997Z"
   },
   {
    "duration": 3,
    "start_time": "2023-06-01T13:16:53.335Z"
   },
   {
    "duration": 45,
    "start_time": "2023-06-01T13:16:58.593Z"
   },
   {
    "duration": 7,
    "start_time": "2023-06-01T13:29:56.772Z"
   },
   {
    "duration": 2031,
    "start_time": "2023-06-01T13:30:05.176Z"
   },
   {
    "duration": 5,
    "start_time": "2023-06-01T13:30:07.209Z"
   },
   {
    "duration": 2206,
    "start_time": "2023-06-01T13:30:07.216Z"
   },
   {
    "duration": 13,
    "start_time": "2023-06-01T13:30:09.424Z"
   },
   {
    "duration": 294,
    "start_time": "2023-06-01T13:30:09.439Z"
   },
   {
    "duration": 104,
    "start_time": "2023-06-01T13:30:09.734Z"
   },
   {
    "duration": 3,
    "start_time": "2023-06-01T13:30:09.839Z"
   },
   {
    "duration": 82498,
    "start_time": "2023-06-01T13:30:09.844Z"
   },
   {
    "duration": 13,
    "start_time": "2023-06-01T13:31:32.344Z"
   },
   {
    "duration": 11,
    "start_time": "2023-06-01T13:31:32.360Z"
   },
   {
    "duration": 30,
    "start_time": "2023-06-01T13:31:32.373Z"
   },
   {
    "duration": 4,
    "start_time": "2023-06-01T13:31:32.404Z"
   },
   {
    "duration": 1605,
    "start_time": "2023-06-01T13:31:32.409Z"
   },
   {
    "duration": 199,
    "start_time": "2023-06-01T13:31:34.016Z"
   },
   {
    "duration": 5621,
    "start_time": "2023-06-01T13:31:34.217Z"
   },
   {
    "duration": 1764,
    "start_time": "2023-06-01T13:31:39.839Z"
   },
   {
    "duration": 2,
    "start_time": "2023-06-01T13:31:41.605Z"
   },
   {
    "duration": 3138,
    "start_time": "2023-06-02T10:42:25.764Z"
   },
   {
    "duration": 6,
    "start_time": "2023-06-02T10:42:28.904Z"
   },
   {
    "duration": 2652,
    "start_time": "2023-06-02T10:42:28.912Z"
   },
   {
    "duration": 16,
    "start_time": "2023-06-02T10:42:31.567Z"
   },
   {
    "duration": 466,
    "start_time": "2023-06-02T10:42:31.585Z"
   },
   {
    "duration": 155,
    "start_time": "2023-06-02T10:42:32.053Z"
   },
   {
    "duration": 3,
    "start_time": "2023-06-02T10:42:32.210Z"
   },
   {
    "duration": 112959,
    "start_time": "2023-06-02T10:42:32.215Z"
   },
   {
    "duration": 17,
    "start_time": "2023-06-02T10:44:25.176Z"
   },
   {
    "duration": 9,
    "start_time": "2023-06-02T10:44:25.196Z"
   },
   {
    "duration": 62,
    "start_time": "2023-06-02T10:44:25.207Z"
   },
   {
    "duration": 6,
    "start_time": "2023-06-02T10:44:25.271Z"
   },
   {
    "duration": 2128,
    "start_time": "2023-06-02T10:44:25.279Z"
   },
   {
    "duration": 258,
    "start_time": "2023-06-02T10:44:27.409Z"
   },
   {
    "duration": 9715,
    "start_time": "2023-06-02T10:44:27.669Z"
   },
   {
    "duration": 1109,
    "start_time": "2023-06-02T10:44:37.386Z"
   },
   {
    "duration": 6,
    "start_time": "2023-06-02T10:44:38.497Z"
   },
   {
    "duration": 1584112,
    "start_time": "2023-06-02T10:44:38.505Z"
   },
   {
    "duration": 18,
    "start_time": "2023-06-02T11:11:02.619Z"
   },
   {
    "duration": 0,
    "start_time": "2023-06-02T11:11:02.638Z"
   },
   {
    "duration": 0,
    "start_time": "2023-06-02T11:11:02.640Z"
   },
   {
    "duration": 0,
    "start_time": "2023-06-02T11:11:02.641Z"
   },
   {
    "duration": 0,
    "start_time": "2023-06-02T11:11:02.643Z"
   },
   {
    "duration": 0,
    "start_time": "2023-06-02T11:11:02.645Z"
   },
   {
    "duration": 0,
    "start_time": "2023-06-02T11:11:02.654Z"
   },
   {
    "duration": 0,
    "start_time": "2023-06-02T11:11:02.657Z"
   },
   {
    "duration": 13,
    "start_time": "2023-06-02T11:11:26.976Z"
   },
   {
    "duration": 5,
    "start_time": "2023-06-02T11:11:29.422Z"
   },
   {
    "duration": 859,
    "start_time": "2023-06-02T11:11:31.273Z"
   },
   {
    "duration": 8,
    "start_time": "2023-06-02T11:11:33.780Z"
   },
   {
    "duration": 348,
    "start_time": "2023-06-02T11:11:37.022Z"
   },
   {
    "duration": 115,
    "start_time": "2023-06-02T11:11:40.519Z"
   },
   {
    "duration": 5,
    "start_time": "2023-06-02T11:11:55.991Z"
   },
   {
    "duration": 103776,
    "start_time": "2023-06-02T11:11:57.756Z"
   },
   {
    "duration": 30,
    "start_time": "2023-06-02T11:13:41.534Z"
   },
   {
    "duration": 3,
    "start_time": "2023-06-02T11:13:53.438Z"
   },
   {
    "duration": 31,
    "start_time": "2023-06-02T11:13:55.186Z"
   },
   {
    "duration": 4,
    "start_time": "2023-06-02T11:13:56.111Z"
   },
   {
    "duration": 2860,
    "start_time": "2023-06-02T11:14:07.757Z"
   },
   {
    "duration": 5,
    "start_time": "2023-06-02T11:14:10.619Z"
   },
   {
    "duration": 2596,
    "start_time": "2023-06-02T11:14:10.626Z"
   },
   {
    "duration": 13,
    "start_time": "2023-06-02T11:14:13.224Z"
   },
   {
    "duration": 382,
    "start_time": "2023-06-02T11:14:13.239Z"
   },
   {
    "duration": 151,
    "start_time": "2023-06-02T11:14:13.622Z"
   },
   {
    "duration": 3,
    "start_time": "2023-06-02T11:14:13.775Z"
   },
   {
    "duration": 103224,
    "start_time": "2023-06-02T11:14:13.780Z"
   },
   {
    "duration": 13,
    "start_time": "2023-06-02T11:15:57.006Z"
   },
   {
    "duration": 12,
    "start_time": "2023-06-02T11:15:57.020Z"
   },
   {
    "duration": 52,
    "start_time": "2023-06-02T11:15:57.034Z"
   },
   {
    "duration": 5,
    "start_time": "2023-06-02T11:15:57.087Z"
   },
   {
    "duration": 2158,
    "start_time": "2023-06-02T11:15:57.093Z"
   },
   {
    "duration": 183,
    "start_time": "2023-06-02T11:15:59.254Z"
   },
   {
    "duration": 8861,
    "start_time": "2023-06-02T11:15:59.439Z"
   },
   {
    "duration": 921,
    "start_time": "2023-06-02T11:16:08.302Z"
   },
   {
    "duration": 3,
    "start_time": "2023-06-02T11:16:09.225Z"
   },
   {
    "duration": 1948,
    "start_time": "2023-06-02T11:28:51.641Z"
   },
   {
    "duration": 6,
    "start_time": "2023-06-02T11:28:53.591Z"
   },
   {
    "duration": 990,
    "start_time": "2023-06-02T11:28:53.598Z"
   },
   {
    "duration": 12,
    "start_time": "2023-06-02T11:28:54.590Z"
   },
   {
    "duration": 385,
    "start_time": "2023-06-02T11:28:54.605Z"
   },
   {
    "duration": 143,
    "start_time": "2023-06-02T11:28:54.992Z"
   },
   {
    "duration": 21,
    "start_time": "2023-06-02T11:28:55.137Z"
   },
   {
    "duration": 128694,
    "start_time": "2023-06-02T11:28:55.160Z"
   },
   {
    "duration": 14,
    "start_time": "2023-06-02T11:31:03.858Z"
   },
   {
    "duration": 27,
    "start_time": "2023-06-02T11:31:03.874Z"
   },
   {
    "duration": 71,
    "start_time": "2023-06-02T11:31:03.903Z"
   },
   {
    "duration": 5,
    "start_time": "2023-06-02T11:31:03.976Z"
   },
   {
    "duration": 2248,
    "start_time": "2023-06-02T11:31:03.983Z"
   },
   {
    "duration": 236,
    "start_time": "2023-06-02T11:31:06.234Z"
   },
   {
    "duration": 10070,
    "start_time": "2023-06-02T11:31:06.473Z"
   },
   {
    "duration": 1069,
    "start_time": "2023-06-02T11:31:16.548Z"
   },
   {
    "duration": 4,
    "start_time": "2023-06-02T11:31:17.619Z"
   },
   {
    "duration": 1879,
    "start_time": "2023-06-02T11:47:17.308Z"
   },
   {
    "duration": 6,
    "start_time": "2023-06-02T11:47:19.189Z"
   },
   {
    "duration": 920,
    "start_time": "2023-06-02T11:47:19.197Z"
   },
   {
    "duration": 14,
    "start_time": "2023-06-02T11:47:20.119Z"
   },
   {
    "duration": 390,
    "start_time": "2023-06-02T11:47:20.146Z"
   },
   {
    "duration": 172,
    "start_time": "2023-06-02T11:47:20.538Z"
   },
   {
    "duration": 4,
    "start_time": "2023-06-02T11:47:20.712Z"
   },
   {
    "duration": 131001,
    "start_time": "2023-06-02T11:47:20.718Z"
   },
   {
    "duration": 24,
    "start_time": "2023-06-02T11:49:31.722Z"
   },
   {
    "duration": 45,
    "start_time": "2023-06-02T11:49:31.750Z"
   },
   {
    "duration": 78,
    "start_time": "2023-06-02T11:49:31.797Z"
   },
   {
    "duration": 20,
    "start_time": "2023-06-02T11:49:31.877Z"
   },
   {
    "duration": 2152,
    "start_time": "2023-06-02T11:49:31.899Z"
   },
   {
    "duration": 180,
    "start_time": "2023-06-02T11:49:34.054Z"
   },
   {
    "duration": 9070,
    "start_time": "2023-06-02T11:49:34.237Z"
   },
   {
    "duration": 988,
    "start_time": "2023-06-02T11:49:43.309Z"
   },
   {
    "duration": 4,
    "start_time": "2023-06-02T11:49:44.298Z"
   },
   {
    "duration": 581324,
    "start_time": "2023-06-02T11:49:44.304Z"
   },
   {
    "duration": 16,
    "start_time": "2023-06-02T11:59:25.630Z"
   },
   {
    "duration": 9,
    "start_time": "2023-06-02T11:59:25.648Z"
   },
   {
    "duration": 3457,
    "start_time": "2023-06-02T11:59:25.658Z"
   },
   {
    "duration": 12,
    "start_time": "2023-06-02T11:59:29.116Z"
   },
   {
    "duration": 0,
    "start_time": "2023-06-02T11:59:29.129Z"
   },
   {
    "duration": 0,
    "start_time": "2023-06-02T11:59:29.130Z"
   },
   {
    "duration": 0,
    "start_time": "2023-06-02T11:59:29.132Z"
   },
   {
    "duration": 4,
    "start_time": "2023-06-02T12:02:21.154Z"
   },
   {
    "duration": 15854,
    "start_time": "2023-06-02T12:02:21.758Z"
   },
   {
    "duration": 5,
    "start_time": "2023-06-02T12:05:30.858Z"
   },
   {
    "duration": 13,
    "start_time": "2023-06-02T12:05:38.065Z"
   },
   {
    "duration": 54,
    "start_time": "2023-06-02T12:05:38.710Z"
   },
   {
    "duration": 9,
    "start_time": "2023-06-02T12:05:43.415Z"
   },
   {
    "duration": 12,
    "start_time": "2023-06-02T12:05:51.478Z"
   },
   {
    "duration": 2742,
    "start_time": "2023-06-03T11:51:32.393Z"
   },
   {
    "duration": 5,
    "start_time": "2023-06-03T11:51:35.138Z"
   },
   {
    "duration": 4893,
    "start_time": "2023-06-03T11:51:35.150Z"
   },
   {
    "duration": 15,
    "start_time": "2023-06-03T11:51:40.045Z"
   },
   {
    "duration": 361,
    "start_time": "2023-06-03T11:51:40.066Z"
   },
   {
    "duration": 152,
    "start_time": "2023-06-03T11:51:40.429Z"
   },
   {
    "duration": 8,
    "start_time": "2023-06-03T11:51:40.583Z"
   },
   {
    "duration": 121955,
    "start_time": "2023-06-03T11:51:40.592Z"
   },
   {
    "duration": 18,
    "start_time": "2023-06-03T11:53:42.549Z"
   },
   {
    "duration": 27,
    "start_time": "2023-06-03T11:53:42.569Z"
   },
   {
    "duration": 66,
    "start_time": "2023-06-03T11:53:42.598Z"
   },
   {
    "duration": 5,
    "start_time": "2023-06-03T11:53:42.666Z"
   },
   {
    "duration": 6033,
    "start_time": "2023-06-03T11:53:42.673Z"
   },
   {
    "duration": 299,
    "start_time": "2023-06-03T11:53:48.708Z"
   },
   {
    "duration": 11015,
    "start_time": "2023-06-03T11:53:49.008Z"
   },
   {
    "duration": 1129,
    "start_time": "2023-06-03T11:54:00.025Z"
   },
   {
    "duration": 13,
    "start_time": "2023-06-03T11:54:01.163Z"
   },
   {
    "duration": 2743,
    "start_time": "2023-06-03T12:03:22.831Z"
   },
   {
    "duration": 8,
    "start_time": "2023-06-03T12:03:25.583Z"
   },
   {
    "duration": 5319,
    "start_time": "2023-06-03T12:03:25.593Z"
   },
   {
    "duration": 17,
    "start_time": "2023-06-03T12:03:30.915Z"
   },
   {
    "duration": 434,
    "start_time": "2023-06-03T12:03:30.934Z"
   },
   {
    "duration": 147,
    "start_time": "2023-06-03T12:03:31.370Z"
   },
   {
    "duration": 4,
    "start_time": "2023-06-03T12:03:31.519Z"
   },
   {
    "duration": 124150,
    "start_time": "2023-06-03T12:03:31.525Z"
   },
   {
    "duration": 21,
    "start_time": "2023-06-03T12:05:35.677Z"
   },
   {
    "duration": 26,
    "start_time": "2023-06-03T12:05:35.705Z"
   },
   {
    "duration": 65,
    "start_time": "2023-06-03T12:05:35.733Z"
   },
   {
    "duration": 5,
    "start_time": "2023-06-03T12:05:35.801Z"
   },
   {
    "duration": 5782,
    "start_time": "2023-06-03T12:05:35.808Z"
   },
   {
    "duration": 1034,
    "start_time": "2023-06-03T12:05:41.594Z"
   },
   {
    "duration": 9143,
    "start_time": "2023-06-03T12:05:42.630Z"
   },
   {
    "duration": 1125,
    "start_time": "2023-06-03T12:05:51.776Z"
   },
   {
    "duration": 10,
    "start_time": "2023-06-03T12:05:52.903Z"
   },
   {
    "duration": 3092,
    "start_time": "2023-06-03T12:09:07.533Z"
   },
   {
    "duration": 5,
    "start_time": "2023-06-03T12:09:10.628Z"
   },
   {
    "duration": 3477,
    "start_time": "2023-06-03T12:09:10.635Z"
   },
   {
    "duration": 17,
    "start_time": "2023-06-03T12:09:14.115Z"
   },
   {
    "duration": 384,
    "start_time": "2023-06-03T12:09:14.134Z"
   },
   {
    "duration": 142,
    "start_time": "2023-06-03T12:09:14.520Z"
   },
   {
    "duration": 4,
    "start_time": "2023-06-03T12:09:14.665Z"
   },
   {
    "duration": 107022,
    "start_time": "2023-06-03T12:09:14.671Z"
   },
   {
    "duration": 12,
    "start_time": "2023-06-03T12:11:01.695Z"
   },
   {
    "duration": 80,
    "start_time": "2023-06-03T12:11:01.711Z"
   },
   {
    "duration": 62,
    "start_time": "2023-06-03T12:11:01.793Z"
   },
   {
    "duration": 4,
    "start_time": "2023-06-03T12:11:01.857Z"
   },
   {
    "duration": 2020,
    "start_time": "2023-06-03T12:11:01.863Z"
   },
   {
    "duration": 238,
    "start_time": "2023-06-03T12:11:03.885Z"
   },
   {
    "duration": 8794,
    "start_time": "2023-06-03T12:11:04.126Z"
   },
   {
    "duration": 937,
    "start_time": "2023-06-03T12:11:12.922Z"
   },
   {
    "duration": 4,
    "start_time": "2023-06-03T12:11:13.860Z"
   },
   {
    "duration": 1722,
    "start_time": "2023-06-03T12:14:41.617Z"
   },
   {
    "duration": 8,
    "start_time": "2023-06-03T12:14:43.342Z"
   },
   {
    "duration": 965,
    "start_time": "2023-06-03T12:14:43.352Z"
   },
   {
    "duration": 17,
    "start_time": "2023-06-03T12:14:44.319Z"
   },
   {
    "duration": 391,
    "start_time": "2023-06-03T12:14:44.338Z"
   },
   {
    "duration": 156,
    "start_time": "2023-06-03T12:14:44.731Z"
   },
   {
    "duration": 9,
    "start_time": "2023-06-03T12:14:44.895Z"
   },
   {
    "duration": 112174,
    "start_time": "2023-06-03T12:14:44.906Z"
   },
   {
    "duration": 18,
    "start_time": "2023-06-03T12:16:37.086Z"
   },
   {
    "duration": 3,
    "start_time": "2023-06-03T12:16:37.114Z"
   },
   {
    "duration": 31,
    "start_time": "2023-06-03T12:16:37.119Z"
   },
   {
    "duration": 4,
    "start_time": "2023-06-03T12:16:37.152Z"
   },
   {
    "duration": 2111,
    "start_time": "2023-06-03T12:16:37.157Z"
   },
   {
    "duration": 211,
    "start_time": "2023-06-03T12:16:39.270Z"
   },
   {
    "duration": 9532,
    "start_time": "2023-06-03T12:16:39.488Z"
   },
   {
    "duration": 1028,
    "start_time": "2023-06-03T12:16:49.021Z"
   },
   {
    "duration": 297,
    "start_time": "2023-06-03T12:16:50.052Z"
   },
   {
    "duration": 3,
    "start_time": "2023-06-03T12:16:53.854Z"
   },
   {
    "duration": 1986,
    "start_time": "2023-06-03T12:31:28.166Z"
   },
   {
    "duration": 6,
    "start_time": "2023-06-03T12:31:30.155Z"
   },
   {
    "duration": 1142,
    "start_time": "2023-06-03T12:31:30.163Z"
   },
   {
    "duration": 19,
    "start_time": "2023-06-03T12:31:31.316Z"
   },
   {
    "duration": 462,
    "start_time": "2023-06-03T12:31:31.337Z"
   },
   {
    "duration": 162,
    "start_time": "2023-06-03T12:31:31.801Z"
   },
   {
    "duration": 3,
    "start_time": "2023-06-03T12:31:31.965Z"
   },
   {
    "duration": 120679,
    "start_time": "2023-06-03T12:31:31.970Z"
   },
   {
    "duration": 32,
    "start_time": "2023-06-03T12:33:32.652Z"
   },
   {
    "duration": 3,
    "start_time": "2023-06-03T12:33:32.687Z"
   },
   {
    "duration": 64,
    "start_time": "2023-06-03T12:33:32.693Z"
   },
   {
    "duration": 4,
    "start_time": "2023-06-03T12:33:32.759Z"
   },
   {
    "duration": 2342,
    "start_time": "2023-06-03T12:33:32.765Z"
   },
   {
    "duration": 221,
    "start_time": "2023-06-03T12:33:35.109Z"
   },
   {
    "duration": 10731,
    "start_time": "2023-06-03T12:33:35.332Z"
   },
   {
    "duration": 1119,
    "start_time": "2023-06-03T12:33:46.065Z"
   },
   {
    "duration": 8,
    "start_time": "2023-06-03T12:33:47.186Z"
   },
   {
    "duration": 2016,
    "start_time": "2023-06-03T12:35:21.727Z"
   },
   {
    "duration": 6,
    "start_time": "2023-06-03T12:35:23.745Z"
   },
   {
    "duration": 1163,
    "start_time": "2023-06-03T12:35:23.752Z"
   },
   {
    "duration": 23,
    "start_time": "2023-06-03T12:35:24.918Z"
   },
   {
    "duration": 425,
    "start_time": "2023-06-03T12:35:24.945Z"
   },
   {
    "duration": 159,
    "start_time": "2023-06-03T12:35:25.378Z"
   },
   {
    "duration": 3,
    "start_time": "2023-06-03T12:35:25.539Z"
   },
   {
    "duration": 121387,
    "start_time": "2023-06-03T12:35:25.544Z"
   },
   {
    "duration": 11,
    "start_time": "2023-06-03T12:37:26.934Z"
   },
   {
    "duration": 2,
    "start_time": "2023-06-03T12:37:26.948Z"
   },
   {
    "duration": 70,
    "start_time": "2023-06-03T12:37:26.952Z"
   },
   {
    "duration": 6,
    "start_time": "2023-06-03T12:37:27.038Z"
   },
   {
    "duration": 2348,
    "start_time": "2023-06-03T12:37:27.046Z"
   },
   {
    "duration": 277,
    "start_time": "2023-06-03T12:37:29.396Z"
   },
   {
    "duration": 10374,
    "start_time": "2023-06-03T12:37:29.675Z"
   },
   {
    "duration": 1113,
    "start_time": "2023-06-03T12:37:40.051Z"
   },
   {
    "duration": 3,
    "start_time": "2023-06-03T12:37:41.166Z"
   },
   {
    "duration": 2448,
    "start_time": "2023-06-03T13:15:04.666Z"
   },
   {
    "duration": 5,
    "start_time": "2023-06-03T13:15:07.116Z"
   },
   {
    "duration": 3716,
    "start_time": "2023-06-03T13:15:07.122Z"
   },
   {
    "duration": 12,
    "start_time": "2023-06-03T13:15:10.840Z"
   },
   {
    "duration": 362,
    "start_time": "2023-06-03T13:15:10.854Z"
   },
   {
    "duration": 148,
    "start_time": "2023-06-03T13:15:11.218Z"
   },
   {
    "duration": 12,
    "start_time": "2023-06-03T13:15:11.369Z"
   },
   {
    "duration": 109586,
    "start_time": "2023-06-03T13:15:11.395Z"
   },
   {
    "duration": 13,
    "start_time": "2023-06-03T13:17:00.983Z"
   },
   {
    "duration": 11,
    "start_time": "2023-06-03T13:17:00.999Z"
   },
   {
    "duration": 61,
    "start_time": "2023-06-03T13:17:01.012Z"
   },
   {
    "duration": 11,
    "start_time": "2023-06-03T13:17:01.077Z"
   },
   {
    "duration": 2112,
    "start_time": "2023-06-03T13:17:01.092Z"
   },
   {
    "duration": 212,
    "start_time": "2023-06-03T13:17:03.206Z"
   },
   {
    "duration": 8756,
    "start_time": "2023-06-03T13:17:03.420Z"
   },
   {
    "duration": 914,
    "start_time": "2023-06-03T13:17:12.186Z"
   },
   {
    "duration": 3,
    "start_time": "2023-06-03T13:17:13.101Z"
   },
   {
    "duration": 2842,
    "start_time": "2023-06-03T13:44:34.295Z"
   },
   {
    "duration": 7,
    "start_time": "2023-06-03T13:44:37.138Z"
   },
   {
    "duration": 4703,
    "start_time": "2023-06-03T13:44:37.148Z"
   },
   {
    "duration": 16,
    "start_time": "2023-06-03T13:44:41.853Z"
   },
   {
    "duration": 401,
    "start_time": "2023-06-03T13:44:41.871Z"
   },
   {
    "duration": 152,
    "start_time": "2023-06-03T13:44:42.274Z"
   },
   {
    "duration": 4,
    "start_time": "2023-06-03T13:44:42.428Z"
   },
   {
    "duration": 124011,
    "start_time": "2023-06-03T13:44:42.437Z"
   },
   {
    "duration": 12,
    "start_time": "2023-06-03T13:46:46.450Z"
   },
   {
    "duration": 5,
    "start_time": "2023-06-03T13:46:46.464Z"
   },
   {
    "duration": 55,
    "start_time": "2023-06-03T13:46:46.471Z"
   },
   {
    "duration": 4,
    "start_time": "2023-06-03T13:46:46.527Z"
   },
   {
    "duration": 2170,
    "start_time": "2023-06-03T13:46:46.533Z"
   },
   {
    "duration": 206,
    "start_time": "2023-06-03T13:46:48.707Z"
   },
   {
    "duration": 9402,
    "start_time": "2023-06-03T13:46:48.915Z"
   },
   {
    "duration": 980,
    "start_time": "2023-06-03T13:46:58.319Z"
   },
   {
    "duration": 4,
    "start_time": "2023-06-03T13:46:59.304Z"
   },
   {
    "duration": 2057,
    "start_time": "2023-06-03T13:52:12.268Z"
   },
   {
    "duration": 9,
    "start_time": "2023-06-03T13:52:14.328Z"
   },
   {
    "duration": 1073,
    "start_time": "2023-06-03T13:52:14.343Z"
   },
   {
    "duration": 14,
    "start_time": "2023-06-03T13:52:15.418Z"
   },
   {
    "duration": 418,
    "start_time": "2023-06-03T13:52:15.434Z"
   },
   {
    "duration": 149,
    "start_time": "2023-06-03T13:52:15.854Z"
   },
   {
    "duration": 5,
    "start_time": "2023-06-03T13:52:16.004Z"
   },
   {
    "duration": 122756,
    "start_time": "2023-06-03T13:52:16.011Z"
   },
   {
    "duration": 22,
    "start_time": "2023-06-03T13:54:18.769Z"
   },
   {
    "duration": 13,
    "start_time": "2023-06-03T13:54:18.794Z"
   },
   {
    "duration": 49,
    "start_time": "2023-06-03T13:54:18.811Z"
   },
   {
    "duration": 5,
    "start_time": "2023-06-03T13:54:18.862Z"
   },
   {
    "duration": 2374,
    "start_time": "2023-06-03T13:54:18.869Z"
   },
   {
    "duration": 240,
    "start_time": "2023-06-03T13:54:21.245Z"
   },
   {
    "duration": 10264,
    "start_time": "2023-06-03T13:54:21.488Z"
   },
   {
    "duration": 1166,
    "start_time": "2023-06-03T13:54:31.754Z"
   },
   {
    "duration": 4,
    "start_time": "2023-06-03T13:54:32.921Z"
   },
   {
    "duration": 2118,
    "start_time": "2023-06-03T14:08:19.472Z"
   },
   {
    "duration": 9,
    "start_time": "2023-06-03T14:08:21.593Z"
   },
   {
    "duration": 995,
    "start_time": "2023-06-03T14:08:21.604Z"
   },
   {
    "duration": 12,
    "start_time": "2023-06-03T14:08:22.601Z"
   },
   {
    "duration": 390,
    "start_time": "2023-06-03T14:08:22.615Z"
   },
   {
    "duration": 118,
    "start_time": "2023-06-03T14:08:23.007Z"
   },
   {
    "duration": 3,
    "start_time": "2023-06-03T14:08:23.127Z"
   },
   {
    "duration": 105749,
    "start_time": "2023-06-03T14:08:23.132Z"
   },
   {
    "duration": 12,
    "start_time": "2023-06-03T14:10:08.883Z"
   },
   {
    "duration": 8,
    "start_time": "2023-06-03T14:10:08.897Z"
   },
   {
    "duration": 48,
    "start_time": "2023-06-03T14:10:08.906Z"
   },
   {
    "duration": 4,
    "start_time": "2023-06-03T14:10:08.956Z"
   },
   {
    "duration": 2027,
    "start_time": "2023-06-03T14:10:08.962Z"
   },
   {
    "duration": 234,
    "start_time": "2023-06-03T14:10:10.991Z"
   },
   {
    "duration": 8598,
    "start_time": "2023-06-03T14:10:11.226Z"
   },
   {
    "duration": 958,
    "start_time": "2023-06-03T14:10:19.826Z"
   },
   {
    "duration": 8,
    "start_time": "2023-06-03T14:10:20.786Z"
   },
   {
    "duration": 2134,
    "start_time": "2023-06-03T14:17:13.294Z"
   },
   {
    "duration": 5,
    "start_time": "2023-06-03T14:17:15.430Z"
   },
   {
    "duration": 1155,
    "start_time": "2023-06-03T14:17:15.437Z"
   },
   {
    "duration": 17,
    "start_time": "2023-06-03T14:17:16.596Z"
   },
   {
    "duration": 421,
    "start_time": "2023-06-03T14:17:16.615Z"
   },
   {
    "duration": 141,
    "start_time": "2023-06-03T14:17:17.038Z"
   },
   {
    "duration": 5,
    "start_time": "2023-06-03T14:17:17.184Z"
   },
   {
    "duration": 115482,
    "start_time": "2023-06-03T14:17:17.191Z"
   },
   {
    "duration": 17,
    "start_time": "2023-06-03T14:19:12.679Z"
   },
   {
    "duration": 4,
    "start_time": "2023-06-03T14:19:12.703Z"
   },
   {
    "duration": 37,
    "start_time": "2023-06-03T14:19:12.712Z"
   },
   {
    "duration": 5,
    "start_time": "2023-06-03T14:19:12.751Z"
   },
   {
    "duration": 2647,
    "start_time": "2023-06-03T14:19:12.758Z"
   },
   {
    "duration": 219,
    "start_time": "2023-06-03T14:19:15.409Z"
   },
   {
    "duration": 10303,
    "start_time": "2023-06-03T14:19:15.630Z"
   },
   {
    "duration": 1088,
    "start_time": "2023-06-03T14:19:25.934Z"
   },
   {
    "duration": 3,
    "start_time": "2023-06-03T14:19:27.024Z"
   },
   {
    "duration": 1980,
    "start_time": "2023-06-03T14:23:06.060Z"
   },
   {
    "duration": 5,
    "start_time": "2023-06-03T14:23:08.042Z"
   },
   {
    "duration": 1084,
    "start_time": "2023-06-03T14:23:08.049Z"
   },
   {
    "duration": 13,
    "start_time": "2023-06-03T14:23:09.135Z"
   },
   {
    "duration": 416,
    "start_time": "2023-06-03T14:23:09.150Z"
   },
   {
    "duration": 155,
    "start_time": "2023-06-03T14:23:09.575Z"
   },
   {
    "duration": 5,
    "start_time": "2023-06-03T14:23:09.732Z"
   },
   {
    "duration": 122031,
    "start_time": "2023-06-03T14:23:09.739Z"
   },
   {
    "duration": 17,
    "start_time": "2023-06-03T14:25:11.772Z"
   },
   {
    "duration": 4,
    "start_time": "2023-06-03T14:25:11.791Z"
   },
   {
    "duration": 46,
    "start_time": "2023-06-03T14:25:11.797Z"
   },
   {
    "duration": 4,
    "start_time": "2023-06-03T14:25:11.846Z"
   },
   {
    "duration": 2483,
    "start_time": "2023-06-03T14:25:11.852Z"
   },
   {
    "duration": 320,
    "start_time": "2023-06-03T14:25:14.338Z"
   },
   {
    "duration": 10201,
    "start_time": "2023-06-03T14:25:14.660Z"
   },
   {
    "duration": 1103,
    "start_time": "2023-06-03T14:25:24.862Z"
   },
   {
    "duration": 98,
    "start_time": "2023-06-03T14:25:25.967Z"
   },
   {
    "duration": 0,
    "start_time": "2023-06-03T14:25:26.066Z"
   },
   {
    "duration": 0,
    "start_time": "2023-06-03T14:25:26.067Z"
   },
   {
    "duration": 0,
    "start_time": "2023-06-03T14:25:26.069Z"
   },
   {
    "duration": 0,
    "start_time": "2023-06-03T14:25:26.070Z"
   },
   {
    "duration": 0,
    "start_time": "2023-06-03T14:25:26.071Z"
   },
   {
    "duration": 0,
    "start_time": "2023-06-03T14:25:26.072Z"
   },
   {
    "duration": 0,
    "start_time": "2023-06-03T14:25:26.074Z"
   },
   {
    "duration": 0,
    "start_time": "2023-06-03T14:25:26.076Z"
   },
   {
    "duration": 0,
    "start_time": "2023-06-03T14:25:26.078Z"
   },
   {
    "duration": 5,
    "start_time": "2023-06-03T14:27:24.639Z"
   },
   {
    "duration": 16282,
    "start_time": "2023-06-03T14:27:26.230Z"
   },
   {
    "duration": 5,
    "start_time": "2023-06-03T14:27:42.516Z"
   },
   {
    "duration": 7,
    "start_time": "2023-06-03T14:27:47.003Z"
   },
   {
    "duration": 2879,
    "start_time": "2023-06-03T14:28:35.468Z"
   },
   {
    "duration": 6,
    "start_time": "2023-06-03T14:28:38.349Z"
   },
   {
    "duration": 4482,
    "start_time": "2023-06-03T14:28:38.357Z"
   },
   {
    "duration": 11,
    "start_time": "2023-06-03T14:28:42.841Z"
   },
   {
    "duration": 404,
    "start_time": "2023-06-03T14:28:42.854Z"
   },
   {
    "duration": 159,
    "start_time": "2023-06-03T14:28:43.260Z"
   },
   {
    "duration": 4,
    "start_time": "2023-06-03T14:28:43.422Z"
   },
   {
    "duration": 119170,
    "start_time": "2023-06-03T14:28:43.428Z"
   },
   {
    "duration": 17,
    "start_time": "2023-06-03T14:30:42.607Z"
   },
   {
    "duration": 3,
    "start_time": "2023-06-03T14:30:42.628Z"
   },
   {
    "duration": 49,
    "start_time": "2023-06-03T14:30:42.633Z"
   },
   {
    "duration": 4,
    "start_time": "2023-06-03T14:30:42.684Z"
   },
   {
    "duration": 2307,
    "start_time": "2023-06-03T14:30:42.691Z"
   },
   {
    "duration": 180,
    "start_time": "2023-06-03T14:30:45.001Z"
   },
   {
    "duration": 9687,
    "start_time": "2023-06-03T14:30:45.183Z"
   },
   {
    "duration": 1013,
    "start_time": "2023-06-03T14:30:54.872Z"
   },
   {
    "duration": 4,
    "start_time": "2023-06-03T14:30:55.887Z"
   },
   {
    "duration": 2013,
    "start_time": "2023-06-03T14:36:12.652Z"
   },
   {
    "duration": 5,
    "start_time": "2023-06-03T14:36:14.668Z"
   },
   {
    "duration": 1055,
    "start_time": "2023-06-03T14:36:14.675Z"
   },
   {
    "duration": 13,
    "start_time": "2023-06-03T14:36:15.733Z"
   },
   {
    "duration": 398,
    "start_time": "2023-06-03T14:36:15.748Z"
   },
   {
    "duration": 153,
    "start_time": "2023-06-03T14:36:16.148Z"
   },
   {
    "duration": 5,
    "start_time": "2023-06-03T14:36:16.303Z"
   },
   {
    "duration": 128837,
    "start_time": "2023-06-03T14:36:16.309Z"
   },
   {
    "duration": 14,
    "start_time": "2023-06-03T14:38:25.149Z"
   },
   {
    "duration": 18,
    "start_time": "2023-06-03T14:38:25.167Z"
   },
   {
    "duration": 68,
    "start_time": "2023-06-03T14:38:25.190Z"
   },
   {
    "duration": 4,
    "start_time": "2023-06-03T14:38:25.259Z"
   },
   {
    "duration": 2670,
    "start_time": "2023-06-03T14:38:25.265Z"
   },
   {
    "duration": 231,
    "start_time": "2023-06-03T14:38:27.938Z"
   },
   {
    "duration": 12894,
    "start_time": "2023-06-03T14:38:28.171Z"
   },
   {
    "duration": 1299,
    "start_time": "2023-06-03T14:38:41.067Z"
   },
   {
    "duration": 4,
    "start_time": "2023-06-03T14:38:42.368Z"
   },
   {
    "duration": 915,
    "start_time": "2023-06-03T14:38:42.374Z"
   },
   {
    "duration": 25,
    "start_time": "2023-06-03T14:38:43.291Z"
   },
   {
    "duration": 0,
    "start_time": "2023-06-03T14:38:43.318Z"
   },
   {
    "duration": 0,
    "start_time": "2023-06-03T14:38:43.320Z"
   },
   {
    "duration": 0,
    "start_time": "2023-06-03T14:38:43.322Z"
   },
   {
    "duration": 0,
    "start_time": "2023-06-03T14:38:43.324Z"
   },
   {
    "duration": 0,
    "start_time": "2023-06-03T14:38:43.326Z"
   },
   {
    "duration": 0,
    "start_time": "2023-06-03T14:38:43.327Z"
   },
   {
    "duration": 0,
    "start_time": "2023-06-03T14:38:43.329Z"
   },
   {
    "duration": 4,
    "start_time": "2023-06-03T14:39:20.044Z"
   },
   {
    "duration": 131890,
    "start_time": "2023-06-03T14:39:22.960Z"
   },
   {
    "duration": 4,
    "start_time": "2023-06-03T14:41:34.853Z"
   },
   {
    "duration": 7,
    "start_time": "2023-06-03T14:41:50.294Z"
   },
   {
    "duration": 167118,
    "start_time": "2023-06-03T14:41:50.715Z"
   },
   {
    "duration": 3,
    "start_time": "2023-06-03T14:44:37.837Z"
   },
   {
    "duration": 6,
    "start_time": "2023-06-03T14:44:47.901Z"
   },
   {
    "duration": 68694,
    "start_time": "2023-06-03T14:44:48.546Z"
   },
   {
    "duration": 4,
    "start_time": "2023-06-03T14:45:57.243Z"
   },
   {
    "duration": 4,
    "start_time": "2023-06-03T14:46:20.923Z"
   },
   {
    "duration": 105268,
    "start_time": "2023-06-03T14:46:21.498Z"
   },
   {
    "duration": 8,
    "start_time": "2023-06-03T14:48:06.768Z"
   },
   {
    "duration": 5,
    "start_time": "2023-06-03T14:48:48.321Z"
   },
   {
    "duration": 78,
    "start_time": "2023-06-03T14:49:08.225Z"
   },
   {
    "duration": 2868,
    "start_time": "2023-06-03T14:49:19.809Z"
   },
   {
    "duration": 16,
    "start_time": "2023-06-03T14:49:22.684Z"
   },
   {
    "duration": 4644,
    "start_time": "2023-06-03T14:49:22.702Z"
   },
   {
    "duration": 13,
    "start_time": "2023-06-03T14:49:27.348Z"
   },
   {
    "duration": 418,
    "start_time": "2023-06-03T14:49:27.363Z"
   },
   {
    "duration": 148,
    "start_time": "2023-06-03T14:49:27.785Z"
   },
   {
    "duration": 4,
    "start_time": "2023-06-03T14:49:27.935Z"
   },
   {
    "duration": 125229,
    "start_time": "2023-06-03T14:49:27.940Z"
   },
   {
    "duration": 31,
    "start_time": "2023-06-03T14:51:33.173Z"
   },
   {
    "duration": 4,
    "start_time": "2023-06-03T14:51:33.207Z"
   },
   {
    "duration": 72,
    "start_time": "2023-06-03T14:51:33.213Z"
   },
   {
    "duration": 9,
    "start_time": "2023-06-03T14:51:33.287Z"
   },
   {
    "duration": 2527,
    "start_time": "2023-06-03T14:51:33.299Z"
   },
   {
    "duration": 195,
    "start_time": "2023-06-03T14:51:35.829Z"
   },
   {
    "duration": 11082,
    "start_time": "2023-06-03T14:51:36.026Z"
   },
   {
    "duration": 1143,
    "start_time": "2023-06-03T14:51:47.121Z"
   },
   {
    "duration": 4,
    "start_time": "2023-06-03T14:54:03.120Z"
   },
   {
    "duration": 240,
    "start_time": "2023-06-03T14:54:04.813Z"
   },
   {
    "duration": 5,
    "start_time": "2023-06-03T14:54:28.322Z"
   },
   {
    "duration": 132,
    "start_time": "2023-06-03T14:54:29.202Z"
   },
   {
    "duration": 3,
    "start_time": "2023-06-03T14:54:41.551Z"
   },
   {
    "duration": 25709,
    "start_time": "2023-06-03T14:54:42.012Z"
   },
   {
    "duration": 26,
    "start_time": "2023-06-03T14:55:07.723Z"
   },
   {
    "duration": 5,
    "start_time": "2023-06-03T14:56:23.197Z"
   },
   {
    "duration": 2811,
    "start_time": "2023-06-03T14:59:08.825Z"
   },
   {
    "duration": 6,
    "start_time": "2023-06-03T14:59:11.638Z"
   },
   {
    "duration": 5379,
    "start_time": "2023-06-03T14:59:11.645Z"
   },
   {
    "duration": 30,
    "start_time": "2023-06-03T14:59:17.027Z"
   },
   {
    "duration": 482,
    "start_time": "2023-06-03T14:59:17.059Z"
   },
   {
    "duration": 172,
    "start_time": "2023-06-03T14:59:17.543Z"
   },
   {
    "duration": 10,
    "start_time": "2023-06-03T14:59:17.717Z"
   },
   {
    "duration": 133835,
    "start_time": "2023-06-03T14:59:17.732Z"
   },
   {
    "duration": 16,
    "start_time": "2023-06-03T15:01:31.570Z"
   },
   {
    "duration": 14,
    "start_time": "2023-06-03T15:01:31.588Z"
   },
   {
    "duration": 82,
    "start_time": "2023-06-03T15:01:31.611Z"
   },
   {
    "duration": 7,
    "start_time": "2023-06-03T15:01:31.696Z"
   },
   {
    "duration": 2485,
    "start_time": "2023-06-03T15:01:31.705Z"
   },
   {
    "duration": 251,
    "start_time": "2023-06-03T15:01:34.198Z"
   },
   {
    "duration": 10983,
    "start_time": "2023-06-03T15:01:34.452Z"
   },
   {
    "duration": 1166,
    "start_time": "2023-06-03T15:01:45.436Z"
   },
   {
    "duration": 7,
    "start_time": "2023-06-03T15:01:46.605Z"
   },
   {
    "duration": 3555,
    "start_time": "2023-06-03T15:01:59.055Z"
   },
   {
    "duration": 8,
    "start_time": "2023-06-03T15:02:02.613Z"
   },
   {
    "duration": 4583,
    "start_time": "2023-06-03T15:02:02.629Z"
   },
   {
    "duration": 13,
    "start_time": "2023-06-03T15:02:07.214Z"
   },
   {
    "duration": 401,
    "start_time": "2023-06-03T15:02:07.229Z"
   },
   {
    "duration": 128,
    "start_time": "2023-06-03T15:02:07.632Z"
   },
   {
    "duration": 19,
    "start_time": "2023-06-03T15:02:07.762Z"
   },
   {
    "duration": 122851,
    "start_time": "2023-06-03T15:02:07.784Z"
   },
   {
    "duration": 13,
    "start_time": "2023-06-03T15:04:10.637Z"
   },
   {
    "duration": 3,
    "start_time": "2023-06-03T15:04:10.653Z"
   },
   {
    "duration": 76,
    "start_time": "2023-06-03T15:04:10.658Z"
   },
   {
    "duration": 4,
    "start_time": "2023-06-03T15:04:10.736Z"
   },
   {
    "duration": 2329,
    "start_time": "2023-06-03T15:04:10.741Z"
   },
   {
    "duration": 235,
    "start_time": "2023-06-03T15:04:13.072Z"
   },
   {
    "duration": 9945,
    "start_time": "2023-06-03T15:04:13.310Z"
   },
   {
    "duration": 1260,
    "start_time": "2023-06-03T15:04:23.257Z"
   },
   {
    "duration": 3,
    "start_time": "2023-06-03T15:04:24.519Z"
   },
   {
    "duration": 170864,
    "start_time": "2023-06-03T15:04:24.524Z"
   },
   {
    "duration": 7,
    "start_time": "2023-06-03T15:07:15.390Z"
   },
   {
    "duration": 7,
    "start_time": "2023-06-03T15:07:15.401Z"
   },
   {
    "duration": 113262,
    "start_time": "2023-06-03T15:07:15.410Z"
   },
   {
    "duration": 28,
    "start_time": "2023-06-03T15:09:08.681Z"
   },
   {
    "duration": 8,
    "start_time": "2023-06-03T15:09:08.713Z"
   },
   {
    "duration": 3412,
    "start_time": "2023-06-03T15:12:59.826Z"
   },
   {
    "duration": 7,
    "start_time": "2023-06-03T15:13:03.243Z"
   },
   {
    "duration": 6105,
    "start_time": "2023-06-03T15:13:03.252Z"
   },
   {
    "duration": 27,
    "start_time": "2023-06-03T15:13:09.359Z"
   },
   {
    "duration": 448,
    "start_time": "2023-06-03T15:13:09.389Z"
   },
   {
    "duration": 205,
    "start_time": "2023-06-03T15:13:09.840Z"
   },
   {
    "duration": 9,
    "start_time": "2023-06-03T15:13:10.048Z"
   },
   {
    "duration": 157612,
    "start_time": "2023-06-03T15:13:10.059Z"
   },
   {
    "duration": 47,
    "start_time": "2023-06-03T15:15:47.672Z"
   },
   {
    "duration": 6,
    "start_time": "2023-06-03T15:15:47.724Z"
   },
   {
    "duration": 48,
    "start_time": "2023-06-03T15:15:47.733Z"
   },
   {
    "duration": 18,
    "start_time": "2023-06-03T15:15:47.786Z"
   },
   {
    "duration": 2756,
    "start_time": "2023-06-03T15:15:47.818Z"
   },
   {
    "duration": 265,
    "start_time": "2023-06-03T15:15:50.586Z"
   },
   {
    "duration": 12909,
    "start_time": "2023-06-03T15:15:50.853Z"
   },
   {
    "duration": 1415,
    "start_time": "2023-06-03T15:16:03.763Z"
   },
   {
    "duration": 4,
    "start_time": "2023-06-03T15:16:05.180Z"
   },
   {
    "duration": 172042,
    "start_time": "2023-06-03T15:16:05.191Z"
   },
   {
    "duration": 4,
    "start_time": "2023-06-03T15:18:57.235Z"
   },
   {
    "duration": 6,
    "start_time": "2023-06-03T15:18:57.275Z"
   },
   {
    "duration": 122376,
    "start_time": "2023-06-03T15:18:57.284Z"
   },
   {
    "duration": 5,
    "start_time": "2023-06-03T15:20:59.662Z"
   },
   {
    "duration": 23,
    "start_time": "2023-06-03T15:20:59.669Z"
   },
   {
    "duration": 3379,
    "start_time": "2023-06-03T15:47:19.809Z"
   },
   {
    "duration": 14,
    "start_time": "2023-06-03T15:47:23.194Z"
   },
   {
    "duration": 8554,
    "start_time": "2023-06-03T15:47:23.214Z"
   },
   {
    "duration": 43,
    "start_time": "2023-06-03T15:47:31.782Z"
   },
   {
    "duration": 572,
    "start_time": "2023-06-03T15:47:31.836Z"
   },
   {
    "duration": 201,
    "start_time": "2023-06-03T15:47:32.412Z"
   },
   {
    "duration": 9,
    "start_time": "2023-06-03T15:47:32.620Z"
   },
   {
    "duration": 170826,
    "start_time": "2023-06-03T15:47:32.635Z"
   },
   {
    "duration": 26,
    "start_time": "2023-06-03T15:50:23.464Z"
   },
   {
    "duration": 4,
    "start_time": "2023-06-03T15:50:23.494Z"
   },
   {
    "duration": 67,
    "start_time": "2023-06-03T15:50:23.502Z"
   },
   {
    "duration": 5,
    "start_time": "2023-06-03T15:50:23.572Z"
   },
   {
    "duration": 2912,
    "start_time": "2023-06-03T15:50:23.579Z"
   },
   {
    "duration": 362,
    "start_time": "2023-06-03T15:50:26.493Z"
   },
   {
    "duration": 13202,
    "start_time": "2023-06-03T15:50:26.859Z"
   },
   {
    "duration": 1387,
    "start_time": "2023-06-03T15:50:40.063Z"
   },
   {
    "duration": 4,
    "start_time": "2023-06-03T15:50:41.453Z"
   },
   {
    "duration": 192015,
    "start_time": "2023-06-03T15:50:41.460Z"
   },
   {
    "duration": 9,
    "start_time": "2023-06-03T15:53:53.478Z"
   },
   {
    "duration": 17,
    "start_time": "2023-06-03T15:53:53.490Z"
   },
   {
    "duration": 164090,
    "start_time": "2023-06-03T15:53:53.510Z"
   },
   {
    "duration": 8,
    "start_time": "2023-06-03T15:56:37.606Z"
   },
   {
    "duration": 24,
    "start_time": "2023-06-03T15:56:37.618Z"
   },
   {
    "duration": 2615,
    "start_time": "2023-06-03T15:57:33.303Z"
   },
   {
    "duration": 13,
    "start_time": "2023-06-03T15:57:35.920Z"
   },
   {
    "duration": 5815,
    "start_time": "2023-06-03T15:57:35.935Z"
   },
   {
    "duration": 15,
    "start_time": "2023-06-03T15:57:41.752Z"
   },
   {
    "duration": 471,
    "start_time": "2023-06-03T15:57:41.769Z"
   },
   {
    "duration": 160,
    "start_time": "2023-06-03T15:57:42.241Z"
   },
   {
    "duration": 10,
    "start_time": "2023-06-03T15:57:42.403Z"
   },
   {
    "duration": 154359,
    "start_time": "2023-06-03T15:57:42.421Z"
   },
   {
    "duration": 22,
    "start_time": "2023-06-03T16:00:16.782Z"
   },
   {
    "duration": 4,
    "start_time": "2023-06-03T16:00:16.807Z"
   },
   {
    "duration": 71,
    "start_time": "2023-06-03T16:00:16.813Z"
   },
   {
    "duration": 11,
    "start_time": "2023-06-03T16:00:16.886Z"
   },
   {
    "duration": 2665,
    "start_time": "2023-06-03T16:00:16.899Z"
   },
   {
    "duration": 418,
    "start_time": "2023-06-03T16:00:19.570Z"
   },
   {
    "duration": 13016,
    "start_time": "2023-06-03T16:00:19.995Z"
   },
   {
    "duration": 1393,
    "start_time": "2023-06-03T16:00:33.013Z"
   },
   {
    "duration": 220,
    "start_time": "2023-06-03T16:00:39.533Z"
   },
   {
    "duration": 143,
    "start_time": "2023-06-03T16:00:47.494Z"
   },
   {
    "duration": 9,
    "start_time": "2023-06-03T16:00:54.631Z"
   },
   {
    "duration": 2143,
    "start_time": "2023-06-03T16:01:34.029Z"
   },
   {
    "duration": 8,
    "start_time": "2023-06-03T16:01:36.175Z"
   },
   {
    "duration": 4913,
    "start_time": "2023-06-03T16:01:36.185Z"
   },
   {
    "duration": 18,
    "start_time": "2023-06-03T16:01:41.101Z"
   },
   {
    "duration": 423,
    "start_time": "2023-06-03T16:01:41.123Z"
   },
   {
    "duration": 159,
    "start_time": "2023-06-03T16:01:41.548Z"
   },
   {
    "duration": 8,
    "start_time": "2023-06-03T16:01:41.710Z"
   },
   {
    "duration": 168007,
    "start_time": "2023-06-03T16:01:41.721Z"
   },
   {
    "duration": 24,
    "start_time": "2023-06-03T16:04:29.735Z"
   },
   {
    "duration": 5,
    "start_time": "2023-06-03T16:04:29.766Z"
   },
   {
    "duration": 70,
    "start_time": "2023-06-03T16:04:29.778Z"
   },
   {
    "duration": 11,
    "start_time": "2023-06-03T16:04:29.857Z"
   },
   {
    "duration": 3033,
    "start_time": "2023-06-03T16:04:29.876Z"
   },
   {
    "duration": 342,
    "start_time": "2023-06-03T16:04:32.917Z"
   },
   {
    "duration": 16458,
    "start_time": "2023-06-03T16:04:33.260Z"
   },
   {
    "duration": 1742,
    "start_time": "2023-06-03T16:04:49.721Z"
   },
   {
    "duration": 22,
    "start_time": "2023-06-03T16:05:06.455Z"
   },
   {
    "duration": 125,
    "start_time": "2023-06-03T16:05:15.679Z"
   },
   {
    "duration": 2989,
    "start_time": "2023-06-03T16:05:32.004Z"
   },
   {
    "duration": 12,
    "start_time": "2023-06-03T16:05:35.010Z"
   },
   {
    "duration": 7381,
    "start_time": "2023-06-03T16:05:35.030Z"
   },
   {
    "duration": 16,
    "start_time": "2023-06-03T16:05:42.413Z"
   },
   {
    "duration": 582,
    "start_time": "2023-06-03T16:05:42.433Z"
   },
   {
    "duration": 255,
    "start_time": "2023-06-03T16:05:43.018Z"
   },
   {
    "duration": 23,
    "start_time": "2023-06-03T16:05:43.275Z"
   },
   {
    "duration": 186595,
    "start_time": "2023-06-03T16:05:43.311Z"
   },
   {
    "duration": 28,
    "start_time": "2023-06-03T16:08:49.916Z"
   },
   {
    "duration": 7,
    "start_time": "2023-06-03T16:08:49.952Z"
   },
   {
    "duration": 116,
    "start_time": "2023-06-03T16:08:49.961Z"
   },
   {
    "duration": 11,
    "start_time": "2023-06-03T16:08:50.088Z"
   },
   {
    "duration": 3206,
    "start_time": "2023-06-03T16:08:50.105Z"
   },
   {
    "duration": 392,
    "start_time": "2023-06-03T16:08:53.322Z"
   },
   {
    "duration": 14672,
    "start_time": "2023-06-03T16:08:53.722Z"
   },
   {
    "duration": 1425,
    "start_time": "2023-06-03T16:09:08.401Z"
   },
   {
    "duration": 5,
    "start_time": "2023-06-03T16:10:08.300Z"
   },
   {
    "duration": 174,
    "start_time": "2023-06-03T16:10:15.741Z"
   },
   {
    "duration": 4182,
    "start_time": "2023-06-03T16:10:19.654Z"
   },
   {
    "duration": 0,
    "start_time": "2023-06-03T16:10:23.845Z"
   },
   {
    "duration": 0,
    "start_time": "2023-06-03T16:10:23.852Z"
   },
   {
    "duration": 0,
    "start_time": "2023-06-03T16:10:23.860Z"
   },
   {
    "duration": 0,
    "start_time": "2023-06-03T16:10:23.862Z"
   },
   {
    "duration": 0,
    "start_time": "2023-06-03T16:10:23.864Z"
   },
   {
    "duration": 0,
    "start_time": "2023-06-03T16:10:23.866Z"
   },
   {
    "duration": 0,
    "start_time": "2023-06-03T16:10:23.867Z"
   },
   {
    "duration": 0,
    "start_time": "2023-06-03T16:10:23.871Z"
   },
   {
    "duration": 0,
    "start_time": "2023-06-03T16:10:23.873Z"
   },
   {
    "duration": 0,
    "start_time": "2023-06-03T16:10:23.874Z"
   },
   {
    "duration": 0,
    "start_time": "2023-06-03T16:10:23.876Z"
   },
   {
    "duration": 0,
    "start_time": "2023-06-03T16:10:23.877Z"
   },
   {
    "duration": 0,
    "start_time": "2023-06-03T16:10:23.878Z"
   },
   {
    "duration": 0,
    "start_time": "2023-06-03T16:10:23.880Z"
   },
   {
    "duration": 0,
    "start_time": "2023-06-03T16:10:23.882Z"
   },
   {
    "duration": 0,
    "start_time": "2023-06-03T16:10:23.883Z"
   },
   {
    "duration": 0,
    "start_time": "2023-06-03T16:10:23.884Z"
   },
   {
    "duration": 0,
    "start_time": "2023-06-03T16:10:23.886Z"
   },
   {
    "duration": 0,
    "start_time": "2023-06-03T16:10:23.887Z"
   },
   {
    "duration": 0,
    "start_time": "2023-06-03T16:10:23.888Z"
   },
   {
    "duration": 0,
    "start_time": "2023-06-03T16:10:23.890Z"
   },
   {
    "duration": 0,
    "start_time": "2023-06-03T16:10:23.890Z"
   },
   {
    "duration": 0,
    "start_time": "2023-06-03T16:10:23.893Z"
   },
   {
    "duration": 0,
    "start_time": "2023-06-03T16:10:23.895Z"
   },
   {
    "duration": 0,
    "start_time": "2023-06-03T16:10:23.897Z"
   },
   {
    "duration": 0,
    "start_time": "2023-06-03T16:10:23.899Z"
   },
   {
    "duration": 3372,
    "start_time": "2023-06-03T16:10:34.034Z"
   },
   {
    "duration": 11,
    "start_time": "2023-06-03T16:10:37.415Z"
   },
   {
    "duration": 8738,
    "start_time": "2023-06-03T16:10:37.433Z"
   },
   {
    "duration": 31,
    "start_time": "2023-06-03T16:10:46.182Z"
   },
   {
    "duration": 744,
    "start_time": "2023-06-03T16:10:46.226Z"
   },
   {
    "duration": 254,
    "start_time": "2023-06-03T16:10:46.978Z"
   },
   {
    "duration": 7,
    "start_time": "2023-06-03T16:10:47.242Z"
   },
   {
    "duration": 180479,
    "start_time": "2023-06-03T16:10:47.257Z"
   },
   {
    "duration": 20,
    "start_time": "2023-06-03T16:13:47.748Z"
   },
   {
    "duration": 7,
    "start_time": "2023-06-03T16:13:47.773Z"
   },
   {
    "duration": 67,
    "start_time": "2023-06-03T16:13:47.782Z"
   },
   {
    "duration": 5,
    "start_time": "2023-06-03T16:13:47.851Z"
   },
   {
    "duration": 2586,
    "start_time": "2023-06-03T16:13:47.863Z"
   },
   {
    "duration": 340,
    "start_time": "2023-06-03T16:13:50.451Z"
   },
   {
    "duration": 15467,
    "start_time": "2023-06-03T16:13:50.798Z"
   },
   {
    "duration": 1712,
    "start_time": "2023-06-03T16:14:06.267Z"
   },
   {
    "duration": 152,
    "start_time": "2023-06-03T16:14:35.138Z"
   },
   {
    "duration": 4,
    "start_time": "2023-06-03T16:14:42.085Z"
   },
   {
    "duration": 134,
    "start_time": "2023-06-03T16:14:53.708Z"
   },
   {
    "duration": 2858,
    "start_time": "2023-06-03T18:44:26.801Z"
   },
   {
    "duration": 9,
    "start_time": "2023-06-03T18:44:29.661Z"
   },
   {
    "duration": 4229,
    "start_time": "2023-06-03T18:44:29.672Z"
   },
   {
    "duration": 16,
    "start_time": "2023-06-03T18:44:33.903Z"
   },
   {
    "duration": 380,
    "start_time": "2023-06-03T18:44:33.921Z"
   },
   {
    "duration": 129,
    "start_time": "2023-06-03T18:44:34.303Z"
   },
   {
    "duration": 4,
    "start_time": "2023-06-03T18:44:34.434Z"
   },
   {
    "duration": 113867,
    "start_time": "2023-06-03T18:44:34.440Z"
   },
   {
    "duration": 15,
    "start_time": "2023-06-03T18:46:28.309Z"
   },
   {
    "duration": 4,
    "start_time": "2023-06-03T18:46:28.327Z"
   },
   {
    "duration": 84,
    "start_time": "2023-06-03T18:46:28.332Z"
   },
   {
    "duration": 5,
    "start_time": "2023-06-03T18:46:28.419Z"
   },
   {
    "duration": 2024,
    "start_time": "2023-06-03T18:46:28.426Z"
   },
   {
    "duration": 203,
    "start_time": "2023-06-03T18:46:30.456Z"
   },
   {
    "duration": 8999,
    "start_time": "2023-06-03T18:46:30.661Z"
   },
   {
    "duration": 874,
    "start_time": "2023-06-03T18:46:39.662Z"
   },
   {
    "duration": 3,
    "start_time": "2023-06-03T18:46:57.653Z"
   },
   {
    "duration": 5,
    "start_time": "2023-06-03T18:46:58.603Z"
   },
   {
    "duration": 218,
    "start_time": "2023-06-03T18:46:59.606Z"
   },
   {
    "duration": 36931,
    "start_time": "2023-06-03T18:47:10.982Z"
   },
   {
    "duration": 5,
    "start_time": "2023-06-03T18:47:47.915Z"
   },
   {
    "duration": 5,
    "start_time": "2023-06-03T18:48:21.322Z"
   },
   {
    "duration": 4,
    "start_time": "2023-06-03T18:48:59.254Z"
   },
   {
    "duration": 23,
    "start_time": "2023-06-03T18:53:33.699Z"
   },
   {
    "duration": 4,
    "start_time": "2023-06-03T18:54:18.208Z"
   },
   {
    "duration": 88,
    "start_time": "2023-06-03T18:54:19.969Z"
   },
   {
    "duration": 88,
    "start_time": "2023-06-03T18:54:28.016Z"
   },
   {
    "duration": 3452,
    "start_time": "2023-06-03T19:03:40.685Z"
   },
   {
    "duration": 6,
    "start_time": "2023-06-03T19:03:44.139Z"
   },
   {
    "duration": 2301,
    "start_time": "2023-06-03T19:03:44.147Z"
   },
   {
    "duration": 15,
    "start_time": "2023-06-03T19:03:46.450Z"
   },
   {
    "duration": 403,
    "start_time": "2023-06-03T19:03:46.466Z"
   },
   {
    "duration": 146,
    "start_time": "2023-06-03T19:03:46.871Z"
   },
   {
    "duration": 4,
    "start_time": "2023-06-03T19:03:47.019Z"
   },
   {
    "duration": 103078,
    "start_time": "2023-06-03T19:03:47.025Z"
   },
   {
    "duration": 14,
    "start_time": "2023-06-03T19:05:30.105Z"
   },
   {
    "duration": 35,
    "start_time": "2023-06-03T19:05:30.122Z"
   },
   {
    "duration": 58,
    "start_time": "2023-06-03T19:05:30.160Z"
   },
   {
    "duration": 6,
    "start_time": "2023-06-03T19:05:30.220Z"
   },
   {
    "duration": 2015,
    "start_time": "2023-06-03T19:05:30.227Z"
   },
   {
    "duration": 257,
    "start_time": "2023-06-03T19:05:32.244Z"
   },
   {
    "duration": 8895,
    "start_time": "2023-06-03T19:05:32.504Z"
   },
   {
    "duration": 940,
    "start_time": "2023-06-03T19:05:41.400Z"
   },
   {
    "duration": 3,
    "start_time": "2023-06-03T19:06:08.685Z"
   },
   {
    "duration": 839148,
    "start_time": "2023-06-03T19:06:09.382Z"
   },
   {
    "duration": 5,
    "start_time": "2023-06-03T19:20:08.532Z"
   },
   {
    "duration": 1778,
    "start_time": "2023-06-03T19:21:59.164Z"
   },
   {
    "duration": 11,
    "start_time": "2023-06-03T19:22:00.945Z"
   },
   {
    "duration": 904,
    "start_time": "2023-06-03T19:22:00.958Z"
   },
   {
    "duration": 15,
    "start_time": "2023-06-03T19:22:01.865Z"
   },
   {
    "duration": 428,
    "start_time": "2023-06-03T19:22:01.882Z"
   },
   {
    "duration": 122,
    "start_time": "2023-06-03T19:22:02.311Z"
   },
   {
    "duration": 4,
    "start_time": "2023-06-03T19:22:02.434Z"
   },
   {
    "duration": 97773,
    "start_time": "2023-06-03T19:22:02.439Z"
   },
   {
    "duration": 14,
    "start_time": "2023-06-03T19:23:40.214Z"
   },
   {
    "duration": 3,
    "start_time": "2023-06-03T19:23:40.231Z"
   },
   {
    "duration": 54,
    "start_time": "2023-06-03T19:23:40.235Z"
   },
   {
    "duration": 5,
    "start_time": "2023-06-03T19:23:40.291Z"
   },
   {
    "duration": 1933,
    "start_time": "2023-06-03T19:23:40.297Z"
   },
   {
    "duration": 170,
    "start_time": "2023-06-03T19:23:42.232Z"
   },
   {
    "duration": 8431,
    "start_time": "2023-06-03T19:23:42.404Z"
   },
   {
    "duration": 878,
    "start_time": "2023-06-03T19:23:50.837Z"
   },
   {
    "duration": 4,
    "start_time": "2023-06-03T19:23:51.716Z"
   },
   {
    "duration": 184475,
    "start_time": "2023-06-03T19:23:51.722Z"
   },
   {
    "duration": 5,
    "start_time": "2023-06-03T19:26:56.199Z"
   },
   {
    "duration": 5,
    "start_time": "2023-06-03T19:26:56.206Z"
   },
   {
    "duration": 83575,
    "start_time": "2023-06-03T19:26:56.213Z"
   },
   {
    "duration": 3,
    "start_time": "2023-06-03T19:28:19.790Z"
   },
   {
    "duration": 9,
    "start_time": "2023-06-03T19:28:19.795Z"
   },
   {
    "duration": 49028,
    "start_time": "2023-06-03T19:28:19.806Z"
   },
   {
    "duration": 4,
    "start_time": "2023-06-03T19:29:08.836Z"
   },
   {
    "duration": 16,
    "start_time": "2023-06-03T19:29:08.842Z"
   },
   {
    "duration": 801264,
    "start_time": "2023-06-03T19:29:08.860Z"
   },
   {
    "duration": 4,
    "start_time": "2023-06-03T19:42:30.128Z"
   },
   {
    "duration": 95,
    "start_time": "2023-06-03T19:42:30.135Z"
   },
   {
    "duration": 61,
    "start_time": "2023-06-03T19:42:30.232Z"
   },
   {
    "duration": 57,
    "start_time": "2023-06-03T19:42:30.295Z"
   },
   {
    "duration": 55,
    "start_time": "2023-06-03T21:02:20.526Z"
   },
   {
    "duration": 1710,
    "start_time": "2023-06-03T21:02:55.433Z"
   },
   {
    "duration": 5,
    "start_time": "2023-06-03T21:02:57.145Z"
   },
   {
    "duration": 3352,
    "start_time": "2023-06-03T21:02:57.152Z"
   },
   {
    "duration": 13,
    "start_time": "2023-06-03T21:03:00.507Z"
   },
   {
    "duration": 375,
    "start_time": "2023-06-03T21:03:00.521Z"
   },
   {
    "duration": 131,
    "start_time": "2023-06-03T21:03:00.898Z"
   },
   {
    "duration": 4,
    "start_time": "2023-06-03T21:03:01.031Z"
   },
   {
    "duration": 99302,
    "start_time": "2023-06-03T21:03:01.036Z"
   },
   {
    "duration": 20,
    "start_time": "2023-06-03T21:04:40.340Z"
   },
   {
    "duration": 6,
    "start_time": "2023-06-03T21:04:40.363Z"
   },
   {
    "duration": 36,
    "start_time": "2023-06-03T21:04:40.370Z"
   },
   {
    "duration": 4,
    "start_time": "2023-06-03T21:04:40.407Z"
   },
   {
    "duration": 1887,
    "start_time": "2023-06-03T21:04:40.412Z"
   },
   {
    "duration": 186,
    "start_time": "2023-06-03T21:04:42.301Z"
   },
   {
    "duration": 7804,
    "start_time": "2023-06-03T21:04:42.489Z"
   },
   {
    "duration": 815,
    "start_time": "2023-06-03T21:04:50.295Z"
   },
   {
    "duration": 2,
    "start_time": "2023-06-03T21:04:51.112Z"
   },
   {
    "duration": 181870,
    "start_time": "2023-06-03T21:04:51.116Z"
   },
   {
    "duration": 4,
    "start_time": "2023-06-03T21:07:52.988Z"
   },
   {
    "duration": 4,
    "start_time": "2023-06-03T21:07:52.993Z"
   },
   {
    "duration": 78020,
    "start_time": "2023-06-03T21:07:52.999Z"
   },
   {
    "duration": 4,
    "start_time": "2023-06-03T21:09:11.021Z"
   },
   {
    "duration": 7,
    "start_time": "2023-06-03T21:09:11.027Z"
   },
   {
    "duration": 44341,
    "start_time": "2023-06-03T21:09:11.036Z"
   },
   {
    "duration": 4,
    "start_time": "2023-06-03T21:09:55.379Z"
   },
   {
    "duration": 7,
    "start_time": "2023-06-03T21:09:55.385Z"
   },
   {
    "duration": 920483,
    "start_time": "2023-06-03T21:09:55.393Z"
   },
   {
    "duration": 3,
    "start_time": "2023-06-03T21:25:15.879Z"
   },
   {
    "duration": 26,
    "start_time": "2023-06-03T21:25:15.884Z"
   },
   {
    "duration": 22,
    "start_time": "2023-06-03T21:25:15.912Z"
   },
   {
    "duration": 38,
    "start_time": "2023-06-03T21:25:15.936Z"
   },
   {
    "duration": 11,
    "start_time": "2023-06-03T21:26:14.070Z"
   },
   {
    "duration": 48,
    "start_time": "2023-06-04T10:59:11.416Z"
   },
   {
    "duration": 2124,
    "start_time": "2023-06-04T10:59:16.123Z"
   },
   {
    "duration": 14,
    "start_time": "2023-06-04T10:59:19.075Z"
   },
   {
    "duration": 5,
    "start_time": "2023-06-04T10:59:20.111Z"
   },
   {
    "duration": 3100,
    "start_time": "2023-06-04T10:59:20.939Z"
   },
   {
    "duration": 13,
    "start_time": "2023-06-04T10:59:24.042Z"
   },
   {
    "duration": 11,
    "start_time": "2023-06-04T11:00:51.613Z"
   },
   {
    "duration": 6,
    "start_time": "2023-06-04T11:05:45.802Z"
   },
   {
    "duration": 68,
    "start_time": "2023-06-04T11:13:47.435Z"
   },
   {
    "duration": 10,
    "start_time": "2023-06-04T11:15:08.575Z"
   },
   {
    "duration": 34,
    "start_time": "2023-06-04T11:15:08.587Z"
   },
   {
    "duration": 979,
    "start_time": "2023-06-04T11:15:08.623Z"
   },
   {
    "duration": 18,
    "start_time": "2023-06-04T11:15:09.605Z"
   },
   {
    "duration": 395,
    "start_time": "2023-06-04T11:15:09.625Z"
   },
   {
    "duration": 131,
    "start_time": "2023-06-04T11:15:10.022Z"
   },
   {
    "duration": 3,
    "start_time": "2023-06-04T11:15:10.155Z"
   },
   {
    "duration": 125,
    "start_time": "2023-06-04T11:15:10.159Z"
   },
   {
    "duration": 0,
    "start_time": "2023-06-04T11:15:10.286Z"
   },
   {
    "duration": 0,
    "start_time": "2023-06-04T11:15:10.287Z"
   },
   {
    "duration": 0,
    "start_time": "2023-06-04T11:15:10.288Z"
   },
   {
    "duration": 0,
    "start_time": "2023-06-04T11:15:10.289Z"
   },
   {
    "duration": 15,
    "start_time": "2023-06-04T11:15:34.674Z"
   },
   {
    "duration": 6,
    "start_time": "2023-06-04T11:15:49.346Z"
   },
   {
    "duration": 5551,
    "start_time": "2023-06-04T11:16:06.438Z"
   },
   {
    "duration": 4,
    "start_time": "2023-06-04T11:16:14.739Z"
   },
   {
    "duration": 5,
    "start_time": "2023-06-04T11:16:19.498Z"
   },
   {
    "duration": 317,
    "start_time": "2023-06-04T11:16:21.599Z"
   },
   {
    "duration": 266,
    "start_time": "2023-06-04T11:16:34.695Z"
   },
   {
    "duration": 1687,
    "start_time": "2023-06-04T11:20:31.814Z"
   },
   {
    "duration": 6,
    "start_time": "2023-06-04T11:20:33.509Z"
   },
   {
    "duration": 900,
    "start_time": "2023-06-04T11:20:33.517Z"
   },
   {
    "duration": 13,
    "start_time": "2023-06-04T11:20:34.420Z"
   },
   {
    "duration": 375,
    "start_time": "2023-06-04T11:20:34.435Z"
   },
   {
    "duration": 134,
    "start_time": "2023-06-04T11:20:34.812Z"
   },
   {
    "duration": 4,
    "start_time": "2023-06-04T11:20:34.947Z"
   },
   {
    "duration": 5678,
    "start_time": "2023-06-04T11:20:34.952Z"
   },
   {
    "duration": 3,
    "start_time": "2023-06-04T11:20:40.633Z"
   },
   {
    "duration": 13,
    "start_time": "2023-06-04T11:20:40.639Z"
   },
   {
    "duration": 581,
    "start_time": "2023-06-04T11:20:40.654Z"
   },
   {
    "duration": 266,
    "start_time": "2023-06-04T11:20:51.995Z"
   },
   {
    "duration": 1790,
    "start_time": "2023-06-04T11:21:21.626Z"
   },
   {
    "duration": 5,
    "start_time": "2023-06-04T11:21:23.418Z"
   },
   {
    "duration": 918,
    "start_time": "2023-06-04T11:21:23.425Z"
   },
   {
    "duration": 14,
    "start_time": "2023-06-04T11:21:24.346Z"
   },
   {
    "duration": 371,
    "start_time": "2023-06-04T11:21:24.361Z"
   },
   {
    "duration": 137,
    "start_time": "2023-06-04T11:21:24.734Z"
   },
   {
    "duration": 4,
    "start_time": "2023-06-04T11:21:24.873Z"
   },
   {
    "duration": 5710,
    "start_time": "2023-06-04T11:21:24.879Z"
   },
   {
    "duration": 5,
    "start_time": "2023-06-04T11:21:30.594Z"
   },
   {
    "duration": 52,
    "start_time": "2023-06-04T11:21:30.601Z"
   },
   {
    "duration": 572,
    "start_time": "2023-06-04T11:21:30.655Z"
   },
   {
    "duration": 14,
    "start_time": "2023-06-04T11:21:39.187Z"
   },
   {
    "duration": 1379001,
    "start_time": "2023-06-04T11:23:12.249Z"
   },
   {
    "duration": 10,
    "start_time": "2023-06-04T11:46:38.402Z"
   },
   {
    "duration": 15,
    "start_time": "2023-06-04T11:47:49.070Z"
   },
   {
    "duration": 34,
    "start_time": "2023-06-04T11:47:50.306Z"
   },
   {
    "duration": 7,
    "start_time": "2023-06-04T11:47:51.498Z"
   },
   {
    "duration": 5,
    "start_time": "2023-06-04T11:48:30.920Z"
   },
   {
    "duration": 47,
    "start_time": "2023-06-04T11:48:31.916Z"
   },
   {
    "duration": 5,
    "start_time": "2023-06-04T11:48:32.321Z"
   },
   {
    "duration": 8,
    "start_time": "2023-06-04T11:48:52.220Z"
   },
   {
    "duration": 4,
    "start_time": "2023-06-04T11:49:05.018Z"
   },
   {
    "duration": 6,
    "start_time": "2023-06-04T11:50:36.821Z"
   },
   {
    "duration": 7461,
    "start_time": "2023-06-04T11:50:38.838Z"
   },
   {
    "duration": 953,
    "start_time": "2023-06-04T11:50:46.301Z"
   },
   {
    "duration": 4,
    "start_time": "2023-06-04T11:51:00.236Z"
   },
   {
    "duration": 182485,
    "start_time": "2023-06-04T11:51:00.810Z"
   },
   {
    "duration": 10,
    "start_time": "2023-06-04T11:54:03.298Z"
   },
   {
    "duration": 16,
    "start_time": "2023-06-04T11:54:46.552Z"
   },
   {
    "duration": 12,
    "start_time": "2023-06-04T11:58:20.988Z"
   },
   {
    "duration": 26,
    "start_time": "2023-06-04T11:59:32.349Z"
   },
   {
    "duration": 18,
    "start_time": "2023-06-04T11:59:43.432Z"
   },
   {
    "duration": 5,
    "start_time": "2023-06-04T12:00:01.633Z"
   },
   {
    "duration": 4,
    "start_time": "2023-06-04T12:02:25.247Z"
   },
   {
    "duration": 511,
    "start_time": "2023-06-04T12:03:32.938Z"
   },
   {
    "duration": 46,
    "start_time": "2023-06-04T12:12:52.924Z"
   },
   {
    "duration": 2071,
    "start_time": "2023-06-04T13:25:12.414Z"
   },
   {
    "duration": 8,
    "start_time": "2023-06-04T13:25:14.487Z"
   },
   {
    "duration": 1038,
    "start_time": "2023-06-04T13:25:14.497Z"
   },
   {
    "duration": 15,
    "start_time": "2023-06-04T13:25:15.538Z"
   },
   {
    "duration": 399,
    "start_time": "2023-06-04T13:25:15.555Z"
   },
   {
    "duration": 208,
    "start_time": "2023-06-04T13:25:15.956Z"
   },
   {
    "duration": 4,
    "start_time": "2023-06-04T13:25:16.166Z"
   },
   {
    "duration": 5245,
    "start_time": "2023-06-04T13:25:16.172Z"
   },
   {
    "duration": 0,
    "start_time": "2023-06-04T13:25:21.419Z"
   },
   {
    "duration": 0,
    "start_time": "2023-06-04T13:25:21.420Z"
   },
   {
    "duration": 0,
    "start_time": "2023-06-04T13:25:21.421Z"
   },
   {
    "duration": 0,
    "start_time": "2023-06-04T13:25:21.422Z"
   },
   {
    "duration": 0,
    "start_time": "2023-06-04T13:25:21.424Z"
   },
   {
    "duration": 0,
    "start_time": "2023-06-04T13:25:21.425Z"
   },
   {
    "duration": 0,
    "start_time": "2023-06-04T13:25:21.427Z"
   },
   {
    "duration": 0,
    "start_time": "2023-06-04T13:25:21.436Z"
   },
   {
    "duration": 1,
    "start_time": "2023-06-04T13:25:21.437Z"
   },
   {
    "duration": 0,
    "start_time": "2023-06-04T13:25:21.439Z"
   },
   {
    "duration": 0,
    "start_time": "2023-06-04T13:25:21.440Z"
   },
   {
    "duration": 0,
    "start_time": "2023-06-04T13:25:21.442Z"
   },
   {
    "duration": 0,
    "start_time": "2023-06-04T13:25:21.443Z"
   },
   {
    "duration": 0,
    "start_time": "2023-06-04T13:25:21.444Z"
   },
   {
    "duration": 0,
    "start_time": "2023-06-04T13:25:21.446Z"
   },
   {
    "duration": 1,
    "start_time": "2023-06-04T13:25:21.447Z"
   },
   {
    "duration": 0,
    "start_time": "2023-06-04T13:25:21.449Z"
   },
   {
    "duration": 0,
    "start_time": "2023-06-04T13:25:21.450Z"
   },
   {
    "duration": 0,
    "start_time": "2023-06-04T13:25:21.452Z"
   },
   {
    "duration": 0,
    "start_time": "2023-06-04T13:25:21.453Z"
   },
   {
    "duration": 0,
    "start_time": "2023-06-04T13:25:21.455Z"
   },
   {
    "duration": 0,
    "start_time": "2023-06-04T13:25:21.456Z"
   },
   {
    "duration": 0,
    "start_time": "2023-06-04T13:25:21.458Z"
   },
   {
    "duration": 0,
    "start_time": "2023-06-04T13:25:21.459Z"
   },
   {
    "duration": 0,
    "start_time": "2023-06-04T13:25:21.461Z"
   },
   {
    "duration": 0,
    "start_time": "2023-06-04T13:25:21.462Z"
   },
   {
    "duration": 0,
    "start_time": "2023-06-04T13:25:21.464Z"
   },
   {
    "duration": 0,
    "start_time": "2023-06-04T13:25:21.465Z"
   },
   {
    "duration": 0,
    "start_time": "2023-06-04T13:25:21.466Z"
   },
   {
    "duration": 0,
    "start_time": "2023-06-04T13:25:21.468Z"
   },
   {
    "duration": 0,
    "start_time": "2023-06-04T13:25:21.469Z"
   },
   {
    "duration": 1937,
    "start_time": "2023-06-04T13:26:09.316Z"
   },
   {
    "duration": 6,
    "start_time": "2023-06-04T13:26:11.255Z"
   },
   {
    "duration": 989,
    "start_time": "2023-06-04T13:26:11.262Z"
   },
   {
    "duration": 15,
    "start_time": "2023-06-04T13:26:12.253Z"
   },
   {
    "duration": 397,
    "start_time": "2023-06-04T13:26:12.270Z"
   },
   {
    "duration": 146,
    "start_time": "2023-06-04T13:26:12.668Z"
   },
   {
    "duration": 6,
    "start_time": "2023-06-04T13:26:12.817Z"
   },
   {
    "duration": 6355,
    "start_time": "2023-06-04T13:26:12.827Z"
   },
   {
    "duration": 13,
    "start_time": "2023-06-04T13:26:19.188Z"
   },
   {
    "duration": 22,
    "start_time": "2023-06-04T13:26:19.204Z"
   },
   {
    "duration": 14,
    "start_time": "2023-06-04T13:26:19.228Z"
   },
   {
    "duration": 166,
    "start_time": "2023-06-04T13:26:19.243Z"
   },
   {
    "duration": 0,
    "start_time": "2023-06-04T13:26:19.412Z"
   },
   {
    "duration": 0,
    "start_time": "2023-06-04T13:26:19.414Z"
   },
   {
    "duration": 0,
    "start_time": "2023-06-04T13:26:19.416Z"
   },
   {
    "duration": 0,
    "start_time": "2023-06-04T13:26:19.417Z"
   },
   {
    "duration": 0,
    "start_time": "2023-06-04T13:26:19.418Z"
   },
   {
    "duration": 0,
    "start_time": "2023-06-04T13:26:19.418Z"
   },
   {
    "duration": 0,
    "start_time": "2023-06-04T13:26:19.419Z"
   },
   {
    "duration": 0,
    "start_time": "2023-06-04T13:26:19.423Z"
   },
   {
    "duration": 0,
    "start_time": "2023-06-04T13:26:19.425Z"
   },
   {
    "duration": 0,
    "start_time": "2023-06-04T13:26:19.427Z"
   },
   {
    "duration": 0,
    "start_time": "2023-06-04T13:26:19.428Z"
   },
   {
    "duration": 0,
    "start_time": "2023-06-04T13:26:19.429Z"
   },
   {
    "duration": 0,
    "start_time": "2023-06-04T13:26:19.430Z"
   },
   {
    "duration": 0,
    "start_time": "2023-06-04T13:26:19.432Z"
   },
   {
    "duration": 0,
    "start_time": "2023-06-04T13:26:19.433Z"
   },
   {
    "duration": 0,
    "start_time": "2023-06-04T13:26:19.434Z"
   },
   {
    "duration": 0,
    "start_time": "2023-06-04T13:26:19.435Z"
   },
   {
    "duration": 0,
    "start_time": "2023-06-04T13:26:19.436Z"
   },
   {
    "duration": 0,
    "start_time": "2023-06-04T13:26:19.438Z"
   },
   {
    "duration": 1,
    "start_time": "2023-06-04T13:26:19.438Z"
   },
   {
    "duration": 0,
    "start_time": "2023-06-04T13:26:19.440Z"
   },
   {
    "duration": 0,
    "start_time": "2023-06-04T13:26:19.441Z"
   },
   {
    "duration": 0,
    "start_time": "2023-06-04T13:26:19.442Z"
   },
   {
    "duration": 0,
    "start_time": "2023-06-04T13:26:19.443Z"
   },
   {
    "duration": 0,
    "start_time": "2023-06-04T13:26:19.477Z"
   },
   {
    "duration": 0,
    "start_time": "2023-06-04T13:26:19.478Z"
   },
   {
    "duration": 0,
    "start_time": "2023-06-04T13:26:19.479Z"
   },
   {
    "duration": 0,
    "start_time": "2023-06-04T13:26:19.481Z"
   },
   {
    "duration": 5352,
    "start_time": "2023-06-04T13:27:47.049Z"
   },
   {
    "duration": 49,
    "start_time": "2023-06-04T13:27:55.720Z"
   },
   {
    "duration": 1922678,
    "start_time": "2023-06-04T13:27:59.312Z"
   },
   {
    "duration": 1711,
    "start_time": "2023-06-04T14:00:32.923Z"
   },
   {
    "duration": 6,
    "start_time": "2023-06-04T14:00:34.636Z"
   },
   {
    "duration": 912,
    "start_time": "2023-06-04T14:00:34.644Z"
   },
   {
    "duration": 27,
    "start_time": "2023-06-04T14:00:35.558Z"
   },
   {
    "duration": 357,
    "start_time": "2023-06-04T14:00:35.590Z"
   },
   {
    "duration": 154,
    "start_time": "2023-06-04T14:00:35.949Z"
   },
   {
    "duration": 4,
    "start_time": "2023-06-04T14:00:36.105Z"
   },
   {
    "duration": 5338,
    "start_time": "2023-06-04T14:00:36.111Z"
   },
   {
    "duration": 9,
    "start_time": "2023-06-04T14:00:41.451Z"
   },
   {
    "duration": 16,
    "start_time": "2023-06-04T14:00:41.463Z"
   },
   {
    "duration": 30,
    "start_time": "2023-06-04T14:00:41.484Z"
   },
   {
    "duration": 388,
    "start_time": "2023-06-04T14:00:41.516Z"
   },
   {
    "duration": 0,
    "start_time": "2023-06-04T14:00:41.906Z"
   },
   {
    "duration": 0,
    "start_time": "2023-06-04T14:00:41.908Z"
   },
   {
    "duration": 0,
    "start_time": "2023-06-04T14:00:41.909Z"
   },
   {
    "duration": 0,
    "start_time": "2023-06-04T14:00:41.910Z"
   },
   {
    "duration": 0,
    "start_time": "2023-06-04T14:00:41.911Z"
   },
   {
    "duration": 0,
    "start_time": "2023-06-04T14:00:41.912Z"
   },
   {
    "duration": 0,
    "start_time": "2023-06-04T14:00:41.913Z"
   },
   {
    "duration": 0,
    "start_time": "2023-06-04T14:00:41.914Z"
   },
   {
    "duration": 0,
    "start_time": "2023-06-04T14:00:41.915Z"
   },
   {
    "duration": 0,
    "start_time": "2023-06-04T14:00:41.916Z"
   },
   {
    "duration": 0,
    "start_time": "2023-06-04T14:00:41.917Z"
   },
   {
    "duration": 0,
    "start_time": "2023-06-04T14:00:41.918Z"
   },
   {
    "duration": 0,
    "start_time": "2023-06-04T14:00:41.919Z"
   },
   {
    "duration": 0,
    "start_time": "2023-06-04T14:00:41.920Z"
   },
   {
    "duration": 0,
    "start_time": "2023-06-04T14:00:41.921Z"
   },
   {
    "duration": 0,
    "start_time": "2023-06-04T14:00:41.922Z"
   },
   {
    "duration": 0,
    "start_time": "2023-06-04T14:00:41.922Z"
   },
   {
    "duration": 0,
    "start_time": "2023-06-04T14:00:41.923Z"
   },
   {
    "duration": 0,
    "start_time": "2023-06-04T14:00:41.924Z"
   },
   {
    "duration": 0,
    "start_time": "2023-06-04T14:00:41.925Z"
   },
   {
    "duration": 0,
    "start_time": "2023-06-04T14:00:41.926Z"
   },
   {
    "duration": 0,
    "start_time": "2023-06-04T14:00:41.927Z"
   },
   {
    "duration": 0,
    "start_time": "2023-06-04T14:00:41.928Z"
   },
   {
    "duration": 0,
    "start_time": "2023-06-04T14:00:41.929Z"
   },
   {
    "duration": 0,
    "start_time": "2023-06-04T14:00:41.930Z"
   },
   {
    "duration": 0,
    "start_time": "2023-06-04T14:00:41.931Z"
   },
   {
    "duration": 0,
    "start_time": "2023-06-04T14:00:41.932Z"
   },
   {
    "duration": 1702,
    "start_time": "2023-06-04T14:01:17.506Z"
   },
   {
    "duration": 5,
    "start_time": "2023-06-04T14:01:19.211Z"
   },
   {
    "duration": 943,
    "start_time": "2023-06-04T14:01:19.218Z"
   },
   {
    "duration": 15,
    "start_time": "2023-06-04T14:01:20.163Z"
   },
   {
    "duration": 392,
    "start_time": "2023-06-04T14:01:20.180Z"
   },
   {
    "duration": 132,
    "start_time": "2023-06-04T14:01:20.579Z"
   },
   {
    "duration": 4,
    "start_time": "2023-06-04T14:01:20.713Z"
   },
   {
    "duration": 5401,
    "start_time": "2023-06-04T14:01:20.719Z"
   },
   {
    "duration": 9,
    "start_time": "2023-06-04T14:01:26.123Z"
   },
   {
    "duration": 11,
    "start_time": "2023-06-04T14:01:26.134Z"
   },
   {
    "duration": 10,
    "start_time": "2023-06-04T14:01:26.146Z"
   },
   {
    "duration": 1295405,
    "start_time": "2023-06-04T14:01:26.157Z"
   },
   {
    "duration": 33,
    "start_time": "2023-06-04T14:23:01.564Z"
   },
   {
    "duration": 35,
    "start_time": "2023-06-04T14:23:01.601Z"
   },
   {
    "duration": 103,
    "start_time": "2023-06-04T14:23:01.639Z"
   },
   {
    "duration": 5,
    "start_time": "2023-06-04T14:23:01.743Z"
   },
   {
    "duration": 61,
    "start_time": "2023-06-04T14:23:01.750Z"
   },
   {
    "duration": 42,
    "start_time": "2023-06-04T14:23:01.812Z"
   },
   {
    "duration": 6608,
    "start_time": "2023-06-04T14:23:01.857Z"
   },
   {
    "duration": 692,
    "start_time": "2023-06-04T14:23:08.467Z"
   },
   {
    "duration": 3,
    "start_time": "2023-06-04T14:23:09.160Z"
   },
   {
    "duration": 183945,
    "start_time": "2023-06-04T14:23:09.165Z"
   },
   {
    "duration": 4,
    "start_time": "2023-06-04T14:26:13.111Z"
   },
   {
    "duration": 9,
    "start_time": "2023-06-04T14:26:13.116Z"
   },
   {
    "duration": 95168,
    "start_time": "2023-06-04T14:26:13.127Z"
   },
   {
    "duration": 4,
    "start_time": "2023-06-04T14:27:48.304Z"
   },
   {
    "duration": 7,
    "start_time": "2023-06-04T14:27:48.309Z"
   },
   {
    "duration": 37251,
    "start_time": "2023-06-04T14:27:48.317Z"
   },
   {
    "duration": 3,
    "start_time": "2023-06-04T14:28:25.570Z"
   },
   {
    "duration": 31,
    "start_time": "2023-06-04T14:28:25.577Z"
   },
   {
    "duration": 910357,
    "start_time": "2023-06-04T14:28:25.610Z"
   },
   {
    "duration": 4,
    "start_time": "2023-06-04T14:43:35.969Z"
   },
   {
    "duration": 34,
    "start_time": "2023-06-04T14:43:35.977Z"
   },
   {
    "duration": 36,
    "start_time": "2023-06-04T14:43:36.012Z"
   },
   {
    "duration": 1884,
    "start_time": "2023-06-04T15:56:50.530Z"
   },
   {
    "duration": 5,
    "start_time": "2023-06-04T15:56:52.416Z"
   },
   {
    "duration": 932,
    "start_time": "2023-06-04T15:56:52.424Z"
   },
   {
    "duration": 34,
    "start_time": "2023-06-04T15:56:53.359Z"
   },
   {
    "duration": 376,
    "start_time": "2023-06-04T15:56:53.395Z"
   },
   {
    "duration": 143,
    "start_time": "2023-06-04T15:56:53.776Z"
   },
   {
    "duration": 4,
    "start_time": "2023-06-04T15:56:53.921Z"
   },
   {
    "duration": 5983,
    "start_time": "2023-06-04T15:56:53.926Z"
   },
   {
    "duration": 16,
    "start_time": "2023-06-04T15:56:59.915Z"
   },
   {
    "duration": 12,
    "start_time": "2023-06-04T15:56:59.935Z"
   },
   {
    "duration": 10,
    "start_time": "2023-06-04T15:56:59.949Z"
   },
   {
    "duration": 1367608,
    "start_time": "2023-06-04T15:56:59.961Z"
   },
   {
    "duration": 24,
    "start_time": "2023-06-04T16:19:47.580Z"
   },
   {
    "duration": 4,
    "start_time": "2023-06-04T16:19:47.606Z"
   },
   {
    "duration": 44,
    "start_time": "2023-06-04T16:19:47.612Z"
   },
   {
    "duration": 5,
    "start_time": "2023-06-04T16:19:47.658Z"
   },
   {
    "duration": 42,
    "start_time": "2023-06-04T16:19:47.665Z"
   },
   {
    "duration": 18,
    "start_time": "2023-06-04T16:19:47.710Z"
   },
   {
    "duration": 6535,
    "start_time": "2023-06-04T16:19:47.730Z"
   },
   {
    "duration": 702,
    "start_time": "2023-06-04T16:19:54.266Z"
   },
   {
    "duration": 29,
    "start_time": "2023-06-04T16:19:54.970Z"
   },
   {
    "duration": 186743,
    "start_time": "2023-06-04T16:19:55.001Z"
   },
   {
    "duration": 5,
    "start_time": "2023-06-04T16:23:01.747Z"
   },
   {
    "duration": 296,
    "start_time": "2023-06-04T16:23:01.754Z"
   },
   {
    "duration": 95457,
    "start_time": "2023-06-04T16:23:02.053Z"
   },
   {
    "duration": 3,
    "start_time": "2023-06-04T16:24:37.512Z"
   },
   {
    "duration": 10,
    "start_time": "2023-06-04T16:24:37.517Z"
   },
   {
    "duration": 34003,
    "start_time": "2023-06-04T16:24:37.530Z"
   },
   {
    "duration": 4,
    "start_time": "2023-06-04T16:25:11.535Z"
   },
   {
    "duration": 30,
    "start_time": "2023-06-04T16:25:11.540Z"
   },
   {
    "duration": 914633,
    "start_time": "2023-06-04T16:25:11.572Z"
   },
   {
    "duration": 5,
    "start_time": "2023-06-04T16:40:26.207Z"
   },
   {
    "duration": 10,
    "start_time": "2023-06-04T16:40:26.214Z"
   },
   {
    "duration": 36,
    "start_time": "2023-06-04T16:40:26.226Z"
   },
   {
    "duration": 1828,
    "start_time": "2023-06-04T17:19:19.710Z"
   },
   {
    "duration": 6,
    "start_time": "2023-06-04T17:19:21.541Z"
   },
   {
    "duration": 954,
    "start_time": "2023-06-04T17:19:21.549Z"
   },
   {
    "duration": 17,
    "start_time": "2023-06-04T17:19:22.510Z"
   },
   {
    "duration": 408,
    "start_time": "2023-06-04T17:19:22.529Z"
   },
   {
    "duration": 155,
    "start_time": "2023-06-04T17:19:22.938Z"
   },
   {
    "duration": 8,
    "start_time": "2023-06-04T17:19:23.100Z"
   },
   {
    "duration": 6019,
    "start_time": "2023-06-04T17:19:23.109Z"
   },
   {
    "duration": 12,
    "start_time": "2023-06-04T17:19:29.131Z"
   },
   {
    "duration": 8,
    "start_time": "2023-06-04T17:19:29.147Z"
   },
   {
    "duration": 20,
    "start_time": "2023-06-04T17:19:29.157Z"
   },
   {
    "duration": 1584315,
    "start_time": "2023-06-04T17:19:29.178Z"
   },
   {
    "duration": 13,
    "start_time": "2023-06-04T17:45:53.496Z"
   },
   {
    "duration": 13,
    "start_time": "2023-06-04T17:45:53.510Z"
   },
   {
    "duration": 31,
    "start_time": "2023-06-04T17:45:53.525Z"
   },
   {
    "duration": 4,
    "start_time": "2023-06-04T17:45:53.558Z"
   },
   {
    "duration": 43,
    "start_time": "2023-06-04T17:45:53.564Z"
   },
   {
    "duration": 11,
    "start_time": "2023-06-04T17:45:53.612Z"
   },
   {
    "duration": 6942,
    "start_time": "2023-06-04T17:45:53.625Z"
   },
   {
    "duration": 757,
    "start_time": "2023-06-04T17:46:00.569Z"
   },
   {
    "duration": 3,
    "start_time": "2023-06-04T17:46:01.328Z"
   },
   {
    "duration": 178399,
    "start_time": "2023-06-04T17:46:01.332Z"
   },
   {
    "duration": 4,
    "start_time": "2023-06-04T17:48:59.733Z"
   },
   {
    "duration": 33,
    "start_time": "2023-06-04T17:48:59.738Z"
   },
   {
    "duration": 95735,
    "start_time": "2023-06-04T17:48:59.773Z"
   },
   {
    "duration": 4,
    "start_time": "2023-06-04T17:50:35.510Z"
   },
   {
    "duration": 7,
    "start_time": "2023-06-04T17:50:35.515Z"
   },
   {
    "duration": 42827,
    "start_time": "2023-06-04T17:50:35.525Z"
   },
   {
    "duration": 4,
    "start_time": "2023-06-04T17:51:18.354Z"
   },
   {
    "duration": 19,
    "start_time": "2023-06-04T17:51:18.359Z"
   },
   {
    "duration": 1013658,
    "start_time": "2023-06-04T17:51:18.379Z"
   },
   {
    "duration": 4,
    "start_time": "2023-06-04T18:08:12.039Z"
   },
   {
    "duration": 18,
    "start_time": "2023-06-04T18:08:12.045Z"
   },
   {
    "duration": 84,
    "start_time": "2023-06-04T18:08:12.065Z"
   },
   {
    "duration": 317,
    "start_time": "2023-06-04T18:08:12.151Z"
   },
   {
    "duration": 45,
    "start_time": "2023-06-04T18:08:12.470Z"
   },
   {
    "duration": 0,
    "start_time": "2023-06-04T18:08:12.524Z"
   },
   {
    "duration": 0,
    "start_time": "2023-06-04T18:08:12.524Z"
   },
   {
    "duration": 0,
    "start_time": "2023-06-04T18:08:12.525Z"
   },
   {
    "duration": 9,
    "start_time": "2023-06-04T18:31:00.073Z"
   },
   {
    "duration": 94,
    "start_time": "2023-06-04T18:36:12.860Z"
   },
   {
    "duration": 386103,
    "start_time": "2023-06-04T18:39:00.714Z"
   },
   {
    "duration": 5,
    "start_time": "2023-06-04T18:45:26.821Z"
   },
   {
    "duration": 71,
    "start_time": "2023-06-04T18:51:04.612Z"
   },
   {
    "duration": 65,
    "start_time": "2023-06-04T18:51:13.903Z"
   },
   {
    "duration": 101,
    "start_time": "2023-06-04T18:51:25.738Z"
   },
   {
    "duration": 82,
    "start_time": "2023-06-04T18:51:32.937Z"
   },
   {
    "duration": 121,
    "start_time": "2023-06-04T18:51:43.322Z"
   },
   {
    "duration": 88,
    "start_time": "2023-06-04T18:51:50.243Z"
   },
   {
    "duration": 215993,
    "start_time": "2023-06-04T18:51:55.708Z"
   },
   {
    "duration": 6,
    "start_time": "2023-06-04T18:55:31.708Z"
   },
   {
    "duration": 138,
    "start_time": "2023-06-04T18:59:55.436Z"
   },
   {
    "duration": 1431942,
    "start_time": "2023-06-04T19:03:23.262Z"
   },
   {
    "duration": 4,
    "start_time": "2023-06-04T19:27:15.207Z"
   },
   {
    "duration": 206,
    "start_time": "2023-06-04T19:27:15.212Z"
   },
   {
    "duration": 0,
    "start_time": "2023-06-04T19:27:15.419Z"
   },
   {
    "duration": 4,
    "start_time": "2023-06-04T19:27:19.784Z"
   },
   {
    "duration": 346026,
    "start_time": "2023-06-04T19:27:33.094Z"
   },
   {
    "duration": 4,
    "start_time": "2023-06-04T19:33:19.123Z"
   },
   {
    "duration": 13,
    "start_time": "2023-06-04T19:38:04.594Z"
   },
   {
    "duration": 16,
    "start_time": "2023-06-04T19:38:15.312Z"
   },
   {
    "duration": 19,
    "start_time": "2023-06-04T19:38:23.541Z"
   },
   {
    "duration": 5,
    "start_time": "2023-06-04T19:47:55.219Z"
   },
   {
    "duration": 7,
    "start_time": "2023-06-04T19:48:49.001Z"
   }
  ],
  "kernelspec": {
   "display_name": "Python 3 (ipykernel)",
   "language": "python",
   "name": "python3"
  },
  "language_info": {
   "codemirror_mode": {
    "name": "ipython",
    "version": 3
   },
   "file_extension": ".py",
   "mimetype": "text/x-python",
   "name": "python",
   "nbconvert_exporter": "python",
   "pygments_lexer": "ipython3",
   "version": "3.9.13"
  },
  "toc": {
   "base_numbering": 1,
   "nav_menu": {},
   "number_sections": true,
   "sideBar": true,
   "skip_h1_title": true,
   "title_cell": "Содержание",
   "title_sidebar": "Contents",
   "toc_cell": true,
   "toc_position": {
    "height": "calc(100% - 180px)",
    "left": "10px",
    "top": "150px",
    "width": "302.391px"
   },
   "toc_section_display": true,
   "toc_window_display": false
  }
 },
 "nbformat": 4,
 "nbformat_minor": 2
}
