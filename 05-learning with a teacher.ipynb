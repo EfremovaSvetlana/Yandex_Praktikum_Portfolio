{
 "cells": [
  {
   "cell_type": "markdown",
   "metadata": {
    "toc": true
   },
   "source": [
    "<h1>Содержание<span class=\"tocSkip\"></span></h1>\n",
    "<div class=\"toc\"><ul class=\"toc-item\"><li><span><a href=\"#Подготовка-данных\" data-toc-modified-id=\"Подготовка-данных-1\"><span class=\"toc-item-num\">1&nbsp;&nbsp;</span>Подготовка данных</a></span></li><li><span><a href=\"#Исследование-задачи\" data-toc-modified-id=\"Исследование-задачи-2\"><span class=\"toc-item-num\">2&nbsp;&nbsp;</span>Исследование задачи</a></span></li><li><span><a href=\"#Борьба-с-дисбалансом\" data-toc-modified-id=\"Борьба-с-дисбалансом-3\"><span class=\"toc-item-num\">3&nbsp;&nbsp;</span>Борьба с дисбалансом</a></span></li><li><span><a href=\"#Тестирование-модели\" data-toc-modified-id=\"Тестирование-модели-4\"><span class=\"toc-item-num\">4&nbsp;&nbsp;</span>Тестирование модели</a></span></li><li><span><a href=\"#Чек-лист-готовности-проекта\" data-toc-modified-id=\"Чек-лист-готовности-проекта-5\"><span class=\"toc-item-num\">5&nbsp;&nbsp;</span>Чек-лист готовности проекта</a></span></li></ul></div>"
   ]
  },
  {
   "cell_type": "markdown",
   "metadata": {},
   "source": [
    "# Отток клиентов"
   ]
  },
  {
   "cell_type": "markdown",
   "metadata": {},
   "source": [
    "Из «Бета-Банка» стали уходить клиенты. Каждый месяц. Немного, но заметно. Банковские маркетологи посчитали: сохранять текущих клиентов дешевле, чем привлекать новых.\n",
    "\n",
    "Нужно спрогнозировать, уйдёт клиент из банка в ближайшее время или нет. Вам предоставлены исторические данные о поведении клиентов и расторжении договоров с банком. \n",
    "\n",
    "Постройте модель с предельно большим значением *F1*-меры. Чтобы сдать проект успешно, нужно довести метрику до 0.59. Проверьте *F1*-меру на тестовой выборке самостоятельно.\n",
    "\n",
    "Дополнительно измеряйте *AUC-ROC*, сравнивайте её значение с *F1*-мерой.\n",
    "\n",
    "Источник данных: [https://www.kaggle.com/barelydedicated/bank-customer-churn-modeling](https://www.kaggle.com/barelydedicated/bank-customer-churn-modeling)"
   ]
  },
  {
   "cell_type": "markdown",
   "metadata": {},
   "source": [
    "## Подготовка данных"
   ]
  },
  {
   "cell_type": "markdown",
   "metadata": {},
   "source": [
    "**1.1 Импортируем необходимые библиотеки.**"
   ]
  },
  {
   "cell_type": "code",
   "execution_count": 1,
   "metadata": {},
   "outputs": [],
   "source": [
    "import pandas as pd\n",
    "import math\n",
    "import numpy as np\n",
    "import matplotlib.pyplot as plt\n",
    "from matplotlib.ticker import MultipleLocator\n",
    "import seaborn as sns\n",
    "\n",
    "from sklearn.tree import DecisionTreeClassifier\n",
    "from sklearn.ensemble import RandomForestClassifier\n",
    "from sklearn.linear_model import LogisticRegression\n",
    "\n",
    "from sklearn.preprocessing import StandardScaler\n",
    "from sklearn.model_selection import train_test_split\n",
    "from sklearn.preprocessing import OrdinalEncoder\n",
    "from sklearn.utils import shuffle\n",
    "from sklearn.dummy import DummyClassifier\n",
    "\n",
    "from sklearn.metrics import (f1_score,\n",
    "                             roc_auc_score,\n",
    "                             roc_curve,\n",
    "                             accuracy_score,\n",
    "                             confusion_matrix,\n",
    "                             recall_score,\n",
    "                             precision_score\n",
    "                            )\n",
    "\n",
    "import warnings\n",
    "warnings.filterwarnings(\"ignore\")"
   ]
  },
  {
   "cell_type": "markdown",
   "metadata": {},
   "source": [
    "**1.2 Пользовательские функции.**"
   ]
  },
  {
   "cell_type": "code",
   "execution_count": 2,
   "metadata": {},
   "outputs": [],
   "source": [
    "# Напишем функцию для первичной проверки данных\n",
    "\n",
    "def check_data(data_df):\n",
    "    print ('\\033[1m' + 'Изучим исходные данные'+ '\\033[0m')\n",
    "    print(data_df.info())\n",
    "    print(data_df.shape)\n",
    "        \n",
    "    missed_cells = data_df.isnull().sum().sum()/(data_df.shape[0]*(data_df.shape[1]-1))\n",
    "    missed_rows = sum(data_df.isnull().sum(axis = 1)>0)/data_df.shape[0]\n",
    "    print ('\\033[1m' + '\\nПроверка пропусков'+ '\\033[0m')\n",
    "    print ('Количество пропусков: {:.0f}'.format(data_df.isnull().sum().sum()))\n",
    "    print ('Доля пропусков: {:.1%}'.format(missed_cells)+ '\\033[0m')\n",
    "    print ('Доля строк содержащих пропуски: {:.1%}'.format(missed_rows))\n",
    "\n",
    "    ## Проверим дубликаты\n",
    "    \n",
    "    print ('\\033[1m' + '\\nПроверка на дубликаты'+ '\\033[0m')\n",
    "    print('Количество полных дубликатов: ', data_df.duplicated().sum())\n",
    "        \n",
    "    ## Посмотрим на сами данные\n",
    "    \n",
    "    print ('\\033[1m' + '\\nПервые пять строк датасета'+ '\\033[0m')\n",
    "    display(data_df.head())\n",
    "    \n",
    "    print('\\033[1m' + '\\nОписание количественных данных:'+ '\\033[0m')\n",
    "    display(data_df.describe().T)\n",
    "     \n",
    "    print('\\033[1m' + '\\nОписание категориальных данных:'+ '\\033[0m')\n",
    "    display(data_df.describe(include='object').T) \n",
    "    \n",
    "    \n",
    "    print('\\033[1m' + '\\nВывод уникальных значений по каждому категориаьному признаку:'+ '\\033[0m')    \n",
    "    df_object = data_df.select_dtypes(include='object').columns\n",
    "    \n",
    "    for i in df_object:\n",
    "        print('\\033[1m' + '_'+ str(i) + '\\033[0m')\n",
    "        display(data_df[i].value_counts())"
   ]
  },
  {
   "cell_type": "markdown",
   "metadata": {},
   "source": [
    "**1.3 Загрузим данные.**"
   ]
  },
  {
   "cell_type": "code",
   "execution_count": 3,
   "metadata": {},
   "outputs": [],
   "source": [
    "df = pd.read_csv('/datasets/Churn.csv')"
   ]
  },
  {
   "cell_type": "code",
   "execution_count": 4,
   "metadata": {},
   "outputs": [
    {
     "data": {
      "text/html": [
       "<div>\n",
       "<style scoped>\n",
       "    .dataframe tbody tr th:only-of-type {\n",
       "        vertical-align: middle;\n",
       "    }\n",
       "\n",
       "    .dataframe tbody tr th {\n",
       "        vertical-align: top;\n",
       "    }\n",
       "\n",
       "    .dataframe thead th {\n",
       "        text-align: right;\n",
       "    }\n",
       "</style>\n",
       "<table border=\"1\" class=\"dataframe\">\n",
       "  <thead>\n",
       "    <tr style=\"text-align: right;\">\n",
       "      <th></th>\n",
       "      <th>RowNumber</th>\n",
       "      <th>CustomerId</th>\n",
       "      <th>Surname</th>\n",
       "      <th>CreditScore</th>\n",
       "      <th>Geography</th>\n",
       "      <th>Gender</th>\n",
       "      <th>Age</th>\n",
       "      <th>Tenure</th>\n",
       "      <th>Balance</th>\n",
       "      <th>NumOfProducts</th>\n",
       "      <th>HasCrCard</th>\n",
       "      <th>IsActiveMember</th>\n",
       "      <th>EstimatedSalary</th>\n",
       "      <th>Exited</th>\n",
       "    </tr>\n",
       "  </thead>\n",
       "  <tbody>\n",
       "    <tr>\n",
       "      <th>0</th>\n",
       "      <td>1</td>\n",
       "      <td>15634602</td>\n",
       "      <td>Hargrave</td>\n",
       "      <td>619</td>\n",
       "      <td>France</td>\n",
       "      <td>Female</td>\n",
       "      <td>42</td>\n",
       "      <td>2.0</td>\n",
       "      <td>0.00</td>\n",
       "      <td>1</td>\n",
       "      <td>1</td>\n",
       "      <td>1</td>\n",
       "      <td>101348.88</td>\n",
       "      <td>1</td>\n",
       "    </tr>\n",
       "    <tr>\n",
       "      <th>1</th>\n",
       "      <td>2</td>\n",
       "      <td>15647311</td>\n",
       "      <td>Hill</td>\n",
       "      <td>608</td>\n",
       "      <td>Spain</td>\n",
       "      <td>Female</td>\n",
       "      <td>41</td>\n",
       "      <td>1.0</td>\n",
       "      <td>83807.86</td>\n",
       "      <td>1</td>\n",
       "      <td>0</td>\n",
       "      <td>1</td>\n",
       "      <td>112542.58</td>\n",
       "      <td>0</td>\n",
       "    </tr>\n",
       "    <tr>\n",
       "      <th>2</th>\n",
       "      <td>3</td>\n",
       "      <td>15619304</td>\n",
       "      <td>Onio</td>\n",
       "      <td>502</td>\n",
       "      <td>France</td>\n",
       "      <td>Female</td>\n",
       "      <td>42</td>\n",
       "      <td>8.0</td>\n",
       "      <td>159660.80</td>\n",
       "      <td>3</td>\n",
       "      <td>1</td>\n",
       "      <td>0</td>\n",
       "      <td>113931.57</td>\n",
       "      <td>1</td>\n",
       "    </tr>\n",
       "    <tr>\n",
       "      <th>3</th>\n",
       "      <td>4</td>\n",
       "      <td>15701354</td>\n",
       "      <td>Boni</td>\n",
       "      <td>699</td>\n",
       "      <td>France</td>\n",
       "      <td>Female</td>\n",
       "      <td>39</td>\n",
       "      <td>1.0</td>\n",
       "      <td>0.00</td>\n",
       "      <td>2</td>\n",
       "      <td>0</td>\n",
       "      <td>0</td>\n",
       "      <td>93826.63</td>\n",
       "      <td>0</td>\n",
       "    </tr>\n",
       "    <tr>\n",
       "      <th>4</th>\n",
       "      <td>5</td>\n",
       "      <td>15737888</td>\n",
       "      <td>Mitchell</td>\n",
       "      <td>850</td>\n",
       "      <td>Spain</td>\n",
       "      <td>Female</td>\n",
       "      <td>43</td>\n",
       "      <td>2.0</td>\n",
       "      <td>125510.82</td>\n",
       "      <td>1</td>\n",
       "      <td>1</td>\n",
       "      <td>1</td>\n",
       "      <td>79084.10</td>\n",
       "      <td>0</td>\n",
       "    </tr>\n",
       "    <tr>\n",
       "      <th>...</th>\n",
       "      <td>...</td>\n",
       "      <td>...</td>\n",
       "      <td>...</td>\n",
       "      <td>...</td>\n",
       "      <td>...</td>\n",
       "      <td>...</td>\n",
       "      <td>...</td>\n",
       "      <td>...</td>\n",
       "      <td>...</td>\n",
       "      <td>...</td>\n",
       "      <td>...</td>\n",
       "      <td>...</td>\n",
       "      <td>...</td>\n",
       "      <td>...</td>\n",
       "    </tr>\n",
       "    <tr>\n",
       "      <th>9995</th>\n",
       "      <td>9996</td>\n",
       "      <td>15606229</td>\n",
       "      <td>Obijiaku</td>\n",
       "      <td>771</td>\n",
       "      <td>France</td>\n",
       "      <td>Male</td>\n",
       "      <td>39</td>\n",
       "      <td>5.0</td>\n",
       "      <td>0.00</td>\n",
       "      <td>2</td>\n",
       "      <td>1</td>\n",
       "      <td>0</td>\n",
       "      <td>96270.64</td>\n",
       "      <td>0</td>\n",
       "    </tr>\n",
       "    <tr>\n",
       "      <th>9996</th>\n",
       "      <td>9997</td>\n",
       "      <td>15569892</td>\n",
       "      <td>Johnstone</td>\n",
       "      <td>516</td>\n",
       "      <td>France</td>\n",
       "      <td>Male</td>\n",
       "      <td>35</td>\n",
       "      <td>10.0</td>\n",
       "      <td>57369.61</td>\n",
       "      <td>1</td>\n",
       "      <td>1</td>\n",
       "      <td>1</td>\n",
       "      <td>101699.77</td>\n",
       "      <td>0</td>\n",
       "    </tr>\n",
       "    <tr>\n",
       "      <th>9997</th>\n",
       "      <td>9998</td>\n",
       "      <td>15584532</td>\n",
       "      <td>Liu</td>\n",
       "      <td>709</td>\n",
       "      <td>France</td>\n",
       "      <td>Female</td>\n",
       "      <td>36</td>\n",
       "      <td>7.0</td>\n",
       "      <td>0.00</td>\n",
       "      <td>1</td>\n",
       "      <td>0</td>\n",
       "      <td>1</td>\n",
       "      <td>42085.58</td>\n",
       "      <td>1</td>\n",
       "    </tr>\n",
       "    <tr>\n",
       "      <th>9998</th>\n",
       "      <td>9999</td>\n",
       "      <td>15682355</td>\n",
       "      <td>Sabbatini</td>\n",
       "      <td>772</td>\n",
       "      <td>Germany</td>\n",
       "      <td>Male</td>\n",
       "      <td>42</td>\n",
       "      <td>3.0</td>\n",
       "      <td>75075.31</td>\n",
       "      <td>2</td>\n",
       "      <td>1</td>\n",
       "      <td>0</td>\n",
       "      <td>92888.52</td>\n",
       "      <td>1</td>\n",
       "    </tr>\n",
       "    <tr>\n",
       "      <th>9999</th>\n",
       "      <td>10000</td>\n",
       "      <td>15628319</td>\n",
       "      <td>Walker</td>\n",
       "      <td>792</td>\n",
       "      <td>France</td>\n",
       "      <td>Female</td>\n",
       "      <td>28</td>\n",
       "      <td>NaN</td>\n",
       "      <td>130142.79</td>\n",
       "      <td>1</td>\n",
       "      <td>1</td>\n",
       "      <td>0</td>\n",
       "      <td>38190.78</td>\n",
       "      <td>0</td>\n",
       "    </tr>\n",
       "  </tbody>\n",
       "</table>\n",
       "<p>10000 rows × 14 columns</p>\n",
       "</div>"
      ],
      "text/plain": [
       "      RowNumber  CustomerId    Surname  CreditScore Geography  Gender  Age  \\\n",
       "0             1    15634602   Hargrave          619    France  Female   42   \n",
       "1             2    15647311       Hill          608     Spain  Female   41   \n",
       "2             3    15619304       Onio          502    France  Female   42   \n",
       "3             4    15701354       Boni          699    France  Female   39   \n",
       "4             5    15737888   Mitchell          850     Spain  Female   43   \n",
       "...         ...         ...        ...          ...       ...     ...  ...   \n",
       "9995       9996    15606229   Obijiaku          771    France    Male   39   \n",
       "9996       9997    15569892  Johnstone          516    France    Male   35   \n",
       "9997       9998    15584532        Liu          709    France  Female   36   \n",
       "9998       9999    15682355  Sabbatini          772   Germany    Male   42   \n",
       "9999      10000    15628319     Walker          792    France  Female   28   \n",
       "\n",
       "      Tenure    Balance  NumOfProducts  HasCrCard  IsActiveMember  \\\n",
       "0        2.0       0.00              1          1               1   \n",
       "1        1.0   83807.86              1          0               1   \n",
       "2        8.0  159660.80              3          1               0   \n",
       "3        1.0       0.00              2          0               0   \n",
       "4        2.0  125510.82              1          1               1   \n",
       "...      ...        ...            ...        ...             ...   \n",
       "9995     5.0       0.00              2          1               0   \n",
       "9996    10.0   57369.61              1          1               1   \n",
       "9997     7.0       0.00              1          0               1   \n",
       "9998     3.0   75075.31              2          1               0   \n",
       "9999     NaN  130142.79              1          1               0   \n",
       "\n",
       "      EstimatedSalary  Exited  \n",
       "0           101348.88       1  \n",
       "1           112542.58       0  \n",
       "2           113931.57       1  \n",
       "3            93826.63       0  \n",
       "4            79084.10       0  \n",
       "...               ...     ...  \n",
       "9995         96270.64       0  \n",
       "9996        101699.77       0  \n",
       "9997         42085.58       1  \n",
       "9998         92888.52       1  \n",
       "9999         38190.78       0  \n",
       "\n",
       "[10000 rows x 14 columns]"
      ]
     },
     "execution_count": 4,
     "metadata": {},
     "output_type": "execute_result"
    }
   ],
   "source": [
    "df"
   ]
  },
  {
   "cell_type": "markdown",
   "metadata": {},
   "source": [
    "**1.4 Первичный осмотр данных.**"
   ]
  },
  {
   "cell_type": "code",
   "execution_count": 5,
   "metadata": {},
   "outputs": [
    {
     "name": "stdout",
     "output_type": "stream",
     "text": [
      "\u001b[1mИзучим исходные данные\u001b[0m\n",
      "<class 'pandas.core.frame.DataFrame'>\n",
      "RangeIndex: 10000 entries, 0 to 9999\n",
      "Data columns (total 14 columns):\n",
      " #   Column           Non-Null Count  Dtype  \n",
      "---  ------           --------------  -----  \n",
      " 0   RowNumber        10000 non-null  int64  \n",
      " 1   CustomerId       10000 non-null  int64  \n",
      " 2   Surname          10000 non-null  object \n",
      " 3   CreditScore      10000 non-null  int64  \n",
      " 4   Geography        10000 non-null  object \n",
      " 5   Gender           10000 non-null  object \n",
      " 6   Age              10000 non-null  int64  \n",
      " 7   Tenure           9091 non-null   float64\n",
      " 8   Balance          10000 non-null  float64\n",
      " 9   NumOfProducts    10000 non-null  int64  \n",
      " 10  HasCrCard        10000 non-null  int64  \n",
      " 11  IsActiveMember   10000 non-null  int64  \n",
      " 12  EstimatedSalary  10000 non-null  float64\n",
      " 13  Exited           10000 non-null  int64  \n",
      "dtypes: float64(3), int64(8), object(3)\n",
      "memory usage: 1.1+ MB\n",
      "None\n",
      "(10000, 14)\n",
      "\u001b[1m\n",
      "Проверка пропусков\u001b[0m\n",
      "Количество пропусков: 909\n",
      "Доля пропусков: 0.7%\u001b[0m\n",
      "Доля строк содержащих пропуски: 9.1%\n",
      "\u001b[1m\n",
      "Проверка на дубликаты\u001b[0m\n",
      "Количество полных дубликатов:  0\n",
      "\u001b[1m\n",
      "Первые пять строк датасета\u001b[0m\n"
     ]
    },
    {
     "data": {
      "text/html": [
       "<div>\n",
       "<style scoped>\n",
       "    .dataframe tbody tr th:only-of-type {\n",
       "        vertical-align: middle;\n",
       "    }\n",
       "\n",
       "    .dataframe tbody tr th {\n",
       "        vertical-align: top;\n",
       "    }\n",
       "\n",
       "    .dataframe thead th {\n",
       "        text-align: right;\n",
       "    }\n",
       "</style>\n",
       "<table border=\"1\" class=\"dataframe\">\n",
       "  <thead>\n",
       "    <tr style=\"text-align: right;\">\n",
       "      <th></th>\n",
       "      <th>RowNumber</th>\n",
       "      <th>CustomerId</th>\n",
       "      <th>Surname</th>\n",
       "      <th>CreditScore</th>\n",
       "      <th>Geography</th>\n",
       "      <th>Gender</th>\n",
       "      <th>Age</th>\n",
       "      <th>Tenure</th>\n",
       "      <th>Balance</th>\n",
       "      <th>NumOfProducts</th>\n",
       "      <th>HasCrCard</th>\n",
       "      <th>IsActiveMember</th>\n",
       "      <th>EstimatedSalary</th>\n",
       "      <th>Exited</th>\n",
       "    </tr>\n",
       "  </thead>\n",
       "  <tbody>\n",
       "    <tr>\n",
       "      <th>0</th>\n",
       "      <td>1</td>\n",
       "      <td>15634602</td>\n",
       "      <td>Hargrave</td>\n",
       "      <td>619</td>\n",
       "      <td>France</td>\n",
       "      <td>Female</td>\n",
       "      <td>42</td>\n",
       "      <td>2.0</td>\n",
       "      <td>0.00</td>\n",
       "      <td>1</td>\n",
       "      <td>1</td>\n",
       "      <td>1</td>\n",
       "      <td>101348.88</td>\n",
       "      <td>1</td>\n",
       "    </tr>\n",
       "    <tr>\n",
       "      <th>1</th>\n",
       "      <td>2</td>\n",
       "      <td>15647311</td>\n",
       "      <td>Hill</td>\n",
       "      <td>608</td>\n",
       "      <td>Spain</td>\n",
       "      <td>Female</td>\n",
       "      <td>41</td>\n",
       "      <td>1.0</td>\n",
       "      <td>83807.86</td>\n",
       "      <td>1</td>\n",
       "      <td>0</td>\n",
       "      <td>1</td>\n",
       "      <td>112542.58</td>\n",
       "      <td>0</td>\n",
       "    </tr>\n",
       "    <tr>\n",
       "      <th>2</th>\n",
       "      <td>3</td>\n",
       "      <td>15619304</td>\n",
       "      <td>Onio</td>\n",
       "      <td>502</td>\n",
       "      <td>France</td>\n",
       "      <td>Female</td>\n",
       "      <td>42</td>\n",
       "      <td>8.0</td>\n",
       "      <td>159660.80</td>\n",
       "      <td>3</td>\n",
       "      <td>1</td>\n",
       "      <td>0</td>\n",
       "      <td>113931.57</td>\n",
       "      <td>1</td>\n",
       "    </tr>\n",
       "    <tr>\n",
       "      <th>3</th>\n",
       "      <td>4</td>\n",
       "      <td>15701354</td>\n",
       "      <td>Boni</td>\n",
       "      <td>699</td>\n",
       "      <td>France</td>\n",
       "      <td>Female</td>\n",
       "      <td>39</td>\n",
       "      <td>1.0</td>\n",
       "      <td>0.00</td>\n",
       "      <td>2</td>\n",
       "      <td>0</td>\n",
       "      <td>0</td>\n",
       "      <td>93826.63</td>\n",
       "      <td>0</td>\n",
       "    </tr>\n",
       "    <tr>\n",
       "      <th>4</th>\n",
       "      <td>5</td>\n",
       "      <td>15737888</td>\n",
       "      <td>Mitchell</td>\n",
       "      <td>850</td>\n",
       "      <td>Spain</td>\n",
       "      <td>Female</td>\n",
       "      <td>43</td>\n",
       "      <td>2.0</td>\n",
       "      <td>125510.82</td>\n",
       "      <td>1</td>\n",
       "      <td>1</td>\n",
       "      <td>1</td>\n",
       "      <td>79084.10</td>\n",
       "      <td>0</td>\n",
       "    </tr>\n",
       "  </tbody>\n",
       "</table>\n",
       "</div>"
      ],
      "text/plain": [
       "   RowNumber  CustomerId   Surname  CreditScore Geography  Gender  Age  \\\n",
       "0          1    15634602  Hargrave          619    France  Female   42   \n",
       "1          2    15647311      Hill          608     Spain  Female   41   \n",
       "2          3    15619304      Onio          502    France  Female   42   \n",
       "3          4    15701354      Boni          699    France  Female   39   \n",
       "4          5    15737888  Mitchell          850     Spain  Female   43   \n",
       "\n",
       "   Tenure    Balance  NumOfProducts  HasCrCard  IsActiveMember  \\\n",
       "0     2.0       0.00              1          1               1   \n",
       "1     1.0   83807.86              1          0               1   \n",
       "2     8.0  159660.80              3          1               0   \n",
       "3     1.0       0.00              2          0               0   \n",
       "4     2.0  125510.82              1          1               1   \n",
       "\n",
       "   EstimatedSalary  Exited  \n",
       "0        101348.88       1  \n",
       "1        112542.58       0  \n",
       "2        113931.57       1  \n",
       "3         93826.63       0  \n",
       "4         79084.10       0  "
      ]
     },
     "metadata": {},
     "output_type": "display_data"
    },
    {
     "name": "stdout",
     "output_type": "stream",
     "text": [
      "\u001b[1m\n",
      "Описание количественных данных:\u001b[0m\n"
     ]
    },
    {
     "data": {
      "text/html": [
       "<div>\n",
       "<style scoped>\n",
       "    .dataframe tbody tr th:only-of-type {\n",
       "        vertical-align: middle;\n",
       "    }\n",
       "\n",
       "    .dataframe tbody tr th {\n",
       "        vertical-align: top;\n",
       "    }\n",
       "\n",
       "    .dataframe thead th {\n",
       "        text-align: right;\n",
       "    }\n",
       "</style>\n",
       "<table border=\"1\" class=\"dataframe\">\n",
       "  <thead>\n",
       "    <tr style=\"text-align: right;\">\n",
       "      <th></th>\n",
       "      <th>count</th>\n",
       "      <th>mean</th>\n",
       "      <th>std</th>\n",
       "      <th>min</th>\n",
       "      <th>25%</th>\n",
       "      <th>50%</th>\n",
       "      <th>75%</th>\n",
       "      <th>max</th>\n",
       "    </tr>\n",
       "  </thead>\n",
       "  <tbody>\n",
       "    <tr>\n",
       "      <th>RowNumber</th>\n",
       "      <td>10000.0</td>\n",
       "      <td>5.000500e+03</td>\n",
       "      <td>2886.895680</td>\n",
       "      <td>1.00</td>\n",
       "      <td>2500.75</td>\n",
       "      <td>5.000500e+03</td>\n",
       "      <td>7.500250e+03</td>\n",
       "      <td>10000.00</td>\n",
       "    </tr>\n",
       "    <tr>\n",
       "      <th>CustomerId</th>\n",
       "      <td>10000.0</td>\n",
       "      <td>1.569094e+07</td>\n",
       "      <td>71936.186123</td>\n",
       "      <td>15565701.00</td>\n",
       "      <td>15628528.25</td>\n",
       "      <td>1.569074e+07</td>\n",
       "      <td>1.575323e+07</td>\n",
       "      <td>15815690.00</td>\n",
       "    </tr>\n",
       "    <tr>\n",
       "      <th>CreditScore</th>\n",
       "      <td>10000.0</td>\n",
       "      <td>6.505288e+02</td>\n",
       "      <td>96.653299</td>\n",
       "      <td>350.00</td>\n",
       "      <td>584.00</td>\n",
       "      <td>6.520000e+02</td>\n",
       "      <td>7.180000e+02</td>\n",
       "      <td>850.00</td>\n",
       "    </tr>\n",
       "    <tr>\n",
       "      <th>Age</th>\n",
       "      <td>10000.0</td>\n",
       "      <td>3.892180e+01</td>\n",
       "      <td>10.487806</td>\n",
       "      <td>18.00</td>\n",
       "      <td>32.00</td>\n",
       "      <td>3.700000e+01</td>\n",
       "      <td>4.400000e+01</td>\n",
       "      <td>92.00</td>\n",
       "    </tr>\n",
       "    <tr>\n",
       "      <th>Tenure</th>\n",
       "      <td>9091.0</td>\n",
       "      <td>4.997690e+00</td>\n",
       "      <td>2.894723</td>\n",
       "      <td>0.00</td>\n",
       "      <td>2.00</td>\n",
       "      <td>5.000000e+00</td>\n",
       "      <td>7.000000e+00</td>\n",
       "      <td>10.00</td>\n",
       "    </tr>\n",
       "    <tr>\n",
       "      <th>Balance</th>\n",
       "      <td>10000.0</td>\n",
       "      <td>7.648589e+04</td>\n",
       "      <td>62397.405202</td>\n",
       "      <td>0.00</td>\n",
       "      <td>0.00</td>\n",
       "      <td>9.719854e+04</td>\n",
       "      <td>1.276442e+05</td>\n",
       "      <td>250898.09</td>\n",
       "    </tr>\n",
       "    <tr>\n",
       "      <th>NumOfProducts</th>\n",
       "      <td>10000.0</td>\n",
       "      <td>1.530200e+00</td>\n",
       "      <td>0.581654</td>\n",
       "      <td>1.00</td>\n",
       "      <td>1.00</td>\n",
       "      <td>1.000000e+00</td>\n",
       "      <td>2.000000e+00</td>\n",
       "      <td>4.00</td>\n",
       "    </tr>\n",
       "    <tr>\n",
       "      <th>HasCrCard</th>\n",
       "      <td>10000.0</td>\n",
       "      <td>7.055000e-01</td>\n",
       "      <td>0.455840</td>\n",
       "      <td>0.00</td>\n",
       "      <td>0.00</td>\n",
       "      <td>1.000000e+00</td>\n",
       "      <td>1.000000e+00</td>\n",
       "      <td>1.00</td>\n",
       "    </tr>\n",
       "    <tr>\n",
       "      <th>IsActiveMember</th>\n",
       "      <td>10000.0</td>\n",
       "      <td>5.151000e-01</td>\n",
       "      <td>0.499797</td>\n",
       "      <td>0.00</td>\n",
       "      <td>0.00</td>\n",
       "      <td>1.000000e+00</td>\n",
       "      <td>1.000000e+00</td>\n",
       "      <td>1.00</td>\n",
       "    </tr>\n",
       "    <tr>\n",
       "      <th>EstimatedSalary</th>\n",
       "      <td>10000.0</td>\n",
       "      <td>1.000902e+05</td>\n",
       "      <td>57510.492818</td>\n",
       "      <td>11.58</td>\n",
       "      <td>51002.11</td>\n",
       "      <td>1.001939e+05</td>\n",
       "      <td>1.493882e+05</td>\n",
       "      <td>199992.48</td>\n",
       "    </tr>\n",
       "    <tr>\n",
       "      <th>Exited</th>\n",
       "      <td>10000.0</td>\n",
       "      <td>2.037000e-01</td>\n",
       "      <td>0.402769</td>\n",
       "      <td>0.00</td>\n",
       "      <td>0.00</td>\n",
       "      <td>0.000000e+00</td>\n",
       "      <td>0.000000e+00</td>\n",
       "      <td>1.00</td>\n",
       "    </tr>\n",
       "  </tbody>\n",
       "</table>\n",
       "</div>"
      ],
      "text/plain": [
       "                   count          mean           std          min  \\\n",
       "RowNumber        10000.0  5.000500e+03   2886.895680         1.00   \n",
       "CustomerId       10000.0  1.569094e+07  71936.186123  15565701.00   \n",
       "CreditScore      10000.0  6.505288e+02     96.653299       350.00   \n",
       "Age              10000.0  3.892180e+01     10.487806        18.00   \n",
       "Tenure            9091.0  4.997690e+00      2.894723         0.00   \n",
       "Balance          10000.0  7.648589e+04  62397.405202         0.00   \n",
       "NumOfProducts    10000.0  1.530200e+00      0.581654         1.00   \n",
       "HasCrCard        10000.0  7.055000e-01      0.455840         0.00   \n",
       "IsActiveMember   10000.0  5.151000e-01      0.499797         0.00   \n",
       "EstimatedSalary  10000.0  1.000902e+05  57510.492818        11.58   \n",
       "Exited           10000.0  2.037000e-01      0.402769         0.00   \n",
       "\n",
       "                         25%           50%           75%          max  \n",
       "RowNumber            2500.75  5.000500e+03  7.500250e+03     10000.00  \n",
       "CustomerId       15628528.25  1.569074e+07  1.575323e+07  15815690.00  \n",
       "CreditScore           584.00  6.520000e+02  7.180000e+02       850.00  \n",
       "Age                    32.00  3.700000e+01  4.400000e+01        92.00  \n",
       "Tenure                  2.00  5.000000e+00  7.000000e+00        10.00  \n",
       "Balance                 0.00  9.719854e+04  1.276442e+05    250898.09  \n",
       "NumOfProducts           1.00  1.000000e+00  2.000000e+00         4.00  \n",
       "HasCrCard               0.00  1.000000e+00  1.000000e+00         1.00  \n",
       "IsActiveMember          0.00  1.000000e+00  1.000000e+00         1.00  \n",
       "EstimatedSalary     51002.11  1.001939e+05  1.493882e+05    199992.48  \n",
       "Exited                  0.00  0.000000e+00  0.000000e+00         1.00  "
      ]
     },
     "metadata": {},
     "output_type": "display_data"
    },
    {
     "name": "stdout",
     "output_type": "stream",
     "text": [
      "\u001b[1m\n",
      "Описание категориальных данных:\u001b[0m\n"
     ]
    },
    {
     "data": {
      "text/html": [
       "<div>\n",
       "<style scoped>\n",
       "    .dataframe tbody tr th:only-of-type {\n",
       "        vertical-align: middle;\n",
       "    }\n",
       "\n",
       "    .dataframe tbody tr th {\n",
       "        vertical-align: top;\n",
       "    }\n",
       "\n",
       "    .dataframe thead th {\n",
       "        text-align: right;\n",
       "    }\n",
       "</style>\n",
       "<table border=\"1\" class=\"dataframe\">\n",
       "  <thead>\n",
       "    <tr style=\"text-align: right;\">\n",
       "      <th></th>\n",
       "      <th>count</th>\n",
       "      <th>unique</th>\n",
       "      <th>top</th>\n",
       "      <th>freq</th>\n",
       "    </tr>\n",
       "  </thead>\n",
       "  <tbody>\n",
       "    <tr>\n",
       "      <th>Surname</th>\n",
       "      <td>10000</td>\n",
       "      <td>2932</td>\n",
       "      <td>Smith</td>\n",
       "      <td>32</td>\n",
       "    </tr>\n",
       "    <tr>\n",
       "      <th>Geography</th>\n",
       "      <td>10000</td>\n",
       "      <td>3</td>\n",
       "      <td>France</td>\n",
       "      <td>5014</td>\n",
       "    </tr>\n",
       "    <tr>\n",
       "      <th>Gender</th>\n",
       "      <td>10000</td>\n",
       "      <td>2</td>\n",
       "      <td>Male</td>\n",
       "      <td>5457</td>\n",
       "    </tr>\n",
       "  </tbody>\n",
       "</table>\n",
       "</div>"
      ],
      "text/plain": [
       "           count unique     top  freq\n",
       "Surname    10000   2932   Smith    32\n",
       "Geography  10000      3  France  5014\n",
       "Gender     10000      2    Male  5457"
      ]
     },
     "metadata": {},
     "output_type": "display_data"
    },
    {
     "name": "stdout",
     "output_type": "stream",
     "text": [
      "\u001b[1m\n",
      "Вывод уникальных значений по каждому категориаьному признаку:\u001b[0m\n",
      "\u001b[1m_Surname\u001b[0m\n"
     ]
    },
    {
     "data": {
      "text/plain": [
       "Smith            32\n",
       "Martin           29\n",
       "Scott            29\n",
       "Walker           28\n",
       "Brown            26\n",
       "                 ..\n",
       "Builder           1\n",
       "Milligan          1\n",
       "Flannery          1\n",
       "Sternberg         1\n",
       "Ugonnatubelum     1\n",
       "Name: Surname, Length: 2932, dtype: int64"
      ]
     },
     "metadata": {},
     "output_type": "display_data"
    },
    {
     "name": "stdout",
     "output_type": "stream",
     "text": [
      "\u001b[1m_Geography\u001b[0m\n"
     ]
    },
    {
     "data": {
      "text/plain": [
       "France     5014\n",
       "Germany    2509\n",
       "Spain      2477\n",
       "Name: Geography, dtype: int64"
      ]
     },
     "metadata": {},
     "output_type": "display_data"
    },
    {
     "name": "stdout",
     "output_type": "stream",
     "text": [
      "\u001b[1m_Gender\u001b[0m\n"
     ]
    },
    {
     "data": {
      "text/plain": [
       "Male      5457\n",
       "Female    4543\n",
       "Name: Gender, dtype: int64"
      ]
     },
     "metadata": {},
     "output_type": "display_data"
    }
   ],
   "source": [
    "# ОПИСАТЕЛЬНЫЙ АНАЛИЗ\n",
    "\n",
    "check_data(df)"
   ]
  },
  {
   "cell_type": "markdown",
   "metadata": {},
   "source": [
    "Вывод: \n",
    "- в таблице 10000 строк и 14 столбцов\n",
    "- столбец 'Tenure' имеет 909 пропусков;\n",
    "- дубликатов нет"
   ]
  },
  {
   "cell_type": "code",
   "execution_count": 6,
   "metadata": {},
   "outputs": [
    {
     "data": {
      "image/png": "[encoded data removed]",
      "text/plain": [
       "<Figure size 720x576 with 2 Axes>"
      ]
     },
     "metadata": {
      "needs_background": "light"
     },
     "output_type": "display_data"
    }
   ],
   "source": [
    "# Проверим на мультиколлинеарность \n",
    "\n",
    "plt.figure(figsize=(10, 8))\n",
    "plt.title('Корреляция признаков')\n",
    "sns.heatmap(df.corr(method='spearman'), annot = True, cmap=\"coolwarm\", annot_kws={'size':10}, fmt='.1g')\n",
    "plt.show()"
   ]
  },
  {
   "cell_type": "markdown",
   "metadata": {},
   "source": [
    "Вывод: сильной связи между признаками нет, всё нормально."
   ]
  },
  {
   "cell_type": "markdown",
   "metadata": {},
   "source": [
    "**1.5 Предобработка данных.**"
   ]
  },
  {
   "cell_type": "code",
   "execution_count": 7,
   "metadata": {},
   "outputs": [],
   "source": [
    "# Заполним пропущенные значения в столбце 'Tenure' медианой\n",
    "\n",
    "df['Tenure'].fillna(int(df['Tenure'].median()), inplace=True) "
   ]
  },
  {
   "cell_type": "code",
   "execution_count": 8,
   "metadata": {},
   "outputs": [
    {
     "name": "stdout",
     "output_type": "stream",
     "text": [
      "<class 'pandas.core.frame.DataFrame'>\n",
      "RangeIndex: 10000 entries, 0 to 9999\n",
      "Data columns (total 14 columns):\n",
      " #   Column           Non-Null Count  Dtype  \n",
      "---  ------           --------------  -----  \n",
      " 0   RowNumber        10000 non-null  int64  \n",
      " 1   CustomerId       10000 non-null  int64  \n",
      " 2   Surname          10000 non-null  object \n",
      " 3   CreditScore      10000 non-null  int64  \n",
      " 4   Geography        10000 non-null  object \n",
      " 5   Gender           10000 non-null  object \n",
      " 6   Age              10000 non-null  int64  \n",
      " 7   Tenure           10000 non-null  float64\n",
      " 8   Balance          10000 non-null  float64\n",
      " 9   NumOfProducts    10000 non-null  int64  \n",
      " 10  HasCrCard        10000 non-null  int64  \n",
      " 11  IsActiveMember   10000 non-null  int64  \n",
      " 12  EstimatedSalary  10000 non-null  float64\n",
      " 13  Exited           10000 non-null  int64  \n",
      "dtypes: float64(3), int64(8), object(3)\n",
      "memory usage: 1.1+ MB\n"
     ]
    }
   ],
   "source": [
    "#Проверим\n",
    "\n",
    "df.info()"
   ]
  },
  {
   "cell_type": "markdown",
   "metadata": {},
   "source": [
    "Вывод: пропусков нет, всё нормально."
   ]
  },
  {
   "cell_type": "code",
   "execution_count": 9,
   "metadata": {},
   "outputs": [],
   "source": [
    "# Преобразуем категориальные признаки в численные\n",
    "# Применим ОНЕ к столбцам 'Gender' и 'Geography'\n",
    "\n",
    "df = pd.get_dummies(df, drop_first=True, columns=['Gender', 'Geography'])"
   ]
  },
  {
   "cell_type": "code",
   "execution_count": 10,
   "metadata": {},
   "outputs": [
    {
     "data": {
      "text/html": [
       "<div>\n",
       "<style scoped>\n",
       "    .dataframe tbody tr th:only-of-type {\n",
       "        vertical-align: middle;\n",
       "    }\n",
       "\n",
       "    .dataframe tbody tr th {\n",
       "        vertical-align: top;\n",
       "    }\n",
       "\n",
       "    .dataframe thead th {\n",
       "        text-align: right;\n",
       "    }\n",
       "</style>\n",
       "<table border=\"1\" class=\"dataframe\">\n",
       "  <thead>\n",
       "    <tr style=\"text-align: right;\">\n",
       "      <th></th>\n",
       "      <th>RowNumber</th>\n",
       "      <th>CustomerId</th>\n",
       "      <th>Surname</th>\n",
       "      <th>CreditScore</th>\n",
       "      <th>Age</th>\n",
       "      <th>Tenure</th>\n",
       "      <th>Balance</th>\n",
       "      <th>NumOfProducts</th>\n",
       "      <th>HasCrCard</th>\n",
       "      <th>IsActiveMember</th>\n",
       "      <th>EstimatedSalary</th>\n",
       "      <th>Exited</th>\n",
       "      <th>Gender_Male</th>\n",
       "      <th>Geography_Germany</th>\n",
       "      <th>Geography_Spain</th>\n",
       "    </tr>\n",
       "  </thead>\n",
       "  <tbody>\n",
       "    <tr>\n",
       "      <th>0</th>\n",
       "      <td>1</td>\n",
       "      <td>15634602</td>\n",
       "      <td>Hargrave</td>\n",
       "      <td>619</td>\n",
       "      <td>42</td>\n",
       "      <td>2.0</td>\n",
       "      <td>0.00</td>\n",
       "      <td>1</td>\n",
       "      <td>1</td>\n",
       "      <td>1</td>\n",
       "      <td>101348.88</td>\n",
       "      <td>1</td>\n",
       "      <td>0</td>\n",
       "      <td>0</td>\n",
       "      <td>0</td>\n",
       "    </tr>\n",
       "    <tr>\n",
       "      <th>1</th>\n",
       "      <td>2</td>\n",
       "      <td>15647311</td>\n",
       "      <td>Hill</td>\n",
       "      <td>608</td>\n",
       "      <td>41</td>\n",
       "      <td>1.0</td>\n",
       "      <td>83807.86</td>\n",
       "      <td>1</td>\n",
       "      <td>0</td>\n",
       "      <td>1</td>\n",
       "      <td>112542.58</td>\n",
       "      <td>0</td>\n",
       "      <td>0</td>\n",
       "      <td>0</td>\n",
       "      <td>1</td>\n",
       "    </tr>\n",
       "    <tr>\n",
       "      <th>2</th>\n",
       "      <td>3</td>\n",
       "      <td>15619304</td>\n",
       "      <td>Onio</td>\n",
       "      <td>502</td>\n",
       "      <td>42</td>\n",
       "      <td>8.0</td>\n",
       "      <td>159660.80</td>\n",
       "      <td>3</td>\n",
       "      <td>1</td>\n",
       "      <td>0</td>\n",
       "      <td>113931.57</td>\n",
       "      <td>1</td>\n",
       "      <td>0</td>\n",
       "      <td>0</td>\n",
       "      <td>0</td>\n",
       "    </tr>\n",
       "    <tr>\n",
       "      <th>3</th>\n",
       "      <td>4</td>\n",
       "      <td>15701354</td>\n",
       "      <td>Boni</td>\n",
       "      <td>699</td>\n",
       "      <td>39</td>\n",
       "      <td>1.0</td>\n",
       "      <td>0.00</td>\n",
       "      <td>2</td>\n",
       "      <td>0</td>\n",
       "      <td>0</td>\n",
       "      <td>93826.63</td>\n",
       "      <td>0</td>\n",
       "      <td>0</td>\n",
       "      <td>0</td>\n",
       "      <td>0</td>\n",
       "    </tr>\n",
       "    <tr>\n",
       "      <th>4</th>\n",
       "      <td>5</td>\n",
       "      <td>15737888</td>\n",
       "      <td>Mitchell</td>\n",
       "      <td>850</td>\n",
       "      <td>43</td>\n",
       "      <td>2.0</td>\n",
       "      <td>125510.82</td>\n",
       "      <td>1</td>\n",
       "      <td>1</td>\n",
       "      <td>1</td>\n",
       "      <td>79084.10</td>\n",
       "      <td>0</td>\n",
       "      <td>0</td>\n",
       "      <td>0</td>\n",
       "      <td>1</td>\n",
       "    </tr>\n",
       "  </tbody>\n",
       "</table>\n",
       "</div>"
      ],
      "text/plain": [
       "   RowNumber  CustomerId   Surname  CreditScore  Age  Tenure    Balance  \\\n",
       "0          1    15634602  Hargrave          619   42     2.0       0.00   \n",
       "1          2    15647311      Hill          608   41     1.0   83807.86   \n",
       "2          3    15619304      Onio          502   42     8.0  159660.80   \n",
       "3          4    15701354      Boni          699   39     1.0       0.00   \n",
       "4          5    15737888  Mitchell          850   43     2.0  125510.82   \n",
       "\n",
       "   NumOfProducts  HasCrCard  IsActiveMember  EstimatedSalary  Exited  \\\n",
       "0              1          1               1        101348.88       1   \n",
       "1              1          0               1        112542.58       0   \n",
       "2              3          1               0        113931.57       1   \n",
       "3              2          0               0         93826.63       0   \n",
       "4              1          1               1         79084.10       0   \n",
       "\n",
       "   Gender_Male  Geography_Germany  Geography_Spain  \n",
       "0            0                  0                0  \n",
       "1            0                  0                1  \n",
       "2            0                  0                0  \n",
       "3            0                  0                0  \n",
       "4            0                  0                1  "
      ]
     },
     "execution_count": 10,
     "metadata": {},
     "output_type": "execute_result"
    }
   ],
   "source": [
    "# Проверим\n",
    "\n",
    "df.head()"
   ]
  },
  {
   "cell_type": "code",
   "execution_count": 11,
   "metadata": {},
   "outputs": [],
   "source": [
    "# Удалим столбцы 'RowNumber', 'CustomerId' и'Surname',т.к. они не влияют на качество обучения\n",
    "\n",
    "df = df.drop(columns=['RowNumber', 'CustomerId', 'Surname'])"
   ]
  },
  {
   "cell_type": "code",
   "execution_count": 12,
   "metadata": {},
   "outputs": [
    {
     "data": {
      "text/html": [
       "<div>\n",
       "<style scoped>\n",
       "    .dataframe tbody tr th:only-of-type {\n",
       "        vertical-align: middle;\n",
       "    }\n",
       "\n",
       "    .dataframe tbody tr th {\n",
       "        vertical-align: top;\n",
       "    }\n",
       "\n",
       "    .dataframe thead th {\n",
       "        text-align: right;\n",
       "    }\n",
       "</style>\n",
       "<table border=\"1\" class=\"dataframe\">\n",
       "  <thead>\n",
       "    <tr style=\"text-align: right;\">\n",
       "      <th></th>\n",
       "      <th>CreditScore</th>\n",
       "      <th>Age</th>\n",
       "      <th>Tenure</th>\n",
       "      <th>Balance</th>\n",
       "      <th>NumOfProducts</th>\n",
       "      <th>HasCrCard</th>\n",
       "      <th>IsActiveMember</th>\n",
       "      <th>EstimatedSalary</th>\n",
       "      <th>Exited</th>\n",
       "      <th>Gender_Male</th>\n",
       "      <th>Geography_Germany</th>\n",
       "      <th>Geography_Spain</th>\n",
       "    </tr>\n",
       "  </thead>\n",
       "  <tbody>\n",
       "    <tr>\n",
       "      <th>0</th>\n",
       "      <td>619</td>\n",
       "      <td>42</td>\n",
       "      <td>2.0</td>\n",
       "      <td>0.00</td>\n",
       "      <td>1</td>\n",
       "      <td>1</td>\n",
       "      <td>1</td>\n",
       "      <td>101348.88</td>\n",
       "      <td>1</td>\n",
       "      <td>0</td>\n",
       "      <td>0</td>\n",
       "      <td>0</td>\n",
       "    </tr>\n",
       "    <tr>\n",
       "      <th>1</th>\n",
       "      <td>608</td>\n",
       "      <td>41</td>\n",
       "      <td>1.0</td>\n",
       "      <td>83807.86</td>\n",
       "      <td>1</td>\n",
       "      <td>0</td>\n",
       "      <td>1</td>\n",
       "      <td>112542.58</td>\n",
       "      <td>0</td>\n",
       "      <td>0</td>\n",
       "      <td>0</td>\n",
       "      <td>1</td>\n",
       "    </tr>\n",
       "    <tr>\n",
       "      <th>2</th>\n",
       "      <td>502</td>\n",
       "      <td>42</td>\n",
       "      <td>8.0</td>\n",
       "      <td>159660.80</td>\n",
       "      <td>3</td>\n",
       "      <td>1</td>\n",
       "      <td>0</td>\n",
       "      <td>113931.57</td>\n",
       "      <td>1</td>\n",
       "      <td>0</td>\n",
       "      <td>0</td>\n",
       "      <td>0</td>\n",
       "    </tr>\n",
       "    <tr>\n",
       "      <th>3</th>\n",
       "      <td>699</td>\n",
       "      <td>39</td>\n",
       "      <td>1.0</td>\n",
       "      <td>0.00</td>\n",
       "      <td>2</td>\n",
       "      <td>0</td>\n",
       "      <td>0</td>\n",
       "      <td>93826.63</td>\n",
       "      <td>0</td>\n",
       "      <td>0</td>\n",
       "      <td>0</td>\n",
       "      <td>0</td>\n",
       "    </tr>\n",
       "    <tr>\n",
       "      <th>4</th>\n",
       "      <td>850</td>\n",
       "      <td>43</td>\n",
       "      <td>2.0</td>\n",
       "      <td>125510.82</td>\n",
       "      <td>1</td>\n",
       "      <td>1</td>\n",
       "      <td>1</td>\n",
       "      <td>79084.10</td>\n",
       "      <td>0</td>\n",
       "      <td>0</td>\n",
       "      <td>0</td>\n",
       "      <td>1</td>\n",
       "    </tr>\n",
       "  </tbody>\n",
       "</table>\n",
       "</div>"
      ],
      "text/plain": [
       "   CreditScore  Age  Tenure    Balance  NumOfProducts  HasCrCard  \\\n",
       "0          619   42     2.0       0.00              1          1   \n",
       "1          608   41     1.0   83807.86              1          0   \n",
       "2          502   42     8.0  159660.80              3          1   \n",
       "3          699   39     1.0       0.00              2          0   \n",
       "4          850   43     2.0  125510.82              1          1   \n",
       "\n",
       "   IsActiveMember  EstimatedSalary  Exited  Gender_Male  Geography_Germany  \\\n",
       "0               1        101348.88       1            0                  0   \n",
       "1               1        112542.58       0            0                  0   \n",
       "2               0        113931.57       1            0                  0   \n",
       "3               0         93826.63       0            0                  0   \n",
       "4               1         79084.10       0            0                  0   \n",
       "\n",
       "   Geography_Spain  \n",
       "0                0  \n",
       "1                1  \n",
       "2                0  \n",
       "3                0  \n",
       "4                1  "
      ]
     },
     "execution_count": 12,
     "metadata": {},
     "output_type": "execute_result"
    }
   ],
   "source": [
    "# Проверим\n",
    "\n",
    "df.head()"
   ]
  },
  {
   "cell_type": "code",
   "execution_count": 13,
   "metadata": {},
   "outputs": [],
   "source": [
    "# Приведём названия столбцов к нижнему регистру\n",
    "\n",
    "df.columns = map(str.lower, df.columns)"
   ]
  },
  {
   "cell_type": "code",
   "execution_count": 14,
   "metadata": {},
   "outputs": [],
   "source": [
    "# Приведём названия столбцов к змеиному регистру\n",
    "\n",
    "df.rename(columns = {'creditscore': 'credit_score', 'numofproducts':'num_of_products', \n",
    "                     'hascrcard':'has_cr_card', 'isactivemember':'is_active_member',\n",
    "                     'estimatedsalary':'estimated_salary'}, inplace = True )\n"
   ]
  },
  {
   "cell_type": "code",
   "execution_count": 15,
   "metadata": {},
   "outputs": [
    {
     "data": {
      "text/plain": [
       "Index(['credit_score', 'age', 'tenure', 'balance', 'num_of_products',\n",
       "       'has_cr_card', 'is_active_member', 'estimated_salary', 'exited',\n",
       "       'gender_male', 'geography_germany', 'geography_spain'],\n",
       "      dtype='object')"
      ]
     },
     "execution_count": 15,
     "metadata": {},
     "output_type": "execute_result"
    }
   ],
   "source": [
    "# Проверим\n",
    "\n",
    "df.columns"
   ]
  },
  {
   "cell_type": "markdown",
   "metadata": {},
   "source": [
    "**1.6 Формирование выборок и отбор признаков.**"
   ]
  },
  {
   "cell_type": "code",
   "execution_count": 16,
   "metadata": {},
   "outputs": [],
   "source": [
    "# Разделим на признаки и целевой признак\n",
    "\n",
    "target = df['exited']\n",
    "features = df.drop(['exited'], axis=1)\n"
   ]
  },
  {
   "cell_type": "code",
   "execution_count": 17,
   "metadata": {},
   "outputs": [],
   "source": [
    "# Сформируем 3 выборки: обучающую (50%), тестовую (25%) и валидационную (25%) \n",
    "\n",
    "features_train, features_test, target_train, target_test = train_test_split(\n",
    "    features, target, test_size=0.5, random_state=12345, stratify=target)\n",
    "\n",
    "features_test, features_valid, target_test, target_valid = train_test_split(\n",
    "    features_test, target_test, test_size=0.5, random_state=12345, stratify=target_test)\n"
   ]
  },
  {
   "cell_type": "code",
   "execution_count": 18,
   "metadata": {},
   "outputs": [
    {
     "name": "stdout",
     "output_type": "stream",
     "text": [
      "(5000, 11)\n",
      "(2500, 11)\n",
      "(2500, 11)\n"
     ]
    }
   ],
   "source": [
    "# Проверим\n",
    "\n",
    "print(features_train.shape)\n",
    "print(features_test.shape)\n",
    "print(features_valid.shape)"
   ]
  },
  {
   "cell_type": "markdown",
   "metadata": {},
   "source": [
    "**Масштабирование признаков.**"
   ]
  },
  {
   "cell_type": "code",
   "execution_count": 19,
   "metadata": {},
   "outputs": [],
   "source": [
    "# Создадим переменную с численными признаками\n",
    "\n",
    "numeric = ['credit_score', 'age', 'tenure', 'balance', 'num_of_products', 'estimated_salary']"
   ]
  },
  {
   "cell_type": "code",
   "execution_count": 20,
   "metadata": {},
   "outputs": [],
   "source": [
    "# Cоздадим объект структуры StandardScaler() и настроим его на обучающих данных\n",
    "\n",
    "scaler = StandardScaler()\n",
    "scaler.fit(features_train[numeric])\n",
    "\n",
    "# Для обучающей выборки\n",
    "\n",
    "features_train[numeric] = scaler.transform(features_train[numeric])\n",
    "\n",
    "# Для тестовой выборки\n",
    "\n",
    "features_test[numeric] = scaler.transform(features_test[numeric])\n",
    "\n",
    "# Для валидационной выборки\n",
    "\n",
    "features_valid[numeric] = scaler.transform(features_valid[numeric])\n"
   ]
  },
  {
   "cell_type": "code",
   "execution_count": 21,
   "metadata": {},
   "outputs": [
    {
     "name": "stdout",
     "output_type": "stream",
     "text": [
      "      credit_score       age    tenure   balance  num_of_products  \\\n",
      "5460      0.111187  0.193128  0.004225  0.740076         0.809174   \n",
      "3610     -0.726970  1.626818 -1.452695  0.880243        -0.929489   \n",
      "3892     -1.047746  0.575445  0.368455  0.766921        -0.929489   \n",
      "4734     -0.623494  1.435659 -0.360005 -1.208445         0.809174   \n",
      "6102     -0.085418 -0.284769  0.368455 -1.208445         0.809174   \n",
      "\n",
      "      estimated_salary  \n",
      "5460          0.368972  \n",
      "3610          0.129920  \n",
      "3892          0.816963  \n",
      "4734         -0.098170  \n",
      "6102         -0.026458  \n",
      "      credit_score       age    tenure   balance  num_of_products  \\\n",
      "4492     -0.623494 -0.667086 -1.816925  0.822924        -0.929489   \n",
      "5970     -1.865208 -0.380348 -1.452695  0.325435        -0.929489   \n",
      "7940      1.352902 -0.953824  0.368455  0.361786        -0.929489   \n",
      "9789     -0.416541  0.575445 -1.452695 -1.208445         0.809174   \n",
      "4903      0.452659  0.288707 -0.724235  1.285614         0.809174   \n",
      "\n",
      "      estimated_salary  \n",
      "4492          0.021934  \n",
      "5970         -1.628119  \n",
      "7940          0.221934  \n",
      "9789          1.744859  \n",
      "4903         -0.184016  \n",
      "      credit_score       age    tenure   balance  num_of_products  \\\n",
      "6120      0.669959  0.097548  0.732685 -1.208445        -0.929489   \n",
      "3673      1.176992 -1.431721  0.732685  0.352067        -0.929489   \n",
      "4835     -0.923575 -0.475928 -0.360005  0.145265         0.809174   \n",
      "7247     -0.706275  0.097548 -0.724235  0.542889        -0.929489   \n",
      "4943     -1.265046  0.384286  0.732685  0.341339         0.809174   \n",
      "\n",
      "      estimated_salary  \n",
      "6120          0.729660  \n",
      "3673         -1.264493  \n",
      "4835         -1.223159  \n",
      "7247          1.607293  \n",
      "4943          1.051191  \n"
     ]
    }
   ],
   "source": [
    "# Проверим\n",
    "\n",
    "print(features_train[numeric].head())\n",
    "print(features_test[numeric].head())\n",
    "print(features_valid[numeric].head())"
   ]
  },
  {
   "cell_type": "markdown",
   "metadata": {},
   "source": [
    "**Вывод:**\n",
    "- в таблице 10000 строк и 14 столбцов;\n",
    "- заполнены пропуски в столбце 'Tenure';\n",
    "- дубликаты не выявлены;\n",
    "- мультиколлинеарность не выявлена;\n",
    "- преобразованы категориальные признаки в численные;\n",
    "- удалены столбцы 'RowNumber', 'CustomerId' и'Surname',т.к. они не влияют на качество обучения;\n",
    "- приведены названия столбцов к змеиному регистру;\n",
    "- сформированы выборки: обучающая (50%), тестовая (25%) и валидационная (25%);\n",
    "- отбораны признаки;\n",
    "- произведено масштабирование признаков.\n"
   ]
  },
  {
   "cell_type": "markdown",
   "metadata": {},
   "source": [
    "## Исследование задачи"
   ]
  },
  {
   "cell_type": "markdown",
   "metadata": {},
   "source": [
    "**2.1 Исследуем баланс классов.**"
   ]
  },
  {
   "cell_type": "code",
   "execution_count": 22,
   "metadata": {},
   "outputs": [
    {
     "name": "stdout",
     "output_type": "stream",
     "text": [
      "0    0.7963\n",
      "1    0.2037\n",
      "Name: exited, dtype: float64\n"
     ]
    },
    {
     "data": {
      "text/plain": [
       "<AxesSubplot:title={'center':'Частота класса'}>"
      ]
     },
     "execution_count": 22,
     "metadata": {},
     "output_type": "execute_result"
    },
    {
     "data": {
      "image/png": "[encoded data removed]",
      "text/plain": [
       "<Figure size 432x288 with 1 Axes>"
      ]
     },
     "metadata": {
      "needs_background": "light"
     },
     "output_type": "display_data"
    }
   ],
   "source": [
    "class_frequency = df['exited'].value_counts(normalize=bool)\n",
    "print(class_frequency)\n",
    "class_frequency.plot(kind='bar', title='Частота класса')"
   ]
  },
  {
   "cell_type": "markdown",
   "metadata": {},
   "source": [
    "В нашей задаче наблюдается сильный дисбаланс классов, что плохо сказывется на обучении модели. \n",
    "\n",
    "Обучим модели без учёта дисбаланса"
   ]
  },
  {
   "cell_type": "markdown",
   "metadata": {},
   "source": [
    "**2.2 Исследуем модель - _Решающее дерево_.**"
   ]
  },
  {
   "cell_type": "code",
   "execution_count": 23,
   "metadata": {},
   "outputs": [
    {
     "name": "stdout",
     "output_type": "stream",
     "text": [
      "F1-мера: 0.581986143187067 , глубина дерева - 7\n",
      "Accuracy наилучшей модели на валидационной выборке: 0.8552\n",
      "AUC-ROC: 0.7303440136804225\n"
     ]
    }
   ],
   "source": [
    "best_depth_dtc = 0\n",
    "best_f1_dtc = 0\n",
    "best_result_dtc = 0\n",
    "\n",
    "for depth_dtc in range(1,11):\n",
    "    \n",
    "    # Инициализируем модель DecisionTreeClassifier с параметром random_state=12345 и max_depth=depth\n",
    "    \n",
    "    model_dtc = DecisionTreeClassifier(random_state=12345, max_depth=depth_dtc) \n",
    "    \n",
    "    # Обучим модель на тренировочной выборке\n",
    "    \n",
    "    model_dtc.fit(features_train, target_train) \n",
    "    \n",
    "    # Получим предсказания модели на валидационной выборке \n",
    "    \n",
    "    predictions_valid_dtc = model_dtc.predict(features_valid) \n",
    "    \n",
    "    # посчитаем качество модели на валидационной выборке\n",
    "    \n",
    "    result_dtc = accuracy_score(target_valid, predictions_valid_dtc)\n",
    "    \n",
    "    # Посчитаем точность модели \n",
    "    \n",
    "    f1_dtc = f1_score(target_valid, predictions_valid_dtc)\n",
    "    \n",
    "    if f1_dtc > best_f1_dtc:\n",
    "        best_depth_dtc = depth_dtc\n",
    "        best_f1_dtc = f1_dtc\n",
    "        best_result_dtc = result_dtc\n",
    "        \n",
    "print('F1-мера:', best_f1_dtc, ', глубина дерева -', best_depth_dtc)\n",
    "print('Accuracy наилучшей модели на валидационной выборке:', best_result_dtc)\n",
    "probabilities_valid_dtc = model_dtc.predict_proba(features_valid)\n",
    "probabilities_one_valid_dtc = probabilities_valid_dtc[:, 1]\n",
    "print('AUC-ROC:', roc_auc_score(target_valid, probabilities_one_valid_dtc))"
   ]
  },
  {
   "cell_type": "markdown",
   "metadata": {},
   "source": [
    "Проанализируем частоты классов в результатах предсказаний решающего дерева: "
   ]
  },
  {
   "cell_type": "code",
   "execution_count": 24,
   "metadata": {},
   "outputs": [
    {
     "name": "stdout",
     "output_type": "stream",
     "text": [
      "0    0.8284\n",
      "1    0.1716\n",
      "dtype: float64\n"
     ]
    },
    {
     "data": {
      "text/plain": [
       "<AxesSubplot:title={'center':'Частота классов Решающего дерева'}>"
      ]
     },
     "execution_count": 24,
     "metadata": {},
     "output_type": "execute_result"
    },
    {
     "data": {
      "image/png": "[encoded data removed]",
      "text/plain": [
       "<Figure size 432x288 with 1 Axes>"
      ]
     },
     "metadata": {
      "needs_background": "light"
     },
     "output_type": "display_data"
    }
   ],
   "source": [
    "predicted_valid_dtc = pd.Series(model_dtc.predict(features_valid))\n",
    "\n",
    "class_frequency_dtc = predicted_valid_dtc.value_counts(normalize=bool)\n",
    "print(class_frequency_dtc)\n",
    "class_frequency_dtc.plot(kind='bar', title='Частота классов Решающего дерева')"
   ]
  },
  {
   "cell_type": "markdown",
   "metadata": {},
   "source": [
    "Мало что изменилось."
   ]
  },
  {
   "cell_type": "code",
   "execution_count": 25,
   "metadata": {},
   "outputs": [
    {
     "name": "stdout",
     "output_type": "stream",
     "text": [
      "[[1813  178]\n",
      " [ 258  251]]\n"
     ]
    }
   ],
   "source": [
    "# Построим матрицу ошибок \n",
    "\n",
    "print(confusion_matrix(target_valid, predictions_valid_dtc))"
   ]
  },
  {
   "cell_type": "markdown",
   "metadata": {},
   "source": [
    "**2.3 Исследуем модель - _Случайный лес_.**"
   ]
  },
  {
   "cell_type": "code",
   "execution_count": 26,
   "metadata": {},
   "outputs": [
    {
     "name": "stdout",
     "output_type": "stream",
     "text": [
      "F1-мера: 0.588235294117647 , глубина дерева - 10 , количество деревьев -  50\n",
      "Accuracy наилучшей модели на валидационной выборке: 0.8628\n",
      "AUC-ROC: 0.8572673297027193\n"
     ]
    }
   ],
   "source": [
    "best_f1_rfr = 0\n",
    "best_est_rfr = 0\n",
    "best_depth_rfr = 0\n",
    "best_result_rfr = 0\n",
    "\n",
    "for est_rfr in range(10, 100, 10):\n",
    "    for depth_rfr in range (1, 11):\n",
    "        \n",
    "        # Инициализируем модель RandomForestClassifier \n",
    "        # с параметрами random_state=12345, n_estimators=est и max_depth=depth\n",
    "        \n",
    "        model_rfr = RandomForestClassifier(random_state=12345, n_estimators=est_rfr, max_depth=depth_rfr) \n",
    "        \n",
    "        # Обучим модель на тренировочной выборке\n",
    "        \n",
    "        model_rfr.fit(features_train, target_train) \n",
    "        \n",
    "        # Получим предсказания модели на валидационной выборке\n",
    "        \n",
    "        predictions_valid_rfr = model_rfr.predict(features_valid)\n",
    "        \n",
    "        # посчитаем качество модели на валидационной выборке\n",
    "        \n",
    "        result_rfr = accuracy_score(target_valid, predictions_valid_rfr)\n",
    "        \n",
    "        # Посчитаем точность модели \n",
    "        \n",
    "        f1_rfr = f1_score(target_valid, predictions_valid_rfr)\n",
    "        \n",
    "        \n",
    "    \n",
    "        if f1_rfr > best_f1_rfr:\n",
    "            best_f1_rfr = f1_rfr\n",
    "            best_depth_rfr = depth_rfr\n",
    "            best_est_rfr = est_rfr\n",
    "            best_result_rfr = result_rfr\n",
    "            \n",
    "print('F1-мера:', best_f1_rfr, \n",
    "      ', глубина дерева -', best_depth_rfr, ', количество деревьев - ', best_est_rfr\n",
    "     )\n",
    "print('Accuracy наилучшей модели на валидационной выборке:', best_result_rfr)\n",
    "probabilities_valid_rfr = model_rfr.predict_proba(features_valid)\n",
    "probabilities_one_valid_rfr = probabilities_valid_rfr[:, 1]\n",
    "print('AUC-ROC:', roc_auc_score(target_valid, probabilities_one_valid_rfr))"
   ]
  },
  {
   "cell_type": "markdown",
   "metadata": {},
   "source": [
    "Проанализируем частоты классов в результатах предсказаний случайного леса: "
   ]
  },
  {
   "cell_type": "code",
   "execution_count": 27,
   "metadata": {},
   "outputs": [
    {
     "name": "stdout",
     "output_type": "stream",
     "text": [
      "0    0.8764\n",
      "1    0.1236\n",
      "dtype: float64\n"
     ]
    },
    {
     "data": {
      "text/plain": [
       "<AxesSubplot:title={'center':'Частота классов Случайного леса'}>"
      ]
     },
     "execution_count": 27,
     "metadata": {},
     "output_type": "execute_result"
    },
    {
     "data": {
      "image/png": "[encoded data removed]",
      "text/plain": [
       "<Figure size 432x288 with 1 Axes>"
      ]
     },
     "metadata": {
      "needs_background": "light"
     },
     "output_type": "display_data"
    }
   ],
   "source": [
    "predicted_valid_rfr = pd.Series(model_rfr.predict(features_valid))\n",
    "\n",
    "class_frequency_rfr = predicted_valid_rfr.value_counts(normalize=bool)\n",
    "print(class_frequency_rfr)\n",
    "class_frequency_rfr.plot(kind='bar', title='Частота классов Случайного леса')"
   ]
  },
  {
   "cell_type": "markdown",
   "metadata": {},
   "source": [
    "Изменения лучше, но не достаточно."
   ]
  },
  {
   "cell_type": "code",
   "execution_count": 28,
   "metadata": {},
   "outputs": [
    {
     "name": "stdout",
     "output_type": "stream",
     "text": [
      "[[1920   71]\n",
      " [ 271  238]]\n"
     ]
    }
   ],
   "source": [
    "# Построим матрицу ошибок \n",
    "\n",
    "print(confusion_matrix(target_valid, predictions_valid_rfr))"
   ]
  },
  {
   "cell_type": "markdown",
   "metadata": {},
   "source": [
    "**2.4 Исследуем модель - _Логистическая регрессия_.**"
   ]
  },
  {
   "cell_type": "code",
   "execution_count": 29,
   "metadata": {},
   "outputs": [
    {
     "name": "stdout",
     "output_type": "stream",
     "text": [
      "Accuracy наилучшей модели на валидационной выборке: 0.8148\n",
      "F1-мера: 0.3299565846599131\n",
      "AUC-ROC: 0.777658599256576\n"
     ]
    }
   ],
   "source": [
    "# Инициализируем модель LogisticRegression с параметрами random_state=12345, solver='liblinear'\n",
    "\n",
    "model_lr = LogisticRegression(random_state=12345, solver='liblinear')\n",
    "\n",
    "# Обучим модель на тренировочной выборке\n",
    "\n",
    "model_lr.fit(features_train, target_train) \n",
    "\n",
    "# Получим предсказания модели на валидационной выборке\n",
    "\n",
    "predictions_valid_lr = model_lr.predict(features_valid)\n",
    "\n",
    "# посчитаем качество модели на валидационной выборке\n",
    "\n",
    "result_lr = accuracy_score(target_valid, predictions_valid_lr)\n",
    "\n",
    "# Посчитаем точность модели \n",
    "\n",
    "f1_lr = f1_score(target_valid, predictions_valid_lr)\n",
    "\n",
    "print('Accuracy наилучшей модели на валидационной выборке:', result_lr)\n",
    "print('F1-мера:', f1_lr)\n",
    "probabilities_valid_lr = model_lr.predict_proba(features_valid)\n",
    "probabilities_one_valid_lr = probabilities_valid_lr[:, 1]\n",
    "print('AUC-ROC:', roc_auc_score(target_valid, probabilities_one_valid_lr))"
   ]
  },
  {
   "cell_type": "markdown",
   "metadata": {},
   "source": [
    "Проанализируем частоты классов в результатах предсказаний логистической регрессии: "
   ]
  },
  {
   "cell_type": "code",
   "execution_count": 30,
   "metadata": {},
   "outputs": [
    {
     "name": "stdout",
     "output_type": "stream",
     "text": [
      "0    0.9272\n",
      "1    0.0728\n",
      "dtype: float64\n"
     ]
    },
    {
     "data": {
      "text/plain": [
       "<AxesSubplot:title={'center':'Частота классов Логистической регрессии'}>"
      ]
     },
     "execution_count": 30,
     "metadata": {},
     "output_type": "execute_result"
    },
    {
     "data": {
      "image/png": "[encoded data removed]",
      "text/plain": [
       "<Figure size 432x288 with 1 Axes>"
      ]
     },
     "metadata": {
      "needs_background": "light"
     },
     "output_type": "display_data"
    }
   ],
   "source": [
    "predicted_valid_lr = pd.Series(model_lr.predict(features_valid))\n",
    "\n",
    "class_frequency_lr = predicted_valid_lr.value_counts(normalize=bool)\n",
    "print(class_frequency_lr)\n",
    "class_frequency_lr.plot(kind='bar', title='Частота классов Логистической регрессии')"
   ]
  },
  {
   "cell_type": "markdown",
   "metadata": {},
   "source": [
    "Самый лучший результат, но модель выдаёт на 93% одинаковый результат - ноль."
   ]
  },
  {
   "cell_type": "code",
   "execution_count": 31,
   "metadata": {},
   "outputs": [
    {
     "name": "stdout",
     "output_type": "stream",
     "text": [
      "[[1923   68]\n",
      " [ 395  114]]\n"
     ]
    }
   ],
   "source": [
    "# Построим матрицу ошибок \n",
    "\n",
    "print(confusion_matrix(target_valid, predictions_valid_lr))"
   ]
  },
  {
   "cell_type": "code",
   "execution_count": 32,
   "metadata": {
    "scrolled": true
   },
   "outputs": [
    {
     "name": "stdout",
     "output_type": "stream",
     "text": [
      "0.7963\n"
     ]
    }
   ],
   "source": [
    "# Создадим константную модель\n",
    "\n",
    "target_pred_constant = pd.Series(0, index=target.index)\n",
    "print(accuracy_score(target, target_pred_constant))"
   ]
  },
  {
   "cell_type": "markdown",
   "metadata": {},
   "source": [
    "**Вывод:**\n",
    "- обучив модели без учета дисбаланса классов, наилучшее значение метрик демонстрирует модель _Случайный лес_: \\\n",
    "При глубине дерева - 10 и количестве деревьев -  50: \\\n",
    "F1-мера: 0.588235294117647 \\\n",
    "Accuracy наилучшей модели на валидационной выборке: 0.8628 \\\n",
    "Площадь ROC-кривой: 0.8572673297027193 \n",
    "- наблюдается дисбаланс классов;\n",
    "- по матрице видно, что модель часто ошибается и предсказывает отрицательные ответы там, где их нет."
   ]
  },
  {
   "cell_type": "markdown",
   "metadata": {},
   "source": [
    "## Борьба с дисбалансом"
   ]
  },
  {
   "cell_type": "markdown",
   "metadata": {},
   "source": [
    "**3.1 Взвешивание классов.**"
   ]
  },
  {
   "cell_type": "code",
   "execution_count": 33,
   "metadata": {},
   "outputs": [
    {
     "name": "stdout",
     "output_type": "stream",
     "text": [
      "F1-мера: 0.5597484276729561 , глубина дерева - 6\n",
      "Accuracy наилучшей модели на валидационной выборке: 0.776\n"
     ]
    }
   ],
   "source": [
    "# Сделаем веса классов сбалансированными у Решающего дерева\n",
    "\n",
    "best_depth_dtc = 0\n",
    "best_f1_dtc = 0\n",
    "best_result_dtc = 0\n",
    "\n",
    "for depth_dtc in range(1,11):\n",
    "     \n",
    "    # Инициализируем модель DecisionTreeClassifier с параметрам:\n",
    "    # random_state=12345, max_depth=depth и class_weight='balanced'\n",
    "    \n",
    "    model_dtc = DecisionTreeClassifier(random_state=12345, max_depth=depth_dtc, class_weight='balanced') \n",
    "    \n",
    "    # Обучим модель на тренировочной выборке\n",
    "    \n",
    "    model_dtc.fit(features_train, target_train) \n",
    "    \n",
    "    # Получим предсказания модели на валидационной выборке \n",
    "    \n",
    "    predictions_valid_dtc = model_dtc.predict(features_valid) \n",
    "    \n",
    "    # посчитаем качество модели на валидационной выборке\n",
    "    \n",
    "    result_dtc = accuracy_score(target_valid, predictions_valid_dtc)\n",
    "    \n",
    "    # Посчитаем точность модели \n",
    "    \n",
    "    f1_dtc = f1_score(target_valid, predictions_valid_dtc)\n",
    "    \n",
    "    if f1_dtc > best_f1_dtc:\n",
    "        best_depth_dtc = depth_dtc\n",
    "        best_f1_dtc = f1_dtc\n",
    "        best_result_dtc = result_dtc\n",
    "        \n",
    "print('F1-мера:', best_f1_dtc, ', глубина дерева -', best_depth_dtc)\n",
    "print('Accuracy наилучшей модели на валидационной выборке:', best_result_dtc)"
   ]
  },
  {
   "cell_type": "code",
   "execution_count": 34,
   "metadata": {
    "scrolled": true
   },
   "outputs": [
    {
     "name": "stdout",
     "output_type": "stream",
     "text": [
      "Полнота: 0.6994106090373281\n",
      "Точность: 0.46657929226736566\n",
      "F1-мера: 0.5597484276729561\n",
      "AUC-ROC: 0.8240638867043147\n",
      "CPU times: user 33 ms, sys: 54 µs, total: 33.1 ms\n",
      "Wall time: 45.9 ms\n"
     ]
    }
   ],
   "source": [
    "%%time\n",
    "\n",
    "# Обучим модель\n",
    "\n",
    "model_dtc = DecisionTreeClassifier(random_state=12345, max_depth=6, class_weight='balanced') \n",
    "model_dtc.fit(features_train, target_train) \n",
    "predictions_valid_dtc = model_dtc.predict(features_valid) \n",
    "\n",
    "print('Полнота:', recall_score(target_valid, predictions_valid_dtc))\n",
    "print('Точность:', precision_score(target_valid, predictions_valid_dtc))\n",
    "print('F1-мера:', f1_score(target_valid, predictions_valid_dtc)) \n",
    "probabilities_valid_dtc = model_dtc.predict_proba(features_valid)\n",
    "probabilities_one_valid_dtc = probabilities_valid_dtc[:, 1]\n",
    "print('AUC-ROC:', roc_auc_score(target_valid, probabilities_one_valid_dtc))\n"
   ]
  },
  {
   "cell_type": "code",
   "execution_count": 35,
   "metadata": {},
   "outputs": [
    {
     "name": "stdout",
     "output_type": "stream",
     "text": [
      "F1-мера: 0.6307977736549165 , глубина дерева - 9 , количество деревьев -  50\n",
      "Accuracy наилучшей модели на валидационной выборке: 0.8408\n"
     ]
    }
   ],
   "source": [
    "# Сделаем веса классов сбалансированными у модели Случайный лес\n",
    "\n",
    "best_f1_rfr = 0\n",
    "best_est_rfr = 0\n",
    "best_depth_rfr = 0\n",
    "best_result_rfr = 0\n",
    "\n",
    "for est_rfr in range(10, 100, 10):\n",
    "    for depth_rfr in range (1, 11):\n",
    "        \n",
    "        # Инициализируем модель RandomForestClassifier \n",
    "        # с параметрами random_state=12345, n_estimators=est, max_depth=depth и class_weight='balanced'\n",
    "        \n",
    "        model_rfr = RandomForestClassifier(random_state=12345, n_estimators=est_rfr, \n",
    "                                           max_depth=depth_rfr, class_weight='balanced') \n",
    "        \n",
    "        # Обучим модель на тренировочной выборке\n",
    "        \n",
    "        model_rfr.fit(features_train, target_train) \n",
    "        \n",
    "        # Получим предсказания модели на валидационной выборке\n",
    "        \n",
    "        predictions_valid_rfr = model_rfr.predict(features_valid)\n",
    "        \n",
    "        # посчитаем качество модели на валидационной выборке\n",
    "        \n",
    "        result_rfr = accuracy_score(target_valid, predictions_valid_rfr)\n",
    "        \n",
    "        # Посчитаем точность модели \n",
    "        \n",
    "        f1_rfr = f1_score(target_valid, predictions_valid_rfr)\n",
    "        \n",
    "        \n",
    "    \n",
    "        if f1_rfr > best_f1_rfr:\n",
    "            best_f1_rfr = f1_rfr\n",
    "            best_depth_rfr = depth_rfr\n",
    "            best_est_rfr = est_rfr\n",
    "            best_result_rfr = result_rfr\n",
    "            \n",
    "print('F1-мера:', best_f1_rfr, \n",
    "      ', глубина дерева -', best_depth_rfr, ', количество деревьев - ', best_est_rfr\n",
    "     )\n",
    "print('Accuracy наилучшей модели на валидационной выборке:', best_result_rfr)\n",
    "\n"
   ]
  },
  {
   "cell_type": "code",
   "execution_count": 36,
   "metadata": {},
   "outputs": [
    {
     "name": "stdout",
     "output_type": "stream",
     "text": [
      "Полнота: 0.6679764243614931\n",
      "Точность: 0.5975395430579965\n",
      "F1-мера: 0.6307977736549165\n",
      "AUC-ROC: 0.858353751015128\n",
      "CPU times: user 292 ms, sys: 7.58 ms, total: 300 ms\n",
      "Wall time: 308 ms\n"
     ]
    }
   ],
   "source": [
    "%%time\n",
    "\n",
    "# Обучим модель\n",
    "\n",
    "model_rfr = RandomForestClassifier(random_state=12345, n_estimators=50, \n",
    "                                   max_depth=9, class_weight='balanced') \n",
    "model_rfr.fit(features_train, target_train) \n",
    "predictions_valid_rfr = model_rfr.predict(features_valid)\n",
    "        \n",
    "\n",
    "print('Полнота:', recall_score(target_valid, predictions_valid_rfr))\n",
    "print('Точность:', precision_score(target_valid, predictions_valid_rfr))\n",
    "print('F1-мера:', f1_score(target_valid, predictions_valid_rfr)) \n",
    "probabilities_valid_rfr = model_rfr.predict_proba(features_valid)\n",
    "probabilities_one_valid_rfr = probabilities_valid_rfr[:, 1]\n",
    "print('AUC-ROC:', roc_auc_score(target_valid, probabilities_one_valid_rfr))\n"
   ]
  },
  {
   "cell_type": "code",
   "execution_count": 37,
   "metadata": {},
   "outputs": [
    {
     "name": "stdout",
     "output_type": "stream",
     "text": [
      "Accuracy наилучшей модели на валидационной выборке: 0.7164\n",
      "F1-мера: 0.5038488453463961\n",
      "CPU times: user 14.5 ms, sys: 28 ms, total: 42.5 ms\n",
      "Wall time: 18.1 ms\n"
     ]
    }
   ],
   "source": [
    "%%time\n",
    "\n",
    "# Сделаем веса классов сбалансированными у Логистической регрессии\n",
    "\n",
    "# Инициализируем модель LogisticRegression с параметрами:\n",
    "# random_state=12345, solver='liblinear' и class_weight='balanced'\n",
    "\n",
    "model_lr = LogisticRegression(random_state=12345, solver='liblinear', class_weight='balanced')\n",
    "\n",
    "# Обучим модель на тренировочной выборке\n",
    "\n",
    "model_lr.fit(features_train, target_train) \n",
    "\n",
    "# Получим предсказания модели на валидационной выборке\n",
    "\n",
    "predictions_valid_lr = model_lr.predict(features_valid)\n",
    "\n",
    "# посчитаем качество модели на валидационной выборке\n",
    "\n",
    "result_lr = accuracy_score(target_valid, predictions_valid_lr)\n",
    "\n",
    "# Посчитаем точность модели \n",
    "\n",
    "f1_lr = f1_score(target_valid, predictions_valid_lr)\n",
    "\n",
    "print('Accuracy наилучшей модели на валидационной выборке:', result_lr)\n",
    "print('F1-мера:', f1_lr)\n"
   ]
  },
  {
   "cell_type": "code",
   "execution_count": 38,
   "metadata": {},
   "outputs": [
    {
     "name": "stdout",
     "output_type": "stream",
     "text": [
      "Полнота: 0.7072691552062869\n",
      "Точность: 0.391304347826087\n",
      "F1-мера: 0.5038488453463961\n",
      "AUC-ROC: 0.7825124652290909\n"
     ]
    }
   ],
   "source": [
    "print('Полнота:', recall_score(target_valid, predictions_valid_lr))\n",
    "print('Точность:', precision_score(target_valid, predictions_valid_lr))\n",
    "print('F1-мера:', f1_score(target_valid, predictions_valid_lr)) \n",
    "probabilities_valid_lr = model_lr.predict_proba(features_valid)\n",
    "probabilities_one_valid_lr = probabilities_valid_lr[:, 1]\n",
    "print('AUC-ROC:', roc_auc_score(target_valid, probabilities_one_valid_lr))\n"
   ]
  },
  {
   "cell_type": "markdown",
   "metadata": {},
   "source": [
    "Лучший результат после взвешивания классов показала модель _Случайный лес_:\n",
    "- F1-мера: 0.6307977736549165\n",
    "- Площадь ROC-кривой: 0.858353751015128"
   ]
  },
  {
   "cell_type": "markdown",
   "metadata": {},
   "source": [
    "**3.2 Увеличение выборки.**"
   ]
  },
  {
   "cell_type": "code",
   "execution_count": 39,
   "metadata": {},
   "outputs": [
    {
     "name": "stdout",
     "output_type": "stream",
     "text": [
      "(8057, 11)\n",
      "(8057,)\n"
     ]
    }
   ],
   "source": [
    "# Создадим функцию upsample() и увеличим выборку в 4 раза\n",
    "\n",
    "def upsample(features, target, repeat):\n",
    "    features_zeros = features[target == 0]\n",
    "    features_ones = features[target == 1]\n",
    "    target_zeros = target[target == 0]\n",
    "    target_ones = target[target == 1]\n",
    "\n",
    "    features_upsampled = pd.concat([features_zeros] + [features_ones] * repeat)\n",
    "    target_upsampled = pd.concat([target_zeros] + [target_ones] * repeat)\n",
    "    \n",
    "    features_upsampled, target_upsampled = shuffle(\n",
    "        features_upsampled, target_upsampled, random_state=12345)\n",
    "    \n",
    "    return features_upsampled, target_upsampled\n",
    "\n",
    "features_upsampled, target_upsampled = upsample(features_train, target_train, 4)\n",
    "\n",
    "print(features_upsampled.shape)\n",
    "print(target_upsampled.shape)"
   ]
  },
  {
   "cell_type": "markdown",
   "metadata": {},
   "source": [
    "**Обучим модели на новых данных.**"
   ]
  },
  {
   "cell_type": "code",
   "execution_count": 40,
   "metadata": {},
   "outputs": [
    {
     "name": "stdout",
     "output_type": "stream",
     "text": [
      "F1-мера: 0.5638629283489096 , глубина дерева - 6\n",
      "Accuracy наилучшей модели на валидационной выборке: 0.776\n",
      "AUC-ROC: 0.8240638867043147\n"
     ]
    }
   ],
   "source": [
    "# подберем лучшие гиперпараметры для Решающего дерева\n",
    "\n",
    "best_depth_dtc = 0\n",
    "best_f1_dtc = 0\n",
    "best_result_dtc = 0\n",
    "\n",
    "for depth_dtc in range(1,11):\n",
    "    \n",
    "    model_dtc_upsampled = DecisionTreeClassifier(random_state=12345, max_depth=depth_dtc) \n",
    "    model_dtc_upsampled.fit(features_upsampled, target_upsampled) \n",
    "    predictions_valid_dtc = model_dtc_upsampled.predict(features_valid) \n",
    "    result_dtc = accuracy_score(target_valid, predictions_valid_dtc)\n",
    "    f1_dtc = f1_score(target_valid, predictions_valid_dtc)\n",
    "    \n",
    "    if f1_dtc > best_f1_dtc:\n",
    "        best_depth_dtc = depth_dtc\n",
    "        best_f1_dtc = f1_dtc\n",
    "        best_result_dtc = result_dtc\n",
    "        \n",
    "print('F1-мера:', best_f1_dtc, ', глубина дерева -', best_depth_dtc)\n",
    "print('Accuracy наилучшей модели на валидационной выборке:', best_result_dtc)\n",
    "probabilities_valid_dtc = model_dtc.predict_proba(features_valid)\n",
    "probabilities_one_valid_dtc = probabilities_valid_dtc[:, 1]\n",
    "print('AUC-ROC:', roc_auc_score(target_valid, probabilities_one_valid_dtc))\n",
    "\n"
   ]
  },
  {
   "cell_type": "code",
   "execution_count": 41,
   "metadata": {
    "scrolled": true
   },
   "outputs": [
    {
     "name": "stdout",
     "output_type": "stream",
     "text": [
      "Полнота: 0.7111984282907662\n",
      "Точность: 0.4670967741935484\n",
      "F1-мера: 0.5638629283489096\n",
      "AUC-ROC: 0.821525943365972\n",
      "CPU times: user 33.6 ms, sys: 61 µs, total: 33.7 ms\n",
      "Wall time: 30.8 ms\n"
     ]
    }
   ],
   "source": [
    "%%time\n",
    "\n",
    "# Решающее дерево\n",
    "\n",
    "model_dtc_upsampled = DecisionTreeClassifier(random_state=12345, max_depth=6) \n",
    "model_dtc_upsampled.fit(features_upsampled, target_upsampled) \n",
    "predictions_valid_dtc_upsampled = model_dtc_upsampled.predict(features_valid) \n",
    "\n",
    "print('Полнота:', recall_score(target_valid, predictions_valid_dtc_upsampled))\n",
    "print('Точность:', precision_score(target_valid, predictions_valid_dtc_upsampled))\n",
    "print('F1-мера:', f1_score(target_valid, predictions_valid_dtc_upsampled)) \n",
    "probabilities_valid_dtc_upsampled = model_dtc_upsampled.predict_proba(features_valid)\n",
    "probabilities_one_valid_dtc_upsampled = probabilities_valid_dtc_upsampled[:, 1]\n",
    "print('AUC-ROC:', roc_auc_score(target_valid, probabilities_one_valid_dtc_upsampled))\n",
    "\n",
    "    \n"
   ]
  },
  {
   "cell_type": "code",
   "execution_count": 42,
   "metadata": {},
   "outputs": [
    {
     "name": "stdout",
     "output_type": "stream",
     "text": [
      "F1-мера: 0.6271777003484321 , глубина дерева - 10 , количество деревьев -  60\n",
      "Accuracy наилучшей модели на валидационной выборке: 0.8288\n",
      "AUC-ROC: 0.858353751015128\n"
     ]
    }
   ],
   "source": [
    "# Подберем лучшие гиперпараметры для Случайного леса\n",
    "\n",
    "best_f1_rfr = 0\n",
    "best_est_rfr = 0\n",
    "best_depth_rfr = 0\n",
    "best_result_rfr = 0\n",
    "\n",
    "for est_rfr in range(10, 100, 10):\n",
    "    for depth_rfr in range (1, 11):\n",
    "        model_rfr_upsampled = RandomForestClassifier(random_state=12345, n_estimators=est_rfr, max_depth=depth_rfr) \n",
    "        model_rfr_upsampled.fit(features_upsampled, target_upsampled) \n",
    "        predictions_valid_rfr = model_rfr_upsampled.predict(features_valid)\n",
    "        result_rfr = accuracy_score(target_valid, predictions_valid_rfr)\n",
    "        f1_rfr = f1_score(target_valid, predictions_valid_rfr)\n",
    "              \n",
    "        if f1_rfr > best_f1_rfr:\n",
    "            best_f1_rfr = f1_rfr\n",
    "            best_depth_rfr = depth_rfr\n",
    "            best_est_rfr = est_rfr\n",
    "            best_result_rfr = result_rfr\n",
    "            \n",
    "print('F1-мера:', best_f1_rfr, \n",
    "      ', глубина дерева -', best_depth_rfr, ', количество деревьев - ', best_est_rfr\n",
    "     )\n",
    "print('Accuracy наилучшей модели на валидационной выборке:', best_result_rfr)\n",
    "probabilities_valid_rfr = model_rfr.predict_proba(features_valid)\n",
    "probabilities_one_valid_rfr = probabilities_valid_rfr[:, 1]\n",
    "print('AUC-ROC:', roc_auc_score(target_valid, probabilities_one_valid_rfr))"
   ]
  },
  {
   "cell_type": "code",
   "execution_count": 43,
   "metadata": {},
   "outputs": [
    {
     "name": "stdout",
     "output_type": "stream",
     "text": [
      "Полнота: 0.7072691552062869\n",
      "Точность: 0.5633802816901409\n",
      "F1-мера: 0.6271777003484321\n",
      "AUC-ROC: 0.8590207998863254\n",
      "CPU times: user 459 ms, sys: 0 ns, total: 459 ms\n",
      "Wall time: 471 ms\n"
     ]
    }
   ],
   "source": [
    "%%time\n",
    "\n",
    "# Случайный лес\n",
    "\n",
    "model_rfr_upsampled = RandomForestClassifier(random_state=12345, n_estimators=60, max_depth=10) \n",
    "model_rfr_upsampled.fit(features_upsampled, target_upsampled) \n",
    "predictions_valid_rfr_upsampled = model_rfr_upsampled.predict(features_valid)\n",
    "        \n",
    "\n",
    "print('Полнота:', recall_score(target_valid, predictions_valid_rfr_upsampled))\n",
    "print('Точность:', precision_score(target_valid, predictions_valid_rfr_upsampled))\n",
    "print('F1-мера:', f1_score(target_valid, predictions_valid_rfr_upsampled)) \n",
    "probabilities_valid_rfr_upsampled = model_rfr_upsampled.predict_proba(features_valid)\n",
    "probabilities_one_valid_rfr_upsampled = probabilities_valid_rfr_upsampled[:, 1]\n",
    "print('AUC-ROC:', roc_auc_score(target_valid, probabilities_one_valid_rfr_upsampled))\n"
   ]
  },
  {
   "cell_type": "code",
   "execution_count": 44,
   "metadata": {},
   "outputs": [
    {
     "name": "stdout",
     "output_type": "stream",
     "text": [
      "Полнота: 0.7072691552062869\n",
      "Точность: 0.39087947882736157\n",
      "F1-мера: 0.5034965034965035\n",
      "AUC-ROC: 0.7825016108835536\n",
      "CPU times: user 56.4 ms, sys: 79.7 ms, total: 136 ms\n",
      "Wall time: 79.1 ms\n"
     ]
    }
   ],
   "source": [
    "%%time\n",
    "\n",
    "# Логистическая регрессия\n",
    "\n",
    "model_lr_upsampled  = LogisticRegression(random_state=12345, solver='liblinear', class_weight='balanced')\n",
    "model_lr_upsampled .fit(features_upsampled, target_upsampled) \n",
    "predictions_valid_lr_upsampled  = model_lr_upsampled .predict(features_valid)\n",
    "\n",
    "print('Полнота:', recall_score(target_valid, predictions_valid_lr_upsampled))\n",
    "print('Точность:', precision_score(target_valid, predictions_valid_lr_upsampled))\n",
    "print('F1-мера:', f1_score(target_valid, predictions_valid_lr_upsampled)) \n",
    "probabilities_valid_lr_upsampled = model_lr_upsampled.predict_proba(features_valid)\n",
    "probabilities_one_valid_lr_upsampled = probabilities_valid_lr_upsampled[:, 1]\n",
    "print('AUC-ROC:', roc_auc_score(target_valid, probabilities_one_valid_lr_upsampled))\n",
    "\n"
   ]
  },
  {
   "cell_type": "markdown",
   "metadata": {},
   "source": [
    "Лучший результат также остался у модели _Случайный лес:_\n",
    "- F1-мера: 0.6271777003484321\n",
    "- Площадь ROC-кривой: 0.8590207998863254\n",
    "\n",
    "Полнота увеличилась, а точность уменьшилась. "
   ]
  },
  {
   "cell_type": "markdown",
   "metadata": {},
   "source": [
    "**3.3 Уменьшение выборки.**"
   ]
  },
  {
   "cell_type": "code",
   "execution_count": 45,
   "metadata": {},
   "outputs": [],
   "source": [
    "# Создадим функцию downsample() и уменьшим выборку в 4 раза\n",
    "\n",
    "def downsample(features, target, fraction):\n",
    "    features_zeros = features[target == 0]\n",
    "    features_ones = features[target == 1]\n",
    "    target_zeros = target[target == 0]\n",
    "    target_ones = target[target == 1]\n",
    "\n",
    "    features_downsampled = pd.concat(\n",
    "        [features_zeros.sample(frac=fraction, random_state=12345)] + [features_ones])\n",
    "    target_downsampled = pd.concat(\n",
    "        [target_zeros.sample(frac=fraction, random_state=12345)] + [target_ones])\n",
    "    \n",
    "    features_downsampled, target_downsampled = shuffle(\n",
    "        features_downsampled, target_downsampled, random_state=12345)\n",
    "    \n",
    "    return features_downsampled, target_downsampled\n",
    "\n",
    "features_downsampled, target_downsampled = downsample(features_train, target_train, 0.25)"
   ]
  },
  {
   "cell_type": "markdown",
   "metadata": {},
   "source": [
    "**Обучим модели на новых данных.**"
   ]
  },
  {
   "cell_type": "code",
   "execution_count": 46,
   "metadata": {},
   "outputs": [
    {
     "name": "stdout",
     "output_type": "stream",
     "text": [
      "F1-мера: 0.5653450807635829 , глубина дерева - 5\n",
      "Accuracy наилучшей модели на валидационной выборке: 0.7632\n",
      "AUC-ROC: 0.8240638867043147\n"
     ]
    }
   ],
   "source": [
    "# подберем лучшие гиперпараметры для Решающего дерева\n",
    "\n",
    "best_depth_dtc = 0\n",
    "best_f1_dtc = 0\n",
    "best_result_dtc = 0\n",
    "\n",
    "for depth_dtc in range(1,11):\n",
    "    \n",
    "    model_dtc_downsampled = DecisionTreeClassifier(random_state=12345, max_depth=depth_dtc) \n",
    "    model_dtc_downsampled.fit(features_downsampled, target_downsampled) \n",
    "    predictions_valid_dtc = model_dtc_downsampled.predict(features_valid) \n",
    "    result_dtc = accuracy_score(target_valid, predictions_valid_dtc)\n",
    "    f1_dtc = f1_score(target_valid, predictions_valid_dtc)\n",
    "    \n",
    "    if f1_dtc > best_f1_dtc:\n",
    "        best_depth_dtc = depth_dtc\n",
    "        best_f1_dtc = f1_dtc\n",
    "        best_result_dtc = result_dtc\n",
    "        \n",
    "print('F1-мера:', best_f1_dtc, ', глубина дерева -', best_depth_dtc)\n",
    "print('Accuracy наилучшей модели на валидационной выборке:', best_result_dtc)\n",
    "probabilities_valid_dtc = model_dtc.predict_proba(features_valid)\n",
    "probabilities_one_valid_dtc = probabilities_valid_dtc[:, 1]\n",
    "print('AUC-ROC:', roc_auc_score(target_valid, probabilities_one_valid_dtc))\n"
   ]
  },
  {
   "cell_type": "code",
   "execution_count": 47,
   "metadata": {},
   "outputs": [
    {
     "name": "stdout",
     "output_type": "stream",
     "text": [
      "Полнота: 0.756385068762279\n",
      "Точность: 0.451348182883939\n",
      "F1-мера: 0.5653450807635829\n",
      "AUC-ROC: 0.8320645261239427\n",
      "CPU times: user 23.2 ms, sys: 92 µs, total: 23.3 ms\n",
      "Wall time: 20.5 ms\n"
     ]
    }
   ],
   "source": [
    "%%time\n",
    "\n",
    "# Решающее дерево\n",
    "\n",
    "model_dtc_downsampled = DecisionTreeClassifier(random_state=12345, max_depth=5) \n",
    "model_dtc_downsampled.fit(features_downsampled, target_downsampled) \n",
    "predictions_valid_dtc_downsampled = model_dtc_downsampled.predict(features_valid) \n",
    "\n",
    "print('Полнота:', recall_score(target_valid, predictions_valid_dtc_downsampled))\n",
    "print('Точность:', precision_score(target_valid, predictions_valid_dtc_downsampled))\n",
    "print('F1-мера:', f1_score(target_valid, predictions_valid_dtc_downsampled)) \n",
    "probabilities_valid_dtc_downsampled = model_dtc_downsampled.predict_proba(features_valid)\n",
    "probabilities_one_valid_dtc_downsampled = probabilities_valid_dtc_downsampled[:, 1]\n",
    "print('AUC-ROC:', roc_auc_score(target_valid, probabilities_one_valid_dtc_downsampled))\n",
    "   "
   ]
  },
  {
   "cell_type": "code",
   "execution_count": 48,
   "metadata": {},
   "outputs": [
    {
     "name": "stdout",
     "output_type": "stream",
     "text": [
      "F1-мера: 0.601823708206687 , глубина дерева - 9 , количество деревьев -  70\n",
      "Accuracy наилучшей модели на валидационной выборке: 0.7904\n",
      "AUC-ROC: 0.858353751015128\n"
     ]
    }
   ],
   "source": [
    "# Подберем лучшие гиперпараметры для Случайного леса\n",
    "\n",
    "best_f1_rfr = 0\n",
    "best_est_rfr = 0\n",
    "best_depth_rfr = 0\n",
    "best_result_rfr = 0\n",
    "\n",
    "for est_rfr in range(10, 100, 10):\n",
    "    for depth_rfr in range (1, 11):\n",
    "        model_rfr_downsampled = RandomForestClassifier(random_state=12345, n_estimators=est_rfr, max_depth=depth_rfr) \n",
    "        model_rfr_downsampled.fit(features_downsampled, target_downsampled) \n",
    "        predictions_valid_rfr = model_rfr_downsampled.predict(features_valid)\n",
    "        result_rfr = accuracy_score(target_valid, predictions_valid_rfr)\n",
    "        f1_rfr = f1_score(target_valid, predictions_valid_rfr)\n",
    "              \n",
    "        if f1_rfr > best_f1_rfr:\n",
    "            best_f1_rfr = f1_rfr\n",
    "            best_depth_rfr = depth_rfr\n",
    "            best_est_rfr = est_rfr\n",
    "            best_result_rfr = result_rfr\n",
    "            \n",
    "print('F1-мера:', best_f1_rfr, \n",
    "      ', глубина дерева -', best_depth_rfr, ', количество деревьев - ', best_est_rfr\n",
    "     )\n",
    "print('Accuracy наилучшей модели на валидационной выборке:', best_result_rfr)\n",
    "probabilities_valid_rfr = model_rfr.predict_proba(features_valid)\n",
    "probabilities_one_valid_rfr = probabilities_valid_rfr[:, 1]\n",
    "print('AUC-ROC:', roc_auc_score(target_valid, probabilities_one_valid_rfr))"
   ]
  },
  {
   "cell_type": "code",
   "execution_count": 49,
   "metadata": {},
   "outputs": [
    {
     "name": "stdout",
     "output_type": "stream",
     "text": [
      "Полнота: 0.7779960707269156\n",
      "Точность: 0.49070631970260226\n",
      "F1-мера: 0.601823708206687\n",
      "AUC-ROC: 0.8569229509215832\n",
      "CPU times: user 250 ms, sys: 7.86 ms, total: 258 ms\n",
      "Wall time: 267 ms\n"
     ]
    }
   ],
   "source": [
    "%%time\n",
    "\n",
    "# Случайный лес\n",
    "\n",
    "model_rfr_downsampled = RandomForestClassifier(random_state=12345, n_estimators=70, max_depth=9) \n",
    "model_rfr_downsampled.fit(features_downsampled, target_downsampled) \n",
    "predictions_valid_rfr_downsampled = model_rfr_downsampled.predict(features_valid)\n",
    "        \n",
    "\n",
    "print('Полнота:', recall_score(target_valid, predictions_valid_rfr_downsampled))\n",
    "print('Точность:', precision_score(target_valid, predictions_valid_rfr_downsampled))\n",
    "print('F1-мера:', f1_score(target_valid, predictions_valid_rfr_downsampled)) \n",
    "probabilities_valid_rfr_downsampled = model_rfr_downsampled.predict_proba(features_valid)\n",
    "probabilities_one_valid_rfr_downsampled = probabilities_valid_rfr_downsampled[:, 1]\n",
    "print('AUC-ROC:', roc_auc_score(target_valid, probabilities_one_valid_rfr_downsampled))\n"
   ]
  },
  {
   "cell_type": "code",
   "execution_count": 50,
   "metadata": {},
   "outputs": [
    {
     "name": "stdout",
     "output_type": "stream",
     "text": [
      "Полнота: 0.7013752455795678\n",
      "Точность: 0.39932885906040266\n",
      "F1-мера: 0.5089094796863863\n",
      "AUC-ROC: 0.7802666024615682\n",
      "CPU times: user 23.6 ms, sys: 35.1 ms, total: 58.8 ms\n",
      "Wall time: 44.3 ms\n"
     ]
    }
   ],
   "source": [
    "%%time\n",
    "\n",
    "# Логистическая регрессия\n",
    "\n",
    "model_lr_downsampled = LogisticRegression(random_state=12345, solver='liblinear', class_weight='balanced')\n",
    "model_lr_downsampled.fit(features_downsampled, target_downsampled) \n",
    "predictions_valid_lr_downsampled = model_lr_downsampled.predict(features_valid)\n",
    "\n",
    "print('Полнота:', recall_score(target_valid, predictions_valid_lr_downsampled))\n",
    "print('Точность:', precision_score(target_valid, predictions_valid_lr_downsampled))\n",
    "print('F1-мера:', f1_score(target_valid, predictions_valid_lr_downsampled)) \n",
    "probabilities_valid_lr_downsampled = model_lr_downsampled.predict_proba(features_valid)\n",
    "probabilities_one_valid_lr_downsampled = probabilities_valid_lr_downsampled[:, 1]\n",
    "print('AUC-ROC:', roc_auc_score(target_valid, probabilities_one_valid_lr_downsampled))\n"
   ]
  },
  {
   "cell_type": "markdown",
   "metadata": {},
   "source": [
    "После уменьшения выборки - качество модели _Случайный Лес_ снизилось, точность еще уменьшилась, а полнота увеличилась."
   ]
  },
  {
   "cell_type": "markdown",
   "metadata": {},
   "source": [
    "**Вывод:**\n",
    "\n",
    "Лучшие показатели у модели _Случайный Лес:_\n",
    "\n",
    "1. **После взвешивания классов:** \\\n",
    "Полнота: 0.6679764243614931 \\\n",
    "Точность: 0.5975395430579965 \\\n",
    "F1-мера: 0.6307977736549165 \\\n",
    "Площадь ROC-кривой: 0.858353751015128\n",
    "\n",
    "\n",
    "\n",
    "2. **После увеличения выборки:** \\\n",
    "Полнота: 0.7072691552062869 \\\n",
    "Точность: 0.5633802816901409 \\\n",
    "F1-мера: 0.6271777003484321 \\\n",
    "Площадь ROC-кривой: 0.8590207998863254\n",
    "\n",
    "\n",
    "\n",
    "3. **После уменьшения выборки:** \\\n",
    "Полнота: 0.7779960707269156 \\\n",
    "Точность: 0.49070631970260226 \\\n",
    "F1-мера: 0.601823708206687 \\\n",
    "Площадь ROC-кривой: 0.8569229509215832 \n",
    "\n",
    "\n",
    "Для тестирования будем использовать модель _Случайный Лес_ после взвешивания классов. \\\n",
    "При глубине дерева - 9 и количестве деревьев -  50. \\\n",
    "Самые плохие показатели у _Логистической Регрессии._"
   ]
  },
  {
   "cell_type": "markdown",
   "metadata": {},
   "source": [
    "## Тестирование модели"
   ]
  },
  {
   "cell_type": "code",
   "execution_count": 51,
   "metadata": {},
   "outputs": [
    {
     "name": "stdout",
     "output_type": "stream",
     "text": [
      "Полнота: 0.6208251473477406\n",
      "Точность: 0.5862708719851577\n",
      "F1-мера: 0.6030534351145038\n",
      "AUC-ROC: 0.8539912908678444\n"
     ]
    }
   ],
   "source": [
    "# проверим модель Случайный лес, т.к. она показала самый точный результат\n",
    "\n",
    "test_predictions = model_rfr.predict(features_test)\n",
    "\n",
    "print('Полнота:', recall_score(target_test, test_predictions))\n",
    "print('Точность:', precision_score(target_test, test_predictions))\n",
    "print('F1-мера:', f1_score(target_test, test_predictions)) \n",
    "probabilities_valid_test = model_rfr.predict_proba(features_test)\n",
    "probabilities_one_valid_test = probabilities_valid_test[:, 1]\n",
    "print('AUC-ROC:', roc_auc_score(target_test, probabilities_one_valid_test))\n"
   ]
  },
  {
   "cell_type": "code",
   "execution_count": 52,
   "metadata": {},
   "outputs": [
    {
     "data": {
      "image/png": "[encoded data removed]",
      "text/plain": [
       "<Figure size 432x288 with 1 Axes>"
      ]
     },
     "metadata": {
      "needs_background": "light"
     },
     "output_type": "display_data"
    }
   ],
   "source": [
    "# Построим ROC-кривую\n",
    "\n",
    "fpr, tpr, thresholds = roc_curve(target_test, probabilities_one_valid_test)\n",
    "\n",
    "plt.figure()\n",
    "plt.plot(fpr, tpr)\n",
    "plt.plot([0, 1], [0, 1], linestyle='--')\n",
    "plt.xlim([0.0, 1.0])\n",
    "plt.ylim([0.0, 1.0])\n",
    "plt.xlabel('False Positive Rate') \n",
    "plt.ylabel('True Positive Rate')\n",
    "plt.title('ROC-кривая')\n",
    "plt.show()"
   ]
  },
  {
   "cell_type": "code",
   "execution_count": 53,
   "metadata": {},
   "outputs": [
    {
     "name": "stdout",
     "output_type": "stream",
     "text": [
      "Полнота: 1.0\n",
      "F1-мера: 0.3384564260197724\n",
      "0.2037\n"
     ]
    }
   ],
   "source": [
    "# создадим константную модель\n",
    "\n",
    "target_pred_constant = pd.Series(1, index=target.index)\n",
    "print('Полнота:', recall_score(target, target_pred_constant))\n",
    "print('F1-мера:', f1_score(target, target_pred_constant)) \n",
    "print(accuracy_score(target, target_pred_constant))"
   ]
  },
  {
   "cell_type": "code",
   "execution_count": 54,
   "metadata": {},
   "outputs": [
    {
     "name": "stdout",
     "output_type": "stream",
     "text": [
      "F1-мера: 0.3383183781987371\n"
     ]
    }
   ],
   "source": [
    "# Проверим модель на адекватность\n",
    "\n",
    "dummy_model = DummyClassifier(strategy='constant', constant=1)\n",
    "dummy_model.fit(features_train, target_train)\n",
    "print('F1-мера:', f1_score(dummy_model.predict(features_test), target_test))"
   ]
  },
  {
   "cell_type": "markdown",
   "metadata": {},
   "source": [
    "**Вывод:** \\\n",
    "Мы достигли поставленной цели и получили метрику F1 равную: \\\n",
    "F1-мера: 0.6030534351145038"
   ]
  },
  {
   "cell_type": "markdown",
   "metadata": {},
   "source": [
    "**Общий вывод:** \\\n",
    "1. **_Были подготовлены данные:_**\n",
    "- в таблице 10000 строк и 14 столбцов;\n",
    "- заполнены пропуски в столбце 'Tenure';\n",
    "- дубликаты не выявлены;\n",
    "- мультиколлинеарность не выявлена;\n",
    "- преобразованы категориальные признаки в численные;\n",
    "- удалены столбцы 'RowNumber', 'CustomerId' и'Surname',т.к. они не влияют на качество обучения;\n",
    "- приведены названия столбцов к змеиному регистру;\n",
    "- сформированы выборки: обучающая (50%), тестовая (25%) и валидационная (25%);\n",
    "- отбораны признаки;\n",
    "- произведено масштабирование признаков.\n",
    "\n",
    "2. **_Были исследованы задачи:_**\n",
    "- обучив модели без учета дисбаланса классов, наилучшее значение метрик демонстрирует модель _Случайный лес_: \\\n",
    "При глубине дерева - 10 и количестве деревьев -  50: \\\n",
    "F1-мера: 0.588235294117647 \\\n",
    "Accuracy наилучшей модели на валидационной выборке: 0.8628 \\\n",
    "Площадь ROC-кривой: 0.8572673297027193 \n",
    "- наблюдается дисбаланс классов;\n",
    "- по матрице видно, что модель часто ошибается и предсказывает отрицательные ответы там, где их нет.\n",
    "\n",
    "3. **_Была произведена борьба с дисбалансом тремя методами:_**\n",
    "- взешивание классов;\n",
    "- увеличение выборки;\n",
    "- уменьшение выборки;\n",
    "\n",
    "Лучшие показатели у модели _Случайный Лес:_\n",
    "\n",
    "1. **После взвешивания классов:** \\\n",
    "Полнота: 0.6679764243614931 \\\n",
    "Точность: 0.5975395430579965 \\\n",
    "F1-мера: 0.6307977736549165 \\\n",
    "Площадь ROC-кривой: 0.858353751015128\n",
    "\n",
    "\n",
    "\n",
    "2. **После увеличения выборки:** \\\n",
    "Полнота: 0.7072691552062869 \\\n",
    "Точность: 0.5633802816901409 \\\n",
    "F1-мера: 0.6271777003484321 \\\n",
    "Площадь ROC-кривой: 0.8590207998863254\n",
    "\n",
    "\n",
    "\n",
    "3. **После уменьшения выборки:** \\\n",
    "Полнота: 0.7779960707269156 \\\n",
    "Точность: 0.49070631970260226 \\\n",
    "F1-мера: 0.601823708206687 \\\n",
    "Площадь ROC-кривой: 0.8569229509215832 \n",
    "\n",
    "- самые плохие показатели у _Логистической Регрессии._\n",
    "\n",
    "4. **_Было произведено тестирование модели._**\n",
    "- для тестирования использовалась модель _Случайный лес_ после взвешивания классов;\n",
    "- при глубине дерева - 9 и количестве деревьев -  50. \n",
    "- мы достигли поставленной цели и получили метрику F1 равную: \\\n",
    "F1-мера: 0.6030534351145038 \n",
    "- построили ROC-кривую, AUC-ROC: 0.8539912908678444\n"
   ]
  },
  {
   "cell_type": "markdown",
   "metadata": {},
   "source": [
    "## Чек-лист готовности проекта"
   ]
  },
  {
   "cell_type": "markdown",
   "metadata": {},
   "source": [
    "Поставьте 'x' в выполненных пунктах. Далее нажмите Shift+Enter."
   ]
  },
  {
   "cell_type": "markdown",
   "metadata": {},
   "source": [
    "- [x]  Jupyter Notebook открыт\n",
    "- [ ]  Весь код выполняется без ошибок\n",
    "- [ ]  Ячейки с кодом расположены в порядке исполнения\n",
    "- [ ]  Выполнен шаг 1: данные подготовлены\n",
    "- [ ]  Выполнен шаг 2: задача исследована\n",
    "    - [ ]  Исследован баланс классов\n",
    "    - [ ]  Изучены модели без учёта дисбаланса\n",
    "    - [ ]  Написаны выводы по результатам исследования\n",
    "- [ ]  Выполнен шаг 3: учтён дисбаланс\n",
    "    - [ ]  Применено несколько способов борьбы с дисбалансом\n",
    "    - [ ]  Написаны выводы по результатам исследования\n",
    "- [ ]  Выполнен шаг 4: проведено тестирование\n",
    "- [ ]  Удалось достичь *F1*-меры не менее 0.59\n",
    "- [ ]  Исследована метрика *AUC-ROC*"
   ]
  }
 ],
 "metadata": {
  "ExecuteTimeLog": [
   {
    "duration": 1411,
    "start_time": "2023-03-16T20:08:47.241Z"
   },
   {
    "duration": 6,
    "start_time": "2023-03-16T20:09:23.409Z"
   },
   {
    "duration": 95,
    "start_time": "2023-03-16T20:10:14.782Z"
   },
   {
    "duration": 115,
    "start_time": "2023-03-16T20:10:21.397Z"
   },
   {
    "duration": 31,
    "start_time": "2023-03-16T20:10:24.035Z"
   },
   {
    "duration": 85,
    "start_time": "2023-03-16T20:10:46.430Z"
   },
   {
    "duration": 18,
    "start_time": "2023-03-16T20:18:27.455Z"
   },
   {
    "duration": 7,
    "start_time": "2023-03-16T20:18:46.387Z"
   },
   {
    "duration": 8,
    "start_time": "2023-03-16T20:18:49.024Z"
   },
   {
    "duration": 16,
    "start_time": "2023-03-16T20:18:53.363Z"
   },
   {
    "duration": 24,
    "start_time": "2023-03-16T20:19:12.630Z"
   },
   {
    "duration": 30,
    "start_time": "2023-03-16T20:19:22.042Z"
   },
   {
    "duration": 12,
    "start_time": "2023-03-16T20:19:31.014Z"
   },
   {
    "duration": 3,
    "start_time": "2023-03-16T20:21:14.606Z"
   },
   {
    "duration": 4,
    "start_time": "2023-03-16T20:21:26.503Z"
   },
   {
    "duration": 48,
    "start_time": "2023-03-16T20:26:48.785Z"
   },
   {
    "duration": 65,
    "start_time": "2023-03-16T20:29:15.823Z"
   },
   {
    "duration": 64,
    "start_time": "2023-03-16T20:29:32.177Z"
   },
   {
    "duration": 1281,
    "start_time": "2023-03-16T20:30:21.042Z"
   },
   {
    "duration": 9,
    "start_time": "2023-03-16T20:30:22.326Z"
   },
   {
    "duration": 96,
    "start_time": "2023-03-16T20:30:22.337Z"
   },
   {
    "duration": 33,
    "start_time": "2023-03-16T20:30:22.435Z"
   },
   {
    "duration": 104,
    "start_time": "2023-03-16T20:30:22.470Z"
   },
   {
    "duration": 9,
    "start_time": "2023-03-16T20:30:22.576Z"
   },
   {
    "duration": 23,
    "start_time": "2023-03-16T20:30:22.587Z"
   },
   {
    "duration": 56,
    "start_time": "2023-03-16T20:30:27.729Z"
   },
   {
    "duration": 4,
    "start_time": "2023-03-16T20:31:22.338Z"
   },
   {
    "duration": 116,
    "start_time": "2023-03-16T20:31:24.961Z"
   },
   {
    "duration": 13,
    "start_time": "2023-03-16T20:31:33.935Z"
   },
   {
    "duration": 10,
    "start_time": "2023-03-16T20:31:40.104Z"
   },
   {
    "duration": 20,
    "start_time": "2023-03-16T20:31:41.967Z"
   },
   {
    "duration": 1235,
    "start_time": "2023-03-16T20:31:52.158Z"
   },
   {
    "duration": 6,
    "start_time": "2023-03-16T20:31:53.395Z"
   },
   {
    "duration": 49,
    "start_time": "2023-03-16T20:31:53.403Z"
   },
   {
    "duration": 34,
    "start_time": "2023-03-16T20:31:53.454Z"
   },
   {
    "duration": 106,
    "start_time": "2023-03-16T20:31:53.490Z"
   },
   {
    "duration": 7,
    "start_time": "2023-03-16T20:31:53.597Z"
   },
   {
    "duration": 15,
    "start_time": "2023-03-16T20:31:53.606Z"
   },
   {
    "duration": 6,
    "start_time": "2023-03-16T20:31:53.623Z"
   },
   {
    "duration": 148,
    "start_time": "2023-03-16T20:31:53.631Z"
   },
   {
    "duration": 14,
    "start_time": "2023-03-16T20:32:19.962Z"
   },
   {
    "duration": 11,
    "start_time": "2023-03-16T20:32:32.978Z"
   },
   {
    "duration": 3,
    "start_time": "2023-03-16T20:32:33.333Z"
   },
   {
    "duration": 11,
    "start_time": "2023-03-16T20:32:36.545Z"
   },
   {
    "duration": 3,
    "start_time": "2023-03-16T20:32:36.783Z"
   },
   {
    "duration": 1240,
    "start_time": "2023-03-16T20:32:43.764Z"
   },
   {
    "duration": 7,
    "start_time": "2023-03-16T20:32:45.006Z"
   },
   {
    "duration": 72,
    "start_time": "2023-03-16T20:32:45.015Z"
   },
   {
    "duration": 33,
    "start_time": "2023-03-16T20:32:45.089Z"
   },
   {
    "duration": 102,
    "start_time": "2023-03-16T20:32:45.124Z"
   },
   {
    "duration": 6,
    "start_time": "2023-03-16T20:32:45.228Z"
   },
   {
    "duration": 32,
    "start_time": "2023-03-16T20:32:45.236Z"
   },
   {
    "duration": 3,
    "start_time": "2023-03-16T20:32:45.270Z"
   },
   {
    "duration": 34,
    "start_time": "2023-03-16T20:32:45.275Z"
   },
   {
    "duration": 4,
    "start_time": "2023-03-16T20:33:04.347Z"
   },
   {
    "duration": 32,
    "start_time": "2023-03-16T20:33:06.018Z"
   },
   {
    "duration": 4,
    "start_time": "2023-03-16T20:33:25.083Z"
   },
   {
    "duration": 10,
    "start_time": "2023-03-16T20:33:34.765Z"
   },
   {
    "duration": 4,
    "start_time": "2023-03-16T20:33:46.742Z"
   },
   {
    "duration": 6,
    "start_time": "2023-03-16T20:33:47.683Z"
   },
   {
    "duration": 4,
    "start_time": "2023-03-16T20:34:29.519Z"
   },
   {
    "duration": 5,
    "start_time": "2023-03-16T20:34:31.038Z"
   },
   {
    "duration": 1130,
    "start_time": "2023-03-16T20:34:37.791Z"
   },
   {
    "duration": 7,
    "start_time": "2023-03-16T20:34:38.923Z"
   },
   {
    "duration": 48,
    "start_time": "2023-03-16T20:34:38.931Z"
   },
   {
    "duration": 31,
    "start_time": "2023-03-16T20:34:38.981Z"
   },
   {
    "duration": 91,
    "start_time": "2023-03-16T20:34:39.013Z"
   },
   {
    "duration": 7,
    "start_time": "2023-03-16T20:34:39.105Z"
   },
   {
    "duration": 19,
    "start_time": "2023-03-16T20:34:39.113Z"
   },
   {
    "duration": 3,
    "start_time": "2023-03-16T20:34:39.134Z"
   },
   {
    "duration": 25,
    "start_time": "2023-03-16T20:34:39.139Z"
   },
   {
    "duration": 8,
    "start_time": "2023-03-16T20:34:39.167Z"
   },
   {
    "duration": 990,
    "start_time": "2023-03-17T11:49:26.577Z"
   },
   {
    "duration": 7,
    "start_time": "2023-03-17T11:49:27.570Z"
   },
   {
    "duration": 168,
    "start_time": "2023-03-17T11:49:27.579Z"
   },
   {
    "duration": 23,
    "start_time": "2023-03-17T11:49:27.749Z"
   },
   {
    "duration": 71,
    "start_time": "2023-03-17T11:49:27.773Z"
   },
   {
    "duration": 6,
    "start_time": "2023-03-17T11:49:27.845Z"
   },
   {
    "duration": 17,
    "start_time": "2023-03-17T11:49:27.852Z"
   },
   {
    "duration": 2,
    "start_time": "2023-03-17T11:49:27.871Z"
   },
   {
    "duration": 26,
    "start_time": "2023-03-17T11:49:27.876Z"
   },
   {
    "duration": 18,
    "start_time": "2023-03-17T11:49:27.904Z"
   },
   {
    "duration": 1196,
    "start_time": "2023-03-17T11:58:15.859Z"
   },
   {
    "duration": 984,
    "start_time": "2023-03-17T11:58:32.488Z"
   },
   {
    "duration": 6,
    "start_time": "2023-03-17T11:58:33.474Z"
   },
   {
    "duration": 45,
    "start_time": "2023-03-17T11:58:33.481Z"
   },
   {
    "duration": 23,
    "start_time": "2023-03-17T11:58:33.528Z"
   },
   {
    "duration": 74,
    "start_time": "2023-03-17T11:58:33.552Z"
   },
   {
    "duration": 3,
    "start_time": "2023-03-17T11:58:33.629Z"
   },
   {
    "duration": 34,
    "start_time": "2023-03-17T11:58:33.633Z"
   },
   {
    "duration": 5,
    "start_time": "2023-03-17T11:58:33.669Z"
   },
   {
    "duration": 6,
    "start_time": "2023-03-17T11:58:33.675Z"
   },
   {
    "duration": 9,
    "start_time": "2023-03-17T11:58:33.684Z"
   },
   {
    "duration": 6,
    "start_time": "2023-03-17T12:21:32.263Z"
   },
   {
    "duration": 43,
    "start_time": "2023-03-17T12:21:34.216Z"
   },
   {
    "duration": 18,
    "start_time": "2023-03-17T12:21:34.947Z"
   },
   {
    "duration": 104,
    "start_time": "2023-03-17T12:21:37.521Z"
   },
   {
    "duration": 85,
    "start_time": "2023-03-17T12:25:53.578Z"
   },
   {
    "duration": 409,
    "start_time": "2023-03-17T12:26:14.697Z"
   },
   {
    "duration": 6,
    "start_time": "2023-03-17T12:26:16.743Z"
   },
   {
    "duration": 976,
    "start_time": "2023-03-17T12:26:21.574Z"
   },
   {
    "duration": 956,
    "start_time": "2023-03-17T12:26:30.693Z"
   },
   {
    "duration": 911,
    "start_time": "2023-03-17T12:26:37.437Z"
   },
   {
    "duration": 868,
    "start_time": "2023-03-17T12:26:59.259Z"
   },
   {
    "duration": 886,
    "start_time": "2023-03-17T12:27:08.021Z"
   },
   {
    "duration": 10,
    "start_time": "2023-03-17T12:42:41.482Z"
   },
   {
    "duration": 12,
    "start_time": "2023-03-17T12:42:57.332Z"
   },
   {
    "duration": 11,
    "start_time": "2023-03-17T12:43:07.956Z"
   },
   {
    "duration": 2,
    "start_time": "2023-03-17T12:43:09.057Z"
   },
   {
    "duration": 4,
    "start_time": "2023-03-17T12:43:09.713Z"
   },
   {
    "duration": 4,
    "start_time": "2023-03-17T12:43:11.010Z"
   },
   {
    "duration": 100,
    "start_time": "2023-03-17T12:51:22.079Z"
   },
   {
    "duration": 73,
    "start_time": "2023-03-17T12:51:43.247Z"
   },
   {
    "duration": 25,
    "start_time": "2023-03-17T12:51:47.235Z"
   },
   {
    "duration": 13,
    "start_time": "2023-03-17T12:52:01.405Z"
   },
   {
    "duration": 12,
    "start_time": "2023-03-17T12:52:38.831Z"
   },
   {
    "duration": 1237,
    "start_time": "2023-03-17T12:52:49.976Z"
   },
   {
    "duration": 6,
    "start_time": "2023-03-17T12:52:51.215Z"
   },
   {
    "duration": 51,
    "start_time": "2023-03-17T12:52:51.222Z"
   },
   {
    "duration": 23,
    "start_time": "2023-03-17T12:52:51.275Z"
   },
   {
    "duration": 87,
    "start_time": "2023-03-17T12:52:51.299Z"
   },
   {
    "duration": 984,
    "start_time": "2023-03-17T12:52:51.387Z"
   },
   {
    "duration": 4,
    "start_time": "2023-03-17T12:52:52.372Z"
   },
   {
    "duration": 15,
    "start_time": "2023-03-17T12:52:52.377Z"
   },
   {
    "duration": 17,
    "start_time": "2023-03-17T12:52:52.394Z"
   },
   {
    "duration": 14,
    "start_time": "2023-03-17T12:52:52.414Z"
   },
   {
    "duration": 142,
    "start_time": "2023-03-17T12:52:52.430Z"
   },
   {
    "duration": 0,
    "start_time": "2023-03-17T12:52:52.574Z"
   },
   {
    "duration": 0,
    "start_time": "2023-03-17T12:52:52.575Z"
   },
   {
    "duration": 0,
    "start_time": "2023-03-17T12:52:52.577Z"
   },
   {
    "duration": 6,
    "start_time": "2023-03-17T12:53:25.182Z"
   },
   {
    "duration": 12,
    "start_time": "2023-03-17T12:53:52.591Z"
   },
   {
    "duration": 13,
    "start_time": "2023-03-17T12:53:58.756Z"
   },
   {
    "duration": 2,
    "start_time": "2023-03-17T12:53:59.018Z"
   },
   {
    "duration": 3,
    "start_time": "2023-03-17T12:53:59.411Z"
   },
   {
    "duration": 4,
    "start_time": "2023-03-17T12:54:01.668Z"
   },
   {
    "duration": 1291,
    "start_time": "2023-03-17T12:54:14.634Z"
   },
   {
    "duration": 6,
    "start_time": "2023-03-17T12:54:15.926Z"
   },
   {
    "duration": 57,
    "start_time": "2023-03-17T12:54:15.934Z"
   },
   {
    "duration": 22,
    "start_time": "2023-03-17T12:54:15.993Z"
   },
   {
    "duration": 90,
    "start_time": "2023-03-17T12:54:16.016Z"
   },
   {
    "duration": 979,
    "start_time": "2023-03-17T12:54:16.107Z"
   },
   {
    "duration": 4,
    "start_time": "2023-03-17T12:54:17.088Z"
   },
   {
    "duration": 13,
    "start_time": "2023-03-17T12:54:17.093Z"
   },
   {
    "duration": 7,
    "start_time": "2023-03-17T12:54:17.108Z"
   },
   {
    "duration": 10,
    "start_time": "2023-03-17T12:54:17.117Z"
   },
   {
    "duration": 13,
    "start_time": "2023-03-17T12:54:17.128Z"
   },
   {
    "duration": 4,
    "start_time": "2023-03-17T12:54:17.142Z"
   },
   {
    "duration": 5,
    "start_time": "2023-03-17T12:54:17.147Z"
   },
   {
    "duration": 7,
    "start_time": "2023-03-17T12:54:17.153Z"
   },
   {
    "duration": 11,
    "start_time": "2023-03-17T12:54:55.828Z"
   },
   {
    "duration": 115,
    "start_time": "2023-03-17T12:59:52.908Z"
   },
   {
    "duration": 12,
    "start_time": "2023-03-17T13:00:25.026Z"
   },
   {
    "duration": 10,
    "start_time": "2023-03-17T13:00:25.480Z"
   },
   {
    "duration": 1306,
    "start_time": "2023-03-17T13:00:30.838Z"
   },
   {
    "duration": 7,
    "start_time": "2023-03-17T13:00:32.146Z"
   },
   {
    "duration": 76,
    "start_time": "2023-03-17T13:00:32.154Z"
   },
   {
    "duration": 25,
    "start_time": "2023-03-17T13:00:32.231Z"
   },
   {
    "duration": 106,
    "start_time": "2023-03-17T13:00:32.258Z"
   },
   {
    "duration": 1082,
    "start_time": "2023-03-17T13:00:32.365Z"
   },
   {
    "duration": 5,
    "start_time": "2023-03-17T13:00:33.448Z"
   },
   {
    "duration": 13,
    "start_time": "2023-03-17T13:00:33.454Z"
   },
   {
    "duration": 9,
    "start_time": "2023-03-17T13:00:33.468Z"
   },
   {
    "duration": 11,
    "start_time": "2023-03-17T13:00:33.479Z"
   },
   {
    "duration": 5,
    "start_time": "2023-03-17T13:00:33.491Z"
   },
   {
    "duration": 16,
    "start_time": "2023-03-17T13:00:33.497Z"
   },
   {
    "duration": 3,
    "start_time": "2023-03-17T13:00:33.525Z"
   },
   {
    "duration": 19,
    "start_time": "2023-03-17T13:00:33.530Z"
   },
   {
    "duration": 14,
    "start_time": "2023-03-17T13:00:33.551Z"
   },
   {
    "duration": 8,
    "start_time": "2023-03-17T13:04:07.554Z"
   },
   {
    "duration": 4,
    "start_time": "2023-03-17T13:04:31.181Z"
   },
   {
    "duration": 3,
    "start_time": "2023-03-17T13:04:52.034Z"
   },
   {
    "duration": 102,
    "start_time": "2023-03-17T13:16:10.837Z"
   },
   {
    "duration": 4,
    "start_time": "2023-03-17T13:16:22.918Z"
   },
   {
    "duration": 4,
    "start_time": "2023-03-17T13:17:18.768Z"
   },
   {
    "duration": 9,
    "start_time": "2023-03-17T13:21:59.898Z"
   },
   {
    "duration": 3,
    "start_time": "2023-03-17T13:22:46.656Z"
   },
   {
    "duration": 7,
    "start_time": "2023-03-17T13:23:46.435Z"
   },
   {
    "duration": 3,
    "start_time": "2023-03-17T13:23:47.717Z"
   },
   {
    "duration": 12,
    "start_time": "2023-03-17T13:29:22.406Z"
   },
   {
    "duration": 13,
    "start_time": "2023-03-17T13:30:12.694Z"
   },
   {
    "duration": 14,
    "start_time": "2023-03-17T13:33:03.794Z"
   },
   {
    "duration": 9,
    "start_time": "2023-03-17T13:37:54.263Z"
   },
   {
    "duration": 10,
    "start_time": "2023-03-17T13:38:38.274Z"
   },
   {
    "duration": 4,
    "start_time": "2023-03-17T13:39:02.117Z"
   },
   {
    "duration": 9,
    "start_time": "2023-03-17T13:39:18.024Z"
   },
   {
    "duration": 69,
    "start_time": "2023-03-17T13:39:20.445Z"
   },
   {
    "duration": 9,
    "start_time": "2023-03-17T13:39:20.775Z"
   },
   {
    "duration": 1296,
    "start_time": "2023-03-17T13:39:45.423Z"
   },
   {
    "duration": 6,
    "start_time": "2023-03-17T13:39:46.721Z"
   },
   {
    "duration": 50,
    "start_time": "2023-03-17T13:39:46.728Z"
   },
   {
    "duration": 24,
    "start_time": "2023-03-17T13:39:46.780Z"
   },
   {
    "duration": 94,
    "start_time": "2023-03-17T13:39:46.806Z"
   },
   {
    "duration": 964,
    "start_time": "2023-03-17T13:39:46.923Z"
   },
   {
    "duration": 5,
    "start_time": "2023-03-17T13:39:47.889Z"
   },
   {
    "duration": 22,
    "start_time": "2023-03-17T13:39:47.895Z"
   },
   {
    "duration": 11,
    "start_time": "2023-03-17T13:39:47.919Z"
   },
   {
    "duration": 12,
    "start_time": "2023-03-17T13:39:47.932Z"
   },
   {
    "duration": 10,
    "start_time": "2023-03-17T13:39:47.946Z"
   },
   {
    "duration": 13,
    "start_time": "2023-03-17T13:39:47.958Z"
   },
   {
    "duration": 9,
    "start_time": "2023-03-17T13:39:47.972Z"
   },
   {
    "duration": 7,
    "start_time": "2023-03-17T13:39:47.983Z"
   },
   {
    "duration": 12,
    "start_time": "2023-03-17T13:39:47.991Z"
   },
   {
    "duration": 4,
    "start_time": "2023-03-17T13:39:48.005Z"
   },
   {
    "duration": 13,
    "start_time": "2023-03-17T13:39:48.011Z"
   },
   {
    "duration": 3,
    "start_time": "2023-03-17T13:39:48.026Z"
   },
   {
    "duration": 71,
    "start_time": "2023-03-17T13:39:48.031Z"
   },
   {
    "duration": 0,
    "start_time": "2023-03-17T13:39:48.104Z"
   },
   {
    "duration": 2,
    "start_time": "2023-03-17T13:39:53.770Z"
   },
   {
    "duration": 7,
    "start_time": "2023-03-17T13:39:55.030Z"
   },
   {
    "duration": 15,
    "start_time": "2023-03-17T13:41:19.635Z"
   },
   {
    "duration": 26,
    "start_time": "2023-03-17T13:42:03.227Z"
   },
   {
    "duration": 17,
    "start_time": "2023-03-17T13:42:35.405Z"
   },
   {
    "duration": 16,
    "start_time": "2023-03-17T13:42:59.724Z"
   },
   {
    "duration": 4,
    "start_time": "2023-03-17T13:44:29.514Z"
   },
   {
    "duration": 20,
    "start_time": "2023-03-17T13:44:36.494Z"
   },
   {
    "duration": 15,
    "start_time": "2023-03-17T13:44:39.074Z"
   },
   {
    "duration": 10,
    "start_time": "2023-03-17T13:48:47.075Z"
   },
   {
    "duration": 4,
    "start_time": "2023-03-17T13:48:48.322Z"
   },
   {
    "duration": 3,
    "start_time": "2023-03-17T13:48:50.718Z"
   },
   {
    "duration": 26,
    "start_time": "2023-03-17T13:48:51.106Z"
   },
   {
    "duration": 15,
    "start_time": "2023-03-17T13:48:51.564Z"
   },
   {
    "duration": 1474,
    "start_time": "2023-03-18T11:29:09.903Z"
   },
   {
    "duration": 10,
    "start_time": "2023-03-18T11:29:11.379Z"
   },
   {
    "duration": 98,
    "start_time": "2023-03-18T11:29:11.390Z"
   },
   {
    "duration": 22,
    "start_time": "2023-03-18T11:29:11.490Z"
   },
   {
    "duration": 110,
    "start_time": "2023-03-18T11:29:11.514Z"
   },
   {
    "duration": 989,
    "start_time": "2023-03-18T11:29:11.625Z"
   },
   {
    "duration": 3,
    "start_time": "2023-03-18T11:29:12.616Z"
   },
   {
    "duration": 14,
    "start_time": "2023-03-18T11:29:12.621Z"
   },
   {
    "duration": 8,
    "start_time": "2023-03-18T11:29:12.637Z"
   },
   {
    "duration": 9,
    "start_time": "2023-03-18T11:29:12.647Z"
   },
   {
    "duration": 5,
    "start_time": "2023-03-18T11:29:12.658Z"
   },
   {
    "duration": 18,
    "start_time": "2023-03-18T11:29:12.665Z"
   },
   {
    "duration": 5,
    "start_time": "2023-03-18T11:29:12.684Z"
   },
   {
    "duration": 7,
    "start_time": "2023-03-18T11:29:12.690Z"
   },
   {
    "duration": 5,
    "start_time": "2023-03-18T11:29:12.698Z"
   },
   {
    "duration": 5,
    "start_time": "2023-03-18T11:29:12.704Z"
   },
   {
    "duration": 20,
    "start_time": "2023-03-18T11:29:12.710Z"
   },
   {
    "duration": 3,
    "start_time": "2023-03-18T11:29:12.731Z"
   },
   {
    "duration": 4,
    "start_time": "2023-03-18T11:29:12.735Z"
   },
   {
    "duration": 47,
    "start_time": "2023-03-18T11:29:12.740Z"
   },
   {
    "duration": 12,
    "start_time": "2023-03-18T11:29:12.788Z"
   },
   {
    "duration": 135,
    "start_time": "2023-03-18T11:44:13.502Z"
   },
   {
    "duration": 124,
    "start_time": "2023-03-18T11:47:47.428Z"
   },
   {
    "duration": 30,
    "start_time": "2023-03-18T11:47:53.088Z"
   },
   {
    "duration": 25,
    "start_time": "2023-03-18T11:48:16.246Z"
   },
   {
    "duration": 143,
    "start_time": "2023-03-18T11:48:30.514Z"
   },
   {
    "duration": 138,
    "start_time": "2023-03-18T11:49:21.396Z"
   },
   {
    "duration": 140,
    "start_time": "2023-03-18T11:49:42.051Z"
   },
   {
    "duration": 10,
    "start_time": "2023-03-18T11:53:13.324Z"
   },
   {
    "duration": 45733,
    "start_time": "2023-03-18T11:53:52.894Z"
   },
   {
    "duration": 43,
    "start_time": "2023-03-18T11:56:54.796Z"
   },
   {
    "duration": 90,
    "start_time": "2023-03-18T11:57:00.797Z"
   },
   {
    "duration": 683,
    "start_time": "2023-03-18T12:07:14.087Z"
   },
   {
    "duration": 124,
    "start_time": "2023-03-18T12:07:22.179Z"
   },
   {
    "duration": 88,
    "start_time": "2023-03-18T12:08:44.797Z"
   },
   {
    "duration": 9,
    "start_time": "2023-03-18T12:12:39.329Z"
   },
   {
    "duration": 88,
    "start_time": "2023-03-18T12:12:49.688Z"
   },
   {
    "duration": 5,
    "start_time": "2023-03-18T12:14:25.926Z"
   },
   {
    "duration": 111,
    "start_time": "2023-03-18T12:19:46.064Z"
   },
   {
    "duration": 86,
    "start_time": "2023-03-18T12:20:01.725Z"
   },
   {
    "duration": 42,
    "start_time": "2023-03-18T12:21:50.529Z"
   },
   {
    "duration": 8,
    "start_time": "2023-03-18T12:22:23.057Z"
   },
   {
    "duration": 100,
    "start_time": "2023-03-18T12:22:30.795Z"
   },
   {
    "duration": 116,
    "start_time": "2023-03-18T12:23:50.594Z"
   },
   {
    "duration": 228,
    "start_time": "2023-03-18T12:25:33.321Z"
   },
   {
    "duration": 8,
    "start_time": "2023-03-18T12:35:51.664Z"
   },
   {
    "duration": 10,
    "start_time": "2023-03-18T12:36:03.804Z"
   },
   {
    "duration": 6,
    "start_time": "2023-03-18T12:36:32.454Z"
   },
   {
    "duration": 7,
    "start_time": "2023-03-18T12:37:58.750Z"
   },
   {
    "duration": 4,
    "start_time": "2023-03-18T12:38:14.454Z"
   },
   {
    "duration": 5,
    "start_time": "2023-03-18T12:38:47.775Z"
   },
   {
    "duration": 5,
    "start_time": "2023-03-18T12:38:48.160Z"
   },
   {
    "duration": 7,
    "start_time": "2023-03-18T12:39:09.613Z"
   },
   {
    "duration": 311,
    "start_time": "2023-03-18T12:49:57.270Z"
   },
   {
    "duration": 38,
    "start_time": "2023-03-18T12:50:04.679Z"
   },
   {
    "duration": 17,
    "start_time": "2023-03-18T12:51:55.207Z"
   },
   {
    "duration": 48579,
    "start_time": "2023-03-18T12:52:02.618Z"
   },
   {
    "duration": 146,
    "start_time": "2023-03-18T12:52:51.199Z"
   },
   {
    "duration": 59,
    "start_time": "2023-03-19T19:30:12.486Z"
   },
   {
    "duration": 1654,
    "start_time": "2023-03-19T19:30:15.756Z"
   },
   {
    "duration": 7,
    "start_time": "2023-03-19T19:30:17.412Z"
   },
   {
    "duration": 166,
    "start_time": "2023-03-19T19:30:17.421Z"
   },
   {
    "duration": 24,
    "start_time": "2023-03-19T19:30:17.589Z"
   },
   {
    "duration": 100,
    "start_time": "2023-03-19T19:30:17.614Z"
   },
   {
    "duration": 1057,
    "start_time": "2023-03-19T19:30:17.716Z"
   },
   {
    "duration": 4,
    "start_time": "2023-03-19T19:30:18.775Z"
   },
   {
    "duration": 13,
    "start_time": "2023-03-19T19:30:18.781Z"
   },
   {
    "duration": 9,
    "start_time": "2023-03-19T19:30:18.796Z"
   },
   {
    "duration": 11,
    "start_time": "2023-03-19T19:30:18.808Z"
   },
   {
    "duration": 9,
    "start_time": "2023-03-19T19:30:18.820Z"
   },
   {
    "duration": 12,
    "start_time": "2023-03-19T19:30:18.830Z"
   },
   {
    "duration": 10,
    "start_time": "2023-03-19T19:30:18.844Z"
   },
   {
    "duration": 9,
    "start_time": "2023-03-19T19:30:18.855Z"
   },
   {
    "duration": 7,
    "start_time": "2023-03-19T19:30:18.865Z"
   },
   {
    "duration": 3,
    "start_time": "2023-03-19T19:30:18.874Z"
   },
   {
    "duration": 16,
    "start_time": "2023-03-19T19:30:18.879Z"
   },
   {
    "duration": 3,
    "start_time": "2023-03-19T19:30:18.896Z"
   },
   {
    "duration": 4,
    "start_time": "2023-03-19T19:30:18.900Z"
   },
   {
    "duration": 43,
    "start_time": "2023-03-19T19:30:18.905Z"
   },
   {
    "duration": 14,
    "start_time": "2023-03-19T19:30:18.950Z"
   },
   {
    "duration": 123,
    "start_time": "2023-03-19T19:30:18.966Z"
   },
   {
    "duration": 173,
    "start_time": "2023-03-19T19:30:19.090Z"
   },
   {
    "duration": 161,
    "start_time": "2023-03-19T19:30:19.265Z"
   },
   {
    "duration": 15,
    "start_time": "2023-03-19T19:30:19.428Z"
   },
   {
    "duration": 51899,
    "start_time": "2023-03-19T19:30:19.445Z"
   },
   {
    "duration": 130,
    "start_time": "2023-03-19T19:31:11.345Z"
   },
   {
    "duration": 6,
    "start_time": "2023-03-19T19:31:11.478Z"
   },
   {
    "duration": 160,
    "start_time": "2023-03-19T19:31:11.485Z"
   },
   {
    "duration": 262,
    "start_time": "2023-03-19T19:31:11.648Z"
   },
   {
    "duration": 30,
    "start_time": "2023-03-19T19:31:11.911Z"
   },
   {
    "duration": 5,
    "start_time": "2023-03-19T19:31:11.942Z"
   },
   {
    "duration": 194,
    "start_time": "2023-03-19T19:31:11.949Z"
   },
   {
    "duration": 186,
    "start_time": "2023-03-19T19:49:20.144Z"
   },
   {
    "duration": 45,
    "start_time": "2023-03-19T19:49:28.606Z"
   },
   {
    "duration": 55,
    "start_time": "2023-03-19T19:49:41.816Z"
   },
   {
    "duration": 50974,
    "start_time": "2023-03-19T19:51:52.764Z"
   },
   {
    "duration": 34,
    "start_time": "2023-03-19T19:53:38.100Z"
   },
   {
    "duration": 242,
    "start_time": "2023-03-19T19:54:12.558Z"
   },
   {
    "duration": 141,
    "start_time": "2023-03-19T19:56:34.808Z"
   },
   {
    "duration": 239,
    "start_time": "2023-03-19T19:57:10.007Z"
   },
   {
    "duration": 301,
    "start_time": "2023-03-19T19:58:06.915Z"
   },
   {
    "duration": 252,
    "start_time": "2023-03-19T19:58:14.357Z"
   },
   {
    "duration": 265,
    "start_time": "2023-03-19T19:58:23.864Z"
   },
   {
    "duration": 33,
    "start_time": "2023-03-19T19:58:49.156Z"
   },
   {
    "duration": 20,
    "start_time": "2023-03-19T20:00:08.392Z"
   },
   {
    "duration": 16917,
    "start_time": "2023-03-19T20:03:08.743Z"
   },
   {
    "duration": 455,
    "start_time": "2023-03-19T20:03:46.624Z"
   },
   {
    "duration": 1886,
    "start_time": "2023-03-19T20:04:24.141Z"
   },
   {
    "duration": 7,
    "start_time": "2023-03-19T20:04:26.028Z"
   },
   {
    "duration": 149,
    "start_time": "2023-03-19T20:04:26.037Z"
   },
   {
    "duration": 30,
    "start_time": "2023-03-19T20:04:26.188Z"
   },
   {
    "duration": 129,
    "start_time": "2023-03-19T20:04:26.219Z"
   },
   {
    "duration": 988,
    "start_time": "2023-03-19T20:04:26.350Z"
   },
   {
    "duration": 4,
    "start_time": "2023-03-19T20:04:27.340Z"
   },
   {
    "duration": 10,
    "start_time": "2023-03-19T20:04:27.346Z"
   },
   {
    "duration": 8,
    "start_time": "2023-03-19T20:04:27.357Z"
   },
   {
    "duration": 10,
    "start_time": "2023-03-19T20:04:27.368Z"
   },
   {
    "duration": 4,
    "start_time": "2023-03-19T20:04:27.380Z"
   },
   {
    "duration": 9,
    "start_time": "2023-03-19T20:04:27.386Z"
   },
   {
    "duration": 2,
    "start_time": "2023-03-19T20:04:27.397Z"
   },
   {
    "duration": 42,
    "start_time": "2023-03-19T20:04:27.401Z"
   },
   {
    "duration": 5,
    "start_time": "2023-03-19T20:04:27.445Z"
   },
   {
    "duration": 4,
    "start_time": "2023-03-19T20:04:27.451Z"
   },
   {
    "duration": 15,
    "start_time": "2023-03-19T20:04:27.456Z"
   },
   {
    "duration": 3,
    "start_time": "2023-03-19T20:04:27.473Z"
   },
   {
    "duration": 4,
    "start_time": "2023-03-19T20:04:27.478Z"
   },
   {
    "duration": 63,
    "start_time": "2023-03-19T20:04:27.483Z"
   },
   {
    "duration": 14,
    "start_time": "2023-03-19T20:04:27.547Z"
   },
   {
    "duration": 141,
    "start_time": "2023-03-19T20:04:27.562Z"
   },
   {
    "duration": 167,
    "start_time": "2023-03-19T20:04:27.705Z"
   },
   {
    "duration": 168,
    "start_time": "2023-03-19T20:04:27.873Z"
   },
   {
    "duration": 6,
    "start_time": "2023-03-19T20:04:28.043Z"
   },
   {
    "duration": 16417,
    "start_time": "2023-03-19T20:04:28.051Z"
   },
   {
    "duration": 144,
    "start_time": "2023-03-19T20:04:44.469Z"
   },
   {
    "duration": 7,
    "start_time": "2023-03-19T20:04:44.616Z"
   },
   {
    "duration": 107,
    "start_time": "2023-03-19T20:04:44.639Z"
   },
   {
    "duration": 264,
    "start_time": "2023-03-19T20:04:44.748Z"
   },
   {
    "duration": 26,
    "start_time": "2023-03-19T20:04:45.014Z"
   },
   {
    "duration": 5,
    "start_time": "2023-03-19T20:04:45.042Z"
   },
   {
    "duration": 178,
    "start_time": "2023-03-19T20:04:45.049Z"
   },
   {
    "duration": 38,
    "start_time": "2023-03-19T20:04:45.228Z"
   },
   {
    "duration": 16693,
    "start_time": "2023-03-19T20:04:45.267Z"
   },
   {
    "duration": 409,
    "start_time": "2023-03-19T20:05:01.962Z"
   },
   {
    "duration": 275,
    "start_time": "2023-03-19T20:05:02.373Z"
   },
   {
    "duration": 190,
    "start_time": "2023-03-19T20:05:02.650Z"
   },
   {
    "duration": 189,
    "start_time": "2023-03-19T20:18:25.732Z"
   },
   {
    "duration": 17791,
    "start_time": "2023-03-19T20:18:39.030Z"
   },
   {
    "duration": 1229,
    "start_time": "2023-03-19T20:18:56.824Z"
   },
   {
    "duration": 193,
    "start_time": "2023-03-19T20:19:02.921Z"
   },
   {
    "duration": 36,
    "start_time": "2023-03-19T20:19:12.160Z"
   },
   {
    "duration": 17904,
    "start_time": "2023-03-19T20:19:22.418Z"
   },
   {
    "duration": 330,
    "start_time": "2023-03-19T20:19:40.323Z"
   },
   {
    "duration": 16,
    "start_time": "2023-03-19T20:19:43.975Z"
   },
   {
    "duration": 14,
    "start_time": "2023-03-19T20:26:33.559Z"
   },
   {
    "duration": 11,
    "start_time": "2023-03-19T20:28:32.897Z"
   },
   {
    "duration": 11,
    "start_time": "2023-03-19T20:32:17.322Z"
   },
   {
    "duration": 38,
    "start_time": "2023-03-19T20:35:22.563Z"
   },
   {
    "duration": 37,
    "start_time": "2023-03-19T20:39:13.672Z"
   },
   {
    "duration": 30,
    "start_time": "2023-03-19T20:40:09.055Z"
   },
   {
    "duration": 31,
    "start_time": "2023-03-19T20:40:16.487Z"
   },
   {
    "duration": 40,
    "start_time": "2023-03-19T20:40:35.697Z"
   },
   {
    "duration": 1691,
    "start_time": "2023-03-20T05:59:25.929Z"
   },
   {
    "duration": 7,
    "start_time": "2023-03-20T05:59:27.621Z"
   },
   {
    "duration": 166,
    "start_time": "2023-03-20T05:59:27.630Z"
   },
   {
    "duration": 33,
    "start_time": "2023-03-20T05:59:27.799Z"
   },
   {
    "duration": 118,
    "start_time": "2023-03-20T05:59:27.834Z"
   },
   {
    "duration": 1060,
    "start_time": "2023-03-20T05:59:27.954Z"
   },
   {
    "duration": 4,
    "start_time": "2023-03-20T05:59:29.016Z"
   },
   {
    "duration": 11,
    "start_time": "2023-03-20T05:59:29.022Z"
   },
   {
    "duration": 8,
    "start_time": "2023-03-20T05:59:29.035Z"
   },
   {
    "duration": 11,
    "start_time": "2023-03-20T05:59:29.046Z"
   },
   {
    "duration": 6,
    "start_time": "2023-03-20T05:59:29.058Z"
   },
   {
    "duration": 10,
    "start_time": "2023-03-20T05:59:29.065Z"
   },
   {
    "duration": 3,
    "start_time": "2023-03-20T05:59:29.076Z"
   },
   {
    "duration": 4,
    "start_time": "2023-03-20T05:59:29.080Z"
   },
   {
    "duration": 4,
    "start_time": "2023-03-20T05:59:29.086Z"
   },
   {
    "duration": 3,
    "start_time": "2023-03-20T05:59:29.092Z"
   },
   {
    "duration": 11,
    "start_time": "2023-03-20T05:59:29.097Z"
   },
   {
    "duration": 4,
    "start_time": "2023-03-20T05:59:29.109Z"
   },
   {
    "duration": 3,
    "start_time": "2023-03-20T05:59:29.114Z"
   },
   {
    "duration": 39,
    "start_time": "2023-03-20T05:59:29.118Z"
   },
   {
    "duration": 14,
    "start_time": "2023-03-20T05:59:29.159Z"
   },
   {
    "duration": 112,
    "start_time": "2023-03-20T05:59:29.175Z"
   },
   {
    "duration": 267,
    "start_time": "2023-03-20T05:59:29.289Z"
   },
   {
    "duration": 183,
    "start_time": "2023-03-20T05:59:29.558Z"
   },
   {
    "duration": 7,
    "start_time": "2023-03-20T05:59:29.743Z"
   },
   {
    "duration": 17490,
    "start_time": "2023-03-20T05:59:29.751Z"
   },
   {
    "duration": 133,
    "start_time": "2023-03-20T05:59:47.242Z"
   },
   {
    "duration": 6,
    "start_time": "2023-03-20T05:59:47.378Z"
   },
   {
    "duration": 65,
    "start_time": "2023-03-20T05:59:47.385Z"
   },
   {
    "duration": 339,
    "start_time": "2023-03-20T05:59:47.451Z"
   },
   {
    "duration": 8,
    "start_time": "2023-03-20T05:59:47.792Z"
   },
   {
    "duration": 5,
    "start_time": "2023-03-20T05:59:47.802Z"
   },
   {
    "duration": 206,
    "start_time": "2023-03-20T05:59:47.809Z"
   },
   {
    "duration": 50,
    "start_time": "2023-03-20T05:59:48.017Z"
   },
   {
    "duration": 17490,
    "start_time": "2023-03-20T05:59:48.069Z"
   },
   {
    "duration": 426,
    "start_time": "2023-03-20T06:00:05.561Z"
   },
   {
    "duration": 159,
    "start_time": "2023-03-20T06:00:05.989Z"
   },
   {
    "duration": 191,
    "start_time": "2023-03-20T06:00:06.150Z"
   },
   {
    "duration": 100,
    "start_time": "2023-03-20T06:00:06.345Z"
   },
   {
    "duration": 196,
    "start_time": "2023-03-20T06:00:06.447Z"
   },
   {
    "duration": 44,
    "start_time": "2023-03-20T06:01:27.087Z"
   },
   {
    "duration": 222,
    "start_time": "2023-03-20T06:03:13.953Z"
   },
   {
    "duration": 559,
    "start_time": "2023-03-20T06:05:44.913Z"
   },
   {
    "duration": 561,
    "start_time": "2023-03-20T06:06:31.852Z"
   },
   {
    "duration": 213,
    "start_time": "2023-03-20T06:08:20.435Z"
   },
   {
    "duration": 111,
    "start_time": "2023-03-20T06:09:29.099Z"
   },
   {
    "duration": 131,
    "start_time": "2023-03-20T06:09:58.455Z"
   },
   {
    "duration": 104,
    "start_time": "2023-03-20T06:10:17.915Z"
   },
   {
    "duration": 1556,
    "start_time": "2023-03-20T06:12:55.108Z"
   },
   {
    "duration": 9,
    "start_time": "2023-03-20T06:12:56.667Z"
   },
   {
    "duration": 48,
    "start_time": "2023-03-20T06:12:56.677Z"
   },
   {
    "duration": 37,
    "start_time": "2023-03-20T06:12:56.730Z"
   },
   {
    "duration": 144,
    "start_time": "2023-03-20T06:12:56.769Z"
   },
   {
    "duration": 1011,
    "start_time": "2023-03-20T06:12:56.915Z"
   },
   {
    "duration": 5,
    "start_time": "2023-03-20T06:12:57.928Z"
   },
   {
    "duration": 18,
    "start_time": "2023-03-20T06:12:57.934Z"
   },
   {
    "duration": 10,
    "start_time": "2023-03-20T06:12:57.954Z"
   },
   {
    "duration": 12,
    "start_time": "2023-03-20T06:12:57.967Z"
   },
   {
    "duration": 5,
    "start_time": "2023-03-20T06:12:57.981Z"
   },
   {
    "duration": 11,
    "start_time": "2023-03-20T06:12:57.990Z"
   },
   {
    "duration": 6,
    "start_time": "2023-03-20T06:12:58.003Z"
   },
   {
    "duration": 32,
    "start_time": "2023-03-20T06:12:58.010Z"
   },
   {
    "duration": 14,
    "start_time": "2023-03-20T06:12:58.044Z"
   },
   {
    "duration": 6,
    "start_time": "2023-03-20T06:12:58.060Z"
   },
   {
    "duration": 14,
    "start_time": "2023-03-20T06:12:58.067Z"
   },
   {
    "duration": 4,
    "start_time": "2023-03-20T06:12:58.083Z"
   },
   {
    "duration": 15,
    "start_time": "2023-03-20T06:12:58.089Z"
   },
   {
    "duration": 49,
    "start_time": "2023-03-20T06:12:58.105Z"
   },
   {
    "duration": 18,
    "start_time": "2023-03-20T06:12:58.156Z"
   },
   {
    "duration": 140,
    "start_time": "2023-03-20T06:12:58.176Z"
   },
   {
    "duration": 198,
    "start_time": "2023-03-20T06:12:58.318Z"
   },
   {
    "duration": 226,
    "start_time": "2023-03-20T06:12:58.518Z"
   },
   {
    "duration": 7,
    "start_time": "2023-03-20T06:12:58.747Z"
   },
   {
    "duration": 18319,
    "start_time": "2023-03-20T06:12:58.756Z"
   },
   {
    "duration": 133,
    "start_time": "2023-03-20T06:13:17.077Z"
   },
   {
    "duration": 6,
    "start_time": "2023-03-20T06:13:17.215Z"
   },
   {
    "duration": 23,
    "start_time": "2023-03-20T06:13:17.239Z"
   },
   {
    "duration": 342,
    "start_time": "2023-03-20T06:13:17.263Z"
   },
   {
    "duration": 9,
    "start_time": "2023-03-20T06:13:17.607Z"
   },
   {
    "duration": 20,
    "start_time": "2023-03-20T06:13:17.620Z"
   },
   {
    "duration": 206,
    "start_time": "2023-03-20T06:13:17.642Z"
   },
   {
    "duration": 39,
    "start_time": "2023-03-20T06:13:17.851Z"
   },
   {
    "duration": 18304,
    "start_time": "2023-03-20T06:13:17.892Z"
   },
   {
    "duration": 481,
    "start_time": "2023-03-20T06:13:36.197Z"
   },
   {
    "duration": 60,
    "start_time": "2023-03-20T06:13:36.680Z"
   },
   {
    "duration": 105,
    "start_time": "2023-03-20T06:13:36.741Z"
   },
   {
    "duration": 100,
    "start_time": "2023-03-20T06:13:36.848Z"
   },
   {
    "duration": 90,
    "start_time": "2023-03-20T06:13:36.950Z"
   },
   {
    "duration": 566,
    "start_time": "2023-03-20T06:13:37.042Z"
   },
   {
    "duration": 136,
    "start_time": "2023-03-20T06:13:37.610Z"
   },
   {
    "duration": 95,
    "start_time": "2023-03-20T06:13:37.748Z"
   },
   {
    "duration": 25,
    "start_time": "2023-03-20T06:15:14.474Z"
   },
   {
    "duration": 224,
    "start_time": "2023-03-20T06:15:14.979Z"
   },
   {
    "duration": 35,
    "start_time": "2023-03-20T06:15:15.511Z"
   },
   {
    "duration": 231,
    "start_time": "2023-03-20T06:21:43.060Z"
   },
   {
    "duration": 9410,
    "start_time": "2023-03-20T06:36:16.080Z"
   },
   {
    "duration": 170,
    "start_time": "2023-03-20T06:36:31.921Z"
   },
   {
    "duration": 39,
    "start_time": "2023-03-20T06:38:33.018Z"
   },
   {
    "duration": 40,
    "start_time": "2023-03-20T06:38:43.252Z"
   },
   {
    "duration": 566,
    "start_time": "2023-03-20T06:39:18.762Z"
   },
   {
    "duration": 1397,
    "start_time": "2023-03-20T06:40:07.681Z"
   },
   {
    "duration": 7,
    "start_time": "2023-03-20T06:40:09.080Z"
   },
   {
    "duration": 50,
    "start_time": "2023-03-20T06:40:09.088Z"
   },
   {
    "duration": 23,
    "start_time": "2023-03-20T06:40:09.140Z"
   },
   {
    "duration": 110,
    "start_time": "2023-03-20T06:40:09.164Z"
   },
   {
    "duration": 1026,
    "start_time": "2023-03-20T06:40:09.276Z"
   },
   {
    "duration": 4,
    "start_time": "2023-03-20T06:40:10.304Z"
   },
   {
    "duration": 12,
    "start_time": "2023-03-20T06:40:10.309Z"
   },
   {
    "duration": 9,
    "start_time": "2023-03-20T06:40:10.322Z"
   },
   {
    "duration": 16,
    "start_time": "2023-03-20T06:40:10.334Z"
   },
   {
    "duration": 6,
    "start_time": "2023-03-20T06:40:10.352Z"
   },
   {
    "duration": 15,
    "start_time": "2023-03-20T06:40:10.360Z"
   },
   {
    "duration": 3,
    "start_time": "2023-03-20T06:40:10.377Z"
   },
   {
    "duration": 4,
    "start_time": "2023-03-20T06:40:10.382Z"
   },
   {
    "duration": 4,
    "start_time": "2023-03-20T06:40:10.388Z"
   },
   {
    "duration": 4,
    "start_time": "2023-03-20T06:40:10.394Z"
   },
   {
    "duration": 50,
    "start_time": "2023-03-20T06:40:10.400Z"
   },
   {
    "duration": 5,
    "start_time": "2023-03-20T06:40:10.452Z"
   },
   {
    "duration": 3,
    "start_time": "2023-03-20T06:40:10.458Z"
   },
   {
    "duration": 36,
    "start_time": "2023-03-20T06:40:10.463Z"
   },
   {
    "duration": 40,
    "start_time": "2023-03-20T06:40:10.501Z"
   },
   {
    "duration": 132,
    "start_time": "2023-03-20T06:40:10.543Z"
   },
   {
    "duration": 189,
    "start_time": "2023-03-20T06:40:10.677Z"
   },
   {
    "duration": 213,
    "start_time": "2023-03-20T06:40:10.868Z"
   },
   {
    "duration": 7,
    "start_time": "2023-03-20T06:40:11.082Z"
   },
   {
    "duration": 17621,
    "start_time": "2023-03-20T06:40:11.091Z"
   },
   {
    "duration": 132,
    "start_time": "2023-03-20T06:40:28.714Z"
   },
   {
    "duration": 6,
    "start_time": "2023-03-20T06:40:28.850Z"
   },
   {
    "duration": 83,
    "start_time": "2023-03-20T06:40:28.857Z"
   },
   {
    "duration": 271,
    "start_time": "2023-03-20T06:40:28.942Z"
   },
   {
    "duration": 6,
    "start_time": "2023-03-20T06:40:29.214Z"
   },
   {
    "duration": 24,
    "start_time": "2023-03-20T06:40:29.221Z"
   },
   {
    "duration": 193,
    "start_time": "2023-03-20T06:40:29.247Z"
   },
   {
    "duration": 33,
    "start_time": "2023-03-20T06:40:29.442Z"
   },
   {
    "duration": 17679,
    "start_time": "2023-03-20T06:40:29.477Z"
   },
   {
    "duration": 424,
    "start_time": "2023-03-20T06:40:47.158Z"
   },
   {
    "duration": 18,
    "start_time": "2023-03-20T06:40:47.584Z"
   },
   {
    "duration": 106,
    "start_time": "2023-03-20T06:40:47.644Z"
   },
   {
    "duration": 99,
    "start_time": "2023-03-20T06:40:47.842Z"
   },
   {
    "duration": 40,
    "start_time": "2023-03-20T06:40:47.942Z"
   },
   {
    "duration": 587,
    "start_time": "2023-03-20T06:40:47.984Z"
   },
   {
    "duration": 73,
    "start_time": "2023-03-20T06:40:48.574Z"
   },
   {
    "duration": 191,
    "start_time": "2023-03-20T06:40:48.649Z"
   },
   {
    "duration": 33,
    "start_time": "2023-03-20T06:40:48.842Z"
   },
   {
    "duration": 278,
    "start_time": "2023-03-20T06:40:48.877Z"
   },
   {
    "duration": 90,
    "start_time": "2023-03-20T06:40:49.157Z"
   },
   {
    "duration": 581,
    "start_time": "2023-03-20T06:42:01.788Z"
   },
   {
    "duration": 39,
    "start_time": "2023-03-20T06:43:46.857Z"
   },
   {
    "duration": 129,
    "start_time": "2023-03-20T06:55:11.790Z"
   },
   {
    "duration": 73,
    "start_time": "2023-03-20T06:55:25.075Z"
   },
   {
    "duration": 72,
    "start_time": "2023-03-20T06:59:37.888Z"
   },
   {
    "duration": 122,
    "start_time": "2023-03-20T07:02:04.774Z"
   },
   {
    "duration": 73,
    "start_time": "2023-03-20T07:02:30.938Z"
   },
   {
    "duration": 133,
    "start_time": "2023-03-20T07:02:31.348Z"
   },
   {
    "duration": 1580,
    "start_time": "2023-03-20T11:00:18.722Z"
   },
   {
    "duration": 6,
    "start_time": "2023-03-20T11:00:20.304Z"
   },
   {
    "duration": 374,
    "start_time": "2023-03-20T11:00:20.312Z"
   },
   {
    "duration": 25,
    "start_time": "2023-03-20T11:00:20.688Z"
   },
   {
    "duration": 95,
    "start_time": "2023-03-20T11:00:20.714Z"
   },
   {
    "duration": 968,
    "start_time": "2023-03-20T11:00:20.810Z"
   },
   {
    "duration": 3,
    "start_time": "2023-03-20T11:00:21.780Z"
   },
   {
    "duration": 15,
    "start_time": "2023-03-20T11:00:21.784Z"
   },
   {
    "duration": 10,
    "start_time": "2023-03-20T11:00:21.800Z"
   },
   {
    "duration": 11,
    "start_time": "2023-03-20T11:00:21.814Z"
   },
   {
    "duration": 6,
    "start_time": "2023-03-20T11:00:21.827Z"
   },
   {
    "duration": 10,
    "start_time": "2023-03-20T11:00:21.834Z"
   },
   {
    "duration": 3,
    "start_time": "2023-03-20T11:00:21.846Z"
   },
   {
    "duration": 53,
    "start_time": "2023-03-20T11:00:21.851Z"
   },
   {
    "duration": 11,
    "start_time": "2023-03-20T11:00:21.906Z"
   },
   {
    "duration": 24,
    "start_time": "2023-03-20T11:00:21.918Z"
   },
   {
    "duration": 10,
    "start_time": "2023-03-20T11:00:21.943Z"
   },
   {
    "duration": 4,
    "start_time": "2023-03-20T11:00:21.955Z"
   },
   {
    "duration": 4,
    "start_time": "2023-03-20T11:00:21.960Z"
   },
   {
    "duration": 33,
    "start_time": "2023-03-20T11:00:21.965Z"
   },
   {
    "duration": 13,
    "start_time": "2023-03-20T11:00:22.000Z"
   },
   {
    "duration": 145,
    "start_time": "2023-03-20T11:00:22.014Z"
   },
   {
    "duration": 174,
    "start_time": "2023-03-20T11:00:22.160Z"
   },
   {
    "duration": 103,
    "start_time": "2023-03-20T11:00:22.339Z"
   },
   {
    "duration": 5,
    "start_time": "2023-03-20T11:00:22.444Z"
   },
   {
    "duration": 16821,
    "start_time": "2023-03-20T11:00:22.451Z"
   },
   {
    "duration": 122,
    "start_time": "2023-03-20T11:00:39.274Z"
   },
   {
    "duration": 5,
    "start_time": "2023-03-20T11:00:39.399Z"
   },
   {
    "duration": 36,
    "start_time": "2023-03-20T11:00:39.406Z"
   },
   {
    "duration": 260,
    "start_time": "2023-03-20T11:00:39.444Z"
   },
   {
    "duration": 8,
    "start_time": "2023-03-20T11:00:39.705Z"
   },
   {
    "duration": 25,
    "start_time": "2023-03-20T11:00:39.715Z"
   },
   {
    "duration": 170,
    "start_time": "2023-03-20T11:00:39.742Z"
   },
   {
    "duration": 37,
    "start_time": "2023-03-20T11:00:39.914Z"
   },
   {
    "duration": 16678,
    "start_time": "2023-03-20T11:00:39.952Z"
   },
   {
    "duration": 443,
    "start_time": "2023-03-20T11:00:56.632Z"
   },
   {
    "duration": 18,
    "start_time": "2023-03-20T11:00:57.076Z"
   },
   {
    "duration": 152,
    "start_time": "2023-03-20T11:00:57.095Z"
   },
   {
    "duration": 193,
    "start_time": "2023-03-20T11:00:57.248Z"
   },
   {
    "duration": 38,
    "start_time": "2023-03-20T11:00:57.442Z"
   },
   {
    "duration": 551,
    "start_time": "2023-03-20T11:00:57.481Z"
   },
   {
    "duration": 109,
    "start_time": "2023-03-20T11:00:58.033Z"
   },
   {
    "duration": 99,
    "start_time": "2023-03-20T11:00:58.144Z"
   },
   {
    "duration": 25,
    "start_time": "2023-03-20T11:00:58.245Z"
   },
   {
    "duration": 275,
    "start_time": "2023-03-20T11:00:58.271Z"
   },
   {
    "duration": 100,
    "start_time": "2023-03-20T11:00:58.548Z"
   },
   {
    "duration": 150,
    "start_time": "2023-03-20T11:00:58.739Z"
   },
   {
    "duration": 116,
    "start_time": "2023-03-20T11:00:58.891Z"
   },
   {
    "duration": 69,
    "start_time": "2023-03-20T11:06:41.335Z"
   },
   {
    "duration": 1568,
    "start_time": "2023-03-20T19:10:37.345Z"
   },
   {
    "duration": 7,
    "start_time": "2023-03-20T19:10:38.915Z"
   },
   {
    "duration": 186,
    "start_time": "2023-03-20T19:10:38.924Z"
   },
   {
    "duration": 37,
    "start_time": "2023-03-20T19:10:39.112Z"
   },
   {
    "duration": 105,
    "start_time": "2023-03-20T19:10:39.151Z"
   },
   {
    "duration": 1009,
    "start_time": "2023-03-20T19:10:39.275Z"
   },
   {
    "duration": 5,
    "start_time": "2023-03-20T19:10:40.286Z"
   },
   {
    "duration": 20,
    "start_time": "2023-03-20T19:10:40.292Z"
   },
   {
    "duration": 9,
    "start_time": "2023-03-20T19:10:40.314Z"
   },
   {
    "duration": 12,
    "start_time": "2023-03-20T19:10:40.325Z"
   },
   {
    "duration": 9,
    "start_time": "2023-03-20T19:10:40.338Z"
   },
   {
    "duration": 12,
    "start_time": "2023-03-20T19:10:40.348Z"
   },
   {
    "duration": 17,
    "start_time": "2023-03-20T19:10:40.362Z"
   },
   {
    "duration": 76,
    "start_time": "2023-03-20T19:10:40.381Z"
   },
   {
    "duration": 17,
    "start_time": "2023-03-20T19:10:40.459Z"
   },
   {
    "duration": 4,
    "start_time": "2023-03-20T19:10:40.478Z"
   },
   {
    "duration": 12,
    "start_time": "2023-03-20T19:10:40.484Z"
   },
   {
    "duration": 4,
    "start_time": "2023-03-20T19:10:40.497Z"
   },
   {
    "duration": 5,
    "start_time": "2023-03-20T19:10:40.503Z"
   },
   {
    "duration": 26,
    "start_time": "2023-03-20T19:10:40.509Z"
   },
   {
    "duration": 46,
    "start_time": "2023-03-20T19:10:40.537Z"
   },
   {
    "duration": 126,
    "start_time": "2023-03-20T19:10:40.585Z"
   },
   {
    "duration": 157,
    "start_time": "2023-03-20T19:10:40.712Z"
   },
   {
    "duration": 113,
    "start_time": "2023-03-20T19:10:40.870Z"
   },
   {
    "duration": 5,
    "start_time": "2023-03-20T19:10:40.985Z"
   },
   {
    "duration": 15486,
    "start_time": "2023-03-20T19:10:40.992Z"
   },
   {
    "duration": 140,
    "start_time": "2023-03-20T19:10:56.480Z"
   },
   {
    "duration": 5,
    "start_time": "2023-03-20T19:10:56.623Z"
   },
   {
    "duration": 54,
    "start_time": "2023-03-20T19:10:56.630Z"
   },
   {
    "duration": 272,
    "start_time": "2023-03-20T19:10:56.775Z"
   },
   {
    "duration": 5,
    "start_time": "2023-03-20T19:10:57.049Z"
   },
   {
    "duration": 6,
    "start_time": "2023-03-20T19:10:57.075Z"
   },
   {
    "duration": 159,
    "start_time": "2023-03-20T19:10:57.082Z"
   },
   {
    "duration": 37,
    "start_time": "2023-03-20T19:10:57.243Z"
   },
   {
    "duration": 15639,
    "start_time": "2023-03-20T19:10:57.282Z"
   },
   {
    "duration": 371,
    "start_time": "2023-03-20T19:11:12.922Z"
   },
   {
    "duration": 80,
    "start_time": "2023-03-20T19:11:13.295Z"
   },
   {
    "duration": 109,
    "start_time": "2023-03-20T19:11:13.376Z"
   },
   {
    "duration": 99,
    "start_time": "2023-03-20T19:11:13.488Z"
   },
   {
    "duration": 36,
    "start_time": "2023-03-20T19:11:13.675Z"
   },
   {
    "duration": 553,
    "start_time": "2023-03-20T19:11:13.713Z"
   },
   {
    "duration": 112,
    "start_time": "2023-03-20T19:11:14.268Z"
   },
   {
    "duration": 97,
    "start_time": "2023-03-20T19:11:14.382Z"
   },
   {
    "duration": 23,
    "start_time": "2023-03-20T19:11:14.481Z"
   },
   {
    "duration": 253,
    "start_time": "2023-03-20T19:11:14.506Z"
   },
   {
    "duration": 114,
    "start_time": "2023-03-20T19:11:14.761Z"
   },
   {
    "duration": 160,
    "start_time": "2023-03-20T19:11:14.877Z"
   },
   {
    "duration": 115,
    "start_time": "2023-03-20T19:11:15.039Z"
   },
   {
    "duration": 24,
    "start_time": "2023-03-20T19:20:56.777Z"
   },
   {
    "duration": 18,
    "start_time": "2023-03-20T19:20:58.998Z"
   },
   {
    "duration": 93,
    "start_time": "2023-03-20T19:21:10.788Z"
   },
   {
    "duration": 36,
    "start_time": "2023-03-20T19:21:18.949Z"
   },
   {
    "duration": 21,
    "start_time": "2023-03-20T19:21:49.909Z"
   },
   {
    "duration": 42,
    "start_time": "2023-03-20T19:26:43.476Z"
   },
   {
    "duration": 650,
    "start_time": "2023-03-20T19:27:54.054Z"
   },
   {
    "duration": 481,
    "start_time": "2023-03-20T19:28:07.496Z"
   },
   {
    "duration": 83,
    "start_time": "2023-03-20T19:29:27.493Z"
   },
   {
    "duration": 40,
    "start_time": "2023-03-20T19:29:41.351Z"
   },
   {
    "duration": 23,
    "start_time": "2023-03-20T19:30:42.338Z"
   },
   {
    "duration": 232,
    "start_time": "2023-03-20T19:31:24.891Z"
   },
   {
    "duration": 66,
    "start_time": "2023-03-20T19:32:06.710Z"
   },
   {
    "duration": 1373,
    "start_time": "2023-03-20T19:32:15.302Z"
   },
   {
    "duration": 6,
    "start_time": "2023-03-20T19:32:16.677Z"
   },
   {
    "duration": 47,
    "start_time": "2023-03-20T19:32:16.685Z"
   },
   {
    "duration": 31,
    "start_time": "2023-03-20T19:32:16.734Z"
   },
   {
    "duration": 113,
    "start_time": "2023-03-20T19:32:16.767Z"
   },
   {
    "duration": 1004,
    "start_time": "2023-03-20T19:32:16.881Z"
   },
   {
    "duration": 5,
    "start_time": "2023-03-20T19:32:17.887Z"
   },
   {
    "duration": 13,
    "start_time": "2023-03-20T19:32:17.894Z"
   },
   {
    "duration": 12,
    "start_time": "2023-03-20T19:32:17.909Z"
   },
   {
    "duration": 11,
    "start_time": "2023-03-20T19:32:17.923Z"
   },
   {
    "duration": 8,
    "start_time": "2023-03-20T19:32:17.936Z"
   },
   {
    "duration": 31,
    "start_time": "2023-03-20T19:32:17.945Z"
   },
   {
    "duration": 3,
    "start_time": "2023-03-20T19:32:17.978Z"
   },
   {
    "duration": 5,
    "start_time": "2023-03-20T19:32:17.983Z"
   },
   {
    "duration": 5,
    "start_time": "2023-03-20T19:32:17.989Z"
   },
   {
    "duration": 4,
    "start_time": "2023-03-20T19:32:17.996Z"
   },
   {
    "duration": 11,
    "start_time": "2023-03-20T19:32:18.002Z"
   },
   {
    "duration": 4,
    "start_time": "2023-03-20T19:32:18.015Z"
   },
   {
    "duration": 5,
    "start_time": "2023-03-20T19:32:18.020Z"
   },
   {
    "duration": 64,
    "start_time": "2023-03-20T19:32:18.026Z"
   },
   {
    "duration": 15,
    "start_time": "2023-03-20T19:32:18.091Z"
   },
   {
    "duration": 129,
    "start_time": "2023-03-20T19:32:18.108Z"
   },
   {
    "duration": 162,
    "start_time": "2023-03-20T19:32:18.238Z"
   },
   {
    "duration": 194,
    "start_time": "2023-03-20T19:32:18.402Z"
   },
   {
    "duration": 6,
    "start_time": "2023-03-20T19:32:18.598Z"
   },
   {
    "duration": 15466,
    "start_time": "2023-03-20T19:32:18.606Z"
   },
   {
    "duration": 166,
    "start_time": "2023-03-20T19:32:34.075Z"
   },
   {
    "duration": 7,
    "start_time": "2023-03-20T19:32:34.245Z"
   },
   {
    "duration": 128,
    "start_time": "2023-03-20T19:32:34.254Z"
   },
   {
    "duration": 307,
    "start_time": "2023-03-20T19:32:34.386Z"
   },
   {
    "duration": 5,
    "start_time": "2023-03-20T19:32:34.694Z"
   },
   {
    "duration": 4,
    "start_time": "2023-03-20T19:32:34.701Z"
   },
   {
    "duration": 165,
    "start_time": "2023-03-20T19:32:34.706Z"
   },
   {
    "duration": 29,
    "start_time": "2023-03-20T19:32:34.875Z"
   },
   {
    "duration": 15711,
    "start_time": "2023-03-20T19:32:34.905Z"
   },
   {
    "duration": 400,
    "start_time": "2023-03-20T19:32:50.618Z"
   },
   {
    "duration": 62,
    "start_time": "2023-03-20T19:32:51.020Z"
   },
   {
    "duration": 105,
    "start_time": "2023-03-20T19:32:51.083Z"
   },
   {
    "duration": 189,
    "start_time": "2023-03-20T19:32:51.190Z"
   },
   {
    "duration": 38,
    "start_time": "2023-03-20T19:32:51.380Z"
   },
   {
    "duration": 511,
    "start_time": "2023-03-20T19:32:51.420Z"
   },
   {
    "duration": 145,
    "start_time": "2023-03-20T19:32:51.932Z"
   },
   {
    "duration": 96,
    "start_time": "2023-03-20T19:32:52.082Z"
   },
   {
    "duration": 31,
    "start_time": "2023-03-20T19:32:52.180Z"
   },
   {
    "duration": 274,
    "start_time": "2023-03-20T19:32:52.213Z"
   },
   {
    "duration": 93,
    "start_time": "2023-03-20T19:32:52.489Z"
   },
   {
    "duration": 251,
    "start_time": "2023-03-20T19:32:52.585Z"
   },
   {
    "duration": 125,
    "start_time": "2023-03-20T19:32:52.838Z"
   },
   {
    "duration": 89,
    "start_time": "2023-03-20T19:37:00.489Z"
   },
   {
    "duration": 105,
    "start_time": "2023-03-20T19:37:03.342Z"
   },
   {
    "duration": 1363,
    "start_time": "2023-03-20T19:56:50.403Z"
   },
   {
    "duration": 7,
    "start_time": "2023-03-20T19:56:51.768Z"
   },
   {
    "duration": 45,
    "start_time": "2023-03-20T19:56:51.776Z"
   },
   {
    "duration": 24,
    "start_time": "2023-03-20T19:56:51.824Z"
   },
   {
    "duration": 102,
    "start_time": "2023-03-20T19:56:51.849Z"
   },
   {
    "duration": 1033,
    "start_time": "2023-03-20T19:56:51.952Z"
   },
   {
    "duration": 4,
    "start_time": "2023-03-20T19:56:52.987Z"
   },
   {
    "duration": 13,
    "start_time": "2023-03-20T19:56:52.992Z"
   },
   {
    "duration": 9,
    "start_time": "2023-03-20T19:56:53.007Z"
   },
   {
    "duration": 11,
    "start_time": "2023-03-20T19:56:53.019Z"
   },
   {
    "duration": 7,
    "start_time": "2023-03-20T19:56:53.032Z"
   },
   {
    "duration": 10,
    "start_time": "2023-03-20T19:56:53.040Z"
   },
   {
    "duration": 3,
    "start_time": "2023-03-20T19:56:53.076Z"
   },
   {
    "duration": 6,
    "start_time": "2023-03-20T19:56:53.080Z"
   },
   {
    "duration": 5,
    "start_time": "2023-03-20T19:56:53.088Z"
   },
   {
    "duration": 6,
    "start_time": "2023-03-20T19:56:53.095Z"
   },
   {
    "duration": 13,
    "start_time": "2023-03-20T19:56:53.102Z"
   },
   {
    "duration": 4,
    "start_time": "2023-03-20T19:56:53.116Z"
   },
   {
    "duration": 5,
    "start_time": "2023-03-20T19:56:53.121Z"
   },
   {
    "duration": 51,
    "start_time": "2023-03-20T19:56:53.128Z"
   },
   {
    "duration": 17,
    "start_time": "2023-03-20T19:56:53.181Z"
   },
   {
    "duration": 139,
    "start_time": "2023-03-20T19:56:53.199Z"
   },
   {
    "duration": 149,
    "start_time": "2023-03-20T19:56:53.340Z"
   },
   {
    "duration": 195,
    "start_time": "2023-03-20T19:56:53.491Z"
   },
   {
    "duration": 6,
    "start_time": "2023-03-20T19:56:53.688Z"
   },
   {
    "duration": 15212,
    "start_time": "2023-03-20T19:56:53.695Z"
   },
   {
    "duration": 128,
    "start_time": "2023-03-20T19:57:08.909Z"
   },
   {
    "duration": 6,
    "start_time": "2023-03-20T19:57:09.040Z"
   },
   {
    "duration": 39,
    "start_time": "2023-03-20T19:57:09.047Z"
   },
   {
    "duration": 252,
    "start_time": "2023-03-20T19:57:09.088Z"
   },
   {
    "duration": 6,
    "start_time": "2023-03-20T19:57:09.341Z"
   },
   {
    "duration": 26,
    "start_time": "2023-03-20T19:57:09.349Z"
   },
   {
    "duration": 169,
    "start_time": "2023-03-20T19:57:09.377Z"
   },
   {
    "duration": 48,
    "start_time": "2023-03-20T19:57:09.548Z"
   },
   {
    "duration": 15560,
    "start_time": "2023-03-20T19:57:09.598Z"
   },
   {
    "duration": 374,
    "start_time": "2023-03-20T19:57:25.160Z"
   },
   {
    "duration": 46,
    "start_time": "2023-03-20T19:57:25.536Z"
   },
   {
    "duration": 99,
    "start_time": "2023-03-20T19:57:25.584Z"
   },
   {
    "duration": 98,
    "start_time": "2023-03-20T19:57:25.687Z"
   },
   {
    "duration": 121,
    "start_time": "2023-03-20T19:57:25.786Z"
   },
   {
    "duration": 511,
    "start_time": "2023-03-20T19:57:25.908Z"
   },
   {
    "duration": 64,
    "start_time": "2023-03-20T19:57:26.421Z"
   },
   {
    "duration": 99,
    "start_time": "2023-03-20T19:57:26.487Z"
   },
   {
    "duration": 109,
    "start_time": "2023-03-20T19:57:26.587Z"
   },
   {
    "duration": 249,
    "start_time": "2023-03-20T19:57:26.697Z"
   },
   {
    "duration": 35,
    "start_time": "2023-03-20T19:57:26.948Z"
   },
   {
    "duration": 4,
    "start_time": "2023-03-20T19:57:26.985Z"
   },
   {
    "duration": 0,
    "start_time": "2023-03-20T19:57:27.076Z"
   },
   {
    "duration": 75,
    "start_time": "2023-03-20T19:57:44.825Z"
   },
   {
    "duration": 109,
    "start_time": "2023-03-20T19:57:46.916Z"
   },
   {
    "duration": 1429,
    "start_time": "2023-03-21T10:34:43.551Z"
   },
   {
    "duration": 7,
    "start_time": "2023-03-21T10:34:44.981Z"
   },
   {
    "duration": 93,
    "start_time": "2023-03-21T10:34:44.990Z"
   },
   {
    "duration": 35,
    "start_time": "2023-03-21T10:34:45.084Z"
   },
   {
    "duration": 150,
    "start_time": "2023-03-21T10:34:45.124Z"
   },
   {
    "duration": 1262,
    "start_time": "2023-03-21T10:34:45.295Z"
   },
   {
    "duration": 5,
    "start_time": "2023-03-21T10:34:46.558Z"
   },
   {
    "duration": 15,
    "start_time": "2023-03-21T10:34:46.564Z"
   },
   {
    "duration": 30,
    "start_time": "2023-03-21T10:34:46.581Z"
   },
   {
    "duration": 20,
    "start_time": "2023-03-21T10:34:46.613Z"
   },
   {
    "duration": 26,
    "start_time": "2023-03-21T10:34:46.634Z"
   },
   {
    "duration": 11,
    "start_time": "2023-03-21T10:34:46.662Z"
   },
   {
    "duration": 7,
    "start_time": "2023-03-21T10:34:46.675Z"
   },
   {
    "duration": 4,
    "start_time": "2023-03-21T10:34:46.686Z"
   },
   {
    "duration": 56,
    "start_time": "2023-03-21T10:34:46.692Z"
   },
   {
    "duration": 8,
    "start_time": "2023-03-21T10:34:46.751Z"
   },
   {
    "duration": 19,
    "start_time": "2023-03-21T10:34:46.760Z"
   },
   {
    "duration": 4,
    "start_time": "2023-03-21T10:34:46.781Z"
   },
   {
    "duration": 60,
    "start_time": "2023-03-21T10:34:46.787Z"
   },
   {
    "duration": 33,
    "start_time": "2023-03-21T10:34:46.849Z"
   },
   {
    "duration": 17,
    "start_time": "2023-03-21T10:34:46.883Z"
   },
   {
    "duration": 168,
    "start_time": "2023-03-21T10:34:46.902Z"
   },
   {
    "duration": 204,
    "start_time": "2023-03-21T10:34:47.072Z"
   },
   {
    "duration": 144,
    "start_time": "2023-03-21T10:34:47.278Z"
   },
   {
    "duration": 9,
    "start_time": "2023-03-21T10:34:47.424Z"
   },
   {
    "duration": 25535,
    "start_time": "2023-03-21T10:34:47.436Z"
   },
   {
    "duration": 190,
    "start_time": "2023-03-21T10:35:12.973Z"
   },
   {
    "duration": 5,
    "start_time": "2023-03-21T10:35:13.165Z"
   },
   {
    "duration": 51,
    "start_time": "2023-03-21T10:35:13.172Z"
   },
   {
    "duration": 283,
    "start_time": "2023-03-21T10:35:13.225Z"
   },
   {
    "duration": 7,
    "start_time": "2023-03-21T10:35:13.510Z"
   },
   {
    "duration": 24,
    "start_time": "2023-03-21T10:35:13.520Z"
   },
   {
    "duration": 234,
    "start_time": "2023-03-21T10:35:13.546Z"
   },
   {
    "duration": 63,
    "start_time": "2023-03-21T10:35:13.781Z"
   },
   {
    "duration": 22638,
    "start_time": "2023-03-21T10:35:13.846Z"
   },
   {
    "duration": 550,
    "start_time": "2023-03-21T10:35:36.487Z"
   },
   {
    "duration": 65,
    "start_time": "2023-03-21T10:35:37.039Z"
   },
   {
    "duration": 138,
    "start_time": "2023-03-21T10:35:37.109Z"
   },
   {
    "duration": 83,
    "start_time": "2023-03-21T10:35:37.251Z"
   },
   {
    "duration": 62,
    "start_time": "2023-03-21T10:35:37.415Z"
   },
   {
    "duration": 673,
    "start_time": "2023-03-21T10:35:37.481Z"
   },
   {
    "duration": 180,
    "start_time": "2023-03-21T10:35:38.156Z"
   },
   {
    "duration": 28,
    "start_time": "2023-03-21T10:35:38.400Z"
   },
   {
    "duration": 127,
    "start_time": "2023-03-21T10:35:38.435Z"
   },
   {
    "duration": 326,
    "start_time": "2023-03-21T10:35:38.563Z"
   },
   {
    "duration": 129,
    "start_time": "2023-03-21T10:35:38.899Z"
   },
   {
    "duration": 206,
    "start_time": "2023-03-21T10:35:39.031Z"
   },
   {
    "duration": 132,
    "start_time": "2023-03-21T10:35:39.239Z"
   },
   {
    "duration": 56,
    "start_time": "2023-03-21T11:38:09.426Z"
   },
   {
    "duration": 1678,
    "start_time": "2023-03-21T11:38:13.894Z"
   },
   {
    "duration": 9,
    "start_time": "2023-03-21T11:38:15.574Z"
   },
   {
    "duration": 191,
    "start_time": "2023-03-21T11:38:15.584Z"
   },
   {
    "duration": 30,
    "start_time": "2023-03-21T11:38:15.777Z"
   },
   {
    "duration": 115,
    "start_time": "2023-03-21T11:38:15.808Z"
   },
   {
    "duration": 1135,
    "start_time": "2023-03-21T11:38:15.939Z"
   },
   {
    "duration": 94,
    "start_time": "2023-03-21T11:38:17.815Z"
   },
   {
    "duration": 334,
    "start_time": "2023-03-21T11:39:46.121Z"
   },
   {
    "duration": 83,
    "start_time": "2023-03-21T11:46:02.773Z"
   },
   {
    "duration": 73,
    "start_time": "2023-03-21T11:46:08.679Z"
   },
   {
    "duration": 91,
    "start_time": "2023-03-21T11:46:17.401Z"
   },
   {
    "duration": 3,
    "start_time": "2023-03-21T11:46:24.183Z"
   },
   {
    "duration": 7,
    "start_time": "2023-03-21T11:46:38.837Z"
   },
   {
    "duration": 11,
    "start_time": "2023-03-21T11:46:40.754Z"
   },
   {
    "duration": 1402,
    "start_time": "2023-03-22T05:34:10.828Z"
   },
   {
    "duration": 4,
    "start_time": "2023-03-22T05:35:32.606Z"
   },
   {
    "duration": 4,
    "start_time": "2023-03-22T05:36:13.471Z"
   },
   {
    "duration": 6,
    "start_time": "2023-03-22T05:36:13.482Z"
   },
   {
    "duration": 89,
    "start_time": "2023-03-22T05:36:13.491Z"
   },
   {
    "duration": 25,
    "start_time": "2023-03-22T05:36:13.582Z"
   },
   {
    "duration": 115,
    "start_time": "2023-03-22T05:36:13.608Z"
   },
   {
    "duration": 988,
    "start_time": "2023-03-22T05:36:13.725Z"
   },
   {
    "duration": 338,
    "start_time": "2023-03-22T05:36:15.302Z"
   },
   {
    "duration": 4,
    "start_time": "2023-03-22T05:36:27.718Z"
   },
   {
    "duration": 10,
    "start_time": "2023-03-22T05:38:40.694Z"
   },
   {
    "duration": 4,
    "start_time": "2023-03-22T05:39:22.867Z"
   },
   {
    "duration": 9,
    "start_time": "2023-03-22T05:39:24.942Z"
   },
   {
    "duration": 1331,
    "start_time": "2023-03-22T05:39:49.177Z"
   },
   {
    "duration": 7,
    "start_time": "2023-03-22T05:39:50.510Z"
   },
   {
    "duration": 53,
    "start_time": "2023-03-22T05:39:50.519Z"
   },
   {
    "duration": 25,
    "start_time": "2023-03-22T05:39:50.574Z"
   },
   {
    "duration": 94,
    "start_time": "2023-03-22T05:39:50.601Z"
   },
   {
    "duration": 900,
    "start_time": "2023-03-22T05:39:50.697Z"
   },
   {
    "duration": 4,
    "start_time": "2023-03-22T05:39:51.599Z"
   },
   {
    "duration": 23,
    "start_time": "2023-03-22T05:39:51.604Z"
   },
   {
    "duration": 10,
    "start_time": "2023-03-22T05:39:51.628Z"
   },
   {
    "duration": 21,
    "start_time": "2023-03-22T05:39:51.640Z"
   },
   {
    "duration": 13,
    "start_time": "2023-03-22T05:39:51.662Z"
   },
   {
    "duration": 17,
    "start_time": "2023-03-22T05:39:51.677Z"
   },
   {
    "duration": 7,
    "start_time": "2023-03-22T05:39:51.695Z"
   },
   {
    "duration": 6,
    "start_time": "2023-03-22T05:39:51.703Z"
   },
   {
    "duration": 7,
    "start_time": "2023-03-22T05:39:51.710Z"
   },
   {
    "duration": 7,
    "start_time": "2023-03-22T05:39:51.719Z"
   },
   {
    "duration": 15,
    "start_time": "2023-03-22T05:39:51.728Z"
   },
   {
    "duration": 10,
    "start_time": "2023-03-22T05:39:51.745Z"
   },
   {
    "duration": 9,
    "start_time": "2023-03-22T05:39:51.756Z"
   },
   {
    "duration": 27,
    "start_time": "2023-03-22T05:39:51.767Z"
   },
   {
    "duration": 13,
    "start_time": "2023-03-22T05:39:51.796Z"
   },
   {
    "duration": 112,
    "start_time": "2023-03-22T05:39:51.810Z"
   },
   {
    "duration": 174,
    "start_time": "2023-03-22T05:39:51.924Z"
   },
   {
    "duration": 149,
    "start_time": "2023-03-22T05:39:52.100Z"
   },
   {
    "duration": 5,
    "start_time": "2023-03-22T05:39:52.250Z"
   },
   {
    "duration": 15188,
    "start_time": "2023-03-22T05:39:52.256Z"
   },
   {
    "duration": 116,
    "start_time": "2023-03-22T05:40:07.445Z"
   },
   {
    "duration": 4,
    "start_time": "2023-03-22T05:40:07.564Z"
   },
   {
    "duration": 55,
    "start_time": "2023-03-22T05:40:07.569Z"
   },
   {
    "duration": 344,
    "start_time": "2023-03-22T05:40:07.625Z"
   },
   {
    "duration": 5,
    "start_time": "2023-03-22T05:40:07.970Z"
   },
   {
    "duration": 5,
    "start_time": "2023-03-22T05:40:07.977Z"
   },
   {
    "duration": 180,
    "start_time": "2023-03-22T05:40:07.984Z"
   },
   {
    "duration": 746,
    "start_time": "2023-03-22T05:40:08.166Z"
   },
   {
    "duration": 16246,
    "start_time": "2023-03-22T05:40:08.913Z"
   },
   {
    "duration": 821,
    "start_time": "2023-03-22T05:40:25.160Z"
   },
   {
    "duration": 22,
    "start_time": "2023-03-22T05:40:25.983Z"
   },
   {
    "duration": 218,
    "start_time": "2023-03-22T05:40:26.006Z"
   },
   {
    "duration": 0,
    "start_time": "2023-03-22T05:40:26.226Z"
   },
   {
    "duration": 0,
    "start_time": "2023-03-22T05:40:26.228Z"
   },
   {
    "duration": 0,
    "start_time": "2023-03-22T05:40:26.229Z"
   },
   {
    "duration": 0,
    "start_time": "2023-03-22T05:40:26.230Z"
   },
   {
    "duration": 0,
    "start_time": "2023-03-22T05:40:26.231Z"
   },
   {
    "duration": 0,
    "start_time": "2023-03-22T05:40:26.232Z"
   },
   {
    "duration": 0,
    "start_time": "2023-03-22T05:40:26.234Z"
   },
   {
    "duration": 0,
    "start_time": "2023-03-22T05:40:26.235Z"
   },
   {
    "duration": 0,
    "start_time": "2023-03-22T05:40:26.237Z"
   },
   {
    "duration": 0,
    "start_time": "2023-03-22T05:40:26.239Z"
   },
   {
    "duration": 0,
    "start_time": "2023-03-22T05:40:26.241Z"
   },
   {
    "duration": 15,
    "start_time": "2023-03-22T05:40:38.647Z"
   },
   {
    "duration": 91,
    "start_time": "2023-03-22T05:57:08.165Z"
   },
   {
    "duration": 88,
    "start_time": "2023-03-22T05:58:36.383Z"
   },
   {
    "duration": 264,
    "start_time": "2023-03-22T05:59:10.913Z"
   },
   {
    "duration": 177,
    "start_time": "2023-03-22T06:01:14.518Z"
   },
   {
    "duration": 13,
    "start_time": "2023-03-22T06:01:36.622Z"
   },
   {
    "duration": 455,
    "start_time": "2023-03-22T06:01:57.718Z"
   },
   {
    "duration": 22,
    "start_time": "2023-03-22T06:03:29.113Z"
   },
   {
    "duration": 15788,
    "start_time": "2023-03-22T06:04:11.793Z"
   },
   {
    "duration": 115,
    "start_time": "2023-03-22T06:04:56.178Z"
   },
   {
    "duration": 33,
    "start_time": "2023-03-22T06:10:14.662Z"
   },
   {
    "duration": 299,
    "start_time": "2023-03-22T06:11:21.343Z"
   },
   {
    "duration": 17,
    "start_time": "2023-03-22T06:12:32.206Z"
   },
   {
    "duration": 4,
    "start_time": "2023-03-22T06:13:02.099Z"
   },
   {
    "duration": 12,
    "start_time": "2023-03-22T06:13:16.565Z"
   },
   {
    "duration": 156,
    "start_time": "2023-03-22T06:18:29.778Z"
   },
   {
    "duration": 229,
    "start_time": "2023-03-22T06:18:49.980Z"
   },
   {
    "duration": 29,
    "start_time": "2023-03-22T06:19:08.854Z"
   },
   {
    "duration": 21801,
    "start_time": "2023-03-22T06:21:15.094Z"
   },
   {
    "duration": 484,
    "start_time": "2023-03-22T06:21:37.387Z"
   },
   {
    "duration": 487,
    "start_time": "2023-03-22T06:22:40.444Z"
   },
   {
    "duration": 10,
    "start_time": "2023-03-22T06:23:53.572Z"
   },
   {
    "duration": 10,
    "start_time": "2023-03-22T06:23:57.664Z"
   },
   {
    "duration": 105,
    "start_time": "2023-03-22T06:23:58.701Z"
   },
   {
    "duration": 121,
    "start_time": "2023-03-22T06:24:03.145Z"
   },
   {
    "duration": 19,
    "start_time": "2023-03-22T06:24:09.048Z"
   },
   {
    "duration": 10570,
    "start_time": "2023-03-22T06:24:37.640Z"
   },
   {
    "duration": 322,
    "start_time": "2023-03-22T06:24:53.088Z"
   },
   {
    "duration": 224,
    "start_time": "2023-03-22T06:25:00.484Z"
   },
   {
    "duration": 174,
    "start_time": "2023-03-22T06:25:09.595Z"
   },
   {
    "duration": 64,
    "start_time": "2023-03-22T06:25:17.971Z"
   },
   {
    "duration": 187,
    "start_time": "2023-03-22T06:38:31.032Z"
   },
   {
    "duration": 30,
    "start_time": "2023-03-22T06:38:33.443Z"
   },
   {
    "duration": 20350,
    "start_time": "2023-03-22T06:40:31.438Z"
   },
   {
    "duration": 417,
    "start_time": "2023-03-22T06:40:57.469Z"
   },
   {
    "duration": 97,
    "start_time": "2023-03-22T06:41:23.438Z"
   },
   {
    "duration": 21,
    "start_time": "2023-03-22T06:41:26.815Z"
   },
   {
    "duration": 9766,
    "start_time": "2023-03-22T06:41:55.833Z"
   },
   {
    "duration": 1457,
    "start_time": "2023-03-22T06:42:25.833Z"
   },
   {
    "duration": 7,
    "start_time": "2023-03-22T06:42:27.292Z"
   },
   {
    "duration": 65,
    "start_time": "2023-03-22T06:42:27.300Z"
   },
   {
    "duration": 22,
    "start_time": "2023-03-22T06:42:27.367Z"
   },
   {
    "duration": 94,
    "start_time": "2023-03-22T06:42:27.390Z"
   },
   {
    "duration": 912,
    "start_time": "2023-03-22T06:42:27.485Z"
   },
   {
    "duration": 4,
    "start_time": "2023-03-22T06:42:28.398Z"
   },
   {
    "duration": 50,
    "start_time": "2023-03-22T06:42:28.403Z"
   },
   {
    "duration": 8,
    "start_time": "2023-03-22T06:42:28.455Z"
   },
   {
    "duration": 9,
    "start_time": "2023-03-22T06:42:28.465Z"
   },
   {
    "duration": 20,
    "start_time": "2023-03-22T06:42:28.475Z"
   },
   {
    "duration": 11,
    "start_time": "2023-03-22T06:42:28.496Z"
   },
   {
    "duration": 6,
    "start_time": "2023-03-22T06:42:28.508Z"
   },
   {
    "duration": 16,
    "start_time": "2023-03-22T06:42:28.516Z"
   },
   {
    "duration": 6,
    "start_time": "2023-03-22T06:42:28.534Z"
   },
   {
    "duration": 5,
    "start_time": "2023-03-22T06:42:28.541Z"
   },
   {
    "duration": 19,
    "start_time": "2023-03-22T06:42:28.547Z"
   },
   {
    "duration": 6,
    "start_time": "2023-03-22T06:42:28.568Z"
   },
   {
    "duration": 7,
    "start_time": "2023-03-22T06:42:28.575Z"
   },
   {
    "duration": 37,
    "start_time": "2023-03-22T06:42:28.583Z"
   },
   {
    "duration": 26,
    "start_time": "2023-03-22T06:42:28.621Z"
   },
   {
    "duration": 100,
    "start_time": "2023-03-22T06:42:28.648Z"
   },
   {
    "duration": 215,
    "start_time": "2023-03-22T06:42:28.750Z"
   },
   {
    "duration": 107,
    "start_time": "2023-03-22T06:42:28.966Z"
   },
   {
    "duration": 5,
    "start_time": "2023-03-22T06:42:29.074Z"
   },
   {
    "duration": 16091,
    "start_time": "2023-03-22T06:42:29.081Z"
   },
   {
    "duration": 149,
    "start_time": "2023-03-22T06:42:45.174Z"
   },
   {
    "duration": 8,
    "start_time": "2023-03-22T06:42:45.333Z"
   },
   {
    "duration": 96,
    "start_time": "2023-03-22T06:42:45.343Z"
   },
   {
    "duration": 331,
    "start_time": "2023-03-22T06:42:45.441Z"
   },
   {
    "duration": 5,
    "start_time": "2023-03-22T06:42:45.774Z"
   },
   {
    "duration": 11,
    "start_time": "2023-03-22T06:42:45.780Z"
   },
   {
    "duration": 214,
    "start_time": "2023-03-22T06:42:45.792Z"
   },
   {
    "duration": 50,
    "start_time": "2023-03-22T06:42:46.008Z"
   },
   {
    "duration": 16335,
    "start_time": "2023-03-22T06:42:46.061Z"
   },
   {
    "duration": 266,
    "start_time": "2023-03-22T06:43:02.397Z"
   },
   {
    "duration": 63,
    "start_time": "2023-03-22T06:43:02.664Z"
   },
   {
    "duration": 111,
    "start_time": "2023-03-22T06:43:02.728Z"
   },
   {
    "duration": 221,
    "start_time": "2023-03-22T06:43:02.841Z"
   },
   {
    "duration": 196,
    "start_time": "2023-03-22T06:43:03.064Z"
   },
   {
    "duration": 28,
    "start_time": "2023-03-22T06:43:03.262Z"
   },
   {
    "duration": 21330,
    "start_time": "2023-03-22T06:43:03.292Z"
   },
   {
    "duration": 425,
    "start_time": "2023-03-22T06:43:24.635Z"
   },
   {
    "duration": 169,
    "start_time": "2023-03-22T06:43:25.062Z"
   },
   {
    "duration": 101,
    "start_time": "2023-03-22T06:43:25.234Z"
   },
   {
    "duration": 101,
    "start_time": "2023-03-22T06:43:25.337Z"
   },
   {
    "duration": 18,
    "start_time": "2023-03-22T06:43:25.439Z"
   },
   {
    "duration": 9687,
    "start_time": "2023-03-22T06:43:25.458Z"
   },
   {
    "duration": 221,
    "start_time": "2023-03-22T06:43:35.147Z"
   },
   {
    "duration": 76,
    "start_time": "2023-03-22T06:43:35.369Z"
   },
   {
    "duration": 252,
    "start_time": "2023-03-22T06:43:35.533Z"
   },
   {
    "duration": 0,
    "start_time": "2023-03-22T06:43:35.787Z"
   },
   {
    "duration": 62,
    "start_time": "2023-03-22T06:44:54.599Z"
   },
   {
    "duration": 101,
    "start_time": "2023-03-22T06:45:10.896Z"
   },
   {
    "duration": 1949,
    "start_time": "2023-03-22T11:00:02.509Z"
   },
   {
    "duration": 8,
    "start_time": "2023-03-22T11:00:04.460Z"
   },
   {
    "duration": 135,
    "start_time": "2023-03-22T11:00:04.470Z"
   },
   {
    "duration": 28,
    "start_time": "2023-03-22T11:00:04.608Z"
   },
   {
    "duration": 132,
    "start_time": "2023-03-22T11:00:04.638Z"
   },
   {
    "duration": 1271,
    "start_time": "2023-03-22T11:00:04.772Z"
   },
   {
    "duration": 5,
    "start_time": "2023-03-22T11:00:06.047Z"
   },
   {
    "duration": 75,
    "start_time": "2023-03-22T11:00:06.055Z"
   },
   {
    "duration": 67,
    "start_time": "2023-03-22T11:00:06.133Z"
   },
   {
    "duration": 70,
    "start_time": "2023-03-22T11:00:06.204Z"
   },
   {
    "duration": 30,
    "start_time": "2023-03-22T11:00:06.277Z"
   },
   {
    "duration": 54,
    "start_time": "2023-03-22T11:00:06.309Z"
   },
   {
    "duration": 92,
    "start_time": "2023-03-22T11:00:06.366Z"
   },
   {
    "duration": 49,
    "start_time": "2023-03-22T11:00:06.460Z"
   },
   {
    "duration": 38,
    "start_time": "2023-03-22T11:00:06.511Z"
   },
   {
    "duration": 117,
    "start_time": "2023-03-22T11:00:06.551Z"
   },
   {
    "duration": 79,
    "start_time": "2023-03-22T11:00:06.669Z"
   },
   {
    "duration": 70,
    "start_time": "2023-03-22T11:00:06.750Z"
   },
   {
    "duration": 28,
    "start_time": "2023-03-22T11:00:06.822Z"
   },
   {
    "duration": 49,
    "start_time": "2023-03-22T11:00:06.851Z"
   },
   {
    "duration": 15,
    "start_time": "2023-03-22T11:00:06.902Z"
   },
   {
    "duration": 138,
    "start_time": "2023-03-22T11:00:06.919Z"
   },
   {
    "duration": 268,
    "start_time": "2023-03-22T11:00:07.058Z"
   },
   {
    "duration": 134,
    "start_time": "2023-03-22T11:00:07.328Z"
   },
   {
    "duration": 5,
    "start_time": "2023-03-22T11:00:07.464Z"
   },
   {
    "duration": 17392,
    "start_time": "2023-03-22T11:00:07.471Z"
   },
   {
    "duration": 156,
    "start_time": "2023-03-22T11:00:24.865Z"
   },
   {
    "duration": 18,
    "start_time": "2023-03-22T11:00:25.025Z"
   },
   {
    "duration": 100,
    "start_time": "2023-03-22T11:00:25.044Z"
   },
   {
    "duration": 378,
    "start_time": "2023-03-22T11:00:25.145Z"
   },
   {
    "duration": 22,
    "start_time": "2023-03-22T11:00:25.525Z"
   },
   {
    "duration": 23,
    "start_time": "2023-03-22T11:00:25.550Z"
   },
   {
    "duration": 196,
    "start_time": "2023-03-22T11:00:25.575Z"
   },
   {
    "duration": 35,
    "start_time": "2023-03-22T11:00:25.774Z"
   },
   {
    "duration": 17511,
    "start_time": "2023-03-22T11:00:25.811Z"
   },
   {
    "duration": 310,
    "start_time": "2023-03-22T11:00:43.324Z"
   },
   {
    "duration": 27,
    "start_time": "2023-03-22T11:00:43.641Z"
   },
   {
    "duration": 113,
    "start_time": "2023-03-22T11:00:43.743Z"
   },
   {
    "duration": 91,
    "start_time": "2023-03-22T11:00:43.859Z"
   },
   {
    "duration": 216,
    "start_time": "2023-03-22T11:00:44.042Z"
   },
   {
    "duration": 32,
    "start_time": "2023-03-22T11:00:44.260Z"
   },
   {
    "duration": 22890,
    "start_time": "2023-03-22T11:00:44.294Z"
   },
   {
    "duration": 549,
    "start_time": "2023-03-22T11:01:07.186Z"
   },
   {
    "duration": 205,
    "start_time": "2023-03-22T11:01:07.737Z"
   },
   {
    "duration": 108,
    "start_time": "2023-03-22T11:01:07.944Z"
   },
   {
    "duration": 124,
    "start_time": "2023-03-22T11:01:08.054Z"
   },
   {
    "duration": 23,
    "start_time": "2023-03-22T11:01:08.179Z"
   },
   {
    "duration": 11308,
    "start_time": "2023-03-22T11:01:08.204Z"
   },
   {
    "duration": 263,
    "start_time": "2023-03-22T11:01:19.514Z"
   },
   {
    "duration": 169,
    "start_time": "2023-03-22T11:01:19.779Z"
   },
   {
    "duration": 245,
    "start_time": "2023-03-22T11:01:19.950Z"
   },
   {
    "duration": 135,
    "start_time": "2023-03-22T11:01:20.197Z"
   },
   {
    "duration": 69,
    "start_time": "2023-03-22T11:07:33.140Z"
   },
   {
    "duration": 1585,
    "start_time": "2023-03-22T11:08:16.645Z"
   },
   {
    "duration": 8,
    "start_time": "2023-03-22T11:08:18.233Z"
   },
   {
    "duration": 51,
    "start_time": "2023-03-22T11:08:18.243Z"
   },
   {
    "duration": 27,
    "start_time": "2023-03-22T11:08:18.296Z"
   },
   {
    "duration": 130,
    "start_time": "2023-03-22T11:08:18.325Z"
   },
   {
    "duration": 1143,
    "start_time": "2023-03-22T11:08:18.456Z"
   },
   {
    "duration": 5,
    "start_time": "2023-03-22T11:08:19.602Z"
   },
   {
    "duration": 20,
    "start_time": "2023-03-22T11:08:19.609Z"
   },
   {
    "duration": 12,
    "start_time": "2023-03-22T11:08:19.631Z"
   },
   {
    "duration": 18,
    "start_time": "2023-03-22T11:08:19.647Z"
   },
   {
    "duration": 9,
    "start_time": "2023-03-22T11:08:19.667Z"
   },
   {
    "duration": 15,
    "start_time": "2023-03-22T11:08:19.677Z"
   },
   {
    "duration": 5,
    "start_time": "2023-03-22T11:08:19.694Z"
   },
   {
    "duration": 9,
    "start_time": "2023-03-22T11:08:19.701Z"
   },
   {
    "duration": 15,
    "start_time": "2023-03-22T11:08:19.712Z"
   },
   {
    "duration": 10,
    "start_time": "2023-03-22T11:08:19.741Z"
   },
   {
    "duration": 16,
    "start_time": "2023-03-22T11:08:19.753Z"
   },
   {
    "duration": 4,
    "start_time": "2023-03-22T11:08:19.771Z"
   },
   {
    "duration": 12,
    "start_time": "2023-03-22T11:08:19.777Z"
   },
   {
    "duration": 33,
    "start_time": "2023-03-22T11:08:19.791Z"
   },
   {
    "duration": 19,
    "start_time": "2023-03-22T11:08:19.840Z"
   },
   {
    "duration": 152,
    "start_time": "2023-03-22T11:08:19.861Z"
   },
   {
    "duration": 272,
    "start_time": "2023-03-22T11:08:20.015Z"
   },
   {
    "duration": 135,
    "start_time": "2023-03-22T11:08:20.289Z"
   },
   {
    "duration": 18,
    "start_time": "2023-03-22T11:08:20.425Z"
   },
   {
    "duration": 17646,
    "start_time": "2023-03-22T11:08:20.445Z"
   },
   {
    "duration": 173,
    "start_time": "2023-03-22T11:08:38.093Z"
   },
   {
    "duration": 7,
    "start_time": "2023-03-22T11:08:38.271Z"
   },
   {
    "duration": 261,
    "start_time": "2023-03-22T11:08:38.279Z"
   },
   {
    "duration": 346,
    "start_time": "2023-03-22T11:08:38.542Z"
   },
   {
    "duration": 7,
    "start_time": "2023-03-22T11:08:38.889Z"
   },
   {
    "duration": 6,
    "start_time": "2023-03-22T11:08:38.898Z"
   },
   {
    "duration": 198,
    "start_time": "2023-03-22T11:08:38.906Z"
   },
   {
    "duration": 43,
    "start_time": "2023-03-22T11:08:39.106Z"
   },
   {
    "duration": 17423,
    "start_time": "2023-03-22T11:08:39.151Z"
   },
   {
    "duration": 320,
    "start_time": "2023-03-22T11:08:56.576Z"
   },
   {
    "duration": 48,
    "start_time": "2023-03-22T11:08:56.898Z"
   },
   {
    "duration": 107,
    "start_time": "2023-03-22T11:08:56.952Z"
   },
   {
    "duration": 88,
    "start_time": "2023-03-22T11:08:57.062Z"
   },
   {
    "duration": 336,
    "start_time": "2023-03-22T11:08:57.154Z"
   },
   {
    "duration": 49,
    "start_time": "2023-03-22T11:08:57.492Z"
   },
   {
    "duration": 22778,
    "start_time": "2023-03-22T11:08:57.543Z"
   },
   {
    "duration": 467,
    "start_time": "2023-03-22T11:09:20.323Z"
   },
   {
    "duration": 249,
    "start_time": "2023-03-22T11:09:20.792Z"
   },
   {
    "duration": 104,
    "start_time": "2023-03-22T11:09:21.044Z"
   },
   {
    "duration": 136,
    "start_time": "2023-03-22T11:09:21.150Z"
   },
   {
    "duration": 22,
    "start_time": "2023-03-22T11:09:21.288Z"
   },
   {
    "duration": 11532,
    "start_time": "2023-03-22T11:09:21.312Z"
   },
   {
    "duration": 284,
    "start_time": "2023-03-22T11:09:32.846Z"
   },
   {
    "duration": 212,
    "start_time": "2023-03-22T11:09:33.131Z"
   },
   {
    "duration": 147,
    "start_time": "2023-03-22T11:09:33.348Z"
   },
   {
    "duration": 146,
    "start_time": "2023-03-22T11:09:33.497Z"
   },
   {
    "duration": 17955,
    "start_time": "2023-03-22T11:14:15.553Z"
   },
   {
    "duration": 302,
    "start_time": "2023-03-22T11:14:33.510Z"
   },
   {
    "duration": 68,
    "start_time": "2023-03-22T11:14:49.643Z"
   },
   {
    "duration": 76,
    "start_time": "2023-03-22T11:14:56.682Z"
   },
   {
    "duration": 18005,
    "start_time": "2023-03-22T11:15:14.710Z"
   },
   {
    "duration": 288,
    "start_time": "2023-03-22T11:15:32.717Z"
   },
   {
    "duration": 1692,
    "start_time": "2023-03-22T11:20:42.806Z"
   },
   {
    "duration": 9,
    "start_time": "2023-03-22T11:20:44.501Z"
   },
   {
    "duration": 76,
    "start_time": "2023-03-22T11:20:44.512Z"
   },
   {
    "duration": 32,
    "start_time": "2023-03-22T11:20:44.590Z"
   },
   {
    "duration": 144,
    "start_time": "2023-03-22T11:20:44.624Z"
   },
   {
    "duration": 1297,
    "start_time": "2023-03-22T11:20:44.770Z"
   },
   {
    "duration": 6,
    "start_time": "2023-03-22T11:20:46.070Z"
   },
   {
    "duration": 36,
    "start_time": "2023-03-22T11:20:46.078Z"
   },
   {
    "duration": 23,
    "start_time": "2023-03-22T11:20:46.116Z"
   },
   {
    "duration": 20,
    "start_time": "2023-03-22T11:20:46.144Z"
   },
   {
    "duration": 11,
    "start_time": "2023-03-22T11:20:46.166Z"
   },
   {
    "duration": 28,
    "start_time": "2023-03-22T11:20:46.179Z"
   },
   {
    "duration": 22,
    "start_time": "2023-03-22T11:20:46.209Z"
   },
   {
    "duration": 44,
    "start_time": "2023-03-22T11:20:46.233Z"
   },
   {
    "duration": 28,
    "start_time": "2023-03-22T11:20:46.279Z"
   },
   {
    "duration": 11,
    "start_time": "2023-03-22T11:20:46.309Z"
   },
   {
    "duration": 47,
    "start_time": "2023-03-22T11:20:46.322Z"
   },
   {
    "duration": 10,
    "start_time": "2023-03-22T11:20:46.371Z"
   },
   {
    "duration": 6,
    "start_time": "2023-03-22T11:20:46.383Z"
   },
   {
    "duration": 46,
    "start_time": "2023-03-22T11:20:46.391Z"
   },
   {
    "duration": 20,
    "start_time": "2023-03-22T11:20:46.439Z"
   },
   {
    "duration": 160,
    "start_time": "2023-03-22T11:20:46.460Z"
   },
   {
    "duration": 295,
    "start_time": "2023-03-22T11:20:46.622Z"
   },
   {
    "duration": 146,
    "start_time": "2023-03-22T11:20:46.919Z"
   },
   {
    "duration": 6,
    "start_time": "2023-03-22T11:20:47.067Z"
   },
   {
    "duration": 18146,
    "start_time": "2023-03-22T11:20:47.074Z"
   },
   {
    "duration": 175,
    "start_time": "2023-03-22T11:21:05.223Z"
   },
   {
    "duration": 6,
    "start_time": "2023-03-22T11:21:05.403Z"
   },
   {
    "duration": 259,
    "start_time": "2023-03-22T11:21:05.411Z"
   },
   {
    "duration": 320,
    "start_time": "2023-03-22T11:21:05.743Z"
   },
   {
    "duration": 10,
    "start_time": "2023-03-22T11:21:06.066Z"
   },
   {
    "duration": 14,
    "start_time": "2023-03-22T11:21:06.078Z"
   },
   {
    "duration": 231,
    "start_time": "2023-03-22T11:21:06.095Z"
   },
   {
    "duration": 43,
    "start_time": "2023-03-22T11:21:06.328Z"
   },
   {
    "duration": 17976,
    "start_time": "2023-03-22T11:21:06.373Z"
   },
   {
    "duration": 279,
    "start_time": "2023-03-22T11:21:24.355Z"
   },
   {
    "duration": 26,
    "start_time": "2023-03-22T11:21:24.641Z"
   },
   {
    "duration": 99,
    "start_time": "2023-03-22T11:21:24.669Z"
   },
   {
    "duration": 202,
    "start_time": "2023-03-22T11:21:24.770Z"
   },
   {
    "duration": 237,
    "start_time": "2023-03-22T11:21:24.974Z"
   },
   {
    "duration": 59,
    "start_time": "2023-03-22T11:21:25.213Z"
   },
   {
    "duration": 23979,
    "start_time": "2023-03-22T11:21:25.274Z"
   },
   {
    "duration": 489,
    "start_time": "2023-03-22T11:21:49.261Z"
   },
   {
    "duration": 190,
    "start_time": "2023-03-22T11:21:49.752Z"
   },
   {
    "duration": 96,
    "start_time": "2023-03-22T11:21:49.944Z"
   },
   {
    "duration": 147,
    "start_time": "2023-03-22T11:21:50.043Z"
   },
   {
    "duration": 27,
    "start_time": "2023-03-22T11:21:50.192Z"
   },
   {
    "duration": 13463,
    "start_time": "2023-03-22T11:21:50.221Z"
   },
   {
    "duration": 287,
    "start_time": "2023-03-22T11:22:03.686Z"
   },
   {
    "duration": 82,
    "start_time": "2023-03-22T11:22:03.975Z"
   },
   {
    "duration": 257,
    "start_time": "2023-03-22T11:22:04.059Z"
   },
   {
    "duration": 148,
    "start_time": "2023-03-22T11:22:04.318Z"
   },
   {
    "duration": 14,
    "start_time": "2023-03-22T11:35:01.062Z"
   },
   {
    "duration": 45,
    "start_time": "2023-03-22T11:35:01.078Z"
   },
   {
    "duration": 192,
    "start_time": "2023-03-22T11:35:01.125Z"
   },
   {
    "duration": 71,
    "start_time": "2023-03-22T11:35:01.319Z"
   },
   {
    "duration": 253,
    "start_time": "2023-03-22T11:35:01.392Z"
   },
   {
    "duration": 1166,
    "start_time": "2023-03-22T11:35:01.646Z"
   },
   {
    "duration": 5,
    "start_time": "2023-03-22T11:35:02.814Z"
   },
   {
    "duration": 86,
    "start_time": "2023-03-22T11:35:02.821Z"
   },
   {
    "duration": 115,
    "start_time": "2023-03-22T11:35:02.909Z"
   },
   {
    "duration": 88,
    "start_time": "2023-03-22T11:35:03.026Z"
   },
   {
    "duration": 102,
    "start_time": "2023-03-22T11:35:03.117Z"
   },
   {
    "duration": 99,
    "start_time": "2023-03-22T11:35:03.220Z"
   },
   {
    "duration": 55,
    "start_time": "2023-03-22T11:35:03.321Z"
   },
   {
    "duration": 15,
    "start_time": "2023-03-22T11:35:03.378Z"
   },
   {
    "duration": 21,
    "start_time": "2023-03-22T11:35:03.396Z"
   },
   {
    "duration": 30,
    "start_time": "2023-03-22T11:35:03.419Z"
   },
   {
    "duration": 54,
    "start_time": "2023-03-22T11:35:03.451Z"
   },
   {
    "duration": 28,
    "start_time": "2023-03-22T11:35:03.507Z"
   },
   {
    "duration": 48,
    "start_time": "2023-03-22T11:35:03.536Z"
   },
   {
    "duration": 66,
    "start_time": "2023-03-22T11:35:03.587Z"
   },
   {
    "duration": 54,
    "start_time": "2023-03-22T11:35:03.655Z"
   },
   {
    "duration": 142,
    "start_time": "2023-03-22T11:35:03.711Z"
   },
   {
    "duration": 181,
    "start_time": "2023-03-22T11:35:03.855Z"
   },
   {
    "duration": 167,
    "start_time": "2023-03-22T11:35:04.043Z"
   },
   {
    "duration": 6,
    "start_time": "2023-03-22T11:35:04.212Z"
   },
   {
    "duration": 19193,
    "start_time": "2023-03-22T11:35:04.220Z"
   },
   {
    "duration": 164,
    "start_time": "2023-03-22T11:35:23.415Z"
   },
   {
    "duration": 6,
    "start_time": "2023-03-22T11:35:23.581Z"
   },
   {
    "duration": 160,
    "start_time": "2023-03-22T11:35:23.591Z"
   },
   {
    "duration": 302,
    "start_time": "2023-03-22T11:35:23.752Z"
   },
   {
    "duration": 9,
    "start_time": "2023-03-22T11:35:24.059Z"
   },
   {
    "duration": 30,
    "start_time": "2023-03-22T11:35:24.070Z"
   },
   {
    "duration": 216,
    "start_time": "2023-03-22T11:35:24.102Z"
   },
   {
    "duration": 49,
    "start_time": "2023-03-22T11:35:24.320Z"
   },
   {
    "duration": 18813,
    "start_time": "2023-03-22T11:35:24.373Z"
   },
   {
    "duration": 320,
    "start_time": "2023-03-22T11:35:43.187Z"
   },
   {
    "duration": 56,
    "start_time": "2023-03-22T11:35:43.509Z"
   },
   {
    "duration": 105,
    "start_time": "2023-03-22T11:35:43.568Z"
   },
   {
    "duration": 137,
    "start_time": "2023-03-22T11:35:43.742Z"
   },
   {
    "duration": 214,
    "start_time": "2023-03-22T11:35:43.880Z"
   },
   {
    "duration": 47,
    "start_time": "2023-03-22T11:35:44.096Z"
   },
   {
    "duration": 24562,
    "start_time": "2023-03-22T11:35:44.144Z"
   },
   {
    "duration": 519,
    "start_time": "2023-03-22T11:36:08.708Z"
   },
   {
    "duration": 133,
    "start_time": "2023-03-22T11:36:09.229Z"
   },
   {
    "duration": 190,
    "start_time": "2023-03-22T11:36:09.364Z"
   },
   {
    "duration": 123,
    "start_time": "2023-03-22T11:36:09.557Z"
   },
   {
    "duration": 24,
    "start_time": "2023-03-22T11:36:09.683Z"
   },
   {
    "duration": 12069,
    "start_time": "2023-03-22T11:36:09.709Z"
   },
   {
    "duration": 289,
    "start_time": "2023-03-22T11:36:21.780Z"
   },
   {
    "duration": 85,
    "start_time": "2023-03-22T11:36:22.072Z"
   },
   {
    "duration": 199,
    "start_time": "2023-03-22T11:36:22.161Z"
   },
   {
    "duration": 137,
    "start_time": "2023-03-22T11:36:22.361Z"
   },
   {
    "duration": 132,
    "start_time": "2023-03-22T11:36:22.500Z"
   },
   {
    "duration": 0,
    "start_time": "2023-03-22T11:36:22.634Z"
   },
   {
    "duration": 11,
    "start_time": "2023-03-22T11:36:29.183Z"
   },
   {
    "duration": 8,
    "start_time": "2023-03-22T11:36:37.648Z"
   },
   {
    "duration": 11,
    "start_time": "2023-03-22T11:36:44.359Z"
   },
   {
    "duration": 9,
    "start_time": "2023-03-22T11:37:54.664Z"
   },
   {
    "duration": 6,
    "start_time": "2023-03-22T11:41:48.664Z"
   },
   {
    "duration": 9,
    "start_time": "2023-03-22T11:41:54.888Z"
   },
   {
    "duration": 24,
    "start_time": "2023-03-22T11:47:35.327Z"
   },
   {
    "duration": 12,
    "start_time": "2023-03-22T11:47:47.683Z"
   },
   {
    "duration": 14,
    "start_time": "2023-03-22T11:48:00.796Z"
   },
   {
    "duration": 11,
    "start_time": "2023-03-22T11:48:05.814Z"
   },
   {
    "duration": 18,
    "start_time": "2023-03-22T11:48:39.892Z"
   },
   {
    "duration": 17,
    "start_time": "2023-03-22T11:48:56.608Z"
   },
   {
    "duration": 22,
    "start_time": "2023-03-22T11:49:24.617Z"
   },
   {
    "duration": 12,
    "start_time": "2023-03-22T11:50:05.601Z"
   },
   {
    "duration": 13,
    "start_time": "2023-03-22T11:53:38.098Z"
   },
   {
    "duration": 14,
    "start_time": "2023-03-22T11:53:49.687Z"
   },
   {
    "duration": 14,
    "start_time": "2023-03-22T11:53:53.002Z"
   },
   {
    "duration": 8,
    "start_time": "2023-03-22T11:56:33.730Z"
   },
   {
    "duration": 20,
    "start_time": "2023-03-22T11:57:10.902Z"
   },
   {
    "duration": 21,
    "start_time": "2023-03-22T11:57:16.824Z"
   },
   {
    "duration": 10,
    "start_time": "2023-03-22T12:02:39.072Z"
   },
   {
    "duration": 11,
    "start_time": "2023-03-22T12:02:42.001Z"
   },
   {
    "duration": 16,
    "start_time": "2023-03-22T12:02:48.412Z"
   },
   {
    "duration": 16,
    "start_time": "2023-03-22T12:02:58.866Z"
   },
   {
    "duration": 13,
    "start_time": "2023-03-22T12:05:04.694Z"
   },
   {
    "duration": 17,
    "start_time": "2023-03-22T12:05:33.476Z"
   },
   {
    "duration": 6,
    "start_time": "2023-03-22T12:05:42.123Z"
   },
   {
    "duration": 88,
    "start_time": "2023-03-22T12:15:26.147Z"
   },
   {
    "duration": 252,
    "start_time": "2023-03-22T12:15:36.007Z"
   },
   {
    "duration": 71,
    "start_time": "2023-03-22T12:15:55.811Z"
   },
   {
    "duration": 1638,
    "start_time": "2023-03-22T12:21:41.553Z"
   },
   {
    "duration": 9,
    "start_time": "2023-03-22T12:21:43.193Z"
   },
   {
    "duration": 81,
    "start_time": "2023-03-22T12:21:43.204Z"
   },
   {
    "duration": 31,
    "start_time": "2023-03-22T12:21:43.288Z"
   },
   {
    "duration": 143,
    "start_time": "2023-03-22T12:21:43.321Z"
   },
   {
    "duration": 1193,
    "start_time": "2023-03-22T12:21:43.466Z"
   },
   {
    "duration": 6,
    "start_time": "2023-03-22T12:21:44.661Z"
   },
   {
    "duration": 31,
    "start_time": "2023-03-22T12:21:44.669Z"
   },
   {
    "duration": 11,
    "start_time": "2023-03-22T12:21:44.703Z"
   },
   {
    "duration": 13,
    "start_time": "2023-03-22T12:21:44.716Z"
   },
   {
    "duration": 18,
    "start_time": "2023-03-22T12:21:44.730Z"
   },
   {
    "duration": 33,
    "start_time": "2023-03-22T12:21:44.754Z"
   },
   {
    "duration": 13,
    "start_time": "2023-03-22T12:21:44.789Z"
   },
   {
    "duration": 8,
    "start_time": "2023-03-22T12:21:44.804Z"
   },
   {
    "duration": 11,
    "start_time": "2023-03-22T12:21:44.814Z"
   },
   {
    "duration": 34,
    "start_time": "2023-03-22T12:21:44.827Z"
   },
   {
    "duration": 15,
    "start_time": "2023-03-22T12:21:44.863Z"
   },
   {
    "duration": 3,
    "start_time": "2023-03-22T12:21:44.880Z"
   },
   {
    "duration": 6,
    "start_time": "2023-03-22T12:21:44.885Z"
   },
   {
    "duration": 31,
    "start_time": "2023-03-22T12:21:44.892Z"
   },
   {
    "duration": 29,
    "start_time": "2023-03-22T12:21:44.925Z"
   },
   {
    "duration": 128,
    "start_time": "2023-03-22T12:21:44.956Z"
   },
   {
    "duration": 285,
    "start_time": "2023-03-22T12:21:45.086Z"
   },
   {
    "duration": 144,
    "start_time": "2023-03-22T12:21:45.373Z"
   },
   {
    "duration": 6,
    "start_time": "2023-03-22T12:21:45.519Z"
   },
   {
    "duration": 18372,
    "start_time": "2023-03-22T12:21:45.526Z"
   },
   {
    "duration": 170,
    "start_time": "2023-03-22T12:22:03.900Z"
   },
   {
    "duration": 6,
    "start_time": "2023-03-22T12:22:04.074Z"
   },
   {
    "duration": 169,
    "start_time": "2023-03-22T12:22:04.081Z"
   },
   {
    "duration": 297,
    "start_time": "2023-03-22T12:22:04.252Z"
   },
   {
    "duration": 8,
    "start_time": "2023-03-22T12:22:04.552Z"
   },
   {
    "duration": 35,
    "start_time": "2023-03-22T12:22:04.562Z"
   },
   {
    "duration": 208,
    "start_time": "2023-03-22T12:22:04.599Z"
   },
   {
    "duration": 51,
    "start_time": "2023-03-22T12:22:04.809Z"
   },
   {
    "duration": 18774,
    "start_time": "2023-03-22T12:22:04.862Z"
   },
   {
    "duration": 315,
    "start_time": "2023-03-22T12:22:23.638Z"
   },
   {
    "duration": 89,
    "start_time": "2023-03-22T12:22:23.956Z"
   },
   {
    "duration": 108,
    "start_time": "2023-03-22T12:22:24.047Z"
   },
   {
    "duration": 182,
    "start_time": "2023-03-22T12:22:24.161Z"
   },
   {
    "duration": 231,
    "start_time": "2023-03-22T12:22:24.349Z"
   },
   {
    "duration": 36,
    "start_time": "2023-03-22T12:22:24.582Z"
   },
   {
    "duration": 23882,
    "start_time": "2023-03-22T12:22:24.619Z"
   },
   {
    "duration": 475,
    "start_time": "2023-03-22T12:22:48.503Z"
   },
   {
    "duration": 169,
    "start_time": "2023-03-22T12:22:48.980Z"
   },
   {
    "duration": 97,
    "start_time": "2023-03-22T12:22:49.152Z"
   },
   {
    "duration": 120,
    "start_time": "2023-03-22T12:22:49.252Z"
   },
   {
    "duration": 26,
    "start_time": "2023-03-22T12:22:49.373Z"
   },
   {
    "duration": 11725,
    "start_time": "2023-03-22T12:22:49.401Z"
   },
   {
    "duration": 272,
    "start_time": "2023-03-22T12:23:01.128Z"
   },
   {
    "duration": 51,
    "start_time": "2023-03-22T12:23:01.402Z"
   },
   {
    "duration": 263,
    "start_time": "2023-03-22T12:23:01.463Z"
   },
   {
    "duration": 180,
    "start_time": "2023-03-22T12:23:01.728Z"
   },
   {
    "duration": 13,
    "start_time": "2023-03-22T12:23:01.909Z"
   },
   {
    "duration": 31,
    "start_time": "2023-03-22T12:23:01.924Z"
   }
  ],
  "kernelspec": {
   "display_name": "Python 3 (ipykernel)",
   "language": "python",
   "name": "python3"
  },
  "language_info": {
   "codemirror_mode": {
    "name": "ipython",
    "version": 3
   },
   "file_extension": ".py",
   "mimetype": "text/x-python",
   "name": "python",
   "nbconvert_exporter": "python",
   "pygments_lexer": "ipython3",
   "version": "3.9.13"
  },
  "toc": {
   "base_numbering": 1,
   "nav_menu": {},
   "number_sections": true,
   "sideBar": true,
   "skip_h1_title": true,
   "title_cell": "Содержание",
   "title_sidebar": "Contents",
   "toc_cell": true,
   "toc_position": {
    "height": "calc(100% - 180px)",
    "left": "10px",
    "top": "150px",
    "width": "285.764px"
   },
   "toc_section_display": true,
   "toc_window_display": false
  }
 },
 "nbformat": 4,
 "nbformat_minor": 2
}
