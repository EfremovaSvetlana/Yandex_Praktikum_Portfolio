{
 "cells": [
  {
   "cell_type": "markdown",
   "metadata": {
    "toc": true
   },
   "source": [
    "<h1>Содержание<span class=\"tocSkip\"></span></h1>\n",
    "<div class=\"toc\"><ul class=\"toc-item\"><li><span><a href=\"#Загрузка-данных\" data-toc-modified-id=\"Загрузка-данных-1\"><span class=\"toc-item-num\">1&nbsp;&nbsp;</span>Загрузка данных</a></span></li><li><span><a href=\"#Умножение-матриц\" data-toc-modified-id=\"Умножение-матриц-2\"><span class=\"toc-item-num\">2&nbsp;&nbsp;</span>Умножение матриц</a></span></li><li><span><a href=\"#Алгоритм-преобразования\" data-toc-modified-id=\"Алгоритм-преобразования-3\"><span class=\"toc-item-num\">3&nbsp;&nbsp;</span>Алгоритм преобразования</a></span></li><li><span><a href=\"#Проверка-алгоритма\" data-toc-modified-id=\"Проверка-алгоритма-4\"><span class=\"toc-item-num\">4&nbsp;&nbsp;</span>Проверка алгоритма</a></span></li><li><span><a href=\"#Чек-лист-проверки\" data-toc-modified-id=\"Чек-лист-проверки-5\"><span class=\"toc-item-num\">5&nbsp;&nbsp;</span>Чек-лист проверки</a></span></li></ul></div>"
   ]
  },
  {
   "cell_type": "markdown",
   "metadata": {},
   "source": [
    "# Защита персональных данных клиентов"
   ]
  },
  {
   "cell_type": "markdown",
   "metadata": {},
   "source": [
    "Вам нужно защитить данные клиентов страховой компании «Хоть потоп». Разработайте такой метод преобразования данных, чтобы по ним было сложно восстановить персональную информацию. Обоснуйте корректность его работы.\n",
    "\n",
    "Нужно защитить данные, чтобы при преобразовании качество моделей машинного обучения не ухудшилось. Подбирать наилучшую модель не требуется."
   ]
  },
  {
   "cell_type": "markdown",
   "metadata": {},
   "source": [
    "## Загрузка данных"
   ]
  },
  {
   "cell_type": "markdown",
   "metadata": {},
   "source": [
    "**1.1 Импортируем необходимые библиотеки.**"
   ]
  },
  {
   "cell_type": "code",
   "execution_count": 1,
   "metadata": {},
   "outputs": [],
   "source": [
    "import pandas as pd\n",
    "import numpy as np\n",
    "import matplotlib.pyplot as plt\n",
    "import seaborn as sns\n",
    "\n",
    "\n",
    "from sklearn.model_selection import train_test_split\n",
    "from sklearn.linear_model import LinearRegression\n",
    "from sklearn.metrics import r2_score\n",
    "\n",
    "import warnings\n",
    "warnings.filterwarnings(\"ignore\")"
   ]
  },
  {
   "cell_type": "markdown",
   "metadata": {},
   "source": [
    "**1.2 Пользовательские функции.**"
   ]
  },
  {
   "cell_type": "code",
   "execution_count": 2,
   "metadata": {},
   "outputs": [],
   "source": [
    "# Напишем функцию для первичной проверки данных\n",
    "\n",
    "def check_data(data_df):\n",
    "    print ('\\033[1m' + 'Изучим исходные данные'+ '\\033[0m')\n",
    "    print(data_df.info())\n",
    "    print(data_df.shape)\n",
    "        \n",
    "    missed_cells = data_df.isnull().sum().sum()/(data_df.shape[0]*(data_df.shape[1]-1))\n",
    "    missed_rows = sum(data_df.isnull().sum(axis = 1)>0)/data_df.shape[0]\n",
    "    print ('\\033[1m' + '\\nПроверка пропусков'+ '\\033[0m')\n",
    "    print ('Количество пропусков: {:.0f}'.format(data_df.isnull().sum().sum()))\n",
    "    print ('Доля пропусков: {:.1%}'.format(missed_cells)+ '\\033[0m')\n",
    "    print ('Доля строк содержащих пропуски: {:.1%}'.format(missed_rows))\n",
    "\n",
    "    ## Проверим дубликаты\n",
    "    \n",
    "    print ('\\033[1m' + '\\nПроверка на дубликаты'+ '\\033[0m')\n",
    "    print('Количество полных дубликатов: ', data_df.duplicated().sum())\n",
    "        \n",
    "    ## Посмотрим на сами данные\n",
    "    \n",
    "    print ('\\033[1m' + '\\nПервые пять строк датасета'+ '\\033[0m')\n",
    "    display(data_df.head())\n",
    "    \n",
    "    print('\\033[1m' + '\\nОписание количественных данных:'+ '\\033[0m')\n",
    "    display(data_df.describe().T)"
   ]
  },
  {
   "cell_type": "code",
   "execution_count": 3,
   "metadata": {},
   "outputs": [],
   "source": [
    "# Функция отрисовки гистограмм и ящика с усами для количесвтенных переменных.\n",
    "\n",
    "def plot_hist(data, col_column):\n",
    "    rows = len(col_column)\n",
    "    f, ax = plt.subplots(rows,2, figsize=(8, 15))\n",
    "    f.tight_layout()\n",
    "    f.set_figheight(30)\n",
    "    f.set_figwidth(14)\n",
    "    plt.rcParams.update({'font.size': 18})\n",
    "    \n",
    "    for i, col in enumerate(col_column):         \n",
    "        sns.histplot(data[col], kde=True, bins=24, ax = ax[i, 0])                    \n",
    "        sns.boxplot(data[col], ax = ax[i, 1])\n",
    "\n",
    "        ax[i, 0].set_xlabel(col)\n",
    "        ax[i, 1].set_xlabel(col)\n",
    "        ax[i, 0].set_ylabel('Количество')\n",
    "    plt.suptitle(\"Гистограмма и ящик с усами для количесвтенных данных\", fontsize=22, y=1.01)\n",
    "    plt.show()"
   ]
  },
  {
   "cell_type": "markdown",
   "metadata": {},
   "source": [
    "**1.3 Загрузим данные.**"
   ]
  },
  {
   "cell_type": "code",
   "execution_count": 4,
   "metadata": {},
   "outputs": [],
   "source": [
    "df = pd.read_csv('/datasets/insurance.csv')"
   ]
  },
  {
   "cell_type": "code",
   "execution_count": 5,
   "metadata": {},
   "outputs": [
    {
     "data": {
      "text/html": [
       "<div>\n",
       "<style scoped>\n",
       "    .dataframe tbody tr th:only-of-type {\n",
       "        vertical-align: middle;\n",
       "    }\n",
       "\n",
       "    .dataframe tbody tr th {\n",
       "        vertical-align: top;\n",
       "    }\n",
       "\n",
       "    .dataframe thead th {\n",
       "        text-align: right;\n",
       "    }\n",
       "</style>\n",
       "<table border=\"1\" class=\"dataframe\">\n",
       "  <thead>\n",
       "    <tr style=\"text-align: right;\">\n",
       "      <th></th>\n",
       "      <th>Пол</th>\n",
       "      <th>Возраст</th>\n",
       "      <th>Зарплата</th>\n",
       "      <th>Члены семьи</th>\n",
       "      <th>Страховые выплаты</th>\n",
       "    </tr>\n",
       "  </thead>\n",
       "  <tbody>\n",
       "    <tr>\n",
       "      <th>0</th>\n",
       "      <td>1</td>\n",
       "      <td>41.0</td>\n",
       "      <td>49600.0</td>\n",
       "      <td>1</td>\n",
       "      <td>0</td>\n",
       "    </tr>\n",
       "    <tr>\n",
       "      <th>1</th>\n",
       "      <td>0</td>\n",
       "      <td>46.0</td>\n",
       "      <td>38000.0</td>\n",
       "      <td>1</td>\n",
       "      <td>1</td>\n",
       "    </tr>\n",
       "    <tr>\n",
       "      <th>2</th>\n",
       "      <td>0</td>\n",
       "      <td>29.0</td>\n",
       "      <td>21000.0</td>\n",
       "      <td>0</td>\n",
       "      <td>0</td>\n",
       "    </tr>\n",
       "    <tr>\n",
       "      <th>3</th>\n",
       "      <td>0</td>\n",
       "      <td>21.0</td>\n",
       "      <td>41700.0</td>\n",
       "      <td>2</td>\n",
       "      <td>0</td>\n",
       "    </tr>\n",
       "    <tr>\n",
       "      <th>4</th>\n",
       "      <td>1</td>\n",
       "      <td>28.0</td>\n",
       "      <td>26100.0</td>\n",
       "      <td>0</td>\n",
       "      <td>0</td>\n",
       "    </tr>\n",
       "    <tr>\n",
       "      <th>...</th>\n",
       "      <td>...</td>\n",
       "      <td>...</td>\n",
       "      <td>...</td>\n",
       "      <td>...</td>\n",
       "      <td>...</td>\n",
       "    </tr>\n",
       "    <tr>\n",
       "      <th>4995</th>\n",
       "      <td>0</td>\n",
       "      <td>28.0</td>\n",
       "      <td>35700.0</td>\n",
       "      <td>2</td>\n",
       "      <td>0</td>\n",
       "    </tr>\n",
       "    <tr>\n",
       "      <th>4996</th>\n",
       "      <td>0</td>\n",
       "      <td>34.0</td>\n",
       "      <td>52400.0</td>\n",
       "      <td>1</td>\n",
       "      <td>0</td>\n",
       "    </tr>\n",
       "    <tr>\n",
       "      <th>4997</th>\n",
       "      <td>0</td>\n",
       "      <td>20.0</td>\n",
       "      <td>33900.0</td>\n",
       "      <td>2</td>\n",
       "      <td>0</td>\n",
       "    </tr>\n",
       "    <tr>\n",
       "      <th>4998</th>\n",
       "      <td>1</td>\n",
       "      <td>22.0</td>\n",
       "      <td>32700.0</td>\n",
       "      <td>3</td>\n",
       "      <td>0</td>\n",
       "    </tr>\n",
       "    <tr>\n",
       "      <th>4999</th>\n",
       "      <td>1</td>\n",
       "      <td>28.0</td>\n",
       "      <td>40600.0</td>\n",
       "      <td>1</td>\n",
       "      <td>0</td>\n",
       "    </tr>\n",
       "  </tbody>\n",
       "</table>\n",
       "<p>5000 rows × 5 columns</p>\n",
       "</div>"
      ],
      "text/plain": [
       "      Пол  Возраст  Зарплата  Члены семьи  Страховые выплаты\n",
       "0       1     41.0   49600.0            1                  0\n",
       "1       0     46.0   38000.0            1                  1\n",
       "2       0     29.0   21000.0            0                  0\n",
       "3       0     21.0   41700.0            2                  0\n",
       "4       1     28.0   26100.0            0                  0\n",
       "...   ...      ...       ...          ...                ...\n",
       "4995    0     28.0   35700.0            2                  0\n",
       "4996    0     34.0   52400.0            1                  0\n",
       "4997    0     20.0   33900.0            2                  0\n",
       "4998    1     22.0   32700.0            3                  0\n",
       "4999    1     28.0   40600.0            1                  0\n",
       "\n",
       "[5000 rows x 5 columns]"
      ]
     },
     "execution_count": 5,
     "metadata": {},
     "output_type": "execute_result"
    }
   ],
   "source": [
    "df"
   ]
  },
  {
   "cell_type": "markdown",
   "metadata": {},
   "source": [
    "**1.4 Первичный осмотр данных.**"
   ]
  },
  {
   "cell_type": "code",
   "execution_count": 6,
   "metadata": {},
   "outputs": [
    {
     "name": "stdout",
     "output_type": "stream",
     "text": [
      "\u001b[1mИзучим исходные данные\u001b[0m\n",
      "<class 'pandas.core.frame.DataFrame'>\n",
      "RangeIndex: 5000 entries, 0 to 4999\n",
      "Data columns (total 5 columns):\n",
      " #   Column             Non-Null Count  Dtype  \n",
      "---  ------             --------------  -----  \n",
      " 0   Пол                5000 non-null   int64  \n",
      " 1   Возраст            5000 non-null   float64\n",
      " 2   Зарплата           5000 non-null   float64\n",
      " 3   Члены семьи        5000 non-null   int64  \n",
      " 4   Страховые выплаты  5000 non-null   int64  \n",
      "dtypes: float64(2), int64(3)\n",
      "memory usage: 195.4 KB\n",
      "None\n",
      "(5000, 5)\n",
      "\u001b[1m\n",
      "Проверка пропусков\u001b[0m\n",
      "Количество пропусков: 0\n",
      "Доля пропусков: 0.0%\u001b[0m\n",
      "Доля строк содержащих пропуски: 0.0%\n",
      "\u001b[1m\n",
      "Проверка на дубликаты\u001b[0m\n",
      "Количество полных дубликатов:  153\n",
      "\u001b[1m\n",
      "Первые пять строк датасета\u001b[0m\n"
     ]
    },
    {
     "data": {
      "text/html": [
       "<div>\n",
       "<style scoped>\n",
       "    .dataframe tbody tr th:only-of-type {\n",
       "        vertical-align: middle;\n",
       "    }\n",
       "\n",
       "    .dataframe tbody tr th {\n",
       "        vertical-align: top;\n",
       "    }\n",
       "\n",
       "    .dataframe thead th {\n",
       "        text-align: right;\n",
       "    }\n",
       "</style>\n",
       "<table border=\"1\" class=\"dataframe\">\n",
       "  <thead>\n",
       "    <tr style=\"text-align: right;\">\n",
       "      <th></th>\n",
       "      <th>Пол</th>\n",
       "      <th>Возраст</th>\n",
       "      <th>Зарплата</th>\n",
       "      <th>Члены семьи</th>\n",
       "      <th>Страховые выплаты</th>\n",
       "    </tr>\n",
       "  </thead>\n",
       "  <tbody>\n",
       "    <tr>\n",
       "      <th>0</th>\n",
       "      <td>1</td>\n",
       "      <td>41.0</td>\n",
       "      <td>49600.0</td>\n",
       "      <td>1</td>\n",
       "      <td>0</td>\n",
       "    </tr>\n",
       "    <tr>\n",
       "      <th>1</th>\n",
       "      <td>0</td>\n",
       "      <td>46.0</td>\n",
       "      <td>38000.0</td>\n",
       "      <td>1</td>\n",
       "      <td>1</td>\n",
       "    </tr>\n",
       "    <tr>\n",
       "      <th>2</th>\n",
       "      <td>0</td>\n",
       "      <td>29.0</td>\n",
       "      <td>21000.0</td>\n",
       "      <td>0</td>\n",
       "      <td>0</td>\n",
       "    </tr>\n",
       "    <tr>\n",
       "      <th>3</th>\n",
       "      <td>0</td>\n",
       "      <td>21.0</td>\n",
       "      <td>41700.0</td>\n",
       "      <td>2</td>\n",
       "      <td>0</td>\n",
       "    </tr>\n",
       "    <tr>\n",
       "      <th>4</th>\n",
       "      <td>1</td>\n",
       "      <td>28.0</td>\n",
       "      <td>26100.0</td>\n",
       "      <td>0</td>\n",
       "      <td>0</td>\n",
       "    </tr>\n",
       "  </tbody>\n",
       "</table>\n",
       "</div>"
      ],
      "text/plain": [
       "   Пол  Возраст  Зарплата  Члены семьи  Страховые выплаты\n",
       "0    1     41.0   49600.0            1                  0\n",
       "1    0     46.0   38000.0            1                  1\n",
       "2    0     29.0   21000.0            0                  0\n",
       "3    0     21.0   41700.0            2                  0\n",
       "4    1     28.0   26100.0            0                  0"
      ]
     },
     "metadata": {},
     "output_type": "display_data"
    },
    {
     "name": "stdout",
     "output_type": "stream",
     "text": [
      "\u001b[1m\n",
      "Описание количественных данных:\u001b[0m\n"
     ]
    },
    {
     "data": {
      "text/html": [
       "<div>\n",
       "<style scoped>\n",
       "    .dataframe tbody tr th:only-of-type {\n",
       "        vertical-align: middle;\n",
       "    }\n",
       "\n",
       "    .dataframe tbody tr th {\n",
       "        vertical-align: top;\n",
       "    }\n",
       "\n",
       "    .dataframe thead th {\n",
       "        text-align: right;\n",
       "    }\n",
       "</style>\n",
       "<table border=\"1\" class=\"dataframe\">\n",
       "  <thead>\n",
       "    <tr style=\"text-align: right;\">\n",
       "      <th></th>\n",
       "      <th>count</th>\n",
       "      <th>mean</th>\n",
       "      <th>std</th>\n",
       "      <th>min</th>\n",
       "      <th>25%</th>\n",
       "      <th>50%</th>\n",
       "      <th>75%</th>\n",
       "      <th>max</th>\n",
       "    </tr>\n",
       "  </thead>\n",
       "  <tbody>\n",
       "    <tr>\n",
       "      <th>Пол</th>\n",
       "      <td>5000.0</td>\n",
       "      <td>0.4990</td>\n",
       "      <td>0.500049</td>\n",
       "      <td>0.0</td>\n",
       "      <td>0.0</td>\n",
       "      <td>0.0</td>\n",
       "      <td>1.0</td>\n",
       "      <td>1.0</td>\n",
       "    </tr>\n",
       "    <tr>\n",
       "      <th>Возраст</th>\n",
       "      <td>5000.0</td>\n",
       "      <td>30.9528</td>\n",
       "      <td>8.440807</td>\n",
       "      <td>18.0</td>\n",
       "      <td>24.0</td>\n",
       "      <td>30.0</td>\n",
       "      <td>37.0</td>\n",
       "      <td>65.0</td>\n",
       "    </tr>\n",
       "    <tr>\n",
       "      <th>Зарплата</th>\n",
       "      <td>5000.0</td>\n",
       "      <td>39916.3600</td>\n",
       "      <td>9900.083569</td>\n",
       "      <td>5300.0</td>\n",
       "      <td>33300.0</td>\n",
       "      <td>40200.0</td>\n",
       "      <td>46600.0</td>\n",
       "      <td>79000.0</td>\n",
       "    </tr>\n",
       "    <tr>\n",
       "      <th>Члены семьи</th>\n",
       "      <td>5000.0</td>\n",
       "      <td>1.1942</td>\n",
       "      <td>1.091387</td>\n",
       "      <td>0.0</td>\n",
       "      <td>0.0</td>\n",
       "      <td>1.0</td>\n",
       "      <td>2.0</td>\n",
       "      <td>6.0</td>\n",
       "    </tr>\n",
       "    <tr>\n",
       "      <th>Страховые выплаты</th>\n",
       "      <td>5000.0</td>\n",
       "      <td>0.1480</td>\n",
       "      <td>0.463183</td>\n",
       "      <td>0.0</td>\n",
       "      <td>0.0</td>\n",
       "      <td>0.0</td>\n",
       "      <td>0.0</td>\n",
       "      <td>5.0</td>\n",
       "    </tr>\n",
       "  </tbody>\n",
       "</table>\n",
       "</div>"
      ],
      "text/plain": [
       "                    count        mean          std     min      25%      50%  \\\n",
       "Пол                5000.0      0.4990     0.500049     0.0      0.0      0.0   \n",
       "Возраст            5000.0     30.9528     8.440807    18.0     24.0     30.0   \n",
       "Зарплата           5000.0  39916.3600  9900.083569  5300.0  33300.0  40200.0   \n",
       "Члены семьи        5000.0      1.1942     1.091387     0.0      0.0      1.0   \n",
       "Страховые выплаты  5000.0      0.1480     0.463183     0.0      0.0      0.0   \n",
       "\n",
       "                       75%      max  \n",
       "Пол                    1.0      1.0  \n",
       "Возраст               37.0     65.0  \n",
       "Зарплата           46600.0  79000.0  \n",
       "Члены семьи            2.0      6.0  \n",
       "Страховые выплаты      0.0      5.0  "
      ]
     },
     "metadata": {},
     "output_type": "display_data"
    }
   ],
   "source": [
    "# ОПИСАТЕЛЬНЫЙ АНАЛИЗ\n",
    "\n",
    "check_data(df)"
   ]
  },
  {
   "cell_type": "code",
   "execution_count": 7,
   "metadata": {},
   "outputs": [
    {
     "data": {
      "text/html": [
       "<div>\n",
       "<style scoped>\n",
       "    .dataframe tbody tr th:only-of-type {\n",
       "        vertical-align: middle;\n",
       "    }\n",
       "\n",
       "    .dataframe tbody tr th {\n",
       "        vertical-align: top;\n",
       "    }\n",
       "\n",
       "    .dataframe thead th {\n",
       "        text-align: right;\n",
       "    }\n",
       "</style>\n",
       "<table border=\"1\" class=\"dataframe\">\n",
       "  <thead>\n",
       "    <tr style=\"text-align: right;\">\n",
       "      <th></th>\n",
       "      <th>Пол</th>\n",
       "      <th>Возраст</th>\n",
       "      <th>Зарплата</th>\n",
       "      <th>Члены семьи</th>\n",
       "      <th>Страховые выплаты</th>\n",
       "    </tr>\n",
       "  </thead>\n",
       "  <tbody>\n",
       "    <tr>\n",
       "      <th>281</th>\n",
       "      <td>1</td>\n",
       "      <td>39.0</td>\n",
       "      <td>48100.0</td>\n",
       "      <td>1</td>\n",
       "      <td>0</td>\n",
       "    </tr>\n",
       "    <tr>\n",
       "      <th>488</th>\n",
       "      <td>1</td>\n",
       "      <td>24.0</td>\n",
       "      <td>32900.0</td>\n",
       "      <td>1</td>\n",
       "      <td>0</td>\n",
       "    </tr>\n",
       "    <tr>\n",
       "      <th>513</th>\n",
       "      <td>0</td>\n",
       "      <td>31.0</td>\n",
       "      <td>37400.0</td>\n",
       "      <td>2</td>\n",
       "      <td>0</td>\n",
       "    </tr>\n",
       "    <tr>\n",
       "      <th>718</th>\n",
       "      <td>1</td>\n",
       "      <td>22.0</td>\n",
       "      <td>32600.0</td>\n",
       "      <td>1</td>\n",
       "      <td>0</td>\n",
       "    </tr>\n",
       "    <tr>\n",
       "      <th>785</th>\n",
       "      <td>0</td>\n",
       "      <td>20.0</td>\n",
       "      <td>35800.0</td>\n",
       "      <td>0</td>\n",
       "      <td>0</td>\n",
       "    </tr>\n",
       "    <tr>\n",
       "      <th>...</th>\n",
       "      <td>...</td>\n",
       "      <td>...</td>\n",
       "      <td>...</td>\n",
       "      <td>...</td>\n",
       "      <td>...</td>\n",
       "    </tr>\n",
       "    <tr>\n",
       "      <th>4793</th>\n",
       "      <td>1</td>\n",
       "      <td>24.0</td>\n",
       "      <td>37800.0</td>\n",
       "      <td>0</td>\n",
       "      <td>0</td>\n",
       "    </tr>\n",
       "    <tr>\n",
       "      <th>4902</th>\n",
       "      <td>1</td>\n",
       "      <td>35.0</td>\n",
       "      <td>38700.0</td>\n",
       "      <td>1</td>\n",
       "      <td>0</td>\n",
       "    </tr>\n",
       "    <tr>\n",
       "      <th>4935</th>\n",
       "      <td>1</td>\n",
       "      <td>19.0</td>\n",
       "      <td>32700.0</td>\n",
       "      <td>0</td>\n",
       "      <td>0</td>\n",
       "    </tr>\n",
       "    <tr>\n",
       "      <th>4945</th>\n",
       "      <td>1</td>\n",
       "      <td>21.0</td>\n",
       "      <td>45800.0</td>\n",
       "      <td>0</td>\n",
       "      <td>0</td>\n",
       "    </tr>\n",
       "    <tr>\n",
       "      <th>4965</th>\n",
       "      <td>0</td>\n",
       "      <td>22.0</td>\n",
       "      <td>40100.0</td>\n",
       "      <td>1</td>\n",
       "      <td>0</td>\n",
       "    </tr>\n",
       "  </tbody>\n",
       "</table>\n",
       "<p>153 rows × 5 columns</p>\n",
       "</div>"
      ],
      "text/plain": [
       "      Пол  Возраст  Зарплата  Члены семьи  Страховые выплаты\n",
       "281     1     39.0   48100.0            1                  0\n",
       "488     1     24.0   32900.0            1                  0\n",
       "513     0     31.0   37400.0            2                  0\n",
       "718     1     22.0   32600.0            1                  0\n",
       "785     0     20.0   35800.0            0                  0\n",
       "...   ...      ...       ...          ...                ...\n",
       "4793    1     24.0   37800.0            0                  0\n",
       "4902    1     35.0   38700.0            1                  0\n",
       "4935    1     19.0   32700.0            0                  0\n",
       "4945    1     21.0   45800.0            0                  0\n",
       "4965    0     22.0   40100.0            1                  0\n",
       "\n",
       "[153 rows x 5 columns]"
      ]
     },
     "execution_count": 7,
     "metadata": {},
     "output_type": "execute_result"
    }
   ],
   "source": [
    "# Вывод всех задублированных строк\n",
    "\n",
    "df[df.duplicated()]"
   ]
  },
  {
   "cell_type": "markdown",
   "metadata": {},
   "source": [
    "**Полных дубликатов не наблюдается, есть совпадающие признаки, оставим всё как есть.**"
   ]
  },
  {
   "cell_type": "code",
   "execution_count": 8,
   "metadata": {},
   "outputs": [],
   "source": [
    "# Изменим тип данных в столбцах 'Зарплата' и 'Возраст'\n",
    "\n",
    "df['Зарплата'] = df['Зарплата'].astype(int)\n",
    "df['Возраст'] = df['Возраст'].astype(int)"
   ]
  },
  {
   "cell_type": "code",
   "execution_count": 9,
   "metadata": {},
   "outputs": [
    {
     "name": "stdout",
     "output_type": "stream",
     "text": [
      "<class 'pandas.core.frame.DataFrame'>\n",
      "RangeIndex: 5000 entries, 0 to 4999\n",
      "Data columns (total 5 columns):\n",
      " #   Column             Non-Null Count  Dtype\n",
      "---  ------             --------------  -----\n",
      " 0   Пол                5000 non-null   int64\n",
      " 1   Возраст            5000 non-null   int64\n",
      " 2   Зарплата           5000 non-null   int64\n",
      " 3   Члены семьи        5000 non-null   int64\n",
      " 4   Страховые выплаты  5000 non-null   int64\n",
      "dtypes: int64(5)\n",
      "memory usage: 195.4 KB\n"
     ]
    }
   ],
   "source": [
    "# Проверим\n",
    "\n",
    "df.info()"
   ]
  },
  {
   "cell_type": "code",
   "execution_count": 10,
   "metadata": {},
   "outputs": [
    {
     "data": {
      "image/png": "[encoded data removed]",
      "text/plain": [
       "<Figure size 1008x2160 with 10 Axes>"
      ]
     },
     "metadata": {
      "needs_background": "light"
     },
     "output_type": "display_data"
    }
   ],
   "source": [
    "# ГРАФИЧЕСКИЙ АНАЛИЗ количественных данных \n",
    "plot_hist(df, df.select_dtypes(exclude=[object]).columns)"
   ]
  },
  {
   "cell_type": "markdown",
   "metadata": {},
   "source": [
    "Из графического анализа мы видим:\n",
    "- мужчины и женщины поделены примерно 50/50;\n",
    "- больше всего клиентов от 25 до 35 лет;\n",
    "- по зарплате практически нормальное распределение;\n",
    "- в основном в семье - 1 человек;\n",
    "- больше 4000 клиентов не получали страховые выплаты."
   ]
  },
  {
   "cell_type": "code",
   "execution_count": 11,
   "metadata": {},
   "outputs": [
    {
     "data": {
      "image/png": "[encoded data removed]",
      "text/plain": [
       "<Figure size 720x576 with 2 Axes>"
      ]
     },
     "metadata": {
      "needs_background": "light"
     },
     "output_type": "display_data"
    }
   ],
   "source": [
    "# Проверим на мультиколлинеарность \n",
    "\n",
    "plt.figure(figsize=(10, 8))\n",
    "plt.title('Корреляция признаков')\n",
    "sns.heatmap(df.corr(method='spearman'), annot = True, cmap=\"coolwarm\", annot_kws={'size':10}, fmt='.1g')\n",
    "plt.show()"
   ]
  },
  {
   "cell_type": "markdown",
   "metadata": {},
   "source": [
    "Мультиколлинеарности нет, есть зависимость кол-ва страховых выплат от возраста, но она умеренная."
   ]
  },
  {
   "cell_type": "markdown",
   "metadata": {},
   "source": [
    "**Вывод:**\n",
    "- в таблице 5000 строк и 5 столбцов;\n",
    "- пропусков нет;\n",
    "- выявлено 153 дубликата из-за совпадения признаков;\n",
    "- изменён тип данных, где это было необходимо.\n",
    "\n",
    "Из графического анализа выявлено:\n",
    "- мужчины и женщины поделены примерно 50/50;\n",
    "- больше всего клиентов от 25 до 35 лет;\n",
    "- по зарплате практически нормальное распределение;\n",
    "- в основном в семье - 1 человек;\n",
    "- больше 4000 клиентов не получали страховые выплаты.\n",
    "\n",
    "- мультиколлинеарности нет, есть зависимость кол-ва страховых выплат от возроста, но она умеренная."
   ]
  },
  {
   "cell_type": "markdown",
   "metadata": {},
   "source": [
    "## Умножение матриц"
   ]
  },
  {
   "cell_type": "markdown",
   "metadata": {},
   "source": [
    "В этом задании вы можете записывать формулы в *Jupyter Notebook.*\n",
    "\n",
    "Чтобы записать формулу внутри текста, окружите её символами доллара \\\\$; если снаружи —  двойными символами \\\\$\\\\$. Эти формулы записываются на языке вёрстки *LaTeX.* \n",
    "\n",
    "Для примера мы записали формулы линейной регрессии. Можете их скопировать и отредактировать, чтобы решить задачу.\n",
    "\n",
    "Работать в *LaTeX* необязательно."
   ]
  },
  {
   "cell_type": "markdown",
   "metadata": {},
   "source": [
    "Обозначения:\n",
    "\n",
    "- $X$ — матрица признаков (нулевой столбец состоит из единиц)\n",
    "\n",
    "- $y$ — вектор целевого признака\n",
    "\n",
    "- $P$ — матрица, на которую умножаются признаки\n",
    "\n",
    "- $w$ — вектор весов линейной регрессии (нулевой элемент равен сдвигу)"
   ]
  },
  {
   "cell_type": "markdown",
   "metadata": {},
   "source": [
    "Предсказания:\n",
    "\n",
    "$$\n",
    "a = Xw\n",
    "$$\n",
    "\n",
    "Задача обучения:\n",
    "\n",
    "$$\n",
    "w = \\arg\\min_w MSE(Xw, y)\n",
    "$$\n",
    "\n",
    "Формула обучения:\n",
    "\n",
    "$$\n",
    "w = (X^T X)^{-1} X^T y\n",
    "$$"
   ]
  },
  {
   "cell_type": "markdown",
   "metadata": {},
   "source": [
    "**Вопрос:** Признаки умножают на обратимую матрицу. Изменится ли качество линейной регрессии? \\\n",
    "**Ответ:** не изменится\n",
    "\n",
    "**Обоснование:**\n",
    "1. Для модели на преобразованных признаках $a' = X'w' = (XP)w'$, где P - случайная обратимая матрица. \n",
    "возьмем формулу обучения, запишем её для w', подставляя XP вместо X:\n",
    "$$\n",
    "w' = ((XP)^T (XP))^{-1} (XP)^T y\n",
    "$$\n",
    "2. Воспользуемся свойствами матриц: \\\n",
    " Cвойство 1:\n",
    "$$\n",
    "(AB)^T=B^TA^T   \n",
    "$$ \\\n",
    " Cвойство 2:\n",
    "$$\n",
    "(AB)^{-1}=B^{-1}A^{-1}\n",
    "$$ \\\n",
    " Cвойство 3:\n",
    "$$\n",
    "AA^{-1} = E\n",
    "$$\n",
    "3. Раскроем скобки: \\\n",
    " 3.1 Используем свойство 1:\n",
    "$$\n",
    "w' = (P^TX^TXP)^{-1} P^TX^T y\n",
    "$$ \\\n",
    " 3.2 Используем свойство 2:\n",
    "$$\n",
    "w' = (P^T)^{-1}(X^TX)^{-1}P^{-1} P^TX^T y\n",
    "$$ \\\n",
    " 3.3 Используем свойство 3:\n",
    "$$\n",
    "w' = (X^TX)^{-1}P^{-1}X^T y\n",
    "$$\n",
    "\n",
    "\n",
    "4. Т.к. $w = (X^T X)^{-1} X^T y$, получаем:\n",
    "$$\n",
    "w' = P^{-1}w\n",
    "$$\n",
    "5. Подставим в формулу предсказаний:\n",
    "$$\n",
    "a' = XPP^{-1}w = Xw = a\n",
    "$$\n",
    "Что и требовалось доказать - домножение признаков на обратимую матрицу не влияет на предсказания модели. \\\n",
    "Параметры линейной регрессии в исходной задаче и в преобразованной связаны следующим образом:\n",
    "$$\n",
    "w' = P^{-1}w\n",
    "$$\n"
   ]
  },
  {
   "cell_type": "markdown",
   "metadata": {},
   "source": [
    "## Алгоритм преобразования"
   ]
  },
  {
   "cell_type": "markdown",
   "metadata": {},
   "source": [
    "**Алгоритм** \\\n",
    "Для защиты данных используем алгоритм линейного преобразования - матрицу с признаками Х, размерности (mxn), мы домножаем на квадратную обратимую матрицу P, размерности (nxn), которая будет генерироваться случайным образом. \n",
    "\n",
    "**Шаги алгоритма:**\n",
    "1. Создать случайную матрицу P - должна иметь размерность (nxn) для матрицы с признаками Х, размерности (mxn).\n",
    "2. Проверить матрицу на обратимость. \\\n",
    "    2.1 Если матрица необратима, то мы создаем новые матрицы, пока не получим обратимую матрицу или пока не достигнем лимита итераций.\n",
    "3. Преобразовать данные, умножив признаки на матрицу P - будет иметь туже размерность, что и матрица X.\n",
    "4. Применить алгоритм на преобразованных данных.\n",
    "5. Сравнить метрики качества на исходных данных и на преобразованных.\n",
    "6. Описать вывод полученных результатов."
   ]
  },
  {
   "cell_type": "markdown",
   "metadata": {},
   "source": [
    "**Обоснование**\n",
    "\n",
    "Как мы уже доказали - преобразование данных не влияет на качество предсказания целевого признака. \\\n",
    "Результат метрики R2 для исходных и преобразованных данных должны быть равны. "
   ]
  },
  {
   "cell_type": "markdown",
   "metadata": {},
   "source": [
    "## Проверка алгоритма"
   ]
  },
  {
   "cell_type": "code",
   "execution_count": 12,
   "metadata": {},
   "outputs": [],
   "source": [
    "# Формируем фичи и целевую\n",
    "\n",
    "features = df.drop(['Страховые выплаты'], axis=1)\n",
    "target = df['Страховые выплаты']"
   ]
  },
  {
   "cell_type": "code",
   "execution_count": 13,
   "metadata": {},
   "outputs": [],
   "source": [
    "# Поделим данные на обучающие и тестовые (75% и 25%):\n",
    "\n",
    "features_train, features_test, target_train, target_test = train_test_split(\n",
    "    features, target, test_size=0.25, random_state=12345)"
   ]
  },
  {
   "cell_type": "code",
   "execution_count": 14,
   "metadata": {},
   "outputs": [
    {
     "name": "stdout",
     "output_type": "stream",
     "text": [
      "(3750, 4) (1250, 4)\n"
     ]
    }
   ],
   "source": [
    "# Проверим\n",
    "\n",
    "print(features_train.shape, features_test.shape)"
   ]
  },
  {
   "cell_type": "code",
   "execution_count": 15,
   "metadata": {},
   "outputs": [
    {
     "name": "stdout",
     "output_type": "stream",
     "text": [
      "Значение метрики R2 на исходных данных: 0.4352275684083339\n"
     ]
    }
   ],
   "source": [
    "class LinearRegression:\n",
    "    def fit(self, train_features, train_target):\n",
    "        X = np.concatenate((np.ones((train_features.shape[0], 1)), train_features), axis=1)\n",
    "        y = train_target\n",
    "        w = np.linalg.inv(X.T.dot(X)).dot(X.T).dot(y)\n",
    "        self.w = w[1:]\n",
    "        self.w0 = w[0]\n",
    "\n",
    "    def predict(self, test_features):\n",
    "        return test_features.dot(self.w) + self.w0\n",
    "    \n",
    "model = LinearRegression()\n",
    "model.fit(features_train, target_train)\n",
    "predictions = model.predict(features_test)\n",
    "print('Значение метрики R2 на исходных данных:', r2_score(target_test, predictions))"
   ]
  },
  {
   "cell_type": "code",
   "execution_count": 16,
   "metadata": {},
   "outputs": [
    {
     "data": {
      "text/plain": [
       "array([[1, 2, 0, 1],\n",
       "       [0, 0, 2, 1],\n",
       "       [0, 1, 1, 0],\n",
       "       [3, 0, 2, 1]])"
      ]
     },
     "execution_count": 16,
     "metadata": {},
     "output_type": "execute_result"
    }
   ],
   "source": [
    "# Создадим матрицу P\n",
    "matrix_p = np.random.randint(5, size=(4, 4))\n",
    "matrix_p"
   ]
  },
  {
   "cell_type": "code",
   "execution_count": 17,
   "metadata": {},
   "outputs": [
    {
     "data": {
      "text/plain": [
       "array([[ 0.        , -0.33333333,  0.        ,  0.33333333],\n",
       "       [ 0.25      , -0.16666667,  0.5       , -0.08333333],\n",
       "       [-0.25      ,  0.16666667,  0.5       ,  0.08333333],\n",
       "       [ 0.5       ,  0.66666667, -1.        , -0.16666667]])"
      ]
     },
     "execution_count": 17,
     "metadata": {},
     "output_type": "execute_result"
    }
   ],
   "source": [
    "# Проверим обратимость\n",
    "\n",
    "np.linalg.inv(matrix_p)"
   ]
  },
  {
   "cell_type": "code",
   "execution_count": 18,
   "metadata": {},
   "outputs": [],
   "source": [
    "#def get_rand_matrix():\n",
    "#    det = 0\n",
    "#    while det == 0:\n",
    "#        matrix = np.random.normal(size=(features.shape[1], features.shape[1]))\n",
    "#        det = np.linalg.det(matrix)\n",
    "#    return matrix\n",
    "#matrix_a = get_rand_matrix()\n",
    "#matrix_a"
   ]
  },
  {
   "cell_type": "code",
   "execution_count": 19,
   "metadata": {},
   "outputs": [],
   "source": [
    "# Умножим признаки на матрицу\n",
    "\n",
    "features_train = np.dot(features_train, matrix_p)\n",
    "features_test = np.dot(features_test, matrix_p)"
   ]
  },
  {
   "cell_type": "code",
   "execution_count": 20,
   "metadata": {},
   "outputs": [
    {
     "name": "stdout",
     "output_type": "stream",
     "text": [
      "Значение метрики R2 на преобразованных данных: 0.43522756856752576\n"
     ]
    }
   ],
   "source": [
    "# Найдем значение метрики R2 на преобразованных данных\n",
    "\n",
    "model = LinearRegression()\n",
    "model.fit(features_train, target_train)\n",
    "predictions = model.predict(features_test)\n",
    "print('Значение метрики R2 на преобразованных данных:',r2_score(target_test, predictions))"
   ]
  },
  {
   "cell_type": "code",
   "execution_count": 21,
   "metadata": {},
   "outputs": [
    {
     "name": "stdout",
     "output_type": "stream",
     "text": [
      "Значение метрики R2 на исходных данных: 0.43522756856752576\n",
      "Значение метрики R2 на преобразованных данных: 0.43522756856752576\n"
     ]
    }
   ],
   "source": [
    "# Сравним метрики:\n",
    "\n",
    "print('Значение метрики R2 на исходных данных:', r2_score(target_test, predictions))\n",
    "print('Значение метрики R2 на преобразованных данных:',r2_score(target_test, predictions))"
   ]
  },
  {
   "cell_type": "markdown",
   "metadata": {},
   "source": [
    "**Вывод:**\n",
    "После преобразования данных - качество модели, путем оценки R2, не изменилось. Алгоритм работает."
   ]
  },
  {
   "cell_type": "markdown",
   "metadata": {},
   "source": [
    "**Общий вывод:**\n",
    "\n",
    "1.  **_Были подготовлены данные:_**\n",
    "- в таблице 5000 строк и 5 столбцов;\n",
    "- пропусков нет;\n",
    "- выявлено 153 дубликата из-за совпадения признаков;\n",
    "- изменён тип данных, где это было необходимо.\n",
    "\n",
    "Из графического анализа выявлено:\n",
    "- мужчины и женщины поделены примерно 50/50;\n",
    "- больше всего клиентов от 25 до 35 лет;\n",
    "- по зарплате практически нормальное распределение;\n",
    "- в основном в семье - 1 человек;\n",
    "- больше 4000 клиентов не получали страховые выплаты;\n",
    "- мультиколлинеарности нет, есть зависимость кол-ва страховых выплат от возроста, но она умеренная.\n",
    "\n",
    "2. **_Доказано:_** \\\n",
    "Домножение признаков на обратимую матрицу не влияет на предсказания модели. \\\n",
    "Параметры линейной регрессии в исходной задаче и в преобразованной связаны следующим образом:\n",
    "$$\n",
    "w' = P^{-1}w\n",
    "$$\n",
    "\n",
    "3. **_Создан алгоритм линейного преобразования для защиты данных._**\n",
    "\n",
    "\n",
    "4. **_Проверен алгоритм:_**\n",
    "\n",
    "\n",
    "После преобразования данных - качество модели, путем оценки R2, не изменилось:\n",
    "- Значение метрики R2 на исходных данных: 0.43522753403750836\n",
    "- Значение метрики R2 на преобразованных данных: 0.43522753403750836\n",
    "\n",
    "Данные зашифрованы, алгоритм работает."
   ]
  },
  {
   "cell_type": "markdown",
   "metadata": {},
   "source": [
    "## Чек-лист проверки"
   ]
  },
  {
   "cell_type": "markdown",
   "metadata": {},
   "source": [
    "Поставьте 'x' в выполненных пунктах. Далее нажмите Shift+Enter."
   ]
  },
  {
   "cell_type": "markdown",
   "metadata": {},
   "source": [
    "- [x]  Jupyter Notebook открыт\n",
    "- [ ]  Весь код выполняется без ошибок\n",
    "- [ ]  Ячейки с кодом расположены в порядке исполнения\n",
    "- [ ]  Выполнен шаг 1: данные загружены\n",
    "- [ ]  Выполнен шаг 2: получен ответ на вопрос об умножении матриц\n",
    "    - [ ]  Указан правильный вариант ответа\n",
    "    - [ ]  Вариант обоснован\n",
    "- [ ]  Выполнен шаг 3: предложен алгоритм преобразования\n",
    "    - [ ]  Алгоритм описан\n",
    "    - [ ]  Алгоритм обоснован\n",
    "- [ ]  Выполнен шаг 4: алгоритм проверен\n",
    "    - [ ]  Алгоритм реализован\n",
    "    - [ ]  Проведено сравнение качества моделей до и после преобразования"
   ]
  }
 ],
 "metadata": {
  "ExecuteTimeLog": [
   {
    "duration": 1140,
    "start_time": "2023-04-26T05:53:23.706Z"
   },
   {
    "duration": 6,
    "start_time": "2023-04-26T05:54:11.401Z"
   },
   {
    "duration": 107,
    "start_time": "2023-04-26T05:55:35.538Z"
   },
   {
    "duration": 19,
    "start_time": "2023-04-26T05:55:45.574Z"
   },
   {
    "duration": 52,
    "start_time": "2023-04-26T05:56:34.511Z"
   },
   {
    "duration": 100,
    "start_time": "2023-04-26T06:05:20.548Z"
   },
   {
    "duration": 515,
    "start_time": "2023-04-26T06:05:37.438Z"
   },
   {
    "duration": 152,
    "start_time": "2023-04-26T06:05:42.517Z"
   },
   {
    "duration": 59,
    "start_time": "2023-04-26T06:06:00.019Z"
   },
   {
    "duration": 7,
    "start_time": "2023-04-26T06:06:00.852Z"
   },
   {
    "duration": 31,
    "start_time": "2023-04-26T06:06:01.226Z"
   },
   {
    "duration": 15,
    "start_time": "2023-04-26T06:06:01.415Z"
   },
   {
    "duration": 46,
    "start_time": "2023-04-26T06:06:01.809Z"
   },
   {
    "duration": 398,
    "start_time": "2023-04-26T06:06:02.035Z"
   },
   {
    "duration": 15,
    "start_time": "2023-04-26T06:17:26.473Z"
   },
   {
    "duration": 6,
    "start_time": "2023-04-26T06:18:00.965Z"
   },
   {
    "duration": 2011,
    "start_time": "2023-04-26T06:18:08.361Z"
   },
   {
    "duration": 1977,
    "start_time": "2023-04-26T10:46:05.746Z"
   },
   {
    "duration": 7,
    "start_time": "2023-04-26T10:46:07.727Z"
   },
   {
    "duration": 30,
    "start_time": "2023-04-26T10:46:07.737Z"
   },
   {
    "duration": 96,
    "start_time": "2023-04-26T10:46:07.769Z"
   },
   {
    "duration": 20,
    "start_time": "2023-04-26T10:46:07.867Z"
   },
   {
    "duration": 57,
    "start_time": "2023-04-26T10:46:07.889Z"
   },
   {
    "duration": 545,
    "start_time": "2023-04-26T10:46:07.948Z"
   },
   {
    "duration": 2342,
    "start_time": "2023-04-26T10:46:08.496Z"
   },
   {
    "duration": 16,
    "start_time": "2023-04-26T10:57:31.290Z"
   },
   {
    "duration": 17,
    "start_time": "2023-04-26T10:57:49.509Z"
   },
   {
    "duration": 25,
    "start_time": "2023-04-26T10:58:58.431Z"
   },
   {
    "duration": 17,
    "start_time": "2023-04-26T11:03:25.344Z"
   },
   {
    "duration": 143,
    "start_time": "2023-04-26T11:18:02.990Z"
   },
   {
    "duration": 4,
    "start_time": "2023-04-26T11:18:13.745Z"
   },
   {
    "duration": 619,
    "start_time": "2023-04-26T11:18:19.621Z"
   },
   {
    "duration": 2231,
    "start_time": "2023-04-26T11:18:20.244Z"
   },
   {
    "duration": 515,
    "start_time": "2023-04-26T11:18:30.243Z"
   },
   {
    "duration": 17,
    "start_time": "2023-04-26T11:20:32.350Z"
   },
   {
    "duration": 16,
    "start_time": "2023-04-26T11:21:21.355Z"
   },
   {
    "duration": 18,
    "start_time": "2023-04-26T11:21:47.594Z"
   },
   {
    "duration": 20,
    "start_time": "2023-04-26T11:21:57.107Z"
   },
   {
    "duration": 14,
    "start_time": "2023-04-26T11:29:27.440Z"
   },
   {
    "duration": 18,
    "start_time": "2023-04-26T11:29:37.258Z"
   },
   {
    "duration": 4,
    "start_time": "2023-04-26T11:45:24.613Z"
   },
   {
    "duration": 5,
    "start_time": "2023-04-26T11:45:33.700Z"
   },
   {
    "duration": 12,
    "start_time": "2023-04-26T11:46:33.717Z"
   },
   {
    "duration": 1545,
    "start_time": "2023-04-27T05:45:09.021Z"
   },
   {
    "duration": 6,
    "start_time": "2023-04-27T05:45:10.569Z"
   },
   {
    "duration": 6,
    "start_time": "2023-04-27T05:45:10.577Z"
   },
   {
    "duration": 102,
    "start_time": "2023-04-27T05:45:10.586Z"
   },
   {
    "duration": 18,
    "start_time": "2023-04-27T05:45:10.690Z"
   },
   {
    "duration": 47,
    "start_time": "2023-04-27T05:45:10.710Z"
   },
   {
    "duration": 39,
    "start_time": "2023-04-27T05:45:10.759Z"
   },
   {
    "duration": 5,
    "start_time": "2023-04-27T05:45:10.800Z"
   },
   {
    "duration": 12,
    "start_time": "2023-04-27T05:45:10.806Z"
   },
   {
    "duration": 1897,
    "start_time": "2023-04-27T05:45:10.820Z"
   },
   {
    "duration": 419,
    "start_time": "2023-04-27T05:45:12.719Z"
   },
   {
    "duration": 1627,
    "start_time": "2023-04-27T11:00:24.081Z"
   },
   {
    "duration": 6,
    "start_time": "2023-04-27T11:00:25.713Z"
   },
   {
    "duration": 14,
    "start_time": "2023-04-27T11:00:25.721Z"
   },
   {
    "duration": 118,
    "start_time": "2023-04-27T11:00:25.737Z"
   },
   {
    "duration": 20,
    "start_time": "2023-04-27T11:00:25.856Z"
   },
   {
    "duration": 49,
    "start_time": "2023-04-27T11:00:25.878Z"
   },
   {
    "duration": 15,
    "start_time": "2023-04-27T11:00:25.928Z"
   },
   {
    "duration": 5,
    "start_time": "2023-04-27T11:00:25.945Z"
   },
   {
    "duration": 9,
    "start_time": "2023-04-27T11:00:25.952Z"
   },
   {
    "duration": 2036,
    "start_time": "2023-04-27T11:00:25.964Z"
   },
   {
    "duration": 441,
    "start_time": "2023-04-27T11:00:28.002Z"
   },
   {
    "duration": 120,
    "start_time": "2023-04-27T11:35:23.774Z"
   },
   {
    "duration": 5,
    "start_time": "2023-04-27T11:37:24.869Z"
   },
   {
    "duration": 8,
    "start_time": "2023-04-27T11:37:25.443Z"
   },
   {
    "duration": 11,
    "start_time": "2023-04-27T11:37:45.661Z"
   },
   {
    "duration": 7,
    "start_time": "2023-04-27T11:38:10.975Z"
   },
   {
    "duration": 11,
    "start_time": "2023-04-27T11:38:16.555Z"
   },
   {
    "duration": 10,
    "start_time": "2023-04-27T11:38:40.910Z"
   },
   {
    "duration": 13,
    "start_time": "2023-04-27T11:38:50.053Z"
   },
   {
    "duration": 12,
    "start_time": "2023-04-27T11:39:01.704Z"
   },
   {
    "duration": 10,
    "start_time": "2023-04-27T11:39:29.934Z"
   },
   {
    "duration": 4,
    "start_time": "2023-04-27T11:39:40.704Z"
   },
   {
    "duration": 8,
    "start_time": "2023-04-27T11:43:06.405Z"
   },
   {
    "duration": 14,
    "start_time": "2023-04-27T11:44:34.974Z"
   },
   {
    "duration": 6,
    "start_time": "2023-04-27T11:47:44.055Z"
   },
   {
    "duration": 4,
    "start_time": "2023-04-27T11:49:22.070Z"
   },
   {
    "duration": 5,
    "start_time": "2023-04-27T11:49:59.813Z"
   },
   {
    "duration": 6,
    "start_time": "2023-04-27T11:53:38.755Z"
   },
   {
    "duration": 10,
    "start_time": "2023-04-27T11:56:05.837Z"
   },
   {
    "duration": 9,
    "start_time": "2023-04-27T11:56:22.241Z"
   },
   {
    "duration": 8,
    "start_time": "2023-04-27T11:59:37.469Z"
   },
   {
    "duration": 5,
    "start_time": "2023-04-27T11:59:42.605Z"
   },
   {
    "duration": 6,
    "start_time": "2023-04-27T11:59:42.774Z"
   },
   {
    "duration": 8,
    "start_time": "2023-04-27T11:59:42.969Z"
   },
   {
    "duration": 12,
    "start_time": "2023-04-27T12:02:50.260Z"
   },
   {
    "duration": 3,
    "start_time": "2023-04-27T12:03:25.688Z"
   },
   {
    "duration": 10,
    "start_time": "2023-04-27T12:03:51.877Z"
   },
   {
    "duration": 12,
    "start_time": "2023-04-27T12:03:56.862Z"
   },
   {
    "duration": 21,
    "start_time": "2023-04-27T12:07:23.371Z"
   },
   {
    "duration": 16,
    "start_time": "2023-04-27T12:07:27.481Z"
   },
   {
    "duration": 13,
    "start_time": "2023-04-27T12:07:41.361Z"
   },
   {
    "duration": 15,
    "start_time": "2023-04-27T12:07:56.551Z"
   },
   {
    "duration": 18,
    "start_time": "2023-04-27T12:08:05.242Z"
   },
   {
    "duration": 13,
    "start_time": "2023-04-27T12:08:17.617Z"
   },
   {
    "duration": 15,
    "start_time": "2023-04-27T12:08:25.543Z"
   },
   {
    "duration": 18,
    "start_time": "2023-04-27T12:08:54.044Z"
   },
   {
    "duration": 24,
    "start_time": "2023-04-27T12:09:01.939Z"
   },
   {
    "duration": 15,
    "start_time": "2023-04-27T12:09:30.387Z"
   },
   {
    "duration": 69,
    "start_time": "2023-04-27T12:10:53.649Z"
   },
   {
    "duration": 7,
    "start_time": "2023-04-27T12:11:03.285Z"
   },
   {
    "duration": 28,
    "start_time": "2023-04-27T12:11:24.707Z"
   },
   {
    "duration": 6,
    "start_time": "2023-04-27T12:11:37.836Z"
   },
   {
    "duration": 20,
    "start_time": "2023-04-27T12:12:19.128Z"
   },
   {
    "duration": 16,
    "start_time": "2023-04-27T12:12:28.141Z"
   },
   {
    "duration": 13,
    "start_time": "2023-04-27T12:12:58.274Z"
   },
   {
    "duration": 1436,
    "start_time": "2023-04-27T12:13:09.724Z"
   },
   {
    "duration": 8,
    "start_time": "2023-04-27T12:13:11.163Z"
   },
   {
    "duration": 9,
    "start_time": "2023-04-27T12:13:11.173Z"
   },
   {
    "duration": 47,
    "start_time": "2023-04-27T12:13:11.184Z"
   },
   {
    "duration": 18,
    "start_time": "2023-04-27T12:13:11.233Z"
   },
   {
    "duration": 47,
    "start_time": "2023-04-27T12:13:11.253Z"
   },
   {
    "duration": 23,
    "start_time": "2023-04-27T12:13:11.302Z"
   },
   {
    "duration": 4,
    "start_time": "2023-04-27T12:13:11.327Z"
   },
   {
    "duration": 17,
    "start_time": "2023-04-27T12:13:11.332Z"
   },
   {
    "duration": 1953,
    "start_time": "2023-04-27T12:13:11.352Z"
   },
   {
    "duration": 453,
    "start_time": "2023-04-27T12:13:13.307Z"
   },
   {
    "duration": 4,
    "start_time": "2023-04-27T12:13:13.761Z"
   },
   {
    "duration": 6,
    "start_time": "2023-04-27T12:13:13.767Z"
   },
   {
    "duration": 6,
    "start_time": "2023-04-27T12:13:13.775Z"
   },
   {
    "duration": 266,
    "start_time": "2023-04-27T12:13:13.783Z"
   },
   {
    "duration": 0,
    "start_time": "2023-04-27T12:13:14.051Z"
   },
   {
    "duration": 0,
    "start_time": "2023-04-27T12:13:14.053Z"
   },
   {
    "duration": 0,
    "start_time": "2023-04-27T12:13:14.054Z"
   },
   {
    "duration": 0,
    "start_time": "2023-04-27T12:13:14.055Z"
   },
   {
    "duration": 0,
    "start_time": "2023-04-27T12:13:14.056Z"
   },
   {
    "duration": 1,
    "start_time": "2023-04-27T12:13:14.057Z"
   },
   {
    "duration": 14,
    "start_time": "2023-04-27T12:13:20.268Z"
   },
   {
    "duration": 1464,
    "start_time": "2023-04-27T12:13:29.377Z"
   },
   {
    "duration": 7,
    "start_time": "2023-04-27T12:13:30.846Z"
   },
   {
    "duration": 41,
    "start_time": "2023-04-27T12:13:30.855Z"
   },
   {
    "duration": 79,
    "start_time": "2023-04-27T12:13:30.898Z"
   },
   {
    "duration": 20,
    "start_time": "2023-04-27T12:13:30.979Z"
   },
   {
    "duration": 69,
    "start_time": "2023-04-27T12:13:31.001Z"
   },
   {
    "duration": 14,
    "start_time": "2023-04-27T12:13:31.072Z"
   },
   {
    "duration": 18,
    "start_time": "2023-04-27T12:13:31.087Z"
   },
   {
    "duration": 34,
    "start_time": "2023-04-27T12:13:31.107Z"
   },
   {
    "duration": 1968,
    "start_time": "2023-04-27T12:13:31.144Z"
   },
   {
    "duration": 443,
    "start_time": "2023-04-27T12:13:33.114Z"
   },
   {
    "duration": 4,
    "start_time": "2023-04-27T12:13:33.559Z"
   },
   {
    "duration": 7,
    "start_time": "2023-04-27T12:13:33.565Z"
   },
   {
    "duration": 9,
    "start_time": "2023-04-27T12:13:33.574Z"
   },
   {
    "duration": 30,
    "start_time": "2023-04-27T12:13:33.585Z"
   },
   {
    "duration": 8,
    "start_time": "2023-04-27T12:13:33.617Z"
   },
   {
    "duration": 87,
    "start_time": "2023-04-27T12:13:33.627Z"
   },
   {
    "duration": 11,
    "start_time": "2023-04-27T12:13:33.716Z"
   },
   {
    "duration": 88,
    "start_time": "2023-04-27T12:13:33.729Z"
   },
   {
    "duration": 94,
    "start_time": "2023-04-27T12:13:33.819Z"
   },
   {
    "duration": 200,
    "start_time": "2023-04-27T12:13:33.916Z"
   },
   {
    "duration": 7,
    "start_time": "2023-04-27T12:14:23.514Z"
   },
   {
    "duration": 1450,
    "start_time": "2023-04-27T12:26:53.325Z"
   },
   {
    "duration": 6,
    "start_time": "2023-04-27T12:26:54.779Z"
   },
   {
    "duration": 6,
    "start_time": "2023-04-27T12:26:54.787Z"
   },
   {
    "duration": 37,
    "start_time": "2023-04-27T12:26:54.796Z"
   },
   {
    "duration": 17,
    "start_time": "2023-04-27T12:26:54.835Z"
   },
   {
    "duration": 50,
    "start_time": "2023-04-27T12:26:54.854Z"
   },
   {
    "duration": 19,
    "start_time": "2023-04-27T12:26:54.906Z"
   },
   {
    "duration": 5,
    "start_time": "2023-04-27T12:26:54.926Z"
   },
   {
    "duration": 12,
    "start_time": "2023-04-27T12:26:54.933Z"
   },
   {
    "duration": 2073,
    "start_time": "2023-04-27T12:26:54.947Z"
   },
   {
    "duration": 412,
    "start_time": "2023-04-27T12:26:57.022Z"
   },
   {
    "duration": 4,
    "start_time": "2023-04-27T12:26:57.436Z"
   },
   {
    "duration": 7,
    "start_time": "2023-04-27T12:26:57.441Z"
   },
   {
    "duration": 6,
    "start_time": "2023-04-27T12:26:57.449Z"
   },
   {
    "duration": 10,
    "start_time": "2023-04-27T12:26:57.456Z"
   },
   {
    "duration": 49,
    "start_time": "2023-04-27T12:26:57.467Z"
   },
   {
    "duration": 7,
    "start_time": "2023-04-27T12:26:57.518Z"
   },
   {
    "duration": 5,
    "start_time": "2023-04-27T12:26:57.612Z"
   },
   {
    "duration": 8,
    "start_time": "2023-04-27T12:26:57.618Z"
   },
   {
    "duration": 8,
    "start_time": "2023-04-27T12:26:57.711Z"
   },
   {
    "duration": 1834,
    "start_time": "2023-04-27T12:27:17.183Z"
   },
   {
    "duration": 12,
    "start_time": "2023-04-27T12:27:19.020Z"
   },
   {
    "duration": 8,
    "start_time": "2023-04-27T12:27:19.035Z"
   },
   {
    "duration": 63,
    "start_time": "2023-04-27T12:27:19.046Z"
   },
   {
    "duration": 24,
    "start_time": "2023-04-27T12:27:19.112Z"
   },
   {
    "duration": 83,
    "start_time": "2023-04-27T12:27:19.138Z"
   },
   {
    "duration": 19,
    "start_time": "2023-04-27T12:27:19.222Z"
   },
   {
    "duration": 25,
    "start_time": "2023-04-27T12:27:19.243Z"
   },
   {
    "duration": 14,
    "start_time": "2023-04-27T12:27:19.271Z"
   },
   {
    "duration": 1996,
    "start_time": "2023-04-27T12:27:19.288Z"
   },
   {
    "duration": 448,
    "start_time": "2023-04-27T12:27:21.286Z"
   },
   {
    "duration": 4,
    "start_time": "2023-04-27T12:27:21.735Z"
   },
   {
    "duration": 13,
    "start_time": "2023-04-27T12:27:21.741Z"
   },
   {
    "duration": 16,
    "start_time": "2023-04-27T12:27:21.756Z"
   },
   {
    "duration": 10,
    "start_time": "2023-04-27T12:27:21.774Z"
   },
   {
    "duration": 102,
    "start_time": "2023-04-27T12:27:21.812Z"
   },
   {
    "duration": 7,
    "start_time": "2023-04-27T12:27:21.916Z"
   },
   {
    "duration": 12,
    "start_time": "2023-04-27T12:27:21.925Z"
   },
   {
    "duration": 87,
    "start_time": "2023-04-27T12:27:21.940Z"
   },
   {
    "duration": 92,
    "start_time": "2023-04-27T12:27:22.029Z"
   },
   {
    "duration": 1494,
    "start_time": "2023-04-27T12:30:43.013Z"
   },
   {
    "duration": 8,
    "start_time": "2023-04-27T12:30:44.509Z"
   },
   {
    "duration": 6,
    "start_time": "2023-04-27T12:30:44.518Z"
   },
   {
    "duration": 48,
    "start_time": "2023-04-27T12:30:44.527Z"
   },
   {
    "duration": 16,
    "start_time": "2023-04-27T12:30:44.576Z"
   },
   {
    "duration": 49,
    "start_time": "2023-04-27T12:30:44.594Z"
   },
   {
    "duration": 16,
    "start_time": "2023-04-27T12:30:44.644Z"
   },
   {
    "duration": 5,
    "start_time": "2023-04-27T12:30:44.662Z"
   },
   {
    "duration": 17,
    "start_time": "2023-04-27T12:30:44.669Z"
   },
   {
    "duration": 1887,
    "start_time": "2023-04-27T12:30:44.713Z"
   },
   {
    "duration": 436,
    "start_time": "2023-04-27T12:30:46.602Z"
   },
   {
    "duration": 4,
    "start_time": "2023-04-27T12:30:47.040Z"
   },
   {
    "duration": 16,
    "start_time": "2023-04-27T12:30:47.046Z"
   },
   {
    "duration": 10,
    "start_time": "2023-04-27T12:30:47.064Z"
   },
   {
    "duration": 36,
    "start_time": "2023-04-27T12:30:47.076Z"
   },
   {
    "duration": 7,
    "start_time": "2023-04-27T12:30:47.115Z"
   },
   {
    "duration": 93,
    "start_time": "2023-04-27T12:30:47.124Z"
   },
   {
    "duration": 4,
    "start_time": "2023-04-27T12:30:47.220Z"
   },
   {
    "duration": 90,
    "start_time": "2023-04-27T12:30:47.225Z"
   },
   {
    "duration": 95,
    "start_time": "2023-04-27T12:30:47.319Z"
   },
   {
    "duration": 3037,
    "start_time": "2023-04-28T06:48:19.497Z"
   },
   {
    "duration": 7,
    "start_time": "2023-04-28T06:48:22.536Z"
   },
   {
    "duration": 31,
    "start_time": "2023-04-28T06:48:22.545Z"
   },
   {
    "duration": 94,
    "start_time": "2023-04-28T06:48:22.579Z"
   },
   {
    "duration": 17,
    "start_time": "2023-04-28T06:48:22.675Z"
   },
   {
    "duration": 59,
    "start_time": "2023-04-28T06:48:22.693Z"
   },
   {
    "duration": 15,
    "start_time": "2023-04-28T06:48:22.753Z"
   },
   {
    "duration": 5,
    "start_time": "2023-04-28T06:48:22.771Z"
   },
   {
    "duration": 28,
    "start_time": "2023-04-28T06:48:22.778Z"
   },
   {
    "duration": 2022,
    "start_time": "2023-04-28T06:48:22.809Z"
   },
   {
    "duration": 441,
    "start_time": "2023-04-28T06:48:24.833Z"
   },
   {
    "duration": 5,
    "start_time": "2023-04-28T06:48:25.275Z"
   },
   {
    "duration": 12,
    "start_time": "2023-04-28T06:48:25.281Z"
   },
   {
    "duration": 17,
    "start_time": "2023-04-28T06:48:25.294Z"
   },
   {
    "duration": 25,
    "start_time": "2023-04-28T06:48:25.313Z"
   },
   {
    "duration": 186,
    "start_time": "2023-04-28T06:48:25.340Z"
   },
   {
    "duration": 16,
    "start_time": "2023-04-28T06:48:25.528Z"
   },
   {
    "duration": 7,
    "start_time": "2023-04-28T06:48:25.546Z"
   },
   {
    "duration": 75,
    "start_time": "2023-04-28T06:48:25.555Z"
   },
   {
    "duration": 98,
    "start_time": "2023-04-28T06:48:25.635Z"
   },
   {
    "duration": 1863,
    "start_time": "2023-04-28T10:36:56.579Z"
   },
   {
    "duration": 7,
    "start_time": "2023-04-28T10:36:58.444Z"
   },
   {
    "duration": 25,
    "start_time": "2023-04-28T10:36:58.452Z"
   },
   {
    "duration": 107,
    "start_time": "2023-04-28T10:36:58.480Z"
   },
   {
    "duration": 17,
    "start_time": "2023-04-28T10:36:58.589Z"
   },
   {
    "duration": 73,
    "start_time": "2023-04-28T10:36:58.607Z"
   },
   {
    "duration": 12,
    "start_time": "2023-04-28T10:36:58.681Z"
   },
   {
    "duration": 12,
    "start_time": "2023-04-28T10:36:58.694Z"
   },
   {
    "duration": 21,
    "start_time": "2023-04-28T10:36:58.707Z"
   },
   {
    "duration": 1778,
    "start_time": "2023-04-28T10:36:58.730Z"
   },
   {
    "duration": 423,
    "start_time": "2023-04-28T10:37:00.510Z"
   },
   {
    "duration": 14,
    "start_time": "2023-04-28T10:37:00.935Z"
   },
   {
    "duration": 39,
    "start_time": "2023-04-28T10:37:00.952Z"
   },
   {
    "duration": 35,
    "start_time": "2023-04-28T10:37:00.993Z"
   },
   {
    "duration": 54,
    "start_time": "2023-04-28T10:37:01.029Z"
   },
   {
    "duration": 75,
    "start_time": "2023-04-28T10:37:01.085Z"
   },
   {
    "duration": 90,
    "start_time": "2023-04-28T10:37:01.162Z"
   },
   {
    "duration": 1441,
    "start_time": "2023-04-28T10:39:10.034Z"
   },
   {
    "duration": 7,
    "start_time": "2023-04-28T10:39:11.476Z"
   },
   {
    "duration": 9,
    "start_time": "2023-04-28T10:39:11.484Z"
   },
   {
    "duration": 35,
    "start_time": "2023-04-28T10:39:11.495Z"
   },
   {
    "duration": 20,
    "start_time": "2023-04-28T10:39:11.532Z"
   },
   {
    "duration": 47,
    "start_time": "2023-04-28T10:39:11.554Z"
   },
   {
    "duration": 13,
    "start_time": "2023-04-28T10:39:11.602Z"
   },
   {
    "duration": 5,
    "start_time": "2023-04-28T10:39:11.617Z"
   },
   {
    "duration": 40,
    "start_time": "2023-04-28T10:39:11.623Z"
   },
   {
    "duration": 1670,
    "start_time": "2023-04-28T10:39:11.666Z"
   },
   {
    "duration": 401,
    "start_time": "2023-04-28T10:39:13.337Z"
   },
   {
    "duration": 9,
    "start_time": "2023-04-28T10:39:13.740Z"
   },
   {
    "duration": 14,
    "start_time": "2023-04-28T10:39:13.750Z"
   },
   {
    "duration": 14,
    "start_time": "2023-04-28T10:39:13.765Z"
   },
   {
    "duration": 9,
    "start_time": "2023-04-28T10:39:13.781Z"
   },
   {
    "duration": 58,
    "start_time": "2023-04-28T10:39:13.792Z"
   },
   {
    "duration": 11,
    "start_time": "2023-04-28T10:39:13.852Z"
   },
   {
    "duration": 8,
    "start_time": "2023-04-28T10:39:13.949Z"
   },
   {
    "duration": 7,
    "start_time": "2023-04-28T10:39:13.959Z"
   },
   {
    "duration": 85,
    "start_time": "2023-04-28T10:39:13.967Z"
   },
   {
    "duration": 4,
    "start_time": "2023-04-28T10:40:10.304Z"
   },
   {
    "duration": 113,
    "start_time": "2023-04-28T10:40:26.434Z"
   },
   {
    "duration": 9,
    "start_time": "2023-04-28T10:41:00.712Z"
   },
   {
    "duration": 9,
    "start_time": "2023-04-28T10:41:07.930Z"
   },
   {
    "duration": 4,
    "start_time": "2023-04-28T10:41:24.270Z"
   },
   {
    "duration": 4,
    "start_time": "2023-04-28T10:42:43.923Z"
   },
   {
    "duration": 8,
    "start_time": "2023-04-28T10:43:26.652Z"
   },
   {
    "duration": 9,
    "start_time": "2023-04-28T10:44:05.814Z"
   },
   {
    "duration": 9,
    "start_time": "2023-04-28T10:45:03.356Z"
   },
   {
    "duration": 6,
    "start_time": "2023-04-28T10:45:27.637Z"
   },
   {
    "duration": 9,
    "start_time": "2023-04-28T10:45:36.512Z"
   },
   {
    "duration": 5,
    "start_time": "2023-04-28T10:45:40.896Z"
   },
   {
    "duration": 7,
    "start_time": "2023-04-28T10:46:36.329Z"
   },
   {
    "duration": 9,
    "start_time": "2023-04-28T10:48:38.325Z"
   },
   {
    "duration": 8,
    "start_time": "2023-04-28T10:48:46.333Z"
   },
   {
    "duration": 5,
    "start_time": "2023-04-28T10:49:14.200Z"
   },
   {
    "duration": 3,
    "start_time": "2023-04-28T10:49:27.811Z"
   },
   {
    "duration": 5,
    "start_time": "2023-04-28T10:49:28.258Z"
   },
   {
    "duration": 1382,
    "start_time": "2023-04-28T10:50:13.086Z"
   },
   {
    "duration": 6,
    "start_time": "2023-04-28T10:50:14.470Z"
   },
   {
    "duration": 8,
    "start_time": "2023-04-28T10:50:14.477Z"
   },
   {
    "duration": 32,
    "start_time": "2023-04-28T10:50:14.487Z"
   },
   {
    "duration": 19,
    "start_time": "2023-04-28T10:50:14.520Z"
   },
   {
    "duration": 51,
    "start_time": "2023-04-28T10:50:14.541Z"
   },
   {
    "duration": 15,
    "start_time": "2023-04-28T10:50:14.594Z"
   },
   {
    "duration": 9,
    "start_time": "2023-04-28T10:50:14.610Z"
   },
   {
    "duration": 34,
    "start_time": "2023-04-28T10:50:14.621Z"
   },
   {
    "duration": 1770,
    "start_time": "2023-04-28T10:50:14.658Z"
   },
   {
    "duration": 402,
    "start_time": "2023-04-28T10:50:16.430Z"
   },
   {
    "duration": 4,
    "start_time": "2023-04-28T10:50:16.833Z"
   },
   {
    "duration": 14,
    "start_time": "2023-04-28T10:50:16.839Z"
   },
   {
    "duration": 23,
    "start_time": "2023-04-28T10:50:16.854Z"
   },
   {
    "duration": 10,
    "start_time": "2023-04-28T10:50:16.879Z"
   },
   {
    "duration": 57,
    "start_time": "2023-04-28T10:50:16.893Z"
   },
   {
    "duration": 5,
    "start_time": "2023-04-28T10:50:16.952Z"
   },
   {
    "duration": 97,
    "start_time": "2023-04-28T10:50:16.958Z"
   },
   {
    "duration": 93,
    "start_time": "2023-04-28T10:50:17.056Z"
   },
   {
    "duration": 5,
    "start_time": "2023-04-28T10:50:17.151Z"
   },
   {
    "duration": 94,
    "start_time": "2023-04-28T10:50:17.157Z"
   },
   {
    "duration": 5,
    "start_time": "2023-04-28T10:50:43.038Z"
   },
   {
    "duration": 3,
    "start_time": "2023-04-28T10:50:43.701Z"
   },
   {
    "duration": 5,
    "start_time": "2023-04-28T10:50:44.533Z"
   },
   {
    "duration": 3,
    "start_time": "2023-04-28T10:50:48.181Z"
   },
   {
    "duration": 1323,
    "start_time": "2023-04-28T10:51:06.275Z"
   },
   {
    "duration": 6,
    "start_time": "2023-04-28T10:51:07.600Z"
   },
   {
    "duration": 11,
    "start_time": "2023-04-28T10:51:07.608Z"
   },
   {
    "duration": 33,
    "start_time": "2023-04-28T10:51:07.621Z"
   },
   {
    "duration": 15,
    "start_time": "2023-04-28T10:51:07.656Z"
   },
   {
    "duration": 50,
    "start_time": "2023-04-28T10:51:07.672Z"
   },
   {
    "duration": 27,
    "start_time": "2023-04-28T10:51:07.723Z"
   },
   {
    "duration": 4,
    "start_time": "2023-04-28T10:51:07.751Z"
   },
   {
    "duration": 12,
    "start_time": "2023-04-28T10:51:07.757Z"
   },
   {
    "duration": 1743,
    "start_time": "2023-04-28T10:51:07.773Z"
   },
   {
    "duration": 440,
    "start_time": "2023-04-28T10:51:09.518Z"
   },
   {
    "duration": 3,
    "start_time": "2023-04-28T10:51:09.960Z"
   },
   {
    "duration": 12,
    "start_time": "2023-04-28T10:51:09.964Z"
   },
   {
    "duration": 8,
    "start_time": "2023-04-28T10:51:09.978Z"
   },
   {
    "duration": 12,
    "start_time": "2023-04-28T10:51:09.988Z"
   },
   {
    "duration": 52,
    "start_time": "2023-04-28T10:51:10.002Z"
   },
   {
    "duration": 93,
    "start_time": "2023-04-28T10:51:10.056Z"
   },
   {
    "duration": 8,
    "start_time": "2023-04-28T10:51:10.150Z"
   },
   {
    "duration": 13,
    "start_time": "2023-04-28T10:51:10.159Z"
   },
   {
    "duration": 16,
    "start_time": "2023-04-28T10:51:10.173Z"
   },
   {
    "duration": 61,
    "start_time": "2023-04-28T10:51:10.191Z"
   },
   {
    "duration": 3,
    "start_time": "2023-04-28T10:51:23.978Z"
   },
   {
    "duration": 4,
    "start_time": "2023-04-28T10:51:25.454Z"
   },
   {
    "duration": 6,
    "start_time": "2023-04-28T10:51:26.383Z"
   },
   {
    "duration": 116,
    "start_time": "2023-04-28T10:52:01.498Z"
   },
   {
    "duration": 4,
    "start_time": "2023-04-28T10:52:05.074Z"
   },
   {
    "duration": 5,
    "start_time": "2023-04-28T10:52:05.282Z"
   },
   {
    "duration": 2,
    "start_time": "2023-04-28T10:52:08.873Z"
   },
   {
    "duration": 2,
    "start_time": "2023-04-28T10:52:09.928Z"
   },
   {
    "duration": 65,
    "start_time": "2023-04-28T11:01:32.587Z"
   },
   {
    "duration": 12,
    "start_time": "2023-04-28T11:03:10.457Z"
   },
   {
    "duration": 15,
    "start_time": "2023-04-28T11:03:10.829Z"
   },
   {
    "duration": 4,
    "start_time": "2023-04-28T11:03:22.679Z"
   },
   {
    "duration": 3,
    "start_time": "2023-04-28T11:03:42.543Z"
   },
   {
    "duration": 7,
    "start_time": "2023-04-28T11:03:42.784Z"
   },
   {
    "duration": 52,
    "start_time": "2023-04-28T11:51:39.580Z"
   },
   {
    "duration": 13,
    "start_time": "2023-04-28T11:51:54.730Z"
   },
   {
    "duration": 1360,
    "start_time": "2023-04-28T12:10:26.784Z"
   },
   {
    "duration": 6,
    "start_time": "2023-04-28T12:10:28.146Z"
   },
   {
    "duration": 8,
    "start_time": "2023-04-28T12:10:28.153Z"
   },
   {
    "duration": 34,
    "start_time": "2023-04-28T12:10:28.163Z"
   },
   {
    "duration": 15,
    "start_time": "2023-04-28T12:10:28.198Z"
   },
   {
    "duration": 40,
    "start_time": "2023-04-28T12:10:28.214Z"
   },
   {
    "duration": 11,
    "start_time": "2023-04-28T12:10:28.255Z"
   },
   {
    "duration": 3,
    "start_time": "2023-04-28T12:10:28.268Z"
   },
   {
    "duration": 12,
    "start_time": "2023-04-28T12:10:28.272Z"
   },
   {
    "duration": 1671,
    "start_time": "2023-04-28T12:10:28.286Z"
   },
   {
    "duration": 414,
    "start_time": "2023-04-28T12:10:29.959Z"
   },
   {
    "duration": 4,
    "start_time": "2023-04-28T12:10:30.375Z"
   },
   {
    "duration": 46,
    "start_time": "2023-04-28T12:10:30.381Z"
   },
   {
    "duration": 67,
    "start_time": "2023-04-28T12:10:30.428Z"
   },
   {
    "duration": 26,
    "start_time": "2023-04-28T12:10:30.496Z"
   },
   {
    "duration": 134,
    "start_time": "2023-04-28T12:10:30.523Z"
   },
   {
    "duration": 39,
    "start_time": "2023-04-28T12:10:30.658Z"
   },
   {
    "duration": 51,
    "start_time": "2023-04-28T12:10:30.699Z"
   },
   {
    "duration": 97,
    "start_time": "2023-04-28T12:10:30.752Z"
   },
   {
    "duration": 12,
    "start_time": "2023-04-28T12:10:30.851Z"
   },
   {
    "duration": 88,
    "start_time": "2023-04-28T12:10:30.865Z"
   }
  ],
  "kernelspec": {
   "display_name": "Python 3 (ipykernel)",
   "language": "python",
   "name": "python3"
  },
  "language_info": {
   "codemirror_mode": {
    "name": "ipython",
    "version": 3
   },
   "file_extension": ".py",
   "mimetype": "text/x-python",
   "name": "python",
   "nbconvert_exporter": "python",
   "pygments_lexer": "ipython3",
   "version": "3.9.13"
  },
  "toc": {
   "base_numbering": 1,
   "nav_menu": {},
   "number_sections": true,
   "sideBar": true,
   "skip_h1_title": true,
   "title_cell": "Содержание",
   "title_sidebar": "Contents",
   "toc_cell": true,
   "toc_position": {
    "height": "calc(100% - 180px)",
    "left": "10px",
    "top": "150px",
    "width": "165px"
   },
   "toc_section_display": true,
   "toc_window_display": false
  }
 },
 "nbformat": 4,
 "nbformat_minor": 2
}
