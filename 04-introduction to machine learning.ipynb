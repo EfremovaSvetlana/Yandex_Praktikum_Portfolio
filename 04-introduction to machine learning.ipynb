{
 "cells": [
  {
   "cell_type": "markdown",
   "metadata": {},
   "source": [
    "# Рекомендация тарифов"
   ]
  },
  {
   "cell_type": "markdown",
   "metadata": {},
   "source": [
    "В вашем распоряжении данные о поведении клиентов, которые уже перешли на эти тарифы (из проекта курса «Статистический анализ данных»). Нужно построить модель для задачи классификации, которая выберет подходящий тариф. Предобработка данных не понадобится — вы её уже сделали.\n",
    "\n",
    "Постройте модель с максимально большим значением *accuracy*. Чтобы сдать проект успешно, нужно довести долю правильных ответов по крайней мере до 0.75. Проверьте *accuracy* на тестовой выборке самостоятельно."
   ]
  },
  {
   "cell_type": "markdown",
   "metadata": {},
   "source": [
    "## Откройте и изучите файл"
   ]
  },
  {
   "cell_type": "markdown",
   "metadata": {},
   "source": [
    "**1.1 Импортируем необходимые библиотеки.**"
   ]
  },
  {
   "cell_type": "code",
   "execution_count": 1,
   "metadata": {},
   "outputs": [],
   "source": [
    "import pandas as pd\n",
    "import numpy as np\n",
    "from sklearn.metrics import accuracy_score\n",
    "from sklearn.model_selection import train_test_split\n",
    "from sklearn.tree import DecisionTreeClassifier\n",
    "from sklearn.linear_model import LogisticRegression\n",
    "from sklearn.ensemble import RandomForestClassifier\n",
    "from sklearn.dummy import DummyClassifier"
   ]
  },
  {
   "cell_type": "markdown",
   "metadata": {},
   "source": [
    "**1.2 Пользовательские функции.**"
   ]
  },
  {
   "cell_type": "code",
   "execution_count": 2,
   "metadata": {},
   "outputs": [],
   "source": [
    "# Напишем функцию для первичной проверки данных\n",
    "\n",
    "def check_data(data_df):\n",
    "    print ('\\033[1m' + 'Изучим исходные данные'+ '\\033[0m')\n",
    "    print(data_df.info())\n",
    "    print(data_df.shape)\n",
    "        \n",
    "    missed_cells = data_df.isnull().sum().sum()/(data_df.shape[0]*(data_df.shape[1]-1))\n",
    "    missed_rows = sum(data_df.isnull().sum(axis = 1)>0)/data_df.shape[0]\n",
    "    print ('\\033[1m' + '\\nПроверка пропусков'+ '\\033[0m')\n",
    "    print ('Количество пропусков: {:.0f}'.format(data_df.isnull().sum().sum()))\n",
    "    print ('Доля пропусков: {:.1%}'.format(missed_cells)+ '\\033[0m')\n",
    "    print ('Доля строк содержащих пропуски: {:.1%}'.format(missed_rows))\n",
    "\n",
    "    ## Проверим дубликаты\n",
    "    \n",
    "    print ('\\033[1m' + '\\nПроверка на дубликаты'+ '\\033[0m')\n",
    "    print('Количество полных дубликатов: ', data_df.duplicated().sum())\n",
    "        \n",
    "    ## Посмотрим на сами данные\n",
    "    \n",
    "    print ('\\033[1m' + '\\nПервые пять строк датасета'+ '\\033[0m')\n",
    "    display(data_df.head())\n",
    "    \n",
    "    print('\\033[1m' + '\\nОписание количественных данных:'+ '\\033[0m')\n",
    "    display(data_df.describe().T)"
   ]
  },
  {
   "cell_type": "markdown",
   "metadata": {},
   "source": [
    "**1.3 Загрузим данные.**"
   ]
  },
  {
   "cell_type": "code",
   "execution_count": 3,
   "metadata": {},
   "outputs": [],
   "source": [
    "df = pd.read_csv('/datasets/users_behavior.csv')"
   ]
  },
  {
   "cell_type": "code",
   "execution_count": 4,
   "metadata": {},
   "outputs": [
    {
     "data": {
      "text/html": [
       "<div>\n",
       "<style scoped>\n",
       "    .dataframe tbody tr th:only-of-type {\n",
       "        vertical-align: middle;\n",
       "    }\n",
       "\n",
       "    .dataframe tbody tr th {\n",
       "        vertical-align: top;\n",
       "    }\n",
       "\n",
       "    .dataframe thead th {\n",
       "        text-align: right;\n",
       "    }\n",
       "</style>\n",
       "<table border=\"1\" class=\"dataframe\">\n",
       "  <thead>\n",
       "    <tr style=\"text-align: right;\">\n",
       "      <th></th>\n",
       "      <th>calls</th>\n",
       "      <th>minutes</th>\n",
       "      <th>messages</th>\n",
       "      <th>mb_used</th>\n",
       "      <th>is_ultra</th>\n",
       "    </tr>\n",
       "  </thead>\n",
       "  <tbody>\n",
       "    <tr>\n",
       "      <th>0</th>\n",
       "      <td>40.0</td>\n",
       "      <td>311.90</td>\n",
       "      <td>83.0</td>\n",
       "      <td>19915.42</td>\n",
       "      <td>0</td>\n",
       "    </tr>\n",
       "    <tr>\n",
       "      <th>1</th>\n",
       "      <td>85.0</td>\n",
       "      <td>516.75</td>\n",
       "      <td>56.0</td>\n",
       "      <td>22696.96</td>\n",
       "      <td>0</td>\n",
       "    </tr>\n",
       "    <tr>\n",
       "      <th>2</th>\n",
       "      <td>77.0</td>\n",
       "      <td>467.66</td>\n",
       "      <td>86.0</td>\n",
       "      <td>21060.45</td>\n",
       "      <td>0</td>\n",
       "    </tr>\n",
       "    <tr>\n",
       "      <th>3</th>\n",
       "      <td>106.0</td>\n",
       "      <td>745.53</td>\n",
       "      <td>81.0</td>\n",
       "      <td>8437.39</td>\n",
       "      <td>1</td>\n",
       "    </tr>\n",
       "    <tr>\n",
       "      <th>4</th>\n",
       "      <td>66.0</td>\n",
       "      <td>418.74</td>\n",
       "      <td>1.0</td>\n",
       "      <td>14502.75</td>\n",
       "      <td>0</td>\n",
       "    </tr>\n",
       "    <tr>\n",
       "      <th>...</th>\n",
       "      <td>...</td>\n",
       "      <td>...</td>\n",
       "      <td>...</td>\n",
       "      <td>...</td>\n",
       "      <td>...</td>\n",
       "    </tr>\n",
       "    <tr>\n",
       "      <th>3209</th>\n",
       "      <td>122.0</td>\n",
       "      <td>910.98</td>\n",
       "      <td>20.0</td>\n",
       "      <td>35124.90</td>\n",
       "      <td>1</td>\n",
       "    </tr>\n",
       "    <tr>\n",
       "      <th>3210</th>\n",
       "      <td>25.0</td>\n",
       "      <td>190.36</td>\n",
       "      <td>0.0</td>\n",
       "      <td>3275.61</td>\n",
       "      <td>0</td>\n",
       "    </tr>\n",
       "    <tr>\n",
       "      <th>3211</th>\n",
       "      <td>97.0</td>\n",
       "      <td>634.44</td>\n",
       "      <td>70.0</td>\n",
       "      <td>13974.06</td>\n",
       "      <td>0</td>\n",
       "    </tr>\n",
       "    <tr>\n",
       "      <th>3212</th>\n",
       "      <td>64.0</td>\n",
       "      <td>462.32</td>\n",
       "      <td>90.0</td>\n",
       "      <td>31239.78</td>\n",
       "      <td>0</td>\n",
       "    </tr>\n",
       "    <tr>\n",
       "      <th>3213</th>\n",
       "      <td>80.0</td>\n",
       "      <td>566.09</td>\n",
       "      <td>6.0</td>\n",
       "      <td>29480.52</td>\n",
       "      <td>1</td>\n",
       "    </tr>\n",
       "  </tbody>\n",
       "</table>\n",
       "<p>3214 rows × 5 columns</p>\n",
       "</div>"
      ],
      "text/plain": [
       "      calls  minutes  messages   mb_used  is_ultra\n",
       "0      40.0   311.90      83.0  19915.42         0\n",
       "1      85.0   516.75      56.0  22696.96         0\n",
       "2      77.0   467.66      86.0  21060.45         0\n",
       "3     106.0   745.53      81.0   8437.39         1\n",
       "4      66.0   418.74       1.0  14502.75         0\n",
       "...     ...      ...       ...       ...       ...\n",
       "3209  122.0   910.98      20.0  35124.90         1\n",
       "3210   25.0   190.36       0.0   3275.61         0\n",
       "3211   97.0   634.44      70.0  13974.06         0\n",
       "3212   64.0   462.32      90.0  31239.78         0\n",
       "3213   80.0   566.09       6.0  29480.52         1\n",
       "\n",
       "[3214 rows x 5 columns]"
      ]
     },
     "execution_count": 4,
     "metadata": {},
     "output_type": "execute_result"
    }
   ],
   "source": [
    "df"
   ]
  },
  {
   "cell_type": "markdown",
   "metadata": {},
   "source": [
    "**1.4 Первичный осмотр данных.**"
   ]
  },
  {
   "cell_type": "code",
   "execution_count": 5,
   "metadata": {},
   "outputs": [
    {
     "name": "stdout",
     "output_type": "stream",
     "text": [
      "\u001b[1mИзучим исходные данные\u001b[0m\n",
      "<class 'pandas.core.frame.DataFrame'>\n",
      "RangeIndex: 3214 entries, 0 to 3213\n",
      "Data columns (total 5 columns):\n",
      " #   Column    Non-Null Count  Dtype  \n",
      "---  ------    --------------  -----  \n",
      " 0   calls     3214 non-null   float64\n",
      " 1   minutes   3214 non-null   float64\n",
      " 2   messages  3214 non-null   float64\n",
      " 3   mb_used   3214 non-null   float64\n",
      " 4   is_ultra  3214 non-null   int64  \n",
      "dtypes: float64(4), int64(1)\n",
      "memory usage: 125.7 KB\n",
      "None\n",
      "(3214, 5)\n",
      "\u001b[1m\n",
      "Проверка пропусков\u001b[0m\n",
      "Количество пропусков: 0\n",
      "Доля пропусков: 0.0%\u001b[0m\n",
      "Доля строк содержащих пропуски: 0.0%\n",
      "\u001b[1m\n",
      "Проверка на дубликаты\u001b[0m\n",
      "Количество полных дубликатов:  0\n",
      "\u001b[1m\n",
      "Первые пять строк датасета\u001b[0m\n"
     ]
    },
    {
     "data": {
      "text/html": [
       "<div>\n",
       "<style scoped>\n",
       "    .dataframe tbody tr th:only-of-type {\n",
       "        vertical-align: middle;\n",
       "    }\n",
       "\n",
       "    .dataframe tbody tr th {\n",
       "        vertical-align: top;\n",
       "    }\n",
       "\n",
       "    .dataframe thead th {\n",
       "        text-align: right;\n",
       "    }\n",
       "</style>\n",
       "<table border=\"1\" class=\"dataframe\">\n",
       "  <thead>\n",
       "    <tr style=\"text-align: right;\">\n",
       "      <th></th>\n",
       "      <th>calls</th>\n",
       "      <th>minutes</th>\n",
       "      <th>messages</th>\n",
       "      <th>mb_used</th>\n",
       "      <th>is_ultra</th>\n",
       "    </tr>\n",
       "  </thead>\n",
       "  <tbody>\n",
       "    <tr>\n",
       "      <th>0</th>\n",
       "      <td>40.0</td>\n",
       "      <td>311.90</td>\n",
       "      <td>83.0</td>\n",
       "      <td>19915.42</td>\n",
       "      <td>0</td>\n",
       "    </tr>\n",
       "    <tr>\n",
       "      <th>1</th>\n",
       "      <td>85.0</td>\n",
       "      <td>516.75</td>\n",
       "      <td>56.0</td>\n",
       "      <td>22696.96</td>\n",
       "      <td>0</td>\n",
       "    </tr>\n",
       "    <tr>\n",
       "      <th>2</th>\n",
       "      <td>77.0</td>\n",
       "      <td>467.66</td>\n",
       "      <td>86.0</td>\n",
       "      <td>21060.45</td>\n",
       "      <td>0</td>\n",
       "    </tr>\n",
       "    <tr>\n",
       "      <th>3</th>\n",
       "      <td>106.0</td>\n",
       "      <td>745.53</td>\n",
       "      <td>81.0</td>\n",
       "      <td>8437.39</td>\n",
       "      <td>1</td>\n",
       "    </tr>\n",
       "    <tr>\n",
       "      <th>4</th>\n",
       "      <td>66.0</td>\n",
       "      <td>418.74</td>\n",
       "      <td>1.0</td>\n",
       "      <td>14502.75</td>\n",
       "      <td>0</td>\n",
       "    </tr>\n",
       "  </tbody>\n",
       "</table>\n",
       "</div>"
      ],
      "text/plain": [
       "   calls  minutes  messages   mb_used  is_ultra\n",
       "0   40.0   311.90      83.0  19915.42         0\n",
       "1   85.0   516.75      56.0  22696.96         0\n",
       "2   77.0   467.66      86.0  21060.45         0\n",
       "3  106.0   745.53      81.0   8437.39         1\n",
       "4   66.0   418.74       1.0  14502.75         0"
      ]
     },
     "metadata": {},
     "output_type": "display_data"
    },
    {
     "name": "stdout",
     "output_type": "stream",
     "text": [
      "\u001b[1m\n",
      "Описание количественных данных:\u001b[0m\n"
     ]
    },
    {
     "data": {
      "text/html": [
       "<div>\n",
       "<style scoped>\n",
       "    .dataframe tbody tr th:only-of-type {\n",
       "        vertical-align: middle;\n",
       "    }\n",
       "\n",
       "    .dataframe tbody tr th {\n",
       "        vertical-align: top;\n",
       "    }\n",
       "\n",
       "    .dataframe thead th {\n",
       "        text-align: right;\n",
       "    }\n",
       "</style>\n",
       "<table border=\"1\" class=\"dataframe\">\n",
       "  <thead>\n",
       "    <tr style=\"text-align: right;\">\n",
       "      <th></th>\n",
       "      <th>count</th>\n",
       "      <th>mean</th>\n",
       "      <th>std</th>\n",
       "      <th>min</th>\n",
       "      <th>25%</th>\n",
       "      <th>50%</th>\n",
       "      <th>75%</th>\n",
       "      <th>max</th>\n",
       "    </tr>\n",
       "  </thead>\n",
       "  <tbody>\n",
       "    <tr>\n",
       "      <th>calls</th>\n",
       "      <td>3214.0</td>\n",
       "      <td>63.038892</td>\n",
       "      <td>33.236368</td>\n",
       "      <td>0.0</td>\n",
       "      <td>40.0000</td>\n",
       "      <td>62.000</td>\n",
       "      <td>82.0000</td>\n",
       "      <td>244.00</td>\n",
       "    </tr>\n",
       "    <tr>\n",
       "      <th>minutes</th>\n",
       "      <td>3214.0</td>\n",
       "      <td>438.208787</td>\n",
       "      <td>234.569872</td>\n",
       "      <td>0.0</td>\n",
       "      <td>274.5750</td>\n",
       "      <td>430.600</td>\n",
       "      <td>571.9275</td>\n",
       "      <td>1632.06</td>\n",
       "    </tr>\n",
       "    <tr>\n",
       "      <th>messages</th>\n",
       "      <td>3214.0</td>\n",
       "      <td>38.281269</td>\n",
       "      <td>36.148326</td>\n",
       "      <td>0.0</td>\n",
       "      <td>9.0000</td>\n",
       "      <td>30.000</td>\n",
       "      <td>57.0000</td>\n",
       "      <td>224.00</td>\n",
       "    </tr>\n",
       "    <tr>\n",
       "      <th>mb_used</th>\n",
       "      <td>3214.0</td>\n",
       "      <td>17207.673836</td>\n",
       "      <td>7570.968246</td>\n",
       "      <td>0.0</td>\n",
       "      <td>12491.9025</td>\n",
       "      <td>16943.235</td>\n",
       "      <td>21424.7000</td>\n",
       "      <td>49745.73</td>\n",
       "    </tr>\n",
       "    <tr>\n",
       "      <th>is_ultra</th>\n",
       "      <td>3214.0</td>\n",
       "      <td>0.306472</td>\n",
       "      <td>0.461100</td>\n",
       "      <td>0.0</td>\n",
       "      <td>0.0000</td>\n",
       "      <td>0.000</td>\n",
       "      <td>1.0000</td>\n",
       "      <td>1.00</td>\n",
       "    </tr>\n",
       "  </tbody>\n",
       "</table>\n",
       "</div>"
      ],
      "text/plain": [
       "           count          mean          std  min         25%        50%  \\\n",
       "calls     3214.0     63.038892    33.236368  0.0     40.0000     62.000   \n",
       "minutes   3214.0    438.208787   234.569872  0.0    274.5750    430.600   \n",
       "messages  3214.0     38.281269    36.148326  0.0      9.0000     30.000   \n",
       "mb_used   3214.0  17207.673836  7570.968246  0.0  12491.9025  16943.235   \n",
       "is_ultra  3214.0      0.306472     0.461100  0.0      0.0000      0.000   \n",
       "\n",
       "                 75%       max  \n",
       "calls        82.0000    244.00  \n",
       "minutes     571.9275   1632.06  \n",
       "messages     57.0000    224.00  \n",
       "mb_used   21424.7000  49745.73  \n",
       "is_ultra      1.0000      1.00  "
      ]
     },
     "metadata": {},
     "output_type": "display_data"
    }
   ],
   "source": [
    "# ОПИСАТЕЛЬНЫЙ АНАЛИЗ\n",
    "\n",
    "check_data(df)"
   ]
  },
  {
   "cell_type": "markdown",
   "metadata": {},
   "source": [
    "**Вывод:**\n",
    "- в таблице 5 столбцов и 3214 строк;\n",
    "- пропусков - нет, дубликатов - нет;\n",
    "- предобработка данных не требуется "
   ]
  },
  {
   "cell_type": "markdown",
   "metadata": {},
   "source": [
    "## Разбейте данные на выборки"
   ]
  },
  {
   "cell_type": "code",
   "execution_count": 6,
   "metadata": {},
   "outputs": [],
   "source": [
    "# Разделим исходные данные на обучающую (60%), валидационную (20%) и тестовую (20%) выборки.\n",
    "\n",
    "df_train, df_test = train_test_split(df, test_size=0.40, random_state=12345) \n",
    "\n",
    "df_valid, df_test = train_test_split(df_test, test_size=0.50, random_state=12345)"
   ]
  },
  {
   "cell_type": "code",
   "execution_count": 7,
   "metadata": {},
   "outputs": [
    {
     "name": "stdout",
     "output_type": "stream",
     "text": [
      "1928\n",
      "643\n",
      "643\n"
     ]
    }
   ],
   "source": [
    "# проверим\n",
    "\n",
    "print(df_train.shape[0])\n",
    "print(df_test.shape[0])\n",
    "print(df_valid.shape[0])"
   ]
  },
  {
   "cell_type": "markdown",
   "metadata": {},
   "source": [
    "**Вывод:**\n",
    "\n",
    "Спрятанной тестовой выборки нет, поэтому разделим данные на 3 части (3:1:1):\n",
    "- для начала разделим на обучающую и тестовую (60% и 40%) выборки \n",
    "- затем тестовую выборку разделили пополам - на тестовую и валидационную (20% и 20%)."
   ]
  },
  {
   "cell_type": "markdown",
   "metadata": {},
   "source": [
    "## Исследуйте модели"
   ]
  },
  {
   "cell_type": "markdown",
   "metadata": {},
   "source": [
    "- В нашей задаче целевой признак - is_ultra — каким тарифом пользовался в течение месяца («Ультра» — 1, «Смарт» — 0).\n",
    "- Признаки - столбцы с данными о поведении одного пользователя за месяц (количество и длительность звонков, количество смс и потраченного интернет-трафика. "
   ]
  },
  {
   "cell_type": "code",
   "execution_count": 8,
   "metadata": {},
   "outputs": [],
   "source": [
    "# для обучающей выборки\n",
    "\n",
    "train_features = df_train.drop(['is_ultra'], axis=1)\n",
    "train_target = df_train['is_ultra']\n",
    "\n",
    "# для тестовой выборки\n",
    "\n",
    "test_features = df_test.drop(['is_ultra'], axis=1)\n",
    "test_target = df_test['is_ultra']\n",
    "\n",
    "# для валидационной выборки\n",
    "\n",
    "valid_features = df_valid.drop(['is_ultra'], axis=1)\n",
    "valid_target = df_valid['is_ultra']"
   ]
  },
  {
   "cell_type": "markdown",
   "metadata": {},
   "source": [
    "**3.1 Исследуем модель - _Решающее дерево._**"
   ]
  },
  {
   "cell_type": "code",
   "execution_count": 9,
   "metadata": {},
   "outputs": [
    {
     "name": "stdout",
     "output_type": "stream",
     "text": [
      "Accuracy наилучшей модели на валидационной выборке: 0.7853810264385692 глубина дерева - 3\n"
     ]
    }
   ],
   "source": [
    "best_result_dtc = 0\n",
    "best_depth_dtc = 0\n",
    "\n",
    "for depth_dtc in range(1,11):\n",
    "    \n",
    "    # инициализируем модель DecisionTreeClassifier с параметром random_state=12345 и max_depth=depth\n",
    "    \n",
    "    model_dtc = DecisionTreeClassifier(random_state=12345, max_depth=depth_dtc) \n",
    "    \n",
    "    # обучим модель на тренировочной выборке\n",
    "    \n",
    "    model_dtc.fit(train_features, train_target) \n",
    "    \n",
    "    # получим предсказания модели на валидационной выборке \n",
    "    \n",
    "    predictions_valid_dtc = model_dtc.predict(valid_features) \n",
    "    \n",
    "    # посчитаем качество модели на валидационной выборке\n",
    "    \n",
    "    result_dtc = accuracy_score(valid_target, predictions_valid_dtc)\n",
    "    \n",
    "    \n",
    "    if result_dtc > best_result_dtc:\n",
    "        best_result_dtc = result_dtc\n",
    "        best_depth_dtc = depth_dtc\n",
    "        \n",
    "print('Accuracy наилучшей модели на валидационной выборке:', best_result_dtc, 'глубина дерева -', best_depth_dtc)\n"
   ]
  },
  {
   "cell_type": "markdown",
   "metadata": {},
   "source": [
    "**3.2 Исследуем модель - _Случайный лес_.**"
   ]
  },
  {
   "cell_type": "code",
   "execution_count": 10,
   "metadata": {},
   "outputs": [
    {
     "name": "stdout",
     "output_type": "stream",
     "text": [
      "Accuracy наилучшей модели на валидационной выборке: 0.8087091757387247 глубина дерева - 8 количество деревьев -  40\n"
     ]
    }
   ],
   "source": [
    "best_result_rfr = 0\n",
    "best_est_rfr = 0\n",
    "best_depth_rfr = 0\n",
    "\n",
    "for est_rfr in range(1, 51):\n",
    "    for depth_rfr in range (1, 11):\n",
    "        \n",
    "        # инициализируем модель RandomForestClassifier \n",
    "        # с параметрами random_state=12345, n_estimators=est и max_depth=depth\n",
    "        \n",
    "        model_rfr = RandomForestClassifier(random_state=12345, n_estimators=est_rfr, max_depth=depth_rfr) \n",
    "        \n",
    "        # обучим модель на тренировочной выборке\n",
    "        \n",
    "        model_rfr.fit(train_features, train_target) \n",
    "        \n",
    "        # получим предсказания модели на валидационной выборке\n",
    "        \n",
    "        predictions_valid_rfr = model_rfr.predict(valid_features)\n",
    "        \n",
    "        # посчитаем качество модели на валидационной выборке\n",
    "        \n",
    "        result_rfr = accuracy_score(valid_target, predictions_valid_rfr)\n",
    "        \n",
    "    \n",
    "        if result_rfr > best_result_rfr:\n",
    "            best_result_rfr = result_rfr\n",
    "            best_depth_rfr = depth_rfr\n",
    "            best_est_rfr = est_rfr\n",
    "            \n",
    "            \n",
    "print('Accuracy наилучшей модели на валидационной выборке:', best_result_rfr, \n",
    "      'глубина дерева -', best_depth_rfr, 'количество деревьев - ', best_est_rfr\n",
    "     )"
   ]
  },
  {
   "cell_type": "code",
   "execution_count": 15,
   "metadata": {},
   "outputs": [
    {
     "name": "stdout",
     "output_type": "stream",
     "text": [
      "Accuracy наилучшей модели на валидационной выборке: 0.8087091757387247 глубина дерева - 8 количество деревьев -  40\n"
     ]
    }
   ],
   "source": [
    "print('Accuracy наилучшей модели на валидационной выборке:', best_result_rfr,\\\n",
    "      'глубина дерева -', best_depth_rfr, 'количество деревьев - ', best_est_rfr)"
   ]
  },
  {
   "cell_type": "markdown",
   "metadata": {},
   "source": [
    "**3.3 Исследуем модель - _Логистическая регрессия_.**"
   ]
  },
  {
   "cell_type": "code",
   "execution_count": 12,
   "metadata": {},
   "outputs": [
    {
     "name": "stdout",
     "output_type": "stream",
     "text": [
      "Accuracy наилучшей модели на валидационной выборке: 0.7107309486780715\n"
     ]
    }
   ],
   "source": [
    "# инициализируем модель LogisticRegression с параметрами random_state=12345, solver='lbfgs'и max_iter=1000\n",
    "\n",
    "model_lr = LogisticRegression(random_state=12345, solver='lbfgs', max_iter=1000)\n",
    "\n",
    "# обучим модель на тренировочной выборке\n",
    "\n",
    "model_lr.fit(train_features, train_target) \n",
    "\n",
    "# получим предсказания модели на валидационной выборке\n",
    "\n",
    "predictions_valid_lr = model_lr.predict(valid_features)\n",
    "\n",
    "# посчитаем качество модели на валидационной выборке\n",
    "\n",
    "result_lr = accuracy_score(valid_target, predictions_valid_lr)\n",
    "\n",
    "print('Accuracy наилучшей модели на валидационной выборке:', result_lr)"
   ]
  },
  {
   "cell_type": "markdown",
   "metadata": {},
   "source": [
    "**Вывод:**\n",
    "- Самая точная модель - **Случайный лес** - 80,8% правильных ответов;\n",
    "- Самый низкий результат у модели - **Логистическая регрессия** - 71% правильных ответов."
   ]
  },
  {
   "cell_type": "markdown",
   "metadata": {},
   "source": [
    "## Проверьте модель на тестовой выборке"
   ]
  },
  {
   "cell_type": "code",
   "execution_count": 13,
   "metadata": {},
   "outputs": [
    {
     "name": "stdout",
     "output_type": "stream",
     "text": [
      "Accuracy наилучшей модели на тестовой выборке: 0.8009331259720062\n"
     ]
    }
   ],
   "source": [
    "# проверим модель Случайный лес, т.к. она показала самый точный результат\n",
    "\n",
    "test_predictions = model_rfr.predict(test_features)\n",
    "test_accuracy = accuracy_score(test_target, test_predictions)\n",
    "\n",
    "print('Accuracy наилучшей модели на тестовой выборке:', test_accuracy)\n"
   ]
  },
  {
   "cell_type": "markdown",
   "metadata": {},
   "source": [
    "**Вывод:**\n",
    "- Точность модели **Случайный лес** на тестовой выборке = 80,1% и практически равна точности модели на валидационной выборке."
   ]
  },
  {
   "cell_type": "markdown",
   "metadata": {},
   "source": [
    "## (бонус) Проверьте модели на адекватность"
   ]
  },
  {
   "cell_type": "code",
   "execution_count": 14,
   "metadata": {},
   "outputs": [
    {
     "name": "stdout",
     "output_type": "stream",
     "text": [
      "Accuracy тривиальной модели: 0.7060653188180405\n"
     ]
    }
   ],
   "source": [
    "# проверим на модели DummyClassifier со стратегией most_frequent\n",
    "\n",
    "dummy_clf = DummyClassifier(random_state=12345, strategy='most_frequent')\n",
    "dummy_clf.fit(train_features, train_target)\n",
    "predictions_valid_dclf = dummy_clf.predict(valid_features)\n",
    "result_clf = accuracy_score(valid_target, predictions_valid_dclf)\n",
    "print('Accuracy тривиальной модели:', result_clf)"
   ]
  },
  {
   "cell_type": "markdown",
   "metadata": {},
   "source": [
    "**Вывод:**\n",
    "\n",
    "- Точность тривиальной модели - 70%, она ниже, чем у выбранной нами модели - **Случайный лес**.\n",
    "- Модель **Случайный лес** - адекватна."
   ]
  },
  {
   "cell_type": "markdown",
   "metadata": {},
   "source": [
    "## Общий вывод.\n",
    "**Изучена общая информация по таблице:**\n",
    "- В таблице 5 столбцов и 3214 строк;\n",
    "- Пропусков - нет, дубликатов - нет;\n",
    "- Предобработка данных не потребовалась; \n",
    "\n",
    "**Разбили данные на выборки:**\n",
    "- На обучающую (60%), валидационную (20%) и тестовую (20%) выборки;\n",
    "\n",
    "**Исследовали модели:**\n",
    "- Исследовали три модели - Решающее дерево, Случайный лес и Логистическую регрессию;\n",
    "- Самая точная модель - **Случайный лес** - 80,8% правильных ответов;\n",
    "- Самый низкий результат у модели - **Логистическая регрессия** - 71% правильных ответов.\n",
    "\n",
    "**Проверили модель на тестовой выборке:**\n",
    "- Точность модели **Случайный лес** на тестовой выборке = 80,1% и практически равна точности модели на валидационной выборке.\n",
    "\n",
    "**Проверили модель на адекватность:**\n",
    "- Точность тривиальной модели - 70%, она ниже, чем у выбранной нами модели - **Случайный лес**.\n",
    "- Модель **Случайный лес** - адекватна.\n",
    "\n",
    "\n"
   ]
  },
  {
   "cell_type": "markdown",
   "metadata": {},
   "source": [
    "## Чек-лист готовности проекта"
   ]
  },
  {
   "cell_type": "markdown",
   "metadata": {},
   "source": [
    "Поставьте 'x' в выполненных пунктах. Далее нажмите Shift+Enter."
   ]
  },
  {
   "cell_type": "markdown",
   "metadata": {},
   "source": [
    "- [x] Jupyter Notebook открыт\n",
    "- [ ] Весь код исполняется без ошибок\n",
    "- [ ] Ячейки с кодом расположены в порядке исполнения\n",
    "- [ ] Выполнено задание 1: данные загружены и изучены\n",
    "- [ ] Выполнено задание 2: данные разбиты на три выборки\n",
    "- [ ] Выполнено задание 3: проведено исследование моделей\n",
    "    - [ ] Рассмотрено больше одной модели\n",
    "    - [ ] Рассмотрено хотя бы 3 значения гипепараметров для какой-нибудь модели\n",
    "    - [ ] Написаны выводы по результатам исследования\n",
    "- [ ] Выполнено задание 3: Проведено тестирование\n",
    "- [ ] Удалось достичь accuracy не меньше 0.75\n"
   ]
  }
 ],
 "metadata": {
  "ExecuteTimeLog": [
   {
    "duration": 1400,
    "start_time": "2023-03-02T18:52:57.709Z"
   },
   {
    "duration": 9,
    "start_time": "2023-03-02T18:54:31.433Z"
   },
   {
    "duration": 67,
    "start_time": "2023-03-02T18:55:42.379Z"
   },
   {
    "duration": 20,
    "start_time": "2023-03-02T18:55:58.791Z"
   },
   {
    "duration": 181,
    "start_time": "2023-03-02T18:56:43.539Z"
   },
   {
    "duration": 8,
    "start_time": "2023-03-02T18:57:06.574Z"
   },
   {
    "duration": 54,
    "start_time": "2023-03-02T18:57:09.303Z"
   },
   {
    "duration": 7,
    "start_time": "2023-03-02T18:57:47.905Z"
   },
   {
    "duration": 62,
    "start_time": "2023-03-02T18:57:51.896Z"
   },
   {
    "duration": 1089,
    "start_time": "2023-03-03T11:50:38.926Z"
   },
   {
    "duration": 95,
    "start_time": "2023-03-03T11:54:15.370Z"
   },
   {
    "duration": 3,
    "start_time": "2023-03-03T11:54:18.944Z"
   },
   {
    "duration": 5,
    "start_time": "2023-03-03T11:54:18.955Z"
   },
   {
    "duration": 64,
    "start_time": "2023-03-03T11:54:18.962Z"
   },
   {
    "duration": 20,
    "start_time": "2023-03-03T11:54:19.028Z"
   },
   {
    "duration": 42,
    "start_time": "2023-03-03T11:54:19.049Z"
   },
   {
    "duration": 7,
    "start_time": "2023-03-03T11:54:21.752Z"
   },
   {
    "duration": 9,
    "start_time": "2023-03-03T11:55:46.358Z"
   },
   {
    "duration": 3,
    "start_time": "2023-03-03T11:56:04.905Z"
   },
   {
    "duration": 6,
    "start_time": "2023-03-03T11:56:09.617Z"
   },
   {
    "duration": 4,
    "start_time": "2023-03-03T11:56:35.200Z"
   },
   {
    "duration": 11,
    "start_time": "2023-03-03T11:57:06.806Z"
   },
   {
    "duration": 559,
    "start_time": "2023-03-03T11:57:22.148Z"
   },
   {
    "duration": 4,
    "start_time": "2023-03-03T11:57:24.682Z"
   },
   {
    "duration": 554,
    "start_time": "2023-03-03T11:57:28.248Z"
   },
   {
    "duration": 5,
    "start_time": "2023-03-03T11:57:29.191Z"
   },
   {
    "duration": 1111,
    "start_time": "2023-03-03T11:57:34.421Z"
   },
   {
    "duration": 7,
    "start_time": "2023-03-03T11:57:35.534Z"
   },
   {
    "duration": 45,
    "start_time": "2023-03-03T11:57:35.543Z"
   },
   {
    "duration": 26,
    "start_time": "2023-03-03T11:57:35.590Z"
   },
   {
    "duration": 54,
    "start_time": "2023-03-03T11:57:35.618Z"
   },
   {
    "duration": 7,
    "start_time": "2023-03-03T11:57:35.675Z"
   },
   {
    "duration": 607,
    "start_time": "2023-03-03T11:57:35.683Z"
   },
   {
    "duration": 4,
    "start_time": "2023-03-03T11:57:36.291Z"
   },
   {
    "duration": 4,
    "start_time": "2023-03-03T12:22:03.781Z"
   },
   {
    "duration": 191,
    "start_time": "2023-03-03T12:25:26.724Z"
   },
   {
    "duration": 85,
    "start_time": "2023-03-03T12:25:36.214Z"
   },
   {
    "duration": 10,
    "start_time": "2023-03-03T12:27:10.080Z"
   },
   {
    "duration": 5,
    "start_time": "2023-03-03T12:27:22.273Z"
   },
   {
    "duration": 5,
    "start_time": "2023-03-03T12:27:28.871Z"
   },
   {
    "duration": 10,
    "start_time": "2023-03-03T12:27:50.626Z"
   },
   {
    "duration": 8,
    "start_time": "2023-03-03T12:27:57.131Z"
   },
   {
    "duration": 4,
    "start_time": "2023-03-03T12:27:57.479Z"
   },
   {
    "duration": 7,
    "start_time": "2023-03-03T12:28:29.331Z"
   },
   {
    "duration": 4,
    "start_time": "2023-03-03T12:28:30.427Z"
   },
   {
    "duration": 5,
    "start_time": "2023-03-03T12:28:58.631Z"
   },
   {
    "duration": 5,
    "start_time": "2023-03-03T12:39:21.066Z"
   },
   {
    "duration": 5,
    "start_time": "2023-03-03T12:43:47.071Z"
   },
   {
    "duration": 75,
    "start_time": "2023-03-03T12:56:42.539Z"
   },
   {
    "duration": 9,
    "start_time": "2023-03-03T13:06:56.066Z"
   },
   {
    "duration": 3,
    "start_time": "2023-03-03T13:07:10.042Z"
   },
   {
    "duration": 89,
    "start_time": "2023-03-03T13:07:15.091Z"
   },
   {
    "duration": 386,
    "start_time": "2023-03-03T13:07:29.752Z"
   },
   {
    "duration": 76,
    "start_time": "2023-03-03T13:07:34.622Z"
   },
   {
    "duration": 78,
    "start_time": "2023-03-03T13:11:05.976Z"
   },
   {
    "duration": 89,
    "start_time": "2023-03-03T13:14:34.453Z"
   },
   {
    "duration": 17,
    "start_time": "2023-03-03T13:15:36.820Z"
   },
   {
    "duration": 84,
    "start_time": "2023-03-03T13:17:39.077Z"
   },
   {
    "duration": 1373,
    "start_time": "2023-03-03T13:18:18.208Z"
   },
   {
    "duration": 68,
    "start_time": "2023-03-03T13:18:24.029Z"
   },
   {
    "duration": 110,
    "start_time": "2023-03-03T13:18:27.634Z"
   },
   {
    "duration": 77,
    "start_time": "2023-03-03T13:20:14.045Z"
   },
   {
    "duration": 78,
    "start_time": "2023-03-03T13:20:23.839Z"
   },
   {
    "duration": 80,
    "start_time": "2023-03-03T13:23:15.917Z"
   },
   {
    "duration": 81,
    "start_time": "2023-03-03T13:23:34.768Z"
   },
   {
    "duration": 3,
    "start_time": "2023-03-03T13:24:55.483Z"
   },
   {
    "duration": 31,
    "start_time": "2023-03-03T13:28:30.686Z"
   },
   {
    "duration": 28,
    "start_time": "2023-03-03T13:28:54.293Z"
   },
   {
    "duration": 30,
    "start_time": "2023-03-03T13:29:19.878Z"
   },
   {
    "duration": 80,
    "start_time": "2023-03-03T13:30:43.383Z"
   },
   {
    "duration": 30,
    "start_time": "2023-03-03T13:31:17.641Z"
   },
   {
    "duration": 33,
    "start_time": "2023-03-03T13:34:15.993Z"
   },
   {
    "duration": 39,
    "start_time": "2023-03-03T13:41:07.099Z"
   },
   {
    "duration": 3,
    "start_time": "2023-03-03T13:43:43.564Z"
   },
   {
    "duration": 3,
    "start_time": "2023-03-03T13:44:04.950Z"
   },
   {
    "duration": 3810,
    "start_time": "2023-03-03T13:44:12.498Z"
   },
   {
    "duration": 1015,
    "start_time": "2023-03-03T13:51:29.524Z"
   },
   {
    "duration": 5,
    "start_time": "2023-03-03T13:51:30.541Z"
   },
   {
    "duration": 91,
    "start_time": "2023-03-03T13:51:30.547Z"
   },
   {
    "duration": 29,
    "start_time": "2023-03-03T13:51:30.640Z"
   },
   {
    "duration": 102,
    "start_time": "2023-03-03T13:51:30.671Z"
   },
   {
    "duration": 6,
    "start_time": "2023-03-03T13:51:30.774Z"
   },
   {
    "duration": 31,
    "start_time": "2023-03-03T13:51:30.781Z"
   },
   {
    "duration": 47,
    "start_time": "2023-03-03T13:51:30.813Z"
   },
   {
    "duration": 140,
    "start_time": "2023-03-03T13:51:30.867Z"
   },
   {
    "duration": 0,
    "start_time": "2023-03-03T13:51:31.009Z"
   },
   {
    "duration": 86,
    "start_time": "2023-03-03T13:52:22.301Z"
   },
   {
    "duration": 4497,
    "start_time": "2023-03-03T13:52:55.948Z"
   },
   {
    "duration": 38728,
    "start_time": "2023-03-03T13:54:15.493Z"
   },
   {
    "duration": 82,
    "start_time": "2023-03-03T13:54:54.223Z"
   },
   {
    "duration": 1059,
    "start_time": "2023-03-03T13:58:27.450Z"
   },
   {
    "duration": 5,
    "start_time": "2023-03-03T13:58:28.511Z"
   },
   {
    "duration": 33,
    "start_time": "2023-03-03T13:58:28.517Z"
   },
   {
    "duration": 18,
    "start_time": "2023-03-03T13:58:28.552Z"
   },
   {
    "duration": 39,
    "start_time": "2023-03-03T13:58:28.571Z"
   },
   {
    "duration": 4,
    "start_time": "2023-03-03T13:58:28.612Z"
   },
   {
    "duration": 3,
    "start_time": "2023-03-03T13:58:28.618Z"
   },
   {
    "duration": 32,
    "start_time": "2023-03-03T13:58:28.623Z"
   },
   {
    "duration": 84,
    "start_time": "2023-03-03T13:58:28.657Z"
   },
   {
    "duration": 38700,
    "start_time": "2023-03-03T13:58:28.743Z"
   },
   {
    "duration": 38750,
    "start_time": "2023-03-03T14:03:23.610Z"
   },
   {
    "duration": 98,
    "start_time": "2023-03-03T14:05:22.278Z"
   },
   {
    "duration": 39247,
    "start_time": "2023-03-03T14:05:35.763Z"
   },
   {
    "duration": 285,
    "start_time": "2023-03-03T14:11:52.975Z"
   },
   {
    "duration": 340,
    "start_time": "2023-03-03T14:19:00.715Z"
   },
   {
    "duration": 45,
    "start_time": "2023-03-03T15:57:55.712Z"
   },
   {
    "duration": 1065,
    "start_time": "2023-03-03T15:58:04.475Z"
   },
   {
    "duration": 5,
    "start_time": "2023-03-03T15:58:05.543Z"
   },
   {
    "duration": 163,
    "start_time": "2023-03-03T15:58:05.549Z"
   },
   {
    "duration": 17,
    "start_time": "2023-03-03T15:58:05.714Z"
   },
   {
    "duration": 46,
    "start_time": "2023-03-03T15:58:05.733Z"
   },
   {
    "duration": 11,
    "start_time": "2023-03-03T15:58:05.780Z"
   },
   {
    "duration": 6,
    "start_time": "2023-03-03T15:58:05.792Z"
   },
   {
    "duration": 5,
    "start_time": "2023-03-03T15:58:05.800Z"
   },
   {
    "duration": 98,
    "start_time": "2023-03-03T15:58:05.807Z"
   },
   {
    "duration": 41172,
    "start_time": "2023-03-03T15:58:05.907Z"
   },
   {
    "duration": 512,
    "start_time": "2023-03-03T15:58:47.080Z"
   },
   {
    "duration": 197,
    "start_time": "2023-03-03T15:58:47.595Z"
   },
   {
    "duration": 34,
    "start_time": "2023-03-03T15:58:56.382Z"
   },
   {
    "duration": 4,
    "start_time": "2023-03-03T16:13:03.466Z"
   },
   {
    "duration": 3,
    "start_time": "2023-03-03T16:14:23.401Z"
   },
   {
    "duration": 6,
    "start_time": "2023-03-03T16:21:38.698Z"
   },
   {
    "duration": 5,
    "start_time": "2023-03-03T16:21:49.284Z"
   },
   {
    "duration": 10,
    "start_time": "2023-03-03T16:22:15.998Z"
   },
   {
    "duration": 5,
    "start_time": "2023-03-03T16:22:32.978Z"
   },
   {
    "duration": 6,
    "start_time": "2023-03-03T16:22:41.091Z"
   },
   {
    "duration": 5,
    "start_time": "2023-03-03T16:29:05.517Z"
   },
   {
    "duration": 6,
    "start_time": "2023-03-03T16:30:05.026Z"
   },
   {
    "duration": 6,
    "start_time": "2023-03-03T16:30:44.996Z"
   },
   {
    "duration": 6,
    "start_time": "2023-03-03T16:34:36.011Z"
   },
   {
    "duration": 1086,
    "start_time": "2023-03-03T16:46:34.090Z"
   },
   {
    "duration": 5,
    "start_time": "2023-03-03T16:46:35.178Z"
   },
   {
    "duration": 46,
    "start_time": "2023-03-03T16:46:35.185Z"
   },
   {
    "duration": 17,
    "start_time": "2023-03-03T16:46:35.233Z"
   },
   {
    "duration": 40,
    "start_time": "2023-03-03T16:46:35.251Z"
   },
   {
    "duration": 5,
    "start_time": "2023-03-03T16:46:35.293Z"
   },
   {
    "duration": 11,
    "start_time": "2023-03-03T16:46:35.299Z"
   },
   {
    "duration": 25,
    "start_time": "2023-03-03T16:46:35.311Z"
   },
   {
    "duration": 138,
    "start_time": "2023-03-03T16:46:35.337Z"
   },
   {
    "duration": 40175,
    "start_time": "2023-03-03T16:46:35.477Z"
   },
   {
    "duration": 548,
    "start_time": "2023-03-03T16:47:15.653Z"
   },
   {
    "duration": 203,
    "start_time": "2023-03-03T16:47:16.203Z"
   },
   {
    "duration": 4,
    "start_time": "2023-03-03T16:47:16.408Z"
   },
   {
    "duration": 6,
    "start_time": "2023-03-03T16:53:04.090Z"
   },
   {
    "duration": 29,
    "start_time": "2023-03-03T16:53:06.796Z"
   },
   {
    "duration": 13,
    "start_time": "2023-03-03T16:53:07.101Z"
   },
   {
    "duration": 46,
    "start_time": "2023-03-03T16:53:08.490Z"
   },
   {
    "duration": 2078,
    "start_time": "2023-03-03T17:48:29.285Z"
   },
   {
    "duration": 7,
    "start_time": "2023-03-03T17:48:31.365Z"
   },
   {
    "duration": 189,
    "start_time": "2023-03-03T17:48:31.373Z"
   },
   {
    "duration": 18,
    "start_time": "2023-03-03T17:48:31.564Z"
   },
   {
    "duration": 60,
    "start_time": "2023-03-03T17:48:31.584Z"
   },
   {
    "duration": 5,
    "start_time": "2023-03-03T17:48:31.646Z"
   },
   {
    "duration": 20,
    "start_time": "2023-03-03T17:48:31.652Z"
   },
   {
    "duration": 18,
    "start_time": "2023-03-03T17:48:31.674Z"
   },
   {
    "duration": 100,
    "start_time": "2023-03-03T17:48:31.694Z"
   },
   {
    "duration": 40559,
    "start_time": "2023-03-03T17:48:31.796Z"
   },
   {
    "duration": 537,
    "start_time": "2023-03-03T17:49:12.357Z"
   },
   {
    "duration": 117,
    "start_time": "2023-03-03T17:49:12.896Z"
   },
   {
    "duration": 77,
    "start_time": "2023-03-03T17:49:13.015Z"
   },
   {
    "duration": 6,
    "start_time": "2023-03-03T18:08:13.062Z"
   },
   {
    "duration": 1025,
    "start_time": "2023-03-03T18:08:20.502Z"
   },
   {
    "duration": 5,
    "start_time": "2023-03-03T18:08:21.529Z"
   },
   {
    "duration": 39,
    "start_time": "2023-03-03T18:08:21.535Z"
   },
   {
    "duration": 17,
    "start_time": "2023-03-03T18:08:21.575Z"
   },
   {
    "duration": 43,
    "start_time": "2023-03-03T18:08:21.593Z"
   },
   {
    "duration": 6,
    "start_time": "2023-03-03T18:08:21.638Z"
   },
   {
    "duration": 7,
    "start_time": "2023-03-03T18:08:21.645Z"
   },
   {
    "duration": 7,
    "start_time": "2023-03-03T18:08:21.653Z"
   },
   {
    "duration": 85,
    "start_time": "2023-03-03T18:08:21.661Z"
   },
   {
    "duration": 29031,
    "start_time": "2023-03-03T18:08:21.748Z"
   },
   {
    "duration": 26,
    "start_time": "2023-03-03T18:08:50.780Z"
   },
   {
    "duration": 14,
    "start_time": "2023-03-03T18:08:50.807Z"
   },
   {
    "duration": 5,
    "start_time": "2023-03-03T18:08:50.823Z"
   },
   {
    "duration": 2,
    "start_time": "2023-03-03T18:11:19.971Z"
   },
   {
    "duration": 6,
    "start_time": "2023-03-03T18:11:19.976Z"
   },
   {
    "duration": 33,
    "start_time": "2023-03-03T18:11:19.984Z"
   },
   {
    "duration": 11,
    "start_time": "2023-03-03T18:11:20.019Z"
   },
   {
    "duration": 38,
    "start_time": "2023-03-03T18:11:20.032Z"
   },
   {
    "duration": 4,
    "start_time": "2023-03-03T18:11:20.072Z"
   },
   {
    "duration": 11,
    "start_time": "2023-03-03T18:11:20.078Z"
   },
   {
    "duration": 18,
    "start_time": "2023-03-03T18:11:20.090Z"
   },
   {
    "duration": 63,
    "start_time": "2023-03-03T18:11:20.110Z"
   },
   {
    "duration": 34,
    "start_time": "2023-03-03T18:11:48.966Z"
   },
   {
    "duration": 14,
    "start_time": "2023-03-03T18:11:49.003Z"
   },
   {
    "duration": 5,
    "start_time": "2023-03-03T18:11:49.018Z"
   },
   {
    "duration": 28876,
    "start_time": "2023-03-03T18:11:49.024Z"
   },
   {
    "duration": 76,
    "start_time": "2023-03-03T20:16:00.701Z"
   },
   {
    "duration": 1166,
    "start_time": "2023-03-03T20:16:06.355Z"
   },
   {
    "duration": 5,
    "start_time": "2023-03-03T20:16:07.523Z"
   },
   {
    "duration": 64,
    "start_time": "2023-03-03T20:16:07.529Z"
   },
   {
    "duration": 20,
    "start_time": "2023-03-03T20:16:07.595Z"
   },
   {
    "duration": 47,
    "start_time": "2023-03-03T20:16:07.617Z"
   },
   {
    "duration": 6,
    "start_time": "2023-03-03T20:16:07.666Z"
   },
   {
    "duration": 7,
    "start_time": "2023-03-03T20:16:07.673Z"
   },
   {
    "duration": 11,
    "start_time": "2023-03-03T20:16:07.681Z"
   },
   {
    "duration": 88,
    "start_time": "2023-03-03T20:16:07.694Z"
   },
   {
    "duration": 71,
    "start_time": "2023-03-03T20:16:07.784Z"
   },
   {
    "duration": 0,
    "start_time": "2023-03-03T20:16:07.857Z"
   },
   {
    "duration": 0,
    "start_time": "2023-03-03T20:16:07.858Z"
   },
   {
    "duration": 0,
    "start_time": "2023-03-03T20:16:07.859Z"
   },
   {
    "duration": 75,
    "start_time": "2023-03-03T20:16:20.113Z"
   },
   {
    "duration": 32322,
    "start_time": "2023-03-03T20:16:32.893Z"
   },
   {
    "duration": 22,
    "start_time": "2023-03-03T20:17:57.857Z"
   },
   {
    "duration": 13,
    "start_time": "2023-03-03T20:17:59.134Z"
   },
   {
    "duration": 5,
    "start_time": "2023-03-03T20:18:00.357Z"
   },
   {
    "duration": 93,
    "start_time": "2023-03-03T20:33:30.747Z"
   },
   {
    "duration": 73,
    "start_time": "2023-03-03T20:33:38.114Z"
   },
   {
    "duration": 70,
    "start_time": "2023-03-03T20:33:42.999Z"
   },
   {
    "duration": 72,
    "start_time": "2023-03-03T20:33:46.859Z"
   },
   {
    "duration": 69,
    "start_time": "2023-03-03T20:33:52.645Z"
   },
   {
    "duration": 78,
    "start_time": "2023-03-03T20:33:56.556Z"
   },
   {
    "duration": 65,
    "start_time": "2023-03-03T20:34:50.451Z"
   },
   {
    "duration": 75,
    "start_time": "2023-03-03T20:37:17.651Z"
   },
   {
    "duration": 67,
    "start_time": "2023-03-03T20:37:25.770Z"
   },
   {
    "duration": 72,
    "start_time": "2023-03-03T20:37:30.759Z"
   },
   {
    "duration": 73,
    "start_time": "2023-03-03T20:37:35.700Z"
   },
   {
    "duration": 32571,
    "start_time": "2023-03-03T20:37:40.557Z"
   },
   {
    "duration": 1090,
    "start_time": "2023-03-03T20:42:01.662Z"
   },
   {
    "duration": 5,
    "start_time": "2023-03-03T20:42:02.754Z"
   },
   {
    "duration": 37,
    "start_time": "2023-03-03T20:42:02.761Z"
   },
   {
    "duration": 17,
    "start_time": "2023-03-03T20:42:02.801Z"
   },
   {
    "duration": 45,
    "start_time": "2023-03-03T20:42:02.820Z"
   },
   {
    "duration": 6,
    "start_time": "2023-03-03T20:42:02.867Z"
   },
   {
    "duration": 3,
    "start_time": "2023-03-03T20:42:02.874Z"
   },
   {
    "duration": 9,
    "start_time": "2023-03-03T20:42:02.878Z"
   },
   {
    "duration": 90,
    "start_time": "2023-03-03T20:42:02.888Z"
   },
   {
    "duration": 32124,
    "start_time": "2023-03-03T20:42:02.980Z"
   },
   {
    "duration": 20,
    "start_time": "2023-03-03T20:42:35.106Z"
   },
   {
    "duration": 28,
    "start_time": "2023-03-03T20:42:35.127Z"
   },
   {
    "duration": 6,
    "start_time": "2023-03-03T20:42:35.156Z"
   },
   {
    "duration": 1235,
    "start_time": "2023-03-04T12:18:26.939Z"
   },
   {
    "duration": 7,
    "start_time": "2023-03-04T12:18:28.176Z"
   },
   {
    "duration": 86,
    "start_time": "2023-03-04T12:18:28.185Z"
   },
   {
    "duration": 37,
    "start_time": "2023-03-04T12:18:28.273Z"
   },
   {
    "duration": 57,
    "start_time": "2023-03-04T12:18:28.312Z"
   },
   {
    "duration": 6,
    "start_time": "2023-03-04T12:18:28.370Z"
   },
   {
    "duration": 12,
    "start_time": "2023-03-04T12:18:28.378Z"
   },
   {
    "duration": 17,
    "start_time": "2023-03-04T12:18:28.392Z"
   },
   {
    "duration": 96,
    "start_time": "2023-03-04T12:18:28.412Z"
   },
   {
    "duration": 34543,
    "start_time": "2023-03-04T12:18:28.510Z"
   },
   {
    "duration": 3,
    "start_time": "2023-03-04T12:19:03.054Z"
   },
   {
    "duration": 43,
    "start_time": "2023-03-04T12:19:03.059Z"
   },
   {
    "duration": 22,
    "start_time": "2023-03-04T12:19:03.104Z"
   },
   {
    "duration": 8,
    "start_time": "2023-03-04T12:19:03.133Z"
   },
   {
    "duration": 80,
    "start_time": "2023-03-04T12:20:03.254Z"
   },
   {
    "duration": 5,
    "start_time": "2023-03-04T12:25:16.952Z"
   },
   {
    "duration": 5,
    "start_time": "2023-03-04T12:25:25.415Z"
   },
   {
    "duration": 1187,
    "start_time": "2023-03-04T12:25:39.008Z"
   },
   {
    "duration": 7,
    "start_time": "2023-03-04T12:25:40.197Z"
   },
   {
    "duration": 62,
    "start_time": "2023-03-04T12:25:40.207Z"
   },
   {
    "duration": 26,
    "start_time": "2023-03-04T12:25:40.272Z"
   },
   {
    "duration": 72,
    "start_time": "2023-03-04T12:25:40.300Z"
   },
   {
    "duration": 7,
    "start_time": "2023-03-04T12:25:40.374Z"
   },
   {
    "duration": 4,
    "start_time": "2023-03-04T12:25:40.384Z"
   },
   {
    "duration": 7,
    "start_time": "2023-03-04T12:25:40.390Z"
   },
   {
    "duration": 110,
    "start_time": "2023-03-04T12:25:40.398Z"
   },
   {
    "duration": 35986,
    "start_time": "2023-03-04T12:25:40.511Z"
   },
   {
    "duration": 4,
    "start_time": "2023-03-04T12:26:16.499Z"
   },
   {
    "duration": 47,
    "start_time": "2023-03-04T12:26:16.504Z"
   },
   {
    "duration": 16,
    "start_time": "2023-03-04T12:26:16.555Z"
   },
   {
    "duration": 6,
    "start_time": "2023-03-04T12:26:16.572Z"
   },
   {
    "duration": 7,
    "start_time": "2023-03-04T12:26:29.944Z"
   }
  ],
  "kernelspec": {
   "display_name": "Python 3 (ipykernel)",
   "language": "python",
   "name": "python3"
  },
  "language_info": {
   "codemirror_mode": {
    "name": "ipython",
    "version": 3
   },
   "file_extension": ".py",
   "mimetype": "text/x-python",
   "name": "python",
   "nbconvert_exporter": "python",
   "pygments_lexer": "ipython3",
   "version": "3.9.13"
  },
  "toc": {
   "base_numbering": 1,
   "nav_menu": {},
   "number_sections": true,
   "sideBar": true,
   "skip_h1_title": true,
   "title_cell": "Table of Contents",
   "title_sidebar": "Contents",
   "toc_cell": false,
   "toc_position": {
    "height": "calc(100% - 180px)",
    "left": "10px",
    "top": "150px",
    "width": "165px"
   },
   "toc_section_display": true,
   "toc_window_display": true
  }
 },
 "nbformat": 4,
 "nbformat_minor": 2
}
